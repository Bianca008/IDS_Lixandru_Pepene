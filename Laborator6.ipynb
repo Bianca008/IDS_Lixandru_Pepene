{
 "cells": [
  {
   "cell_type": "markdown",
   "metadata": {},
   "source": [
    "<font color = Magenta> _Lixandru Andreea-Bianca 382\n",
    " <br>   Pepene Adina-Florentina 382_"
   ]
  },
  {
   "cell_type": "markdown",
   "metadata": {},
   "source": [
    "# Laborator 6\n",
    "\n",
    "Versiunea 2020-04-01"
   ]
  },
  {
   "cell_type": "markdown",
   "metadata": {},
   "source": [
    "## Modele de clasificare\n",
    "\n",
    "Folositi 4 seturi de date pentru probleme de clasificare, plecand de la repository-urile specificate in Cursul 5; de exemplu, [ics.uci.edu](http://archive.ics.uci.edu/ml/datasets.php?format=mat&task=cla&att=&area=&numAtt=&numIns=&type=mvar&sort=nameUp&view=table). Cel putin doua seturi de date sa fie cu valori lipsa. \n",
    "\n",
    "\n",
    "1. (20 puncte) Aplicati o metoda de missing value imputation, unde este cazul; justificati si documentati metoda folosita.\n",
    "1. (numar de modele * numar de seturi de date \\* 1 punct = 20 de puncte) Pentru fiecare set de date aplicati 5 modele de clasificare din scikit learn. Pentru fiecare raportati: acuratete, scorul F1 - a se vedea [sklearn.metrics](http://scikit-learn.org/stable/modules/classes.html#module-sklearn.metrics) - folosind 5 fold cross validation. Raportati mediile rezultatelor atat pentru fold-urile de antrenare, cat si pentru cele de testare. Rularile se vor face cu valori fixate ale hiperparametrilor. \n",
    "1. (numar modele * 4 puncte = 20 puncte) Documentati in jupyter notebook fiecare din modelele folosite, in limba romana. Daca acelasi algoritm e folosit pentru mai multe seturi de date, puteti face o sectiune separata cu documentarea algoritmilor + trimitere la algoritm. \n",
    "1. (numar de modele * numar de seturi de date * 1 punct = 20 de puncte) Raportati performanta fiecarui model, folosind 5 fold cross validation. Pentru fiecare din cele 5 rulari, cautati hiperparametrii optimi folosind 4-fold cross validation. Performanta modelului va fi raportata ca medie a celor  5 rulari. \n",
    "    *Observatie:* la fiecare din cele 5 rulari, hiperparametrii optimi pot diferi, din cauza datelor utilizate pentru antrenare/validare.  \n",
    "\n",
    "Se acorda 20 de puncte din oficiu. "
   ]
  },
  {
   "cell_type": "markdown",
   "metadata": {},
   "source": [
    "Exemple de modele de clasificare:\n",
    "1. [Multi-layer Perceptron classifier](https://scikit-learn.org/stable/modules/generated/sklearn.neural_network.MLPClassifier.html#sklearn.neural_network.MLPClassifier)\n",
    "1. [KNN](https://scikit-learn.org/stable/modules/generated/sklearn.neighbors.KNeighborsClassifier.html#sklearn.neighbors.KNeighborsClassifier)\n",
    "1. [SVM](https://scikit-learn.org/stable/modules/generated/sklearn.svm.SVC.html#sklearn.svm.SVC)\n",
    "1. [Gaussian processes](https://scikit-learn.org/stable/modules/generated/sklearn.gaussian_process.GaussianProcessClassifier.html#sklearn.gaussian_process.GaussianProcessClassifier)\n",
    "1. [RBF](https://scikit-learn.org/stable/modules/generated/sklearn.gaussian_process.kernels.RBF.html#sklearn.gaussian_process.kernels.RBF)\n",
    "1. [Decision tree](https://scikit-learn.org/stable/modules/generated/sklearn.tree.DecisionTreeClassifier.html#sklearn.tree.DecisionTreeClassifier)\n",
    "1. [Random forest](https://scikit-learn.org/stable/modules/generated/sklearn.ensemble.RandomForestClassifier.html#sklearn.ensemble.RandomForestClassifier)\n",
    "1. [Gaussian Naive bayes](https://scikit-learn.org/stable/modules/generated/sklearn.naive_bayes.GaussianNB.html#sklearn.naive_bayes.GaussianNB) "
   ]
  },
  {
   "cell_type": "markdown",
   "metadata": {},
   "source": [
    "*Predare:* \n",
    "1. Fiecare student va depune pe site-ul de elearning fisier Jupyter notebook sau arhiva cu astfel de fisiere; \n",
    "1. In fiecare fisier se specifica numele celor doi studenti care au lucra in echipa. \n",
    "1. Predarea se face in saptamana 13-17 aprilie 2020\n",
    "1. Revedeti formele ulterioare ale acestui document pentru precizari despre: continutul rezultatelor raportate, modalitate de notare."
   ]
  },
  {
   "cell_type": "markdown",
   "metadata": {},
   "source": [
    "# <font color= Magenta> Rezolvare"
   ]
  },
  {
   "cell_type": "markdown",
   "metadata": {},
   "source": [
    "<font color=blue>Ex1:</font> Aplicati o metoda de missing value imputation, unde este cazul; justificati si documentati metoda folosita.\n",
    "<br>\n",
    "><br>Metode posibile:\n",
    "<br>1. Eliminarea liniilor care contin valori nan.\n",
    "<br>2. Eliminarea coloanelor care contin nan.\n",
    "<br>3. Umplerea valorilor nan cu:\n",
    "> -> o valoare constanta\n",
    "><br>-> copierea ultimei valori cunoscute(ffill)\n",
    "><br>-> umplere 'inapoi'(bfill)\n",
    "><br>-> o valoare calculata (ex: media)"
   ]
  },
  {
   "cell_type": "markdown",
   "metadata": {},
   "source": [
    "Citim seturile de date si ne uitam care dintre ele au valori lipsa."
   ]
  },
  {
   "cell_type": "code",
   "execution_count": 1,
   "metadata": {},
   "outputs": [],
   "source": [
    "import pandas as pd \n",
    "import numpy as np\n",
    "from sklearn.preprocessing import MinMaxScaler\n",
    "from sklearn.model_selection import GridSearchCV\n",
    "from sklearn.metrics import accuracy_score\n",
    "from sklearn.model_selection import cross_val_score\n",
    "from sklearn.impute import KNNImputer\n",
    "from sklearn.tree import DecisionTreeClassifier\n",
    "from sklearn.model_selection import cross_validate\n",
    "from sklearn.ensemble import RandomForestClassifier\n",
    "from sklearn.neighbors import KNeighborsClassifier\n",
    "from sklearn.model_selection import train_test_split\n",
    "from sklearn.svm import SVC\n",
    "from sklearn.neural_network import MLPClassifier\n",
    "from sklearn.gaussian_process import GaussianProcessClassifier\n",
    "from sklearn.naive_bayes import GaussianNB"
   ]
  },
  {
   "cell_type": "code",
   "execution_count": 2,
   "metadata": {},
   "outputs": [
    {
     "data": {
      "text/html": [
       "<div>\n",
       "<style scoped>\n",
       "    .dataframe tbody tr th:only-of-type {\n",
       "        vertical-align: middle;\n",
       "    }\n",
       "\n",
       "    .dataframe tbody tr th {\n",
       "        vertical-align: top;\n",
       "    }\n",
       "\n",
       "    .dataframe thead th {\n",
       "        text-align: right;\n",
       "    }\n",
       "</style>\n",
       "<table border=\"1\" class=\"dataframe\">\n",
       "  <thead>\n",
       "    <tr style=\"text-align: right;\">\n",
       "      <th></th>\n",
       "      <th>mcg</th>\n",
       "      <th>gvh</th>\n",
       "      <th>alm</th>\n",
       "      <th>mit</th>\n",
       "      <th>erl</th>\n",
       "      <th>pox</th>\n",
       "      <th>vac</th>\n",
       "      <th>nuc</th>\n",
       "      <th>class</th>\n",
       "    </tr>\n",
       "  </thead>\n",
       "  <tbody>\n",
       "    <tr>\n",
       "      <th>ADT1_YEAST</th>\n",
       "      <td>0.58</td>\n",
       "      <td>0.61</td>\n",
       "      <td>0.47</td>\n",
       "      <td>0.13</td>\n",
       "      <td>0.5</td>\n",
       "      <td>0.0</td>\n",
       "      <td>0.48</td>\n",
       "      <td>0.22</td>\n",
       "      <td>MIT</td>\n",
       "    </tr>\n",
       "    <tr>\n",
       "      <th>ADT2_YEAST</th>\n",
       "      <td>0.43</td>\n",
       "      <td>0.67</td>\n",
       "      <td>0.48</td>\n",
       "      <td>0.27</td>\n",
       "      <td>0.5</td>\n",
       "      <td>0.0</td>\n",
       "      <td>0.53</td>\n",
       "      <td>0.22</td>\n",
       "      <td>MIT</td>\n",
       "    </tr>\n",
       "    <tr>\n",
       "      <th>ADT3_YEAST</th>\n",
       "      <td>0.64</td>\n",
       "      <td>0.62</td>\n",
       "      <td>0.49</td>\n",
       "      <td>0.15</td>\n",
       "      <td>0.5</td>\n",
       "      <td>0.0</td>\n",
       "      <td>0.53</td>\n",
       "      <td>0.22</td>\n",
       "      <td>MIT</td>\n",
       "    </tr>\n",
       "    <tr>\n",
       "      <th>AAR2_YEAST</th>\n",
       "      <td>0.58</td>\n",
       "      <td>0.44</td>\n",
       "      <td>0.57</td>\n",
       "      <td>0.13</td>\n",
       "      <td>0.5</td>\n",
       "      <td>0.0</td>\n",
       "      <td>0.54</td>\n",
       "      <td>0.22</td>\n",
       "      <td>NUC</td>\n",
       "    </tr>\n",
       "    <tr>\n",
       "      <th>AATM_YEAST</th>\n",
       "      <td>0.42</td>\n",
       "      <td>0.44</td>\n",
       "      <td>0.48</td>\n",
       "      <td>0.54</td>\n",
       "      <td>0.5</td>\n",
       "      <td>0.0</td>\n",
       "      <td>0.48</td>\n",
       "      <td>0.22</td>\n",
       "      <td>MIT</td>\n",
       "    </tr>\n",
       "  </tbody>\n",
       "</table>\n",
       "</div>"
      ],
      "text/plain": [
       "             mcg   gvh   alm   mit  erl  pox   vac   nuc class\n",
       "ADT1_YEAST  0.58  0.61  0.47  0.13  0.5  0.0  0.48  0.22   MIT\n",
       "ADT2_YEAST  0.43  0.67  0.48  0.27  0.5  0.0  0.53  0.22   MIT\n",
       "ADT3_YEAST  0.64  0.62  0.49  0.15  0.5  0.0  0.53  0.22   MIT\n",
       "AAR2_YEAST  0.58  0.44  0.57  0.13  0.5  0.0  0.54  0.22   NUC\n",
       "AATM_YEAST  0.42  0.44  0.48  0.54  0.5  0.0  0.48  0.22   MIT"
      ]
     },
     "execution_count": 2,
     "metadata": {},
     "output_type": "execute_result"
    }
   ],
   "source": [
    "names_yeast = [\"mcg\", \"gvh\", \"alm\", \"mit\", \"erl\", \"pox\", \"vac\", \"nuc\", \"class\"]\n",
    "\n",
    "df_yeast = pd.read_csv('./data/yeast/yeast.data', sep=r\" +\", engine=\"python\", names=names_yeast)\n",
    "\n",
    "df_yeast.head()"
   ]
  },
  {
   "cell_type": "code",
   "execution_count": 3,
   "metadata": {},
   "outputs": [
    {
     "name": "stdout",
     "output_type": "stream",
     "text": [
      "<class 'pandas.core.frame.DataFrame'>\n",
      "Index: 1484 entries, ADT1_YEAST to G6PD_YEAST\n",
      "Data columns (total 9 columns):\n",
      " #   Column  Non-Null Count  Dtype  \n",
      "---  ------  --------------  -----  \n",
      " 0   mcg     1484 non-null   float64\n",
      " 1   gvh     1484 non-null   float64\n",
      " 2   alm     1484 non-null   float64\n",
      " 3   mit     1484 non-null   float64\n",
      " 4   erl     1484 non-null   float64\n",
      " 5   pox     1484 non-null   float64\n",
      " 6   vac     1484 non-null   float64\n",
      " 7   nuc     1484 non-null   float64\n",
      " 8   class   1484 non-null   object \n",
      "dtypes: float64(8), object(1)\n",
      "memory usage: 115.9+ KB\n"
     ]
    }
   ],
   "source": [
    "df_yeast.info()"
   ]
  },
  {
   "cell_type": "code",
   "execution_count": 4,
   "metadata": {},
   "outputs": [
    {
     "data": {
      "text/html": [
       "<div>\n",
       "<style scoped>\n",
       "    .dataframe tbody tr th:only-of-type {\n",
       "        vertical-align: middle;\n",
       "    }\n",
       "\n",
       "    .dataframe tbody tr th {\n",
       "        vertical-align: top;\n",
       "    }\n",
       "\n",
       "    .dataframe thead th {\n",
       "        text-align: right;\n",
       "    }\n",
       "</style>\n",
       "<table border=\"1\" class=\"dataframe\">\n",
       "  <thead>\n",
       "    <tr style=\"text-align: right;\">\n",
       "      <th></th>\n",
       "      <th>mcg</th>\n",
       "      <th>gvh</th>\n",
       "      <th>alm</th>\n",
       "      <th>mit</th>\n",
       "      <th>erl</th>\n",
       "      <th>pox</th>\n",
       "      <th>vac</th>\n",
       "      <th>nuc</th>\n",
       "    </tr>\n",
       "  </thead>\n",
       "  <tbody>\n",
       "    <tr>\n",
       "      <th>ADT1_YEAST</th>\n",
       "      <td>0.58</td>\n",
       "      <td>0.61</td>\n",
       "      <td>0.47</td>\n",
       "      <td>0.13</td>\n",
       "      <td>0.5</td>\n",
       "      <td>0.0</td>\n",
       "      <td>0.48</td>\n",
       "      <td>0.22</td>\n",
       "    </tr>\n",
       "    <tr>\n",
       "      <th>ADT2_YEAST</th>\n",
       "      <td>0.43</td>\n",
       "      <td>0.67</td>\n",
       "      <td>0.48</td>\n",
       "      <td>0.27</td>\n",
       "      <td>0.5</td>\n",
       "      <td>0.0</td>\n",
       "      <td>0.53</td>\n",
       "      <td>0.22</td>\n",
       "    </tr>\n",
       "    <tr>\n",
       "      <th>ADT3_YEAST</th>\n",
       "      <td>0.64</td>\n",
       "      <td>0.62</td>\n",
       "      <td>0.49</td>\n",
       "      <td>0.15</td>\n",
       "      <td>0.5</td>\n",
       "      <td>0.0</td>\n",
       "      <td>0.53</td>\n",
       "      <td>0.22</td>\n",
       "    </tr>\n",
       "    <tr>\n",
       "      <th>AAR2_YEAST</th>\n",
       "      <td>0.58</td>\n",
       "      <td>0.44</td>\n",
       "      <td>0.57</td>\n",
       "      <td>0.13</td>\n",
       "      <td>0.5</td>\n",
       "      <td>0.0</td>\n",
       "      <td>0.54</td>\n",
       "      <td>0.22</td>\n",
       "    </tr>\n",
       "    <tr>\n",
       "      <th>AATM_YEAST</th>\n",
       "      <td>0.42</td>\n",
       "      <td>0.44</td>\n",
       "      <td>0.48</td>\n",
       "      <td>0.54</td>\n",
       "      <td>0.5</td>\n",
       "      <td>0.0</td>\n",
       "      <td>0.48</td>\n",
       "      <td>0.22</td>\n",
       "    </tr>\n",
       "  </tbody>\n",
       "</table>\n",
       "</div>"
      ],
      "text/plain": [
       "             mcg   gvh   alm   mit  erl  pox   vac   nuc\n",
       "ADT1_YEAST  0.58  0.61  0.47  0.13  0.5  0.0  0.48  0.22\n",
       "ADT2_YEAST  0.43  0.67  0.48  0.27  0.5  0.0  0.53  0.22\n",
       "ADT3_YEAST  0.64  0.62  0.49  0.15  0.5  0.0  0.53  0.22\n",
       "AAR2_YEAST  0.58  0.44  0.57  0.13  0.5  0.0  0.54  0.22\n",
       "AATM_YEAST  0.42  0.44  0.48  0.54  0.5  0.0  0.48  0.22"
      ]
     },
     "execution_count": 4,
     "metadata": {},
     "output_type": "execute_result"
    }
   ],
   "source": [
    "x_yeast = df_yeast[[\"mcg\", \"gvh\", \"alm\", \"mit\", \"erl\", \"pox\", \"vac\", \"nuc\"]]\n",
    "y_yeast = df_yeast[\"class\"]\n",
    "\n",
    "x_yeast.head()"
   ]
  },
  {
   "cell_type": "code",
   "execution_count": 5,
   "metadata": {},
   "outputs": [
    {
     "data": {
      "text/plain": [
       "ADT1_YEAST    MIT\n",
       "ADT2_YEAST    MIT\n",
       "ADT3_YEAST    MIT\n",
       "AAR2_YEAST    NUC\n",
       "AATM_YEAST    MIT\n",
       "Name: class, dtype: object"
      ]
     },
     "execution_count": 5,
     "metadata": {},
     "output_type": "execute_result"
    }
   ],
   "source": [
    "y_yeast.head()"
   ]
  },
  {
   "cell_type": "code",
   "execution_count": 6,
   "metadata": {},
   "outputs": [
    {
     "data": {
      "text/html": [
       "<div>\n",
       "<style scoped>\n",
       "    .dataframe tbody tr th:only-of-type {\n",
       "        vertical-align: middle;\n",
       "    }\n",
       "\n",
       "    .dataframe tbody tr th {\n",
       "        vertical-align: top;\n",
       "    }\n",
       "\n",
       "    .dataframe thead th {\n",
       "        text-align: right;\n",
       "    }\n",
       "</style>\n",
       "<table border=\"1\" class=\"dataframe\">\n",
       "  <thead>\n",
       "    <tr style=\"text-align: right;\">\n",
       "      <th></th>\n",
       "      <th>fixed acidity</th>\n",
       "      <th>volatile acidity</th>\n",
       "      <th>citric acid</th>\n",
       "      <th>residual sugar</th>\n",
       "      <th>chlorides</th>\n",
       "      <th>free sulfur dioxide</th>\n",
       "      <th>total sulfur dioxide</th>\n",
       "      <th>density</th>\n",
       "      <th>pH</th>\n",
       "      <th>sulphates</th>\n",
       "      <th>alcohol</th>\n",
       "      <th>quality</th>\n",
       "    </tr>\n",
       "  </thead>\n",
       "  <tbody>\n",
       "    <tr>\n",
       "      <th>0</th>\n",
       "      <td>7.4</td>\n",
       "      <td>0.70</td>\n",
       "      <td>0.00</td>\n",
       "      <td>1.9</td>\n",
       "      <td>0.076</td>\n",
       "      <td>11.0</td>\n",
       "      <td>34.0</td>\n",
       "      <td>0.9978</td>\n",
       "      <td>3.51</td>\n",
       "      <td>0.56</td>\n",
       "      <td>9.4</td>\n",
       "      <td>5</td>\n",
       "    </tr>\n",
       "    <tr>\n",
       "      <th>1</th>\n",
       "      <td>7.8</td>\n",
       "      <td>0.88</td>\n",
       "      <td>0.00</td>\n",
       "      <td>2.6</td>\n",
       "      <td>0.098</td>\n",
       "      <td>25.0</td>\n",
       "      <td>67.0</td>\n",
       "      <td>0.9968</td>\n",
       "      <td>3.20</td>\n",
       "      <td>0.68</td>\n",
       "      <td>9.8</td>\n",
       "      <td>5</td>\n",
       "    </tr>\n",
       "    <tr>\n",
       "      <th>2</th>\n",
       "      <td>7.8</td>\n",
       "      <td>0.76</td>\n",
       "      <td>0.04</td>\n",
       "      <td>2.3</td>\n",
       "      <td>0.092</td>\n",
       "      <td>15.0</td>\n",
       "      <td>54.0</td>\n",
       "      <td>0.9970</td>\n",
       "      <td>3.26</td>\n",
       "      <td>0.65</td>\n",
       "      <td>9.8</td>\n",
       "      <td>5</td>\n",
       "    </tr>\n",
       "    <tr>\n",
       "      <th>3</th>\n",
       "      <td>11.2</td>\n",
       "      <td>0.28</td>\n",
       "      <td>0.56</td>\n",
       "      <td>1.9</td>\n",
       "      <td>0.075</td>\n",
       "      <td>17.0</td>\n",
       "      <td>60.0</td>\n",
       "      <td>0.9980</td>\n",
       "      <td>3.16</td>\n",
       "      <td>0.58</td>\n",
       "      <td>9.8</td>\n",
       "      <td>6</td>\n",
       "    </tr>\n",
       "    <tr>\n",
       "      <th>4</th>\n",
       "      <td>7.4</td>\n",
       "      <td>0.70</td>\n",
       "      <td>0.00</td>\n",
       "      <td>1.9</td>\n",
       "      <td>0.076</td>\n",
       "      <td>11.0</td>\n",
       "      <td>34.0</td>\n",
       "      <td>0.9978</td>\n",
       "      <td>3.51</td>\n",
       "      <td>0.56</td>\n",
       "      <td>9.4</td>\n",
       "      <td>5</td>\n",
       "    </tr>\n",
       "  </tbody>\n",
       "</table>\n",
       "</div>"
      ],
      "text/plain": [
       "   fixed acidity  volatile acidity  citric acid  residual sugar  chlorides  \\\n",
       "0            7.4              0.70         0.00             1.9      0.076   \n",
       "1            7.8              0.88         0.00             2.6      0.098   \n",
       "2            7.8              0.76         0.04             2.3      0.092   \n",
       "3           11.2              0.28         0.56             1.9      0.075   \n",
       "4            7.4              0.70         0.00             1.9      0.076   \n",
       "\n",
       "   free sulfur dioxide  total sulfur dioxide  density    pH  sulphates  \\\n",
       "0                 11.0                  34.0   0.9978  3.51       0.56   \n",
       "1                 25.0                  67.0   0.9968  3.20       0.68   \n",
       "2                 15.0                  54.0   0.9970  3.26       0.65   \n",
       "3                 17.0                  60.0   0.9980  3.16       0.58   \n",
       "4                 11.0                  34.0   0.9978  3.51       0.56   \n",
       "\n",
       "   alcohol  quality  \n",
       "0      9.4        5  \n",
       "1      9.8        5  \n",
       "2      9.8        5  \n",
       "3      9.8        6  \n",
       "4      9.4        5  "
      ]
     },
     "execution_count": 6,
     "metadata": {},
     "output_type": "execute_result"
    }
   ],
   "source": [
    "df_wine = pd.read_csv('./data/wine/winequality-red.csv', sep=';')\n",
    "\n",
    "df_wine.head()"
   ]
  },
  {
   "cell_type": "code",
   "execution_count": 7,
   "metadata": {},
   "outputs": [
    {
     "name": "stdout",
     "output_type": "stream",
     "text": [
      "<class 'pandas.core.frame.DataFrame'>\n",
      "RangeIndex: 1599 entries, 0 to 1598\n",
      "Data columns (total 12 columns):\n",
      " #   Column                Non-Null Count  Dtype  \n",
      "---  ------                --------------  -----  \n",
      " 0   fixed acidity         1599 non-null   float64\n",
      " 1   volatile acidity      1599 non-null   float64\n",
      " 2   citric acid           1599 non-null   float64\n",
      " 3   residual sugar        1599 non-null   float64\n",
      " 4   chlorides             1599 non-null   float64\n",
      " 5   free sulfur dioxide   1599 non-null   float64\n",
      " 6   total sulfur dioxide  1599 non-null   float64\n",
      " 7   density               1599 non-null   float64\n",
      " 8   pH                    1599 non-null   float64\n",
      " 9   sulphates             1599 non-null   float64\n",
      " 10  alcohol               1599 non-null   float64\n",
      " 11  quality               1599 non-null   int64  \n",
      "dtypes: float64(11), int64(1)\n",
      "memory usage: 150.0 KB\n"
     ]
    }
   ],
   "source": [
    "df_wine.info()"
   ]
  },
  {
   "cell_type": "code",
   "execution_count": 8,
   "metadata": {},
   "outputs": [
    {
     "data": {
      "text/html": [
       "<div>\n",
       "<style scoped>\n",
       "    .dataframe tbody tr th:only-of-type {\n",
       "        vertical-align: middle;\n",
       "    }\n",
       "\n",
       "    .dataframe tbody tr th {\n",
       "        vertical-align: top;\n",
       "    }\n",
       "\n",
       "    .dataframe thead th {\n",
       "        text-align: right;\n",
       "    }\n",
       "</style>\n",
       "<table border=\"1\" class=\"dataframe\">\n",
       "  <thead>\n",
       "    <tr style=\"text-align: right;\">\n",
       "      <th></th>\n",
       "      <th>fixed acidity</th>\n",
       "      <th>volatile acidity</th>\n",
       "      <th>citric acid</th>\n",
       "      <th>residual sugar</th>\n",
       "      <th>chlorides</th>\n",
       "      <th>free sulfur dioxide</th>\n",
       "      <th>total sulfur dioxide</th>\n",
       "      <th>density</th>\n",
       "      <th>pH</th>\n",
       "      <th>sulphates</th>\n",
       "      <th>alcohol</th>\n",
       "    </tr>\n",
       "  </thead>\n",
       "  <tbody>\n",
       "    <tr>\n",
       "      <th>0</th>\n",
       "      <td>7.4</td>\n",
       "      <td>0.70</td>\n",
       "      <td>0.00</td>\n",
       "      <td>1.9</td>\n",
       "      <td>0.076</td>\n",
       "      <td>11.0</td>\n",
       "      <td>34.0</td>\n",
       "      <td>0.9978</td>\n",
       "      <td>3.51</td>\n",
       "      <td>0.56</td>\n",
       "      <td>9.4</td>\n",
       "    </tr>\n",
       "    <tr>\n",
       "      <th>1</th>\n",
       "      <td>7.8</td>\n",
       "      <td>0.88</td>\n",
       "      <td>0.00</td>\n",
       "      <td>2.6</td>\n",
       "      <td>0.098</td>\n",
       "      <td>25.0</td>\n",
       "      <td>67.0</td>\n",
       "      <td>0.9968</td>\n",
       "      <td>3.20</td>\n",
       "      <td>0.68</td>\n",
       "      <td>9.8</td>\n",
       "    </tr>\n",
       "    <tr>\n",
       "      <th>2</th>\n",
       "      <td>7.8</td>\n",
       "      <td>0.76</td>\n",
       "      <td>0.04</td>\n",
       "      <td>2.3</td>\n",
       "      <td>0.092</td>\n",
       "      <td>15.0</td>\n",
       "      <td>54.0</td>\n",
       "      <td>0.9970</td>\n",
       "      <td>3.26</td>\n",
       "      <td>0.65</td>\n",
       "      <td>9.8</td>\n",
       "    </tr>\n",
       "    <tr>\n",
       "      <th>3</th>\n",
       "      <td>11.2</td>\n",
       "      <td>0.28</td>\n",
       "      <td>0.56</td>\n",
       "      <td>1.9</td>\n",
       "      <td>0.075</td>\n",
       "      <td>17.0</td>\n",
       "      <td>60.0</td>\n",
       "      <td>0.9980</td>\n",
       "      <td>3.16</td>\n",
       "      <td>0.58</td>\n",
       "      <td>9.8</td>\n",
       "    </tr>\n",
       "    <tr>\n",
       "      <th>4</th>\n",
       "      <td>7.4</td>\n",
       "      <td>0.70</td>\n",
       "      <td>0.00</td>\n",
       "      <td>1.9</td>\n",
       "      <td>0.076</td>\n",
       "      <td>11.0</td>\n",
       "      <td>34.0</td>\n",
       "      <td>0.9978</td>\n",
       "      <td>3.51</td>\n",
       "      <td>0.56</td>\n",
       "      <td>9.4</td>\n",
       "    </tr>\n",
       "  </tbody>\n",
       "</table>\n",
       "</div>"
      ],
      "text/plain": [
       "   fixed acidity  volatile acidity  citric acid  residual sugar  chlorides  \\\n",
       "0            7.4              0.70         0.00             1.9      0.076   \n",
       "1            7.8              0.88         0.00             2.6      0.098   \n",
       "2            7.8              0.76         0.04             2.3      0.092   \n",
       "3           11.2              0.28         0.56             1.9      0.075   \n",
       "4            7.4              0.70         0.00             1.9      0.076   \n",
       "\n",
       "   free sulfur dioxide  total sulfur dioxide  density    pH  sulphates  \\\n",
       "0                 11.0                  34.0   0.9978  3.51       0.56   \n",
       "1                 25.0                  67.0   0.9968  3.20       0.68   \n",
       "2                 15.0                  54.0   0.9970  3.26       0.65   \n",
       "3                 17.0                  60.0   0.9980  3.16       0.58   \n",
       "4                 11.0                  34.0   0.9978  3.51       0.56   \n",
       "\n",
       "   alcohol  \n",
       "0      9.4  \n",
       "1      9.8  \n",
       "2      9.8  \n",
       "3      9.8  \n",
       "4      9.4  "
      ]
     },
     "execution_count": 8,
     "metadata": {},
     "output_type": "execute_result"
    }
   ],
   "source": [
    "x_wine = df_wine [[\"fixed acidity\", \"volatile acidity\", \"citric acid\", \"residual sugar\", \"chlorides\", \n",
    "                   \"free sulfur dioxide\", \"total sulfur dioxide\", \"density\", \"pH\", \"sulphates\", \"alcohol\"]]\n",
    "y_wine = df_wine[\"quality\"]\n",
    "\n",
    "x_wine.head()"
   ]
  },
  {
   "cell_type": "code",
   "execution_count": 9,
   "metadata": {},
   "outputs": [
    {
     "data": {
      "text/plain": [
       "0    5\n",
       "1    5\n",
       "2    5\n",
       "3    6\n",
       "4    5\n",
       "Name: quality, dtype: int64"
      ]
     },
     "execution_count": 9,
     "metadata": {},
     "output_type": "execute_result"
    }
   ],
   "source": [
    "y_wine.head()"
   ]
  },
  {
   "cell_type": "code",
   "execution_count": 10,
   "metadata": {},
   "outputs": [
    {
     "data": {
      "text/html": [
       "<div>\n",
       "<style scoped>\n",
       "    .dataframe tbody tr th:only-of-type {\n",
       "        vertical-align: middle;\n",
       "    }\n",
       "\n",
       "    .dataframe tbody tr th {\n",
       "        vertical-align: top;\n",
       "    }\n",
       "\n",
       "    .dataframe thead th {\n",
       "        text-align: right;\n",
       "    }\n",
       "</style>\n",
       "<table border=\"1\" class=\"dataframe\">\n",
       "  <thead>\n",
       "    <tr style=\"text-align: right;\">\n",
       "      <th></th>\n",
       "      <th>BI-RADS</th>\n",
       "      <th>Age</th>\n",
       "      <th>Shape</th>\n",
       "      <th>Margin</th>\n",
       "      <th>Density</th>\n",
       "      <th>Severity</th>\n",
       "    </tr>\n",
       "  </thead>\n",
       "  <tbody>\n",
       "    <tr>\n",
       "      <th>0</th>\n",
       "      <td>5</td>\n",
       "      <td>67</td>\n",
       "      <td>3</td>\n",
       "      <td>5</td>\n",
       "      <td>3</td>\n",
       "      <td>1</td>\n",
       "    </tr>\n",
       "    <tr>\n",
       "      <th>1</th>\n",
       "      <td>4</td>\n",
       "      <td>43</td>\n",
       "      <td>1</td>\n",
       "      <td>1</td>\n",
       "      <td>?</td>\n",
       "      <td>1</td>\n",
       "    </tr>\n",
       "    <tr>\n",
       "      <th>2</th>\n",
       "      <td>5</td>\n",
       "      <td>58</td>\n",
       "      <td>4</td>\n",
       "      <td>5</td>\n",
       "      <td>3</td>\n",
       "      <td>1</td>\n",
       "    </tr>\n",
       "    <tr>\n",
       "      <th>3</th>\n",
       "      <td>4</td>\n",
       "      <td>28</td>\n",
       "      <td>1</td>\n",
       "      <td>1</td>\n",
       "      <td>3</td>\n",
       "      <td>0</td>\n",
       "    </tr>\n",
       "    <tr>\n",
       "      <th>4</th>\n",
       "      <td>5</td>\n",
       "      <td>74</td>\n",
       "      <td>1</td>\n",
       "      <td>5</td>\n",
       "      <td>?</td>\n",
       "      <td>1</td>\n",
       "    </tr>\n",
       "  </tbody>\n",
       "</table>\n",
       "</div>"
      ],
      "text/plain": [
       "  BI-RADS Age Shape Margin Density  Severity\n",
       "0       5  67     3      5       3         1\n",
       "1       4  43     1      1       ?         1\n",
       "2       5  58     4      5       3         1\n",
       "3       4  28     1      1       3         0\n",
       "4       5  74     1      5       ?         1"
      ]
     },
     "execution_count": 10,
     "metadata": {},
     "output_type": "execute_result"
    }
   ],
   "source": [
    "names_mammographics = [\"BI-RADS\", \"Age\", \"Shape\", \"Margin\", \"Density\", \"Severity\"]\n",
    "\n",
    "df_mammographics = pd.read_csv('./data/mammographic/mammographic_masses.data', names=names_mammographics)\n",
    "\n",
    "df_mammographics.head()"
   ]
  },
  {
   "cell_type": "code",
   "execution_count": 11,
   "metadata": {},
   "outputs": [
    {
     "name": "stdout",
     "output_type": "stream",
     "text": [
      "<class 'pandas.core.frame.DataFrame'>\n",
      "RangeIndex: 961 entries, 0 to 960\n",
      "Data columns (total 6 columns):\n",
      " #   Column    Non-Null Count  Dtype \n",
      "---  ------    --------------  ----- \n",
      " 0   BI-RADS   959 non-null    object\n",
      " 1   Age       956 non-null    object\n",
      " 2   Shape     930 non-null    object\n",
      " 3   Margin    913 non-null    object\n",
      " 4   Density   885 non-null    object\n",
      " 5   Severity  961 non-null    int64 \n",
      "dtypes: int64(1), object(5)\n",
      "memory usage: 45.2+ KB\n"
     ]
    }
   ],
   "source": [
    "'''Valorile din data frame care lipsesc sunt marcate cu '?'.\n",
    "Ca sa putem vedea cate valori lipsesc trebuie sa inlocuim\n",
    "toate valorile '?' cu valoarea nan. '''\n",
    "\n",
    "df_mammographics = df_mammographics.replace('?', np.nan)\n",
    "df_mammographics.info()"
   ]
  },
  {
   "cell_type": "code",
   "execution_count": 12,
   "metadata": {},
   "outputs": [
    {
     "name": "stdout",
     "output_type": "stream",
     "text": [
      "<class 'pandas.core.frame.DataFrame'>\n",
      "RangeIndex: 961 entries, 0 to 960\n",
      "Data columns (total 6 columns):\n",
      " #   Column    Non-Null Count  Dtype \n",
      "---  ------    --------------  ----- \n",
      " 0   BI-RADS   961 non-null    object\n",
      " 1   Age       961 non-null    object\n",
      " 2   Shape     961 non-null    object\n",
      " 3   Margin    961 non-null    object\n",
      " 4   Density   961 non-null    object\n",
      " 5   Severity  961 non-null    int64 \n",
      "dtypes: int64(1), object(5)\n",
      "memory usage: 45.2+ KB\n"
     ]
    }
   ],
   "source": [
    "'''Exista mai multe metode prin care putem umple valorile lipsa \n",
    "am ales umplerea valorilor prin copierea ultimei valori cunoscute.\n",
    "Alte metode precum: aruncarea liniilor sau a coloanelor nu ar fi \n",
    "fost indicate, intrucat ar fi dus la pierderea a multe linii/coloane.'''\n",
    "\n",
    "df_mammographics = df_mammographics.fillna(method='ffill')\n",
    "\n",
    "df_mammographics.info()"
   ]
  },
  {
   "cell_type": "code",
   "execution_count": 13,
   "metadata": {},
   "outputs": [
    {
     "data": {
      "text/html": [
       "<div>\n",
       "<style scoped>\n",
       "    .dataframe tbody tr th:only-of-type {\n",
       "        vertical-align: middle;\n",
       "    }\n",
       "\n",
       "    .dataframe tbody tr th {\n",
       "        vertical-align: top;\n",
       "    }\n",
       "\n",
       "    .dataframe thead th {\n",
       "        text-align: right;\n",
       "    }\n",
       "</style>\n",
       "<table border=\"1\" class=\"dataframe\">\n",
       "  <thead>\n",
       "    <tr style=\"text-align: right;\">\n",
       "      <th></th>\n",
       "      <th>BI-RADS</th>\n",
       "      <th>Age</th>\n",
       "      <th>Shape</th>\n",
       "      <th>Margin</th>\n",
       "      <th>Density</th>\n",
       "      <th>Severity</th>\n",
       "    </tr>\n",
       "  </thead>\n",
       "  <tbody>\n",
       "    <tr>\n",
       "      <th>0</th>\n",
       "      <td>5</td>\n",
       "      <td>67</td>\n",
       "      <td>3</td>\n",
       "      <td>5</td>\n",
       "      <td>3</td>\n",
       "      <td>1</td>\n",
       "    </tr>\n",
       "    <tr>\n",
       "      <th>1</th>\n",
       "      <td>4</td>\n",
       "      <td>43</td>\n",
       "      <td>1</td>\n",
       "      <td>1</td>\n",
       "      <td>3</td>\n",
       "      <td>1</td>\n",
       "    </tr>\n",
       "    <tr>\n",
       "      <th>2</th>\n",
       "      <td>5</td>\n",
       "      <td>58</td>\n",
       "      <td>4</td>\n",
       "      <td>5</td>\n",
       "      <td>3</td>\n",
       "      <td>1</td>\n",
       "    </tr>\n",
       "    <tr>\n",
       "      <th>3</th>\n",
       "      <td>4</td>\n",
       "      <td>28</td>\n",
       "      <td>1</td>\n",
       "      <td>1</td>\n",
       "      <td>3</td>\n",
       "      <td>0</td>\n",
       "    </tr>\n",
       "    <tr>\n",
       "      <th>4</th>\n",
       "      <td>5</td>\n",
       "      <td>74</td>\n",
       "      <td>1</td>\n",
       "      <td>5</td>\n",
       "      <td>3</td>\n",
       "      <td>1</td>\n",
       "    </tr>\n",
       "  </tbody>\n",
       "</table>\n",
       "</div>"
      ],
      "text/plain": [
       "  BI-RADS Age Shape Margin Density  Severity\n",
       "0       5  67     3      5       3         1\n",
       "1       4  43     1      1       3         1\n",
       "2       5  58     4      5       3         1\n",
       "3       4  28     1      1       3         0\n",
       "4       5  74     1      5       3         1"
      ]
     },
     "execution_count": 13,
     "metadata": {},
     "output_type": "execute_result"
    }
   ],
   "source": [
    "df_mammographics.head()"
   ]
  },
  {
   "cell_type": "code",
   "execution_count": 14,
   "metadata": {},
   "outputs": [
    {
     "data": {
      "text/html": [
       "<div>\n",
       "<style scoped>\n",
       "    .dataframe tbody tr th:only-of-type {\n",
       "        vertical-align: middle;\n",
       "    }\n",
       "\n",
       "    .dataframe tbody tr th {\n",
       "        vertical-align: top;\n",
       "    }\n",
       "\n",
       "    .dataframe thead th {\n",
       "        text-align: right;\n",
       "    }\n",
       "</style>\n",
       "<table border=\"1\" class=\"dataframe\">\n",
       "  <thead>\n",
       "    <tr style=\"text-align: right;\">\n",
       "      <th></th>\n",
       "      <th>BI-RADS</th>\n",
       "      <th>Age</th>\n",
       "      <th>Severity</th>\n",
       "      <th>Shape_1</th>\n",
       "      <th>Shape_2</th>\n",
       "      <th>Shape_3</th>\n",
       "      <th>Shape_4</th>\n",
       "      <th>Margin_1</th>\n",
       "      <th>Margin_2</th>\n",
       "      <th>Margin_3</th>\n",
       "      <th>Margin_4</th>\n",
       "      <th>Margin_5</th>\n",
       "      <th>Density_1</th>\n",
       "      <th>Density_2</th>\n",
       "      <th>Density_3</th>\n",
       "      <th>Density_4</th>\n",
       "    </tr>\n",
       "  </thead>\n",
       "  <tbody>\n",
       "    <tr>\n",
       "      <th>0</th>\n",
       "      <td>5</td>\n",
       "      <td>67</td>\n",
       "      <td>1</td>\n",
       "      <td>0</td>\n",
       "      <td>0</td>\n",
       "      <td>1</td>\n",
       "      <td>0</td>\n",
       "      <td>0</td>\n",
       "      <td>0</td>\n",
       "      <td>0</td>\n",
       "      <td>0</td>\n",
       "      <td>1</td>\n",
       "      <td>0</td>\n",
       "      <td>0</td>\n",
       "      <td>1</td>\n",
       "      <td>0</td>\n",
       "    </tr>\n",
       "    <tr>\n",
       "      <th>1</th>\n",
       "      <td>4</td>\n",
       "      <td>43</td>\n",
       "      <td>1</td>\n",
       "      <td>1</td>\n",
       "      <td>0</td>\n",
       "      <td>0</td>\n",
       "      <td>0</td>\n",
       "      <td>1</td>\n",
       "      <td>0</td>\n",
       "      <td>0</td>\n",
       "      <td>0</td>\n",
       "      <td>0</td>\n",
       "      <td>0</td>\n",
       "      <td>0</td>\n",
       "      <td>1</td>\n",
       "      <td>0</td>\n",
       "    </tr>\n",
       "    <tr>\n",
       "      <th>2</th>\n",
       "      <td>5</td>\n",
       "      <td>58</td>\n",
       "      <td>1</td>\n",
       "      <td>0</td>\n",
       "      <td>0</td>\n",
       "      <td>0</td>\n",
       "      <td>1</td>\n",
       "      <td>0</td>\n",
       "      <td>0</td>\n",
       "      <td>0</td>\n",
       "      <td>0</td>\n",
       "      <td>1</td>\n",
       "      <td>0</td>\n",
       "      <td>0</td>\n",
       "      <td>1</td>\n",
       "      <td>0</td>\n",
       "    </tr>\n",
       "    <tr>\n",
       "      <th>3</th>\n",
       "      <td>4</td>\n",
       "      <td>28</td>\n",
       "      <td>0</td>\n",
       "      <td>1</td>\n",
       "      <td>0</td>\n",
       "      <td>0</td>\n",
       "      <td>0</td>\n",
       "      <td>1</td>\n",
       "      <td>0</td>\n",
       "      <td>0</td>\n",
       "      <td>0</td>\n",
       "      <td>0</td>\n",
       "      <td>0</td>\n",
       "      <td>0</td>\n",
       "      <td>1</td>\n",
       "      <td>0</td>\n",
       "    </tr>\n",
       "    <tr>\n",
       "      <th>4</th>\n",
       "      <td>5</td>\n",
       "      <td>74</td>\n",
       "      <td>1</td>\n",
       "      <td>1</td>\n",
       "      <td>0</td>\n",
       "      <td>0</td>\n",
       "      <td>0</td>\n",
       "      <td>0</td>\n",
       "      <td>0</td>\n",
       "      <td>0</td>\n",
       "      <td>0</td>\n",
       "      <td>1</td>\n",
       "      <td>0</td>\n",
       "      <td>0</td>\n",
       "      <td>1</td>\n",
       "      <td>0</td>\n",
       "    </tr>\n",
       "  </tbody>\n",
       "</table>\n",
       "</div>"
      ],
      "text/plain": [
       "  BI-RADS Age  Severity  Shape_1  Shape_2  Shape_3  Shape_4  Margin_1  \\\n",
       "0       5  67         1        0        0        1        0         0   \n",
       "1       4  43         1        1        0        0        0         1   \n",
       "2       5  58         1        0        0        0        1         0   \n",
       "3       4  28         0        1        0        0        0         1   \n",
       "4       5  74         1        1        0        0        0         0   \n",
       "\n",
       "   Margin_2  Margin_3  Margin_4  Margin_5  Density_1  Density_2  Density_3  \\\n",
       "0         0         0         0         1          0          0          1   \n",
       "1         0         0         0         0          0          0          1   \n",
       "2         0         0         0         1          0          0          1   \n",
       "3         0         0         0         0          0          0          1   \n",
       "4         0         0         0         1          0          0          1   \n",
       "\n",
       "   Density_4  \n",
       "0          0  \n",
       "1          0  \n",
       "2          0  \n",
       "3          0  \n",
       "4          0  "
      ]
     },
     "execution_count": 14,
     "metadata": {},
     "output_type": "execute_result"
    }
   ],
   "source": [
    "df_mammographics = pd.get_dummies(df_mammographics, columns=[\"Shape\", \"Margin\", \"Density\"])\n",
    "\n",
    "df_mammographics.head()"
   ]
  },
  {
   "cell_type": "code",
   "execution_count": 15,
   "metadata": {},
   "outputs": [
    {
     "data": {
      "text/html": [
       "<div>\n",
       "<style scoped>\n",
       "    .dataframe tbody tr th:only-of-type {\n",
       "        vertical-align: middle;\n",
       "    }\n",
       "\n",
       "    .dataframe tbody tr th {\n",
       "        vertical-align: top;\n",
       "    }\n",
       "\n",
       "    .dataframe thead th {\n",
       "        text-align: right;\n",
       "    }\n",
       "</style>\n",
       "<table border=\"1\" class=\"dataframe\">\n",
       "  <thead>\n",
       "    <tr style=\"text-align: right;\">\n",
       "      <th></th>\n",
       "      <th>BI-RADS</th>\n",
       "      <th>Age</th>\n",
       "      <th>Shape_1</th>\n",
       "      <th>Shape_2</th>\n",
       "      <th>Shape_3</th>\n",
       "      <th>Shape_4</th>\n",
       "      <th>Margin_1</th>\n",
       "      <th>Margin_2</th>\n",
       "      <th>Margin_3</th>\n",
       "      <th>Margin_4</th>\n",
       "      <th>Margin_5</th>\n",
       "      <th>Density_1</th>\n",
       "      <th>Density_2</th>\n",
       "      <th>Density_3</th>\n",
       "      <th>Density_4</th>\n",
       "    </tr>\n",
       "  </thead>\n",
       "  <tbody>\n",
       "    <tr>\n",
       "      <th>0</th>\n",
       "      <td>5</td>\n",
       "      <td>67</td>\n",
       "      <td>0</td>\n",
       "      <td>0</td>\n",
       "      <td>1</td>\n",
       "      <td>0</td>\n",
       "      <td>0</td>\n",
       "      <td>0</td>\n",
       "      <td>0</td>\n",
       "      <td>0</td>\n",
       "      <td>1</td>\n",
       "      <td>0</td>\n",
       "      <td>0</td>\n",
       "      <td>1</td>\n",
       "      <td>0</td>\n",
       "    </tr>\n",
       "    <tr>\n",
       "      <th>1</th>\n",
       "      <td>4</td>\n",
       "      <td>43</td>\n",
       "      <td>1</td>\n",
       "      <td>0</td>\n",
       "      <td>0</td>\n",
       "      <td>0</td>\n",
       "      <td>1</td>\n",
       "      <td>0</td>\n",
       "      <td>0</td>\n",
       "      <td>0</td>\n",
       "      <td>0</td>\n",
       "      <td>0</td>\n",
       "      <td>0</td>\n",
       "      <td>1</td>\n",
       "      <td>0</td>\n",
       "    </tr>\n",
       "    <tr>\n",
       "      <th>2</th>\n",
       "      <td>5</td>\n",
       "      <td>58</td>\n",
       "      <td>0</td>\n",
       "      <td>0</td>\n",
       "      <td>0</td>\n",
       "      <td>1</td>\n",
       "      <td>0</td>\n",
       "      <td>0</td>\n",
       "      <td>0</td>\n",
       "      <td>0</td>\n",
       "      <td>1</td>\n",
       "      <td>0</td>\n",
       "      <td>0</td>\n",
       "      <td>1</td>\n",
       "      <td>0</td>\n",
       "    </tr>\n",
       "    <tr>\n",
       "      <th>3</th>\n",
       "      <td>4</td>\n",
       "      <td>28</td>\n",
       "      <td>1</td>\n",
       "      <td>0</td>\n",
       "      <td>0</td>\n",
       "      <td>0</td>\n",
       "      <td>1</td>\n",
       "      <td>0</td>\n",
       "      <td>0</td>\n",
       "      <td>0</td>\n",
       "      <td>0</td>\n",
       "      <td>0</td>\n",
       "      <td>0</td>\n",
       "      <td>1</td>\n",
       "      <td>0</td>\n",
       "    </tr>\n",
       "    <tr>\n",
       "      <th>4</th>\n",
       "      <td>5</td>\n",
       "      <td>74</td>\n",
       "      <td>1</td>\n",
       "      <td>0</td>\n",
       "      <td>0</td>\n",
       "      <td>0</td>\n",
       "      <td>0</td>\n",
       "      <td>0</td>\n",
       "      <td>0</td>\n",
       "      <td>0</td>\n",
       "      <td>1</td>\n",
       "      <td>0</td>\n",
       "      <td>0</td>\n",
       "      <td>1</td>\n",
       "      <td>0</td>\n",
       "    </tr>\n",
       "  </tbody>\n",
       "</table>\n",
       "</div>"
      ],
      "text/plain": [
       "  BI-RADS Age  Shape_1  Shape_2  Shape_3  Shape_4  Margin_1  Margin_2  \\\n",
       "0       5  67        0        0        1        0         0         0   \n",
       "1       4  43        1        0        0        0         1         0   \n",
       "2       5  58        0        0        0        1         0         0   \n",
       "3       4  28        1        0        0        0         1         0   \n",
       "4       5  74        1        0        0        0         0         0   \n",
       "\n",
       "   Margin_3  Margin_4  Margin_5  Density_1  Density_2  Density_3  Density_4  \n",
       "0         0         0         1          0          0          1          0  \n",
       "1         0         0         0          0          0          1          0  \n",
       "2         0         0         1          0          0          1          0  \n",
       "3         0         0         0          0          0          1          0  \n",
       "4         0         0         1          0          0          1          0  "
      ]
     },
     "execution_count": 15,
     "metadata": {},
     "output_type": "execute_result"
    }
   ],
   "source": [
    "x_mammographic = df_mammographics[[\"BI-RADS\",\"Age\",\n",
    "                                   \"Shape_1\",\"Shape_2\",\"Shape_3\",\"Shape_4\",\n",
    "                                   \"Margin_1\",\"Margin_2\",\"Margin_3\",\"Margin_4\",\"Margin_5\",\n",
    "                                   \"Density_1\",\"Density_2\", \"Density_3\", \"Density_4\"]]\n",
    "\n",
    "y_mammographic = df_mammographics[\"Severity\"]\n",
    "\n",
    "x_mammographic.head()"
   ]
  },
  {
   "cell_type": "code",
   "execution_count": 204,
   "metadata": {},
   "outputs": [
    {
     "data": {
      "text/html": [
       "<div>\n",
       "<style scoped>\n",
       "    .dataframe tbody tr th:only-of-type {\n",
       "        vertical-align: middle;\n",
       "    }\n",
       "\n",
       "    .dataframe tbody tr th {\n",
       "        vertical-align: top;\n",
       "    }\n",
       "\n",
       "    .dataframe thead th {\n",
       "        text-align: right;\n",
       "    }\n",
       "</style>\n",
       "<table border=\"1\" class=\"dataframe\">\n",
       "  <thead>\n",
       "    <tr style=\"text-align: right;\">\n",
       "      <th></th>\n",
       "      <th>Recency(months)</th>\n",
       "      <th>Frequency(times)</th>\n",
       "      <th>Monetary</th>\n",
       "      <th>Time(months)</th>\n",
       "      <th>Class</th>\n",
       "    </tr>\n",
       "  </thead>\n",
       "  <tbody>\n",
       "    <tr>\n",
       "      <th>0</th>\n",
       "      <td>2</td>\n",
       "      <td>50</td>\n",
       "      <td>12500</td>\n",
       "      <td>98</td>\n",
       "      <td>1</td>\n",
       "    </tr>\n",
       "    <tr>\n",
       "      <th>1</th>\n",
       "      <td>0</td>\n",
       "      <td>13</td>\n",
       "      <td>3250</td>\n",
       "      <td>28</td>\n",
       "      <td>1</td>\n",
       "    </tr>\n",
       "    <tr>\n",
       "      <th>2</th>\n",
       "      <td>1</td>\n",
       "      <td>16</td>\n",
       "      <td>&lt;null&gt;</td>\n",
       "      <td>35</td>\n",
       "      <td>1</td>\n",
       "    </tr>\n",
       "    <tr>\n",
       "      <th>3</th>\n",
       "      <td>2</td>\n",
       "      <td>20</td>\n",
       "      <td>5000</td>\n",
       "      <td>45</td>\n",
       "      <td>1</td>\n",
       "    </tr>\n",
       "    <tr>\n",
       "      <th>4</th>\n",
       "      <td>1</td>\n",
       "      <td>24</td>\n",
       "      <td>6000</td>\n",
       "      <td>77</td>\n",
       "      <td>0</td>\n",
       "    </tr>\n",
       "  </tbody>\n",
       "</table>\n",
       "</div>"
      ],
      "text/plain": [
       "  Recency(months) Frequency(times) Monetary Time(months)  Class\n",
       "0              2                50    12500          98       1\n",
       "1              0                13     3250          28       1\n",
       "2              1                16   <null>          35       1\n",
       "3              2                20     5000          45       1\n",
       "4              1                24     6000          77       0"
      ]
     },
     "execution_count": 204,
     "metadata": {},
     "output_type": "execute_result"
    }
   ],
   "source": [
    "names_ecoli = ['Recency(months)', 'Frequency(times)', 'Monetary', 'Time(months)', 'Class']\n",
    "\n",
    "df_ecoli = pd.read_csv('./data/transfusion/transfusion.data', names = names_ecoli)\n",
    "\n",
    "df_ecoli.head()"
   ]
  },
  {
   "cell_type": "code",
   "execution_count": 205,
   "metadata": {},
   "outputs": [
    {
     "name": "stdout",
     "output_type": "stream",
     "text": [
      "<class 'pandas.core.frame.DataFrame'>\n",
      "RangeIndex: 748 entries, 0 to 747\n",
      "Data columns (total 5 columns):\n",
      " #   Column            Non-Null Count  Dtype \n",
      "---  ------            --------------  ----- \n",
      " 0   Recency(months)   733 non-null    object\n",
      " 1   Frequency(times)  743 non-null    object\n",
      " 2   Monetary          734 non-null    object\n",
      " 3   Time(months)      735 non-null    object\n",
      " 4   Class             748 non-null    int64 \n",
      "dtypes: int64(1), object(4)\n",
      "memory usage: 29.3+ KB\n"
     ]
    }
   ],
   "source": [
    "'''In data set-ul ecoli missing values sunt marcate prin '<null>',\n",
    "nu prin valori NaN, asa ca dorim sa inlocuim  valorile '<null>' cu valori\n",
    "NaN astfel incat sa putem vedea cre sunt valorile necompletate si\n",
    "sa le putem inlocui sau sterge.'''\n",
    "\n",
    "df_ecoli = df_ecoli.replace('<null>', np.nan)\n",
    "df_ecoli.info()"
   ]
  },
  {
   "cell_type": "code",
   "execution_count": 206,
   "metadata": {},
   "outputs": [
    {
     "data": {
      "text/html": [
       "<div>\n",
       "<style scoped>\n",
       "    .dataframe tbody tr th:only-of-type {\n",
       "        vertical-align: middle;\n",
       "    }\n",
       "\n",
       "    .dataframe tbody tr th {\n",
       "        vertical-align: top;\n",
       "    }\n",
       "\n",
       "    .dataframe thead th {\n",
       "        text-align: right;\n",
       "    }\n",
       "</style>\n",
       "<table border=\"1\" class=\"dataframe\">\n",
       "  <thead>\n",
       "    <tr style=\"text-align: right;\">\n",
       "      <th></th>\n",
       "      <th>Recency(months)</th>\n",
       "      <th>Frequency(times)</th>\n",
       "      <th>Monetary</th>\n",
       "      <th>Time(months)</th>\n",
       "    </tr>\n",
       "  </thead>\n",
       "  <tbody>\n",
       "    <tr>\n",
       "      <th>0</th>\n",
       "      <td>2</td>\n",
       "      <td>50</td>\n",
       "      <td>12500</td>\n",
       "      <td>98</td>\n",
       "    </tr>\n",
       "    <tr>\n",
       "      <th>1</th>\n",
       "      <td>0</td>\n",
       "      <td>13</td>\n",
       "      <td>3250</td>\n",
       "      <td>28</td>\n",
       "    </tr>\n",
       "    <tr>\n",
       "      <th>2</th>\n",
       "      <td>1</td>\n",
       "      <td>16</td>\n",
       "      <td>NaN</td>\n",
       "      <td>35</td>\n",
       "    </tr>\n",
       "    <tr>\n",
       "      <th>3</th>\n",
       "      <td>2</td>\n",
       "      <td>20</td>\n",
       "      <td>5000</td>\n",
       "      <td>45</td>\n",
       "    </tr>\n",
       "    <tr>\n",
       "      <th>4</th>\n",
       "      <td>1</td>\n",
       "      <td>24</td>\n",
       "      <td>6000</td>\n",
       "      <td>77</td>\n",
       "    </tr>\n",
       "  </tbody>\n",
       "</table>\n",
       "</div>"
      ],
      "text/plain": [
       "  Recency(months) Frequency(times) Monetary Time(months)\n",
       "0              2                50    12500          98 \n",
       "1              0                13     3250          28 \n",
       "2              1                16      NaN          35 \n",
       "3              2                20     5000          45 \n",
       "4              1                24     6000          77 "
      ]
     },
     "execution_count": 206,
     "metadata": {},
     "output_type": "execute_result"
    }
   ],
   "source": [
    "x_ecoli = df_ecoli[['Recency(months)', 'Frequency(times)', 'Monetary', 'Time(months)']]\n",
    "\n",
    "y_ecoli = df_ecoli['Class']\n",
    "\n",
    "x_ecoli.head()"
   ]
  },
  {
   "cell_type": "code",
   "execution_count": 217,
   "metadata": {},
   "outputs": [
    {
     "data": {
      "text/html": [
       "<div>\n",
       "<style scoped>\n",
       "    .dataframe tbody tr th:only-of-type {\n",
       "        vertical-align: middle;\n",
       "    }\n",
       "\n",
       "    .dataframe tbody tr th {\n",
       "        vertical-align: top;\n",
       "    }\n",
       "\n",
       "    .dataframe thead th {\n",
       "        text-align: right;\n",
       "    }\n",
       "</style>\n",
       "<table border=\"1\" class=\"dataframe\">\n",
       "  <thead>\n",
       "    <tr style=\"text-align: right;\">\n",
       "      <th></th>\n",
       "      <th>Recency(months)</th>\n",
       "      <th>Frequency(times)</th>\n",
       "      <th>Monetary</th>\n",
       "      <th>Time(months)</th>\n",
       "    </tr>\n",
       "  </thead>\n",
       "  <tbody>\n",
       "    <tr>\n",
       "      <th>0</th>\n",
       "      <td>2.0</td>\n",
       "      <td>50.0</td>\n",
       "      <td>12500.0</td>\n",
       "      <td>98.0</td>\n",
       "    </tr>\n",
       "    <tr>\n",
       "      <th>1</th>\n",
       "      <td>0.0</td>\n",
       "      <td>13.0</td>\n",
       "      <td>3250.0</td>\n",
       "      <td>28.0</td>\n",
       "    </tr>\n",
       "    <tr>\n",
       "      <th>2</th>\n",
       "      <td>1.0</td>\n",
       "      <td>16.0</td>\n",
       "      <td>3437.5</td>\n",
       "      <td>35.0</td>\n",
       "    </tr>\n",
       "    <tr>\n",
       "      <th>3</th>\n",
       "      <td>2.0</td>\n",
       "      <td>20.0</td>\n",
       "      <td>5000.0</td>\n",
       "      <td>45.0</td>\n",
       "    </tr>\n",
       "    <tr>\n",
       "      <th>4</th>\n",
       "      <td>1.0</td>\n",
       "      <td>24.0</td>\n",
       "      <td>6000.0</td>\n",
       "      <td>77.0</td>\n",
       "    </tr>\n",
       "  </tbody>\n",
       "</table>\n",
       "</div>"
      ],
      "text/plain": [
       "   Recency(months)  Frequency(times)  Monetary  Time(months)\n",
       "0              2.0              50.0   12500.0          98.0\n",
       "1              0.0              13.0    3250.0          28.0\n",
       "2              1.0              16.0    3437.5          35.0\n",
       "3              2.0              20.0    5000.0          45.0\n",
       "4              1.0              24.0    6000.0          77.0"
      ]
     },
     "execution_count": 217,
     "metadata": {},
     "output_type": "execute_result"
    }
   ],
   "source": [
    "'''Pentru umplerea valorilor lipsa am folosit KNNImputer. KNNImputer presupune ca\n",
    "valorile lipsă ale fiecărui eșantion sa fie imputate folosind valoarea medie de la n_neighbors vecini \n",
    "apropiați găsiți în setul de instruire. În mod implicit, o metrică de distanță euclidiană care acceptă valori \n",
    "lipsă, nan_euclidean_distances, este utilizată pentru a găsi vecinii apropiați.'''\n",
    "\n",
    "imputer = KNNImputer(n_neighbors=4)\n",
    "x_ecoli = pd.DataFrame(imputer.fit_transform(x_ecoli))\n",
    "x_ecoli.columns = ['Recency(months)', 'Frequency(times)', 'Monetary', 'Time(months)']\n",
    "\n",
    "x_ecoli.head()"
   ]
  },
  {
   "cell_type": "code",
   "execution_count": 218,
   "metadata": {},
   "outputs": [
    {
     "name": "stdout",
     "output_type": "stream",
     "text": [
      "<class 'pandas.core.frame.DataFrame'>\n",
      "RangeIndex: 748 entries, 0 to 747\n",
      "Data columns (total 4 columns):\n",
      " #   Column            Non-Null Count  Dtype  \n",
      "---  ------            --------------  -----  \n",
      " 0   Recency(months)   748 non-null    float64\n",
      " 1   Frequency(times)  748 non-null    float64\n",
      " 2   Monetary          748 non-null    float64\n",
      " 3   Time(months)      748 non-null    float64\n",
      "dtypes: float64(4)\n",
      "memory usage: 23.5 KB\n"
     ]
    }
   ],
   "source": [
    "x_ecoli.info()"
   ]
  },
  {
   "cell_type": "markdown",
   "metadata": {},
   "source": [
    "<font color=blue>Ex2:</font> Pentru fiecare set de date aplicati 5 modele de clasificare din scikit learn. Pentru fiecare raportati: acuratete, scorul F1 - a se vedea sklearn.metrics - folosind 5 fold cross validation. Raportati mediile rezultatelor atat pentru fold-urile de antrenare, cat si pentru cele de testare. Rularile se vor face cu valori fixate ale hiperparametrilor."
   ]
  },
  {
   "cell_type": "markdown",
   "metadata": {},
   "source": [
    "# <font color= magenta> A. Algoritmi care nu necesita scalarea datelor"
   ]
  },
  {
   "cell_type": "markdown",
   "metadata": {},
   "source": [
    "# <font color= magenta> 1. DecisionTreeClassifier"
   ]
  },
  {
   "cell_type": "code",
   "execution_count": 33,
   "metadata": {},
   "outputs": [],
   "source": [
    "def decision_tree_method(X, y, cv=5) -> None:\n",
    "    \n",
    "    model = DecisionTreeClassifier(max_depth=5, min_samples_leaf=15)\n",
    "        \n",
    "    scores = cross_validate(model, X, y, cv=cv, scoring=['accuracy','f1_weighted'], return_train_score=True)\n",
    "    \n",
    "    print ('Acuratetea setului de antrenare este:', scores['train_accuracy'],\n",
    "           'si are media:', scores['train_accuracy'].mean())\n",
    "    print ('Acuratetea setului de testare este:', scores['test_accuracy'],\n",
    "           'si are media:', scores['test_accuracy'].mean())\n",
    "    \n",
    "    print ('F1 pentru setul de antrenare este:', scores['train_f1_weighted'],\n",
    "           'si are media', scores['train_f1_weighted'].mean())\n",
    "    print ('F1 pentru setul de testare este:', scores['test_f1_weighted'],\n",
    "           'si are media', scores['test_f1_weighted'].mean())"
   ]
  },
  {
   "cell_type": "code",
   "execution_count": 34,
   "metadata": {},
   "outputs": [
    {
     "name": "stdout",
     "output_type": "stream",
     "text": [
      "Acuratetea setului de antrenare este: [0.61836563 0.61920809 0.60994103 0.63100253 0.61700337] si are media: 0.6191041274866043\n",
      "Acuratetea setului de testare este: [0.60606061 0.57239057 0.56228956 0.53872054 0.56756757] si are media: 0.5694057694057694\n",
      "F1 pentru setul de antrenare este: [0.60269116 0.59670385 0.59136236 0.61577814 0.59557764] si are media 0.6004226305634168\n",
      "F1 pentru setul de testare este: [0.59267024 0.55168132 0.53780771 0.52466963 0.54820681] si are media 0.5510071424486854\n"
     ]
    }
   ],
   "source": [
    "decision_tree_method(x_yeast, y_yeast)"
   ]
  },
  {
   "cell_type": "code",
   "execution_count": 35,
   "metadata": {},
   "outputs": [
    {
     "name": "stdout",
     "output_type": "stream",
     "text": [
      "Acuratetea setului de antrenare este: [0.65050821 0.65050821 0.65129007 0.66692729 0.6671875 ] si are media: 0.6572842552775606\n",
      "Acuratetea setului de testare este: [0.5125     0.4875     0.565625   0.55625    0.57366771] si are media: 0.5391085423197493\n",
      "F1 pentru setul de antrenare este: [0.62895952 0.62114804 0.63520597 0.63780948 0.64974681] si are media 0.6345739624252036\n",
      "F1 pentru setul de testare este: [0.46757743 0.4678346  0.55057509 0.53259325 0.55862606] si are media 0.5154412843722398\n"
     ]
    }
   ],
   "source": [
    "decision_tree_method(x_wine, y_wine)"
   ]
  },
  {
   "cell_type": "code",
   "execution_count": 36,
   "metadata": {},
   "outputs": [
    {
     "name": "stdout",
     "output_type": "stream",
     "text": [
      "Acuratetea setului de antrenare este: [0.84765625 0.83875163 0.83224967 0.85695709 0.84915475] si are media: 0.8449538767880365\n",
      "Acuratetea setului de testare este: [0.8238342  0.84895833 0.86979167 0.796875   0.8125    ] si are media: 0.8303918393782382\n",
      "F1 pentru setul de antrenare este: [0.84707059 0.83891629 0.83109108 0.85711622 0.84912447] si are media 0.8446637289495176\n",
      "F1 pentru setul de testare este: [0.82347124 0.84835523 0.8694528  0.79712312 0.80697028] si are media 0.8290745357062399\n"
     ]
    }
   ],
   "source": [
    "decision_tree_method(x_mammographic, y_mammographic)"
   ]
  },
  {
   "cell_type": "code",
   "execution_count": 209,
   "metadata": {},
   "outputs": [
    {
     "name": "stdout",
     "output_type": "stream",
     "text": [
      "Acuratetea setului de antrenare este: [0.83946488 0.80936455 0.82608696 0.8096828  0.82470785] si are media: 0.8218614078090016\n",
      "Acuratetea setului de testare este: [0.5        0.82       0.76       0.75838926 0.77852349] si are media: 0.7233825503355705\n",
      "F1 pentru setul de antrenare este: [0.83027653 0.79231392 0.8134556  0.78562757 0.81314483] si are media 0.8069636901660676\n",
      "F1 pentru setul de testare este: [0.505002   0.77552941 0.65636364 0.75016133 0.69375833] si are media 0.6761629415197914\n"
     ]
    }
   ],
   "source": [
    "decision_tree_method(x_ecoli, y_ecoli)"
   ]
  },
  {
   "cell_type": "markdown",
   "metadata": {},
   "source": [
    "# <font color= magenta> 2. RandomForestClassifier"
   ]
  },
  {
   "cell_type": "code",
   "execution_count": 38,
   "metadata": {},
   "outputs": [],
   "source": [
    "def random_forest_method(X, y, max_depth, min_samples_leaf, cv=5) -> None:\n",
    "    \n",
    "    model = RandomForestClassifier(max_depth=max_depth, min_samples_leaf=min_samples_leaf)\n",
    "        \n",
    "    scores = cross_validate(model, X, y, cv=cv, scoring=['accuracy','f1_weighted'], return_train_score=True)\n",
    "    \n",
    "    print ('Acuratetea setului de antrenare este:', scores['train_accuracy'],\n",
    "           'si are media:', scores['train_accuracy'].mean())\n",
    "    print ('Acuratetea setului de testare este:', scores['test_accuracy'],\n",
    "           'si are media:', scores['test_accuracy'].mean())\n",
    "    \n",
    "    print ('F1 pentru setul de antrenare este:', scores['train_f1_weighted'],\n",
    "           'si are media', scores['train_f1_weighted'].mean())\n",
    "    print ('F1 pentru setul de testare este:', scores['test_f1_weighted'],\n",
    "           'si are media', scores['test_f1_weighted'].mean())"
   ]
  },
  {
   "cell_type": "code",
   "execution_count": 39,
   "metadata": {},
   "outputs": [
    {
     "name": "stdout",
     "output_type": "stream",
     "text": [
      "Acuratetea setului de antrenare este: [0.61752317 0.62426285 0.61415333 0.62847515 0.63552189] si are media: 0.623987275166719\n",
      "Acuratetea setului de testare este: [0.58585859 0.56902357 0.61952862 0.54545455 0.62162162] si are media: 0.5882973882973882\n",
      "F1 pentru setul de antrenare este: [0.59849772 0.607651   0.5969658  0.61486108 0.61875252] si are media 0.6073456223526625\n",
      "F1 pentru setul de testare este: [0.56639834 0.55054789 0.59012872 0.53248667 0.60121485] si are media 0.5681552942221295\n"
     ]
    }
   ],
   "source": [
    "random_forest_method(x_yeast, y_yeast, 4, 6)"
   ]
  },
  {
   "cell_type": "code",
   "execution_count": 40,
   "metadata": {},
   "outputs": [
    {
     "name": "stdout",
     "output_type": "stream",
     "text": [
      "Acuratetea setului de antrenare este: [0.62314308 0.61454261 0.60437842 0.62157936 0.60859375] si are media: 0.614447444292416\n",
      "Acuratetea setului de testare este: [0.5625     0.553125   0.628125   0.55       0.59247649] si are media: 0.5772452978056426\n",
      "F1 pentru setul de antrenare este: [0.58417081 0.56590551 0.54724158 0.57065554 0.55499027] si are media 0.5645927404382721\n",
      "F1 pentru setul de testare este: [0.48877799 0.50178747 0.56515837 0.49962558 0.53899285] si are media 0.5188684532824317\n"
     ]
    }
   ],
   "source": [
    "random_forest_method(x_wine, y_wine, 3, 6)"
   ]
  },
  {
   "cell_type": "code",
   "execution_count": 41,
   "metadata": {},
   "outputs": [
    {
     "name": "stdout",
     "output_type": "stream",
     "text": [
      "Acuratetea setului de antrenare este: [0.83203125 0.82574772 0.82574772 0.83745124 0.83485046] si are media: 0.8311656778283485\n",
      "Acuratetea setului de testare este: [0.8134715  0.82291667 0.85416667 0.80729167 0.84375   ] si are media: 0.8283193005181346\n",
      "F1 pentru setul de antrenare este: [0.83225455 0.82590739 0.82598153 0.8376595  0.83502692] si are media 0.8313659767230052\n",
      "F1 pentru setul de testare este: [0.81329991 0.82233966 0.85435674 0.80752707 0.84299409] si are media 0.8281034936265096\n"
     ]
    }
   ],
   "source": [
    "random_forest_method(x_mammographic, y_mammographic, 5, 15)"
   ]
  },
  {
   "cell_type": "code",
   "execution_count": 210,
   "metadata": {},
   "outputs": [
    {
     "name": "stdout",
     "output_type": "stream",
     "text": [
      "Acuratetea setului de antrenare este: [0.77424749 0.77591973 0.77424749 0.76460768 0.76794658] si are media: 0.7713937945628444\n",
      "Acuratetea setului de testare este: [0.76666667 0.76       0.76       0.75838926 0.76510067] si are media: 0.7620313199105146\n",
      "F1 pentru setul de antrenare este: [0.70142712 0.69278772 0.69429287 0.66591819 0.67357936] si are media 0.6856010501735139\n",
      "F1 pentru setul de testare este: [0.72846681 0.65636364 0.65636364 0.65997233 0.66328119] si are media 0.6728895211952599\n"
     ]
    }
   ],
   "source": [
    "random_forest_method(x_ecoli, y_ecoli, 2, 7)"
   ]
  },
  {
   "cell_type": "markdown",
   "metadata": {},
   "source": [
    "# <font color=magenta> B. Algoritmi care necesita scalarea datelor"
   ]
  },
  {
   "cell_type": "markdown",
   "metadata": {},
   "source": [
    "Pentru urmatoarele metode de clasificare vom scala datele."
   ]
  },
  {
   "cell_type": "code",
   "execution_count": 43,
   "metadata": {},
   "outputs": [
    {
     "data": {
      "text/html": [
       "<div>\n",
       "<style scoped>\n",
       "    .dataframe tbody tr th:only-of-type {\n",
       "        vertical-align: middle;\n",
       "    }\n",
       "\n",
       "    .dataframe tbody tr th {\n",
       "        vertical-align: top;\n",
       "    }\n",
       "\n",
       "    .dataframe thead th {\n",
       "        text-align: right;\n",
       "    }\n",
       "</style>\n",
       "<table border=\"1\" class=\"dataframe\">\n",
       "  <thead>\n",
       "    <tr style=\"text-align: right;\">\n",
       "      <th></th>\n",
       "      <th>fixed acidity</th>\n",
       "      <th>volatile acidity</th>\n",
       "      <th>citric acid</th>\n",
       "      <th>residual sugar</th>\n",
       "      <th>chlorides</th>\n",
       "      <th>free sulfur dioxide</th>\n",
       "      <th>total sulfur dioxide</th>\n",
       "      <th>density</th>\n",
       "      <th>pH</th>\n",
       "      <th>sulphates</th>\n",
       "      <th>alcohol</th>\n",
       "    </tr>\n",
       "  </thead>\n",
       "  <tbody>\n",
       "    <tr>\n",
       "      <th>0</th>\n",
       "      <td>0.247788</td>\n",
       "      <td>0.397260</td>\n",
       "      <td>0.00</td>\n",
       "      <td>0.068493</td>\n",
       "      <td>0.076</td>\n",
       "      <td>0.140845</td>\n",
       "      <td>0.098940</td>\n",
       "      <td>0.9978</td>\n",
       "      <td>0.606299</td>\n",
       "      <td>0.56</td>\n",
       "      <td>0.153846</td>\n",
       "    </tr>\n",
       "    <tr>\n",
       "      <th>1</th>\n",
       "      <td>0.283186</td>\n",
       "      <td>0.520548</td>\n",
       "      <td>0.00</td>\n",
       "      <td>0.116438</td>\n",
       "      <td>0.098</td>\n",
       "      <td>0.338028</td>\n",
       "      <td>0.215548</td>\n",
       "      <td>0.9968</td>\n",
       "      <td>0.362205</td>\n",
       "      <td>0.68</td>\n",
       "      <td>0.215385</td>\n",
       "    </tr>\n",
       "    <tr>\n",
       "      <th>2</th>\n",
       "      <td>0.283186</td>\n",
       "      <td>0.438356</td>\n",
       "      <td>0.04</td>\n",
       "      <td>0.095890</td>\n",
       "      <td>0.092</td>\n",
       "      <td>0.197183</td>\n",
       "      <td>0.169611</td>\n",
       "      <td>0.9970</td>\n",
       "      <td>0.409449</td>\n",
       "      <td>0.65</td>\n",
       "      <td>0.215385</td>\n",
       "    </tr>\n",
       "    <tr>\n",
       "      <th>3</th>\n",
       "      <td>0.584071</td>\n",
       "      <td>0.109589</td>\n",
       "      <td>0.56</td>\n",
       "      <td>0.068493</td>\n",
       "      <td>0.075</td>\n",
       "      <td>0.225352</td>\n",
       "      <td>0.190813</td>\n",
       "      <td>0.9980</td>\n",
       "      <td>0.330709</td>\n",
       "      <td>0.58</td>\n",
       "      <td>0.215385</td>\n",
       "    </tr>\n",
       "    <tr>\n",
       "      <th>4</th>\n",
       "      <td>0.247788</td>\n",
       "      <td>0.397260</td>\n",
       "      <td>0.00</td>\n",
       "      <td>0.068493</td>\n",
       "      <td>0.076</td>\n",
       "      <td>0.140845</td>\n",
       "      <td>0.098940</td>\n",
       "      <td>0.9978</td>\n",
       "      <td>0.606299</td>\n",
       "      <td>0.56</td>\n",
       "      <td>0.153846</td>\n",
       "    </tr>\n",
       "  </tbody>\n",
       "</table>\n",
       "</div>"
      ],
      "text/plain": [
       "   fixed acidity  volatile acidity  citric acid  residual sugar  chlorides  \\\n",
       "0       0.247788          0.397260         0.00        0.068493      0.076   \n",
       "1       0.283186          0.520548         0.00        0.116438      0.098   \n",
       "2       0.283186          0.438356         0.04        0.095890      0.092   \n",
       "3       0.584071          0.109589         0.56        0.068493      0.075   \n",
       "4       0.247788          0.397260         0.00        0.068493      0.076   \n",
       "\n",
       "   free sulfur dioxide  total sulfur dioxide  density        pH  sulphates  \\\n",
       "0             0.140845              0.098940   0.9978  0.606299       0.56   \n",
       "1             0.338028              0.215548   0.9968  0.362205       0.68   \n",
       "2             0.197183              0.169611   0.9970  0.409449       0.65   \n",
       "3             0.225352              0.190813   0.9980  0.330709       0.58   \n",
       "4             0.140845              0.098940   0.9978  0.606299       0.56   \n",
       "\n",
       "    alcohol  \n",
       "0  0.153846  \n",
       "1  0.215385  \n",
       "2  0.215385  \n",
       "3  0.215385  \n",
       "4  0.153846  "
      ]
     },
     "execution_count": 43,
     "metadata": {},
     "output_type": "execute_result"
    }
   ],
   "source": [
    "scaler = MinMaxScaler()\n",
    "\n",
    "x_wine[:][[\"fixed acidity\", \"volatile acidity\", \"residual sugar\", \n",
    "                   \"free sulfur dioxide\", \"total sulfur dioxide\", \"pH\", \"alcohol\"]]=scaler.fit_transform(\n",
    "    x_wine[:][[\"fixed acidity\", \"volatile acidity\", \"residual sugar\", \n",
    "                   \"free sulfur dioxide\", \"total sulfur dioxide\", \"pH\", \"alcohol\"]])\n",
    "\n",
    "x_wine.head()"
   ]
  },
  {
   "cell_type": "code",
   "execution_count": 44,
   "metadata": {},
   "outputs": [
    {
     "data": {
      "text/html": [
       "<div>\n",
       "<style scoped>\n",
       "    .dataframe tbody tr th:only-of-type {\n",
       "        vertical-align: middle;\n",
       "    }\n",
       "\n",
       "    .dataframe tbody tr th {\n",
       "        vertical-align: top;\n",
       "    }\n",
       "\n",
       "    .dataframe thead th {\n",
       "        text-align: right;\n",
       "    }\n",
       "</style>\n",
       "<table border=\"1\" class=\"dataframe\">\n",
       "  <thead>\n",
       "    <tr style=\"text-align: right;\">\n",
       "      <th></th>\n",
       "      <th>BI-RADS</th>\n",
       "      <th>Age</th>\n",
       "      <th>Shape_1</th>\n",
       "      <th>Shape_2</th>\n",
       "      <th>Shape_3</th>\n",
       "      <th>Shape_4</th>\n",
       "      <th>Margin_1</th>\n",
       "      <th>Margin_2</th>\n",
       "      <th>Margin_3</th>\n",
       "      <th>Margin_4</th>\n",
       "      <th>Margin_5</th>\n",
       "      <th>Density_1</th>\n",
       "      <th>Density_2</th>\n",
       "      <th>Density_3</th>\n",
       "      <th>Density_4</th>\n",
       "    </tr>\n",
       "  </thead>\n",
       "  <tbody>\n",
       "    <tr>\n",
       "      <th>0</th>\n",
       "      <td>5</td>\n",
       "      <td>67</td>\n",
       "      <td>0</td>\n",
       "      <td>0</td>\n",
       "      <td>1</td>\n",
       "      <td>0</td>\n",
       "      <td>0</td>\n",
       "      <td>0</td>\n",
       "      <td>0</td>\n",
       "      <td>0</td>\n",
       "      <td>1</td>\n",
       "      <td>0</td>\n",
       "      <td>0</td>\n",
       "      <td>1</td>\n",
       "      <td>0</td>\n",
       "    </tr>\n",
       "    <tr>\n",
       "      <th>1</th>\n",
       "      <td>4</td>\n",
       "      <td>43</td>\n",
       "      <td>1</td>\n",
       "      <td>0</td>\n",
       "      <td>0</td>\n",
       "      <td>0</td>\n",
       "      <td>1</td>\n",
       "      <td>0</td>\n",
       "      <td>0</td>\n",
       "      <td>0</td>\n",
       "      <td>0</td>\n",
       "      <td>0</td>\n",
       "      <td>0</td>\n",
       "      <td>1</td>\n",
       "      <td>0</td>\n",
       "    </tr>\n",
       "    <tr>\n",
       "      <th>2</th>\n",
       "      <td>5</td>\n",
       "      <td>58</td>\n",
       "      <td>0</td>\n",
       "      <td>0</td>\n",
       "      <td>0</td>\n",
       "      <td>1</td>\n",
       "      <td>0</td>\n",
       "      <td>0</td>\n",
       "      <td>0</td>\n",
       "      <td>0</td>\n",
       "      <td>1</td>\n",
       "      <td>0</td>\n",
       "      <td>0</td>\n",
       "      <td>1</td>\n",
       "      <td>0</td>\n",
       "    </tr>\n",
       "    <tr>\n",
       "      <th>3</th>\n",
       "      <td>4</td>\n",
       "      <td>28</td>\n",
       "      <td>1</td>\n",
       "      <td>0</td>\n",
       "      <td>0</td>\n",
       "      <td>0</td>\n",
       "      <td>1</td>\n",
       "      <td>0</td>\n",
       "      <td>0</td>\n",
       "      <td>0</td>\n",
       "      <td>0</td>\n",
       "      <td>0</td>\n",
       "      <td>0</td>\n",
       "      <td>1</td>\n",
       "      <td>0</td>\n",
       "    </tr>\n",
       "    <tr>\n",
       "      <th>4</th>\n",
       "      <td>5</td>\n",
       "      <td>74</td>\n",
       "      <td>1</td>\n",
       "      <td>0</td>\n",
       "      <td>0</td>\n",
       "      <td>0</td>\n",
       "      <td>0</td>\n",
       "      <td>0</td>\n",
       "      <td>0</td>\n",
       "      <td>0</td>\n",
       "      <td>1</td>\n",
       "      <td>0</td>\n",
       "      <td>0</td>\n",
       "      <td>1</td>\n",
       "      <td>0</td>\n",
       "    </tr>\n",
       "  </tbody>\n",
       "</table>\n",
       "</div>"
      ],
      "text/plain": [
       "  BI-RADS Age  Shape_1  Shape_2  Shape_3  Shape_4  Margin_1  Margin_2  \\\n",
       "0       5  67        0        0        1        0         0         0   \n",
       "1       4  43        1        0        0        0         1         0   \n",
       "2       5  58        0        0        0        1         0         0   \n",
       "3       4  28        1        0        0        0         1         0   \n",
       "4       5  74        1        0        0        0         0         0   \n",
       "\n",
       "   Margin_3  Margin_4  Margin_5  Density_1  Density_2  Density_3  Density_4  \n",
       "0         0         0         1          0          0          1          0  \n",
       "1         0         0         0          0          0          1          0  \n",
       "2         0         0         1          0          0          1          0  \n",
       "3         0         0         0          0          0          1          0  \n",
       "4         0         0         1          0          0          1          0  "
      ]
     },
     "execution_count": 44,
     "metadata": {},
     "output_type": "execute_result"
    }
   ],
   "source": [
    "scaler_mammographic = MinMaxScaler()\n",
    "\n",
    "x_mammographic[:][[\"BI-RADS\",\"Age\"]]= scaler_mammographic.fit_transform(x_mammographic[:][[\"BI-RADS\",\"Age\"]])\n",
    "\n",
    "x_mammographic.head()"
   ]
  },
  {
   "cell_type": "code",
   "execution_count": 219,
   "metadata": {},
   "outputs": [
    {
     "data": {
      "text/html": [
       "<div>\n",
       "<style scoped>\n",
       "    .dataframe tbody tr th:only-of-type {\n",
       "        vertical-align: middle;\n",
       "    }\n",
       "\n",
       "    .dataframe tbody tr th {\n",
       "        vertical-align: top;\n",
       "    }\n",
       "\n",
       "    .dataframe thead th {\n",
       "        text-align: right;\n",
       "    }\n",
       "</style>\n",
       "<table border=\"1\" class=\"dataframe\">\n",
       "  <thead>\n",
       "    <tr style=\"text-align: right;\">\n",
       "      <th></th>\n",
       "      <th>Recency(months)</th>\n",
       "      <th>Frequency(times)</th>\n",
       "      <th>Monetary</th>\n",
       "      <th>Time(months)</th>\n",
       "    </tr>\n",
       "  </thead>\n",
       "  <tbody>\n",
       "    <tr>\n",
       "      <th>0</th>\n",
       "      <td>0.027027</td>\n",
       "      <td>1.000000</td>\n",
       "      <td>1.000000</td>\n",
       "      <td>1.000000</td>\n",
       "    </tr>\n",
       "    <tr>\n",
       "      <th>1</th>\n",
       "      <td>0.000000</td>\n",
       "      <td>0.244898</td>\n",
       "      <td>0.244898</td>\n",
       "      <td>0.270833</td>\n",
       "    </tr>\n",
       "    <tr>\n",
       "      <th>2</th>\n",
       "      <td>0.013514</td>\n",
       "      <td>0.306122</td>\n",
       "      <td>0.260204</td>\n",
       "      <td>0.343750</td>\n",
       "    </tr>\n",
       "    <tr>\n",
       "      <th>3</th>\n",
       "      <td>0.027027</td>\n",
       "      <td>0.387755</td>\n",
       "      <td>0.387755</td>\n",
       "      <td>0.447917</td>\n",
       "    </tr>\n",
       "    <tr>\n",
       "      <th>4</th>\n",
       "      <td>0.013514</td>\n",
       "      <td>0.469388</td>\n",
       "      <td>0.469388</td>\n",
       "      <td>0.781250</td>\n",
       "    </tr>\n",
       "  </tbody>\n",
       "</table>\n",
       "</div>"
      ],
      "text/plain": [
       "   Recency(months)  Frequency(times)  Monetary  Time(months)\n",
       "0         0.027027          1.000000  1.000000      1.000000\n",
       "1         0.000000          0.244898  0.244898      0.270833\n",
       "2         0.013514          0.306122  0.260204      0.343750\n",
       "3         0.027027          0.387755  0.387755      0.447917\n",
       "4         0.013514          0.469388  0.469388      0.781250"
      ]
     },
     "execution_count": 219,
     "metadata": {},
     "output_type": "execute_result"
    }
   ],
   "source": [
    "scaler_transfusion = MinMaxScaler()\n",
    "\n",
    "x_ecoli[:][['Recency(months)', 'Frequency(times)', 'Monetary', 'Time(months)']]= scaler_transfusion.fit_transform(\n",
    "    x_ecoli[:][['Recency(months)', 'Frequency(times)', 'Monetary', 'Time(months)']])\n",
    "\n",
    "x_ecoli.head()"
   ]
  },
  {
   "cell_type": "markdown",
   "metadata": {},
   "source": [
    "# <font color=magenta> 1. KNeighbourClassifier"
   ]
  },
  {
   "cell_type": "code",
   "execution_count": 50,
   "metadata": {},
   "outputs": [],
   "source": [
    "def k_neighbours_method(X, y, number_of_neighbors, cv=5) -> None:\n",
    "    \n",
    "    model = KNeighborsClassifier(n_neighbors=number_of_neighbors)\n",
    "    \n",
    "    scores = cross_validate(model, X, y, cv=cv, scoring=['accuracy','f1_weighted'], return_train_score=True)\n",
    "    \n",
    "    print ('Acuratetea setului de antrenare este:', scores['train_accuracy'],\n",
    "           'si are media:', scores['train_accuracy'].mean())\n",
    "    print ('Acuratetea setului de testare este:', scores['test_accuracy'],\n",
    "           'si are media:', scores['test_accuracy'].mean())\n",
    "    \n",
    "    print ('F1 pentru setul de antrenare este:', scores['train_f1_weighted'],\n",
    "           'si are media', scores['train_f1_weighted'].mean())\n",
    "    print ('F1 pentru setul de testare este:', scores['test_f1_weighted'],\n",
    "           'si are media', scores['test_f1_weighted'].mean())"
   ]
  },
  {
   "cell_type": "code",
   "execution_count": 46,
   "metadata": {},
   "outputs": [
    {
     "name": "stdout",
     "output_type": "stream",
     "text": [
      "Acuratetea setului de antrenare este: [0.64953665 0.65880371 0.64869419 0.65964617 0.6489899 ] si are media: 0.6531341213312569\n",
      "Acuratetea setului de testare este: [0.54882155 0.56228956 0.5959596  0.53198653 0.60472973] si are media: 0.5687573937573938\n",
      "F1 pentru setul de antrenare este: [0.6400713  0.64859767 0.64153687 0.6512153  0.63969849] si are media 0.6442239256194373\n",
      "F1 pentru setul de testare este: [0.53840288 0.55291814 0.59317743 0.51876893 0.59730318] si are media 0.5601141134298688\n"
     ]
    }
   ],
   "source": [
    "k_neighbours_method(x_yeast, y_yeast, 10)"
   ]
  },
  {
   "cell_type": "code",
   "execution_count": 47,
   "metadata": {},
   "outputs": [
    {
     "name": "stdout",
     "output_type": "stream",
     "text": [
      "Acuratetea setului de antrenare este: [0.59186865 0.60516028 0.57857701 0.59186865 0.5984375 ] si are media: 0.593182417904613\n",
      "Acuratetea setului de testare este: [0.534375   0.55       0.60625    0.55625    0.58934169] si are media: 0.5672433385579938\n",
      "F1 pentru setul de antrenare este: [0.56797048 0.5754338  0.54604082 0.56664071 0.56621608] si are media 0.5644603790080673\n",
      "F1 pentru setul de testare este: [0.48839427 0.52242078 0.56997685 0.54323602 0.54830089] si are media 0.534465763609883\n"
     ]
    }
   ],
   "source": [
    "k_neighbours_method(x_wine, y_wine, 73)"
   ]
  },
  {
   "cell_type": "code",
   "execution_count": 48,
   "metadata": {},
   "outputs": [
    {
     "name": "stdout",
     "output_type": "stream",
     "text": [
      "Acuratetea setului de antrenare este: [0.83203125 0.82444733 0.81924577 0.83224967 0.83355007] si are media: 0.8283048195708712\n",
      "Acuratetea setului de testare este: [0.81865285 0.83854167 0.83333333 0.796875   0.77083333] si are media: 0.8116472366148532\n",
      "F1 pentru setul de antrenare este: [0.83198055 0.82395602 0.81919042 0.83203582 0.83331512] si are media 0.8280955837167479\n",
      "F1 pentru setul de testare este: [0.81816071 0.83868668 0.83300493 0.79705743 0.76646923] si are media 0.8106757963754205\n"
     ]
    }
   ],
   "source": [
    "k_neighbours_method(x_mammographic, y_mammographic, 10)"
   ]
  },
  {
   "cell_type": "code",
   "execution_count": 220,
   "metadata": {},
   "outputs": [
    {
     "name": "stdout",
     "output_type": "stream",
     "text": [
      "Acuratetea setului de antrenare este: [0.83110368 0.80434783 0.81939799 0.80133556 0.81803005] si are media: 0.8148430215353348\n",
      "Acuratetea setului de testare este: [0.65333333 0.76666667 0.76       0.77852349 0.77181208] si are media: 0.7460671140939598\n",
      "F1 pentru setul de antrenare este: [0.81248687 0.77775284 0.80244282 0.77018985 0.7954989 ] si are media 0.791674255716994\n",
      "F1 pentru setul de testare este: [0.67763118 0.67183229 0.65636364 0.76951783 0.67886276] si are media 0.6908415391057348\n"
     ]
    }
   ],
   "source": [
    "k_neighbours_method(x_ecoli , y_ecoli, 15)"
   ]
  },
  {
   "cell_type": "markdown",
   "metadata": {},
   "source": [
    "# <font color=Magenta> 2. MLPClassifier"
   ]
  },
  {
   "cell_type": "code",
   "execution_count": 57,
   "metadata": {},
   "outputs": [],
   "source": [
    "def mlp_method(X, y, activ, cv=5) -> None:\n",
    "    #‘sgd’ refers to stochastic gradient descent.\n",
    "    \n",
    "    model =  MLPClassifier(activation = activ, alpha=0.01, max_iter=1000)\n",
    "    \n",
    "    scores = cross_validate(model, X, y, cv=cv, scoring=['accuracy','f1_weighted'], return_train_score=True)\n",
    "    \n",
    "    print ('Acuratetea setului de antrenare este:', scores['train_accuracy'],\n",
    "           'si are media:', scores['train_accuracy'].mean())\n",
    "    print ('Acuratetea setului de testare este:', scores['test_accuracy'],\n",
    "           'si are media:', scores['test_accuracy'].mean())\n",
    "    \n",
    "    print ('F1 pentru setul de antrenare este:', scores['train_f1_weighted'],\n",
    "           'si are media', scores['train_f1_weighted'].mean())\n",
    "    print ('F1 pentru setul de testare este:', scores['test_f1_weighted'],\n",
    "           'si are media', scores['test_f1_weighted'].mean())"
   ]
  },
  {
   "cell_type": "code",
   "execution_count": 53,
   "metadata": {},
   "outputs": [
    {
     "name": "stdout",
     "output_type": "stream",
     "text": [
      "Acuratetea setului de antrenare este: [0.60151643 0.60404381 0.59646167 0.62173547 0.61026936] si are media: 0.6068053463588426\n",
      "Acuratetea setului de testare este: [0.56565657 0.58249158 0.58922559 0.53872054 0.58783784] si are media: 0.5727864227864228\n",
      "F1 pentru setul de antrenare este: [0.59214122 0.59452457 0.58765469 0.61139334 0.60035286] si are media 0.5972133358170811\n",
      "F1 pentru setul de testare este: [0.55038302 0.57271172 0.58283742 0.53029967 0.57631584] si are media 0.5625095334412854\n"
     ]
    }
   ],
   "source": [
    "mlp_method (x_yeast, y_yeast, 'tanh')"
   ]
  },
  {
   "cell_type": "code",
   "execution_count": 54,
   "metadata": {},
   "outputs": [
    {
     "name": "stdout",
     "output_type": "stream",
     "text": [
      "Acuratetea setului de antrenare este: [0.60985145 0.61688819 0.59499609 0.606724   0.603125  ] si are media: 0.6063169468334636\n",
      "Acuratetea setului de testare este: [0.525      0.559375   0.634375   0.603125   0.61128527] si are media: 0.586632053291536\n",
      "F1 pentru setul de antrenare este: [0.59309652 0.59579645 0.57166081 0.5848621  0.57740465] si are media 0.5845641068957992\n",
      "F1 pentru setul de testare este: [0.47971978 0.54477639 0.61597396 0.58680782 0.57991235] si are media 0.5614380593786972\n"
     ]
    }
   ],
   "source": [
    "mlp_method (x_wine, y_wine, 'tanh')"
   ]
  },
  {
   "cell_type": "code",
   "execution_count": 55,
   "metadata": {},
   "outputs": [
    {
     "name": "stdout",
     "output_type": "stream",
     "text": [
      "Acuratetea setului de antrenare este: [0.82942708 0.80884265 0.81924577 0.84005202 0.8283485 ] si are media: 0.8251832060034678\n",
      "Acuratetea setului de testare este: [0.79792746 0.83333333 0.84895833 0.77604167 0.80729167] si are media: 0.8127104922279793\n",
      "F1 pentru setul de antrenare este: [0.82958925 0.80904691 0.81949072 0.83984811 0.8285528 ] si are media 0.8253055573641991\n",
      "F1 pentru setul de testare este: [0.79800381 0.83300767 0.84915937 0.77612101 0.80619381] si are media 0.8124971336284196\n"
     ]
    }
   ],
   "source": [
    "mlp_method (x_mammographic, y_mammographic, 'tanh')"
   ]
  },
  {
   "cell_type": "code",
   "execution_count": 221,
   "metadata": {},
   "outputs": [
    {
     "name": "stdout",
     "output_type": "stream",
     "text": [
      "Acuratetea setului de antrenare este: [0.78428094 0.77926421 0.77424749 0.78464107 0.77295492] si are media: 0.7790777270925344\n",
      "Acuratetea setului de testare este: [0.83333333 0.76       0.75333333 0.82550336 0.76510067] si are media: 0.7874541387024608\n",
      "F1 pentru setul de antrenare este: [0.7304035  0.71551178 0.71210067 0.73496167 0.70622435] si are media 0.7198403931608088\n",
      "F1 pentru setul de testare este: [0.84253688 0.65636364 0.65307985 0.81181439 0.66328119] si are media 0.7254151891154027\n"
     ]
    }
   ],
   "source": [
    "mlp_method(x_ecoli, y_ecoli, 'tanh')"
   ]
  },
  {
   "cell_type": "markdown",
   "metadata": {},
   "source": [
    "# <font color=Magenta> 3. SVC"
   ]
  },
  {
   "cell_type": "code",
   "execution_count": 64,
   "metadata": {},
   "outputs": [],
   "source": [
    "def svc_method(X, y, cv=5) -> None:\n",
    "    \n",
    "    model = SVC(class_weight=None, random_state = 10)\n",
    "    \n",
    "    scores = cross_validate(model, X, y, cv=cv, scoring=['accuracy','f1_weighted'], return_train_score=True)\n",
    "    \n",
    "    print ('Acuratetea setului de antrenare este:', scores['train_accuracy'],\n",
    "           'si are media:', scores['train_accuracy'].mean())\n",
    "    print ('Acuratetea setului de testare este:', scores['test_accuracy'],\n",
    "           'si are media:', scores['test_accuracy'].mean())\n",
    "    \n",
    "    print ('F1 pentru setul de antrenare este:', scores['train_f1_weighted'],\n",
    "           'si are media', scores['train_f1_weighted'].mean())\n",
    "    print ('F1 pentru setul de testare este:', scores['test_f1_weighted'],\n",
    "           'si are media', scores['test_f1_weighted'].mean())"
   ]
  },
  {
   "cell_type": "code",
   "execution_count": 60,
   "metadata": {},
   "outputs": [
    {
     "name": "stdout",
     "output_type": "stream",
     "text": [
      "Acuratetea setului de antrenare este: [0.61078349 0.62173547 0.60320135 0.64026959 0.61784512] si are media: 0.618767001665064\n",
      "Acuratetea setului de testare este: [0.61616162 0.61616162 0.62289562 0.54882155 0.59121622] si are media: 0.599051324051324\n",
      "F1 pentru setul de antrenare este: [0.60028884 0.61091196 0.59489801 0.63121115 0.60759518] si are media 0.6089810273490984\n",
      "F1 pentru setul de testare este: [0.60209739 0.60709779 0.6130061  0.53866087 0.58190772] si are media 0.5885539757319778\n"
     ]
    }
   ],
   "source": [
    "svc_method (x_yeast, y_yeast)"
   ]
  },
  {
   "cell_type": "code",
   "execution_count": 61,
   "metadata": {},
   "outputs": [
    {
     "name": "stdout",
     "output_type": "stream",
     "text": [
      "Acuratetea setului de antrenare este: [0.59499609 0.60828772 0.59108679 0.60828772 0.6046875 ] si are media: 0.6014691653635653\n",
      "Acuratetea setului de testare este: [0.55625    0.540625   0.609375   0.578125   0.58934169] si are media: 0.5747433385579936\n",
      "F1 pentru setul de antrenare este: [0.54297281 0.55367691 0.53886185 0.55483223 0.55208943] si are media 0.5484866445259429\n",
      "F1 pentru setul de testare este: [0.49180227 0.49141756 0.55174861 0.52559271 0.53525559] si are media 0.5191633464843306\n"
     ]
    }
   ],
   "source": [
    "svc_method (x_wine, y_wine)"
   ]
  },
  {
   "cell_type": "code",
   "execution_count": 62,
   "metadata": {},
   "outputs": [
    {
     "name": "stdout",
     "output_type": "stream",
     "text": [
      "Acuratetea setului de antrenare este: [0.71484375 0.69830949 0.69310793 0.70221066 0.71261378] si are media: 0.7042171245123537\n",
      "Acuratetea setului de testare este: [0.65284974 0.72395833 0.73958333 0.71875    0.67708333] si are media: 0.7024449481865285\n",
      "F1 pentru setul de antrenare este: [0.71385373 0.69643926 0.69208776 0.70093886 0.71127046] si are media 0.7029180138631773\n",
      "F1 pentru setul de testare este: [0.65234206 0.72323993 0.737861   0.71819581 0.67429926] si are media 0.7011876125687839\n"
     ]
    }
   ],
   "source": [
    "svc_method (x_mammographic, y_mammographic)"
   ]
  },
  {
   "cell_type": "code",
   "execution_count": 224,
   "metadata": {},
   "outputs": [
    {
     "name": "stdout",
     "output_type": "stream",
     "text": [
      "Acuratetea setului de antrenare este: [0.77759197 0.78093645 0.78762542 0.77963272 0.77462437] si are media: 0.7800821882624888\n",
      "Acuratetea setului de testare este: [0.81333333 0.76       0.75333333 0.79865772 0.76510067] si are media: 0.7780850111856823\n",
      "F1 pentru setul de antrenare este: [0.70806759 0.71245755 0.73282226 0.71066723 0.70733252] si are media 0.7142694287220264\n",
      "F1 pentru setul de testare este: [0.79933333 0.65636364 0.65307985 0.7711762  0.66328119] si are media 0.7086468408657136\n"
     ]
    }
   ],
   "source": [
    "svc_method(x_ecoli, y_ecoli)"
   ]
  },
  {
   "cell_type": "markdown",
   "metadata": {},
   "source": [
    "# <font color = magenta> 4. GaussianProcessClassifier"
   ]
  },
  {
   "cell_type": "code",
   "execution_count": 76,
   "metadata": {},
   "outputs": [],
   "source": [
    "def gaussian_method(X, y, cv=5) -> None:\n",
    "    \n",
    "    model = GaussianProcessClassifier(random_state = 10)\n",
    "    \n",
    "    scores = cross_validate(model, X, y, cv=cv, scoring=['accuracy','f1_weighted'], return_train_score=True)\n",
    "    \n",
    "    print ('Acuratetea setului de antrenare este:', scores['train_accuracy'],\n",
    "           'si are media:', scores['train_accuracy'].mean())\n",
    "    print ('Acuratetea setului de testare este:', scores['test_accuracy'],\n",
    "           'si are media:', scores['test_accuracy'].mean())\n",
    "    \n",
    "    print ('F1 pentru setul de antrenare este:', scores['train_f1_weighted'],\n",
    "           'si are media', scores['train_f1_weighted'].mean())\n",
    "    print ('F1 pentru setul de testare este:', scores['test_f1_weighted'],\n",
    "           'si are media', scores['test_f1_weighted'].mean())"
   ]
  },
  {
   "cell_type": "code",
   "execution_count": 67,
   "metadata": {},
   "outputs": [
    {
     "name": "stdout",
     "output_type": "stream",
     "text": [
      "Acuratetea setului de antrenare este: [0.54928391 0.54759899 0.53664701 0.56697557 0.55387205] si are media: 0.5508755059723889\n",
      "Acuratetea setului de testare este: [0.53872054 0.56902357 0.56228956 0.4983165  0.55405405] si are media: 0.5444808444808444\n",
      "F1 pentru setul de antrenare este: [0.52604099 0.52297166 0.51240678 0.54444678 0.5296878 ] si are media 0.5271108034696936\n",
      "F1 pentru setul de testare este: [0.50722909 0.54379091 0.53765294 0.4757784  0.52781064] si are media 0.5184523929808442\n"
     ]
    }
   ],
   "source": [
    "gaussian_method(x_yeast, y_yeast)"
   ]
  },
  {
   "cell_type": "code",
   "execution_count": 68,
   "metadata": {},
   "outputs": [
    {
     "name": "stdout",
     "output_type": "stream",
     "text": [
      "Acuratetea setului de antrenare este: [0.59343237 0.6028147  0.58952306 0.5887412  0.5953125 ] si are media: 0.5939647673964035\n",
      "Acuratetea setului de testare este: [0.546875   0.521875   0.625      0.596875   0.58934169] si are media: 0.5759933385579938\n",
      "F1 pentru setul de antrenare este: [0.54394999 0.55739554 0.54338252 0.54500169 0.54936446] si are media 0.5478188395908277\n",
      "F1 pentru setul de testare este: [0.48697201 0.49488464 0.56857956 0.55437955 0.53467028] si are media 0.5278972101434632\n"
     ]
    }
   ],
   "source": [
    "gaussian_method(x_wine, y_wine)"
   ]
  },
  {
   "cell_type": "code",
   "execution_count": 69,
   "metadata": {},
   "outputs": [
    {
     "name": "stdout",
     "output_type": "stream",
     "text": [
      "Acuratetea setului de antrenare este: [0.90364583 0.90117035 0.89986996 0.91027308 0.90507152] si are media: 0.9040061497615952\n",
      "Acuratetea setului de testare este: [0.8134715  0.83854167 0.80729167 0.77604167 0.77083333] si are media: 0.8012359671848014\n",
      "F1 pentru setul de antrenare este: [0.90373237 0.90122172 0.89992948 0.91028162 0.90511345] si are media 0.9040557274630185\n",
      "F1 pentru setul de testare este: [0.8130872  0.83873889 0.80721277 0.77633975 0.7683435 ] si are media 0.8007444222379576\n"
     ]
    }
   ],
   "source": [
    "gaussian_method(x_mammographic, y_mammographic)"
   ]
  },
  {
   "cell_type": "code",
   "execution_count": 223,
   "metadata": {},
   "outputs": [
    {
     "name": "stdout",
     "output_type": "stream",
     "text": [
      "Acuratetea setului de antrenare este: [0.77424749 0.77424749 0.77591973 0.76460768 0.77629382] si are media: 0.7730632436446474\n",
      "Acuratetea setului de testare este: [0.78       0.76       0.75333333 0.81208054 0.76510067] si are media: 0.774102908277405\n",
      "F1 pentru setul de antrenare este: [0.68919275 0.69673714 0.69777892 0.66888266 0.69703772] si are media 0.6899258380917065\n",
      "F1 pentru setul de testare este: [0.7182264  0.65636364 0.65307985 0.7661768  0.66328119] si are media 0.6914255763907222\n"
     ]
    }
   ],
   "source": [
    "gaussian_method(x_ecoli, y_ecoli)"
   ]
  },
  {
   "cell_type": "markdown",
   "metadata": {},
   "source": [
    "# <font color=magenta> 5. GaussianNB"
   ]
  },
  {
   "cell_type": "code",
   "execution_count": 79,
   "metadata": {},
   "outputs": [],
   "source": [
    "def gaussian_nb_method(X, y, cv=5) -> None:\n",
    "    \n",
    "    model = GaussianNB()\n",
    "    \n",
    "    scores = cross_validate(model, X, y, cv=cv, scoring=['accuracy','f1_weighted'], return_train_score=True)\n",
    "    \n",
    "    print ('Acuratetea setului de antrenare este:', scores['train_accuracy'],\n",
    "           'si are media:', scores['train_accuracy'].mean())\n",
    "    print ('Acuratetea setului de testare este:', scores['test_accuracy'],\n",
    "           'si are media:', scores['test_accuracy'].mean())\n",
    "    \n",
    "    print ('F1 pentru setul de antrenare este:', scores['train_f1_weighted'],\n",
    "           'si are media', scores['train_f1_weighted'].mean())\n",
    "    print ('F1 pentru setul de testare este:', scores['test_f1_weighted'],\n",
    "           'si are media', scores['test_f1_weighted'].mean())"
   ]
  },
  {
   "cell_type": "code",
   "execution_count": 72,
   "metadata": {},
   "outputs": [
    {
     "name": "stdout",
     "output_type": "stream",
     "text": [
      "Acuratetea setului de antrenare este: [0.16933446 0.15501264 0.23841618 0.1390059  0.13131313] si are media: 0.16661645945554956\n",
      "Acuratetea setului de testare este: [0.13804714 0.14478114 0.2020202  0.1043771  0.14864865] si are media: 0.14757484757484757\n",
      "F1 pentru setul de antrenare este: [0.20685848 0.17505935 0.20255769 0.13787692 0.14763672] si are media 0.17399783456613466\n",
      "F1 pentru setul de testare este: [0.15451384 0.16579675 0.17967319 0.10006242 0.16623635] si are media 0.15325650959500053\n"
     ]
    }
   ],
   "source": [
    "gaussian_nb_method(x_yeast, y_yeast)"
   ]
  },
  {
   "cell_type": "code",
   "execution_count": 73,
   "metadata": {},
   "outputs": [
    {
     "name": "stdout",
     "output_type": "stream",
     "text": [
      "Acuratetea setului de antrenare este: [0.57857701 0.56763096 0.55981235 0.55512119 0.56640625] si are media: 0.5655095533620016\n",
      "Acuratetea setului de testare este: [0.49375    0.4625     0.5875     0.496875   0.57053292] si are media: 0.5222315830721004\n",
      "F1 pentru setul de antrenare este: [0.58483603 0.56655814 0.55734532 0.55500248 0.56782543] si are media 0.5663134811046133\n",
      "F1 pentru setul de testare este: [0.49347686 0.45955206 0.58256095 0.50030087 0.56716433] si are media 0.5206110161790701\n"
     ]
    }
   ],
   "source": [
    "gaussian_nb_method(x_wine, y_wine)"
   ]
  },
  {
   "cell_type": "code",
   "execution_count": 74,
   "metadata": {},
   "outputs": [
    {
     "name": "stdout",
     "output_type": "stream",
     "text": [
      "Acuratetea setului de antrenare este: [0.78645833 0.79323797 0.78543563 0.79063719 0.78413524] si are media: 0.7879808734286953\n",
      "Acuratetea setului de testare este: [0.75129534 0.80729167 0.77604167 0.77604167 0.76041667] si are media: 0.7742174006908462\n",
      "F1 pentru setul de antrenare este: [0.78674116 0.79352161 0.78571053 0.79079073 0.78430745] si are media 0.7882142965108653\n",
      "F1 pentru setul de testare este: [0.74959765 0.80679471 0.77633975 0.77633975 0.75994458] si are media 0.7738032885300136\n"
     ]
    }
   ],
   "source": [
    "gaussian_nb_method(x_mammographic, y_mammographic)"
   ]
  },
  {
   "cell_type": "code",
   "execution_count": 225,
   "metadata": {},
   "outputs": [
    {
     "name": "stdout",
     "output_type": "stream",
     "text": [
      "Acuratetea setului de antrenare este: [0.7541806  0.75585284 0.75585284 0.74791319 0.76293823] si are media: 0.7553475413314276\n",
      "Acuratetea setului de testare este: [0.70666667 0.72       0.76666667 0.79865772 0.76510067] si are media: 0.7514183445190157\n",
      "F1 pentru setul de antrenare este: [0.71060453 0.72199815 0.71924873 0.70689237 0.72218403] si are media 0.7161855627688861\n",
      "F1 pentru setul de testare este: [0.71398475 0.65520027 0.68269968 0.78908047 0.69527959] si are media 0.7072489542850445\n"
     ]
    }
   ],
   "source": [
    "gaussian_nb_method(x_ecoli, y_ecoli)"
   ]
  },
  {
   "cell_type": "markdown",
   "metadata": {},
   "source": [
    "<font color=blue>Ex3:</font> Documentati in jupyter notebook fiecare din modelele folosite, in limba romana. Daca acelasi algoritm e folosit pentru mai multe seturi de date, puteti face o sectiune separata cu documentarea algoritmilor + trimitere la algoritm. "
   ]
  },
  {
   "cell_type": "markdown",
   "metadata": {},
   "source": [
    "# GaussianNB\n",
    "<br>\n",
    "<br>\n",
    "<br>Naive Bayes este cel mai simplu și rapid algoritm de clasificare, care este potrivit pentru o bucată mare de date. Clasificatorul Naive Bayes este utilizat cu succes în diferite aplicații, cum ar fi filtrarea spamului, clasificarea textului, analiza sentimentelor și sisteme de recomandare. Folosește teorema Bayes a probabilității pentru predicția unei clase necunoscute. Este unul dintre cei mai simpli algoritmi de învățare supravegheată. Clasificatorul Naive Bayes presupune că efectul unei anumite caracteristici dintr-o clasă este independent de alte caracteristici.\n",
    "\n",
    "priorsarray-like, shape (n_classes,)\n",
    "Probabilitățile anterioare ale cursurilor. Dacă este specificat, versiunile superioare nu sunt ajustate în funcție de date.\n",
    "\n",
    "var_smoothingfloat, optional (default=1e-9)\n",
    "Porțiunea cea mai mare variație a tuturor caracteristicilor care se adaugă la variații pentru stabilitatea calculului."
   ]
  },
  {
   "cell_type": "markdown",
   "metadata": {},
   "source": [
    "#  Decision Tree Classifier\n",
    "<br>\n",
    "<br>\n",
    "<br>Aceasta metoda poate clasifica atat doua clase cat si mai multe clase intr-un dataset.\n",
    "<br>\n",
    "<br>Parametri:\n",
    "<br>splitter-> reprezinta strategia aleasa pentru divizarea nodurilor\n",
    "<br>max_depth-> reprezinta adancimea arborelui\n",
    "<br>min_samples_split-> nr minim de sample-uri necesare \n",
    "<br>min_samples_leaf-> nr minim de sample-uri necesare ca un nod sa fie frunza"
   ]
  },
  {
   "cell_type": "markdown",
   "metadata": {},
   "source": [
    "# Random Forest Classifier\n",
    "<br>\n",
    "<br>\n",
    "<br>Aceasta metoda foloseste o padure de arbori de decizie random.\n",
    "<br>Are ca scop controlul fenomenului de overfitting.\n",
    "<br>\n",
    "<br>Parametri:\n",
    "<br>n_estimators-> nr de arbori din padure\n",
    "<br>max_depth-> adancimea arborelui \n",
    "<br>min_samples_split-> nr de sample-uri necesare unui nod pentru a se face split\n",
    "<br>min_samples_leaf-> nr minim de sample-uri necesare ca un nod sa fie frunza\n",
    "<br>si altele\n",
    "\n",
    "<br>\n",
    "<br>\n",
    "<br>Observatii:\n",
    "<br>n_estimators-> nu produce overfitting daca crestem nr de arbori \n",
    "<br>max_features-> cu cat e mai mic cu atat evitam overfitting-ul, dar daca e prea mic reteaua face undefitting\n",
    "<br>max_depth-> are un rol important, reduce complexitatea"
   ]
  },
  {
   "cell_type": "markdown",
   "metadata": {},
   "source": [
    "# Multi-layer Perceptron classifier\n",
    "<br>\n",
    "<br>\n",
    "<br>Acest model optimizează funcția log-loss folosind LBFGS sau descendență de gradient stocastic.\n",
    "<br>Această implementare funcționează cu date reprezentate ca tablouri numpy dense sau tablouri scipy slabe de valori în virgulă mobilă. Multi-layer Perceptron (MLP) este o clasă a rețelei neuronale artificiale. Un MLP constă din cel puțin trei straturi de noduri: un strat de intrare, un strat ascuns și un strat de ieșire. Cu excepția nodurilor de intrare, fiecare nod este un neuron care utilizează o funcție de activare neliniară. MLP utilizează o tehnică de învățare supravegheată numită backpropagation pentru formare. Straturile sale multiple și activarea neliniară disting MLP de un perceptron liniar. Poate distinge date care nu pot fi separate liniar.\n",
    "Multi-layer Perceptron classifier optimizează funcția log-loss folosind LBFGS sau stochastic gradient descent.\n",
    "\n",
    "<br>\n",
    "<br>Parametri:\n",
    "<br>hidden_layer_sizes ->  numărul de neuroni din stratul ascuns\n",
    "<br>activation -> funcție de activare\n",
    "<br>solver ->  pentru optimizarea ponderilor\n",
    "<br>alpha -> parametrul de penalizare L2\n",
    "<br>batch_size -> dimensiunea minibatches-urilor pentru optimizarea stocastica\n",
    "<br>learning_rate -> rata de învățare pentru actualizări de ponderi\n",
    "<br>learning_rate_init -> rata inițială de învățare\n",
    "<br>power_t -> exponent pentru scalare inversă a ratei de învățare \n",
    "<br>max_iter -> numărul maxim de iterații\n",
    "<br>shuffle -> amestecare de sample-uri la fiecare iterație\n",
    "<br>random_state -> generatorul de numere aleatorii\n",
    "<br>tol -> toleranță pentru optimizare\n",
    "<br>verbose -> printare mesaje de progres în stdout\n",
    "<br>warm_start -> reutilizați soluția apelului anterior\n",
    "<br>momentum -> momentum pentru actualizarea descendenței gradientului\n",
    "<br>nesterovs_momentum -> momentumul lui Nesterov\n",
    "<br>early_stopping -> va anula automat 10% din datele de instruire și va încheia antrenarea atunci când scorul de validare nu se îmbunătățește \n",
    "<br>validation_fraction -> proportia datelor de antrenare care vor fi rezervate ca set de validare\n",
    "<br>beta_1 -> rata de descompunere exponențială pentru estimările vectorului din primul moment\n",
    "<br>beta_2 -> rata de descompunere exponențială pentru estimările vectorului din al doilea moment\n",
    "<br>epsilon -> valoare pentru stabilitatea numerică\n",
    "<br>n_iter_no_change -> numărul maxim de epoci pentru a nu respecta îmbunătățirea dată de tol\n",
    "<br>max_fun -> numărul maxim de apeluri ale funcției de loss"
   ]
  },
  {
   "cell_type": "markdown",
   "metadata": {},
   "source": [
    "# GaussianProcessClassifier\n",
    "<br>\n",
    "<br>\n",
    "<br>Este bazată pe aproximarea Laplace. GaussianProcessClassifier suporta clasificarea multi-clasa prin efectuarea unei instruiri si a unei predictii bazate pe one-versus-rest sau one-versus-one.  În cazul one-versus-rest, un clasificator binar de proces Gaussian este montat pentru fiecare clasă, care este instruit să despartă această clasă de restul. În one_vs_one, un clasificator binar de proces Gaussian este montat pentru fiecare pereche de clase, care este instruit sa separe aceste două clase. Predicțiile acestor predictori binari sunt combinate în predicții multiple.\n",
    "Media anterioară a GaussianProcess se presupune a fi zero. Covarianța precedentului este specificată prin trecerea unui obiect kernel. Hiperparametrii kernel-ului sunt optimizati în timpul antrenarii GaussianProcessRegressor prin maximizarea log-marginal-likelihood (LML) bazată pe optimizatorul trecut. Deoarece LML poate avea mai multe optimizări locale, optimizatorul poate fi pornit în mod repetat prin specificarea n_restarts_optimizer. Prima rulare se efectuează întotdeauna pornind de la valorile inițiale ale hiperparametrului kernel-ului. Etapele următoare sunt efectuate din valorile hiperparametrului care au fost alese aleatoriu din intervalul de valori permise. Dacă hiperparametrii inițiali ar trebui să fie ficsi, None poate fi trecut ca optimizator.\n",
    "<br>\n",
    "<br>Parametri:\n",
    "<br>kernel=None  -> kernel-ul specifica funcția de covarianță a GP. Dacă nu este trecut niciunul, kernel-ul                                        \"1.0 * RBF (1.0)\" este folosit ca implicit. Hiperparametrii kernelului sunt optimizati în                                      timpul antrenarii\n",
    "<br>optimizer=’fmin_l_bfgs_b’-> poate fi unul dintre optimizatorii suportați intern pentru optimizarea parametrilor kernelului\n",
    "<br>n_restarts_optimizer=0 -> numărul de repornări ale optimizatorului pentru găsirea parametrilor kernelului care maximizează log-marginal-likelihood\n",
    "<br>max_iter_predict=100 -> numărul maxim de iterații \n",
    "<br>copy_X_train=True -> dacă copy_X_train este true, o copie persistentă a datelor de antrenament este stocată în obiect. În caz contrar, este stocată doar o referință la datele de antrenament, ceea ce ar putea determina modificarea predictilor dacă datele sunt modificate extern.\n",
    "random_state\n",
    "<br>multi_class=’one_vs_rest’  -> specifică modul în care sunt tratate problemele de clasificare multi-clasă. Sunt acceptate \"one_vs_rest\" și \"one_vs_one\".\n",
    "<br>n_jobs=None -> numărul de joburi utilizate pentru calcul."
   ]
  },
  {
   "cell_type": "markdown",
   "metadata": {},
   "source": [
    "# KNeighborsClassifier\n",
    "<br>\n",
    "<br>\n",
    "<br>KNN clasifica un obiect prin votul majorității vecinilor obiectului, în spațiul parametrului de intrare. Obiectul este atribuit clasei care este cel mai frecvent întâlnită în cel mai apropiat vecin k (un întreg specificat de programator). Este un algoritm neparametric, leneș. Este neparametric, deoarece nu face nicio ipoteză privind distribuția datelor (datele nu trebuie distribuite în mod normal). Este leneș, deoarece nu învață cu adevărat niciun model și nu face generalizarea datelor (nu instruiește câțiva parametri ai unei anumite funcții, unde intrarea X dă output y).\n",
    "În mod strict vorbind, acest nu este un algoritm de învățare. Pur și simplu clasifică obiectele bazate pe similaritatea caracteristicilor (caracteristică = variabile de intrare). Clasificarea se calculează prin votul majorității simple a celor mai apropiați vecini k din fiecare punct.\n",
    "\n",
    "<br>\n",
    "<br>Parametri:\n",
    "<br>n_neighbors -> numărul de vecini care vor fi folosiți\n",
    "<br>weights -> funcția de ponderi folosită în predicție\n",
    "<br>algorithm -> algoritmul folosit pentru calcularea vecinilor\n",
    "<br>leaf_size -> dimensiunea frunzelor pentru BallTree sau KDTree\n",
    "<br>p -> parametru de putere pentru metrica Minkowski\n",
    "<br>metric -> distanța utilizată pentru arbore\n",
    "<br>metric_params -> argumente suplimentare pentru funcția metrică\n",
    "<br>n_jobs -> numărul de joburi utilizate pentru calcul\n"
   ]
  },
  {
   "cell_type": "markdown",
   "metadata": {},
   "source": [
    "# C-Support Vector Classification\n",
    "<br>\n",
    "<br>\n",
    "<br>Implementarea se bazează pe libsvm. Support Vector Classification (SVC) este o metodă care se bazează, de asemenea, pe funcțiile kernelului, dar este potrivită pentru învățarea nesupravegheată. Este considerată o metodă fundamentală în știința datelor. Implementarea se bazează pe \"libsvm\". Complexitatea timpului de antrenare este mai mult decât quadratic cu numărul de sample-uri care face dificilă scalarea setului de date cu mai mult de 10000 de sample-uri. Suportul multiclass este tratat în conformitate cu o schemă one-vs-one.\n",
    "<br>\n",
    "<br>Parametri:\n",
    "<br>C -> parametrul de regularizare\n",
    "<br>kernel -> nucleul care specifică funcția de covarianță \n",
    "<br>degree -> gradul funcției nucleului polinomial \n",
    "<br>gamma -> coeficientul de nucleu\n",
    "<br>coef0 -> termen independent în funcția de nucleu\n",
    "<br>shrinking -> folosește euristicul micșorat\n",
    "<br>probability -> estimări de probabilitate\n",
    "<br>tol -> toleranță pentru optimizare \n",
    "<br>cache_size -> specifică dimensiunea memoriei cache a nucleului\n",
    "<br>class_weight -> setați parametrul C al clasei i la clasa_pondere[i]*C pentru SVC\n",
    "<br>verbose -> printare mesaje de progres în stdout \n",
    "<br>max_iter -> numărul maxim de iterații\n",
    "<br>decision_function_shape -> returnează funcția de decizie 'ovr' sau 'ovo' în funcție de formă\n",
    "<br>break_ties -> prezicerea va rupe legăturile în funcție de valorile de încredere ale funcției de decizie\n",
    "<br>random_state -> generatorul de numere aleatorii "
   ]
  },
  {
   "cell_type": "markdown",
   "metadata": {},
   "source": [
    "<font color=blue>Ex4:</font>Pentru fiecare model: efectuati o cautare a hiperparametrilor optimi folosind grid search si random search (cu parametrul cv = 4), folosind 5 fold cross validation. \n",
    "<br>\n",
    "Raportati performanta fiecarui model, folosind 5 fold cross validation. Pentru fiecare din cele 5 rulari, cautati hiperparametrii optimi folosind 4-fold cross validation. Performanta modelului va fi raportata ca medie a celor  5 rulari. \n",
    "    *Observatie:* la fiecare din cele 5 rulari, hiperparametrii optimi pot diferi, din cauza datelor utilizate pentru antrenare/validare.  "
   ]
  },
  {
   "cell_type": "markdown",
   "metadata": {},
   "source": [
    "# <font color=magenta> 1. KNeighbourClassifier"
   ]
  },
  {
   "cell_type": "code",
   "execution_count": 157,
   "metadata": {},
   "outputs": [],
   "source": [
    "def KNN(X, y, n_neighbours, p, cv=5):\n",
    "    X_train, X_test, y_train, y_test = train_test_split(X, y, test_size=1/5, random_state=10)\n",
    "    parameter_grid = {'n_neighbors': n_neighbours, 'p': p}\n",
    "#     parameter_grid = {'n_neighbors': list(range(1, 10)), 'p': [1, 1.5, 2, 2.5]}\n",
    "\n",
    "    grid_search = GridSearchCV(estimator = KNeighborsClassifier(), param_grid = parameter_grid, scoring = 'accuracy', \n",
    "                           cv = cv, return_train_score = True)\n",
    "    print(\"Grid Search :\", grid_search.fit(X_train, y_train))\n",
    "\n",
    "    y_estimated_train = grid_search.predict(X_train)\n",
    "    print(\"Accuracy train:\", accuracy_score(y_train, y_estimated_train))\n",
    "\n",
    "    y_estimated_test = grid_search.predict(X_test)\n",
    "    print(\"Accuracy test:\", accuracy_score(y_test, y_estimated_test))\n",
    "\n",
    "    print(\"Best parameter:\", grid_search.best_params_)\n",
    "\n",
    "    scores = cross_val_score(grid_search, X, y, cv=4)\n",
    "    print(\"Scores accuracy:\", scores)\n",
    "    print(\"Mean accuracy:\", scores.mean())"
   ]
  },
  {
   "cell_type": "code",
   "execution_count": 94,
   "metadata": {},
   "outputs": [
    {
     "name": "stdout",
     "output_type": "stream",
     "text": [
      "Grid Search : GridSearchCV(cv=3, error_score=nan,\n",
      "             estimator=KNeighborsClassifier(algorithm='auto', leaf_size=30,\n",
      "                                            metric='minkowski',\n",
      "                                            metric_params=None, n_jobs=None,\n",
      "                                            n_neighbors=5, p=2,\n",
      "                                            weights='uniform'),\n",
      "             iid='deprecated', n_jobs=None,\n",
      "             param_grid={'n_neighbors': [8, 9, 10, 11], 'p': [1, 1.5, 2]},\n",
      "             pre_dispatch='2*n_jobs', refit=True, return_train_score=True,\n",
      "             scoring='accuracy', verbose=0)\n",
      "Accuracy train: 0.6419545071609098\n",
      "Accuracy test: 0.5757575757575758\n",
      "Best parameter: {'n_neighbors': 11, 'p': 2}\n",
      "Scores accuracy: [0.57142857 0.56873315 0.54177898 0.53908356]\n",
      "Mean accuracy: 0.555256064690027\n"
     ]
    }
   ],
   "source": [
    "'''Pentru acest set de date a fost nevoie \n",
    "sa modificam parametrul cv, intrucat primeam UserWarning, \n",
    "care ne avertiza ca setul de date nu a fost impartit bine'''\n",
    "\n",
    "KNN(x_yeast, y_yeast, list(range(8, 12)), [1, 1.5, 2], 3)"
   ]
  },
  {
   "cell_type": "code",
   "execution_count": 85,
   "metadata": {},
   "outputs": [
    {
     "name": "stdout",
     "output_type": "stream",
     "text": [
      "Grid Search : GridSearchCV(cv=5, error_score=nan,\n",
      "             estimator=KNeighborsClassifier(algorithm='auto', leaf_size=30,\n",
      "                                            metric='minkowski',\n",
      "                                            metric_params=None, n_jobs=None,\n",
      "                                            n_neighbors=5, p=2,\n",
      "                                            weights='uniform'),\n",
      "             iid='deprecated', n_jobs=None,\n",
      "             param_grid={'n_neighbors': [68, 69, 70, 71, 72, 73, 74],\n",
      "                         'p': [1, 2, 3, 4.7]},\n",
      "             pre_dispatch='2*n_jobs', refit=True, return_train_score=True,\n",
      "             scoring='accuracy', verbose=0)\n",
      "Accuracy train: 0.6051602814698983\n",
      "Accuracy test: 0.5875\n",
      "Best parameter: {'n_neighbors': 73, 'p': 1}\n",
      "Scores accuracy: [0.54      0.5475    0.5975    0.5914787]\n",
      "Mean accuracy: 0.5691196741854636\n"
     ]
    }
   ],
   "source": [
    "KNN(x_wine, y_wine, list(range(68, 75)), [1, 2, 3, 4.7])"
   ]
  },
  {
   "cell_type": "code",
   "execution_count": 86,
   "metadata": {},
   "outputs": [
    {
     "name": "stdout",
     "output_type": "stream",
     "text": [
      "Grid Search : GridSearchCV(cv=5, error_score=nan,\n",
      "             estimator=KNeighborsClassifier(algorithm='auto', leaf_size=30,\n",
      "                                            metric='minkowski',\n",
      "                                            metric_params=None, n_jobs=None,\n",
      "                                            n_neighbors=5, p=2,\n",
      "                                            weights='uniform'),\n",
      "             iid='deprecated', n_jobs=None,\n",
      "             param_grid={'n_neighbors': [5, 6, 7, 8, 9, 10, 11, 12, 13, 14],\n",
      "                         'p': [1, 2, 3, 4.7]},\n",
      "             pre_dispatch='2*n_jobs', refit=True, return_train_score=True,\n",
      "             scoring='accuracy', verbose=0)\n",
      "Accuracy train: 0.8151041666666666\n",
      "Accuracy test: 0.8186528497409327\n",
      "Best parameter: {'n_neighbors': 14, 'p': 1}\n",
      "Scores accuracy: [0.7966805  0.79583333 0.80416667 0.80833333]\n",
      "Mean accuracy: 0.8012534578146611\n"
     ]
    }
   ],
   "source": [
    "KNN(x_mammographic, y_mammographic, list(range(5, 15)), [1, 2, 3, 4.7])"
   ]
  },
  {
   "cell_type": "code",
   "execution_count": 226,
   "metadata": {},
   "outputs": [
    {
     "name": "stdout",
     "output_type": "stream",
     "text": [
      "Grid Search : GridSearchCV(cv=5, error_score=nan,\n",
      "             estimator=KNeighborsClassifier(algorithm='auto', leaf_size=30,\n",
      "                                            metric='minkowski',\n",
      "                                            metric_params=None, n_jobs=None,\n",
      "                                            n_neighbors=5, p=2,\n",
      "                                            weights='uniform'),\n",
      "             iid='deprecated', n_jobs=None,\n",
      "             param_grid={'n_neighbors': [1, 2, 3, 4], 'p': [1, 2, 3, 4]},\n",
      "             pre_dispatch='2*n_jobs', refit=True, return_train_score=True,\n",
      "             scoring='accuracy', verbose=0)\n",
      "Accuracy train: 0.842809364548495\n",
      "Accuracy test: 0.7666666666666667\n",
      "Best parameter: {'n_neighbors': 2, 'p': 1}\n",
      "Scores accuracy: [0.47593583 0.75935829 0.73262032 0.78074866]\n",
      "Mean accuracy: 0.6871657754010696\n"
     ]
    }
   ],
   "source": [
    "KNN(x_ecoli, y_ecoli, list(range(1, 5)), [1, 2, 3, 4])"
   ]
  },
  {
   "cell_type": "markdown",
   "metadata": {},
   "source": [
    "# <font color=Magenta> 2. MLPClassifier"
   ]
  },
  {
   "cell_type": "code",
   "execution_count": 188,
   "metadata": {},
   "outputs": [],
   "source": [
    "def MLP(X, y, max_iter, cv=5):\n",
    "    X_train, X_test, y_train, y_test = train_test_split(X, y, test_size=1/5)\n",
    "    parameter_grid = {'activation': ['tanh', 'relu'],\n",
    "                 'alpha':[0.01],\n",
    "                 'learning_rate': ['constant'],\n",
    "                 'max_iter': max_iter}\n",
    "    # 'learning_rate': ['constant', 'invscaling', 'adaptive'], 'tol': [1e-4, 5e-6, 1e-6]\n",
    "\n",
    "    grid_search = GridSearchCV(estimator = MLPClassifier(alpha=0.01), param_grid = parameter_grid, scoring = 'accuracy', \n",
    "                           cv=cv, return_train_score = True)\n",
    "    print(\"Grid Search :\", grid_search.fit(X_train, y_train))\n",
    "\n",
    "    y_estimated_train = grid_search.predict(X_train)\n",
    "    print(\"Accuracy train:\", accuracy_score(y_train, y_estimated_train))\n",
    "\n",
    "    y_estimated_test = grid_search.predict(X_test)\n",
    "    print(\"Accuracy test:\", accuracy_score(y_test, y_estimated_test))\n",
    "\n",
    "    print(\"Best parameter:\", grid_search.best_params_)\n",
    "\n",
    "    scores = cross_val_score(grid_search, X, y, cv=4)\n",
    "    print(\"Scores accuracy:\", scores)\n",
    "    print(\"Mean accuracy:\", scores.mean())"
   ]
  },
  {
   "cell_type": "code",
   "execution_count": 190,
   "metadata": {},
   "outputs": [
    {
     "name": "stdout",
     "output_type": "stream",
     "text": [
      "Grid Search : GridSearchCV(cv=3, error_score=nan,\n",
      "             estimator=MLPClassifier(activation='relu', alpha=0.01,\n",
      "                                     batch_size='auto', beta_1=0.9,\n",
      "                                     beta_2=0.999, early_stopping=False,\n",
      "                                     epsilon=1e-08, hidden_layer_sizes=(100,),\n",
      "                                     learning_rate='constant',\n",
      "                                     learning_rate_init=0.001, max_fun=15000,\n",
      "                                     max_iter=200, momentum=0.9,\n",
      "                                     n_iter_no_change=10,\n",
      "                                     nesterovs_momentum=True, power_t=0.5,\n",
      "                                     random_state=None, shuffle=True,\n",
      "                                     solver='adam', tol=0.0001,\n",
      "                                     validation_fraction=0.1, verbose=False,\n",
      "                                     warm_start=False),\n",
      "             iid='deprecated', n_jobs=None,\n",
      "             param_grid={'activation': ['tanh', 'relu'], 'alpha': [0.01],\n",
      "                         'learning_rate': ['constant'],\n",
      "                         'max_iter': [1700, 2000]},\n",
      "             pre_dispatch='2*n_jobs', refit=True, return_train_score=True,\n",
      "             scoring='accuracy', verbose=0)\n",
      "Accuracy train: 0.6276326874473462\n",
      "Accuracy test: 0.5892255892255892\n",
      "Best parameter: {'activation': 'relu', 'alpha': 0.01, 'learning_rate': 'constant', 'max_iter': 1700}\n",
      "Scores accuracy: [0.60377358 0.606469   0.56334232 0.57951482]\n",
      "Mean accuracy: 0.5882749326145553\n"
     ]
    }
   ],
   "source": [
    "MLP(x_yeast, y_yeast, [1700, 2000], 3)"
   ]
  },
  {
   "cell_type": "code",
   "execution_count": 191,
   "metadata": {},
   "outputs": [
    {
     "name": "stdout",
     "output_type": "stream",
     "text": [
      "Grid Search : GridSearchCV(cv=5, error_score=nan,\n",
      "             estimator=MLPClassifier(activation='relu', alpha=0.01,\n",
      "                                     batch_size='auto', beta_1=0.9,\n",
      "                                     beta_2=0.999, early_stopping=False,\n",
      "                                     epsilon=1e-08, hidden_layer_sizes=(100,),\n",
      "                                     learning_rate='constant',\n",
      "                                     learning_rate_init=0.001, max_fun=15000,\n",
      "                                     max_iter=200, momentum=0.9,\n",
      "                                     n_iter_no_change=10,\n",
      "                                     nesterovs_momentum=True, power_t=0.5,\n",
      "                                     random_state=None, shuffle=True,\n",
      "                                     solver='adam', tol=0.0001,\n",
      "                                     validation_fraction=0.1, verbose=False,\n",
      "                                     warm_start=False),\n",
      "             iid='deprecated', n_jobs=None,\n",
      "             param_grid={'activation': ['tanh', 'relu'], 'alpha': [0.01],\n",
      "                         'learning_rate': ['constant'],\n",
      "                         'max_iter': [1800, 2200]},\n",
      "             pre_dispatch='2*n_jobs', refit=True, return_train_score=True,\n",
      "             scoring='accuracy', verbose=0)\n",
      "Accuracy train: 0.6669272869429241\n",
      "Accuracy test: 0.615625\n",
      "Best parameter: {'activation': 'relu', 'alpha': 0.01, 'learning_rate': 'constant', 'max_iter': 2200}\n",
      "Scores accuracy: [0.5325     0.5775     0.6125     0.62406015]\n",
      "Mean accuracy: 0.586640037593985\n"
     ]
    }
   ],
   "source": [
    "MLP(x_wine, y_wine, [1800, 2200])"
   ]
  },
  {
   "cell_type": "code",
   "execution_count": 192,
   "metadata": {},
   "outputs": [
    {
     "name": "stdout",
     "output_type": "stream",
     "text": [
      "Grid Search : GridSearchCV(cv=5, error_score=nan,\n",
      "             estimator=MLPClassifier(activation='relu', alpha=0.01,\n",
      "                                     batch_size='auto', beta_1=0.9,\n",
      "                                     beta_2=0.999, early_stopping=False,\n",
      "                                     epsilon=1e-08, hidden_layer_sizes=(100,),\n",
      "                                     learning_rate='constant',\n",
      "                                     learning_rate_init=0.001, max_fun=15000,\n",
      "                                     max_iter=200, momentum=0.9,\n",
      "                                     n_iter_no_change=10,\n",
      "                                     nesterovs_momentum=True, power_t=0.5,\n",
      "                                     random_state=None, shuffle=True,\n",
      "                                     solver='adam', tol=0.0001,\n",
      "                                     validation_fraction=0.1, verbose=False,\n",
      "                                     warm_start=False),\n",
      "             iid='deprecated', n_jobs=None,\n",
      "             param_grid={'activation': ['tanh', 'relu'], 'alpha': [0.01],\n",
      "                         'learning_rate': ['constant'],\n",
      "                         'max_iter': [1300, 2100]},\n",
      "             pre_dispatch='2*n_jobs', refit=True, return_train_score=True,\n",
      "             scoring='accuracy', verbose=0)\n",
      "Accuracy train: 0.83203125\n",
      "Accuracy test: 0.7979274611398963\n",
      "Best parameter: {'activation': 'tanh', 'alpha': 0.01, 'learning_rate': 'constant', 'max_iter': 1300}\n",
      "Scores accuracy: [0.80082988 0.84166667 0.8        0.81666667]\n",
      "Mean accuracy: 0.8147908022130013\n"
     ]
    }
   ],
   "source": [
    "MLP(x_mammographic, y_mammographic, [1300, 2100])"
   ]
  },
  {
   "cell_type": "code",
   "execution_count": 227,
   "metadata": {},
   "outputs": [
    {
     "name": "stdout",
     "output_type": "stream",
     "text": [
      "Grid Search : GridSearchCV(cv=5, error_score=nan,\n",
      "             estimator=MLPClassifier(activation='relu', alpha=0.01,\n",
      "                                     batch_size='auto', beta_1=0.9,\n",
      "                                     beta_2=0.999, early_stopping=False,\n",
      "                                     epsilon=1e-08, hidden_layer_sizes=(100,),\n",
      "                                     learning_rate='constant',\n",
      "                                     learning_rate_init=0.001, max_fun=15000,\n",
      "                                     max_iter=200, momentum=0.9,\n",
      "                                     n_iter_no_change=10,\n",
      "                                     nesterovs_momentum=True, power_t=0.5,\n",
      "                                     random_state=None, shuffle=True,\n",
      "                                     solver='adam', tol=0.0001,\n",
      "                                     validation_fraction=0.1, verbose=False,\n",
      "                                     warm_start=False),\n",
      "             iid='deprecated', n_jobs=None,\n",
      "             param_grid={'activation': ['tanh', 'relu'], 'alpha': [0.01],\n",
      "                         'learning_rate': ['constant'],\n",
      "                         'max_iter': [2000, 2500]},\n",
      "             pre_dispatch='2*n_jobs', refit=True, return_train_score=True,\n",
      "             scoring='accuracy', verbose=0)\n",
      "Accuracy train: 0.7725752508361204\n",
      "Accuracy test: 0.7666666666666667\n",
      "Best parameter: {'activation': 'tanh', 'alpha': 0.01, 'learning_rate': 'constant', 'max_iter': 2000}\n",
      "Scores accuracy: [0.82352941 0.7540107  0.80213904 0.76470588]\n",
      "Mean accuracy: 0.786096256684492\n"
     ]
    }
   ],
   "source": [
    "MLP(x_ecoli, y_ecoli, [2000, 2500])"
   ]
  },
  {
   "cell_type": "markdown",
   "metadata": {},
   "source": [
    "# <font color=Magenta> 3. SVC"
   ]
  },
  {
   "cell_type": "code",
   "execution_count": 155,
   "metadata": {},
   "outputs": [],
   "source": [
    "def SVC_classifier(X, y, cv=5):\n",
    "    X_train, X_test, y_train, y_test = train_test_split(X, y, test_size=1/5, random_state=10)\n",
    "    parameter_grid = {'C': list(range(1, 5)), 'gamma': ['scale', 'auto']}\n",
    "\n",
    "    grid_search = GridSearchCV(estimator = SVC(), param_grid = parameter_grid, scoring = 'accuracy', \n",
    "                           cv = cv, return_train_score = True)\n",
    "    print(\"Grid Search :\", grid_search.fit(X_train, y_train))\n",
    "\n",
    "    y_estimated_train = grid_search.predict(X_train)\n",
    "    print(\"Accuracy train:\", accuracy_score(y_train, y_estimated_train))\n",
    "\n",
    "    y_estimated_test = grid_search.predict(X_test)\n",
    "    print(\"Accuracy test:\", accuracy_score(y_test, y_estimated_test))\n",
    "\n",
    "    print(\"Best parameter:\", grid_search.best_params_)\n",
    "\n",
    "    scores = cross_val_score(grid_search, X, y, cv=4)\n",
    "    print(\"Scores accuracy:\", scores)\n",
    "    print(\"Mean accuracy:\", scores.mean())"
   ]
  },
  {
   "cell_type": "code",
   "execution_count": 152,
   "metadata": {},
   "outputs": [
    {
     "name": "stdout",
     "output_type": "stream",
     "text": [
      "Grid Search : GridSearchCV(cv=3, error_score=nan,\n",
      "             estimator=SVC(C=1.0, break_ties=False, cache_size=200,\n",
      "                           class_weight=None, coef0=0.0,\n",
      "                           decision_function_shape='ovr', degree=3,\n",
      "                           gamma='scale', kernel='rbf', max_iter=-1,\n",
      "                           probability=False, random_state=None, shrinking=True,\n",
      "                           tol=0.001, verbose=False),\n",
      "             iid='deprecated', n_jobs=None,\n",
      "             param_grid={'C': [1, 2, 3, 4], 'gamma': ['scale', 'auto']},\n",
      "             pre_dispatch='2*n_jobs', refit=True, return_train_score=True,\n",
      "             scoring='accuracy', verbose=0)\n",
      "Accuracy train: 0.6436394271272114\n",
      "Accuracy test: 0.5959595959595959\n",
      "Best parameter: {'C': 4, 'gamma': 'scale'}\n",
      "Scores accuracy: [0.60916442 0.59838275 0.56603774 0.60107817]\n",
      "Mean accuracy: 0.5936657681940701\n"
     ]
    }
   ],
   "source": [
    "SVC_classifier(x_yeast, y_yeast, 3)"
   ]
  },
  {
   "cell_type": "code",
   "execution_count": 153,
   "metadata": {},
   "outputs": [
    {
     "name": "stdout",
     "output_type": "stream",
     "text": [
      "Grid Search : GridSearchCV(cv=5, error_score=nan,\n",
      "             estimator=SVC(C=1.0, break_ties=False, cache_size=200,\n",
      "                           class_weight=None, coef0=0.0,\n",
      "                           decision_function_shape='ovr', degree=3,\n",
      "                           gamma='scale', kernel='rbf', max_iter=-1,\n",
      "                           probability=False, random_state=None, shrinking=True,\n",
      "                           tol=0.001, verbose=False),\n",
      "             iid='deprecated', n_jobs=None,\n",
      "             param_grid={'C': [1, 2, 3, 4], 'gamma': ['scale', 'auto']},\n",
      "             pre_dispatch='2*n_jobs', refit=True, return_train_score=True,\n",
      "             scoring='accuracy', verbose=0)\n",
      "Accuracy train: 0.6309616888193902\n",
      "Accuracy test: 0.5875\n",
      "Best parameter: {'C': 3, 'gamma': 'scale'}\n",
      "Scores accuracy: [0.555      0.5325     0.625      0.59649123]\n",
      "Mean accuracy: 0.5772478070175439\n"
     ]
    }
   ],
   "source": [
    "SVC_classifier(x_wine, y_wine)"
   ]
  },
  {
   "cell_type": "code",
   "execution_count": 154,
   "metadata": {},
   "outputs": [
    {
     "name": "stdout",
     "output_type": "stream",
     "text": [
      "Grid Search : GridSearchCV(cv=5, error_score=nan,\n",
      "             estimator=SVC(C=1.0, break_ties=False, cache_size=200,\n",
      "                           class_weight=None, coef0=0.0,\n",
      "                           decision_function_shape='ovr', degree=3,\n",
      "                           gamma='scale', kernel='rbf', max_iter=-1,\n",
      "                           probability=False, random_state=None, shrinking=True,\n",
      "                           tol=0.001, verbose=False),\n",
      "             iid='deprecated', n_jobs=None,\n",
      "             param_grid={'C': [1, 2, 3, 4], 'gamma': ['scale', 'auto']},\n",
      "             pre_dispatch='2*n_jobs', refit=True, return_train_score=True,\n",
      "             scoring='accuracy', verbose=0)\n",
      "Accuracy train: 0.8463541666666666\n",
      "Accuracy test: 0.8704663212435233\n",
      "Best parameter: {'C': 2, 'gamma': 'auto'}\n",
      "Scores accuracy: [0.80497925 0.82083333 0.8        0.8       ]\n",
      "Mean accuracy: 0.8064531466113416\n"
     ]
    }
   ],
   "source": [
    "SVC_classifier(x_mammographic, y_mammographic)"
   ]
  },
  {
   "cell_type": "code",
   "execution_count": 228,
   "metadata": {},
   "outputs": [
    {
     "name": "stdout",
     "output_type": "stream",
     "text": [
      "Grid Search : GridSearchCV(cv=5, error_score=nan,\n",
      "             estimator=SVC(C=1.0, break_ties=False, cache_size=200,\n",
      "                           class_weight=None, coef0=0.0,\n",
      "                           decision_function_shape='ovr', degree=3,\n",
      "                           gamma='scale', kernel='rbf', max_iter=-1,\n",
      "                           probability=False, random_state=None, shrinking=True,\n",
      "                           tol=0.001, verbose=False),\n",
      "             iid='deprecated', n_jobs=None,\n",
      "             param_grid={'C': [1, 2, 3, 4], 'gamma': ['scale', 'auto']},\n",
      "             pre_dispatch='2*n_jobs', refit=True, return_train_score=True,\n",
      "             scoring='accuracy', verbose=0)\n",
      "Accuracy train: 0.7709030100334449\n",
      "Accuracy test: 0.7933333333333333\n",
      "Best parameter: {'C': 1, 'gamma': 'scale'}\n",
      "Scores accuracy: [0.75935829 0.7540107  0.76470588 0.77005348]\n",
      "Mean accuracy: 0.7620320855614974\n"
     ]
    }
   ],
   "source": [
    "SVC_classifier(x_ecoli, y_ecoli)"
   ]
  },
  {
   "cell_type": "markdown",
   "metadata": {},
   "source": [
    "# <font color = magenta> 4. GaussianProcessClassifier"
   ]
  },
  {
   "cell_type": "code",
   "execution_count": 174,
   "metadata": {},
   "outputs": [],
   "source": [
    "def gaussian(X, y, cv=5):\n",
    "    X_train, X_test, y_train, y_test = train_test_split(X, y, test_size=1/5)\n",
    "    parameter_grid = {'n_restarts_optimizer': list(range(1, 3)),\n",
    "                     'max_iter_predict': [100, 200]}\n",
    "\n",
    "    grid_search = GridSearchCV(estimator = GaussianProcessClassifier(), param_grid = parameter_grid, scoring = 'accuracy', \n",
    "                           cv = cv, return_train_score = True, n_jobs=4)\n",
    "    print(\"Grid Search :\", grid_search.fit(X_train, y_train))\n",
    "\n",
    "    y_estimated_train = grid_search.predict(X_train)\n",
    "    print(\"Accuracy train:\", accuracy_score(y_train, y_estimated_train))\n",
    "\n",
    "    y_estimated_test = grid_search.predict(X_test)\n",
    "    print(\"Accuracy test:\", accuracy_score(y_test, y_estimated_test))\n",
    "\n",
    "    print(\"Best parameter:\", grid_search.best_params_)\n",
    "\n",
    "    scores = cross_val_score(grid_search, X, y, cv=4, error_score='raise')\n",
    "    print(\"Scores accuracy:\", scores)\n",
    "    print(\"Mean accuracy:\", scores.mean())"
   ]
  },
  {
   "cell_type": "code",
   "execution_count": 175,
   "metadata": {},
   "outputs": [
    {
     "name": "stdout",
     "output_type": "stream",
     "text": [
      "Grid Search : GridSearchCV(cv=3, error_score=nan,\n",
      "             estimator=GaussianProcessClassifier(copy_X_train=True, kernel=None,\n",
      "                                                 max_iter_predict=100,\n",
      "                                                 multi_class='one_vs_rest',\n",
      "                                                 n_jobs=None,\n",
      "                                                 n_restarts_optimizer=0,\n",
      "                                                 optimizer='fmin_l_bfgs_b',\n",
      "                                                 random_state=None,\n",
      "                                                 warm_start=False),\n",
      "             iid='deprecated', n_jobs=4,\n",
      "             param_grid={'max_iter_predict': [100, 200],\n",
      "                         'n_restarts_optimizer': [1, 2]},\n",
      "             pre_dispatch='2*n_jobs', refit=True, return_train_score=True,\n",
      "             scoring='accuracy', verbose=0)\n",
      "Accuracy train: 0.5425442291491154\n",
      "Accuracy test: 0.5218855218855218\n",
      "Best parameter: {'max_iter_predict': 100, 'n_restarts_optimizer': 1}\n",
      "Scores accuracy: [0.54177898 0.56334232 0.51212938 0.54447439]\n",
      "Mean accuracy: 0.5404312668463612\n"
     ]
    }
   ],
   "source": [
    "gaussian(x_yeast, y_yeast, 3)"
   ]
  },
  {
   "cell_type": "code",
   "execution_count": 176,
   "metadata": {},
   "outputs": [
    {
     "name": "stdout",
     "output_type": "stream",
     "text": [
      "Grid Search : GridSearchCV(cv=5, error_score=nan,\n",
      "             estimator=GaussianProcessClassifier(copy_X_train=True, kernel=None,\n",
      "                                                 max_iter_predict=100,\n",
      "                                                 multi_class='one_vs_rest',\n",
      "                                                 n_jobs=None,\n",
      "                                                 n_restarts_optimizer=0,\n",
      "                                                 optimizer='fmin_l_bfgs_b',\n",
      "                                                 random_state=None,\n",
      "                                                 warm_start=False),\n",
      "             iid='deprecated', n_jobs=4,\n",
      "             param_grid={'max_iter_predict': [100, 200],\n",
      "                         'n_restarts_optimizer': [1, 2]},\n",
      "             pre_dispatch='2*n_jobs', refit=True, return_train_score=True,\n",
      "             scoring='accuracy', verbose=0)\n",
      "Accuracy train: 0.5879593432369038\n",
      "Accuracy test: 0.584375\n",
      "Best parameter: {'max_iter_predict': 100, 'n_restarts_optimizer': 1}\n",
      "Scores accuracy: [0.5425    0.525     0.605     0.5914787]\n",
      "Mean accuracy: 0.5659946741854636\n"
     ]
    }
   ],
   "source": [
    "gaussian(x_wine, y_wine)"
   ]
  },
  {
   "cell_type": "code",
   "execution_count": 177,
   "metadata": {},
   "outputs": [
    {
     "name": "stdout",
     "output_type": "stream",
     "text": [
      "Grid Search : GridSearchCV(cv=5, error_score=nan,\n",
      "             estimator=GaussianProcessClassifier(copy_X_train=True, kernel=None,\n",
      "                                                 max_iter_predict=100,\n",
      "                                                 multi_class='one_vs_rest',\n",
      "                                                 n_jobs=None,\n",
      "                                                 n_restarts_optimizer=0,\n",
      "                                                 optimizer='fmin_l_bfgs_b',\n",
      "                                                 random_state=None,\n",
      "                                                 warm_start=False),\n",
      "             iid='deprecated', n_jobs=4,\n",
      "             param_grid={'max_iter_predict': [100, 200],\n",
      "                         'n_restarts_optimizer': [1, 2]},\n",
      "             pre_dispatch='2*n_jobs', refit=True, return_train_score=True,\n",
      "             scoring='accuracy', verbose=0)\n",
      "Accuracy train: 0.91015625\n",
      "Accuracy test: 0.772020725388601\n",
      "Best parameter: {'max_iter_predict': 100, 'n_restarts_optimizer': 1}\n",
      "Scores accuracy: [0.80497925 0.82083333 0.775      0.80416667]\n",
      "Mean accuracy: 0.8012448132780083\n"
     ]
    }
   ],
   "source": [
    "gaussian(x_mammographic, y_mammographic)"
   ]
  },
  {
   "cell_type": "code",
   "execution_count": 229,
   "metadata": {},
   "outputs": [
    {
     "name": "stdout",
     "output_type": "stream",
     "text": [
      "Grid Search : GridSearchCV(cv=5, error_score=nan,\n",
      "             estimator=GaussianProcessClassifier(copy_X_train=True, kernel=None,\n",
      "                                                 max_iter_predict=100,\n",
      "                                                 multi_class='one_vs_rest',\n",
      "                                                 n_jobs=None,\n",
      "                                                 n_restarts_optimizer=0,\n",
      "                                                 optimizer='fmin_l_bfgs_b',\n",
      "                                                 random_state=None,\n",
      "                                                 warm_start=False),\n",
      "             iid='deprecated', n_jobs=4,\n",
      "             param_grid={'max_iter_predict': [100, 200],\n",
      "                         'n_restarts_optimizer': [1, 2]},\n",
      "             pre_dispatch='2*n_jobs', refit=True, return_train_score=True,\n",
      "             scoring='accuracy', verbose=0)\n",
      "Accuracy train: 0.7775919732441472\n",
      "Accuracy test: 0.76\n",
      "Best parameter: {'max_iter_predict': 100, 'n_restarts_optimizer': 1}\n",
      "Scores accuracy: [0.77540107 0.7540107  0.79679144 0.76470588]\n",
      "Mean accuracy: 0.7727272727272727\n"
     ]
    }
   ],
   "source": [
    "gaussian(x_ecoli, y_ecoli)"
   ]
  },
  {
   "cell_type": "markdown",
   "metadata": {},
   "source": [
    "# <font color=magenta> 5. GaussianNB"
   ]
  },
  {
   "cell_type": "code",
   "execution_count": 194,
   "metadata": {},
   "outputs": [],
   "source": [
    "def gaussianNB(X, y, cv=5):\n",
    "    X_train, X_test, y_train, y_test = train_test_split(X, y, test_size=1/5)\n",
    "    parameter_grid = {'var_smoothing': [1e-4, 5e-6, 1e-9]}\n",
    "\n",
    "    grid_search = GridSearchCV(estimator = GaussianNB(), param_grid = parameter_grid, scoring = 'accuracy', \n",
    "                           cv=cv, return_train_score = True)\n",
    "    print(\"Grid Search :\", grid_search.fit(X_train, y_train))\n",
    "\n",
    "    y_estimated_train = grid_search.predict(X_train)\n",
    "    print(\"Accuracy train:\", accuracy_score(y_train, y_estimated_train))\n",
    "\n",
    "    y_estimated_test = grid_search.predict(X_test)\n",
    "    print(\"Accuracy test:\", accuracy_score(y_test, y_estimated_test))\n",
    "\n",
    "    print(\"Best parameter:\", grid_search.best_params_)\n",
    "    \n",
    "    scores = cross_val_score(grid_search, X, y, cv=4)\n",
    "    print(\"Scores accuracy:\", scores)\n",
    "    print(\"Mean accuracy:\", scores.mean())"
   ]
  },
  {
   "cell_type": "code",
   "execution_count": 195,
   "metadata": {},
   "outputs": [
    {
     "name": "stdout",
     "output_type": "stream",
     "text": [
      "Grid Search : GridSearchCV(cv=3, error_score=nan,\n",
      "             estimator=GaussianNB(priors=None, var_smoothing=1e-09),\n",
      "             iid='deprecated', n_jobs=None,\n",
      "             param_grid={'var_smoothing': [0.0001, 5e-06, 1e-09]},\n",
      "             pre_dispatch='2*n_jobs', refit=True, return_train_score=True,\n",
      "             scoring='accuracy', verbose=0)\n",
      "Accuracy train: 0.34456613310867734\n",
      "Accuracy test: 0.3333333333333333\n",
      "Best parameter: {'var_smoothing': 0.0001}\n",
      "Scores accuracy: [0.34231806 0.29110512 0.34770889 0.3180593 ]\n",
      "Mean accuracy: 0.3247978436657682\n"
     ]
    }
   ],
   "source": [
    "gaussianNB(x_yeast, y_yeast, 3)"
   ]
  },
  {
   "cell_type": "code",
   "execution_count": 196,
   "metadata": {},
   "outputs": [
    {
     "name": "stdout",
     "output_type": "stream",
     "text": [
      "Grid Search : GridSearchCV(cv=5, error_score=nan,\n",
      "             estimator=GaussianNB(priors=None, var_smoothing=1e-09),\n",
      "             iid='deprecated', n_jobs=None,\n",
      "             param_grid={'var_smoothing': [0.0001, 5e-06, 1e-09]},\n",
      "             pre_dispatch='2*n_jobs', refit=True, return_train_score=True,\n",
      "             scoring='accuracy', verbose=0)\n",
      "Accuracy train: 0.5645035183737295\n",
      "Accuracy test: 0.525\n",
      "Best parameter: {'var_smoothing': 1e-09}\n",
      "Scores accuracy: [0.52      0.495     0.535     0.5839599]\n",
      "Mean accuracy: 0.5334899749373434\n"
     ]
    }
   ],
   "source": [
    "gaussianNB(x_wine, y_wine)"
   ]
  },
  {
   "cell_type": "code",
   "execution_count": 197,
   "metadata": {},
   "outputs": [
    {
     "name": "stdout",
     "output_type": "stream",
     "text": [
      "Grid Search : GridSearchCV(cv=5, error_score=nan,\n",
      "             estimator=GaussianNB(priors=None, var_smoothing=1e-09),\n",
      "             iid='deprecated', n_jobs=None,\n",
      "             param_grid={'var_smoothing': [0.0001, 5e-06, 1e-09]},\n",
      "             pre_dispatch='2*n_jobs', refit=True, return_train_score=True,\n",
      "             scoring='accuracy', verbose=0)\n",
      "Accuracy train: 0.8020833333333334\n",
      "Accuracy test: 0.7616580310880829\n",
      "Best parameter: {'var_smoothing': 0.0001}\n",
      "Scores accuracy: [0.78423237 0.825      0.7875     0.77083333]\n",
      "Mean accuracy: 0.7918914246196405\n"
     ]
    }
   ],
   "source": [
    "gaussianNB(x_mammographic, y_mammographic)"
   ]
  },
  {
   "cell_type": "code",
   "execution_count": 230,
   "metadata": {},
   "outputs": [
    {
     "name": "stdout",
     "output_type": "stream",
     "text": [
      "Grid Search : GridSearchCV(cv=5, error_score=nan,\n",
      "             estimator=GaussianNB(priors=None, var_smoothing=1e-09),\n",
      "             iid='deprecated', n_jobs=None,\n",
      "             param_grid={'var_smoothing': [0.0001, 5e-06, 1e-09]},\n",
      "             pre_dispatch='2*n_jobs', refit=True, return_train_score=True,\n",
      "             scoring='accuracy', verbose=0)\n",
      "Accuracy train: 0.7575250836120402\n",
      "Accuracy test: 0.7733333333333333\n",
      "Best parameter: {'var_smoothing': 0.0001}\n",
      "Scores accuracy: [0.72192513 0.71122995 0.78609626 0.76470588]\n",
      "Mean accuracy: 0.7459893048128342\n"
     ]
    }
   ],
   "source": [
    "gaussianNB(x_ecoli, y_ecoli)"
   ]
  },
  {
   "cell_type": "markdown",
   "metadata": {},
   "source": [
    "# <font color= magenta> 6. DecisionTreeClassifier"
   ]
  },
  {
   "cell_type": "code",
   "execution_count": 180,
   "metadata": {},
   "outputs": [],
   "source": [
    "def decision_tree(X, y, cv=5):\n",
    "    X_train, X_test, y_train, y_test = train_test_split(X, y, test_size=1/5)\n",
    "    parameter_grid = {'max_depth':[3, 4, 5, 6, 7], 'max_leaf_nodes':[5, 10, 15, 20, 25]}\n",
    "\n",
    "    grid_search = GridSearchCV(estimator = DecisionTreeClassifier(), param_grid = parameter_grid, scoring = 'accuracy', \n",
    "                           cv=cv, return_train_score = True)\n",
    "    print(\"Grid Search :\", grid_search.fit(X_train, y_train))\n",
    "\n",
    "    y_estimated_train = grid_search.predict(X_train)\n",
    "    print(\"Accuracy train:\", accuracy_score(y_train, y_estimated_train))\n",
    "\n",
    "    y_estimated_test = grid_search.predict(X_test)\n",
    "    print(\"Accuracy test:\", accuracy_score(y_test, y_estimated_test))\n",
    "\n",
    "    print(\"Best parameter:\", grid_search.best_params_)\n",
    "\n",
    "    scores = cross_val_score(grid_search, X, y, cv=4)\n",
    "    print(\"Scores accuracy:\", scores)\n",
    "    print(\"Mean accuracy:\", scores.mean())"
   ]
  },
  {
   "cell_type": "code",
   "execution_count": 181,
   "metadata": {},
   "outputs": [
    {
     "name": "stdout",
     "output_type": "stream",
     "text": [
      "Grid Search : GridSearchCV(cv=3, error_score=nan,\n",
      "             estimator=DecisionTreeClassifier(ccp_alpha=0.0, class_weight=None,\n",
      "                                              criterion='gini', max_depth=None,\n",
      "                                              max_features=None,\n",
      "                                              max_leaf_nodes=None,\n",
      "                                              min_impurity_decrease=0.0,\n",
      "                                              min_impurity_split=None,\n",
      "                                              min_samples_leaf=1,\n",
      "                                              min_samples_split=2,\n",
      "                                              min_weight_fraction_leaf=0.0,\n",
      "                                              presort='deprecated',\n",
      "                                              random_state=None,\n",
      "                                              splitter='best'),\n",
      "             iid='deprecated', n_jobs=None,\n",
      "             param_grid={'max_depth': [3, 4, 5, 6, 7],\n",
      "                         'max_leaf_nodes': [5, 10, 15, 20, 25]},\n",
      "             pre_dispatch='2*n_jobs', refit=True, return_train_score=True,\n",
      "             scoring='accuracy', verbose=0)\n",
      "Accuracy train: 0.6133108677337826\n",
      "Accuracy test: 0.5555555555555556\n",
      "Best parameter: {'max_depth': 5, 'max_leaf_nodes': 10}\n",
      "Scores accuracy: [0.59299191 0.57681941 0.5309973  0.54986523]\n",
      "Mean accuracy: 0.5626684636118598\n"
     ]
    }
   ],
   "source": [
    "decision_tree(x_yeast, y_yeast, 3)"
   ]
  },
  {
   "cell_type": "code",
   "execution_count": 182,
   "metadata": {},
   "outputs": [
    {
     "name": "stdout",
     "output_type": "stream",
     "text": [
      "Grid Search : GridSearchCV(cv=5, error_score=nan,\n",
      "             estimator=DecisionTreeClassifier(ccp_alpha=0.0, class_weight=None,\n",
      "                                              criterion='gini', max_depth=None,\n",
      "                                              max_features=None,\n",
      "                                              max_leaf_nodes=None,\n",
      "                                              min_impurity_decrease=0.0,\n",
      "                                              min_impurity_split=None,\n",
      "                                              min_samples_leaf=1,\n",
      "                                              min_samples_split=2,\n",
      "                                              min_weight_fraction_leaf=0.0,\n",
      "                                              presort='deprecated',\n",
      "                                              random_state=None,\n",
      "                                              splitter='best'),\n",
      "             iid='deprecated', n_jobs=None,\n",
      "             param_grid={'max_depth': [3, 4, 5, 6, 7],\n",
      "                         'max_leaf_nodes': [5, 10, 15, 20, 25]},\n",
      "             pre_dispatch='2*n_jobs', refit=True, return_train_score=True,\n",
      "             scoring='accuracy', verbose=0)\n",
      "Accuracy train: 0.6700547302580141\n",
      "Accuracy test: 0.5625\n",
      "Best parameter: {'max_depth': 5, 'max_leaf_nodes': 25}\n",
      "Scores accuracy: [0.53       0.45       0.5675     0.53884712]\n",
      "Mean accuracy: 0.5215867794486215\n"
     ]
    }
   ],
   "source": [
    "decision_tree(x_wine, y_wine)"
   ]
  },
  {
   "cell_type": "code",
   "execution_count": 183,
   "metadata": {},
   "outputs": [
    {
     "name": "stdout",
     "output_type": "stream",
     "text": [
      "Grid Search : GridSearchCV(cv=5, error_score=nan,\n",
      "             estimator=DecisionTreeClassifier(ccp_alpha=0.0, class_weight=None,\n",
      "                                              criterion='gini', max_depth=None,\n",
      "                                              max_features=None,\n",
      "                                              max_leaf_nodes=None,\n",
      "                                              min_impurity_decrease=0.0,\n",
      "                                              min_impurity_split=None,\n",
      "                                              min_samples_leaf=1,\n",
      "                                              min_samples_split=2,\n",
      "                                              min_weight_fraction_leaf=0.0,\n",
      "                                              presort='deprecated',\n",
      "                                              random_state=None,\n",
      "                                              splitter='best'),\n",
      "             iid='deprecated', n_jobs=None,\n",
      "             param_grid={'max_depth': [3, 4, 5, 6, 7],\n",
      "                         'max_leaf_nodes': [5, 10, 15, 20, 25]},\n",
      "             pre_dispatch='2*n_jobs', refit=True, return_train_score=True,\n",
      "             scoring='accuracy', verbose=0)\n",
      "Accuracy train: 0.859375\n",
      "Accuracy test: 0.8341968911917098\n",
      "Best parameter: {'max_depth': 5, 'max_leaf_nodes': 20}\n",
      "Scores accuracy: [0.82157676 0.84583333 0.8125     0.82083333]\n",
      "Mean accuracy: 0.825185857538036\n"
     ]
    }
   ],
   "source": [
    "decision_tree(x_mammographic, y_mammographic)"
   ]
  },
  {
   "cell_type": "code",
   "execution_count": 231,
   "metadata": {},
   "outputs": [
    {
     "name": "stdout",
     "output_type": "stream",
     "text": [
      "Grid Search : GridSearchCV(cv=5, error_score=nan,\n",
      "             estimator=DecisionTreeClassifier(ccp_alpha=0.0, class_weight=None,\n",
      "                                              criterion='gini', max_depth=None,\n",
      "                                              max_features=None,\n",
      "                                              max_leaf_nodes=None,\n",
      "                                              min_impurity_decrease=0.0,\n",
      "                                              min_impurity_split=None,\n",
      "                                              min_samples_leaf=1,\n",
      "                                              min_samples_split=2,\n",
      "                                              min_weight_fraction_leaf=0.0,\n",
      "                                              presort='deprecated',\n",
      "                                              random_state=None,\n",
      "                                              splitter='best'),\n",
      "             iid='deprecated', n_jobs=None,\n",
      "             param_grid={'max_depth': [3, 4, 5, 6, 7],\n",
      "                         'max_leaf_nodes': [5, 10, 15, 20, 25]},\n",
      "             pre_dispatch='2*n_jobs', refit=True, return_train_score=True,\n",
      "             scoring='accuracy', verbose=0)\n",
      "Accuracy train: 0.8193979933110368\n",
      "Accuracy test: 0.7866666666666666\n",
      "Best parameter: {'max_depth': 6, 'max_leaf_nodes': 10}\n",
      "Scores accuracy: [0.59358289 0.80748663 0.74331551 0.82887701]\n",
      "Mean accuracy: 0.7433155080213905\n"
     ]
    }
   ],
   "source": [
    "decision_tree(x_ecoli, y_ecoli)"
   ]
  },
  {
   "cell_type": "markdown",
   "metadata": {},
   "source": [
    "# <font color= magenta> 7. RandomForestClassifier"
   ]
  },
  {
   "cell_type": "code",
   "execution_count": 112,
   "metadata": {},
   "outputs": [],
   "source": [
    "def random_forest(X, y, cv=5):\n",
    "    X_train, X_test, y_train, y_test = train_test_split(X, y, test_size = 1/5)\n",
    "    parameter_grid = {'n_estimators': [150, 200, 250], 'max_depth': [2, 3, 5, 6], 'min_samples_leaf': [1, 2, 13, 15]}\n",
    "\n",
    "    grid_search = GridSearchCV(estimator = RandomForestClassifier(), param_grid = parameter_grid, scoring = 'accuracy', \n",
    "                           cv = cv, return_train_score = True)\n",
    "    print(\"Grid Search :\", grid_search.fit(X_train, y_train))\n",
    "\n",
    "    y_estimated_train = grid_search.predict(X_train)\n",
    "    print(\"Accuracy train:\", accuracy_score(y_train, y_estimated_train))\n",
    "\n",
    "    y_estimated_test = grid_search.predict(X_test)\n",
    "    print(\"Accuracy test:\", accuracy_score(y_test, y_estimated_test))\n",
    "\n",
    "    print(\"Best parameter:\", grid_search.best_params_)\n",
    "\n",
    "    scores = cross_val_score(grid_search, X, y, cv=4)\n",
    "    print(\"Scores accuracy:\", scores)\n",
    "    print(\"Mean accuracy:\", scores.mean())"
   ]
  },
  {
   "cell_type": "code",
   "execution_count": 114,
   "metadata": {},
   "outputs": [
    {
     "name": "stdout",
     "output_type": "stream",
     "text": [
      "Grid Search : GridSearchCV(cv=3, error_score=nan,\n",
      "             estimator=RandomForestClassifier(bootstrap=True, ccp_alpha=0.0,\n",
      "                                              class_weight=None,\n",
      "                                              criterion='gini', max_depth=None,\n",
      "                                              max_features='auto',\n",
      "                                              max_leaf_nodes=None,\n",
      "                                              max_samples=None,\n",
      "                                              min_impurity_decrease=0.0,\n",
      "                                              min_impurity_split=None,\n",
      "                                              min_samples_leaf=1,\n",
      "                                              min_samples_split=2,\n",
      "                                              min_weight_fraction_leaf=0.0,\n",
      "                                              n_estimators=100, n_jobs=None,\n",
      "                                              oob_score=False,\n",
      "                                              random_state=None, verbose=0,\n",
      "                                              warm_start=False),\n",
      "             iid='deprecated', n_jobs=None,\n",
      "             param_grid={'max_depth': [2, 3, 5, 6],\n",
      "                         'min_samples_leaf': [1, 2, 13, 15],\n",
      "                         'n_estimators': [150, 200, 250]},\n",
      "             pre_dispatch='2*n_jobs', refit=True, return_train_score=True,\n",
      "             scoring='accuracy', verbose=0)\n",
      "Accuracy train: 0.6908171861836563\n",
      "Accuracy test: 0.622895622895623\n",
      "Best parameter: {'max_depth': 6, 'min_samples_leaf': 1, 'n_estimators': 200}\n",
      "Scores accuracy: [0.59838275 0.59568733 0.54447439 0.60916442]\n",
      "Mean accuracy: 0.5869272237196765\n"
     ]
    }
   ],
   "source": [
    "'''Pentru acest set de date a fost nevoie \n",
    "sa modificam parametrul cv, intrucat primeam UserWarning, \n",
    "care ne avertiza ca setul de date nu a fost impartit bine'''\n",
    "\n",
    "random_forest(x_yeast, y_yeast, 3)"
   ]
  },
  {
   "cell_type": "code",
   "execution_count": 115,
   "metadata": {},
   "outputs": [
    {
     "name": "stdout",
     "output_type": "stream",
     "text": [
      "Grid Search : GridSearchCV(cv=5, error_score=nan,\n",
      "             estimator=RandomForestClassifier(bootstrap=True, ccp_alpha=0.0,\n",
      "                                              class_weight=None,\n",
      "                                              criterion='gini', max_depth=None,\n",
      "                                              max_features='auto',\n",
      "                                              max_leaf_nodes=None,\n",
      "                                              max_samples=None,\n",
      "                                              min_impurity_decrease=0.0,\n",
      "                                              min_impurity_split=None,\n",
      "                                              min_samples_leaf=1,\n",
      "                                              min_samples_split=2,\n",
      "                                              min_weight_fraction_leaf=0.0,\n",
      "                                              n_estimators=100, n_jobs=None,\n",
      "                                              oob_score=False,\n",
      "                                              random_state=None, verbose=0,\n",
      "                                              warm_start=False),\n",
      "             iid='deprecated', n_jobs=None,\n",
      "             param_grid={'max_depth': [2, 3, 5, 6],\n",
      "                         'min_samples_leaf': [1, 2, 13, 15],\n",
      "                         'n_estimators': [150, 200, 250]},\n",
      "             pre_dispatch='2*n_jobs', refit=True, return_train_score=True,\n",
      "             scoring='accuracy', verbose=0)\n",
      "Accuracy train: 0.7349491790461298\n",
      "Accuracy test: 0.665625\n",
      "Best parameter: {'max_depth': 6, 'min_samples_leaf': 1, 'n_estimators': 200}\n",
      "Scores accuracy: [0.555      0.545      0.5775     0.61904762]\n",
      "Mean accuracy: 0.5741369047619048\n"
     ]
    }
   ],
   "source": [
    "random_forest(x_wine, y_wine)"
   ]
  },
  {
   "cell_type": "code",
   "execution_count": 116,
   "metadata": {},
   "outputs": [
    {
     "name": "stdout",
     "output_type": "stream",
     "text": [
      "Grid Search : GridSearchCV(cv=5, error_score=nan,\n",
      "             estimator=RandomForestClassifier(bootstrap=True, ccp_alpha=0.0,\n",
      "                                              class_weight=None,\n",
      "                                              criterion='gini', max_depth=None,\n",
      "                                              max_features='auto',\n",
      "                                              max_leaf_nodes=None,\n",
      "                                              max_samples=None,\n",
      "                                              min_impurity_decrease=0.0,\n",
      "                                              min_impurity_split=None,\n",
      "                                              min_samples_leaf=1,\n",
      "                                              min_samples_split=2,\n",
      "                                              min_weight_fraction_leaf=0.0,\n",
      "                                              n_estimators=100, n_jobs=None,\n",
      "                                              oob_score=False,\n",
      "                                              random_state=None, verbose=0,\n",
      "                                              warm_start=False),\n",
      "             iid='deprecated', n_jobs=None,\n",
      "             param_grid={'max_depth': [2, 3, 5, 6],\n",
      "                         'min_samples_leaf': [1, 2, 13, 15],\n",
      "                         'n_estimators': [150, 200, 250]},\n",
      "             pre_dispatch='2*n_jobs', refit=True, return_train_score=True,\n",
      "             scoring='accuracy', verbose=0)\n",
      "Accuracy train: 0.8346354166666666\n",
      "Accuracy test: 0.8134715025906736\n",
      "Best parameter: {'max_depth': 5, 'min_samples_leaf': 13, 'n_estimators': 250}\n",
      "Scores accuracy: [0.81327801 0.85       0.8        0.82916667]\n",
      "Mean accuracy: 0.8231111687413555\n"
     ]
    }
   ],
   "source": [
    "random_forest(x_mammographic, y_mammographic)"
   ]
  },
  {
   "cell_type": "code",
   "execution_count": 232,
   "metadata": {},
   "outputs": [
    {
     "name": "stdout",
     "output_type": "stream",
     "text": [
      "Grid Search : GridSearchCV(cv=5, error_score=nan,\n",
      "             estimator=RandomForestClassifier(bootstrap=True, ccp_alpha=0.0,\n",
      "                                              class_weight=None,\n",
      "                                              criterion='gini', max_depth=None,\n",
      "                                              max_features='auto',\n",
      "                                              max_leaf_nodes=None,\n",
      "                                              max_samples=None,\n",
      "                                              min_impurity_decrease=0.0,\n",
      "                                              min_impurity_split=None,\n",
      "                                              min_samples_leaf=1,\n",
      "                                              min_samples_split=2,\n",
      "                                              min_weight_fraction_leaf=0.0,\n",
      "                                              n_estimators=100, n_jobs=None,\n",
      "                                              oob_score=False,\n",
      "                                              random_state=None, verbose=0,\n",
      "                                              warm_start=False),\n",
      "             iid='deprecated', n_jobs=None,\n",
      "             param_grid={'max_depth': [2, 3, 5, 6],\n",
      "                         'min_samples_leaf': [1, 2, 13, 15],\n",
      "                         'n_estimators': [150, 200, 250]},\n",
      "             pre_dispatch='2*n_jobs', refit=True, return_train_score=True,\n",
      "             scoring='accuracy', verbose=0)\n",
      "Accuracy train: 0.8260869565217391\n",
      "Accuracy test: 0.7666666666666667\n",
      "Best parameter: {'max_depth': 6, 'min_samples_leaf': 13, 'n_estimators': 150}\n",
      "Scores accuracy: [0.80213904 0.75935829 0.7540107  0.76470588]\n",
      "Mean accuracy: 0.7700534759358288\n"
     ]
    }
   ],
   "source": [
    "random_forest(x_ecoli, y_ecoli)"
   ]
  },
  {
   "cell_type": "code",
   "execution_count": null,
   "metadata": {},
   "outputs": [],
   "source": []
  }
 ],
 "metadata": {
  "kernelspec": {
   "display_name": "Python 3",
   "language": "python",
   "name": "python3"
  },
  "language_info": {
   "codemirror_mode": {
    "name": "ipython",
    "version": 3
   },
   "file_extension": ".py",
   "mimetype": "text/x-python",
   "name": "python",
   "nbconvert_exporter": "python",
   "pygments_lexer": "ipython3",
   "version": "3.7.6"
  },
  "notify_time": "5",
  "toc": {
   "base_numbering": 1,
   "nav_menu": {},
   "number_sections": true,
   "sideBar": true,
   "skip_h1_title": false,
   "title_cell": "Table of Contents",
   "title_sidebar": "Contents",
   "toc_cell": false,
   "toc_position": {},
   "toc_section_display": true,
   "toc_window_display": false
  },
  "varInspector": {
   "cols": {
    "lenName": 16,
    "lenType": 16,
    "lenVar": 40
   },
   "kernels_config": {
    "python": {
     "delete_cmd_postfix": "",
     "delete_cmd_prefix": "del ",
     "library": "var_list.py",
     "varRefreshCmd": "print(var_dic_list())"
    },
    "r": {
     "delete_cmd_postfix": ") ",
     "delete_cmd_prefix": "rm(",
     "library": "var_list.r",
     "varRefreshCmd": "cat(var_dic_list()) "
    }
   },
   "types_to_exclude": [
    "module",
    "function",
    "builtin_function_or_method",
    "instance",
    "_Feature"
   ],
   "window_display": false
  }
 },
 "nbformat": 4,
 "nbformat_minor": 2
}
