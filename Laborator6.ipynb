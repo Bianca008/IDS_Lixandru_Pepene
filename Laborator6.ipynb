{
 "cells": [
  {
   "cell_type": "markdown",
   "metadata": {},
   "source": [
    "<font color = Magenta> _Lixandru Andreea-Bianca 382\n",
    " <br>   Pepene Adina-Florentina 382_"
   ]
  },
  {
   "cell_type": "markdown",
   "metadata": {},
   "source": [
    "# Laborator 6\n",
    "\n",
    "Versiunea 2020-04-01"
   ]
  },
  {
   "cell_type": "markdown",
   "metadata": {},
   "source": [
    "## Modele de clasificare\n",
    "\n",
    "Folositi 4 seturi de date pentru probleme de clasificare, plecand de la repository-urile specificate in Cursul 5; de exemplu, [ics.uci.edu](http://archive.ics.uci.edu/ml/datasets.php?format=mat&task=cla&att=&area=&numAtt=&numIns=&type=mvar&sort=nameUp&view=table). Cel putin doua seturi de date sa fie cu valori lipsa. \n",
    "\n",
    "\n",
    "1. (20 puncte) Aplicati o metoda de missing value imputation, unde este cazul; justificati si documentati metoda folosita.\n",
    "1. (numar de modele * numar de seturi de date \\* 1 punct = 20 de puncte) Pentru fiecare set de date aplicati 5 modele de clasificare din scikit learn. Pentru fiecare raportati: acuratete, scorul F1 - a se vedea [sklearn.metrics](http://scikit-learn.org/stable/modules/classes.html#module-sklearn.metrics) - folosind 5 fold cross validation. Raportati mediile rezultatelor atat pentru fold-urile de antrenare, cat si pentru cele de testare. Rularile se vor face cu valori fixate ale hiperparametrilor. \n",
    "1. (numar modele * 4 puncte = 20 puncte) Documentati in jupyter notebook fiecare din modelele folosite, in limba romana. Daca acelasi algoritm e folosit pentru mai multe seturi de date, puteti face o sectiune separata cu documentarea algoritmilor + trimitere la algoritm. \n",
    "1. (numar de modele * numar de seturi de date \\* 1 punct = 20 de puncte) Pentru fiecare model: efectuati o cautare a hiperparametrilor optimi folosind grid search si random search (cu parametrul cv = 4), folosind 5 fold cross validation. \n",
    "\n",
    "Se acorda 20 de puncte din oficiu. "
   ]
  },
  {
   "cell_type": "markdown",
   "metadata": {},
   "source": [
    "Exemple de modele de clasificare:\n",
    "1. [Multi-layer Perceptron classifier](https://scikit-learn.org/stable/modules/generated/sklearn.neural_network.MLPClassifier.html#sklearn.neural_network.MLPClassifier)\n",
    "1. [KNN](https://scikit-learn.org/stable/modules/generated/sklearn.neighbors.KNeighborsClassifier.html#sklearn.neighbors.KNeighborsClassifier)\n",
    "1. [SVM](https://scikit-learn.org/stable/modules/generated/sklearn.svm.SVC.html#sklearn.svm.SVC)\n",
    "1. [Gaussian processes](https://scikit-learn.org/stable/modules/generated/sklearn.gaussian_process.GaussianProcessClassifier.html#sklearn.gaussian_process.GaussianProcessClassifier)\n",
    "1. [RBF](https://scikit-learn.org/stable/modules/generated/sklearn.gaussian_process.kernels.RBF.html#sklearn.gaussian_process.kernels.RBF)\n",
    "1. [Decision tree](https://scikit-learn.org/stable/modules/generated/sklearn.tree.DecisionTreeClassifier.html#sklearn.tree.DecisionTreeClassifier)\n",
    "1. [Random forest](https://scikit-learn.org/stable/modules/generated/sklearn.ensemble.RandomForestClassifier.html#sklearn.ensemble.RandomForestClassifier)\n",
    "1. [Gaussian Naive bayes](https://scikit-learn.org/stable/modules/generated/sklearn.naive_bayes.GaussianNB.html#sklearn.naive_bayes.GaussianNB) "
   ]
  },
  {
   "cell_type": "markdown",
   "metadata": {},
   "source": [
    "*Predare:* \n",
    "1. Fiecare student va depune pe site-ul de elearning fisier Jupyter notebook sau arhiva cu astfel de fisiere; \n",
    "1. In fiecare fisier se specifica numele celor doi studenti care au lucra in echipa. \n",
    "1. Predarea se face in saptamana 13-17 aprilie 2020\n",
    "1. Revedeti formele ulterioare ale acestui document pentru precizari despre: continutul rezultatelor raportate, modalitate de notare."
   ]
  },
  {
   "cell_type": "markdown",
   "metadata": {},
   "source": [
    "# <font color= Magenta> Rezolvare"
   ]
  },
  {
   "cell_type": "markdown",
   "metadata": {},
   "source": [
    "Citim seturile de date si ne uitam care dintre ele au valori lipsa."
   ]
  },
  {
   "cell_type": "code",
   "execution_count": 88,
   "metadata": {},
   "outputs": [],
   "source": [
    "import pandas as pd \n",
    "import numpy as np"
   ]
  },
  {
   "cell_type": "code",
   "execution_count": 89,
   "metadata": {},
   "outputs": [
    {
     "data": {
      "text/html": [
       "<div>\n",
       "<style scoped>\n",
       "    .dataframe tbody tr th:only-of-type {\n",
       "        vertical-align: middle;\n",
       "    }\n",
       "\n",
       "    .dataframe tbody tr th {\n",
       "        vertical-align: top;\n",
       "    }\n",
       "\n",
       "    .dataframe thead th {\n",
       "        text-align: right;\n",
       "    }\n",
       "</style>\n",
       "<table border=\"1\" class=\"dataframe\">\n",
       "  <thead>\n",
       "    <tr style=\"text-align: right;\">\n",
       "      <th></th>\n",
       "      <th>mcg</th>\n",
       "      <th>gvh</th>\n",
       "      <th>alm</th>\n",
       "      <th>mit</th>\n",
       "      <th>erl</th>\n",
       "      <th>pox</th>\n",
       "      <th>vac</th>\n",
       "      <th>nuc</th>\n",
       "      <th>class</th>\n",
       "    </tr>\n",
       "  </thead>\n",
       "  <tbody>\n",
       "    <tr>\n",
       "      <th>ADT1_YEAST</th>\n",
       "      <td>0.58</td>\n",
       "      <td>0.61</td>\n",
       "      <td>0.47</td>\n",
       "      <td>0.13</td>\n",
       "      <td>0.5</td>\n",
       "      <td>0.0</td>\n",
       "      <td>0.48</td>\n",
       "      <td>0.22</td>\n",
       "      <td>MIT</td>\n",
       "    </tr>\n",
       "    <tr>\n",
       "      <th>ADT2_YEAST</th>\n",
       "      <td>0.43</td>\n",
       "      <td>0.67</td>\n",
       "      <td>0.48</td>\n",
       "      <td>0.27</td>\n",
       "      <td>0.5</td>\n",
       "      <td>0.0</td>\n",
       "      <td>0.53</td>\n",
       "      <td>0.22</td>\n",
       "      <td>MIT</td>\n",
       "    </tr>\n",
       "    <tr>\n",
       "      <th>ADT3_YEAST</th>\n",
       "      <td>0.64</td>\n",
       "      <td>0.62</td>\n",
       "      <td>0.49</td>\n",
       "      <td>0.15</td>\n",
       "      <td>0.5</td>\n",
       "      <td>0.0</td>\n",
       "      <td>0.53</td>\n",
       "      <td>0.22</td>\n",
       "      <td>MIT</td>\n",
       "    </tr>\n",
       "    <tr>\n",
       "      <th>AAR2_YEAST</th>\n",
       "      <td>0.58</td>\n",
       "      <td>0.44</td>\n",
       "      <td>0.57</td>\n",
       "      <td>0.13</td>\n",
       "      <td>0.5</td>\n",
       "      <td>0.0</td>\n",
       "      <td>0.54</td>\n",
       "      <td>0.22</td>\n",
       "      <td>NUC</td>\n",
       "    </tr>\n",
       "    <tr>\n",
       "      <th>AATM_YEAST</th>\n",
       "      <td>0.42</td>\n",
       "      <td>0.44</td>\n",
       "      <td>0.48</td>\n",
       "      <td>0.54</td>\n",
       "      <td>0.5</td>\n",
       "      <td>0.0</td>\n",
       "      <td>0.48</td>\n",
       "      <td>0.22</td>\n",
       "      <td>MIT</td>\n",
       "    </tr>\n",
       "  </tbody>\n",
       "</table>\n",
       "</div>"
      ],
      "text/plain": [
       "             mcg   gvh   alm   mit  erl  pox   vac   nuc class\n",
       "ADT1_YEAST  0.58  0.61  0.47  0.13  0.5  0.0  0.48  0.22   MIT\n",
       "ADT2_YEAST  0.43  0.67  0.48  0.27  0.5  0.0  0.53  0.22   MIT\n",
       "ADT3_YEAST  0.64  0.62  0.49  0.15  0.5  0.0  0.53  0.22   MIT\n",
       "AAR2_YEAST  0.58  0.44  0.57  0.13  0.5  0.0  0.54  0.22   NUC\n",
       "AATM_YEAST  0.42  0.44  0.48  0.54  0.5  0.0  0.48  0.22   MIT"
      ]
     },
     "execution_count": 89,
     "metadata": {},
     "output_type": "execute_result"
    }
   ],
   "source": [
    "names_yeast = [\"mcg\", \"gvh\",\"alm\",\"mit\",\"erl\",\"pox\",\"vac\",\"nuc\",\"class\"]\n",
    "\n",
    "df_yeast = pd.read_csv('./data/yeast/yeast.data',sep=r\" +\", engine=\"python\", names=names_yeast)\n",
    "\n",
    "df_yeast.head()"
   ]
  },
  {
   "cell_type": "code",
   "execution_count": 90,
   "metadata": {},
   "outputs": [
    {
     "name": "stdout",
     "output_type": "stream",
     "text": [
      "<class 'pandas.core.frame.DataFrame'>\n",
      "Index: 1484 entries, ADT1_YEAST to G6PD_YEAST\n",
      "Data columns (total 9 columns):\n",
      " #   Column  Non-Null Count  Dtype  \n",
      "---  ------  --------------  -----  \n",
      " 0   mcg     1484 non-null   float64\n",
      " 1   gvh     1484 non-null   float64\n",
      " 2   alm     1484 non-null   float64\n",
      " 3   mit     1484 non-null   float64\n",
      " 4   erl     1484 non-null   float64\n",
      " 5   pox     1484 non-null   float64\n",
      " 6   vac     1484 non-null   float64\n",
      " 7   nuc     1484 non-null   float64\n",
      " 8   class   1484 non-null   object \n",
      "dtypes: float64(8), object(1)\n",
      "memory usage: 115.9+ KB\n"
     ]
    }
   ],
   "source": [
    "df_yeast.info()"
   ]
  },
  {
   "cell_type": "code",
   "execution_count": 91,
   "metadata": {},
   "outputs": [
    {
     "data": {
      "text/html": [
       "<div>\n",
       "<style scoped>\n",
       "    .dataframe tbody tr th:only-of-type {\n",
       "        vertical-align: middle;\n",
       "    }\n",
       "\n",
       "    .dataframe tbody tr th {\n",
       "        vertical-align: top;\n",
       "    }\n",
       "\n",
       "    .dataframe thead th {\n",
       "        text-align: right;\n",
       "    }\n",
       "</style>\n",
       "<table border=\"1\" class=\"dataframe\">\n",
       "  <thead>\n",
       "    <tr style=\"text-align: right;\">\n",
       "      <th></th>\n",
       "      <th>fixed acidity</th>\n",
       "      <th>volatile acidity</th>\n",
       "      <th>citric acid</th>\n",
       "      <th>residual sugar</th>\n",
       "      <th>chlorides</th>\n",
       "      <th>free sulfur dioxide</th>\n",
       "      <th>total sulfur dioxide</th>\n",
       "      <th>density</th>\n",
       "      <th>pH</th>\n",
       "      <th>sulphates</th>\n",
       "      <th>alcohol</th>\n",
       "      <th>quality</th>\n",
       "    </tr>\n",
       "  </thead>\n",
       "  <tbody>\n",
       "    <tr>\n",
       "      <th>0</th>\n",
       "      <td>7.4</td>\n",
       "      <td>0.70</td>\n",
       "      <td>0.00</td>\n",
       "      <td>1.9</td>\n",
       "      <td>0.076</td>\n",
       "      <td>11.0</td>\n",
       "      <td>34.0</td>\n",
       "      <td>0.9978</td>\n",
       "      <td>3.51</td>\n",
       "      <td>0.56</td>\n",
       "      <td>9.4</td>\n",
       "      <td>5</td>\n",
       "    </tr>\n",
       "    <tr>\n",
       "      <th>1</th>\n",
       "      <td>7.8</td>\n",
       "      <td>0.88</td>\n",
       "      <td>0.00</td>\n",
       "      <td>2.6</td>\n",
       "      <td>0.098</td>\n",
       "      <td>25.0</td>\n",
       "      <td>67.0</td>\n",
       "      <td>0.9968</td>\n",
       "      <td>3.20</td>\n",
       "      <td>0.68</td>\n",
       "      <td>9.8</td>\n",
       "      <td>5</td>\n",
       "    </tr>\n",
       "    <tr>\n",
       "      <th>2</th>\n",
       "      <td>7.8</td>\n",
       "      <td>0.76</td>\n",
       "      <td>0.04</td>\n",
       "      <td>2.3</td>\n",
       "      <td>0.092</td>\n",
       "      <td>15.0</td>\n",
       "      <td>54.0</td>\n",
       "      <td>0.9970</td>\n",
       "      <td>3.26</td>\n",
       "      <td>0.65</td>\n",
       "      <td>9.8</td>\n",
       "      <td>5</td>\n",
       "    </tr>\n",
       "    <tr>\n",
       "      <th>3</th>\n",
       "      <td>11.2</td>\n",
       "      <td>0.28</td>\n",
       "      <td>0.56</td>\n",
       "      <td>1.9</td>\n",
       "      <td>0.075</td>\n",
       "      <td>17.0</td>\n",
       "      <td>60.0</td>\n",
       "      <td>0.9980</td>\n",
       "      <td>3.16</td>\n",
       "      <td>0.58</td>\n",
       "      <td>9.8</td>\n",
       "      <td>6</td>\n",
       "    </tr>\n",
       "    <tr>\n",
       "      <th>4</th>\n",
       "      <td>7.4</td>\n",
       "      <td>0.70</td>\n",
       "      <td>0.00</td>\n",
       "      <td>1.9</td>\n",
       "      <td>0.076</td>\n",
       "      <td>11.0</td>\n",
       "      <td>34.0</td>\n",
       "      <td>0.9978</td>\n",
       "      <td>3.51</td>\n",
       "      <td>0.56</td>\n",
       "      <td>9.4</td>\n",
       "      <td>5</td>\n",
       "    </tr>\n",
       "  </tbody>\n",
       "</table>\n",
       "</div>"
      ],
      "text/plain": [
       "   fixed acidity  volatile acidity  citric acid  residual sugar  chlorides  \\\n",
       "0            7.4              0.70         0.00             1.9      0.076   \n",
       "1            7.8              0.88         0.00             2.6      0.098   \n",
       "2            7.8              0.76         0.04             2.3      0.092   \n",
       "3           11.2              0.28         0.56             1.9      0.075   \n",
       "4            7.4              0.70         0.00             1.9      0.076   \n",
       "\n",
       "   free sulfur dioxide  total sulfur dioxide  density    pH  sulphates  \\\n",
       "0                 11.0                  34.0   0.9978  3.51       0.56   \n",
       "1                 25.0                  67.0   0.9968  3.20       0.68   \n",
       "2                 15.0                  54.0   0.9970  3.26       0.65   \n",
       "3                 17.0                  60.0   0.9980  3.16       0.58   \n",
       "4                 11.0                  34.0   0.9978  3.51       0.56   \n",
       "\n",
       "   alcohol  quality  \n",
       "0      9.4        5  \n",
       "1      9.8        5  \n",
       "2      9.8        5  \n",
       "3      9.8        6  \n",
       "4      9.4        5  "
      ]
     },
     "execution_count": 91,
     "metadata": {},
     "output_type": "execute_result"
    }
   ],
   "source": [
    "df_wine = pd.read_csv('./data/wine/winequality-red.csv', sep=';')\n",
    "\n",
    "df_wine.head()"
   ]
  },
  {
   "cell_type": "code",
   "execution_count": 92,
   "metadata": {},
   "outputs": [
    {
     "name": "stdout",
     "output_type": "stream",
     "text": [
      "<class 'pandas.core.frame.DataFrame'>\n",
      "RangeIndex: 1599 entries, 0 to 1598\n",
      "Data columns (total 12 columns):\n",
      " #   Column                Non-Null Count  Dtype  \n",
      "---  ------                --------------  -----  \n",
      " 0   fixed acidity         1599 non-null   float64\n",
      " 1   volatile acidity      1599 non-null   float64\n",
      " 2   citric acid           1599 non-null   float64\n",
      " 3   residual sugar        1599 non-null   float64\n",
      " 4   chlorides             1599 non-null   float64\n",
      " 5   free sulfur dioxide   1599 non-null   float64\n",
      " 6   total sulfur dioxide  1599 non-null   float64\n",
      " 7   density               1599 non-null   float64\n",
      " 8   pH                    1599 non-null   float64\n",
      " 9   sulphates             1599 non-null   float64\n",
      " 10  alcohol               1599 non-null   float64\n",
      " 11  quality               1599 non-null   int64  \n",
      "dtypes: float64(11), int64(1)\n",
      "memory usage: 150.0 KB\n"
     ]
    }
   ],
   "source": [
    "df_wine.info()"
   ]
  },
  {
   "cell_type": "code",
   "execution_count": 93,
   "metadata": {},
   "outputs": [
    {
     "data": {
      "text/html": [
       "<div>\n",
       "<style scoped>\n",
       "    .dataframe tbody tr th:only-of-type {\n",
       "        vertical-align: middle;\n",
       "    }\n",
       "\n",
       "    .dataframe tbody tr th {\n",
       "        vertical-align: top;\n",
       "    }\n",
       "\n",
       "    .dataframe thead th {\n",
       "        text-align: right;\n",
       "    }\n",
       "</style>\n",
       "<table border=\"1\" class=\"dataframe\">\n",
       "  <thead>\n",
       "    <tr style=\"text-align: right;\">\n",
       "      <th></th>\n",
       "      <th>class</th>\n",
       "      <th>age</th>\n",
       "      <th>menopause</th>\n",
       "      <th>tumor-size</th>\n",
       "      <th>inv-nodes</th>\n",
       "      <th>node-caps</th>\n",
       "      <th>deg-malig</th>\n",
       "      <th>breast</th>\n",
       "      <th>breast-quad</th>\n",
       "      <th>irradiat</th>\n",
       "    </tr>\n",
       "  </thead>\n",
       "  <tbody>\n",
       "    <tr>\n",
       "      <th>0</th>\n",
       "      <td>0</td>\n",
       "      <td>3</td>\n",
       "      <td>1</td>\n",
       "      <td>30</td>\n",
       "      <td>0</td>\n",
       "      <td>0.0</td>\n",
       "      <td>3</td>\n",
       "      <td>0</td>\n",
       "      <td>2.0</td>\n",
       "      <td>0</td>\n",
       "    </tr>\n",
       "    <tr>\n",
       "      <th>1</th>\n",
       "      <td>0</td>\n",
       "      <td>4</td>\n",
       "      <td>1</td>\n",
       "      <td>20</td>\n",
       "      <td>0</td>\n",
       "      <td>0.0</td>\n",
       "      <td>2</td>\n",
       "      <td>1</td>\n",
       "      <td>3.0</td>\n",
       "      <td>0</td>\n",
       "    </tr>\n",
       "    <tr>\n",
       "      <th>2</th>\n",
       "      <td>0</td>\n",
       "      <td>4</td>\n",
       "      <td>1</td>\n",
       "      <td>20</td>\n",
       "      <td>0</td>\n",
       "      <td>0.0</td>\n",
       "      <td>2</td>\n",
       "      <td>0</td>\n",
       "      <td>2.0</td>\n",
       "      <td>0</td>\n",
       "    </tr>\n",
       "    <tr>\n",
       "      <th>3</th>\n",
       "      <td>0</td>\n",
       "      <td>6</td>\n",
       "      <td>3</td>\n",
       "      <td>15</td>\n",
       "      <td>0</td>\n",
       "      <td>0.0</td>\n",
       "      <td>2</td>\n",
       "      <td>1</td>\n",
       "      <td>1.0</td>\n",
       "      <td>0</td>\n",
       "    </tr>\n",
       "    <tr>\n",
       "      <th>4</th>\n",
       "      <td>0</td>\n",
       "      <td>4</td>\n",
       "      <td>1</td>\n",
       "      <td>0</td>\n",
       "      <td>0</td>\n",
       "      <td>0.0</td>\n",
       "      <td>2</td>\n",
       "      <td>1</td>\n",
       "      <td>4.0</td>\n",
       "      <td>0</td>\n",
       "    </tr>\n",
       "  </tbody>\n",
       "</table>\n",
       "</div>"
      ],
      "text/plain": [
       "   class  age  menopause  tumor-size  inv-nodes  node-caps  deg-malig  breast  \\\n",
       "0      0    3          1          30          0        0.0          3       0   \n",
       "1      0    4          1          20          0        0.0          2       1   \n",
       "2      0    4          1          20          0        0.0          2       0   \n",
       "3      0    6          3          15          0        0.0          2       1   \n",
       "4      0    4          1           0          0        0.0          2       1   \n",
       "\n",
       "   breast-quad  irradiat  \n",
       "0          2.0         0  \n",
       "1          3.0         0  \n",
       "2          2.0         0  \n",
       "3          1.0         0  \n",
       "4          4.0         0  "
      ]
     },
     "execution_count": 93,
     "metadata": {},
     "output_type": "execute_result"
    }
   ],
   "source": [
    "names_breast_cancer = [\"class\",\"age\",\"menopause\",\"tumor-size\",\"inv-nodes\",\"node-caps\",\"deg-malig\",\n",
    "                       \"breast\",\"breast-quad\",\"irradiat\"]\n",
    "\n",
    "df_breast_cancer = pd.read_csv('./data/breast_cancer/breast-cancer.data', names=names_breast_cancer)\n",
    "\n",
    "df_breast_cancer['class'] = df_breast_cancer['class'].map({'recurrence-events': 1, 'no-recurrence-events': 0})\n",
    "\n",
    "df_breast_cancer['age'] = df_breast_cancer['age'].map({'10-19': 1, '20-29': 2, '30-39': 3,\n",
    "                                                       '40-49': 4, '50-59': 5, '60-69': 6,\n",
    "                                                       '70-79': 7, '80-89': 8, '90-99': 9})\n",
    "\n",
    "df_breast_cancer['menopause'] = df_breast_cancer['menopause'].map({'premeno' : 1,'lt40' : 2, 'ge40' : 3})\n",
    "\n",
    "df_breast_cancer['tumor-size'] = df_breast_cancer['tumor-size'].map({'0-4': 0, '5-9': 5, '10-14': 10, '15-19': 15, \n",
    "                                                                   '20-24': 20, '25-29': 25, '30-34': 30, '35-39': 35, \n",
    "                                                                   '40-44': 40, '45-49': 45, '50-54': 50, '55-59': 55})\n",
    "\n",
    "df_breast_cancer['inv-nodes'] = df_breast_cancer['inv-nodes'].map({'0-2':0, '3-5':3, '6-8':6, '9-11':9, '12-14':12, \n",
    "                                                                   '15-17':15,'18-20':18, '21-23':21, '24-26':24, \n",
    "                                                                   '27-29':27, '30-32':30, '33-35':33, '36-39':36})\n",
    "\n",
    "df_breast_cancer['node-caps'] = df_breast_cancer['node-caps'].map({'no': 0, 'yes': 1})\n",
    "\n",
    "df_breast_cancer['breast'] = df_breast_cancer['breast'].map({'left': 0, 'right': 1})\n",
    "\n",
    "df_breast_cancer['breast-quad'] = df_breast_cancer['breast-quad'].map({'left_up': 1, 'left_low': 2, 'right_up': 3,\n",
    "                                                                       'right_low': 4, 'central': 5})\n",
    "\n",
    "df_breast_cancer['irradiat'] = df_breast_cancer['irradiat'].map({'no': 0, 'yes': 1})\n",
    "\n",
    "df_breast_cancer.head()"
   ]
  },
  {
   "cell_type": "code",
   "execution_count": 94,
   "metadata": {},
   "outputs": [
    {
     "name": "stdout",
     "output_type": "stream",
     "text": [
      "<class 'pandas.core.frame.DataFrame'>\n",
      "RangeIndex: 286 entries, 0 to 285\n",
      "Data columns (total 10 columns):\n",
      " #   Column       Non-Null Count  Dtype  \n",
      "---  ------       --------------  -----  \n",
      " 0   class        286 non-null    int64  \n",
      " 1   age          286 non-null    int64  \n",
      " 2   menopause    286 non-null    int64  \n",
      " 3   tumor-size   286 non-null    int64  \n",
      " 4   inv-nodes    286 non-null    int64  \n",
      " 5   node-caps    278 non-null    float64\n",
      " 6   deg-malig    286 non-null    int64  \n",
      " 7   breast       286 non-null    int64  \n",
      " 8   breast-quad  285 non-null    float64\n",
      " 9   irradiat     286 non-null    int64  \n",
      "dtypes: float64(2), int64(8)\n",
      "memory usage: 22.5 KB\n"
     ]
    }
   ],
   "source": [
    "'''In data set-ul breast_cancer missing values sunt marcate prin '?',\n",
    "nu prin valori NaN, asa ca dorim sa inlocuim  valorile '?' cu valori\n",
    "NaN astfel incat sa putem vedea cre sunt valorile necompletate si\n",
    "sa le putem inlocui sau sterge.'''\n",
    "\n",
    "df_breast_cancer = df_breast_cancer.replace('?', np.nan)\n",
    "df_breast_cancer.info()"
   ]
  },
  {
   "cell_type": "code",
   "execution_count": 95,
   "metadata": {},
   "outputs": [
    {
     "data": {
      "text/html": [
       "<div>\n",
       "<style scoped>\n",
       "    .dataframe tbody tr th:only-of-type {\n",
       "        vertical-align: middle;\n",
       "    }\n",
       "\n",
       "    .dataframe tbody tr th {\n",
       "        vertical-align: top;\n",
       "    }\n",
       "\n",
       "    .dataframe thead th {\n",
       "        text-align: right;\n",
       "    }\n",
       "</style>\n",
       "<table border=\"1\" class=\"dataframe\">\n",
       "  <thead>\n",
       "    <tr style=\"text-align: right;\">\n",
       "      <th></th>\n",
       "      <th>class</th>\n",
       "      <th>age</th>\n",
       "      <th>sex</th>\n",
       "      <th>histologic-type</th>\n",
       "      <th>degree-of-diffe</th>\n",
       "      <th>bone</th>\n",
       "      <th>bone-marrow</th>\n",
       "      <th>lung</th>\n",
       "      <th>pleura</th>\n",
       "      <th>peritoneum</th>\n",
       "      <th>liver</th>\n",
       "      <th>brain</th>\n",
       "      <th>skin</th>\n",
       "      <th>neck</th>\n",
       "      <th>supraclavicular</th>\n",
       "      <th>axillar</th>\n",
       "      <th>mediastinum</th>\n",
       "      <th>abdomnial</th>\n",
       "    </tr>\n",
       "  </thead>\n",
       "  <tbody>\n",
       "    <tr>\n",
       "      <th>0</th>\n",
       "      <td>1</td>\n",
       "      <td>1</td>\n",
       "      <td>1</td>\n",
       "      <td>?</td>\n",
       "      <td>3</td>\n",
       "      <td>2</td>\n",
       "      <td>2</td>\n",
       "      <td>1</td>\n",
       "      <td>2</td>\n",
       "      <td>2</td>\n",
       "      <td>2</td>\n",
       "      <td>2</td>\n",
       "      <td>2</td>\n",
       "      <td>2</td>\n",
       "      <td>2</td>\n",
       "      <td>2</td>\n",
       "      <td>2</td>\n",
       "      <td>2</td>\n",
       "    </tr>\n",
       "    <tr>\n",
       "      <th>1</th>\n",
       "      <td>1</td>\n",
       "      <td>1</td>\n",
       "      <td>1</td>\n",
       "      <td>?</td>\n",
       "      <td>3</td>\n",
       "      <td>2</td>\n",
       "      <td>2</td>\n",
       "      <td>2</td>\n",
       "      <td>2</td>\n",
       "      <td>2</td>\n",
       "      <td>1</td>\n",
       "      <td>2</td>\n",
       "      <td>2</td>\n",
       "      <td>2</td>\n",
       "      <td>1</td>\n",
       "      <td>2</td>\n",
       "      <td>1</td>\n",
       "      <td>2</td>\n",
       "    </tr>\n",
       "    <tr>\n",
       "      <th>2</th>\n",
       "      <td>1</td>\n",
       "      <td>1</td>\n",
       "      <td>2</td>\n",
       "      <td>2</td>\n",
       "      <td>3</td>\n",
       "      <td>1</td>\n",
       "      <td>2</td>\n",
       "      <td>2</td>\n",
       "      <td>2</td>\n",
       "      <td>2</td>\n",
       "      <td>2</td>\n",
       "      <td>2</td>\n",
       "      <td>2</td>\n",
       "      <td>2</td>\n",
       "      <td>2</td>\n",
       "      <td>2</td>\n",
       "      <td>1</td>\n",
       "      <td>2</td>\n",
       "    </tr>\n",
       "    <tr>\n",
       "      <th>3</th>\n",
       "      <td>1</td>\n",
       "      <td>1</td>\n",
       "      <td>2</td>\n",
       "      <td>?</td>\n",
       "      <td>3</td>\n",
       "      <td>1</td>\n",
       "      <td>2</td>\n",
       "      <td>1</td>\n",
       "      <td>1</td>\n",
       "      <td>2</td>\n",
       "      <td>2</td>\n",
       "      <td>2</td>\n",
       "      <td>2</td>\n",
       "      <td>2</td>\n",
       "      <td>2</td>\n",
       "      <td>2</td>\n",
       "      <td>1</td>\n",
       "      <td>2</td>\n",
       "    </tr>\n",
       "    <tr>\n",
       "      <th>4</th>\n",
       "      <td>1</td>\n",
       "      <td>1</td>\n",
       "      <td>2</td>\n",
       "      <td>?</td>\n",
       "      <td>3</td>\n",
       "      <td>1</td>\n",
       "      <td>2</td>\n",
       "      <td>1</td>\n",
       "      <td>1</td>\n",
       "      <td>2</td>\n",
       "      <td>2</td>\n",
       "      <td>2</td>\n",
       "      <td>2</td>\n",
       "      <td>2</td>\n",
       "      <td>2</td>\n",
       "      <td>2</td>\n",
       "      <td>1</td>\n",
       "      <td>2</td>\n",
       "    </tr>\n",
       "  </tbody>\n",
       "</table>\n",
       "</div>"
      ],
      "text/plain": [
       "   class  age sex histologic-type degree-of-diffe  bone  bone-marrow  lung  \\\n",
       "0      1    1   1               ?               3     2            2     1   \n",
       "1      1    1   1               ?               3     2            2     2   \n",
       "2      1    1   2               2               3     1            2     2   \n",
       "3      1    1   2               ?               3     1            2     1   \n",
       "4      1    1   2               ?               3     1            2     1   \n",
       "\n",
       "   pleura  peritoneum  liver  brain skin  neck  supraclavicular axillar  \\\n",
       "0       2           2      2      2    2     2                2       2   \n",
       "1       2           2      1      2    2     2                1       2   \n",
       "2       2           2      2      2    2     2                2       2   \n",
       "3       1           2      2      2    2     2                2       2   \n",
       "4       1           2      2      2    2     2                2       2   \n",
       "\n",
       "   mediastinum  abdomnial  \n",
       "0            2          2  \n",
       "1            1          2  \n",
       "2            1          2  \n",
       "3            1          2  \n",
       "4            1          2  "
      ]
     },
     "execution_count": 95,
     "metadata": {},
     "output_type": "execute_result"
    }
   ],
   "source": [
    "names_primary_tumor =[\"class\",\"age\",\"sex\",\"histologic-type\",\"degree-of-diffe\",\"bone\",\"bone-marrow\",\"lung\",\n",
    "                     \"pleura\",\"peritoneum\",\"liver\",\"brain\",\"skin\",\"neck\",\"supraclavicular\",\"axillar\",\"mediastinum\",\"abdomnial\"]\n",
    "\n",
    "df_primary_tumor = pd.read_csv(\"./data/primary_tumor/primary-tumor.data\", names=names_primary_tumor)\n",
    "\n",
    "df_primary_tumor.head()"
   ]
  },
  {
   "cell_type": "code",
   "execution_count": 96,
   "metadata": {},
   "outputs": [
    {
     "name": "stdout",
     "output_type": "stream",
     "text": [
      "<class 'pandas.core.frame.DataFrame'>\n",
      "RangeIndex: 339 entries, 0 to 338\n",
      "Data columns (total 18 columns):\n",
      " #   Column           Non-Null Count  Dtype \n",
      "---  ------           --------------  ----- \n",
      " 0   class            339 non-null    int64 \n",
      " 1   age              339 non-null    int64 \n",
      " 2   sex              338 non-null    object\n",
      " 3   histologic-type  272 non-null    object\n",
      " 4   degree-of-diffe  184 non-null    object\n",
      " 5   bone             339 non-null    int64 \n",
      " 6   bone-marrow      339 non-null    int64 \n",
      " 7   lung             339 non-null    int64 \n",
      " 8   pleura           339 non-null    int64 \n",
      " 9   peritoneum       339 non-null    int64 \n",
      " 10  liver            339 non-null    int64 \n",
      " 11  brain            339 non-null    int64 \n",
      " 12  skin             338 non-null    object\n",
      " 13  neck             339 non-null    int64 \n",
      " 14  supraclavicular  339 non-null    int64 \n",
      " 15  axillar          338 non-null    object\n",
      " 16  mediastinum      339 non-null    int64 \n",
      " 17  abdomnial        339 non-null    int64 \n",
      "dtypes: int64(13), object(5)\n",
      "memory usage: 47.8+ KB\n"
     ]
    }
   ],
   "source": [
    "df_primary_tumor = df_primary_tumor.replace('?', np.nan)\n",
    "\n",
    "df_primary_tumor.info()"
   ]
  },
  {
   "cell_type": "markdown",
   "metadata": {},
   "source": [
    "<font color=blue>Ex1:</font> Aplicati o metoda de missing value imputation, unde este cazul; justificati si documentati metoda folosita.\n",
    "<br>\n",
    "><br>Metode posibile:\n",
    "<br>1. Eliminarea liniilor care contin valori nan.\n",
    "<br>2. Eliminarea coloanelor care contin nan.\n",
    "<br>3. Umplerea valorilor nan cu:\n",
    "> -> o valoare constanta\n",
    "><br>-> copierea ultimei valori cunoscute(ffill)\n",
    "><br>-> umplere 'inapoi'(bfill)\n",
    "><br>-> o valoare calculata (ex: media)"
   ]
  },
  {
   "cell_type": "code",
   "execution_count": 97,
   "metadata": {},
   "outputs": [
    {
     "name": "stdout",
     "output_type": "stream",
     "text": [
      "<class 'pandas.core.frame.DataFrame'>\n",
      "RangeIndex: 286 entries, 0 to 285\n",
      "Data columns (total 10 columns):\n",
      " #   Column       Non-Null Count  Dtype  \n",
      "---  ------       --------------  -----  \n",
      " 0   class        286 non-null    int64  \n",
      " 1   age          286 non-null    int64  \n",
      " 2   menopause    286 non-null    int64  \n",
      " 3   tumor-size   286 non-null    int64  \n",
      " 4   inv-nodes    286 non-null    int64  \n",
      " 5   node-caps    286 non-null    float64\n",
      " 6   deg-malig    286 non-null    int64  \n",
      " 7   breast       286 non-null    int64  \n",
      " 8   breast-quad  286 non-null    float64\n",
      " 9   irradiat     286 non-null    int64  \n",
      "dtypes: float64(2), int64(8)\n",
      "memory usage: 22.5 KB\n"
     ]
    }
   ],
   "source": [
    "'''Pentru dataset-ul breast_cancer am ales sa umplem valorile nan\n",
    "prin copierea ultimei valori cunoscute, intrucat am dori sa pastram\n",
    "cat mai multe din liniile si coloanele data set-ului nostru.\n",
    "Pe coloanele care lipsesc valori nu exista o varietate mare de valori,\n",
    "deci putem folosi ultima valoare cunoscuta. Setul de date este aproape\n",
    "complet si nu necesita multe adaugari.'''\n",
    "\n",
    "df_breast_cancer = df_breast_cancer.fillna(method='ffill')\n",
    "\n",
    "df_breast_cancer.info()"
   ]
  },
  {
   "cell_type": "code",
   "execution_count": 98,
   "metadata": {},
   "outputs": [
    {
     "name": "stdout",
     "output_type": "stream",
     "text": [
      "<class 'pandas.core.frame.DataFrame'>\n",
      "RangeIndex: 339 entries, 0 to 338\n",
      "Data columns (total 18 columns):\n",
      " #   Column           Non-Null Count  Dtype  \n",
      "---  ------           --------------  -----  \n",
      " 0   class            339 non-null    int64  \n",
      " 1   age              339 non-null    int64  \n",
      " 2   sex              339 non-null    float64\n",
      " 3   histologic-type  339 non-null    float64\n",
      " 4   degree-of-diffe  339 non-null    float64\n",
      " 5   bone             339 non-null    int64  \n",
      " 6   bone-marrow      339 non-null    int64  \n",
      " 7   lung             339 non-null    int64  \n",
      " 8   pleura           339 non-null    int64  \n",
      " 9   peritoneum       339 non-null    int64  \n",
      " 10  liver            339 non-null    int64  \n",
      " 11  brain            339 non-null    int64  \n",
      " 12  skin             339 non-null    float64\n",
      " 13  neck             339 non-null    int64  \n",
      " 14  supraclavicular  339 non-null    int64  \n",
      " 15  axillar          339 non-null    float64\n",
      " 16  mediastinum      339 non-null    int64  \n",
      " 17  abdomnial        339 non-null    int64  \n",
      "dtypes: float64(5), int64(13)\n",
      "memory usage: 47.8 KB\n"
     ]
    }
   ],
   "source": [
    "'''Pentru dataset-ul primary_tumor am ales sa umplem valorile lipsa\n",
    "cu media de pe coloana, intrucat am observat ca lipsesc multe valori \n",
    "de pe aceeasi coloana, deci nu putem avea o evidenta clara asupra\n",
    "datelor anterioare. Totusi, nu putem decide inca daca renuntam\n",
    "la coloana digree-of-diffe. Ramane de vazut...'''\n",
    "\n",
    "df_primary_tumor = df_primary_tumor.apply(lambda x: pd.to_numeric(x), axis=0)\n",
    "\n",
    "df_primary_tumor = df_primary_tumor.fillna(round(df_primary_tumor.mean()))\n",
    "\n",
    "df_primary_tumor.info()"
   ]
  },
  {
   "cell_type": "markdown",
   "metadata": {},
   "source": [
    "<font color=blue>Ex2:</font> Pentru fiecare set de date aplicati 5 modele de clasificare din scikit learn. Pentru fiecare raportati: acuratete, scorul F1 - a se vedea sklearn.metrics - folosind 5 fold cross validation. Raportati mediile rezultatelor atat pentru fold-urile de antrenare, cat si pentru cele de testare. Rularile se vor face cu valori fixate ale hiperparametrilor."
   ]
  },
  {
   "cell_type": "markdown",
   "metadata": {},
   "source": [
    "Trebuie sa separam datele in date de intrare si date de iesire."
   ]
  },
  {
   "cell_type": "code",
   "execution_count": 99,
   "metadata": {},
   "outputs": [
    {
     "name": "stdout",
     "output_type": "stream",
     "text": [
      "X_yeast [[0.58 0.61 0.47 0.13 0.5  0.   0.48 0.22]\n",
      " [0.43 0.67 0.48 0.27 0.5  0.   0.53 0.22]\n",
      " [0.64 0.62 0.49 0.15 0.5  0.   0.53 0.22]\n",
      " [0.58 0.44 0.57 0.13 0.5  0.   0.54 0.22]\n",
      " [0.42 0.44 0.48 0.54 0.5  0.   0.48 0.22]\n",
      " [0.51 0.4  0.56 0.17 0.5  0.5  0.49 0.22]\n",
      " [0.5  0.54 0.48 0.65 0.5  0.   0.53 0.22]\n",
      " [0.48 0.45 0.59 0.2  0.5  0.   0.58 0.34]\n",
      " [0.55 0.5  0.66 0.36 0.5  0.   0.49 0.22]\n",
      " [0.4  0.39 0.6  0.15 0.5  0.   0.58 0.3 ]\n",
      " [0.43 0.39 0.54 0.21 0.5  0.   0.53 0.27]\n",
      " [0.42 0.37 0.59 0.2  0.5  0.   0.52 0.29]\n",
      " [0.4  0.42 0.57 0.35 0.5  0.   0.53 0.25]\n",
      " [0.6  0.4  0.52 0.46 0.5  0.   0.53 0.22]\n",
      " [0.66 0.55 0.45 0.19 0.5  0.   0.46 0.22]\n",
      " [0.46 0.44 0.52 0.11 0.5  0.   0.5  0.22]\n",
      " [0.47 0.39 0.5  0.11 0.5  0.   0.49 0.4 ]\n",
      " [0.58 0.47 0.54 0.11 0.5  0.   0.51 0.26]\n",
      " [0.5  0.34 0.55 0.21 0.5  0.   0.49 0.22]\n",
      " [0.61 0.6  0.55 0.21 0.5  0.   0.5  0.25]]\n",
      "Y_yeast ['MIT' 'MIT' 'MIT' 'NUC' 'MIT' 'CYT' 'MIT' 'NUC' 'MIT' 'CYT' 'NUC' 'NUC'\n",
      " 'CYT' 'MIT' 'MIT' 'CYT' 'CYT' 'NUC' 'NUC' 'NUC']\n"
     ]
    }
   ],
   "source": [
    "x_yeast = df_yeast[[\"mcg\", \"gvh\", \"alm\", \"mit\", \"erl\", \"pox\", \"vac\",\"nuc\"]].to_numpy()\n",
    "y_yeast = df_yeast[\"class\"].to_numpy()\n",
    "\n",
    "print(\"X_yeast\", x_yeast[:20, :])\n",
    "print(\"Y_yeast\", y_yeast[:20])"
   ]
  },
  {
   "cell_type": "code",
   "execution_count": 100,
   "metadata": {},
   "outputs": [
    {
     "name": "stdout",
     "output_type": "stream",
     "text": [
      "X_wine [[7.400e+00 7.000e-01 0.000e+00 1.900e+00 7.600e-02 1.100e+01 3.400e+01\n",
      "  9.978e-01 3.510e+00 5.600e-01 9.400e+00]\n",
      " [7.800e+00 8.800e-01 0.000e+00 2.600e+00 9.800e-02 2.500e+01 6.700e+01\n",
      "  9.968e-01 3.200e+00 6.800e-01 9.800e+00]\n",
      " [7.800e+00 7.600e-01 4.000e-02 2.300e+00 9.200e-02 1.500e+01 5.400e+01\n",
      "  9.970e-01 3.260e+00 6.500e-01 9.800e+00]\n",
      " [1.120e+01 2.800e-01 5.600e-01 1.900e+00 7.500e-02 1.700e+01 6.000e+01\n",
      "  9.980e-01 3.160e+00 5.800e-01 9.800e+00]\n",
      " [7.400e+00 7.000e-01 0.000e+00 1.900e+00 7.600e-02 1.100e+01 3.400e+01\n",
      "  9.978e-01 3.510e+00 5.600e-01 9.400e+00]\n",
      " [7.400e+00 6.600e-01 0.000e+00 1.800e+00 7.500e-02 1.300e+01 4.000e+01\n",
      "  9.978e-01 3.510e+00 5.600e-01 9.400e+00]\n",
      " [7.900e+00 6.000e-01 6.000e-02 1.600e+00 6.900e-02 1.500e+01 5.900e+01\n",
      "  9.964e-01 3.300e+00 4.600e-01 9.400e+00]\n",
      " [7.300e+00 6.500e-01 0.000e+00 1.200e+00 6.500e-02 1.500e+01 2.100e+01\n",
      "  9.946e-01 3.390e+00 4.700e-01 1.000e+01]\n",
      " [7.800e+00 5.800e-01 2.000e-02 2.000e+00 7.300e-02 9.000e+00 1.800e+01\n",
      "  9.968e-01 3.360e+00 5.700e-01 9.500e+00]\n",
      " [7.500e+00 5.000e-01 3.600e-01 6.100e+00 7.100e-02 1.700e+01 1.020e+02\n",
      "  9.978e-01 3.350e+00 8.000e-01 1.050e+01]\n",
      " [6.700e+00 5.800e-01 8.000e-02 1.800e+00 9.700e-02 1.500e+01 6.500e+01\n",
      "  9.959e-01 3.280e+00 5.400e-01 9.200e+00]\n",
      " [7.500e+00 5.000e-01 3.600e-01 6.100e+00 7.100e-02 1.700e+01 1.020e+02\n",
      "  9.978e-01 3.350e+00 8.000e-01 1.050e+01]\n",
      " [5.600e+00 6.150e-01 0.000e+00 1.600e+00 8.900e-02 1.600e+01 5.900e+01\n",
      "  9.943e-01 3.580e+00 5.200e-01 9.900e+00]\n",
      " [7.800e+00 6.100e-01 2.900e-01 1.600e+00 1.140e-01 9.000e+00 2.900e+01\n",
      "  9.974e-01 3.260e+00 1.560e+00 9.100e+00]\n",
      " [8.900e+00 6.200e-01 1.800e-01 3.800e+00 1.760e-01 5.200e+01 1.450e+02\n",
      "  9.986e-01 3.160e+00 8.800e-01 9.200e+00]\n",
      " [8.900e+00 6.200e-01 1.900e-01 3.900e+00 1.700e-01 5.100e+01 1.480e+02\n",
      "  9.986e-01 3.170e+00 9.300e-01 9.200e+00]\n",
      " [8.500e+00 2.800e-01 5.600e-01 1.800e+00 9.200e-02 3.500e+01 1.030e+02\n",
      "  9.969e-01 3.300e+00 7.500e-01 1.050e+01]\n",
      " [8.100e+00 5.600e-01 2.800e-01 1.700e+00 3.680e-01 1.600e+01 5.600e+01\n",
      "  9.968e-01 3.110e+00 1.280e+00 9.300e+00]\n",
      " [7.400e+00 5.900e-01 8.000e-02 4.400e+00 8.600e-02 6.000e+00 2.900e+01\n",
      "  9.974e-01 3.380e+00 5.000e-01 9.000e+00]\n",
      " [7.900e+00 3.200e-01 5.100e-01 1.800e+00 3.410e-01 1.700e+01 5.600e+01\n",
      "  9.969e-01 3.040e+00 1.080e+00 9.200e+00]]\n",
      "Y_wine [5 5 5 6 5 5 5 7 7 5 5 5 5 5 5 5 7 5 4 6]\n"
     ]
    }
   ],
   "source": [
    "x_wine = df_wine [[\"fixed acidity\", \"volatile acidity\", \"citric acid\", \"residual sugar\", \"chlorides\", \n",
    "                   \"free sulfur dioxide\", \"total sulfur dioxide\", \"density\", \"pH\", \"sulphates\", \"alcohol\"]].to_numpy()\n",
    "y_wine = df_wine[\"quality\"].to_numpy()\n",
    "\n",
    "print(\"X_wine\", x_wine[:20, :])\n",
    "print(\"Y_wine\", y_wine[:20])"
   ]
  },
  {
   "cell_type": "code",
   "execution_count": 101,
   "metadata": {},
   "outputs": [
    {
     "name": "stdout",
     "output_type": "stream",
     "text": [
      "X_breast_cancer [[ 3.  1. 30.  0.  0.  3.  0.  2.  0.]\n",
      " [ 4.  1. 20.  0.  0.  2.  1.  3.  0.]\n",
      " [ 4.  1. 20.  0.  0.  2.  0.  2.  0.]\n",
      " [ 6.  3. 15.  0.  0.  2.  1.  1.  0.]\n",
      " [ 4.  1.  0.  0.  0.  2.  1.  4.  0.]\n",
      " [ 6.  3. 15.  0.  0.  2.  0.  2.  0.]\n",
      " [ 5.  1. 25.  0.  0.  2.  0.  2.  0.]\n",
      " [ 6.  3. 20.  0.  0.  1.  0.  2.  0.]\n",
      " [ 4.  1. 50.  0.  0.  2.  0.  2.  0.]\n",
      " [ 4.  1. 20.  0.  0.  2.  1.  1.  0.]\n",
      " [ 4.  1.  0.  0.  0.  3.  0.  5.  0.]\n",
      " [ 5.  3. 25.  0.  0.  2.  0.  2.  0.]\n",
      " [ 6.  2. 10.  0.  0.  1.  0.  3.  0.]\n",
      " [ 5.  3. 25.  0.  0.  3.  0.  3.  0.]\n",
      " [ 4.  1. 30.  0.  0.  3.  0.  1.  0.]\n",
      " [ 6.  2. 30.  0.  0.  1.  0.  2.  0.]\n",
      " [ 4.  1. 15.  0.  0.  2.  0.  2.  0.]\n",
      " [ 5.  1. 30.  0.  0.  3.  0.  2.  0.]\n",
      " [ 6.  3. 30.  0.  0.  3.  0.  2.  0.]\n",
      " [ 5.  3. 30.  0.  0.  1.  1.  3.  0.]]\n",
      "Y_breast_cancer [0 0 0 0 0 0 0 0 0 0 0 0 0 0 0 0 0 0 0 0]\n"
     ]
    }
   ],
   "source": [
    "x_breast_cancer = df_breast_cancer[[\"age\", \"menopause\", \"tumor-size\", \"inv-nodes\", \"node-caps\", \"deg-malig\", \"breast\", \n",
    "                                    \"breast-quad\", \"irradiat\"]].to_numpy()\n",
    "y_breast_cancer = df_breast_cancer[\"class\"].to_numpy()\n",
    "\n",
    "print(\"X_breast_cancer\", x_breast_cancer[:20, :])\n",
    "print(\"Y_breast_cancer\", y_breast_cancer[:20])"
   ]
  },
  {
   "cell_type": "code",
   "execution_count": 102,
   "metadata": {},
   "outputs": [
    {
     "name": "stdout",
     "output_type": "stream",
     "text": [
      "X_primary_tumor [[1. 1. 2. 3. 2. 2. 1. 2. 2. 2. 2. 2. 2. 2. 2. 2. 2.]\n",
      " [1. 1. 2. 3. 2. 2. 2. 2. 2. 1. 2. 2. 2. 1. 2. 1. 2.]\n",
      " [1. 2. 2. 3. 1. 2. 2. 2. 2. 2. 2. 2. 2. 2. 2. 1. 2.]\n",
      " [1. 2. 2. 3. 1. 2. 1. 1. 2. 2. 2. 2. 2. 2. 2. 1. 2.]\n",
      " [1. 2. 2. 3. 1. 2. 1. 1. 2. 2. 2. 2. 2. 2. 2. 1. 2.]\n",
      " [1. 2. 2. 3. 1. 2. 2. 2. 2. 2. 1. 2. 2. 1. 1. 1. 2.]\n",
      " [2. 1. 1. 1. 1. 2. 2. 2. 2. 2. 2. 1. 1. 1. 2. 2. 2.]\n",
      " [2. 1. 1. 1. 1. 2. 2. 2. 2. 2. 2. 2. 2. 2. 2. 2. 2.]\n",
      " [2. 1. 1. 1. 2. 2. 2. 2. 2. 2. 2. 2. 1. 2. 2. 2. 2.]\n",
      " [2. 1. 1. 2. 1. 2. 2. 2. 2. 2. 2. 2. 1. 1. 2. 2. 2.]\n",
      " [2. 1. 1. 3. 1. 2. 2. 1. 2. 2. 2. 2. 2. 1. 2. 1. 2.]\n",
      " [2. 1. 1. 3. 1. 2. 2. 2. 2. 2. 2. 1. 2. 2. 1. 2. 2.]\n",
      " [2. 1. 1. 3. 1. 2. 2. 2. 2. 2. 2. 2. 2. 2. 2. 2. 2.]\n",
      " [2. 1. 1. 3. 1. 2. 2. 2. 2. 2. 2. 2. 2. 2. 2. 2. 2.]\n",
      " [2. 1. 1. 3. 2. 2. 2. 2. 2. 1. 2. 2. 2. 2. 2. 1. 2.]\n",
      " [2. 1. 1. 2. 2. 2. 2. 1. 2. 1. 2. 2. 2. 2. 2. 2. 2.]\n",
      " [2. 1. 1. 2. 2. 2. 2. 2. 2. 2. 2. 2. 2. 1. 2. 1. 2.]\n",
      " [2. 1. 2. 2. 2. 2. 1. 2. 2. 2. 2. 2. 1. 1. 2. 1. 2.]\n",
      " [2. 1. 2. 3. 1. 2. 2. 2. 2. 2. 2. 1. 2. 2. 2. 2. 2.]\n",
      " [2. 1. 2. 3. 2. 2. 2. 2. 2. 2. 2. 2. 2. 1. 2. 1. 2.]]\n",
      "Y_primary_tumor [1 1 1 1 1 1 1 1 1 1 1 1 1 1 1 1 1 1 1 1]\n"
     ]
    }
   ],
   "source": [
    "x_primary_tumor = df_primary_tumor[[\"age\", \"sex\", \"histologic-type\", \"degree-of-diffe\", \"bone\", \"bone-marrow\", \"lung\",\n",
    "                     \"pleura\", \"peritoneum\", \"liver\", \"brain\", \"skin\", \"neck\", \"supraclavicular\", \"axillar\", \n",
    "                    \"mediastinum\", \"abdomnial\"]].to_numpy()\n",
    "y_primary_tumor = df_primary_tumor[\"class\"].to_numpy()\n",
    "\n",
    "print(\"X_primary_tumor\", x_primary_tumor[:20, :])\n",
    "print(\"Y_primary_tumor\", y_primary_tumor[:20])"
   ]
  },
  {
   "cell_type": "markdown",
   "metadata": {},
   "source": [
    "Separam setul de date in set de antrenare si set de testare.\n",
    "<br> Cand folosim random state facem un random mai stabil."
   ]
  },
  {
   "cell_type": "code",
   "execution_count": 103,
   "metadata": {},
   "outputs": [],
   "source": [
    "from sklearn.model_selection import train_test_split\n",
    "from collections import Counter"
   ]
  },
  {
   "cell_type": "code",
   "execution_count": 104,
   "metadata": {},
   "outputs": [],
   "source": [
    "def check_balanced_data_set(y_train, y_test) -> None:\n",
    "    print(Counter(y_train))\n",
    "    print(Counter(y_test))"
   ]
  },
  {
   "cell_type": "markdown",
   "metadata": {},
   "source": [
    "<font color= magenta> Yeast dataset."
   ]
  },
  {
   "cell_type": "code",
   "execution_count": 105,
   "metadata": {},
   "outputs": [
    {
     "name": "stdout",
     "output_type": "stream",
     "text": [
      "['CYT' 'NUC' 'NUC' 'NUC' 'CYT' 'EXC' 'ERL' 'EXC' 'ME3' 'EXC' 'CYT' 'CYT'\n",
      " 'CYT' 'ME3' 'CYT' 'MIT' 'ME2' 'ME3' 'NUC' 'NUC']\n",
      "['CYT' 'CYT' 'NUC' 'CYT' 'NUC' 'CYT' 'NUC' 'CYT' 'MIT' 'ME3' 'CYT' 'MIT'\n",
      " 'ME3' 'EXC' 'ME3' 'CYT' 'ME3' 'NUC' 'ME2' 'CYT']\n"
     ]
    }
   ],
   "source": [
    "X_train_yeast, X_test_yeast, y_train_yeast, y_test_yeast = train_test_split(x_yeast,\n",
    "                                                                            y_yeast, \n",
    "                                                                            test_size=1/3,\n",
    "                                                                            shuffle=True,\n",
    "                                                                            random_state=10)\n",
    "\n",
    "print(y_train_yeast[:20])\n",
    "print(y_test_yeast[:20])"
   ]
  },
  {
   "cell_type": "markdown",
   "metadata": {},
   "source": [
    "<font color= magenta> Wine dataset."
   ]
  },
  {
   "cell_type": "code",
   "execution_count": 106,
   "metadata": {},
   "outputs": [
    {
     "name": "stdout",
     "output_type": "stream",
     "text": [
      "[6 5 6 6 5 6 5 6 5 5 7 4 7 6 6 6 6 6 6 7]\n",
      "[5 5 6 6 5 6 7 6 5 5 7 4 5 5 6 5 6 6 6 5]\n"
     ]
    }
   ],
   "source": [
    "X_train_wine, X_test_wine, y_train_wine, y_test_wine = train_test_split(x_wine,\n",
    "                                                                        y_wine, \n",
    "                                                                        test_size=1/3,\n",
    "                                                                        shuffle=True,\n",
    "                                                                        random_state=10)\n",
    "\n",
    "print(y_train_wine[:20])\n",
    "print(y_test_wine[:20])"
   ]
  },
  {
   "cell_type": "markdown",
   "metadata": {},
   "source": [
    "<font color= magenta> Breast cancer dataset."
   ]
  },
  {
   "cell_type": "code",
   "execution_count": 107,
   "metadata": {},
   "outputs": [
    {
     "name": "stdout",
     "output_type": "stream",
     "text": [
      "[0 0 1 0 0 1 1 1 0 0 0 1 0 0 0 1 0 0 0 0]\n",
      "[0 1 0 0 1 0 0 0 0 1 0 0 0 0 1 1 1 0 0 0]\n"
     ]
    }
   ],
   "source": [
    "X_train_breast_cancer, X_test_breast_cancer, y_train_breast_cancer, y_test_breast_cancer = train_test_split(x_breast_cancer,\n",
    "                                                                                                            y_breast_cancer, \n",
    "                                                                                                            test_size=1/3,\n",
    "                                                                                                            shuffle=True,\n",
    "                                                                                                            random_state=10)\n",
    "\n",
    "print(y_train_breast_cancer[:20])\n",
    "print(y_test_breast_cancer[:20])"
   ]
  },
  {
   "cell_type": "markdown",
   "metadata": {},
   "source": [
    "<font color= magenta> Primary tumor dataset."
   ]
  },
  {
   "cell_type": "code",
   "execution_count": 108,
   "metadata": {},
   "outputs": [
    {
     "name": "stdout",
     "output_type": "stream",
     "text": [
      "[ 1 19 22  3 12  5  1 18  1  1 22  3  1 11  2  5  1  8  1  1]\n",
      "[17  1 22 18 11 11 11 14 11  7 11  7 11 22  2 18 11  5  1  1]\n"
     ]
    }
   ],
   "source": [
    "X_train_primary_tumor, X_test_primary_tumor, y_train_primary_tumor, y_test_primary_tumor = train_test_split(x_primary_tumor,\n",
    "                                                                                                            y_primary_tumor, \n",
    "                                                                                                            test_size=1/3,\n",
    "                                                                                                            shuffle=True,\n",
    "                                                                                                            random_state=10)\n",
    "\n",
    "print(y_train_primary_tumor[:20])\n",
    "print(y_test_primary_tumor[:20])"
   ]
  },
  {
   "cell_type": "code",
   "execution_count": 109,
   "metadata": {},
   "outputs": [
    {
     "name": "stdout",
     "output_type": "stream",
     "text": [
      "Counter({'CYT': 308, 'NUC': 285, 'MIT': 163, 'ME3': 111, 'ME2': 36, 'ME1': 27, 'EXC': 25, 'VAC': 18, 'POX': 12, 'ERL': 4})\n",
      "Counter({'CYT': 155, 'NUC': 144, 'MIT': 81, 'ME3': 52, 'ME1': 17, 'ME2': 15, 'VAC': 12, 'EXC': 10, 'POX': 8, 'ERL': 1})\n"
     ]
    }
   ],
   "source": [
    "check_balanced_data_set(y_train_yeast, y_test_yeast)"
   ]
  },
  {
   "cell_type": "code",
   "execution_count": 110,
   "metadata": {},
   "outputs": [
    {
     "name": "stdout",
     "output_type": "stream",
     "text": [
      "Counter({5: 446, 6: 436, 7: 136, 4: 33, 3: 8, 8: 7})\n",
      "Counter({5: 235, 6: 202, 7: 63, 4: 20, 8: 11, 3: 2})\n"
     ]
    }
   ],
   "source": [
    "check_balanced_data_set(y_train_wine, y_test_wine)"
   ]
  },
  {
   "cell_type": "code",
   "execution_count": 111,
   "metadata": {},
   "outputs": [
    {
     "name": "stdout",
     "output_type": "stream",
     "text": [
      "Counter({0: 137, 1: 53})\n",
      "Counter({0: 64, 1: 32})\n"
     ]
    }
   ],
   "source": [
    "check_balanced_data_set(y_train_breast_cancer, y_test_breast_cancer)"
   ]
  },
  {
   "cell_type": "code",
   "execution_count": 112,
   "metadata": {},
   "outputs": [
    {
     "name": "stdout",
     "output_type": "stream",
     "text": [
      "Counter({1: 58, 5: 29, 18: 21, 22: 16, 14: 16, 2: 14, 11: 13, 4: 9, 12: 8, 17: 7, 7: 7, 3: 6, 8: 6, 13: 6, 19: 3, 20: 2, 15: 2, 10: 1, 21: 1, 6: 1})\n",
      "Counter({1: 26, 11: 15, 5: 10, 22: 8, 18: 8, 14: 8, 12: 8, 7: 7, 2: 6, 4: 5, 17: 3, 19: 3, 3: 3, 16: 1, 10: 1, 13: 1})\n"
     ]
    }
   ],
   "source": [
    "check_balanced_data_set(y_train_primary_tumor, y_test_primary_tumor)"
   ]
  },
  {
   "cell_type": "markdown",
   "metadata": {},
   "source": [
    "# <font color=magenta> 1. KNeighbourClassifier"
   ]
  },
  {
   "cell_type": "code",
   "execution_count": 113,
   "metadata": {},
   "outputs": [],
   "source": [
    "from sklearn.neighbors import KNeighborsClassifier\n",
    "from sklearn import metrics\n",
    "from sklearn.model_selection import cross_val_score"
   ]
  },
  {
   "cell_type": "code",
   "execution_count": 114,
   "metadata": {},
   "outputs": [],
   "source": [
    "def k_neighbours_method(X_train, y_train, X_test, y_test, number_of_neighbors) -> None:\n",
    "    model = KNeighborsClassifier(n_neighbors=number_of_neighbors)\n",
    "    model.fit(X_train, y_train)\n",
    "    \n",
    "    y_predicated_train = model.predict(X_train)\n",
    "    y_predicated_test = model.predict(X_test)\n",
    "    \n",
    "    print (\"Train score:\", model.score(X_train, y_train)*100)\n",
    "    print (\"Test score:\", model.score(X_test, y_test)*100)\n",
    "    print (\"Different outputs train:\", sum(y_predicated_train != y_train), \"from total of\", len(y_train))\n",
    "    print (\"Different outputs test:\", sum(y_predicated_test != y_test), \"from total of\", len(y_test))\n",
    "    print (\"Accuracy train:\", metrics.accuracy_score(y_train, y_predicated_train)*100)\n",
    "    # average='micro' Calculate metrics globally by counting the total true positives, false negatives and false positives.\n",
    "    print (\"F1-score train:\", metrics.f1_score(y_train, y_predicated_train, average='micro')*100)\n",
    "    print (\"Accuracy test:\", metrics.accuracy_score(y_test, y_predicated_test)*100)\n",
    "    print (\"F1-score test:\", metrics.f1_score(y_test, y_predicated_test, average='micro')*100)"
   ]
  },
  {
   "cell_type": "code",
   "execution_count": 115,
   "metadata": {},
   "outputs": [
    {
     "name": "stdout",
     "output_type": "stream",
     "text": [
      "Train score: 57.93731041456016\n",
      "Test score: 57.97979797979798\n",
      "Different outputs train: 416 from total of 989\n",
      "Different outputs test: 208 from total of 495\n",
      "Accuracy train: 57.93731041456016\n",
      "F1-score train: 57.93731041456016\n",
      "Accuracy test: 57.97979797979798\n",
      "F1-score test: 57.97979797979798\n"
     ]
    }
   ],
   "source": [
    "k_neighbours_method(X_train_yeast, y_train_yeast, X_test_yeast, y_test_yeast, 59)"
   ]
  },
  {
   "cell_type": "code",
   "execution_count": 116,
   "metadata": {},
   "outputs": [
    {
     "name": "stdout",
     "output_type": "stream",
     "text": [
      "Train score: 53.47091932457786\n",
      "Test score: 49.906191369606\n",
      "Different outputs train: 496 from total of 1066\n",
      "Different outputs test: 267 from total of 533\n",
      "Accuracy train: 53.47091932457786\n",
      "F1-score train: 53.47091932457786\n",
      "Accuracy test: 49.906191369606\n",
      "F1-score test: 49.906191369606\n"
     ]
    }
   ],
   "source": [
    "k_neighbours_method(X_train_wine, y_train_wine, X_test_wine, y_test_wine, 59)"
   ]
  },
  {
   "cell_type": "code",
   "execution_count": 117,
   "metadata": {},
   "outputs": [
    {
     "name": "stdout",
     "output_type": "stream",
     "text": [
      "Train score: 74.21052631578947\n",
      "Test score: 65.625\n",
      "Different outputs train: 49 from total of 190\n",
      "Different outputs test: 33 from total of 96\n",
      "Accuracy train: 74.21052631578947\n",
      "F1-score train: 74.21052631578947\n",
      "Accuracy test: 65.625\n",
      "F1-score test: 65.625\n"
     ]
    }
   ],
   "source": [
    "k_neighbours_method(X_train_breast_cancer, y_train_breast_cancer, X_test_breast_cancer, y_test_breast_cancer, 20)"
   ]
  },
  {
   "cell_type": "code",
   "execution_count": 118,
   "metadata": {},
   "outputs": [
    {
     "name": "stdout",
     "output_type": "stream",
     "text": [
      "Train score: 42.0353982300885\n",
      "Test score: 34.51327433628318\n",
      "Different outputs train: 131 from total of 226\n",
      "Different outputs test: 74 from total of 113\n",
      "Accuracy train: 42.0353982300885\n",
      "F1-score train: 42.0353982300885\n",
      "Accuracy test: 34.51327433628318\n",
      "F1-score test: 34.51327433628318\n"
     ]
    }
   ],
   "source": [
    "k_neighbours_method(X_train_primary_tumor, y_train_primary_tumor, X_test_primary_tumor, y_test_primary_tumor, 59)"
   ]
  },
  {
   "cell_type": "markdown",
   "metadata": {},
   "source": [
    "# <font color=Magenta> 2. MLPClassifier"
   ]
  },
  {
   "cell_type": "code",
   "execution_count": 119,
   "metadata": {},
   "outputs": [],
   "source": [
    "from sklearn.neural_network import MLPClassifier"
   ]
  },
  {
   "cell_type": "code",
   "execution_count": 120,
   "metadata": {},
   "outputs": [],
   "source": [
    "def mlp_method(X_train, y_train, X_test, y_test) -> None:\n",
    "    #‘sgd’ refers to stochastic gradient descent.\n",
    "    model =  MLPClassifier()\n",
    "    model.fit(X_train, y_train)\n",
    "    \n",
    "    y_predicated_train = model.predict(X_train)\n",
    "    y_predicated_test = model.predict(X_test)\n",
    "    \n",
    "    print (\"Train score:\", model.score(X_train, y_train)*100)\n",
    "    print (\"Test score:\", model.score(X_test, y_test)*100)\n",
    "    print (\"Different outputs train:\", sum(y_predicated_train != y_train), \"from total of\", len(y_train))\n",
    "    print (\"Different outputs test:\", sum(y_predicated_test != y_test), \"from total of\", len(y_test))\n",
    "    print (\"Accuracy train:\", metrics.accuracy_score(y_train, y_predicated_train)*100)\n",
    "    # average='micro' Calculate metrics globally by counting the total true positives, false negatives and false positives.\n",
    "    print (\"F1-score train:\", metrics.f1_score(y_train, y_predicated_train, average='micro')*100)\n",
    "    print (\"Accuracy test:\", metrics.accuracy_score(y_test, y_predicated_test)*100)\n",
    "    print (\"F1-score test:\", metrics.f1_score(y_test, y_predicated_test, average='micro')*100)"
   ]
  },
  {
   "cell_type": "code",
   "execution_count": 121,
   "metadata": {},
   "outputs": [
    {
     "name": "stdout",
     "output_type": "stream",
     "text": [
      "Train score: 59.35288169868554\n",
      "Test score: 60.2020202020202\n",
      "Different outputs train: 402 from total of 989\n",
      "Different outputs test: 197 from total of 495\n",
      "Accuracy train: 59.35288169868554\n",
      "F1-score train: 59.35288169868554\n",
      "Accuracy test: 60.2020202020202\n",
      "F1-score test: 60.2020202020202\n"
     ]
    },
    {
     "name": "stderr",
     "output_type": "stream",
     "text": [
      "D:\\Anaconda\\envs\\dataScience\\lib\\site-packages\\sklearn\\neural_network\\_multilayer_perceptron.py:571: ConvergenceWarning: Stochastic Optimizer: Maximum iterations (200) reached and the optimization hasn't converged yet.\n",
      "  % self.max_iter, ConvergenceWarning)\n"
     ]
    }
   ],
   "source": [
    "mlp_method(X_train_yeast, y_train_yeast, X_test_yeast, y_test_yeast)"
   ]
  },
  {
   "cell_type": "code",
   "execution_count": 122,
   "metadata": {},
   "outputs": [
    {
     "name": "stdout",
     "output_type": "stream",
     "text": [
      "Train score: 62.007504690431524\n",
      "Test score: 55.1594746716698\n",
      "Different outputs train: 405 from total of 1066\n",
      "Different outputs test: 239 from total of 533\n",
      "Accuracy train: 62.007504690431524\n",
      "F1-score train: 62.007504690431524\n",
      "Accuracy test: 55.1594746716698\n",
      "F1-score test: 55.1594746716698\n"
     ]
    },
    {
     "name": "stderr",
     "output_type": "stream",
     "text": [
      "D:\\Anaconda\\envs\\dataScience\\lib\\site-packages\\sklearn\\neural_network\\_multilayer_perceptron.py:571: ConvergenceWarning: Stochastic Optimizer: Maximum iterations (200) reached and the optimization hasn't converged yet.\n",
      "  % self.max_iter, ConvergenceWarning)\n"
     ]
    }
   ],
   "source": [
    "mlp_method(X_train_wine, y_train_wine, X_test_wine, y_test_wine)"
   ]
  },
  {
   "cell_type": "code",
   "execution_count": 123,
   "metadata": {},
   "outputs": [
    {
     "name": "stdout",
     "output_type": "stream",
     "text": [
      "Train score: 83.6842105263158\n",
      "Test score: 72.91666666666666\n",
      "Different outputs train: 31 from total of 190\n",
      "Different outputs test: 26 from total of 96\n",
      "Accuracy train: 83.6842105263158\n",
      "F1-score train: 83.6842105263158\n",
      "Accuracy test: 72.91666666666666\n",
      "F1-score test: 72.91666666666666\n"
     ]
    },
    {
     "name": "stderr",
     "output_type": "stream",
     "text": [
      "D:\\Anaconda\\envs\\dataScience\\lib\\site-packages\\sklearn\\neural_network\\_multilayer_perceptron.py:571: ConvergenceWarning: Stochastic Optimizer: Maximum iterations (200) reached and the optimization hasn't converged yet.\n",
      "  % self.max_iter, ConvergenceWarning)\n"
     ]
    }
   ],
   "source": [
    "mlp_method(X_train_breast_cancer, y_train_breast_cancer, X_test_breast_cancer, y_test_breast_cancer)"
   ]
  },
  {
   "cell_type": "code",
   "execution_count": 124,
   "metadata": {},
   "outputs": [
    {
     "name": "stdout",
     "output_type": "stream",
     "text": [
      "Train score: 54.86725663716814\n",
      "Test score: 38.05309734513274\n",
      "Different outputs train: 102 from total of 226\n",
      "Different outputs test: 70 from total of 113\n",
      "Accuracy train: 54.86725663716814\n",
      "F1-score train: 54.86725663716814\n",
      "Accuracy test: 38.05309734513274\n",
      "F1-score test: 38.05309734513274\n"
     ]
    },
    {
     "name": "stderr",
     "output_type": "stream",
     "text": [
      "D:\\Anaconda\\envs\\dataScience\\lib\\site-packages\\sklearn\\neural_network\\_multilayer_perceptron.py:571: ConvergenceWarning: Stochastic Optimizer: Maximum iterations (200) reached and the optimization hasn't converged yet.\n",
      "  % self.max_iter, ConvergenceWarning)\n"
     ]
    }
   ],
   "source": [
    "mlp_method(X_train_primary_tumor, y_train_primary_tumor, X_test_primary_tumor, y_test_primary_tumor)"
   ]
  },
  {
   "cell_type": "markdown",
   "metadata": {},
   "source": [
    "# <font color=Magenta> 3. SVC"
   ]
  },
  {
   "cell_type": "code",
   "execution_count": 125,
   "metadata": {},
   "outputs": [],
   "source": [
    "from sklearn.svm import SVC"
   ]
  },
  {
   "cell_type": "code",
   "execution_count": 126,
   "metadata": {},
   "outputs": [],
   "source": [
    "def svc_method(X_train, y_train, X_test, y_test) -> None:\n",
    "    model = SVC(class_weight=None)\n",
    "    model.fit(X_train,y_train)\n",
    "    \n",
    "    y_predicated_train = model.predict(X_train)\n",
    "    y_predicated_test = model.predict(X_test)\n",
    "    \n",
    "    print (\"Train score:\", model.score(X_train, y_train)*100)\n",
    "    print (\"Test score:\", model.score(X_test, y_test)*100)\n",
    "    print (\"Different outputs train:\", sum(y_predicated_train != y_train), \"from total of\", len(y_train))\n",
    "    print (\"Different outputs test:\", sum(y_predicated_test != y_test), \"from total of\", len(y_test))\n",
    "    print (\"Accuracy train:\", metrics.accuracy_score(y_train, y_predicated_train)*100)\n",
    "    # average='micro' Calculate metrics globally by counting the total true positives, false negatives and false positives.\n",
    "    print (\"F1-score train:\", metrics.f1_score(y_train, y_predicated_train, average='micro')*100)\n",
    "    print (\"Accuracy test:\", metrics.accuracy_score(y_test, y_predicated_test)*100)\n",
    "    print (\"F1-score test:\", metrics.f1_score(y_test, y_predicated_test, average='micro')*100)"
   ]
  },
  {
   "cell_type": "code",
   "execution_count": 127,
   "metadata": {},
   "outputs": [
    {
     "name": "stdout",
     "output_type": "stream",
     "text": [
      "Train score: 61.27401415571284\n",
      "Test score: 60.80808080808081\n",
      "Different outputs train: 383 from total of 989\n",
      "Different outputs test: 194 from total of 495\n",
      "Accuracy train: 61.27401415571284\n",
      "F1-score train: 61.27401415571284\n",
      "Accuracy test: 60.80808080808081\n",
      "F1-score test: 60.80808080808081\n"
     ]
    }
   ],
   "source": [
    "svc_method(X_train_yeast, y_train_yeast, X_test_yeast, y_test_yeast)"
   ]
  },
  {
   "cell_type": "code",
   "execution_count": 128,
   "metadata": {},
   "outputs": [
    {
     "name": "stdout",
     "output_type": "stream",
     "text": [
      "Train score: 52.15759849906192\n",
      "Test score: 46.52908067542214\n",
      "Different outputs train: 510 from total of 1066\n",
      "Different outputs test: 285 from total of 533\n",
      "Accuracy train: 52.15759849906192\n",
      "F1-score train: 52.15759849906192\n",
      "Accuracy test: 46.52908067542214\n",
      "F1-score test: 46.52908067542214\n"
     ]
    }
   ],
   "source": [
    "svc_method(X_train_wine, y_train_wine, X_test_wine, y_test_wine)"
   ]
  },
  {
   "cell_type": "code",
   "execution_count": 129,
   "metadata": {},
   "outputs": [
    {
     "name": "stdout",
     "output_type": "stream",
     "text": [
      "Train score: 72.63157894736842\n",
      "Test score: 68.75\n",
      "Different outputs train: 52 from total of 190\n",
      "Different outputs test: 30 from total of 96\n",
      "Accuracy train: 72.63157894736842\n",
      "F1-score train: 72.63157894736842\n",
      "Accuracy test: 68.75\n",
      "F1-score test: 68.75\n"
     ]
    }
   ],
   "source": [
    "svc_method(X_train_breast_cancer, y_train_breast_cancer, X_test_breast_cancer, y_test_breast_cancer)"
   ]
  },
  {
   "cell_type": "code",
   "execution_count": 130,
   "metadata": {},
   "outputs": [
    {
     "name": "stdout",
     "output_type": "stream",
     "text": [
      "Train score: 62.83185840707964\n",
      "Test score: 37.16814159292036\n",
      "Different outputs train: 84 from total of 226\n",
      "Different outputs test: 71 from total of 113\n",
      "Accuracy train: 62.83185840707964\n",
      "F1-score train: 62.83185840707964\n",
      "Accuracy test: 37.16814159292036\n",
      "F1-score test: 37.168141592920364\n"
     ]
    }
   ],
   "source": [
    "svc_method(X_train_primary_tumor, y_train_primary_tumor, X_test_primary_tumor, y_test_primary_tumor)"
   ]
  },
  {
   "cell_type": "markdown",
   "metadata": {},
   "source": [
    "# <font color = magenta> 4. GaussianProcessClassifier"
   ]
  },
  {
   "cell_type": "code",
   "execution_count": 131,
   "metadata": {},
   "outputs": [],
   "source": [
    "from sklearn.gaussian_process import GaussianProcessClassifier"
   ]
  },
  {
   "cell_type": "code",
   "execution_count": 132,
   "metadata": {},
   "outputs": [],
   "source": [
    "def gaussian_method(X_train, y_train, X_test, y_test) -> None:\n",
    "    model = GaussianProcessClassifier()\n",
    "    model.fit(X_train, y_train)\n",
    "    \n",
    "    y_predicated_train = model.predict(X_train)\n",
    "    y_predicated_test = model.predict(X_test)\n",
    "    \n",
    "    print (\"Train score:\", model.score(X_train, y_train)*100)\n",
    "    print (\"Test score:\", model.score(X_test, y_test)*100)\n",
    "    print (\"Different outputs train:\", sum(y_predicated_train != y_train), \"from total of\", len(y_train))\n",
    "    print (\"Different outputs test:\", sum(y_predicated_test != y_test), \"from total of\", len(y_test))\n",
    "    print (\"Accuracy train:\", metrics.accuracy_score(y_train, y_predicated_train)*100)\n",
    "    # average='micro' Calculate metrics globally by counting the total true positives, false negatives and false positives.\n",
    "    print (\"F1-score train:\", metrics.f1_score(y_train, y_predicated_train, average='micro')*100)\n",
    "    print (\"Accuracy test:\", metrics.accuracy_score(y_test, y_predicated_test)*100)\n",
    "    print (\"F1-score test:\", metrics.f1_score(y_test, y_predicated_test, average='micro')*100)"
   ]
  },
  {
   "cell_type": "code",
   "execution_count": 133,
   "metadata": {},
   "outputs": [
    {
     "name": "stdout",
     "output_type": "stream",
     "text": [
      "Train score: 53.791708796764404\n",
      "Test score: 54.94949494949495\n",
      "Different outputs train: 457 from total of 989\n",
      "Different outputs test: 223 from total of 495\n",
      "Accuracy train: 53.791708796764404\n",
      "F1-score train: 53.791708796764404\n",
      "Accuracy test: 54.94949494949495\n",
      "F1-score test: 54.94949494949495\n"
     ]
    }
   ],
   "source": [
    "gaussian_method(X_train_yeast, y_train_yeast, X_test_yeast, y_test_yeast)"
   ]
  },
  {
   "cell_type": "code",
   "execution_count": 134,
   "metadata": {},
   "outputs": [
    {
     "name": "stdout",
     "output_type": "stream",
     "text": [
      "Train score: 97.46716697936209\n",
      "Test score: 55.34709193245778\n",
      "Different outputs train: 27 from total of 1066\n",
      "Different outputs test: 238 from total of 533\n",
      "Accuracy train: 97.46716697936209\n",
      "F1-score train: 97.46716697936209\n",
      "Accuracy test: 55.34709193245778\n",
      "F1-score test: 55.34709193245778\n"
     ]
    }
   ],
   "source": [
    "gaussian_method(X_train_wine, y_train_wine, X_test_wine, y_test_wine)"
   ]
  },
  {
   "cell_type": "code",
   "execution_count": 135,
   "metadata": {},
   "outputs": [
    {
     "name": "stdout",
     "output_type": "stream",
     "text": [
      "Train score: 96.3157894736842\n",
      "Test score: 62.5\n",
      "Different outputs train: 7 from total of 190\n",
      "Different outputs test: 36 from total of 96\n",
      "Accuracy train: 96.3157894736842\n",
      "F1-score train: 96.3157894736842\n",
      "Accuracy test: 62.5\n",
      "F1-score test: 62.5\n"
     ]
    }
   ],
   "source": [
    "gaussian_method(X_train_breast_cancer, y_train_breast_cancer, X_test_breast_cancer, y_test_breast_cancer)"
   ]
  },
  {
   "cell_type": "code",
   "execution_count": 136,
   "metadata": {},
   "outputs": [
    {
     "name": "stdout",
     "output_type": "stream",
     "text": [
      "Train score: 73.45132743362832\n",
      "Test score: 46.902654867256636\n",
      "Different outputs train: 60 from total of 226\n",
      "Different outputs test: 60 from total of 113\n",
      "Accuracy train: 73.45132743362832\n",
      "F1-score train: 73.45132743362832\n",
      "Accuracy test: 46.902654867256636\n",
      "F1-score test: 46.902654867256636\n"
     ]
    }
   ],
   "source": [
    "gaussian_method(X_train_primary_tumor, y_train_primary_tumor, X_test_primary_tumor, y_test_primary_tumor)"
   ]
  },
  {
   "cell_type": "markdown",
   "metadata": {},
   "source": [
    "# <font color=magenta> 5. GaussianNB"
   ]
  },
  {
   "cell_type": "code",
   "execution_count": 137,
   "metadata": {},
   "outputs": [],
   "source": [
    "from sklearn.naive_bayes import GaussianNB"
   ]
  },
  {
   "cell_type": "code",
   "execution_count": 138,
   "metadata": {},
   "outputs": [],
   "source": [
    "def gaussian_nb_method(X_train, y_train, X_test, y_test) -> None:\n",
    "    model = GaussianNB()\n",
    "    model.fit(X_train, y_train)\n",
    "      \n",
    "    y_predicated_train = model.predict(X_train)\n",
    "    y_predicated_test = model.predict(X_test)\n",
    "    \n",
    "    print (\"Train score:\", model.score(X_train, y_train)*100)\n",
    "    print (\"Test score:\", model.score(X_test, y_test)*100)\n",
    "    print (\"Different outputs train:\", sum(y_predicated_train != y_train), \"from total of\", len(y_train))\n",
    "    print (\"Different outputs test:\", sum(y_predicated_test != y_test), \"from total of\", len(y_test))\n",
    "    print (\"Accuracy train:\", metrics.accuracy_score(y_train, y_predicated_train)*100)\n",
    "    # average='micro' Calculate metrics globally by counting the total true positives, false negatives and false positives.\n",
    "    print (\"F1-score train:\", metrics.f1_score(y_train, y_predicated_train, average='micro')*100)\n",
    "    print (\"Accuracy test:\", metrics.accuracy_score(y_test, y_predicated_test)*100)\n",
    "    print (\"F1-score test:\", metrics.f1_score(y_test, y_predicated_test, average='micro')*100)"
   ]
  },
  {
   "cell_type": "code",
   "execution_count": 139,
   "metadata": {},
   "outputs": [
    {
     "name": "stdout",
     "output_type": "stream",
     "text": [
      "Train score: 12.335692618806876\n",
      "Test score: 13.535353535353536\n",
      "Different outputs train: 867 from total of 989\n",
      "Different outputs test: 428 from total of 495\n",
      "Accuracy train: 12.335692618806876\n",
      "F1-score train: 12.335692618806876\n",
      "Accuracy test: 13.535353535353536\n",
      "F1-score test: 13.535353535353536\n"
     ]
    }
   ],
   "source": [
    "gaussian_nb_method(X_train_yeast, y_train_yeast, X_test_yeast, y_test_yeast)"
   ]
  },
  {
   "cell_type": "code",
   "execution_count": 140,
   "metadata": {},
   "outputs": [
    {
     "name": "stdout",
     "output_type": "stream",
     "text": [
      "Train score: 57.5984990619137\n",
      "Test score: 48.405253283302066\n",
      "Different outputs train: 452 from total of 1066\n",
      "Different outputs test: 275 from total of 533\n",
      "Accuracy train: 57.5984990619137\n",
      "F1-score train: 57.5984990619137\n",
      "Accuracy test: 48.405253283302066\n",
      "F1-score test: 48.405253283302066\n"
     ]
    }
   ],
   "source": [
    "gaussian_nb_method(X_train_wine, y_train_wine, X_test_wine, y_test_wine)"
   ]
  },
  {
   "cell_type": "code",
   "execution_count": 141,
   "metadata": {},
   "outputs": [
    {
     "name": "stdout",
     "output_type": "stream",
     "text": [
      "Train score: 74.21052631578947\n",
      "Test score: 70.83333333333334\n",
      "Different outputs train: 49 from total of 190\n",
      "Different outputs test: 28 from total of 96\n",
      "Accuracy train: 74.21052631578947\n",
      "F1-score train: 74.21052631578947\n",
      "Accuracy test: 70.83333333333334\n",
      "F1-score test: 70.83333333333334\n"
     ]
    }
   ],
   "source": [
    "gaussian_nb_method(X_train_breast_cancer, y_train_breast_cancer, X_test_breast_cancer, y_test_breast_cancer)"
   ]
  },
  {
   "cell_type": "code",
   "execution_count": 142,
   "metadata": {},
   "outputs": [
    {
     "name": "stdout",
     "output_type": "stream",
     "text": [
      "Train score: 24.336283185840706\n",
      "Test score: 15.04424778761062\n",
      "Different outputs train: 171 from total of 226\n",
      "Different outputs test: 96 from total of 113\n",
      "Accuracy train: 24.336283185840706\n",
      "F1-score train: 24.336283185840706\n",
      "Accuracy test: 15.04424778761062\n",
      "F1-score test: 15.04424778761062\n"
     ]
    }
   ],
   "source": [
    "gaussian_nb_method(X_train_primary_tumor, y_train_primary_tumor, X_test_primary_tumor, y_test_primary_tumor)"
   ]
  },
  {
   "cell_type": "markdown",
   "metadata": {},
   "source": [
    "# <font color= magenta> 6. DecisionTreeClassifier"
   ]
  },
  {
   "cell_type": "code",
   "execution_count": 143,
   "metadata": {},
   "outputs": [],
   "source": [
    "from sklearn.tree import DecisionTreeClassifier"
   ]
  },
  {
   "cell_type": "code",
   "execution_count": 144,
   "metadata": {},
   "outputs": [],
   "source": [
    "def decision_tree_method(X_train, y_train, X_test, y_test) -> None:\n",
    "    model = DecisionTreeClassifier(max_depth=7)\n",
    "    model.fit(X_train, y_train)\n",
    "       \n",
    "    y_predicated_train = model.predict(X_train)\n",
    "    y_predicated_test = model.predict(X_test)\n",
    "    \n",
    "    print (\"Train score:\", model.score(X_train, y_train)*100)\n",
    "    print (\"Test score:\", model.score(X_test, y_test)*100)\n",
    "    print (\"Different outputs train:\", sum(y_predicated_train != y_train), \"from total of\", len(y_train))\n",
    "    print (\"Different outputs test:\", sum(y_predicated_test != y_test), \"from total of\", len(y_test))\n",
    "    print (\"Accuracy train:\", metrics.accuracy_score(y_train, y_predicated_train)*100)\n",
    "    # average='micro' Calculate metrics globally by counting the total true positives, false negatives and false positives.\n",
    "    print (\"F1-score train:\", metrics.f1_score(y_train, y_predicated_train, average='micro')*100)\n",
    "    print (\"Accuracy test:\", metrics.accuracy_score(y_test, y_predicated_test)*100)\n",
    "    print (\"F1-score test:\", metrics.f1_score(y_test, y_predicated_test, average='micro')*100)"
   ]
  },
  {
   "cell_type": "code",
   "execution_count": 145,
   "metadata": {},
   "outputs": [
    {
     "name": "stdout",
     "output_type": "stream",
     "text": [
      "Train score: 72.69969666329625\n",
      "Test score: 57.17171717171718\n",
      "Different outputs train: 270 from total of 989\n",
      "Different outputs test: 212 from total of 495\n",
      "Accuracy train: 72.69969666329625\n",
      "F1-score train: 72.69969666329625\n",
      "Accuracy test: 57.17171717171718\n",
      "F1-score test: 57.17171717171718\n"
     ]
    }
   ],
   "source": [
    "decision_tree_method(X_train_yeast, y_train_yeast, X_test_yeast, y_test_yeast)\n",
    "#aici avem sigur overfit"
   ]
  },
  {
   "cell_type": "code",
   "execution_count": 146,
   "metadata": {},
   "outputs": [
    {
     "name": "stdout",
     "output_type": "stream",
     "text": [
      "Train score: 77.4859287054409\n",
      "Test score: 52.34521575984991\n",
      "Different outputs train: 240 from total of 1066\n",
      "Different outputs test: 254 from total of 533\n",
      "Accuracy train: 77.4859287054409\n",
      "F1-score train: 77.4859287054409\n",
      "Accuracy test: 52.34521575984991\n",
      "F1-score test: 52.34521575984991\n"
     ]
    }
   ],
   "source": [
    "decision_tree_method(X_train_wine, y_train_wine, X_test_wine, y_test_wine)"
   ]
  },
  {
   "cell_type": "code",
   "execution_count": 147,
   "metadata": {},
   "outputs": [
    {
     "name": "stdout",
     "output_type": "stream",
     "text": [
      "Train score: 88.94736842105263\n",
      "Test score: 69.79166666666666\n",
      "Different outputs train: 21 from total of 190\n",
      "Different outputs test: 29 from total of 96\n",
      "Accuracy train: 88.94736842105263\n",
      "F1-score train: 88.94736842105263\n",
      "Accuracy test: 69.79166666666666\n",
      "F1-score test: 69.79166666666666\n"
     ]
    }
   ],
   "source": [
    "decision_tree_method(X_train_breast_cancer, y_train_breast_cancer, X_test_breast_cancer, y_test_breast_cancer)"
   ]
  },
  {
   "cell_type": "code",
   "execution_count": 148,
   "metadata": {},
   "outputs": [
    {
     "name": "stdout",
     "output_type": "stream",
     "text": [
      "Train score: 66.3716814159292\n",
      "Test score: 32.743362831858406\n",
      "Different outputs train: 76 from total of 226\n",
      "Different outputs test: 76 from total of 113\n",
      "Accuracy train: 66.3716814159292\n",
      "F1-score train: 66.3716814159292\n",
      "Accuracy test: 32.743362831858406\n",
      "F1-score test: 32.743362831858406\n"
     ]
    }
   ],
   "source": [
    "decision_tree_method(X_train_primary_tumor, y_train_primary_tumor, X_test_primary_tumor, y_test_primary_tumor)"
   ]
  },
  {
   "cell_type": "markdown",
   "metadata": {},
   "source": [
    "# <font color= magenta> 7. RandomForestClassifier"
   ]
  },
  {
   "cell_type": "code",
   "execution_count": 149,
   "metadata": {},
   "outputs": [],
   "source": [
    "from sklearn.ensemble import RandomForestClassifier"
   ]
  },
  {
   "cell_type": "code",
   "execution_count": 150,
   "metadata": {},
   "outputs": [],
   "source": [
    "def random_forest_method(X_train, y_train, X_test, y_test) -> None:\n",
    "    model = RandomForestClassifier(max_depth=5, random_state=2)\n",
    "    model.fit(X_train, y_train)\n",
    "       \n",
    "    y_predicated_train = model.predict(X_train)\n",
    "    y_predicated_test = model.predict(X_test)\n",
    "    \n",
    "    print (\"Train score:\", model.score(X_train, y_train)*100)\n",
    "    print (\"Test score:\", model.score(X_test, y_test)*100)\n",
    "    print (\"Different outputs train:\", sum(y_predicated_train != y_train), \"from total of\", len(y_train))\n",
    "    print (\"Different outputs test:\", sum(y_predicated_test != y_test), \"from total of\", len(y_test))\n",
    "    print (\"Accuracy train:\", metrics.accuracy_score(y_train, y_predicated_train)*100)\n",
    "    # average='micro' Calculate metrics globally by counting the total true positives, false negatives and false positives.\n",
    "    print (\"F1-score train:\", metrics.f1_score(y_train, y_predicated_train, average='micro')*100)\n",
    "    print (\"Accuracy test:\", metrics.accuracy_score(y_test, y_predicated_test)*100)\n",
    "    print (\"F1-score test:\", metrics.f1_score(y_test, y_predicated_test, average='micro')*100)"
   ]
  },
  {
   "cell_type": "code",
   "execution_count": 151,
   "metadata": {},
   "outputs": [
    {
     "name": "stdout",
     "output_type": "stream",
     "text": [
      "Train score: 68.25075834175935\n",
      "Test score: 62.62626262626263\n",
      "Different outputs train: 314 from total of 989\n",
      "Different outputs test: 185 from total of 495\n",
      "Accuracy train: 68.25075834175935\n",
      "F1-score train: 68.25075834175935\n",
      "Accuracy test: 62.62626262626263\n",
      "F1-score test: 62.62626262626263\n"
     ]
    }
   ],
   "source": [
    "random_forest_method(X_train_yeast, y_train_yeast, X_test_yeast, y_test_yeast)"
   ]
  },
  {
   "cell_type": "code",
   "execution_count": 152,
   "metadata": {},
   "outputs": [
    {
     "name": "stdout",
     "output_type": "stream",
     "text": [
      "Train score: 71.10694183864915\n",
      "Test score: 61.72607879924953\n",
      "Different outputs train: 308 from total of 1066\n",
      "Different outputs test: 204 from total of 533\n",
      "Accuracy train: 71.10694183864915\n",
      "F1-score train: 71.10694183864915\n",
      "Accuracy test: 61.72607879924953\n",
      "F1-score test: 61.72607879924953\n"
     ]
    }
   ],
   "source": [
    "random_forest_method(X_train_wine, y_train_wine, X_test_wine, y_test_wine)"
   ]
  },
  {
   "cell_type": "code",
   "execution_count": 153,
   "metadata": {},
   "outputs": [
    {
     "name": "stdout",
     "output_type": "stream",
     "text": [
      "Train score: 87.89473684210526\n",
      "Test score: 72.91666666666666\n",
      "Different outputs train: 23 from total of 190\n",
      "Different outputs test: 26 from total of 96\n",
      "Accuracy train: 87.89473684210526\n",
      "F1-score train: 87.89473684210526\n",
      "Accuracy test: 72.91666666666666\n",
      "F1-score test: 72.91666666666666\n"
     ]
    }
   ],
   "source": [
    "random_forest_method(X_train_breast_cancer, y_train_breast_cancer, X_test_breast_cancer, y_test_breast_cancer)"
   ]
  },
  {
   "cell_type": "code",
   "execution_count": 154,
   "metadata": {},
   "outputs": [
    {
     "name": "stdout",
     "output_type": "stream",
     "text": [
      "Train score: 64.60176991150442\n",
      "Test score: 41.5929203539823\n",
      "Different outputs train: 80 from total of 226\n",
      "Different outputs test: 66 from total of 113\n",
      "Accuracy train: 64.60176991150442\n",
      "F1-score train: 64.60176991150442\n",
      "Accuracy test: 41.5929203539823\n",
      "F1-score test: 41.5929203539823\n"
     ]
    }
   ],
   "source": [
    "random_forest_method(X_train_primary_tumor, y_train_primary_tumor, X_test_primary_tumor, y_test_primary_tumor)"
   ]
  },
  {
   "cell_type": "markdown",
   "metadata": {},
   "source": [
    "Yeast 55\n",
    "<br>Wine Red ?\n",
    "<br>Breast Cancer 75\n",
    "<br>Primary tumor 48"
   ]
  },
  {
   "cell_type": "code",
   "execution_count": null,
   "metadata": {},
   "outputs": [],
   "source": []
  }
 ],
 "metadata": {
  "kernelspec": {
   "display_name": "Python 3",
   "language": "python",
   "name": "python3"
  },
  "language_info": {
   "codemirror_mode": {
    "name": "ipython",
    "version": 3
   },
   "file_extension": ".py",
   "mimetype": "text/x-python",
   "name": "python",
   "nbconvert_exporter": "python",
   "pygments_lexer": "ipython3",
   "version": "3.7.6"
  },
  "notify_time": "5",
  "toc": {
   "base_numbering": 1,
   "nav_menu": {},
   "number_sections": true,
   "sideBar": true,
   "skip_h1_title": false,
   "title_cell": "Table of Contents",
   "title_sidebar": "Contents",
   "toc_cell": false,
   "toc_position": {},
   "toc_section_display": true,
   "toc_window_display": false
  },
  "varInspector": {
   "cols": {
    "lenName": 16,
    "lenType": 16,
    "lenVar": 40
   },
   "kernels_config": {
    "python": {
     "delete_cmd_postfix": "",
     "delete_cmd_prefix": "del ",
     "library": "var_list.py",
     "varRefreshCmd": "print(var_dic_list())"
    },
    "r": {
     "delete_cmd_postfix": ") ",
     "delete_cmd_prefix": "rm(",
     "library": "var_list.r",
     "varRefreshCmd": "cat(var_dic_list()) "
    }
   },
   "types_to_exclude": [
    "module",
    "function",
    "builtin_function_or_method",
    "instance",
    "_Feature"
   ],
   "window_display": false
  }
 },
 "nbformat": 4,
 "nbformat_minor": 2
}
