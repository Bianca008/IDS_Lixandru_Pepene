{
 "cells": [
  {
   "cell_type": "markdown",
   "metadata": {},
   "source": [
    "<font color = Magenta> _Lixandru Andreea-Bianca 382\n",
    " <br>   Pepene Adina-Florentina 382_"
   ]
  },
  {
   "cell_type": "markdown",
   "metadata": {},
   "source": [
    "# Laborator 6\n",
    "\n",
    "Versiunea 2020-04-01"
   ]
  },
  {
   "cell_type": "markdown",
   "metadata": {},
   "source": [
    "## Modele de clasificare\n",
    "\n",
    "Folositi 4 seturi de date pentru probleme de clasificare, plecand de la repository-urile specificate in Cursul 5; de exemplu, [ics.uci.edu](http://archive.ics.uci.edu/ml/datasets.php?format=mat&task=cla&att=&area=&numAtt=&numIns=&type=mvar&sort=nameUp&view=table). Cel putin doua seturi de date sa fie cu valori lipsa. \n",
    "\n",
    "\n",
    "1. (20 puncte) Aplicati o metoda de missing value imputation, unde este cazul; justificati si documentati metoda folosita.\n",
    "1. (numar de modele * numar de seturi de date \\* 1 punct = 20 de puncte) Pentru fiecare set de date aplicati 5 modele de clasificare din scikit learn. Pentru fiecare raportati: acuratete, scorul F1 - a se vedea [sklearn.metrics](http://scikit-learn.org/stable/modules/classes.html#module-sklearn.metrics) - folosind 5 fold cross validation. Raportati mediile rezultatelor atat pentru fold-urile de antrenare, cat si pentru cele de testare. Rularile se vor face cu valori fixate ale hiperparametrilor. \n",
    "1. (numar modele * 4 puncte = 20 puncte) Documentati in jupyter notebook fiecare din modelele folosite, in limba romana. Daca acelasi algoritm e folosit pentru mai multe seturi de date, puteti face o sectiune separata cu documentarea algoritmilor + trimitere la algoritm. \n",
    "1. (numar de modele * numar de seturi de date * 1 punct = 20 de puncte) Raportati performanta fiecarui model, folosind 5 fold cross validation. Pentru fiecare din cele 5 rulari, cautati hiperparametrii optimi folosind 4-fold cross validation. Performanta modelului va fi raportata ca medie a celor  5 rulari. \n",
    "    *Observatie:* la fiecare din cele 5 rulari, hiperparametrii optimi pot diferi, din cauza datelor utilizate pentru antrenare/validare.  \n",
    "\n",
    "Se acorda 20 de puncte din oficiu. "
   ]
  },
  {
   "cell_type": "markdown",
   "metadata": {},
   "source": [
    "Exemple de modele de clasificare:\n",
    "1. [Multi-layer Perceptron classifier](https://scikit-learn.org/stable/modules/generated/sklearn.neural_network.MLPClassifier.html#sklearn.neural_network.MLPClassifier)\n",
    "1. [KNN](https://scikit-learn.org/stable/modules/generated/sklearn.neighbors.KNeighborsClassifier.html#sklearn.neighbors.KNeighborsClassifier)\n",
    "1. [SVM](https://scikit-learn.org/stable/modules/generated/sklearn.svm.SVC.html#sklearn.svm.SVC)\n",
    "1. [Gaussian processes](https://scikit-learn.org/stable/modules/generated/sklearn.gaussian_process.GaussianProcessClassifier.html#sklearn.gaussian_process.GaussianProcessClassifier)\n",
    "1. [RBF](https://scikit-learn.org/stable/modules/generated/sklearn.gaussian_process.kernels.RBF.html#sklearn.gaussian_process.kernels.RBF)\n",
    "1. [Decision tree](https://scikit-learn.org/stable/modules/generated/sklearn.tree.DecisionTreeClassifier.html#sklearn.tree.DecisionTreeClassifier)\n",
    "1. [Random forest](https://scikit-learn.org/stable/modules/generated/sklearn.ensemble.RandomForestClassifier.html#sklearn.ensemble.RandomForestClassifier)\n",
    "1. [Gaussian Naive bayes](https://scikit-learn.org/stable/modules/generated/sklearn.naive_bayes.GaussianNB.html#sklearn.naive_bayes.GaussianNB) "
   ]
  },
  {
   "cell_type": "markdown",
   "metadata": {},
   "source": [
    "*Predare:* \n",
    "1. Fiecare student va depune pe site-ul de elearning fisier Jupyter notebook sau arhiva cu astfel de fisiere; \n",
    "1. In fiecare fisier se specifica numele celor doi studenti care au lucra in echipa. \n",
    "1. Predarea se face in saptamana 13-17 aprilie 2020\n",
    "1. Revedeti formele ulterioare ale acestui document pentru precizari despre: continutul rezultatelor raportate, modalitate de notare."
   ]
  },
  {
   "cell_type": "markdown",
   "metadata": {},
   "source": [
    "# <font color= Magenta> Rezolvare"
   ]
  },
  {
   "cell_type": "markdown",
   "metadata": {},
   "source": [
    "<font color=blue>Ex1:</font> Aplicati o metoda de missing value imputation, unde este cazul; justificati si documentati metoda folosita.\n",
    "<br>\n",
    "><br>Metode posibile:\n",
    "<br>1. Eliminarea liniilor care contin valori nan.\n",
    "<br>2. Eliminarea coloanelor care contin nan.\n",
    "<br>3. Umplerea valorilor nan cu:\n",
    "> -> o valoare constanta\n",
    "><br>-> copierea ultimei valori cunoscute(ffill)\n",
    "><br>-> umplere 'inapoi'(bfill)\n",
    "><br>-> o valoare calculata (ex: media)"
   ]
  },
  {
   "cell_type": "markdown",
   "metadata": {},
   "source": [
    "Citim seturile de date si ne uitam care dintre ele au valori lipsa."
   ]
  },
  {
   "cell_type": "code",
   "execution_count": 1,
   "metadata": {},
   "outputs": [],
   "source": [
    "import pandas as pd \n",
    "import numpy as np\n",
    "from sklearn.preprocessing import MinMaxScaler\n",
    "from sklearn.model_selection import GridSearchCV\n",
    "from sklearn.metrics import accuracy_score\n",
    "from sklearn.model_selection import cross_val_score\n",
    "from sklearn.impute import KNNImputer\n",
    "from sklearn.tree import DecisionTreeClassifier\n",
    "from sklearn.model_selection import cross_validate\n",
    "from sklearn.ensemble import RandomForestClassifier\n",
    "from sklearn.neighbors import KNeighborsClassifier\n",
    "from sklearn.model_selection import train_test_split\n",
    "from sklearn.svm import SVC\n",
    "from sklearn.neural_network import MLPClassifier\n",
    "from sklearn.gaussian_process import GaussianProcessClassifier\n",
    "from sklearn.naive_bayes import GaussianNB"
   ]
  },
  {
   "cell_type": "code",
   "execution_count": 2,
   "metadata": {},
   "outputs": [
    {
     "data": {
      "text/html": [
       "<div>\n",
       "<style scoped>\n",
       "    .dataframe tbody tr th:only-of-type {\n",
       "        vertical-align: middle;\n",
       "    }\n",
       "\n",
       "    .dataframe tbody tr th {\n",
       "        vertical-align: top;\n",
       "    }\n",
       "\n",
       "    .dataframe thead th {\n",
       "        text-align: right;\n",
       "    }\n",
       "</style>\n",
       "<table border=\"1\" class=\"dataframe\">\n",
       "  <thead>\n",
       "    <tr style=\"text-align: right;\">\n",
       "      <th></th>\n",
       "      <th>mcg</th>\n",
       "      <th>gvh</th>\n",
       "      <th>alm</th>\n",
       "      <th>mit</th>\n",
       "      <th>erl</th>\n",
       "      <th>pox</th>\n",
       "      <th>vac</th>\n",
       "      <th>nuc</th>\n",
       "      <th>class</th>\n",
       "    </tr>\n",
       "  </thead>\n",
       "  <tbody>\n",
       "    <tr>\n",
       "      <th>ADT1_YEAST</th>\n",
       "      <td>0.58</td>\n",
       "      <td>0.61</td>\n",
       "      <td>0.47</td>\n",
       "      <td>0.13</td>\n",
       "      <td>0.5</td>\n",
       "      <td>0.0</td>\n",
       "      <td>0.48</td>\n",
       "      <td>0.22</td>\n",
       "      <td>MIT</td>\n",
       "    </tr>\n",
       "    <tr>\n",
       "      <th>ADT2_YEAST</th>\n",
       "      <td>0.43</td>\n",
       "      <td>0.67</td>\n",
       "      <td>0.48</td>\n",
       "      <td>0.27</td>\n",
       "      <td>0.5</td>\n",
       "      <td>0.0</td>\n",
       "      <td>0.53</td>\n",
       "      <td>0.22</td>\n",
       "      <td>MIT</td>\n",
       "    </tr>\n",
       "    <tr>\n",
       "      <th>ADT3_YEAST</th>\n",
       "      <td>0.64</td>\n",
       "      <td>0.62</td>\n",
       "      <td>0.49</td>\n",
       "      <td>0.15</td>\n",
       "      <td>0.5</td>\n",
       "      <td>0.0</td>\n",
       "      <td>0.53</td>\n",
       "      <td>0.22</td>\n",
       "      <td>MIT</td>\n",
       "    </tr>\n",
       "    <tr>\n",
       "      <th>AAR2_YEAST</th>\n",
       "      <td>0.58</td>\n",
       "      <td>0.44</td>\n",
       "      <td>0.57</td>\n",
       "      <td>0.13</td>\n",
       "      <td>0.5</td>\n",
       "      <td>0.0</td>\n",
       "      <td>0.54</td>\n",
       "      <td>0.22</td>\n",
       "      <td>NUC</td>\n",
       "    </tr>\n",
       "    <tr>\n",
       "      <th>AATM_YEAST</th>\n",
       "      <td>0.42</td>\n",
       "      <td>0.44</td>\n",
       "      <td>0.48</td>\n",
       "      <td>0.54</td>\n",
       "      <td>0.5</td>\n",
       "      <td>0.0</td>\n",
       "      <td>0.48</td>\n",
       "      <td>0.22</td>\n",
       "      <td>MIT</td>\n",
       "    </tr>\n",
       "  </tbody>\n",
       "</table>\n",
       "</div>"
      ],
      "text/plain": [
       "             mcg   gvh   alm   mit  erl  pox   vac   nuc class\n",
       "ADT1_YEAST  0.58  0.61  0.47  0.13  0.5  0.0  0.48  0.22   MIT\n",
       "ADT2_YEAST  0.43  0.67  0.48  0.27  0.5  0.0  0.53  0.22   MIT\n",
       "ADT3_YEAST  0.64  0.62  0.49  0.15  0.5  0.0  0.53  0.22   MIT\n",
       "AAR2_YEAST  0.58  0.44  0.57  0.13  0.5  0.0  0.54  0.22   NUC\n",
       "AATM_YEAST  0.42  0.44  0.48  0.54  0.5  0.0  0.48  0.22   MIT"
      ]
     },
     "execution_count": 2,
     "metadata": {},
     "output_type": "execute_result"
    }
   ],
   "source": [
    "names_yeast = [\"mcg\", \"gvh\", \"alm\", \"mit\", \"erl\", \"pox\", \"vac\", \"nuc\", \"class\"]\n",
    "\n",
    "df_yeast = pd.read_csv('./data/yeast/yeast.data', sep=r\" +\", engine=\"python\", names=names_yeast)\n",
    "\n",
    "df_yeast.head()"
   ]
  },
  {
   "cell_type": "code",
   "execution_count": 3,
   "metadata": {},
   "outputs": [
    {
     "name": "stdout",
     "output_type": "stream",
     "text": [
      "<class 'pandas.core.frame.DataFrame'>\n",
      "Index: 1484 entries, ADT1_YEAST to G6PD_YEAST\n",
      "Data columns (total 9 columns):\n",
      " #   Column  Non-Null Count  Dtype  \n",
      "---  ------  --------------  -----  \n",
      " 0   mcg     1484 non-null   float64\n",
      " 1   gvh     1484 non-null   float64\n",
      " 2   alm     1484 non-null   float64\n",
      " 3   mit     1484 non-null   float64\n",
      " 4   erl     1484 non-null   float64\n",
      " 5   pox     1484 non-null   float64\n",
      " 6   vac     1484 non-null   float64\n",
      " 7   nuc     1484 non-null   float64\n",
      " 8   class   1484 non-null   object \n",
      "dtypes: float64(8), object(1)\n",
      "memory usage: 115.9+ KB\n"
     ]
    }
   ],
   "source": [
    "df_yeast.info()"
   ]
  },
  {
   "cell_type": "code",
   "execution_count": 4,
   "metadata": {},
   "outputs": [
    {
     "data": {
      "text/html": [
       "<div>\n",
       "<style scoped>\n",
       "    .dataframe tbody tr th:only-of-type {\n",
       "        vertical-align: middle;\n",
       "    }\n",
       "\n",
       "    .dataframe tbody tr th {\n",
       "        vertical-align: top;\n",
       "    }\n",
       "\n",
       "    .dataframe thead th {\n",
       "        text-align: right;\n",
       "    }\n",
       "</style>\n",
       "<table border=\"1\" class=\"dataframe\">\n",
       "  <thead>\n",
       "    <tr style=\"text-align: right;\">\n",
       "      <th></th>\n",
       "      <th>mcg</th>\n",
       "      <th>gvh</th>\n",
       "      <th>alm</th>\n",
       "      <th>mit</th>\n",
       "      <th>erl</th>\n",
       "      <th>pox</th>\n",
       "      <th>vac</th>\n",
       "      <th>nuc</th>\n",
       "    </tr>\n",
       "  </thead>\n",
       "  <tbody>\n",
       "    <tr>\n",
       "      <th>ADT1_YEAST</th>\n",
       "      <td>0.58</td>\n",
       "      <td>0.61</td>\n",
       "      <td>0.47</td>\n",
       "      <td>0.13</td>\n",
       "      <td>0.5</td>\n",
       "      <td>0.0</td>\n",
       "      <td>0.48</td>\n",
       "      <td>0.22</td>\n",
       "    </tr>\n",
       "    <tr>\n",
       "      <th>ADT2_YEAST</th>\n",
       "      <td>0.43</td>\n",
       "      <td>0.67</td>\n",
       "      <td>0.48</td>\n",
       "      <td>0.27</td>\n",
       "      <td>0.5</td>\n",
       "      <td>0.0</td>\n",
       "      <td>0.53</td>\n",
       "      <td>0.22</td>\n",
       "    </tr>\n",
       "    <tr>\n",
       "      <th>ADT3_YEAST</th>\n",
       "      <td>0.64</td>\n",
       "      <td>0.62</td>\n",
       "      <td>0.49</td>\n",
       "      <td>0.15</td>\n",
       "      <td>0.5</td>\n",
       "      <td>0.0</td>\n",
       "      <td>0.53</td>\n",
       "      <td>0.22</td>\n",
       "    </tr>\n",
       "    <tr>\n",
       "      <th>AAR2_YEAST</th>\n",
       "      <td>0.58</td>\n",
       "      <td>0.44</td>\n",
       "      <td>0.57</td>\n",
       "      <td>0.13</td>\n",
       "      <td>0.5</td>\n",
       "      <td>0.0</td>\n",
       "      <td>0.54</td>\n",
       "      <td>0.22</td>\n",
       "    </tr>\n",
       "    <tr>\n",
       "      <th>AATM_YEAST</th>\n",
       "      <td>0.42</td>\n",
       "      <td>0.44</td>\n",
       "      <td>0.48</td>\n",
       "      <td>0.54</td>\n",
       "      <td>0.5</td>\n",
       "      <td>0.0</td>\n",
       "      <td>0.48</td>\n",
       "      <td>0.22</td>\n",
       "    </tr>\n",
       "  </tbody>\n",
       "</table>\n",
       "</div>"
      ],
      "text/plain": [
       "             mcg   gvh   alm   mit  erl  pox   vac   nuc\n",
       "ADT1_YEAST  0.58  0.61  0.47  0.13  0.5  0.0  0.48  0.22\n",
       "ADT2_YEAST  0.43  0.67  0.48  0.27  0.5  0.0  0.53  0.22\n",
       "ADT3_YEAST  0.64  0.62  0.49  0.15  0.5  0.0  0.53  0.22\n",
       "AAR2_YEAST  0.58  0.44  0.57  0.13  0.5  0.0  0.54  0.22\n",
       "AATM_YEAST  0.42  0.44  0.48  0.54  0.5  0.0  0.48  0.22"
      ]
     },
     "execution_count": 4,
     "metadata": {},
     "output_type": "execute_result"
    }
   ],
   "source": [
    "x_yeast = df_yeast[[\"mcg\", \"gvh\", \"alm\", \"mit\", \"erl\", \"pox\", \"vac\", \"nuc\"]]\n",
    "y_yeast = df_yeast[\"class\"]\n",
    "\n",
    "x_yeast.head()"
   ]
  },
  {
   "cell_type": "code",
   "execution_count": 5,
   "metadata": {},
   "outputs": [
    {
     "data": {
      "text/plain": [
       "ADT1_YEAST    MIT\n",
       "ADT2_YEAST    MIT\n",
       "ADT3_YEAST    MIT\n",
       "AAR2_YEAST    NUC\n",
       "AATM_YEAST    MIT\n",
       "Name: class, dtype: object"
      ]
     },
     "execution_count": 5,
     "metadata": {},
     "output_type": "execute_result"
    }
   ],
   "source": [
    "y_yeast.head()"
   ]
  },
  {
   "cell_type": "code",
   "execution_count": 6,
   "metadata": {},
   "outputs": [
    {
     "data": {
      "text/html": [
       "<div>\n",
       "<style scoped>\n",
       "    .dataframe tbody tr th:only-of-type {\n",
       "        vertical-align: middle;\n",
       "    }\n",
       "\n",
       "    .dataframe tbody tr th {\n",
       "        vertical-align: top;\n",
       "    }\n",
       "\n",
       "    .dataframe thead th {\n",
       "        text-align: right;\n",
       "    }\n",
       "</style>\n",
       "<table border=\"1\" class=\"dataframe\">\n",
       "  <thead>\n",
       "    <tr style=\"text-align: right;\">\n",
       "      <th></th>\n",
       "      <th>fixed acidity</th>\n",
       "      <th>volatile acidity</th>\n",
       "      <th>citric acid</th>\n",
       "      <th>residual sugar</th>\n",
       "      <th>chlorides</th>\n",
       "      <th>free sulfur dioxide</th>\n",
       "      <th>total sulfur dioxide</th>\n",
       "      <th>density</th>\n",
       "      <th>pH</th>\n",
       "      <th>sulphates</th>\n",
       "      <th>alcohol</th>\n",
       "      <th>quality</th>\n",
       "    </tr>\n",
       "  </thead>\n",
       "  <tbody>\n",
       "    <tr>\n",
       "      <th>0</th>\n",
       "      <td>7.4</td>\n",
       "      <td>0.70</td>\n",
       "      <td>0.00</td>\n",
       "      <td>1.9</td>\n",
       "      <td>0.076</td>\n",
       "      <td>11.0</td>\n",
       "      <td>34.0</td>\n",
       "      <td>0.9978</td>\n",
       "      <td>3.51</td>\n",
       "      <td>0.56</td>\n",
       "      <td>9.4</td>\n",
       "      <td>5</td>\n",
       "    </tr>\n",
       "    <tr>\n",
       "      <th>1</th>\n",
       "      <td>7.8</td>\n",
       "      <td>0.88</td>\n",
       "      <td>0.00</td>\n",
       "      <td>2.6</td>\n",
       "      <td>0.098</td>\n",
       "      <td>25.0</td>\n",
       "      <td>67.0</td>\n",
       "      <td>0.9968</td>\n",
       "      <td>3.20</td>\n",
       "      <td>0.68</td>\n",
       "      <td>9.8</td>\n",
       "      <td>5</td>\n",
       "    </tr>\n",
       "    <tr>\n",
       "      <th>2</th>\n",
       "      <td>7.8</td>\n",
       "      <td>0.76</td>\n",
       "      <td>0.04</td>\n",
       "      <td>2.3</td>\n",
       "      <td>0.092</td>\n",
       "      <td>15.0</td>\n",
       "      <td>54.0</td>\n",
       "      <td>0.9970</td>\n",
       "      <td>3.26</td>\n",
       "      <td>0.65</td>\n",
       "      <td>9.8</td>\n",
       "      <td>5</td>\n",
       "    </tr>\n",
       "    <tr>\n",
       "      <th>3</th>\n",
       "      <td>11.2</td>\n",
       "      <td>0.28</td>\n",
       "      <td>0.56</td>\n",
       "      <td>1.9</td>\n",
       "      <td>0.075</td>\n",
       "      <td>17.0</td>\n",
       "      <td>60.0</td>\n",
       "      <td>0.9980</td>\n",
       "      <td>3.16</td>\n",
       "      <td>0.58</td>\n",
       "      <td>9.8</td>\n",
       "      <td>6</td>\n",
       "    </tr>\n",
       "    <tr>\n",
       "      <th>4</th>\n",
       "      <td>7.4</td>\n",
       "      <td>0.70</td>\n",
       "      <td>0.00</td>\n",
       "      <td>1.9</td>\n",
       "      <td>0.076</td>\n",
       "      <td>11.0</td>\n",
       "      <td>34.0</td>\n",
       "      <td>0.9978</td>\n",
       "      <td>3.51</td>\n",
       "      <td>0.56</td>\n",
       "      <td>9.4</td>\n",
       "      <td>5</td>\n",
       "    </tr>\n",
       "  </tbody>\n",
       "</table>\n",
       "</div>"
      ],
      "text/plain": [
       "   fixed acidity  volatile acidity  citric acid  residual sugar  chlorides  \\\n",
       "0            7.4              0.70         0.00             1.9      0.076   \n",
       "1            7.8              0.88         0.00             2.6      0.098   \n",
       "2            7.8              0.76         0.04             2.3      0.092   \n",
       "3           11.2              0.28         0.56             1.9      0.075   \n",
       "4            7.4              0.70         0.00             1.9      0.076   \n",
       "\n",
       "   free sulfur dioxide  total sulfur dioxide  density    pH  sulphates  \\\n",
       "0                 11.0                  34.0   0.9978  3.51       0.56   \n",
       "1                 25.0                  67.0   0.9968  3.20       0.68   \n",
       "2                 15.0                  54.0   0.9970  3.26       0.65   \n",
       "3                 17.0                  60.0   0.9980  3.16       0.58   \n",
       "4                 11.0                  34.0   0.9978  3.51       0.56   \n",
       "\n",
       "   alcohol  quality  \n",
       "0      9.4        5  \n",
       "1      9.8        5  \n",
       "2      9.8        5  \n",
       "3      9.8        6  \n",
       "4      9.4        5  "
      ]
     },
     "execution_count": 6,
     "metadata": {},
     "output_type": "execute_result"
    }
   ],
   "source": [
    "df_wine = pd.read_csv('./data/wine/winequality-red.csv', sep=';')\n",
    "\n",
    "df_wine.head()"
   ]
  },
  {
   "cell_type": "code",
   "execution_count": 7,
   "metadata": {},
   "outputs": [
    {
     "name": "stdout",
     "output_type": "stream",
     "text": [
      "<class 'pandas.core.frame.DataFrame'>\n",
      "RangeIndex: 1599 entries, 0 to 1598\n",
      "Data columns (total 12 columns):\n",
      " #   Column                Non-Null Count  Dtype  \n",
      "---  ------                --------------  -----  \n",
      " 0   fixed acidity         1599 non-null   float64\n",
      " 1   volatile acidity      1599 non-null   float64\n",
      " 2   citric acid           1599 non-null   float64\n",
      " 3   residual sugar        1599 non-null   float64\n",
      " 4   chlorides             1599 non-null   float64\n",
      " 5   free sulfur dioxide   1599 non-null   float64\n",
      " 6   total sulfur dioxide  1599 non-null   float64\n",
      " 7   density               1599 non-null   float64\n",
      " 8   pH                    1599 non-null   float64\n",
      " 9   sulphates             1599 non-null   float64\n",
      " 10  alcohol               1599 non-null   float64\n",
      " 11  quality               1599 non-null   int64  \n",
      "dtypes: float64(11), int64(1)\n",
      "memory usage: 150.0 KB\n"
     ]
    }
   ],
   "source": [
    "df_wine.info()"
   ]
  },
  {
   "cell_type": "code",
   "execution_count": 8,
   "metadata": {},
   "outputs": [
    {
     "data": {
      "text/html": [
       "<div>\n",
       "<style scoped>\n",
       "    .dataframe tbody tr th:only-of-type {\n",
       "        vertical-align: middle;\n",
       "    }\n",
       "\n",
       "    .dataframe tbody tr th {\n",
       "        vertical-align: top;\n",
       "    }\n",
       "\n",
       "    .dataframe thead th {\n",
       "        text-align: right;\n",
       "    }\n",
       "</style>\n",
       "<table border=\"1\" class=\"dataframe\">\n",
       "  <thead>\n",
       "    <tr style=\"text-align: right;\">\n",
       "      <th></th>\n",
       "      <th>fixed acidity</th>\n",
       "      <th>volatile acidity</th>\n",
       "      <th>citric acid</th>\n",
       "      <th>residual sugar</th>\n",
       "      <th>chlorides</th>\n",
       "      <th>free sulfur dioxide</th>\n",
       "      <th>total sulfur dioxide</th>\n",
       "      <th>density</th>\n",
       "      <th>pH</th>\n",
       "      <th>sulphates</th>\n",
       "      <th>alcohol</th>\n",
       "    </tr>\n",
       "  </thead>\n",
       "  <tbody>\n",
       "    <tr>\n",
       "      <th>0</th>\n",
       "      <td>7.4</td>\n",
       "      <td>0.70</td>\n",
       "      <td>0.00</td>\n",
       "      <td>1.9</td>\n",
       "      <td>0.076</td>\n",
       "      <td>11.0</td>\n",
       "      <td>34.0</td>\n",
       "      <td>0.9978</td>\n",
       "      <td>3.51</td>\n",
       "      <td>0.56</td>\n",
       "      <td>9.4</td>\n",
       "    </tr>\n",
       "    <tr>\n",
       "      <th>1</th>\n",
       "      <td>7.8</td>\n",
       "      <td>0.88</td>\n",
       "      <td>0.00</td>\n",
       "      <td>2.6</td>\n",
       "      <td>0.098</td>\n",
       "      <td>25.0</td>\n",
       "      <td>67.0</td>\n",
       "      <td>0.9968</td>\n",
       "      <td>3.20</td>\n",
       "      <td>0.68</td>\n",
       "      <td>9.8</td>\n",
       "    </tr>\n",
       "    <tr>\n",
       "      <th>2</th>\n",
       "      <td>7.8</td>\n",
       "      <td>0.76</td>\n",
       "      <td>0.04</td>\n",
       "      <td>2.3</td>\n",
       "      <td>0.092</td>\n",
       "      <td>15.0</td>\n",
       "      <td>54.0</td>\n",
       "      <td>0.9970</td>\n",
       "      <td>3.26</td>\n",
       "      <td>0.65</td>\n",
       "      <td>9.8</td>\n",
       "    </tr>\n",
       "    <tr>\n",
       "      <th>3</th>\n",
       "      <td>11.2</td>\n",
       "      <td>0.28</td>\n",
       "      <td>0.56</td>\n",
       "      <td>1.9</td>\n",
       "      <td>0.075</td>\n",
       "      <td>17.0</td>\n",
       "      <td>60.0</td>\n",
       "      <td>0.9980</td>\n",
       "      <td>3.16</td>\n",
       "      <td>0.58</td>\n",
       "      <td>9.8</td>\n",
       "    </tr>\n",
       "    <tr>\n",
       "      <th>4</th>\n",
       "      <td>7.4</td>\n",
       "      <td>0.70</td>\n",
       "      <td>0.00</td>\n",
       "      <td>1.9</td>\n",
       "      <td>0.076</td>\n",
       "      <td>11.0</td>\n",
       "      <td>34.0</td>\n",
       "      <td>0.9978</td>\n",
       "      <td>3.51</td>\n",
       "      <td>0.56</td>\n",
       "      <td>9.4</td>\n",
       "    </tr>\n",
       "  </tbody>\n",
       "</table>\n",
       "</div>"
      ],
      "text/plain": [
       "   fixed acidity  volatile acidity  citric acid  residual sugar  chlorides  \\\n",
       "0            7.4              0.70         0.00             1.9      0.076   \n",
       "1            7.8              0.88         0.00             2.6      0.098   \n",
       "2            7.8              0.76         0.04             2.3      0.092   \n",
       "3           11.2              0.28         0.56             1.9      0.075   \n",
       "4            7.4              0.70         0.00             1.9      0.076   \n",
       "\n",
       "   free sulfur dioxide  total sulfur dioxide  density    pH  sulphates  \\\n",
       "0                 11.0                  34.0   0.9978  3.51       0.56   \n",
       "1                 25.0                  67.0   0.9968  3.20       0.68   \n",
       "2                 15.0                  54.0   0.9970  3.26       0.65   \n",
       "3                 17.0                  60.0   0.9980  3.16       0.58   \n",
       "4                 11.0                  34.0   0.9978  3.51       0.56   \n",
       "\n",
       "   alcohol  \n",
       "0      9.4  \n",
       "1      9.8  \n",
       "2      9.8  \n",
       "3      9.8  \n",
       "4      9.4  "
      ]
     },
     "execution_count": 8,
     "metadata": {},
     "output_type": "execute_result"
    }
   ],
   "source": [
    "x_wine = df_wine [[\"fixed acidity\", \"volatile acidity\", \"citric acid\", \"residual sugar\", \"chlorides\", \n",
    "                   \"free sulfur dioxide\", \"total sulfur dioxide\", \"density\", \"pH\", \"sulphates\", \"alcohol\"]]\n",
    "y_wine = df_wine[\"quality\"]\n",
    "\n",
    "x_wine.head()"
   ]
  },
  {
   "cell_type": "code",
   "execution_count": 9,
   "metadata": {},
   "outputs": [
    {
     "data": {
      "text/plain": [
       "0    5\n",
       "1    5\n",
       "2    5\n",
       "3    6\n",
       "4    5\n",
       "Name: quality, dtype: int64"
      ]
     },
     "execution_count": 9,
     "metadata": {},
     "output_type": "execute_result"
    }
   ],
   "source": [
    "y_wine.head()"
   ]
  },
  {
   "cell_type": "code",
   "execution_count": 10,
   "metadata": {},
   "outputs": [
    {
     "data": {
      "text/html": [
       "<div>\n",
       "<style scoped>\n",
       "    .dataframe tbody tr th:only-of-type {\n",
       "        vertical-align: middle;\n",
       "    }\n",
       "\n",
       "    .dataframe tbody tr th {\n",
       "        vertical-align: top;\n",
       "    }\n",
       "\n",
       "    .dataframe thead th {\n",
       "        text-align: right;\n",
       "    }\n",
       "</style>\n",
       "<table border=\"1\" class=\"dataframe\">\n",
       "  <thead>\n",
       "    <tr style=\"text-align: right;\">\n",
       "      <th></th>\n",
       "      <th>BI-RADS</th>\n",
       "      <th>Age</th>\n",
       "      <th>Shape</th>\n",
       "      <th>Margin</th>\n",
       "      <th>Density</th>\n",
       "      <th>Severity</th>\n",
       "    </tr>\n",
       "  </thead>\n",
       "  <tbody>\n",
       "    <tr>\n",
       "      <th>0</th>\n",
       "      <td>5</td>\n",
       "      <td>67</td>\n",
       "      <td>3</td>\n",
       "      <td>5</td>\n",
       "      <td>3</td>\n",
       "      <td>1</td>\n",
       "    </tr>\n",
       "    <tr>\n",
       "      <th>1</th>\n",
       "      <td>4</td>\n",
       "      <td>43</td>\n",
       "      <td>1</td>\n",
       "      <td>1</td>\n",
       "      <td>?</td>\n",
       "      <td>1</td>\n",
       "    </tr>\n",
       "    <tr>\n",
       "      <th>2</th>\n",
       "      <td>5</td>\n",
       "      <td>58</td>\n",
       "      <td>4</td>\n",
       "      <td>5</td>\n",
       "      <td>3</td>\n",
       "      <td>1</td>\n",
       "    </tr>\n",
       "    <tr>\n",
       "      <th>3</th>\n",
       "      <td>4</td>\n",
       "      <td>28</td>\n",
       "      <td>1</td>\n",
       "      <td>1</td>\n",
       "      <td>3</td>\n",
       "      <td>0</td>\n",
       "    </tr>\n",
       "    <tr>\n",
       "      <th>4</th>\n",
       "      <td>5</td>\n",
       "      <td>74</td>\n",
       "      <td>1</td>\n",
       "      <td>5</td>\n",
       "      <td>?</td>\n",
       "      <td>1</td>\n",
       "    </tr>\n",
       "  </tbody>\n",
       "</table>\n",
       "</div>"
      ],
      "text/plain": [
       "  BI-RADS Age Shape Margin Density  Severity\n",
       "0       5  67     3      5       3         1\n",
       "1       4  43     1      1       ?         1\n",
       "2       5  58     4      5       3         1\n",
       "3       4  28     1      1       3         0\n",
       "4       5  74     1      5       ?         1"
      ]
     },
     "execution_count": 10,
     "metadata": {},
     "output_type": "execute_result"
    }
   ],
   "source": [
    "names_mammographics = [\"BI-RADS\", \"Age\", \"Shape\", \"Margin\", \"Density\", \"Severity\"]\n",
    "\n",
    "df_mammographics = pd.read_csv('./data/mammographic/mammographic_masses.data', names=names_mammographics)\n",
    "\n",
    "df_mammographics.head()"
   ]
  },
  {
   "cell_type": "code",
   "execution_count": 11,
   "metadata": {},
   "outputs": [
    {
     "name": "stdout",
     "output_type": "stream",
     "text": [
      "<class 'pandas.core.frame.DataFrame'>\n",
      "RangeIndex: 961 entries, 0 to 960\n",
      "Data columns (total 6 columns):\n",
      " #   Column    Non-Null Count  Dtype \n",
      "---  ------    --------------  ----- \n",
      " 0   BI-RADS   959 non-null    object\n",
      " 1   Age       956 non-null    object\n",
      " 2   Shape     930 non-null    object\n",
      " 3   Margin    913 non-null    object\n",
      " 4   Density   885 non-null    object\n",
      " 5   Severity  961 non-null    int64 \n",
      "dtypes: int64(1), object(5)\n",
      "memory usage: 45.2+ KB\n"
     ]
    }
   ],
   "source": [
    "'''Valorile din data frame care lipsesc sunt marcate cu '?'.\n",
    "Ca sa putem vedea cate valori lipsesc trebuie sa inlocuim\n",
    "toate valorile '?' cu valoarea nan. '''\n",
    "\n",
    "df_mammographics = df_mammographics.replace('?', np.nan)\n",
    "df_mammographics.info()"
   ]
  },
  {
   "cell_type": "code",
   "execution_count": 12,
   "metadata": {},
   "outputs": [
    {
     "name": "stdout",
     "output_type": "stream",
     "text": [
      "<class 'pandas.core.frame.DataFrame'>\n",
      "RangeIndex: 961 entries, 0 to 960\n",
      "Data columns (total 6 columns):\n",
      " #   Column    Non-Null Count  Dtype \n",
      "---  ------    --------------  ----- \n",
      " 0   BI-RADS   961 non-null    object\n",
      " 1   Age       961 non-null    object\n",
      " 2   Shape     961 non-null    object\n",
      " 3   Margin    961 non-null    object\n",
      " 4   Density   961 non-null    object\n",
      " 5   Severity  961 non-null    int64 \n",
      "dtypes: int64(1), object(5)\n",
      "memory usage: 45.2+ KB\n"
     ]
    }
   ],
   "source": [
    "'''Exista mai multe metode prin care putem umple valorile lipsa \n",
    "am ales umplerea valorilor prin copierea ultimei valori cunoscute.'''\n",
    "\n",
    "df_mammographics = df_mammographics.fillna(method='ffill')\n",
    "\n",
    "df_mammographics.info()"
   ]
  },
  {
   "cell_type": "code",
   "execution_count": 13,
   "metadata": {},
   "outputs": [
    {
     "data": {
      "text/html": [
       "<div>\n",
       "<style scoped>\n",
       "    .dataframe tbody tr th:only-of-type {\n",
       "        vertical-align: middle;\n",
       "    }\n",
       "\n",
       "    .dataframe tbody tr th {\n",
       "        vertical-align: top;\n",
       "    }\n",
       "\n",
       "    .dataframe thead th {\n",
       "        text-align: right;\n",
       "    }\n",
       "</style>\n",
       "<table border=\"1\" class=\"dataframe\">\n",
       "  <thead>\n",
       "    <tr style=\"text-align: right;\">\n",
       "      <th></th>\n",
       "      <th>BI-RADS</th>\n",
       "      <th>Age</th>\n",
       "      <th>Shape</th>\n",
       "      <th>Margin</th>\n",
       "      <th>Density</th>\n",
       "      <th>Severity</th>\n",
       "    </tr>\n",
       "  </thead>\n",
       "  <tbody>\n",
       "    <tr>\n",
       "      <th>0</th>\n",
       "      <td>5</td>\n",
       "      <td>67</td>\n",
       "      <td>3</td>\n",
       "      <td>5</td>\n",
       "      <td>3</td>\n",
       "      <td>1</td>\n",
       "    </tr>\n",
       "    <tr>\n",
       "      <th>1</th>\n",
       "      <td>4</td>\n",
       "      <td>43</td>\n",
       "      <td>1</td>\n",
       "      <td>1</td>\n",
       "      <td>3</td>\n",
       "      <td>1</td>\n",
       "    </tr>\n",
       "    <tr>\n",
       "      <th>2</th>\n",
       "      <td>5</td>\n",
       "      <td>58</td>\n",
       "      <td>4</td>\n",
       "      <td>5</td>\n",
       "      <td>3</td>\n",
       "      <td>1</td>\n",
       "    </tr>\n",
       "    <tr>\n",
       "      <th>3</th>\n",
       "      <td>4</td>\n",
       "      <td>28</td>\n",
       "      <td>1</td>\n",
       "      <td>1</td>\n",
       "      <td>3</td>\n",
       "      <td>0</td>\n",
       "    </tr>\n",
       "    <tr>\n",
       "      <th>4</th>\n",
       "      <td>5</td>\n",
       "      <td>74</td>\n",
       "      <td>1</td>\n",
       "      <td>5</td>\n",
       "      <td>3</td>\n",
       "      <td>1</td>\n",
       "    </tr>\n",
       "  </tbody>\n",
       "</table>\n",
       "</div>"
      ],
      "text/plain": [
       "  BI-RADS Age Shape Margin Density  Severity\n",
       "0       5  67     3      5       3         1\n",
       "1       4  43     1      1       3         1\n",
       "2       5  58     4      5       3         1\n",
       "3       4  28     1      1       3         0\n",
       "4       5  74     1      5       3         1"
      ]
     },
     "execution_count": 13,
     "metadata": {},
     "output_type": "execute_result"
    }
   ],
   "source": [
    "df_mammographics.head()"
   ]
  },
  {
   "cell_type": "code",
   "execution_count": 14,
   "metadata": {},
   "outputs": [
    {
     "data": {
      "text/html": [
       "<div>\n",
       "<style scoped>\n",
       "    .dataframe tbody tr th:only-of-type {\n",
       "        vertical-align: middle;\n",
       "    }\n",
       "\n",
       "    .dataframe tbody tr th {\n",
       "        vertical-align: top;\n",
       "    }\n",
       "\n",
       "    .dataframe thead th {\n",
       "        text-align: right;\n",
       "    }\n",
       "</style>\n",
       "<table border=\"1\" class=\"dataframe\">\n",
       "  <thead>\n",
       "    <tr style=\"text-align: right;\">\n",
       "      <th></th>\n",
       "      <th>BI-RADS</th>\n",
       "      <th>Age</th>\n",
       "      <th>Severity</th>\n",
       "      <th>Shape_1</th>\n",
       "      <th>Shape_2</th>\n",
       "      <th>Shape_3</th>\n",
       "      <th>Shape_4</th>\n",
       "      <th>Margin_1</th>\n",
       "      <th>Margin_2</th>\n",
       "      <th>Margin_3</th>\n",
       "      <th>Margin_4</th>\n",
       "      <th>Margin_5</th>\n",
       "      <th>Density_1</th>\n",
       "      <th>Density_2</th>\n",
       "      <th>Density_3</th>\n",
       "      <th>Density_4</th>\n",
       "    </tr>\n",
       "  </thead>\n",
       "  <tbody>\n",
       "    <tr>\n",
       "      <th>0</th>\n",
       "      <td>5</td>\n",
       "      <td>67</td>\n",
       "      <td>1</td>\n",
       "      <td>0</td>\n",
       "      <td>0</td>\n",
       "      <td>1</td>\n",
       "      <td>0</td>\n",
       "      <td>0</td>\n",
       "      <td>0</td>\n",
       "      <td>0</td>\n",
       "      <td>0</td>\n",
       "      <td>1</td>\n",
       "      <td>0</td>\n",
       "      <td>0</td>\n",
       "      <td>1</td>\n",
       "      <td>0</td>\n",
       "    </tr>\n",
       "    <tr>\n",
       "      <th>1</th>\n",
       "      <td>4</td>\n",
       "      <td>43</td>\n",
       "      <td>1</td>\n",
       "      <td>1</td>\n",
       "      <td>0</td>\n",
       "      <td>0</td>\n",
       "      <td>0</td>\n",
       "      <td>1</td>\n",
       "      <td>0</td>\n",
       "      <td>0</td>\n",
       "      <td>0</td>\n",
       "      <td>0</td>\n",
       "      <td>0</td>\n",
       "      <td>0</td>\n",
       "      <td>1</td>\n",
       "      <td>0</td>\n",
       "    </tr>\n",
       "    <tr>\n",
       "      <th>2</th>\n",
       "      <td>5</td>\n",
       "      <td>58</td>\n",
       "      <td>1</td>\n",
       "      <td>0</td>\n",
       "      <td>0</td>\n",
       "      <td>0</td>\n",
       "      <td>1</td>\n",
       "      <td>0</td>\n",
       "      <td>0</td>\n",
       "      <td>0</td>\n",
       "      <td>0</td>\n",
       "      <td>1</td>\n",
       "      <td>0</td>\n",
       "      <td>0</td>\n",
       "      <td>1</td>\n",
       "      <td>0</td>\n",
       "    </tr>\n",
       "    <tr>\n",
       "      <th>3</th>\n",
       "      <td>4</td>\n",
       "      <td>28</td>\n",
       "      <td>0</td>\n",
       "      <td>1</td>\n",
       "      <td>0</td>\n",
       "      <td>0</td>\n",
       "      <td>0</td>\n",
       "      <td>1</td>\n",
       "      <td>0</td>\n",
       "      <td>0</td>\n",
       "      <td>0</td>\n",
       "      <td>0</td>\n",
       "      <td>0</td>\n",
       "      <td>0</td>\n",
       "      <td>1</td>\n",
       "      <td>0</td>\n",
       "    </tr>\n",
       "    <tr>\n",
       "      <th>4</th>\n",
       "      <td>5</td>\n",
       "      <td>74</td>\n",
       "      <td>1</td>\n",
       "      <td>1</td>\n",
       "      <td>0</td>\n",
       "      <td>0</td>\n",
       "      <td>0</td>\n",
       "      <td>0</td>\n",
       "      <td>0</td>\n",
       "      <td>0</td>\n",
       "      <td>0</td>\n",
       "      <td>1</td>\n",
       "      <td>0</td>\n",
       "      <td>0</td>\n",
       "      <td>1</td>\n",
       "      <td>0</td>\n",
       "    </tr>\n",
       "  </tbody>\n",
       "</table>\n",
       "</div>"
      ],
      "text/plain": [
       "  BI-RADS Age  Severity  Shape_1  Shape_2  Shape_3  Shape_4  Margin_1  \\\n",
       "0       5  67         1        0        0        1        0         0   \n",
       "1       4  43         1        1        0        0        0         1   \n",
       "2       5  58         1        0        0        0        1         0   \n",
       "3       4  28         0        1        0        0        0         1   \n",
       "4       5  74         1        1        0        0        0         0   \n",
       "\n",
       "   Margin_2  Margin_3  Margin_4  Margin_5  Density_1  Density_2  Density_3  \\\n",
       "0         0         0         0         1          0          0          1   \n",
       "1         0         0         0         0          0          0          1   \n",
       "2         0         0         0         1          0          0          1   \n",
       "3         0         0         0         0          0          0          1   \n",
       "4         0         0         0         1          0          0          1   \n",
       "\n",
       "   Density_4  \n",
       "0          0  \n",
       "1          0  \n",
       "2          0  \n",
       "3          0  \n",
       "4          0  "
      ]
     },
     "execution_count": 14,
     "metadata": {},
     "output_type": "execute_result"
    }
   ],
   "source": [
    "df_mammographics = pd.get_dummies(df_mammographics, columns=[\"Shape\", \"Margin\", \"Density\"])\n",
    "\n",
    "df_mammographics.head()"
   ]
  },
  {
   "cell_type": "code",
   "execution_count": 15,
   "metadata": {},
   "outputs": [
    {
     "data": {
      "text/html": [
       "<div>\n",
       "<style scoped>\n",
       "    .dataframe tbody tr th:only-of-type {\n",
       "        vertical-align: middle;\n",
       "    }\n",
       "\n",
       "    .dataframe tbody tr th {\n",
       "        vertical-align: top;\n",
       "    }\n",
       "\n",
       "    .dataframe thead th {\n",
       "        text-align: right;\n",
       "    }\n",
       "</style>\n",
       "<table border=\"1\" class=\"dataframe\">\n",
       "  <thead>\n",
       "    <tr style=\"text-align: right;\">\n",
       "      <th></th>\n",
       "      <th>BI-RADS</th>\n",
       "      <th>Age</th>\n",
       "      <th>Shape_1</th>\n",
       "      <th>Shape_2</th>\n",
       "      <th>Shape_3</th>\n",
       "      <th>Shape_4</th>\n",
       "      <th>Margin_1</th>\n",
       "      <th>Margin_2</th>\n",
       "      <th>Margin_3</th>\n",
       "      <th>Margin_4</th>\n",
       "      <th>Margin_5</th>\n",
       "      <th>Density_1</th>\n",
       "      <th>Density_2</th>\n",
       "      <th>Density_3</th>\n",
       "      <th>Density_4</th>\n",
       "    </tr>\n",
       "  </thead>\n",
       "  <tbody>\n",
       "    <tr>\n",
       "      <th>0</th>\n",
       "      <td>5</td>\n",
       "      <td>67</td>\n",
       "      <td>0</td>\n",
       "      <td>0</td>\n",
       "      <td>1</td>\n",
       "      <td>0</td>\n",
       "      <td>0</td>\n",
       "      <td>0</td>\n",
       "      <td>0</td>\n",
       "      <td>0</td>\n",
       "      <td>1</td>\n",
       "      <td>0</td>\n",
       "      <td>0</td>\n",
       "      <td>1</td>\n",
       "      <td>0</td>\n",
       "    </tr>\n",
       "    <tr>\n",
       "      <th>1</th>\n",
       "      <td>4</td>\n",
       "      <td>43</td>\n",
       "      <td>1</td>\n",
       "      <td>0</td>\n",
       "      <td>0</td>\n",
       "      <td>0</td>\n",
       "      <td>1</td>\n",
       "      <td>0</td>\n",
       "      <td>0</td>\n",
       "      <td>0</td>\n",
       "      <td>0</td>\n",
       "      <td>0</td>\n",
       "      <td>0</td>\n",
       "      <td>1</td>\n",
       "      <td>0</td>\n",
       "    </tr>\n",
       "    <tr>\n",
       "      <th>2</th>\n",
       "      <td>5</td>\n",
       "      <td>58</td>\n",
       "      <td>0</td>\n",
       "      <td>0</td>\n",
       "      <td>0</td>\n",
       "      <td>1</td>\n",
       "      <td>0</td>\n",
       "      <td>0</td>\n",
       "      <td>0</td>\n",
       "      <td>0</td>\n",
       "      <td>1</td>\n",
       "      <td>0</td>\n",
       "      <td>0</td>\n",
       "      <td>1</td>\n",
       "      <td>0</td>\n",
       "    </tr>\n",
       "    <tr>\n",
       "      <th>3</th>\n",
       "      <td>4</td>\n",
       "      <td>28</td>\n",
       "      <td>1</td>\n",
       "      <td>0</td>\n",
       "      <td>0</td>\n",
       "      <td>0</td>\n",
       "      <td>1</td>\n",
       "      <td>0</td>\n",
       "      <td>0</td>\n",
       "      <td>0</td>\n",
       "      <td>0</td>\n",
       "      <td>0</td>\n",
       "      <td>0</td>\n",
       "      <td>1</td>\n",
       "      <td>0</td>\n",
       "    </tr>\n",
       "    <tr>\n",
       "      <th>4</th>\n",
       "      <td>5</td>\n",
       "      <td>74</td>\n",
       "      <td>1</td>\n",
       "      <td>0</td>\n",
       "      <td>0</td>\n",
       "      <td>0</td>\n",
       "      <td>0</td>\n",
       "      <td>0</td>\n",
       "      <td>0</td>\n",
       "      <td>0</td>\n",
       "      <td>1</td>\n",
       "      <td>0</td>\n",
       "      <td>0</td>\n",
       "      <td>1</td>\n",
       "      <td>0</td>\n",
       "    </tr>\n",
       "  </tbody>\n",
       "</table>\n",
       "</div>"
      ],
      "text/plain": [
       "  BI-RADS Age  Shape_1  Shape_2  Shape_3  Shape_4  Margin_1  Margin_2  \\\n",
       "0       5  67        0        0        1        0         0         0   \n",
       "1       4  43        1        0        0        0         1         0   \n",
       "2       5  58        0        0        0        1         0         0   \n",
       "3       4  28        1        0        0        0         1         0   \n",
       "4       5  74        1        0        0        0         0         0   \n",
       "\n",
       "   Margin_3  Margin_4  Margin_5  Density_1  Density_2  Density_3  Density_4  \n",
       "0         0         0         1          0          0          1          0  \n",
       "1         0         0         0          0          0          1          0  \n",
       "2         0         0         1          0          0          1          0  \n",
       "3         0         0         0          0          0          1          0  \n",
       "4         0         0         1          0          0          1          0  "
      ]
     },
     "execution_count": 15,
     "metadata": {},
     "output_type": "execute_result"
    }
   ],
   "source": [
    "x_mammographic = df_mammographics[[\"BI-RADS\",\"Age\",\n",
    "                                   \"Shape_1\",\"Shape_2\",\"Shape_3\",\"Shape_4\",\n",
    "                                   \"Margin_1\",\"Margin_2\",\"Margin_3\",\"Margin_4\",\"Margin_5\",\n",
    "                                   \"Density_1\",\"Density_2\", \"Density_3\", \"Density_4\"]]\n",
    "\n",
    "y_mammographic = df_mammographics[\"Severity\"]\n",
    "\n",
    "x_mammographic.head()"
   ]
  },
  {
   "cell_type": "code",
   "execution_count": 16,
   "metadata": {},
   "outputs": [
    {
     "data": {
      "text/html": [
       "<div>\n",
       "<style scoped>\n",
       "    .dataframe tbody tr th:only-of-type {\n",
       "        vertical-align: middle;\n",
       "    }\n",
       "\n",
       "    .dataframe tbody tr th {\n",
       "        vertical-align: top;\n",
       "    }\n",
       "\n",
       "    .dataframe thead th {\n",
       "        text-align: right;\n",
       "    }\n",
       "</style>\n",
       "<table border=\"1\" class=\"dataframe\">\n",
       "  <thead>\n",
       "    <tr style=\"text-align: right;\">\n",
       "      <th></th>\n",
       "      <th>Mcg</th>\n",
       "      <th>Gvh</th>\n",
       "      <th>Lip</th>\n",
       "      <th>Chg</th>\n",
       "      <th>Aac</th>\n",
       "      <th>Alm1</th>\n",
       "      <th>Alm2</th>\n",
       "      <th>Class</th>\n",
       "    </tr>\n",
       "  </thead>\n",
       "  <tbody>\n",
       "    <tr>\n",
       "      <th>0</th>\n",
       "      <td>&lt;null&gt;</td>\n",
       "      <td>0.29</td>\n",
       "      <td>0.48</td>\n",
       "      <td>0.5</td>\n",
       "      <td>&lt;null&gt;</td>\n",
       "      <td>0.24</td>\n",
       "      <td>0.35</td>\n",
       "      <td>cp</td>\n",
       "    </tr>\n",
       "    <tr>\n",
       "      <th>1</th>\n",
       "      <td>0.07</td>\n",
       "      <td>0.4</td>\n",
       "      <td>0.48</td>\n",
       "      <td>0.5</td>\n",
       "      <td>0.54</td>\n",
       "      <td>0.35</td>\n",
       "      <td>0.44</td>\n",
       "      <td>cp</td>\n",
       "    </tr>\n",
       "    <tr>\n",
       "      <th>2</th>\n",
       "      <td>0.56</td>\n",
       "      <td>0.4</td>\n",
       "      <td>0.48</td>\n",
       "      <td>0.5</td>\n",
       "      <td>0.49</td>\n",
       "      <td>0.37</td>\n",
       "      <td>0.46</td>\n",
       "      <td>cp</td>\n",
       "    </tr>\n",
       "    <tr>\n",
       "      <th>3</th>\n",
       "      <td>0.59</td>\n",
       "      <td>0.49</td>\n",
       "      <td>0.48</td>\n",
       "      <td>0.5</td>\n",
       "      <td>0.52</td>\n",
       "      <td>&lt;null&gt;</td>\n",
       "      <td>&lt;null&gt;</td>\n",
       "      <td>cp</td>\n",
       "    </tr>\n",
       "    <tr>\n",
       "      <th>4</th>\n",
       "      <td>0.23</td>\n",
       "      <td>0.32</td>\n",
       "      <td>0.48</td>\n",
       "      <td>0.5</td>\n",
       "      <td>0.55</td>\n",
       "      <td>0.25</td>\n",
       "      <td>0.35</td>\n",
       "      <td>cp</td>\n",
       "    </tr>\n",
       "  </tbody>\n",
       "</table>\n",
       "</div>"
      ],
      "text/plain": [
       "      Mcg   Gvh   Lip  Chg     Aac    Alm1    Alm2 Class\n",
       "0  <null>  0.29  0.48  0.5  <null>    0.24    0.35    cp\n",
       "1    0.07   0.4  0.48  0.5    0.54    0.35    0.44    cp\n",
       "2    0.56   0.4  0.48  0.5    0.49    0.37    0.46    cp\n",
       "3    0.59  0.49  0.48  0.5    0.52  <null>  <null>    cp\n",
       "4    0.23  0.32  0.48  0.5    0.55    0.25    0.35    cp"
      ]
     },
     "execution_count": 16,
     "metadata": {},
     "output_type": "execute_result"
    }
   ],
   "source": [
    "names_ecoli = ['Mcg', 'Gvh', 'Lip', 'Chg', 'Aac', 'Alm1', 'Alm2', 'Class']\n",
    "\n",
    "df_ecoli = pd.read_csv('./data/ecoli/ecoli.csv', names = names_ecoli)\n",
    "\n",
    "df_ecoli.head()"
   ]
  },
  {
   "cell_type": "code",
   "execution_count": 17,
   "metadata": {},
   "outputs": [
    {
     "name": "stdout",
     "output_type": "stream",
     "text": [
      "<class 'pandas.core.frame.DataFrame'>\n",
      "RangeIndex: 302 entries, 0 to 301\n",
      "Data columns (total 8 columns):\n",
      " #   Column  Non-Null Count  Dtype \n",
      "---  ------  --------------  ----- \n",
      " 0   Mcg     276 non-null    object\n",
      " 1   Gvh     274 non-null    object\n",
      " 2   Lip     267 non-null    object\n",
      " 3   Chg     277 non-null    object\n",
      " 4   Aac     278 non-null    object\n",
      " 5   Alm1    260 non-null    object\n",
      " 6   Alm2    271 non-null    object\n",
      " 7   Class   302 non-null    object\n",
      "dtypes: object(8)\n",
      "memory usage: 19.0+ KB\n"
     ]
    }
   ],
   "source": [
    "'''In data set-ul ecoli missing values sunt marcate prin '<null>',\n",
    "nu prin valori NaN, asa ca dorim sa inlocuim  valorile '<null>' cu valori\n",
    "NaN astfel incat sa putem vedea cre sunt valorile necompletate si\n",
    "sa le putem inlocui sau sterge.'''\n",
    "\n",
    "df_ecoli = df_ecoli.replace('<null>', np.nan)\n",
    "df_ecoli.info()"
   ]
  },
  {
   "cell_type": "code",
   "execution_count": 18,
   "metadata": {},
   "outputs": [
    {
     "data": {
      "text/html": [
       "<div>\n",
       "<style scoped>\n",
       "    .dataframe tbody tr th:only-of-type {\n",
       "        vertical-align: middle;\n",
       "    }\n",
       "\n",
       "    .dataframe tbody tr th {\n",
       "        vertical-align: top;\n",
       "    }\n",
       "\n",
       "    .dataframe thead th {\n",
       "        text-align: right;\n",
       "    }\n",
       "</style>\n",
       "<table border=\"1\" class=\"dataframe\">\n",
       "  <thead>\n",
       "    <tr style=\"text-align: right;\">\n",
       "      <th></th>\n",
       "      <th>Mcg</th>\n",
       "      <th>Gvh</th>\n",
       "      <th>Lip</th>\n",
       "      <th>Chg</th>\n",
       "      <th>Aac</th>\n",
       "      <th>Alm1</th>\n",
       "      <th>Alm2</th>\n",
       "    </tr>\n",
       "  </thead>\n",
       "  <tbody>\n",
       "    <tr>\n",
       "      <th>0</th>\n",
       "      <td>NaN</td>\n",
       "      <td>0.29</td>\n",
       "      <td>0.48</td>\n",
       "      <td>0.5</td>\n",
       "      <td>NaN</td>\n",
       "      <td>0.24</td>\n",
       "      <td>0.35</td>\n",
       "    </tr>\n",
       "    <tr>\n",
       "      <th>1</th>\n",
       "      <td>0.07</td>\n",
       "      <td>0.4</td>\n",
       "      <td>0.48</td>\n",
       "      <td>0.5</td>\n",
       "      <td>0.54</td>\n",
       "      <td>0.35</td>\n",
       "      <td>0.44</td>\n",
       "    </tr>\n",
       "    <tr>\n",
       "      <th>2</th>\n",
       "      <td>0.56</td>\n",
       "      <td>0.4</td>\n",
       "      <td>0.48</td>\n",
       "      <td>0.5</td>\n",
       "      <td>0.49</td>\n",
       "      <td>0.37</td>\n",
       "      <td>0.46</td>\n",
       "    </tr>\n",
       "    <tr>\n",
       "      <th>3</th>\n",
       "      <td>0.59</td>\n",
       "      <td>0.49</td>\n",
       "      <td>0.48</td>\n",
       "      <td>0.5</td>\n",
       "      <td>0.52</td>\n",
       "      <td>NaN</td>\n",
       "      <td>NaN</td>\n",
       "    </tr>\n",
       "    <tr>\n",
       "      <th>4</th>\n",
       "      <td>0.23</td>\n",
       "      <td>0.32</td>\n",
       "      <td>0.48</td>\n",
       "      <td>0.5</td>\n",
       "      <td>0.55</td>\n",
       "      <td>0.25</td>\n",
       "      <td>0.35</td>\n",
       "    </tr>\n",
       "  </tbody>\n",
       "</table>\n",
       "</div>"
      ],
      "text/plain": [
       "    Mcg   Gvh   Lip  Chg   Aac  Alm1  Alm2\n",
       "0   NaN  0.29  0.48  0.5   NaN  0.24  0.35\n",
       "1  0.07   0.4  0.48  0.5  0.54  0.35  0.44\n",
       "2  0.56   0.4  0.48  0.5  0.49  0.37  0.46\n",
       "3  0.59  0.49  0.48  0.5  0.52   NaN   NaN\n",
       "4  0.23  0.32  0.48  0.5  0.55  0.25  0.35"
      ]
     },
     "execution_count": 18,
     "metadata": {},
     "output_type": "execute_result"
    }
   ],
   "source": [
    "x_ecoli = df_ecoli[['Mcg', 'Gvh', 'Lip', 'Chg', 'Aac', 'Alm1', 'Alm2']]\n",
    "\n",
    "y_ecoli = df_ecoli['Class']\n",
    "\n",
    "x_ecoli.head()"
   ]
  },
  {
   "cell_type": "code",
   "execution_count": 19,
   "metadata": {},
   "outputs": [
    {
     "data": {
      "text/html": [
       "<div>\n",
       "<style scoped>\n",
       "    .dataframe tbody tr th:only-of-type {\n",
       "        vertical-align: middle;\n",
       "    }\n",
       "\n",
       "    .dataframe tbody tr th {\n",
       "        vertical-align: top;\n",
       "    }\n",
       "\n",
       "    .dataframe thead th {\n",
       "        text-align: right;\n",
       "    }\n",
       "</style>\n",
       "<table border=\"1\" class=\"dataframe\">\n",
       "  <thead>\n",
       "    <tr style=\"text-align: right;\">\n",
       "      <th></th>\n",
       "      <th>0</th>\n",
       "      <th>1</th>\n",
       "      <th>2</th>\n",
       "      <th>3</th>\n",
       "      <th>4</th>\n",
       "      <th>5</th>\n",
       "      <th>6</th>\n",
       "    </tr>\n",
       "  </thead>\n",
       "  <tbody>\n",
       "    <tr>\n",
       "      <th>0</th>\n",
       "      <td>0.345</td>\n",
       "      <td>0.29</td>\n",
       "      <td>0.48</td>\n",
       "      <td>0.5</td>\n",
       "      <td>0.4425</td>\n",
       "      <td>0.24</td>\n",
       "      <td>0.3500</td>\n",
       "    </tr>\n",
       "    <tr>\n",
       "      <th>1</th>\n",
       "      <td>0.070</td>\n",
       "      <td>0.40</td>\n",
       "      <td>0.48</td>\n",
       "      <td>0.5</td>\n",
       "      <td>0.5400</td>\n",
       "      <td>0.35</td>\n",
       "      <td>0.4400</td>\n",
       "    </tr>\n",
       "    <tr>\n",
       "      <th>2</th>\n",
       "      <td>0.560</td>\n",
       "      <td>0.40</td>\n",
       "      <td>0.48</td>\n",
       "      <td>0.5</td>\n",
       "      <td>0.4900</td>\n",
       "      <td>0.37</td>\n",
       "      <td>0.4600</td>\n",
       "    </tr>\n",
       "    <tr>\n",
       "      <th>3</th>\n",
       "      <td>0.590</td>\n",
       "      <td>0.49</td>\n",
       "      <td>0.48</td>\n",
       "      <td>0.5</td>\n",
       "      <td>0.5200</td>\n",
       "      <td>0.79</td>\n",
       "      <td>0.7975</td>\n",
       "    </tr>\n",
       "    <tr>\n",
       "      <th>4</th>\n",
       "      <td>0.230</td>\n",
       "      <td>0.32</td>\n",
       "      <td>0.48</td>\n",
       "      <td>0.5</td>\n",
       "      <td>0.5500</td>\n",
       "      <td>0.25</td>\n",
       "      <td>0.3500</td>\n",
       "    </tr>\n",
       "  </tbody>\n",
       "</table>\n",
       "</div>"
      ],
      "text/plain": [
       "       0     1     2    3       4     5       6\n",
       "0  0.345  0.29  0.48  0.5  0.4425  0.24  0.3500\n",
       "1  0.070  0.40  0.48  0.5  0.5400  0.35  0.4400\n",
       "2  0.560  0.40  0.48  0.5  0.4900  0.37  0.4600\n",
       "3  0.590  0.49  0.48  0.5  0.5200  0.79  0.7975\n",
       "4  0.230  0.32  0.48  0.5  0.5500  0.25  0.3500"
      ]
     },
     "execution_count": 19,
     "metadata": {},
     "output_type": "execute_result"
    }
   ],
   "source": [
    "imputer = KNNImputer(n_neighbors=4)\n",
    "x_ecoli = pd.DataFrame(imputer.fit_transform(x_ecoli))\n",
    "\n",
    "x_ecoli.head()"
   ]
  },
  {
   "cell_type": "code",
   "execution_count": 20,
   "metadata": {},
   "outputs": [
    {
     "name": "stdout",
     "output_type": "stream",
     "text": [
      "<class 'pandas.core.frame.DataFrame'>\n",
      "RangeIndex: 302 entries, 0 to 301\n",
      "Data columns (total 7 columns):\n",
      " #   Column  Non-Null Count  Dtype  \n",
      "---  ------  --------------  -----  \n",
      " 0   0       302 non-null    float64\n",
      " 1   1       302 non-null    float64\n",
      " 2   2       302 non-null    float64\n",
      " 3   3       302 non-null    float64\n",
      " 4   4       302 non-null    float64\n",
      " 5   5       302 non-null    float64\n",
      " 6   6       302 non-null    float64\n",
      "dtypes: float64(7)\n",
      "memory usage: 16.6 KB\n"
     ]
    }
   ],
   "source": [
    "x_ecoli.info()"
   ]
  },
  {
   "cell_type": "markdown",
   "metadata": {},
   "source": [
    "<font color=blue>Ex2:</font> Pentru fiecare set de date aplicati 5 modele de clasificare din scikit learn. Pentru fiecare raportati: acuratete, scorul F1 - a se vedea sklearn.metrics - folosind 5 fold cross validation. Raportati mediile rezultatelor atat pentru fold-urile de antrenare, cat si pentru cele de testare. Rularile se vor face cu valori fixate ale hiperparametrilor."
   ]
  },
  {
   "cell_type": "markdown",
   "metadata": {},
   "source": [
    "# <font color= magenta> A. Algoritmi care nu necesita scalarea datelor"
   ]
  },
  {
   "cell_type": "markdown",
   "metadata": {},
   "source": [
    "# <font color= magenta> 1. DecisionTreeClassifier"
   ]
  },
  {
   "cell_type": "code",
   "execution_count": 21,
   "metadata": {},
   "outputs": [],
   "source": [
    "def decision_tree_method(X, y) -> None:\n",
    "    \n",
    "    model = DecisionTreeClassifier(max_depth=5, min_samples_leaf=15)\n",
    "        \n",
    "    scores = cross_validate(model, X, y, cv=5, scoring=['accuracy','f1_weighted'], return_train_score=True)\n",
    "    \n",
    "    print ('Acuratetea setului de antrenare este:', scores['train_accuracy'],\n",
    "           'si are media:', scores['train_accuracy'].mean())\n",
    "    print ('Acuratetea setului de testare este:', scores['test_accuracy'],\n",
    "           'si are media:', scores['test_accuracy'].mean())\n",
    "    \n",
    "    print ('F1 pentru setul de antrenare este:', scores['train_f1_weighted'],\n",
    "           'si are media', scores['train_f1_weighted'].mean())\n",
    "    print ('F1 pentru setul de testare este:', scores['test_f1_weighted'],\n",
    "           'si are media', scores['test_f1_weighted'].mean())"
   ]
  },
  {
   "cell_type": "code",
   "execution_count": 22,
   "metadata": {},
   "outputs": [
    {
     "name": "stdout",
     "output_type": "stream",
     "text": [
      "Acuratetea setului de antrenare este: [0.61836563 0.61920809 0.60994103 0.63100253 0.61700337] si are media: 0.6191041274866043\n",
      "Acuratetea setului de testare este: [0.60606061 0.57239057 0.56228956 0.53872054 0.56756757] si are media: 0.5694057694057694\n",
      "F1 pentru setul de antrenare este: [0.60269116 0.59670385 0.59136236 0.61577814 0.59557764] si are media 0.6004226305634168\n",
      "F1 pentru setul de testare este: [0.59267024 0.55168132 0.53780771 0.52466963 0.54820681] si are media 0.5510071424486854\n"
     ]
    }
   ],
   "source": [
    "decision_tree_method(x_yeast, y_yeast)"
   ]
  },
  {
   "cell_type": "code",
   "execution_count": 23,
   "metadata": {},
   "outputs": [
    {
     "name": "stdout",
     "output_type": "stream",
     "text": [
      "Acuratetea setului de antrenare este: [0.65050821 0.65050821 0.65129007 0.66692729 0.6671875 ] si are media: 0.6572842552775606\n",
      "Acuratetea setului de testare este: [0.5125     0.4875     0.565625   0.54375    0.57366771] si are media: 0.5366085423197492\n",
      "F1 pentru setul de antrenare este: [0.62895952 0.62114804 0.63520597 0.63780948 0.64974681] si are media 0.6345739624252036\n",
      "F1 pentru setul de testare este: [0.46757743 0.4678346  0.55057509 0.52144317 0.55862606] si are media 0.5132112682481044\n"
     ]
    }
   ],
   "source": [
    "decision_tree_method(x_wine, y_wine)"
   ]
  },
  {
   "cell_type": "code",
   "execution_count": 24,
   "metadata": {},
   "outputs": [
    {
     "name": "stdout",
     "output_type": "stream",
     "text": [
      "Acuratetea setului de antrenare este: [0.84765625 0.83875163 0.83224967 0.85695709 0.84915475] si are media: 0.8449538767880365\n",
      "Acuratetea setului de testare este: [0.8238342  0.84895833 0.86979167 0.796875   0.8125    ] si are media: 0.8303918393782382\n",
      "F1 pentru setul de antrenare este: [0.84707059 0.83891629 0.83109108 0.85711622 0.84912447] si are media 0.8446637289495176\n",
      "F1 pentru setul de testare este: [0.82347124 0.84835523 0.8694528  0.79712312 0.80697028] si are media 0.8290745357062399\n"
     ]
    }
   ],
   "source": [
    "decision_tree_method(x_mammographic, y_mammographic)"
   ]
  },
  {
   "cell_type": "code",
   "execution_count": 25,
   "metadata": {},
   "outputs": [
    {
     "name": "stdout",
     "output_type": "stream",
     "text": [
      "Acuratetea setului de antrenare este: [0.82987552 0.81742739 0.80578512 0.83057851 0.80991736] si are media: 0.8187167792599706\n",
      "Acuratetea setului de testare este: [0.73770492 0.80327869 0.78333333 0.78333333 0.81666667] si are media: 0.784863387978142\n",
      "F1 pentru setul de antrenare este: [0.81741655 0.80335885 0.7941052  0.81655464 0.80021851] si are media 0.8063307511816623\n",
      "F1 pentru setul de testare este: [0.72164266 0.78885246 0.77863374 0.76017817 0.8046337 ] si are media 0.7707881445653887\n"
     ]
    },
    {
     "name": "stderr",
     "output_type": "stream",
     "text": [
      "C:\\Users\\adina\\Anaconda3\\envs\\dataScience\\lib\\site-packages\\sklearn\\model_selection\\_split.py:667: UserWarning: The least populated class in y has only 2 members, which is less than n_splits=5.\n",
      "  % (min_groups, self.n_splits)), UserWarning)\n"
     ]
    }
   ],
   "source": [
    "decision_tree_method(x_ecoli, y_ecoli)"
   ]
  },
  {
   "cell_type": "markdown",
   "metadata": {},
   "source": [
    "# <font color= magenta> 2. RandomForestClassifier"
   ]
  },
  {
   "cell_type": "code",
   "execution_count": 26,
   "metadata": {},
   "outputs": [],
   "source": [
    "def random_forest_method(X, y, max_depth, min_samples_leaf) -> None:\n",
    "    \n",
    "    model = RandomForestClassifier(max_depth=max_depth, min_samples_leaf=min_samples_leaf)\n",
    "        \n",
    "    scores = cross_validate(model, X, y, cv=5, scoring=['accuracy','f1_weighted'], return_train_score=True)\n",
    "    \n",
    "    print ('Acuratetea setului de antrenare este:', scores['train_accuracy'],\n",
    "           'si are media:', scores['train_accuracy'].mean())\n",
    "    print ('Acuratetea setului de testare este:', scores['test_accuracy'],\n",
    "           'si are media:', scores['test_accuracy'].mean())\n",
    "    \n",
    "    print ('F1 pentru setul de antrenare este:', scores['train_f1_weighted'],\n",
    "           'si are media', scores['train_f1_weighted'].mean())\n",
    "    print ('F1 pentru setul de testare este:', scores['test_f1_weighted'],\n",
    "           'si are media', scores['test_f1_weighted'].mean())"
   ]
  },
  {
   "cell_type": "code",
   "execution_count": 27,
   "metadata": {},
   "outputs": [
    {
     "name": "stdout",
     "output_type": "stream",
     "text": [
      "Acuratetea setului de antrenare este: [0.61415333 0.62005055 0.61920809 0.62931761 0.62205387] si are media: 0.6209566884798561\n",
      "Acuratetea setului de testare este: [0.57239057 0.58585859 0.62962963 0.52188552 0.61486486] si are media: 0.5849258349258349\n",
      "F1 pentru setul de antrenare este: [0.59680697 0.60392975 0.60349427 0.61601944 0.6060918 ] si are media 0.6052684436600301\n",
      "F1 pentru setul de testare este: [0.55157932 0.56845818 0.61055764 0.51082127 0.59381693] si are media 0.5670466695380775\n"
     ]
    }
   ],
   "source": [
    "random_forest_method(x_yeast, y_yeast, 4, 6)"
   ]
  },
  {
   "cell_type": "code",
   "execution_count": 28,
   "metadata": {},
   "outputs": [
    {
     "name": "stdout",
     "output_type": "stream",
     "text": [
      "Acuratetea setului de antrenare este: [0.62157936 0.62157936 0.61845192 0.61767005 0.6125    ] si are media: 0.6183561376075059\n",
      "Acuratetea setului de testare este: [0.565625   0.553125   0.61875    0.56875    0.60188088] si are media: 0.5816261755485893\n",
      "F1 pentru setul de antrenare este: [0.58223112 0.57320915 0.568508   0.5745025  0.55384668] si are media 0.5704594913065163\n",
      "F1 pentru setul de testare este: [0.49461841 0.50176337 0.55819345 0.53842212 0.54756644] si are media 0.5281127558553658\n"
     ]
    }
   ],
   "source": [
    "random_forest_method(x_wine, y_wine, 3, 6)"
   ]
  },
  {
   "cell_type": "code",
   "execution_count": 29,
   "metadata": {},
   "outputs": [
    {
     "name": "stdout",
     "output_type": "stream",
     "text": [
      "Acuratetea setului de antrenare este: [0.83854167 0.82574772 0.82704811 0.84135241 0.84655397] si are media: 0.8358487754659732\n",
      "Acuratetea setului de testare este: [0.80310881 0.82291667 0.85416667 0.80729167 0.82291667] si are media: 0.8220800949913644\n",
      "F1 pentru setul de antrenare este: [0.83875656 0.82594157 0.82721595 0.84147897 0.84655397] si are media 0.8359894052422339\n",
      "F1 pentru setul de testare este: [0.80292769 0.82233966 0.85432534 0.80752707 0.82138992] si are media 0.8217019330602984\n"
     ]
    }
   ],
   "source": [
    "random_forest_method(x_mammographic, y_mammographic, 5, 15)"
   ]
  },
  {
   "cell_type": "code",
   "execution_count": 30,
   "metadata": {},
   "outputs": [
    {
     "name": "stderr",
     "output_type": "stream",
     "text": [
      "C:\\Users\\adina\\Anaconda3\\envs\\dataScience\\lib\\site-packages\\sklearn\\model_selection\\_split.py:667: UserWarning: The least populated class in y has only 2 members, which is less than n_splits=5.\n",
      "  % (min_groups, self.n_splits)), UserWarning)\n"
     ]
    },
    {
     "name": "stdout",
     "output_type": "stream",
     "text": [
      "Acuratetea setului de antrenare este: [0.74273859 0.73029046 0.74793388 0.73966942 0.74793388] si are media: 0.7417132471451596\n",
      "Acuratetea setului de testare este: [0.72131148 0.7704918  0.76666667 0.7        0.68333333] si are media: 0.728360655737705\n",
      "F1 pentru setul de antrenare este: [0.6658067  0.65335522 0.6855614  0.66412583 0.6713499 ] si are media 0.6680398114686775\n",
      "F1 pentru setul de testare este: [0.6440846  0.70016007 0.69324237 0.62191092 0.60364498] si are media 0.652608586228682\n"
     ]
    }
   ],
   "source": [
    "random_forest_method(x_ecoli, y_ecoli, 2, 7)"
   ]
  },
  {
   "cell_type": "markdown",
   "metadata": {},
   "source": [
    "# <font color=magenta> B. Algoritmi care necesita scalarea datelor"
   ]
  },
  {
   "cell_type": "markdown",
   "metadata": {},
   "source": [
    "Pentru urmatoarele metode de clasificare vom scala datele."
   ]
  },
  {
   "cell_type": "code",
   "execution_count": 31,
   "metadata": {},
   "outputs": [
    {
     "data": {
      "text/html": [
       "<div>\n",
       "<style scoped>\n",
       "    .dataframe tbody tr th:only-of-type {\n",
       "        vertical-align: middle;\n",
       "    }\n",
       "\n",
       "    .dataframe tbody tr th {\n",
       "        vertical-align: top;\n",
       "    }\n",
       "\n",
       "    .dataframe thead th {\n",
       "        text-align: right;\n",
       "    }\n",
       "</style>\n",
       "<table border=\"1\" class=\"dataframe\">\n",
       "  <thead>\n",
       "    <tr style=\"text-align: right;\">\n",
       "      <th></th>\n",
       "      <th>fixed acidity</th>\n",
       "      <th>volatile acidity</th>\n",
       "      <th>citric acid</th>\n",
       "      <th>residual sugar</th>\n",
       "      <th>chlorides</th>\n",
       "      <th>free sulfur dioxide</th>\n",
       "      <th>total sulfur dioxide</th>\n",
       "      <th>density</th>\n",
       "      <th>pH</th>\n",
       "      <th>sulphates</th>\n",
       "      <th>alcohol</th>\n",
       "    </tr>\n",
       "  </thead>\n",
       "  <tbody>\n",
       "    <tr>\n",
       "      <th>0</th>\n",
       "      <td>0.247788</td>\n",
       "      <td>0.397260</td>\n",
       "      <td>0.00</td>\n",
       "      <td>0.068493</td>\n",
       "      <td>0.076</td>\n",
       "      <td>0.140845</td>\n",
       "      <td>0.098940</td>\n",
       "      <td>0.9978</td>\n",
       "      <td>0.606299</td>\n",
       "      <td>0.56</td>\n",
       "      <td>0.153846</td>\n",
       "    </tr>\n",
       "    <tr>\n",
       "      <th>1</th>\n",
       "      <td>0.283186</td>\n",
       "      <td>0.520548</td>\n",
       "      <td>0.00</td>\n",
       "      <td>0.116438</td>\n",
       "      <td>0.098</td>\n",
       "      <td>0.338028</td>\n",
       "      <td>0.215548</td>\n",
       "      <td>0.9968</td>\n",
       "      <td>0.362205</td>\n",
       "      <td>0.68</td>\n",
       "      <td>0.215385</td>\n",
       "    </tr>\n",
       "    <tr>\n",
       "      <th>2</th>\n",
       "      <td>0.283186</td>\n",
       "      <td>0.438356</td>\n",
       "      <td>0.04</td>\n",
       "      <td>0.095890</td>\n",
       "      <td>0.092</td>\n",
       "      <td>0.197183</td>\n",
       "      <td>0.169611</td>\n",
       "      <td>0.9970</td>\n",
       "      <td>0.409449</td>\n",
       "      <td>0.65</td>\n",
       "      <td>0.215385</td>\n",
       "    </tr>\n",
       "    <tr>\n",
       "      <th>3</th>\n",
       "      <td>0.584071</td>\n",
       "      <td>0.109589</td>\n",
       "      <td>0.56</td>\n",
       "      <td>0.068493</td>\n",
       "      <td>0.075</td>\n",
       "      <td>0.225352</td>\n",
       "      <td>0.190813</td>\n",
       "      <td>0.9980</td>\n",
       "      <td>0.330709</td>\n",
       "      <td>0.58</td>\n",
       "      <td>0.215385</td>\n",
       "    </tr>\n",
       "    <tr>\n",
       "      <th>4</th>\n",
       "      <td>0.247788</td>\n",
       "      <td>0.397260</td>\n",
       "      <td>0.00</td>\n",
       "      <td>0.068493</td>\n",
       "      <td>0.076</td>\n",
       "      <td>0.140845</td>\n",
       "      <td>0.098940</td>\n",
       "      <td>0.9978</td>\n",
       "      <td>0.606299</td>\n",
       "      <td>0.56</td>\n",
       "      <td>0.153846</td>\n",
       "    </tr>\n",
       "  </tbody>\n",
       "</table>\n",
       "</div>"
      ],
      "text/plain": [
       "   fixed acidity  volatile acidity  citric acid  residual sugar  chlorides  \\\n",
       "0       0.247788          0.397260         0.00        0.068493      0.076   \n",
       "1       0.283186          0.520548         0.00        0.116438      0.098   \n",
       "2       0.283186          0.438356         0.04        0.095890      0.092   \n",
       "3       0.584071          0.109589         0.56        0.068493      0.075   \n",
       "4       0.247788          0.397260         0.00        0.068493      0.076   \n",
       "\n",
       "   free sulfur dioxide  total sulfur dioxide  density        pH  sulphates  \\\n",
       "0             0.140845              0.098940   0.9978  0.606299       0.56   \n",
       "1             0.338028              0.215548   0.9968  0.362205       0.68   \n",
       "2             0.197183              0.169611   0.9970  0.409449       0.65   \n",
       "3             0.225352              0.190813   0.9980  0.330709       0.58   \n",
       "4             0.140845              0.098940   0.9978  0.606299       0.56   \n",
       "\n",
       "    alcohol  \n",
       "0  0.153846  \n",
       "1  0.215385  \n",
       "2  0.215385  \n",
       "3  0.215385  \n",
       "4  0.153846  "
      ]
     },
     "execution_count": 31,
     "metadata": {},
     "output_type": "execute_result"
    }
   ],
   "source": [
    "scaler = MinMaxScaler()\n",
    "\n",
    "x_wine[:][[\"fixed acidity\", \"volatile acidity\", \"residual sugar\", \n",
    "                   \"free sulfur dioxide\", \"total sulfur dioxide\", \"pH\", \"alcohol\"]]=scaler.fit_transform(\n",
    "    x_wine[:][[\"fixed acidity\", \"volatile acidity\", \"residual sugar\", \n",
    "                   \"free sulfur dioxide\", \"total sulfur dioxide\", \"pH\", \"alcohol\"]])\n",
    "\n",
    "x_wine.head()"
   ]
  },
  {
   "cell_type": "code",
   "execution_count": 32,
   "metadata": {},
   "outputs": [
    {
     "data": {
      "text/html": [
       "<div>\n",
       "<style scoped>\n",
       "    .dataframe tbody tr th:only-of-type {\n",
       "        vertical-align: middle;\n",
       "    }\n",
       "\n",
       "    .dataframe tbody tr th {\n",
       "        vertical-align: top;\n",
       "    }\n",
       "\n",
       "    .dataframe thead th {\n",
       "        text-align: right;\n",
       "    }\n",
       "</style>\n",
       "<table border=\"1\" class=\"dataframe\">\n",
       "  <thead>\n",
       "    <tr style=\"text-align: right;\">\n",
       "      <th></th>\n",
       "      <th>BI-RADS</th>\n",
       "      <th>Age</th>\n",
       "      <th>Shape_1</th>\n",
       "      <th>Shape_2</th>\n",
       "      <th>Shape_3</th>\n",
       "      <th>Shape_4</th>\n",
       "      <th>Margin_1</th>\n",
       "      <th>Margin_2</th>\n",
       "      <th>Margin_3</th>\n",
       "      <th>Margin_4</th>\n",
       "      <th>Margin_5</th>\n",
       "      <th>Density_1</th>\n",
       "      <th>Density_2</th>\n",
       "      <th>Density_3</th>\n",
       "      <th>Density_4</th>\n",
       "    </tr>\n",
       "  </thead>\n",
       "  <tbody>\n",
       "    <tr>\n",
       "      <th>0</th>\n",
       "      <td>5</td>\n",
       "      <td>67</td>\n",
       "      <td>0</td>\n",
       "      <td>0</td>\n",
       "      <td>1</td>\n",
       "      <td>0</td>\n",
       "      <td>0</td>\n",
       "      <td>0</td>\n",
       "      <td>0</td>\n",
       "      <td>0</td>\n",
       "      <td>1</td>\n",
       "      <td>0</td>\n",
       "      <td>0</td>\n",
       "      <td>1</td>\n",
       "      <td>0</td>\n",
       "    </tr>\n",
       "    <tr>\n",
       "      <th>1</th>\n",
       "      <td>4</td>\n",
       "      <td>43</td>\n",
       "      <td>1</td>\n",
       "      <td>0</td>\n",
       "      <td>0</td>\n",
       "      <td>0</td>\n",
       "      <td>1</td>\n",
       "      <td>0</td>\n",
       "      <td>0</td>\n",
       "      <td>0</td>\n",
       "      <td>0</td>\n",
       "      <td>0</td>\n",
       "      <td>0</td>\n",
       "      <td>1</td>\n",
       "      <td>0</td>\n",
       "    </tr>\n",
       "    <tr>\n",
       "      <th>2</th>\n",
       "      <td>5</td>\n",
       "      <td>58</td>\n",
       "      <td>0</td>\n",
       "      <td>0</td>\n",
       "      <td>0</td>\n",
       "      <td>1</td>\n",
       "      <td>0</td>\n",
       "      <td>0</td>\n",
       "      <td>0</td>\n",
       "      <td>0</td>\n",
       "      <td>1</td>\n",
       "      <td>0</td>\n",
       "      <td>0</td>\n",
       "      <td>1</td>\n",
       "      <td>0</td>\n",
       "    </tr>\n",
       "    <tr>\n",
       "      <th>3</th>\n",
       "      <td>4</td>\n",
       "      <td>28</td>\n",
       "      <td>1</td>\n",
       "      <td>0</td>\n",
       "      <td>0</td>\n",
       "      <td>0</td>\n",
       "      <td>1</td>\n",
       "      <td>0</td>\n",
       "      <td>0</td>\n",
       "      <td>0</td>\n",
       "      <td>0</td>\n",
       "      <td>0</td>\n",
       "      <td>0</td>\n",
       "      <td>1</td>\n",
       "      <td>0</td>\n",
       "    </tr>\n",
       "    <tr>\n",
       "      <th>4</th>\n",
       "      <td>5</td>\n",
       "      <td>74</td>\n",
       "      <td>1</td>\n",
       "      <td>0</td>\n",
       "      <td>0</td>\n",
       "      <td>0</td>\n",
       "      <td>0</td>\n",
       "      <td>0</td>\n",
       "      <td>0</td>\n",
       "      <td>0</td>\n",
       "      <td>1</td>\n",
       "      <td>0</td>\n",
       "      <td>0</td>\n",
       "      <td>1</td>\n",
       "      <td>0</td>\n",
       "    </tr>\n",
       "  </tbody>\n",
       "</table>\n",
       "</div>"
      ],
      "text/plain": [
       "  BI-RADS Age  Shape_1  Shape_2  Shape_3  Shape_4  Margin_1  Margin_2  \\\n",
       "0       5  67        0        0        1        0         0         0   \n",
       "1       4  43        1        0        0        0         1         0   \n",
       "2       5  58        0        0        0        1         0         0   \n",
       "3       4  28        1        0        0        0         1         0   \n",
       "4       5  74        1        0        0        0         0         0   \n",
       "\n",
       "   Margin_3  Margin_4  Margin_5  Density_1  Density_2  Density_3  Density_4  \n",
       "0         0         0         1          0          0          1          0  \n",
       "1         0         0         0          0          0          1          0  \n",
       "2         0         0         1          0          0          1          0  \n",
       "3         0         0         0          0          0          1          0  \n",
       "4         0         0         1          0          0          1          0  "
      ]
     },
     "execution_count": 32,
     "metadata": {},
     "output_type": "execute_result"
    }
   ],
   "source": [
    "scaler_mammographic = MinMaxScaler()\n",
    "\n",
    "x_mammographic[:][[\"BI-RADS\",\"Age\"]]= scaler_mammographic.fit_transform(x_mammographic[:][[\"BI-RADS\",\"Age\"]])\n",
    "\n",
    "x_mammographic.head()"
   ]
  },
  {
   "cell_type": "markdown",
   "metadata": {},
   "source": [
    "# <font color=magenta> 1. KNeighbourClassifier"
   ]
  },
  {
   "cell_type": "code",
   "execution_count": 33,
   "metadata": {},
   "outputs": [],
   "source": [
    "def k_neighbours_method(X, y, number_of_neighbors) -> None:\n",
    "    \n",
    "    model = KNeighborsClassifier(n_neighbors=number_of_neighbors)\n",
    "    \n",
    "    scores = cross_validate(model, X, y, cv=5, scoring=['accuracy','f1_weighted'], return_train_score=True)\n",
    "    \n",
    "    print ('Acuratetea setului de antrenare este:', scores['train_accuracy'],\n",
    "           'si are media:', scores['train_accuracy'].mean())\n",
    "    print ('Acuratetea setului de testare este:', scores['test_accuracy'],\n",
    "           'si are media:', scores['test_accuracy'].mean())\n",
    "    \n",
    "    print ('F1 pentru setul de antrenare este:', scores['train_f1_weighted'],\n",
    "           'si are media', scores['train_f1_weighted'].mean())\n",
    "    print ('F1 pentru setul de testare este:', scores['test_f1_weighted'],\n",
    "           'si are media', scores['test_f1_weighted'].mean())"
   ]
  },
  {
   "cell_type": "code",
   "execution_count": 34,
   "metadata": {},
   "outputs": [
    {
     "name": "stdout",
     "output_type": "stream",
     "text": [
      "Acuratetea setului de antrenare este: [0.64953665 0.65880371 0.64869419 0.65964617 0.6489899 ] si are media: 0.6531341213312569\n",
      "Acuratetea setului de testare este: [0.54882155 0.56228956 0.5959596  0.53198653 0.60472973] si are media: 0.5687573937573938\n",
      "F1 pentru setul de antrenare este: [0.6400713  0.64859767 0.64153687 0.6512153  0.63969849] si are media 0.6442239256194373\n",
      "F1 pentru setul de testare este: [0.53840288 0.55291814 0.59317743 0.51876893 0.59730318] si are media 0.5601141134298688\n"
     ]
    }
   ],
   "source": [
    "k_neighbours_method(x_yeast, y_yeast, 10)"
   ]
  },
  {
   "cell_type": "code",
   "execution_count": 35,
   "metadata": {},
   "outputs": [
    {
     "name": "stdout",
     "output_type": "stream",
     "text": [
      "Acuratetea setului de antrenare este: [0.59186865 0.60516028 0.57857701 0.59186865 0.5984375 ] si are media: 0.593182417904613\n",
      "Acuratetea setului de testare este: [0.534375   0.55       0.60625    0.55625    0.58934169] si are media: 0.5672433385579938\n",
      "F1 pentru setul de antrenare este: [0.56797048 0.5754338  0.54604082 0.56664071 0.56621608] si are media 0.5644603790080673\n",
      "F1 pentru setul de testare este: [0.48839427 0.52242078 0.56997685 0.54323602 0.54830089] si are media 0.534465763609883\n"
     ]
    }
   ],
   "source": [
    "k_neighbours_method(x_wine, y_wine, 73)"
   ]
  },
  {
   "cell_type": "code",
   "execution_count": 36,
   "metadata": {},
   "outputs": [
    {
     "name": "stdout",
     "output_type": "stream",
     "text": [
      "Acuratetea setului de antrenare este: [0.83203125 0.82444733 0.81924577 0.83224967 0.83355007] si are media: 0.8283048195708712\n",
      "Acuratetea setului de testare este: [0.81865285 0.83854167 0.83333333 0.796875   0.77083333] si are media: 0.8116472366148532\n",
      "F1 pentru setul de antrenare este: [0.83198055 0.82395602 0.81919042 0.83203582 0.83331512] si are media 0.8280955837167479\n",
      "F1 pentru setul de testare este: [0.81816071 0.83868668 0.83300493 0.79705743 0.76646923] si are media 0.8106757963754205\n"
     ]
    }
   ],
   "source": [
    "k_neighbours_method(x_mammographic, y_mammographic, 10)"
   ]
  },
  {
   "cell_type": "code",
   "execution_count": 37,
   "metadata": {},
   "outputs": [
    {
     "name": "stdout",
     "output_type": "stream",
     "text": [
      "Acuratetea setului de antrenare este: [0.8340249  0.82157676 0.84710744 0.83884298 0.83884298] si are media: 0.8360790096361578\n",
      "Acuratetea setului de testare este: [0.83606557 0.86885246 0.81666667 0.8        0.78333333] si are media: 0.820983606557377\n",
      "F1 pentru setul de antrenare este: [0.8156603  0.80397206 0.83174676 0.82326892 0.82416939] si are media 0.819763482836024\n",
      "F1 pentru setul de testare este: [0.81988356 0.85212577 0.80634079 0.78619434 0.75914787] si are media 0.8047384665687686\n"
     ]
    },
    {
     "name": "stderr",
     "output_type": "stream",
     "text": [
      "C:\\Users\\adina\\Anaconda3\\envs\\dataScience\\lib\\site-packages\\sklearn\\model_selection\\_split.py:667: UserWarning: The least populated class in y has only 2 members, which is less than n_splits=5.\n",
      "  % (min_groups, self.n_splits)), UserWarning)\n"
     ]
    }
   ],
   "source": [
    "k_neighbours_method(x_ecoli , y_ecoli, 15)"
   ]
  },
  {
   "cell_type": "markdown",
   "metadata": {},
   "source": [
    "# <font color=Magenta> 2. MLPClassifier"
   ]
  },
  {
   "cell_type": "code",
   "execution_count": 38,
   "metadata": {},
   "outputs": [],
   "source": [
    "def mlp_method(X, y, activ) -> None:\n",
    "    #‘sgd’ refers to stochastic gradient descent.\n",
    "    \n",
    "    model =  MLPClassifier(activation = activ, alpha=0.01, max_iter=1000)\n",
    "    \n",
    "    scores = cross_validate(model, X, y, cv=5, scoring=['accuracy','f1_weighted'], return_train_score=True)\n",
    "    \n",
    "    print ('Acuratetea setului de antrenare este:', scores['train_accuracy'],\n",
    "           'si are media:', scores['train_accuracy'].mean())\n",
    "    print ('Acuratetea setului de testare este:', scores['test_accuracy'],\n",
    "           'si are media:', scores['test_accuracy'].mean())\n",
    "    \n",
    "    print ('F1 pentru setul de antrenare este:', scores['train_f1_weighted'],\n",
    "           'si are media', scores['train_f1_weighted'].mean())\n",
    "    print ('F1 pentru setul de testare este:', scores['test_f1_weighted'],\n",
    "           'si are media', scores['test_f1_weighted'].mean())"
   ]
  },
  {
   "cell_type": "code",
   "execution_count": 39,
   "metadata": {},
   "outputs": [
    {
     "name": "stdout",
     "output_type": "stream",
     "text": [
      "Acuratetea setului de antrenare este: [0.60235889 0.60741365 0.58972199 0.61752317 0.60690236] si are media: 0.6047840097124005\n",
      "Acuratetea setului de testare este: [0.57239057 0.59259259 0.59259259 0.55218855 0.59121622] si are media: 0.5801961051961052\n",
      "F1 pentru setul de antrenare este: [0.59308905 0.59754681 0.58055532 0.60725645 0.59648299] si are media 0.594986124125205\n",
      "F1 pentru setul de testare este: [0.55882002 0.58274414 0.58459822 0.54224735 0.57894215] si are media 0.5694703755827184\n"
     ]
    }
   ],
   "source": [
    "mlp_method (x_yeast, y_yeast, 'tanh')"
   ]
  },
  {
   "cell_type": "code",
   "execution_count": 40,
   "metadata": {},
   "outputs": [
    {
     "name": "stdout",
     "output_type": "stream",
     "text": [
      "Acuratetea setului de antrenare este: [0.61219703 0.61532447 0.59577795 0.60359656 0.60234375] si are media: 0.6058479525019547\n",
      "Acuratetea setului de testare este: [0.5375     0.534375   0.64375    0.6        0.62068966] si are media: 0.5872629310344827\n",
      "F1 pentru setul de antrenare este: [0.59523756 0.59280308 0.57466913 0.58191883 0.57341956] si are media 0.5836096319586165\n",
      "F1 pentru setul de testare este: [0.49278364 0.51789375 0.62663733 0.58518862 0.58800589] si are media 0.5621018464485401\n"
     ]
    }
   ],
   "source": [
    "mlp_method (x_wine, y_wine, 'tanh')"
   ]
  },
  {
   "cell_type": "code",
   "execution_count": 41,
   "metadata": {},
   "outputs": [
    {
     "name": "stdout",
     "output_type": "stream",
     "text": [
      "Acuratetea setului de antrenare este: [0.82552083 0.81664499 0.81794538 0.84005202 0.82964889] si are media: 0.8259624241439099\n",
      "Acuratetea setului de testare este: [0.79792746 0.828125   0.84895833 0.77604167 0.80208333] si are media: 0.8106271588946459\n",
      "F1 pentru setul de antrenare este: [0.82571067 0.8168694  0.81814791 0.84022292 0.82951894] si are media 0.8260939701721396\n",
      "F1 pentru setul de testare este: [0.79800381 0.82768177 0.84909399 0.77633975 0.79993302] si are media 0.8102104681051117\n"
     ]
    }
   ],
   "source": [
    "mlp_method (x_mammographic, y_mammographic, 'tanh')"
   ]
  },
  {
   "cell_type": "code",
   "execution_count": 42,
   "metadata": {},
   "outputs": [
    {
     "name": "stderr",
     "output_type": "stream",
     "text": [
      "C:\\Users\\adina\\Anaconda3\\envs\\dataScience\\lib\\site-packages\\sklearn\\model_selection\\_split.py:667: UserWarning: The least populated class in y has only 2 members, which is less than n_splits=5.\n",
      "  % (min_groups, self.n_splits)), UserWarning)\n"
     ]
    },
    {
     "name": "stdout",
     "output_type": "stream",
     "text": [
      "Acuratetea setului de antrenare este: [0.86721992 0.86307054 0.8677686  0.8677686  0.86363636] si are media: 0.8658928020301087\n",
      "Acuratetea setului de testare este: [0.83606557 0.85245902 0.8        0.88333333 0.76666667] si are media: 0.827704918032787\n",
      "F1 pentru setul de antrenare este: [0.86050636 0.85429088 0.86380839 0.8611144  0.85611559] si are media 0.8591671235637207\n",
      "F1 pentru setul de testare este: [0.82280739 0.83967634 0.80936041 0.87498737 0.74268433] si are media 0.8179031684967363\n"
     ]
    }
   ],
   "source": [
    "mlp_method(x_ecoli, y_ecoli, 'tanh')"
   ]
  },
  {
   "cell_type": "markdown",
   "metadata": {},
   "source": [
    "# <font color=Magenta> 3. SVC"
   ]
  },
  {
   "cell_type": "code",
   "execution_count": 43,
   "metadata": {},
   "outputs": [],
   "source": [
    "def svc_method(X, y) -> None:\n",
    "    \n",
    "    model = SVC(class_weight=None, random_state = 10)\n",
    "    \n",
    "    scores = cross_validate(model, X, y, cv=5, scoring=['accuracy','f1_weighted'], return_train_score=True)\n",
    "    \n",
    "    print ('Acuratetea setului de antrenare este:', scores['train_accuracy'],\n",
    "           'si are media:', scores['train_accuracy'].mean())\n",
    "    print ('Acuratetea setului de testare este:', scores['test_accuracy'],\n",
    "           'si are media:', scores['test_accuracy'].mean())\n",
    "    \n",
    "    print ('F1 pentru setul de antrenare este:', scores['train_f1_weighted'],\n",
    "           'si are media', scores['train_f1_weighted'].mean())\n",
    "    print ('F1 pentru setul de testare este:', scores['test_f1_weighted'],\n",
    "           'si are media', scores['test_f1_weighted'].mean())"
   ]
  },
  {
   "cell_type": "code",
   "execution_count": 44,
   "metadata": {},
   "outputs": [
    {
     "name": "stdout",
     "output_type": "stream",
     "text": [
      "Acuratetea setului de antrenare este: [0.61078349 0.62173547 0.60320135 0.64026959 0.61784512] si are media: 0.618767001665064\n",
      "Acuratetea setului de testare este: [0.61616162 0.61616162 0.62289562 0.54882155 0.59121622] si are media: 0.599051324051324\n",
      "F1 pentru setul de antrenare este: [0.60028884 0.61091196 0.59489801 0.63121115 0.60759518] si are media 0.6089810273490984\n",
      "F1 pentru setul de testare este: [0.60209739 0.60709779 0.6130061  0.53866087 0.58190772] si are media 0.5885539757319778\n"
     ]
    }
   ],
   "source": [
    "svc_method (x_yeast, y_yeast)"
   ]
  },
  {
   "cell_type": "code",
   "execution_count": 45,
   "metadata": {},
   "outputs": [
    {
     "name": "stdout",
     "output_type": "stream",
     "text": [
      "Acuratetea setului de antrenare este: [0.59499609 0.60828772 0.59108679 0.60828772 0.6046875 ] si are media: 0.6014691653635653\n",
      "Acuratetea setului de testare este: [0.55625    0.540625   0.609375   0.578125   0.58934169] si are media: 0.5747433385579936\n",
      "F1 pentru setul de antrenare este: [0.54297281 0.55367691 0.53886185 0.55483223 0.55208943] si are media 0.5484866445259429\n",
      "F1 pentru setul de testare este: [0.49180227 0.49141756 0.55174861 0.52559271 0.53525559] si are media 0.5191633464843306\n"
     ]
    }
   ],
   "source": [
    "svc_method (x_wine, y_wine)"
   ]
  },
  {
   "cell_type": "code",
   "execution_count": 46,
   "metadata": {},
   "outputs": [
    {
     "name": "stdout",
     "output_type": "stream",
     "text": [
      "Acuratetea setului de antrenare este: [0.71484375 0.69830949 0.69310793 0.70221066 0.71261378] si are media: 0.7042171245123537\n",
      "Acuratetea setului de testare este: [0.65284974 0.72395833 0.73958333 0.71875    0.67708333] si are media: 0.7024449481865285\n",
      "F1 pentru setul de antrenare este: [0.71385373 0.69643926 0.69208776 0.70093886 0.71127046] si are media 0.7029180138631773\n",
      "F1 pentru setul de testare este: [0.65234206 0.72323993 0.737861   0.71819581 0.67429926] si are media 0.7011876125687839\n"
     ]
    }
   ],
   "source": [
    "svc_method (x_mammographic, y_mammographic)"
   ]
  },
  {
   "cell_type": "code",
   "execution_count": 47,
   "metadata": {},
   "outputs": [
    {
     "name": "stdout",
     "output_type": "stream",
     "text": [
      "Acuratetea setului de antrenare este: [0.87966805 0.87966805 0.89669421 0.87603306 0.87190083] si are media: 0.8807928397517232\n",
      "Acuratetea setului de testare este: [0.85245902 0.86885246 0.8        0.83333333 0.83333333] si are media: 0.8375956284153006\n",
      "F1 pentru setul de antrenare este: [0.87023407 0.87431834 0.89239785 0.87084179 0.86582862] si are media 0.8747241318143752\n",
      "F1 pentru setul de testare este: [0.84254489 0.85212577 0.81047515 0.82842919 0.8124757 ] si are media 0.8292101403047616\n"
     ]
    },
    {
     "name": "stderr",
     "output_type": "stream",
     "text": [
      "C:\\Users\\adina\\Anaconda3\\envs\\dataScience\\lib\\site-packages\\sklearn\\model_selection\\_split.py:667: UserWarning: The least populated class in y has only 2 members, which is less than n_splits=5.\n",
      "  % (min_groups, self.n_splits)), UserWarning)\n"
     ]
    }
   ],
   "source": [
    "svc_method(x_ecoli, y_ecoli)"
   ]
  },
  {
   "cell_type": "markdown",
   "metadata": {},
   "source": [
    "# <font color = magenta> 4. GaussianProcessClassifier"
   ]
  },
  {
   "cell_type": "code",
   "execution_count": 48,
   "metadata": {},
   "outputs": [],
   "source": [
    "def gaussian_method(X, y) -> None:\n",
    "    \n",
    "    model = GaussianProcessClassifier(random_state = 10)\n",
    "    \n",
    "    scores = cross_validate(model, X, y, cv=5, scoring=['accuracy','f1_weighted'], return_train_score=True)\n",
    "    \n",
    "    print ('Acuratetea setului de antrenare este:', scores['train_accuracy'],\n",
    "           'si are media:', scores['train_accuracy'].mean())\n",
    "    print ('Acuratetea setului de testare este:', scores['test_accuracy'],\n",
    "           'si are media:', scores['test_accuracy'].mean())\n",
    "    \n",
    "    print ('F1 pentru setul de antrenare este:', scores['train_f1_weighted'],\n",
    "           'si are media', scores['train_f1_weighted'].mean())\n",
    "    print ('F1 pentru setul de testare este:', scores['test_f1_weighted'],\n",
    "           'si are media', scores['test_f1_weighted'].mean())"
   ]
  },
  {
   "cell_type": "code",
   "execution_count": 49,
   "metadata": {},
   "outputs": [
    {
     "name": "stdout",
     "output_type": "stream",
     "text": [
      "Acuratetea setului de antrenare este: [0.54928391 0.54759899 0.53664701 0.56697557 0.55387205] si are media: 0.5508755059723889\n",
      "Acuratetea setului de testare este: [0.53872054 0.56902357 0.56228956 0.4983165  0.55405405] si are media: 0.5444808444808444\n",
      "F1 pentru setul de antrenare este: [0.52604099 0.52297166 0.51240678 0.54444678 0.5296878 ] si are media 0.5271108034696936\n",
      "F1 pentru setul de testare este: [0.50722909 0.54379091 0.53765294 0.4757784  0.52781064] si are media 0.5184523929808442\n"
     ]
    }
   ],
   "source": [
    "gaussian_method(x_yeast, y_yeast)"
   ]
  },
  {
   "cell_type": "code",
   "execution_count": 50,
   "metadata": {},
   "outputs": [
    {
     "name": "stdout",
     "output_type": "stream",
     "text": [
      "Acuratetea setului de antrenare este: [0.59343237 0.6028147  0.58952306 0.5887412  0.5953125 ] si are media: 0.5939647673964035\n",
      "Acuratetea setului de testare este: [0.546875   0.521875   0.625      0.596875   0.58934169] si are media: 0.5759933385579938\n",
      "F1 pentru setul de antrenare este: [0.54394999 0.55739554 0.54338252 0.54500169 0.54936446] si are media 0.5478188395908277\n",
      "F1 pentru setul de testare este: [0.48697201 0.49488464 0.56857956 0.55437955 0.53467028] si are media 0.5278972101434632\n"
     ]
    }
   ],
   "source": [
    "gaussian_method(x_wine, y_wine)"
   ]
  },
  {
   "cell_type": "code",
   "execution_count": 51,
   "metadata": {},
   "outputs": [
    {
     "name": "stdout",
     "output_type": "stream",
     "text": [
      "Acuratetea setului de antrenare este: [0.90364583 0.90117035 0.89986996 0.91027308 0.90507152] si are media: 0.9040061497615952\n",
      "Acuratetea setului de testare este: [0.8134715  0.83854167 0.80729167 0.77604167 0.77083333] si are media: 0.8012359671848014\n",
      "F1 pentru setul de antrenare este: [0.90373237 0.90122172 0.89992948 0.91028162 0.90511345] si are media 0.9040557274630185\n",
      "F1 pentru setul de testare este: [0.8130872  0.83873889 0.80721277 0.77633975 0.7683435 ] si are media 0.8007444222379576\n"
     ]
    }
   ],
   "source": [
    "gaussian_method(x_mammographic, y_mammographic)"
   ]
  },
  {
   "cell_type": "code",
   "execution_count": 52,
   "metadata": {},
   "outputs": [
    {
     "name": "stderr",
     "output_type": "stream",
     "text": [
      "C:\\Users\\adina\\Anaconda3\\envs\\dataScience\\lib\\site-packages\\sklearn\\model_selection\\_split.py:667: UserWarning: The least populated class in y has only 2 members, which is less than n_splits=5.\n",
      "  % (min_groups, self.n_splits)), UserWarning)\n"
     ]
    },
    {
     "name": "stdout",
     "output_type": "stream",
     "text": [
      "Acuratetea setului de antrenare este: [0.73443983 0.71784232 0.7231405  0.73553719 0.71900826] si are media: 0.7259936216179144\n",
      "Acuratetea setului de testare este: [0.67213115 0.78688525 0.8        0.68333333 0.63333333] si are media: 0.7151366120218581\n",
      "F1 pentru setul de antrenare este: [0.66145649 0.65239527 0.65535029 0.6643865  0.64709847] si are media 0.6561374045342532\n",
      "F1 pentru setul de testare este: [0.59665148 0.71327482 0.76849057 0.60328347 0.55299243] si are media 0.6469385546325116\n"
     ]
    }
   ],
   "source": [
    "gaussian_method(x_ecoli, y_ecoli)"
   ]
  },
  {
   "cell_type": "markdown",
   "metadata": {},
   "source": [
    "# <font color=magenta> 5. GaussianNB"
   ]
  },
  {
   "cell_type": "code",
   "execution_count": 53,
   "metadata": {},
   "outputs": [],
   "source": [
    "def gaussian_nb_method(X, y) -> None:\n",
    "    \n",
    "    model = GaussianNB()\n",
    "    \n",
    "    scores = cross_validate(model, X, y, cv=5, scoring=['accuracy','f1_weighted'], return_train_score=True)\n",
    "    \n",
    "    print ('Acuratetea setului de antrenare este:', scores['train_accuracy'],\n",
    "           'si are media:', scores['train_accuracy'].mean())\n",
    "    print ('Acuratetea setului de testare este:', scores['test_accuracy'],\n",
    "           'si are media:', scores['test_accuracy'].mean())\n",
    "    \n",
    "    print ('F1 pentru setul de antrenare este:', scores['train_f1_weighted'],\n",
    "           'si are media', scores['train_f1_weighted'].mean())\n",
    "    print ('F1 pentru setul de testare este:', scores['test_f1_weighted'],\n",
    "           'si are media', scores['test_f1_weighted'].mean())"
   ]
  },
  {
   "cell_type": "code",
   "execution_count": 54,
   "metadata": {},
   "outputs": [
    {
     "name": "stdout",
     "output_type": "stream",
     "text": [
      "Acuratetea setului de antrenare este: [0.16933446 0.15501264 0.23841618 0.1390059  0.13131313] si are media: 0.16661645945554956\n",
      "Acuratetea setului de testare este: [0.13804714 0.14478114 0.2020202  0.1043771  0.14864865] si are media: 0.14757484757484757\n",
      "F1 pentru setul de antrenare este: [0.20685848 0.17505935 0.20255769 0.13787692 0.14763672] si are media 0.17399783456613466\n",
      "F1 pentru setul de testare este: [0.15451384 0.16579675 0.17967319 0.10006242 0.16623635] si are media 0.15325650959500053\n"
     ]
    }
   ],
   "source": [
    "gaussian_nb_method(x_yeast, y_yeast)"
   ]
  },
  {
   "cell_type": "code",
   "execution_count": 55,
   "metadata": {},
   "outputs": [
    {
     "name": "stdout",
     "output_type": "stream",
     "text": [
      "Acuratetea setului de antrenare este: [0.57857701 0.56763096 0.55981235 0.55512119 0.56640625] si are media: 0.5655095533620016\n",
      "Acuratetea setului de testare este: [0.49375    0.4625     0.5875     0.496875   0.57053292] si are media: 0.5222315830721004\n",
      "F1 pentru setul de antrenare este: [0.58483603 0.56655814 0.55734532 0.55500248 0.56782543] si are media 0.5663134811046133\n",
      "F1 pentru setul de testare este: [0.49347686 0.45955206 0.58256095 0.50030087 0.56716433] si are media 0.5206110161790701\n"
     ]
    }
   ],
   "source": [
    "gaussian_nb_method(x_wine, y_wine)"
   ]
  },
  {
   "cell_type": "code",
   "execution_count": 56,
   "metadata": {},
   "outputs": [
    {
     "name": "stdout",
     "output_type": "stream",
     "text": [
      "Acuratetea setului de antrenare este: [0.78645833 0.79323797 0.78543563 0.79063719 0.78413524] si are media: 0.7879808734286953\n",
      "Acuratetea setului de testare este: [0.75129534 0.80729167 0.77604167 0.77604167 0.76041667] si are media: 0.7742174006908462\n",
      "F1 pentru setul de antrenare este: [0.78674116 0.79352161 0.78571053 0.79079073 0.78430745] si are media 0.7882142965108653\n",
      "F1 pentru setul de testare este: [0.74959765 0.80679471 0.77633975 0.77633975 0.75994458] si are media 0.7738032885300136\n"
     ]
    }
   ],
   "source": [
    "gaussian_nb_method(x_mammographic, y_mammographic)"
   ]
  },
  {
   "cell_type": "code",
   "execution_count": 57,
   "metadata": {},
   "outputs": [
    {
     "name": "stdout",
     "output_type": "stream",
     "text": [
      "Acuratetea setului de antrenare este: [0.73858921 0.69294606 0.74380165 0.72727273 0.68595041] si are media: 0.7177120126195947\n",
      "Acuratetea setului de testare este: [0.7704918  0.78688525 0.76666667 0.58333333 0.65      ] si are media: 0.7114754098360656\n",
      "F1 pentru setul de antrenare este: [0.72370796 0.66747979 0.69922857 0.7039992  0.63959111] si are media 0.6868013265805542\n",
      "F1 pentru setul de testare este: [0.75859138 0.78189875 0.74122745 0.52542414 0.59706654] si are media 0.680841650260976\n"
     ]
    },
    {
     "name": "stderr",
     "output_type": "stream",
     "text": [
      "C:\\Users\\adina\\Anaconda3\\envs\\dataScience\\lib\\site-packages\\sklearn\\model_selection\\_split.py:667: UserWarning: The least populated class in y has only 2 members, which is less than n_splits=5.\n",
      "  % (min_groups, self.n_splits)), UserWarning)\n"
     ]
    }
   ],
   "source": [
    "gaussian_nb_method(x_ecoli, y_ecoli)"
   ]
  },
  {
   "cell_type": "markdown",
   "metadata": {},
   "source": [
    "<font color=blue>Ex3:</font> Documentati in jupyter notebook fiecare din modelele folosite, in limba romana. Daca acelasi algoritm e folosit pentru mai multe seturi de date, puteti face o sectiune separata cu documentarea algoritmilor + trimitere la algoritm. "
   ]
  },
  {
   "cell_type": "markdown",
   "metadata": {},
   "source": [
    "# GaussianNB\n",
    "<br>\n",
    "\n"
   ]
  },
  {
   "cell_type": "markdown",
   "metadata": {},
   "source": [
    "#  Decision Tree Classifier\n",
    "<br>\n",
    "<br>\n",
    "<br>Aceasta metoda poate clasifica atat doua clase cat si mai multe clase intr-un dataset.\n",
    "<br>\n",
    "<br>Parametri:\n",
    "<br>splitter-> reprezinta strategia aleasa pentru divizarea nodurilor\n",
    "<br>max_depth-> reprezinta adancimea arborelui\n",
    "<br>min_samples_split-> nr minim de sample-uri necesare \n",
    "<br>min_samples_leaf-> nr minim de sample-uri necesare ca un nod sa fie frunza"
   ]
  },
  {
   "cell_type": "markdown",
   "metadata": {},
   "source": [
    "# Random Forest Classifier\n",
    "<br>\n",
    "<br>\n",
    "<br>Aceasta metoda foloseste o padure de arbori de decizie random.\n",
    "<br>Are ca scop controlul fenomenului de overfitting.\n",
    "<br>\n",
    "<br>Parametri:\n",
    "<br>n_estimators-> nr de arbori din padure\n",
    "<br>max_depth-> adancimea arborelui \n",
    "<br>min_samples_split-> nr de sample-uri necesare unui nod pentru a se face split\n",
    "<br>min_samples_leaf-> nr minim de sample-uri necesare ca un nod sa fie frunza\n",
    "<br>si altele\n",
    "\n",
    "<br>\n",
    "<br>\n",
    "<br>Observatii:\n",
    "<br>n_estimators-> nu produce overfitting daca crestem nr de arbori \n",
    "<br>max_features-> cu cat e mai mic cu atat evitam overfitting-ul, dar daca e prea mic reteaua face undefitting\n",
    "<br>max_depth-> are un rol important, reduce complexitatea"
   ]
  },
  {
   "cell_type": "markdown",
   "metadata": {},
   "source": [
    "# Multi-layer Perceptron classifier\n",
    "<br>\n",
    "<br>\n",
    "<br>Acest model optimizează funcția log-loss folosind LBFGS sau descendență de gradient stocastic.\n",
    "<br>Această implementare funcționează cu date reprezentate ca tablouri numpy dense sau tablouri scipy slabe de valori în virgulă mobilă.\n",
    "<br>\n",
    "<br>Parametri:\n",
    "<br>hidden_layer_sizes ->  numărul de neuroni din stratul ascuns\n",
    "<br>activation -> funcție de activare\n",
    "<br>solver ->  pentru optimizarea ponderilor\n",
    "<br>alpha -> parametrul de penalizare L2\n",
    "<br>batch_size -> dimensiunea minibatches-urilor pentru optimizarea stocastica\n",
    "<br>learning_rate -> rata de învățare pentru actualizări de ponderi\n",
    "<br>learning_rate_init -> rata inițială de învățare\n",
    "<br>power_t -> exponent pentru scalare inversă a ratei de învățare \n",
    "<br>max_iter -> numărul maxim de iterații\n",
    "<br>shuffle -> amestecare de sample-uri la fiecare iterație\n",
    "<br>random_state -> generatorul de numere aleatorii\n",
    "<br>tol -> toleranță pentru optimizare\n",
    "<br>verbose -> printare mesaje de progres în stdout\n",
    "<br>warm_start -> reutilizați soluția apelului anterior\n",
    "<br>momentum -> momentum pentru actualizarea descendenței gradientului\n",
    "<br>nesterovs_momentum -> momentumul lui Nesterov\n",
    "<br>early_stopping -> va anula automat 10% din datele de instruire și va încheia antrenarea atunci când scorul de validare nu se îmbunătățește \n",
    "<br>validation_fraction -> proportia datelor de antrenare care vor fi rezervate ca set de validare\n",
    "<br>beta_1 -> rata de descompunere exponențială pentru estimările vectorului din primul moment\n",
    "<br>beta_2 -> rata de descompunere exponențială pentru estimările vectorului din al doilea moment\n",
    "<br>epsilon -> valoare pentru stabilitatea numerică\n",
    "<br>n_iter_no_change -> numărul maxim de epoci pentru a nu respecta îmbunătățirea dată de tol\n",
    "<br>max_fun -> numărul maxim de apeluri ale funcției de loss"
   ]
  },
  {
   "cell_type": "markdown",
   "metadata": {},
   "source": [
    "# GaussianProcessClassifier\n",
    "<br>\n",
    "<br>\n",
    "<br>Este bazată pe aproximarea Laplace.\n",
    "<br>\n",
    "<br>Parametri:\n",
    "<br>kernel -> nucleul care specifică funcția de covarianță \n",
    "<br>optimizer -> optimizator intern acceptat pentru optimizarea parametrilor nucleului\n",
    "<br>n_restarts_optimizer -> numărul de reporniri ale optimizatorului pentru găsirea parametrilor kernel-ului\n",
    "<br>max_iter_predict -> numărul maxim de iterații din metoda lui Newton\n",
    "<br>warm_start -> soluția ultimei iterații Newton este utilizată ca inițializare pentru următorul apel\n",
    "<br>copy_X_train -> o copie persistentă a datelor de instruire \n",
    "<br>random_state -> generatorul de numere aleatorii \n",
    "<br>multi_class -> specifică modul în care sunt gestionate problemele de clasificare cu mai multe clase\n",
    "<br>n_jobs -> numărul de joburi utilizate pentru calcul"
   ]
  },
  {
   "cell_type": "markdown",
   "metadata": {},
   "source": [
    "# KNeighborsClassifier\n",
    "<br>\n",
    "<br>\n",
    "<br>Clasificatorul care implementează votul celor mai apropiați k vecini.\n",
    "<br>\n",
    "<br>Parametri:\n",
    "<br>n_neighbors -> numărul de vecini care vor fi folosiți\n",
    "<br>weights -> funcția de ponderi folosită în predicție\n",
    "<br>algorithm -> algoritmul folosit pentru calcularea vecinilor\n",
    "<br>leaf_size -> dimensiunea frunzelor pentru BallTree sau KDTree\n",
    "<br>p -> parametru de putere pentru metrica Minkowski\n",
    "<br>metric -> distanța utilizată pentru arbore\n",
    "<br>metric_params -> argumente suplimentare pentru funcția metrică\n",
    "<br>n_jobs -> numărul de joburi utilizate pentru calcul\n"
   ]
  },
  {
   "cell_type": "markdown",
   "metadata": {},
   "source": [
    "# C-Support Vector Classification\n",
    "<br>\n",
    "<br>\n",
    "<br>Implementarea se bazează pe libsvm. \n",
    "<br>\n",
    "<br>Parametri:\n",
    "<br>C -> parametrul de regularizare\n",
    "<br>kernel -> nucleul care specifică funcția de covarianță \n",
    "<br>degree -> gradul funcției nucleului polinomial \n",
    "<br>gamma -> coeficientul de nucleu\n",
    "<br>coef0 -> termen independent în funcția de nucleu\n",
    "<br>shrinking -> folosește euristicul micșorat\n",
    "<br>probability -> estimări de probabilitate\n",
    "<br>tol -> toleranță pentru optimizare \n",
    "<br>cache_size -> specifică dimensiunea memoriei cache a nucleului\n",
    "<br>class_weight -> setați parametrul C al clasei i la clasa_pondere[i]*C pentru SVC\n",
    "<br>verbose -> printare mesaje de progres în stdout \n",
    "<br>max_iter -> numărul maxim de iterații\n",
    "<br>decision_function_shape -> returnează funcția de decizie 'ovr' sau 'ovo' în funcție de formă\n",
    "<br>break_ties -> prezicerea va rupe legăturile în funcție de valorile de încredere ale funcției de decizie\n",
    "<br>random_state -> generatorul de numere aleatorii "
   ]
  },
  {
   "cell_type": "markdown",
   "metadata": {},
   "source": [
    "<font color=blue>Ex4:</font>Pentru fiecare model: efectuati o cautare a hiperparametrilor optimi folosind grid search si random search (cu parametrul cv = 4), folosind 5 fold cross validation. \n",
    "<br>\n",
    "Raportati performanta fiecarui model, folosind 5 fold cross validation. Pentru fiecare din cele 5 rulari, cautati hiperparametrii optimi folosind 4-fold cross validation. Performanta modelului va fi raportata ca medie a celor  5 rulari. \n",
    "    *Observatie:* la fiecare din cele 5 rulari, hiperparametrii optimi pot diferi, din cauza datelor utilizate pentru antrenare/validare.  "
   ]
  },
  {
   "cell_type": "markdown",
   "metadata": {},
   "source": [
    "# <font color=magenta> 1. KNeighbourClassifier"
   ]
  },
  {
   "cell_type": "code",
   "execution_count": null,
   "metadata": {},
   "outputs": [],
   "source": [
    "def KNN(X, y, n_neighbours, p):\n",
    "    X_train, X_test, y_train, y_test = train_test_split(X, y, test_size=1/5)\n",
    "    parameter_grid = {'n_neighbors': n_neighbours, 'p': p}\n",
    "#     parameter_grid = {'n_neighbors': list(range(1, 10)), 'p': [1, 1.5, 2, 2.5]}\n",
    "\n",
    "    grid_search = GridSearchCV(estimator = KNeighborsClassifier(), param_grid = parameter_grid, scoring = 'accuracy', \n",
    "                           cv = 5, return_train_score = True)\n",
    "    print(\"Grid Search :\", grid_search.fit(X_train, y_train))\n",
    "\n",
    "    y_estimated_train = grid_search.predict(X_train)\n",
    "    print(\"Accuracy train:\", accuracy_score(y_train, y_estimated_train))\n",
    "\n",
    "    y_estimated_test = grid_search.predict(X_test)\n",
    "    print(\"Accuracy test:\", accuracy_score(y_test, y_estimated_test))\n",
    "\n",
    "    print(\"Best parameter:\", grid_search.best_params_)\n",
    "\n",
    "    scores = cross_val_score(grid_search, X, y, cv=4)\n",
    "    print(\"Scores accuracy:\", scores)\n",
    "    print(\"Mean accuracy:\", scores.mean())"
   ]
  },
  {
   "cell_type": "code",
   "execution_count": null,
   "metadata": {},
   "outputs": [],
   "source": [
    "KNN(x_yeast, y_yeast, list(range(8, 12)), [1, 1.5, 2])"
   ]
  },
  {
   "cell_type": "code",
   "execution_count": null,
   "metadata": {},
   "outputs": [],
   "source": [
    "KNN(x_wine, y_wine, list(range(68, 75)), [1, 2, 3, 4.7])"
   ]
  },
  {
   "cell_type": "code",
   "execution_count": null,
   "metadata": {},
   "outputs": [],
   "source": [
    "KNN(x_mammographic, y_mammographic, list(range(5, 15)), [1, 2, 3, 4.7])"
   ]
  },
  {
   "cell_type": "code",
   "execution_count": null,
   "metadata": {},
   "outputs": [],
   "source": [
    "KNN(x_ecoli, y_ecoli, list(range(1, 5)), [1, 2, 3, 4])"
   ]
  },
  {
   "cell_type": "markdown",
   "metadata": {},
   "source": [
    "# <font color=Magenta> 2. MLPClassifier"
   ]
  },
  {
   "cell_type": "code",
   "execution_count": 59,
   "metadata": {},
   "outputs": [],
   "source": [
    "def MLP(X, y, max_iter):\n",
    "    X_train, X_test, y_train, y_test = train_test_split(X, y, test_size=1/5)\n",
    "    parameter_grid = {'activation': ['identity', 'logistic', 'tanh', 'relu'],\n",
    "                 'learning_rate': ['constant', 'invscaling', 'adaptive'],\n",
    "                 'max_iter': max_iter}\n",
    "    # 'learning_rate': ['constant', 'invscaling', 'adaptive'], 'tol': [1e-4, 5e-6, 1e-6]\n",
    "\n",
    "    grid_search = GridSearchCV(estimator = MLPClassifier(alpha=0.01), param_grid = parameter_grid, scoring = 'accuracy', \n",
    "                           cv = 5, return_train_score = True)\n",
    "    print(\"Grid Search :\", grid_search.fit(X_train, y_train))\n",
    "\n",
    "    y_estimated_train = grid_search.predict(X_train)\n",
    "    print(\"Accuracy train:\", accuracy_score(y_train, y_estimated_train))\n",
    "\n",
    "    y_estimated_test = grid_search.predict(X_test)\n",
    "    print(\"Accuracy test:\", accuracy_score(y_test, y_estimated_test))\n",
    "\n",
    "    print(\"Best parameter:\", grid_search.best_params_)\n",
    "\n",
    "    scores = cross_val_score(grid_search, X, y, cv=4)\n",
    "    print(\"Scores accuracy:\", scores)\n",
    "    print(\"Mean accuracy:\", scores.mean())"
   ]
  },
  {
   "cell_type": "code",
   "execution_count": null,
   "metadata": {},
   "outputs": [],
   "source": [
    "MLP(x_yeast, y_yeast, [1500, 2000])"
   ]
  },
  {
   "cell_type": "code",
   "execution_count": null,
   "metadata": {},
   "outputs": [],
   "source": [
    "MLP(x_wine, y_wine, [1800, 2200])"
   ]
  },
  {
   "cell_type": "code",
   "execution_count": null,
   "metadata": {},
   "outputs": [],
   "source": [
    "MLP(x_mammographic, y_mammographic, [1300, 2100])"
   ]
  },
  {
   "cell_type": "code",
   "execution_count": null,
   "metadata": {},
   "outputs": [],
   "source": [
    "MLP(x_ecoli, y_ecoli, [2000, 2500])"
   ]
  },
  {
   "cell_type": "markdown",
   "metadata": {},
   "source": [
    "# <font color=Magenta> 3. SVC"
   ]
  },
  {
   "cell_type": "code",
   "execution_count": null,
   "metadata": {},
   "outputs": [],
   "source": [
    "def SVC_classifier(X, y):\n",
    "    X_train, X_test, y_train, y_test = train_test_split(X, y, test_size=1/5)\n",
    "    parameter_grid = {'C': list(range(1, 5)), 'gamma': ['scale', 'auto']}\n",
    "\n",
    "    grid_search = GridSearchCV(estimator = SVC(), param_grid = parameter_grid, scoring = 'accuracy', \n",
    "                           cv = 5, return_train_score = True)\n",
    "    print(\"Grid Search :\", grid_search.fit(X_train, y_train))\n",
    "\n",
    "    y_estimated_train = grid_search.predict(X_train)\n",
    "    print(\"Accuracy train:\", accuracy_score(y_train, y_estimated_train))\n",
    "\n",
    "    y_estimated_test = grid_search.predict(X_test)\n",
    "    print(\"Accuracy test:\", accuracy_score(y_test, y_estimated_test))\n",
    "\n",
    "    print(\"Best parameter:\", grid_search.best_params_)\n",
    "\n",
    "    scores = cross_val_score(grid_search, X, y, cv=4)\n",
    "    print(\"Scores accuracy:\", scores)\n",
    "    print(\"Mean accuracy:\", scores.mean())"
   ]
  },
  {
   "cell_type": "code",
   "execution_count": null,
   "metadata": {},
   "outputs": [],
   "source": [
    "SVC_classifier(x_yeast, y_yeast)"
   ]
  },
  {
   "cell_type": "code",
   "execution_count": null,
   "metadata": {},
   "outputs": [],
   "source": [
    "SVC_classifier(x_wine, y_wine)"
   ]
  },
  {
   "cell_type": "code",
   "execution_count": null,
   "metadata": {},
   "outputs": [],
   "source": [
    "SVC_classifier(x_mammographic, y_mammographic)"
   ]
  },
  {
   "cell_type": "code",
   "execution_count": null,
   "metadata": {},
   "outputs": [],
   "source": [
    "SVC_classifier(x_ecoli, y_ecoli)"
   ]
  },
  {
   "cell_type": "markdown",
   "metadata": {},
   "source": [
    "# <font color = magenta> 4. GaussianProcessClassifier"
   ]
  },
  {
   "cell_type": "code",
   "execution_count": null,
   "metadata": {},
   "outputs": [],
   "source": [
    "def gaussian(X, y):\n",
    "    X_train, X_test, y_train, y_test = train_test_split(X, y, test_size=1/5)\n",
    "    parameter_grid = {'kernel': [None, 'kernel'], 'n_restarts_optimizer': list(range(0, 5))}\n",
    "\n",
    "    grid_search = GridSearchCV(estimator = GaussianProcessClassifier(), param_grid = parameter_grid, scoring = 'accuracy', \n",
    "                           cv = 5, return_train_score = True)\n",
    "    print(\"Grid Search :\", grid_search.fit(X_train, y_train))\n",
    "\n",
    "    y_estimated_train = grid_search.predict(X_train)\n",
    "    print(\"Accuracy train:\", accuracy_score(y_train, y_estimated_train))\n",
    "\n",
    "    y_estimated_test = grid_search.predict(X_test)\n",
    "    print(\"Accuracy test:\", accuracy_score(y_test, y_estimated_test))\n",
    "\n",
    "    print(\"Best parameter:\", grid_search.best_params_)\n",
    "\n",
    "    scores = cross_val_score(grid_search, X, y, cv=4)\n",
    "    print(\"Scores accuracy:\", scores)\n",
    "    print(\"Mean accuracy:\", scores.mean())"
   ]
  },
  {
   "cell_type": "code",
   "execution_count": null,
   "metadata": {},
   "outputs": [],
   "source": [
    "gaussian(x_yeast, y_yeast)"
   ]
  },
  {
   "cell_type": "code",
   "execution_count": null,
   "metadata": {},
   "outputs": [],
   "source": [
    "gaussian(x_wine, y_wine)"
   ]
  },
  {
   "cell_type": "code",
   "execution_count": null,
   "metadata": {},
   "outputs": [],
   "source": [
    "gaussian(x_mammographic, y_mammographic)"
   ]
  },
  {
   "cell_type": "code",
   "execution_count": null,
   "metadata": {},
   "outputs": [],
   "source": [
    "gaussian(x_ecoli, y_ecoli)"
   ]
  },
  {
   "cell_type": "markdown",
   "metadata": {},
   "source": [
    "# <font color=magenta> 5. GaussianNB"
   ]
  },
  {
   "cell_type": "code",
   "execution_count": null,
   "metadata": {},
   "outputs": [],
   "source": [
    "def gaussianNB(X, y):\n",
    "    X_train, X_test, y_train, y_test = train_test_split(X, y, test_size=1/5)\n",
    "    parameter_grid = {'var_smoothing': [1e-4, 5e-6, 1e-9]}\n",
    "\n",
    "    grid_search = GridSearchCV(estimator = GaussianNB(), param_grid = parameter_grid, scoring = 'accuracy', \n",
    "                           cv = 5, return_train_score = True)\n",
    "    print(\"Grid Search :\", grid_search.fit(X_train, y_train))\n",
    "\n",
    "    y_estimated_train = grid_search.predict(X_train)\n",
    "    print(\"Accuracy train:\", accuracy_score(y_train, y_estimated_train))\n",
    "\n",
    "    y_estimated_test = grid_search.predict(X_test)\n",
    "    print(\"Accuracy test:\", accuracy_score(y_test, y_estimated_test))\n",
    "\n",
    "    print(\"Best parameter:\", grid_search.best_params_)\n",
    "    \n",
    "    scores = cross_val_score(grid_search, X, y, cv=4)\n",
    "    print(\"Scores accuracy:\", scores)\n",
    "    print(\"Mean accuracy:\", scores.mean())"
   ]
  },
  {
   "cell_type": "code",
   "execution_count": null,
   "metadata": {},
   "outputs": [],
   "source": [
    "gaussianNB(x_yeast, y_yeast)"
   ]
  },
  {
   "cell_type": "code",
   "execution_count": null,
   "metadata": {},
   "outputs": [],
   "source": [
    "gaussianNB(x_wine, y_wine)"
   ]
  },
  {
   "cell_type": "code",
   "execution_count": null,
   "metadata": {},
   "outputs": [],
   "source": [
    "gaussianNB(x_mammographic, y_mammographic)"
   ]
  },
  {
   "cell_type": "code",
   "execution_count": null,
   "metadata": {},
   "outputs": [],
   "source": [
    "gaussianNB(x_ecoli, y_ecoli)"
   ]
  },
  {
   "cell_type": "markdown",
   "metadata": {},
   "source": [
    "# <font color= magenta> 6. DecisionTreeClassifier"
   ]
  },
  {
   "cell_type": "code",
   "execution_count": null,
   "metadata": {},
   "outputs": [],
   "source": [
    "def decision_tree(X, y):\n",
    "    X_train, X_test, y_train, y_test = train_test_split(X, y, test_size=1/5)\n",
    "    parameter_grid = {'max_depth':[3, 4, 5, 6, 7], 'max_leaf_nodes':[5, 10, 15, 20, 25]}\n",
    "\n",
    "    grid_search = GridSearchCV(estimator = DecisionTreeClassifier(), param_grid = parameter_grid, scoring = 'accuracy', \n",
    "                           cv = 5, return_train_score = True)\n",
    "    print(\"Grid Search :\", grid_search.fit(X_train, y_train))\n",
    "\n",
    "    y_estimated_train = grid_search.predict(X_train)\n",
    "    print(\"Accuracy train:\", accuracy_score(y_train, y_estimated_train))\n",
    "\n",
    "    y_estimated_test = grid_search.predict(X_test)\n",
    "    print(\"Accuracy test:\", accuracy_score(y_test, y_estimated_test))\n",
    "\n",
    "    print(\"Best parameter:\", grid_search.best_params_)\n",
    "\n",
    "    scores = cross_val_score(grid_search, X, y, cv=4)\n",
    "    print(\"Scores accuracy:\", scores)\n",
    "    print(\"Mean accuracy:\", scores.mean())"
   ]
  },
  {
   "cell_type": "code",
   "execution_count": null,
   "metadata": {},
   "outputs": [],
   "source": [
    "decision_tree(x_yeast, y_yeast)"
   ]
  },
  {
   "cell_type": "code",
   "execution_count": null,
   "metadata": {},
   "outputs": [],
   "source": [
    "decision_tree(x_wine, y_wine)"
   ]
  },
  {
   "cell_type": "code",
   "execution_count": null,
   "metadata": {},
   "outputs": [],
   "source": [
    "decision_tree(x_mammographic, y_mammographic)"
   ]
  },
  {
   "cell_type": "code",
   "execution_count": null,
   "metadata": {},
   "outputs": [],
   "source": [
    "decision_tree(x_ecoli, y_ecoli)"
   ]
  },
  {
   "cell_type": "markdown",
   "metadata": {},
   "source": [
    "# <font color= magenta> 7. RandomForestClassifier"
   ]
  },
  {
   "cell_type": "code",
   "execution_count": null,
   "metadata": {},
   "outputs": [],
   "source": [
    "def random_forest(X, y):\n",
    "    X_train, X_test, y_train, y_test = train_test_split(X, y, test_size = 1/5)\n",
    "    parameter_grid = {'n_estimators': [150, 200, 250], 'max_depth': [2, 3, 5, 6], 'min_samples_leaf': [1, 2, 13, 15]}\n",
    "\n",
    "    grid_search = GridSearchCV(estimator = RandomForestClassifier(), param_grid = parameter_grid, scoring = 'accuracy', \n",
    "                           cv = 5, return_train_score = True)\n",
    "    print(\"Grid Search :\", grid_search.fit(X_train, y_train))\n",
    "\n",
    "    y_estimated_train = grid_search.predict(X_train)\n",
    "    print(\"Accuracy train:\", accuracy_score(y_train, y_estimated_train))\n",
    "\n",
    "    y_estimated_test = grid_search.predict(X_test)\n",
    "    print(\"Accuracy test:\", accuracy_score(y_test, y_estimated_test))\n",
    "\n",
    "    print(\"Best parameter:\", grid_search.best_params_)\n",
    "\n",
    "    scores = cross_val_score(grid_search, X, y, cv=4)\n",
    "    print(\"Scores accuracy:\", scores)\n",
    "    print(\"Mean accuracy:\", scores.mean())"
   ]
  },
  {
   "cell_type": "code",
   "execution_count": null,
   "metadata": {},
   "outputs": [],
   "source": [
    "random_forest(x_yeast, y_yeast)"
   ]
  },
  {
   "cell_type": "code",
   "execution_count": null,
   "metadata": {},
   "outputs": [],
   "source": [
    "random_forest(x_wine, y_wine)"
   ]
  },
  {
   "cell_type": "code",
   "execution_count": null,
   "metadata": {},
   "outputs": [],
   "source": [
    "random_forest(x_mammographic, y_mammographic)"
   ]
  },
  {
   "cell_type": "code",
   "execution_count": null,
   "metadata": {},
   "outputs": [],
   "source": [
    "random_forest(x_ecoli, y_ecoli)"
   ]
  }
 ],
 "metadata": {
  "kernelspec": {
   "display_name": "Python 3",
   "language": "python",
   "name": "python3"
  },
  "language_info": {
   "codemirror_mode": {
    "name": "ipython",
    "version": 3
   },
   "file_extension": ".py",
   "mimetype": "text/x-python",
   "name": "python",
   "nbconvert_exporter": "python",
   "pygments_lexer": "ipython3",
   "version": "3.7.6"
  },
  "notify_time": "5",
  "toc": {
   "base_numbering": 1,
   "nav_menu": {},
   "number_sections": true,
   "sideBar": true,
   "skip_h1_title": false,
   "title_cell": "Table of Contents",
   "title_sidebar": "Contents",
   "toc_cell": false,
   "toc_position": {},
   "toc_section_display": true,
   "toc_window_display": false
  },
  "varInspector": {
   "cols": {
    "lenName": 16,
    "lenType": 16,
    "lenVar": 40
   },
   "kernels_config": {
    "python": {
     "delete_cmd_postfix": "",
     "delete_cmd_prefix": "del ",
     "library": "var_list.py",
     "varRefreshCmd": "print(var_dic_list())"
    },
    "r": {
     "delete_cmd_postfix": ") ",
     "delete_cmd_prefix": "rm(",
     "library": "var_list.r",
     "varRefreshCmd": "cat(var_dic_list()) "
    }
   },
   "types_to_exclude": [
    "module",
    "function",
    "builtin_function_or_method",
    "instance",
    "_Feature"
   ],
   "window_display": false
  }
 },
 "nbformat": 4,
 "nbformat_minor": 2
}
