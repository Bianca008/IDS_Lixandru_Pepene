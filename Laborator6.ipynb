{
 "cells": [
  {
   "cell_type": "markdown",
   "metadata": {},
   "source": [
    "<font color = Magenta> _Lixandru Andreea-Bianca 382\n",
    " <br>   Pepene Adina-Florentina 382_"
   ]
  },
  {
   "cell_type": "markdown",
   "metadata": {},
   "source": [
    "# Laborator 6\n",
    "\n",
    "Versiunea 2020-04-01"
   ]
  },
  {
   "cell_type": "markdown",
   "metadata": {},
   "source": [
    "## Modele de clasificare\n",
    "\n",
    "Folositi 4 seturi de date pentru probleme de clasificare, plecand de la repository-urile specificate in Cursul 5; de exemplu, [ics.uci.edu](http://archive.ics.uci.edu/ml/datasets.php?format=mat&task=cla&att=&area=&numAtt=&numIns=&type=mvar&sort=nameUp&view=table). Cel putin doua seturi de date sa fie cu valori lipsa. \n",
    "\n",
    "\n",
    "1. (20 puncte) Aplicati o metoda de missing value imputation, unde este cazul; justificati si documentati metoda folosita.\n",
    "1. (numar de modele * numar de seturi de date \\* 1 punct = 20 de puncte) Pentru fiecare set de date aplicati 5 modele de clasificare din scikit learn. Pentru fiecare raportati: acuratete, scorul F1 - a se vedea [sklearn.metrics](http://scikit-learn.org/stable/modules/classes.html#module-sklearn.metrics) - folosind 5 fold cross validation. Raportati mediile rezultatelor atat pentru fold-urile de antrenare, cat si pentru cele de testare. Rularile se vor face cu valori fixate ale hiperparametrilor. \n",
    "1. (numar modele * 4 puncte = 20 puncte) Documentati in jupyter notebook fiecare din modelele folosite, in limba romana. Daca acelasi algoritm e folosit pentru mai multe seturi de date, puteti face o sectiune separata cu documentarea algoritmilor + trimitere la algoritm. \n",
    "1. (numar de modele * numar de seturi de date * 1 punct = 20 de puncte) Raportati performanta fiecarui model, folosind 5 fold cross validation. Pentru fiecare din cele 5 rulari, cautati hiperparametrii optimi folosind 4-fold cross validation. Performanta modelului va fi raportata ca medie a celor  5 rulari. \n",
    "    *Observatie:* la fiecare din cele 5 rulari, hiperparametrii optimi pot diferi, din cauza datelor utilizate pentru antrenare/validare.  \n",
    "\n",
    "Se acorda 20 de puncte din oficiu. "
   ]
  },
  {
   "cell_type": "markdown",
   "metadata": {},
   "source": [
    "Exemple de modele de clasificare:\n",
    "1. [Multi-layer Perceptron classifier](https://scikit-learn.org/stable/modules/generated/sklearn.neural_network.MLPClassifier.html#sklearn.neural_network.MLPClassifier)\n",
    "1. [KNN](https://scikit-learn.org/stable/modules/generated/sklearn.neighbors.KNeighborsClassifier.html#sklearn.neighbors.KNeighborsClassifier)\n",
    "1. [SVM](https://scikit-learn.org/stable/modules/generated/sklearn.svm.SVC.html#sklearn.svm.SVC)\n",
    "1. [Gaussian processes](https://scikit-learn.org/stable/modules/generated/sklearn.gaussian_process.GaussianProcessClassifier.html#sklearn.gaussian_process.GaussianProcessClassifier)\n",
    "1. [RBF](https://scikit-learn.org/stable/modules/generated/sklearn.gaussian_process.kernels.RBF.html#sklearn.gaussian_process.kernels.RBF)\n",
    "1. [Decision tree](https://scikit-learn.org/stable/modules/generated/sklearn.tree.DecisionTreeClassifier.html#sklearn.tree.DecisionTreeClassifier)\n",
    "1. [Random forest](https://scikit-learn.org/stable/modules/generated/sklearn.ensemble.RandomForestClassifier.html#sklearn.ensemble.RandomForestClassifier)\n",
    "1. [Gaussian Naive bayes](https://scikit-learn.org/stable/modules/generated/sklearn.naive_bayes.GaussianNB.html#sklearn.naive_bayes.GaussianNB) "
   ]
  },
  {
   "cell_type": "markdown",
   "metadata": {},
   "source": [
    "*Predare:* \n",
    "1. Fiecare student va depune pe site-ul de elearning fisier Jupyter notebook sau arhiva cu astfel de fisiere; \n",
    "1. In fiecare fisier se specifica numele celor doi studenti care au lucra in echipa. \n",
    "1. Predarea se face in saptamana 13-17 aprilie 2020\n",
    "1. Revedeti formele ulterioare ale acestui document pentru precizari despre: continutul rezultatelor raportate, modalitate de notare."
   ]
  },
  {
   "cell_type": "markdown",
   "metadata": {},
   "source": [
    "# <font color= Magenta> Rezolvare"
   ]
  },
  {
   "cell_type": "markdown",
   "metadata": {},
   "source": [
    "<font color=blue>Ex1:</font> Aplicati o metoda de missing value imputation, unde este cazul; justificati si documentati metoda folosita.\n",
    "<br>\n",
    "><br>Metode posibile:\n",
    "<br>1. Eliminarea liniilor care contin valori nan.\n",
    "<br>2. Eliminarea coloanelor care contin nan.\n",
    "<br>3. Umplerea valorilor nan cu:\n",
    "> -> o valoare constanta\n",
    "><br>-> copierea ultimei valori cunoscute(ffill)\n",
    "><br>-> umplere 'inapoi'(bfill)\n",
    "><br>-> o valoare calculata (ex: media)"
   ]
  },
  {
   "cell_type": "markdown",
   "metadata": {},
   "source": [
    "Citim seturile de date si ne uitam care dintre ele au valori lipsa."
   ]
  },
  {
   "cell_type": "code",
   "execution_count": 1,
   "metadata": {},
   "outputs": [],
   "source": [
    "import pandas as pd \n",
    "import numpy as np\n",
    "from sklearn.preprocessing import MinMaxScaler\n",
    "from sklearn.model_selection import GridSearchCV\n",
    "from sklearn.metrics import accuracy_score\n",
    "from sklearn.model_selection import cross_val_score\n",
    "from sklearn.impute import KNNImputer\n",
    "from sklearn.tree import DecisionTreeClassifier\n",
    "from sklearn.model_selection import cross_validate\n",
    "from sklearn.ensemble import RandomForestClassifier\n",
    "from sklearn.neighbors import KNeighborsClassifier\n",
    "from sklearn.model_selection import train_test_split\n",
    "from sklearn.svm import SVC\n",
    "from sklearn.neural_network import MLPClassifier\n",
    "from sklearn.gaussian_process import GaussianProcessClassifier\n",
    "from sklearn.naive_bayes import GaussianNB"
   ]
  },
  {
   "cell_type": "code",
   "execution_count": 2,
   "metadata": {},
   "outputs": [
    {
     "data": {
      "text/html": [
       "<div>\n",
       "<style scoped>\n",
       "    .dataframe tbody tr th:only-of-type {\n",
       "        vertical-align: middle;\n",
       "    }\n",
       "\n",
       "    .dataframe tbody tr th {\n",
       "        vertical-align: top;\n",
       "    }\n",
       "\n",
       "    .dataframe thead th {\n",
       "        text-align: right;\n",
       "    }\n",
       "</style>\n",
       "<table border=\"1\" class=\"dataframe\">\n",
       "  <thead>\n",
       "    <tr style=\"text-align: right;\">\n",
       "      <th></th>\n",
       "      <th>Age</th>\n",
       "      <th>Gender</th>\n",
       "      <th>Total Bilirubin</th>\n",
       "      <th>Direct Bilirubin</th>\n",
       "      <th>Alkaline Phosphotase</th>\n",
       "      <th>Alamine Aminotransferase</th>\n",
       "      <th>Aspartate Aminotransferase</th>\n",
       "      <th>Total Protiens</th>\n",
       "      <th>Albumin</th>\n",
       "      <th>Ratio Albumin and Globulin Ration</th>\n",
       "      <th>Class</th>\n",
       "    </tr>\n",
       "  </thead>\n",
       "  <tbody>\n",
       "    <tr>\n",
       "      <th>0</th>\n",
       "      <td>65</td>\n",
       "      <td>Female</td>\n",
       "      <td>0.7</td>\n",
       "      <td>0.1</td>\n",
       "      <td>187</td>\n",
       "      <td>16</td>\n",
       "      <td>18</td>\n",
       "      <td>6.8</td>\n",
       "      <td>3.3</td>\n",
       "      <td>0.90</td>\n",
       "      <td>1</td>\n",
       "    </tr>\n",
       "    <tr>\n",
       "      <th>1</th>\n",
       "      <td>62</td>\n",
       "      <td>Male</td>\n",
       "      <td>10.9</td>\n",
       "      <td>5.5</td>\n",
       "      <td>699</td>\n",
       "      <td>64</td>\n",
       "      <td>100</td>\n",
       "      <td>7.5</td>\n",
       "      <td>3.2</td>\n",
       "      <td>0.74</td>\n",
       "      <td>1</td>\n",
       "    </tr>\n",
       "    <tr>\n",
       "      <th>2</th>\n",
       "      <td>62</td>\n",
       "      <td>Male</td>\n",
       "      <td>7.3</td>\n",
       "      <td>4.1</td>\n",
       "      <td>490</td>\n",
       "      <td>60</td>\n",
       "      <td>68</td>\n",
       "      <td>7.0</td>\n",
       "      <td>3.3</td>\n",
       "      <td>0.89</td>\n",
       "      <td>1</td>\n",
       "    </tr>\n",
       "    <tr>\n",
       "      <th>3</th>\n",
       "      <td>58</td>\n",
       "      <td>Male</td>\n",
       "      <td>1.0</td>\n",
       "      <td>0.4</td>\n",
       "      <td>182</td>\n",
       "      <td>14</td>\n",
       "      <td>20</td>\n",
       "      <td>6.8</td>\n",
       "      <td>3.4</td>\n",
       "      <td>1.00</td>\n",
       "      <td>1</td>\n",
       "    </tr>\n",
       "    <tr>\n",
       "      <th>4</th>\n",
       "      <td>72</td>\n",
       "      <td>Male</td>\n",
       "      <td>3.9</td>\n",
       "      <td>2.0</td>\n",
       "      <td>195</td>\n",
       "      <td>27</td>\n",
       "      <td>59</td>\n",
       "      <td>7.3</td>\n",
       "      <td>2.4</td>\n",
       "      <td>0.40</td>\n",
       "      <td>1</td>\n",
       "    </tr>\n",
       "  </tbody>\n",
       "</table>\n",
       "</div>"
      ],
      "text/plain": [
       "   Age  Gender  Total Bilirubin  Direct Bilirubin  Alkaline Phosphotase  \\\n",
       "0   65  Female              0.7               0.1                   187   \n",
       "1   62    Male             10.9               5.5                   699   \n",
       "2   62    Male              7.3               4.1                   490   \n",
       "3   58    Male              1.0               0.4                   182   \n",
       "4   72    Male              3.9               2.0                   195   \n",
       "\n",
       "   Alamine Aminotransferase  Aspartate Aminotransferase  Total Protiens  \\\n",
       "0                        16                          18             6.8   \n",
       "1                        64                         100             7.5   \n",
       "2                        60                          68             7.0   \n",
       "3                        14                          20             6.8   \n",
       "4                        27                          59             7.3   \n",
       "\n",
       "   Albumin  Ratio Albumin and Globulin Ration  Class  \n",
       "0      3.3                               0.90      1  \n",
       "1      3.2                               0.74      1  \n",
       "2      3.3                               0.89      1  \n",
       "3      3.4                               1.00      1  \n",
       "4      2.4                               0.40      1  "
      ]
     },
     "execution_count": 2,
     "metadata": {},
     "output_type": "execute_result"
    }
   ],
   "source": [
    "names_indian = [\"Age\", \"Gender\", \"Total Bilirubin\", \"Direct Bilirubin\", \"Alkaline Phosphotase\", \n",
    "               \"Alamine Aminotransferase\", \"Aspartate Aminotransferase\", \"Total Protiens\", \"Albumin\", \n",
    "               \"Ratio Albumin and Globulin Ration\", \"Class\"]\n",
    "\n",
    "df_indian = pd.read_csv('./data/indian/Indian Liver Patient Dataset (ILPD).csv', sep = \",\", names = names_indian)\n",
    "\n",
    "df_indian.head()"
   ]
  },
  {
   "cell_type": "code",
   "execution_count": 3,
   "metadata": {},
   "outputs": [
    {
     "name": "stdout",
     "output_type": "stream",
     "text": [
      "<class 'pandas.core.frame.DataFrame'>\n",
      "RangeIndex: 579 entries, 0 to 578\n",
      "Data columns (total 11 columns):\n",
      " #   Column                             Non-Null Count  Dtype  \n",
      "---  ------                             --------------  -----  \n",
      " 0   Age                                579 non-null    int64  \n",
      " 1   Gender                             579 non-null    object \n",
      " 2   Total Bilirubin                    579 non-null    float64\n",
      " 3   Direct Bilirubin                   579 non-null    float64\n",
      " 4   Alkaline Phosphotase               579 non-null    int64  \n",
      " 5   Alamine Aminotransferase           579 non-null    int64  \n",
      " 6   Aspartate Aminotransferase         579 non-null    int64  \n",
      " 7   Total Protiens                     579 non-null    float64\n",
      " 8   Albumin                            579 non-null    float64\n",
      " 9   Ratio Albumin and Globulin Ration  579 non-null    float64\n",
      " 10  Class                              579 non-null    int64  \n",
      "dtypes: float64(5), int64(5), object(1)\n",
      "memory usage: 49.9+ KB\n"
     ]
    }
   ],
   "source": [
    "df_indian.info()"
   ]
  },
  {
   "cell_type": "code",
   "execution_count": 4,
   "metadata": {},
   "outputs": [
    {
     "data": {
      "text/html": [
       "<div>\n",
       "<style scoped>\n",
       "    .dataframe tbody tr th:only-of-type {\n",
       "        vertical-align: middle;\n",
       "    }\n",
       "\n",
       "    .dataframe tbody tr th {\n",
       "        vertical-align: top;\n",
       "    }\n",
       "\n",
       "    .dataframe thead th {\n",
       "        text-align: right;\n",
       "    }\n",
       "</style>\n",
       "<table border=\"1\" class=\"dataframe\">\n",
       "  <thead>\n",
       "    <tr style=\"text-align: right;\">\n",
       "      <th></th>\n",
       "      <th>Age</th>\n",
       "      <th>Total Bilirubin</th>\n",
       "      <th>Direct Bilirubin</th>\n",
       "      <th>Alkaline Phosphotase</th>\n",
       "      <th>Alamine Aminotransferase</th>\n",
       "      <th>Aspartate Aminotransferase</th>\n",
       "      <th>Total Protiens</th>\n",
       "      <th>Albumin</th>\n",
       "      <th>Ratio Albumin and Globulin Ration</th>\n",
       "      <th>Class</th>\n",
       "      <th>Gender_Female</th>\n",
       "      <th>Gender_Male</th>\n",
       "    </tr>\n",
       "  </thead>\n",
       "  <tbody>\n",
       "    <tr>\n",
       "      <th>0</th>\n",
       "      <td>65</td>\n",
       "      <td>0.7</td>\n",
       "      <td>0.1</td>\n",
       "      <td>187</td>\n",
       "      <td>16</td>\n",
       "      <td>18</td>\n",
       "      <td>6.8</td>\n",
       "      <td>3.3</td>\n",
       "      <td>0.90</td>\n",
       "      <td>1</td>\n",
       "      <td>1</td>\n",
       "      <td>0</td>\n",
       "    </tr>\n",
       "    <tr>\n",
       "      <th>1</th>\n",
       "      <td>62</td>\n",
       "      <td>10.9</td>\n",
       "      <td>5.5</td>\n",
       "      <td>699</td>\n",
       "      <td>64</td>\n",
       "      <td>100</td>\n",
       "      <td>7.5</td>\n",
       "      <td>3.2</td>\n",
       "      <td>0.74</td>\n",
       "      <td>1</td>\n",
       "      <td>0</td>\n",
       "      <td>1</td>\n",
       "    </tr>\n",
       "    <tr>\n",
       "      <th>2</th>\n",
       "      <td>62</td>\n",
       "      <td>7.3</td>\n",
       "      <td>4.1</td>\n",
       "      <td>490</td>\n",
       "      <td>60</td>\n",
       "      <td>68</td>\n",
       "      <td>7.0</td>\n",
       "      <td>3.3</td>\n",
       "      <td>0.89</td>\n",
       "      <td>1</td>\n",
       "      <td>0</td>\n",
       "      <td>1</td>\n",
       "    </tr>\n",
       "    <tr>\n",
       "      <th>3</th>\n",
       "      <td>58</td>\n",
       "      <td>1.0</td>\n",
       "      <td>0.4</td>\n",
       "      <td>182</td>\n",
       "      <td>14</td>\n",
       "      <td>20</td>\n",
       "      <td>6.8</td>\n",
       "      <td>3.4</td>\n",
       "      <td>1.00</td>\n",
       "      <td>1</td>\n",
       "      <td>0</td>\n",
       "      <td>1</td>\n",
       "    </tr>\n",
       "    <tr>\n",
       "      <th>4</th>\n",
       "      <td>72</td>\n",
       "      <td>3.9</td>\n",
       "      <td>2.0</td>\n",
       "      <td>195</td>\n",
       "      <td>27</td>\n",
       "      <td>59</td>\n",
       "      <td>7.3</td>\n",
       "      <td>2.4</td>\n",
       "      <td>0.40</td>\n",
       "      <td>1</td>\n",
       "      <td>0</td>\n",
       "      <td>1</td>\n",
       "    </tr>\n",
       "  </tbody>\n",
       "</table>\n",
       "</div>"
      ],
      "text/plain": [
       "   Age  Total Bilirubin  Direct Bilirubin  Alkaline Phosphotase  \\\n",
       "0   65              0.7               0.1                   187   \n",
       "1   62             10.9               5.5                   699   \n",
       "2   62              7.3               4.1                   490   \n",
       "3   58              1.0               0.4                   182   \n",
       "4   72              3.9               2.0                   195   \n",
       "\n",
       "   Alamine Aminotransferase  Aspartate Aminotransferase  Total Protiens  \\\n",
       "0                        16                          18             6.8   \n",
       "1                        64                         100             7.5   \n",
       "2                        60                          68             7.0   \n",
       "3                        14                          20             6.8   \n",
       "4                        27                          59             7.3   \n",
       "\n",
       "   Albumin  Ratio Albumin and Globulin Ration  Class  Gender_Female  \\\n",
       "0      3.3                               0.90      1              1   \n",
       "1      3.2                               0.74      1              0   \n",
       "2      3.3                               0.89      1              0   \n",
       "3      3.4                               1.00      1              0   \n",
       "4      2.4                               0.40      1              0   \n",
       "\n",
       "   Gender_Male  \n",
       "0            0  \n",
       "1            1  \n",
       "2            1  \n",
       "3            1  \n",
       "4            1  "
      ]
     },
     "execution_count": 4,
     "metadata": {},
     "output_type": "execute_result"
    }
   ],
   "source": [
    "df_indian = pd.get_dummies(df_indian, columns = [\"Gender\"])\n",
    "\n",
    "df_indian.head()"
   ]
  },
  {
   "cell_type": "code",
   "execution_count": 5,
   "metadata": {},
   "outputs": [
    {
     "data": {
      "text/html": [
       "<div>\n",
       "<style scoped>\n",
       "    .dataframe tbody tr th:only-of-type {\n",
       "        vertical-align: middle;\n",
       "    }\n",
       "\n",
       "    .dataframe tbody tr th {\n",
       "        vertical-align: top;\n",
       "    }\n",
       "\n",
       "    .dataframe thead th {\n",
       "        text-align: right;\n",
       "    }\n",
       "</style>\n",
       "<table border=\"1\" class=\"dataframe\">\n",
       "  <thead>\n",
       "    <tr style=\"text-align: right;\">\n",
       "      <th></th>\n",
       "      <th>Age</th>\n",
       "      <th>Gender_Female</th>\n",
       "      <th>Gender_Male</th>\n",
       "      <th>Total Bilirubin</th>\n",
       "      <th>Direct Bilirubin</th>\n",
       "      <th>Alkaline Phosphotase</th>\n",
       "      <th>Alamine Aminotransferase</th>\n",
       "      <th>Aspartate Aminotransferase</th>\n",
       "      <th>Total Protiens</th>\n",
       "      <th>Albumin</th>\n",
       "      <th>Ratio Albumin and Globulin Ration</th>\n",
       "    </tr>\n",
       "  </thead>\n",
       "  <tbody>\n",
       "    <tr>\n",
       "      <th>0</th>\n",
       "      <td>65</td>\n",
       "      <td>1</td>\n",
       "      <td>0</td>\n",
       "      <td>0.7</td>\n",
       "      <td>0.1</td>\n",
       "      <td>187</td>\n",
       "      <td>16</td>\n",
       "      <td>18</td>\n",
       "      <td>6.8</td>\n",
       "      <td>3.3</td>\n",
       "      <td>0.90</td>\n",
       "    </tr>\n",
       "    <tr>\n",
       "      <th>1</th>\n",
       "      <td>62</td>\n",
       "      <td>0</td>\n",
       "      <td>1</td>\n",
       "      <td>10.9</td>\n",
       "      <td>5.5</td>\n",
       "      <td>699</td>\n",
       "      <td>64</td>\n",
       "      <td>100</td>\n",
       "      <td>7.5</td>\n",
       "      <td>3.2</td>\n",
       "      <td>0.74</td>\n",
       "    </tr>\n",
       "    <tr>\n",
       "      <th>2</th>\n",
       "      <td>62</td>\n",
       "      <td>0</td>\n",
       "      <td>1</td>\n",
       "      <td>7.3</td>\n",
       "      <td>4.1</td>\n",
       "      <td>490</td>\n",
       "      <td>60</td>\n",
       "      <td>68</td>\n",
       "      <td>7.0</td>\n",
       "      <td>3.3</td>\n",
       "      <td>0.89</td>\n",
       "    </tr>\n",
       "    <tr>\n",
       "      <th>3</th>\n",
       "      <td>58</td>\n",
       "      <td>0</td>\n",
       "      <td>1</td>\n",
       "      <td>1.0</td>\n",
       "      <td>0.4</td>\n",
       "      <td>182</td>\n",
       "      <td>14</td>\n",
       "      <td>20</td>\n",
       "      <td>6.8</td>\n",
       "      <td>3.4</td>\n",
       "      <td>1.00</td>\n",
       "    </tr>\n",
       "    <tr>\n",
       "      <th>4</th>\n",
       "      <td>72</td>\n",
       "      <td>0</td>\n",
       "      <td>1</td>\n",
       "      <td>3.9</td>\n",
       "      <td>2.0</td>\n",
       "      <td>195</td>\n",
       "      <td>27</td>\n",
       "      <td>59</td>\n",
       "      <td>7.3</td>\n",
       "      <td>2.4</td>\n",
       "      <td>0.40</td>\n",
       "    </tr>\n",
       "  </tbody>\n",
       "</table>\n",
       "</div>"
      ],
      "text/plain": [
       "   Age  Gender_Female  Gender_Male  Total Bilirubin  Direct Bilirubin  \\\n",
       "0   65              1            0              0.7               0.1   \n",
       "1   62              0            1             10.9               5.5   \n",
       "2   62              0            1              7.3               4.1   \n",
       "3   58              0            1              1.0               0.4   \n",
       "4   72              0            1              3.9               2.0   \n",
       "\n",
       "   Alkaline Phosphotase  Alamine Aminotransferase  Aspartate Aminotransferase  \\\n",
       "0                   187                        16                          18   \n",
       "1                   699                        64                         100   \n",
       "2                   490                        60                          68   \n",
       "3                   182                        14                          20   \n",
       "4                   195                        27                          59   \n",
       "\n",
       "   Total Protiens  Albumin  Ratio Albumin and Globulin Ration  \n",
       "0             6.8      3.3                               0.90  \n",
       "1             7.5      3.2                               0.74  \n",
       "2             7.0      3.3                               0.89  \n",
       "3             6.8      3.4                               1.00  \n",
       "4             7.3      2.4                               0.40  "
      ]
     },
     "execution_count": 5,
     "metadata": {},
     "output_type": "execute_result"
    }
   ],
   "source": [
    "x_indian = df_indian[[\"Age\", \"Gender_Female\", \"Gender_Male\", \"Total Bilirubin\", \"Direct Bilirubin\", \n",
    "                      \"Alkaline Phosphotase\", \"Alamine Aminotransferase\", \"Aspartate Aminotransferase\", \n",
    "                      \"Total Protiens\", \"Albumin\", \"Ratio Albumin and Globulin Ration\"]]\n",
    "\n",
    "y_indian = df_indian[\"Class\"]\n",
    "\n",
    "x_indian.head()"
   ]
  },
  {
   "cell_type": "code",
   "execution_count": 6,
   "metadata": {},
   "outputs": [
    {
     "data": {
      "text/plain": [
       "0    1\n",
       "1    1\n",
       "2    1\n",
       "3    1\n",
       "4    1\n",
       "Name: Class, dtype: int64"
      ]
     },
     "execution_count": 6,
     "metadata": {},
     "output_type": "execute_result"
    }
   ],
   "source": [
    "y_indian.head()"
   ]
  },
  {
   "cell_type": "code",
   "execution_count": 7,
   "metadata": {},
   "outputs": [
    {
     "data": {
      "text/html": [
       "<div>\n",
       "<style scoped>\n",
       "    .dataframe tbody tr th:only-of-type {\n",
       "        vertical-align: middle;\n",
       "    }\n",
       "\n",
       "    .dataframe tbody tr th {\n",
       "        vertical-align: top;\n",
       "    }\n",
       "\n",
       "    .dataframe thead th {\n",
       "        text-align: right;\n",
       "    }\n",
       "</style>\n",
       "<table border=\"1\" class=\"dataframe\">\n",
       "  <thead>\n",
       "    <tr style=\"text-align: right;\">\n",
       "      <th></th>\n",
       "      <th>fixed acidity</th>\n",
       "      <th>volatile acidity</th>\n",
       "      <th>citric acid</th>\n",
       "      <th>residual sugar</th>\n",
       "      <th>chlorides</th>\n",
       "      <th>free sulfur dioxide</th>\n",
       "      <th>total sulfur dioxide</th>\n",
       "      <th>density</th>\n",
       "      <th>pH</th>\n",
       "      <th>sulphates</th>\n",
       "      <th>alcohol</th>\n",
       "      <th>quality</th>\n",
       "    </tr>\n",
       "  </thead>\n",
       "  <tbody>\n",
       "    <tr>\n",
       "      <th>0</th>\n",
       "      <td>7.4</td>\n",
       "      <td>0.70</td>\n",
       "      <td>0.00</td>\n",
       "      <td>1.9</td>\n",
       "      <td>0.076</td>\n",
       "      <td>11.0</td>\n",
       "      <td>34.0</td>\n",
       "      <td>0.9978</td>\n",
       "      <td>3.51</td>\n",
       "      <td>0.56</td>\n",
       "      <td>9.4</td>\n",
       "      <td>5</td>\n",
       "    </tr>\n",
       "    <tr>\n",
       "      <th>1</th>\n",
       "      <td>7.8</td>\n",
       "      <td>0.88</td>\n",
       "      <td>0.00</td>\n",
       "      <td>2.6</td>\n",
       "      <td>0.098</td>\n",
       "      <td>25.0</td>\n",
       "      <td>67.0</td>\n",
       "      <td>0.9968</td>\n",
       "      <td>3.20</td>\n",
       "      <td>0.68</td>\n",
       "      <td>9.8</td>\n",
       "      <td>5</td>\n",
       "    </tr>\n",
       "    <tr>\n",
       "      <th>2</th>\n",
       "      <td>7.8</td>\n",
       "      <td>0.76</td>\n",
       "      <td>0.04</td>\n",
       "      <td>2.3</td>\n",
       "      <td>0.092</td>\n",
       "      <td>15.0</td>\n",
       "      <td>54.0</td>\n",
       "      <td>0.9970</td>\n",
       "      <td>3.26</td>\n",
       "      <td>0.65</td>\n",
       "      <td>9.8</td>\n",
       "      <td>5</td>\n",
       "    </tr>\n",
       "    <tr>\n",
       "      <th>3</th>\n",
       "      <td>11.2</td>\n",
       "      <td>0.28</td>\n",
       "      <td>0.56</td>\n",
       "      <td>1.9</td>\n",
       "      <td>0.075</td>\n",
       "      <td>17.0</td>\n",
       "      <td>60.0</td>\n",
       "      <td>0.9980</td>\n",
       "      <td>3.16</td>\n",
       "      <td>0.58</td>\n",
       "      <td>9.8</td>\n",
       "      <td>6</td>\n",
       "    </tr>\n",
       "    <tr>\n",
       "      <th>4</th>\n",
       "      <td>7.4</td>\n",
       "      <td>0.70</td>\n",
       "      <td>0.00</td>\n",
       "      <td>1.9</td>\n",
       "      <td>0.076</td>\n",
       "      <td>11.0</td>\n",
       "      <td>34.0</td>\n",
       "      <td>0.9978</td>\n",
       "      <td>3.51</td>\n",
       "      <td>0.56</td>\n",
       "      <td>9.4</td>\n",
       "      <td>5</td>\n",
       "    </tr>\n",
       "  </tbody>\n",
       "</table>\n",
       "</div>"
      ],
      "text/plain": [
       "   fixed acidity  volatile acidity  citric acid  residual sugar  chlorides  \\\n",
       "0            7.4              0.70         0.00             1.9      0.076   \n",
       "1            7.8              0.88         0.00             2.6      0.098   \n",
       "2            7.8              0.76         0.04             2.3      0.092   \n",
       "3           11.2              0.28         0.56             1.9      0.075   \n",
       "4            7.4              0.70         0.00             1.9      0.076   \n",
       "\n",
       "   free sulfur dioxide  total sulfur dioxide  density    pH  sulphates  \\\n",
       "0                 11.0                  34.0   0.9978  3.51       0.56   \n",
       "1                 25.0                  67.0   0.9968  3.20       0.68   \n",
       "2                 15.0                  54.0   0.9970  3.26       0.65   \n",
       "3                 17.0                  60.0   0.9980  3.16       0.58   \n",
       "4                 11.0                  34.0   0.9978  3.51       0.56   \n",
       "\n",
       "   alcohol  quality  \n",
       "0      9.4        5  \n",
       "1      9.8        5  \n",
       "2      9.8        5  \n",
       "3      9.8        6  \n",
       "4      9.4        5  "
      ]
     },
     "execution_count": 7,
     "metadata": {},
     "output_type": "execute_result"
    }
   ],
   "source": [
    "df_wine = pd.read_csv('./data/wine/winequality-red.csv', sep = ';')\n",
    "\n",
    "df_wine.head()"
   ]
  },
  {
   "cell_type": "code",
   "execution_count": 8,
   "metadata": {},
   "outputs": [
    {
     "name": "stdout",
     "output_type": "stream",
     "text": [
      "<class 'pandas.core.frame.DataFrame'>\n",
      "RangeIndex: 1599 entries, 0 to 1598\n",
      "Data columns (total 12 columns):\n",
      " #   Column                Non-Null Count  Dtype  \n",
      "---  ------                --------------  -----  \n",
      " 0   fixed acidity         1599 non-null   float64\n",
      " 1   volatile acidity      1599 non-null   float64\n",
      " 2   citric acid           1599 non-null   float64\n",
      " 3   residual sugar        1599 non-null   float64\n",
      " 4   chlorides             1599 non-null   float64\n",
      " 5   free sulfur dioxide   1599 non-null   float64\n",
      " 6   total sulfur dioxide  1599 non-null   float64\n",
      " 7   density               1599 non-null   float64\n",
      " 8   pH                    1599 non-null   float64\n",
      " 9   sulphates             1599 non-null   float64\n",
      " 10  alcohol               1599 non-null   float64\n",
      " 11  quality               1599 non-null   int64  \n",
      "dtypes: float64(11), int64(1)\n",
      "memory usage: 150.0 KB\n"
     ]
    }
   ],
   "source": [
    "df_wine.info()"
   ]
  },
  {
   "cell_type": "code",
   "execution_count": 9,
   "metadata": {},
   "outputs": [
    {
     "data": {
      "text/html": [
       "<div>\n",
       "<style scoped>\n",
       "    .dataframe tbody tr th:only-of-type {\n",
       "        vertical-align: middle;\n",
       "    }\n",
       "\n",
       "    .dataframe tbody tr th {\n",
       "        vertical-align: top;\n",
       "    }\n",
       "\n",
       "    .dataframe thead th {\n",
       "        text-align: right;\n",
       "    }\n",
       "</style>\n",
       "<table border=\"1\" class=\"dataframe\">\n",
       "  <thead>\n",
       "    <tr style=\"text-align: right;\">\n",
       "      <th></th>\n",
       "      <th>fixed acidity</th>\n",
       "      <th>volatile acidity</th>\n",
       "      <th>citric acid</th>\n",
       "      <th>residual sugar</th>\n",
       "      <th>chlorides</th>\n",
       "      <th>free sulfur dioxide</th>\n",
       "      <th>total sulfur dioxide</th>\n",
       "      <th>density</th>\n",
       "      <th>pH</th>\n",
       "      <th>sulphates</th>\n",
       "      <th>alcohol</th>\n",
       "    </tr>\n",
       "  </thead>\n",
       "  <tbody>\n",
       "    <tr>\n",
       "      <th>0</th>\n",
       "      <td>7.4</td>\n",
       "      <td>0.70</td>\n",
       "      <td>0.00</td>\n",
       "      <td>1.9</td>\n",
       "      <td>0.076</td>\n",
       "      <td>11.0</td>\n",
       "      <td>34.0</td>\n",
       "      <td>0.9978</td>\n",
       "      <td>3.51</td>\n",
       "      <td>0.56</td>\n",
       "      <td>9.4</td>\n",
       "    </tr>\n",
       "    <tr>\n",
       "      <th>1</th>\n",
       "      <td>7.8</td>\n",
       "      <td>0.88</td>\n",
       "      <td>0.00</td>\n",
       "      <td>2.6</td>\n",
       "      <td>0.098</td>\n",
       "      <td>25.0</td>\n",
       "      <td>67.0</td>\n",
       "      <td>0.9968</td>\n",
       "      <td>3.20</td>\n",
       "      <td>0.68</td>\n",
       "      <td>9.8</td>\n",
       "    </tr>\n",
       "    <tr>\n",
       "      <th>2</th>\n",
       "      <td>7.8</td>\n",
       "      <td>0.76</td>\n",
       "      <td>0.04</td>\n",
       "      <td>2.3</td>\n",
       "      <td>0.092</td>\n",
       "      <td>15.0</td>\n",
       "      <td>54.0</td>\n",
       "      <td>0.9970</td>\n",
       "      <td>3.26</td>\n",
       "      <td>0.65</td>\n",
       "      <td>9.8</td>\n",
       "    </tr>\n",
       "    <tr>\n",
       "      <th>3</th>\n",
       "      <td>11.2</td>\n",
       "      <td>0.28</td>\n",
       "      <td>0.56</td>\n",
       "      <td>1.9</td>\n",
       "      <td>0.075</td>\n",
       "      <td>17.0</td>\n",
       "      <td>60.0</td>\n",
       "      <td>0.9980</td>\n",
       "      <td>3.16</td>\n",
       "      <td>0.58</td>\n",
       "      <td>9.8</td>\n",
       "    </tr>\n",
       "    <tr>\n",
       "      <th>4</th>\n",
       "      <td>7.4</td>\n",
       "      <td>0.70</td>\n",
       "      <td>0.00</td>\n",
       "      <td>1.9</td>\n",
       "      <td>0.076</td>\n",
       "      <td>11.0</td>\n",
       "      <td>34.0</td>\n",
       "      <td>0.9978</td>\n",
       "      <td>3.51</td>\n",
       "      <td>0.56</td>\n",
       "      <td>9.4</td>\n",
       "    </tr>\n",
       "  </tbody>\n",
       "</table>\n",
       "</div>"
      ],
      "text/plain": [
       "   fixed acidity  volatile acidity  citric acid  residual sugar  chlorides  \\\n",
       "0            7.4              0.70         0.00             1.9      0.076   \n",
       "1            7.8              0.88         0.00             2.6      0.098   \n",
       "2            7.8              0.76         0.04             2.3      0.092   \n",
       "3           11.2              0.28         0.56             1.9      0.075   \n",
       "4            7.4              0.70         0.00             1.9      0.076   \n",
       "\n",
       "   free sulfur dioxide  total sulfur dioxide  density    pH  sulphates  \\\n",
       "0                 11.0                  34.0   0.9978  3.51       0.56   \n",
       "1                 25.0                  67.0   0.9968  3.20       0.68   \n",
       "2                 15.0                  54.0   0.9970  3.26       0.65   \n",
       "3                 17.0                  60.0   0.9980  3.16       0.58   \n",
       "4                 11.0                  34.0   0.9978  3.51       0.56   \n",
       "\n",
       "   alcohol  \n",
       "0      9.4  \n",
       "1      9.8  \n",
       "2      9.8  \n",
       "3      9.8  \n",
       "4      9.4  "
      ]
     },
     "execution_count": 9,
     "metadata": {},
     "output_type": "execute_result"
    }
   ],
   "source": [
    "x_wine = df_wine [[\"fixed acidity\", \"volatile acidity\", \"citric acid\", \"residual sugar\", \"chlorides\", \n",
    "                   \"free sulfur dioxide\", \"total sulfur dioxide\", \"density\", \"pH\", \"sulphates\", \"alcohol\"]]\n",
    "\n",
    "y_wine = df_wine[\"quality\"]\n",
    "\n",
    "x_wine.head()"
   ]
  },
  {
   "cell_type": "code",
   "execution_count": 10,
   "metadata": {},
   "outputs": [
    {
     "data": {
      "text/plain": [
       "0    5\n",
       "1    5\n",
       "2    5\n",
       "3    6\n",
       "4    5\n",
       "Name: quality, dtype: int64"
      ]
     },
     "execution_count": 10,
     "metadata": {},
     "output_type": "execute_result"
    }
   ],
   "source": [
    "y_wine.head()"
   ]
  },
  {
   "cell_type": "code",
   "execution_count": 11,
   "metadata": {},
   "outputs": [
    {
     "data": {
      "text/html": [
       "<div>\n",
       "<style scoped>\n",
       "    .dataframe tbody tr th:only-of-type {\n",
       "        vertical-align: middle;\n",
       "    }\n",
       "\n",
       "    .dataframe tbody tr th {\n",
       "        vertical-align: top;\n",
       "    }\n",
       "\n",
       "    .dataframe thead th {\n",
       "        text-align: right;\n",
       "    }\n",
       "</style>\n",
       "<table border=\"1\" class=\"dataframe\">\n",
       "  <thead>\n",
       "    <tr style=\"text-align: right;\">\n",
       "      <th></th>\n",
       "      <th>BI-RADS</th>\n",
       "      <th>Age</th>\n",
       "      <th>Shape</th>\n",
       "      <th>Margin</th>\n",
       "      <th>Density</th>\n",
       "      <th>Severity</th>\n",
       "    </tr>\n",
       "  </thead>\n",
       "  <tbody>\n",
       "    <tr>\n",
       "      <th>0</th>\n",
       "      <td>5</td>\n",
       "      <td>67</td>\n",
       "      <td>3</td>\n",
       "      <td>5</td>\n",
       "      <td>3</td>\n",
       "      <td>1</td>\n",
       "    </tr>\n",
       "    <tr>\n",
       "      <th>1</th>\n",
       "      <td>4</td>\n",
       "      <td>43</td>\n",
       "      <td>1</td>\n",
       "      <td>1</td>\n",
       "      <td>?</td>\n",
       "      <td>1</td>\n",
       "    </tr>\n",
       "    <tr>\n",
       "      <th>2</th>\n",
       "      <td>5</td>\n",
       "      <td>58</td>\n",
       "      <td>4</td>\n",
       "      <td>5</td>\n",
       "      <td>3</td>\n",
       "      <td>1</td>\n",
       "    </tr>\n",
       "    <tr>\n",
       "      <th>3</th>\n",
       "      <td>4</td>\n",
       "      <td>28</td>\n",
       "      <td>1</td>\n",
       "      <td>1</td>\n",
       "      <td>3</td>\n",
       "      <td>0</td>\n",
       "    </tr>\n",
       "    <tr>\n",
       "      <th>4</th>\n",
       "      <td>5</td>\n",
       "      <td>74</td>\n",
       "      <td>1</td>\n",
       "      <td>5</td>\n",
       "      <td>?</td>\n",
       "      <td>1</td>\n",
       "    </tr>\n",
       "  </tbody>\n",
       "</table>\n",
       "</div>"
      ],
      "text/plain": [
       "  BI-RADS Age Shape Margin Density  Severity\n",
       "0       5  67     3      5       3         1\n",
       "1       4  43     1      1       ?         1\n",
       "2       5  58     4      5       3         1\n",
       "3       4  28     1      1       3         0\n",
       "4       5  74     1      5       ?         1"
      ]
     },
     "execution_count": 11,
     "metadata": {},
     "output_type": "execute_result"
    }
   ],
   "source": [
    "names_mammographics = [\"BI-RADS\", \"Age\", \"Shape\", \"Margin\", \"Density\", \"Severity\"]\n",
    "\n",
    "df_mammographics = pd.read_csv('./data/mammographic/mammographic_masses.data', names = names_mammographics)\n",
    "\n",
    "df_mammographics.head()"
   ]
  },
  {
   "cell_type": "code",
   "execution_count": 12,
   "metadata": {},
   "outputs": [
    {
     "name": "stdout",
     "output_type": "stream",
     "text": [
      "<class 'pandas.core.frame.DataFrame'>\n",
      "RangeIndex: 961 entries, 0 to 960\n",
      "Data columns (total 6 columns):\n",
      " #   Column    Non-Null Count  Dtype \n",
      "---  ------    --------------  ----- \n",
      " 0   BI-RADS   959 non-null    object\n",
      " 1   Age       956 non-null    object\n",
      " 2   Shape     930 non-null    object\n",
      " 3   Margin    913 non-null    object\n",
      " 4   Density   885 non-null    object\n",
      " 5   Severity  961 non-null    int64 \n",
      "dtypes: int64(1), object(5)\n",
      "memory usage: 45.2+ KB\n"
     ]
    }
   ],
   "source": [
    "'''Valorile din data frame care lipsesc sunt marcate cu '?'.\n",
    "Ca sa putem vedea cate valori lipsesc trebuie sa inlocuim\n",
    "toate valorile '?' cu valoarea nan. '''\n",
    "\n",
    "df_mammographics = df_mammographics.replace('?', np.nan)\n",
    "df_mammographics.info()"
   ]
  },
  {
   "cell_type": "code",
   "execution_count": 13,
   "metadata": {},
   "outputs": [
    {
     "name": "stdout",
     "output_type": "stream",
     "text": [
      "<class 'pandas.core.frame.DataFrame'>\n",
      "RangeIndex: 961 entries, 0 to 960\n",
      "Data columns (total 6 columns):\n",
      " #   Column    Non-Null Count  Dtype \n",
      "---  ------    --------------  ----- \n",
      " 0   BI-RADS   961 non-null    object\n",
      " 1   Age       961 non-null    object\n",
      " 2   Shape     961 non-null    object\n",
      " 3   Margin    961 non-null    object\n",
      " 4   Density   961 non-null    object\n",
      " 5   Severity  961 non-null    int64 \n",
      "dtypes: int64(1), object(5)\n",
      "memory usage: 45.2+ KB\n"
     ]
    }
   ],
   "source": [
    "'''Exista mai multe metode prin care putem umple valorile lipsa \n",
    "am ales umplerea valorilor prin copierea ultimei valori cunoscute.\n",
    "Alte metode precum: aruncarea liniilor sau a coloanelor nu ar fi \n",
    "fost indicate, intrucat ar fi dus la pierderea a multe linii/coloane.'''\n",
    "\n",
    "df_mammographics = df_mammographics.fillna(method = 'ffill')\n",
    "\n",
    "df_mammographics.info()"
   ]
  },
  {
   "cell_type": "code",
   "execution_count": 14,
   "metadata": {},
   "outputs": [
    {
     "data": {
      "text/html": [
       "<div>\n",
       "<style scoped>\n",
       "    .dataframe tbody tr th:only-of-type {\n",
       "        vertical-align: middle;\n",
       "    }\n",
       "\n",
       "    .dataframe tbody tr th {\n",
       "        vertical-align: top;\n",
       "    }\n",
       "\n",
       "    .dataframe thead th {\n",
       "        text-align: right;\n",
       "    }\n",
       "</style>\n",
       "<table border=\"1\" class=\"dataframe\">\n",
       "  <thead>\n",
       "    <tr style=\"text-align: right;\">\n",
       "      <th></th>\n",
       "      <th>BI-RADS</th>\n",
       "      <th>Age</th>\n",
       "      <th>Shape</th>\n",
       "      <th>Margin</th>\n",
       "      <th>Density</th>\n",
       "      <th>Severity</th>\n",
       "    </tr>\n",
       "  </thead>\n",
       "  <tbody>\n",
       "    <tr>\n",
       "      <th>0</th>\n",
       "      <td>5</td>\n",
       "      <td>67</td>\n",
       "      <td>3</td>\n",
       "      <td>5</td>\n",
       "      <td>3</td>\n",
       "      <td>1</td>\n",
       "    </tr>\n",
       "    <tr>\n",
       "      <th>1</th>\n",
       "      <td>4</td>\n",
       "      <td>43</td>\n",
       "      <td>1</td>\n",
       "      <td>1</td>\n",
       "      <td>3</td>\n",
       "      <td>1</td>\n",
       "    </tr>\n",
       "    <tr>\n",
       "      <th>2</th>\n",
       "      <td>5</td>\n",
       "      <td>58</td>\n",
       "      <td>4</td>\n",
       "      <td>5</td>\n",
       "      <td>3</td>\n",
       "      <td>1</td>\n",
       "    </tr>\n",
       "    <tr>\n",
       "      <th>3</th>\n",
       "      <td>4</td>\n",
       "      <td>28</td>\n",
       "      <td>1</td>\n",
       "      <td>1</td>\n",
       "      <td>3</td>\n",
       "      <td>0</td>\n",
       "    </tr>\n",
       "    <tr>\n",
       "      <th>4</th>\n",
       "      <td>5</td>\n",
       "      <td>74</td>\n",
       "      <td>1</td>\n",
       "      <td>5</td>\n",
       "      <td>3</td>\n",
       "      <td>1</td>\n",
       "    </tr>\n",
       "  </tbody>\n",
       "</table>\n",
       "</div>"
      ],
      "text/plain": [
       "  BI-RADS Age Shape Margin Density  Severity\n",
       "0       5  67     3      5       3         1\n",
       "1       4  43     1      1       3         1\n",
       "2       5  58     4      5       3         1\n",
       "3       4  28     1      1       3         0\n",
       "4       5  74     1      5       3         1"
      ]
     },
     "execution_count": 14,
     "metadata": {},
     "output_type": "execute_result"
    }
   ],
   "source": [
    "df_mammographics.head()"
   ]
  },
  {
   "cell_type": "code",
   "execution_count": 15,
   "metadata": {},
   "outputs": [
    {
     "data": {
      "text/html": [
       "<div>\n",
       "<style scoped>\n",
       "    .dataframe tbody tr th:only-of-type {\n",
       "        vertical-align: middle;\n",
       "    }\n",
       "\n",
       "    .dataframe tbody tr th {\n",
       "        vertical-align: top;\n",
       "    }\n",
       "\n",
       "    .dataframe thead th {\n",
       "        text-align: right;\n",
       "    }\n",
       "</style>\n",
       "<table border=\"1\" class=\"dataframe\">\n",
       "  <thead>\n",
       "    <tr style=\"text-align: right;\">\n",
       "      <th></th>\n",
       "      <th>BI-RADS</th>\n",
       "      <th>Age</th>\n",
       "      <th>Severity</th>\n",
       "      <th>Shape_1</th>\n",
       "      <th>Shape_2</th>\n",
       "      <th>Shape_3</th>\n",
       "      <th>Shape_4</th>\n",
       "      <th>Margin_1</th>\n",
       "      <th>Margin_2</th>\n",
       "      <th>Margin_3</th>\n",
       "      <th>Margin_4</th>\n",
       "      <th>Margin_5</th>\n",
       "      <th>Density_1</th>\n",
       "      <th>Density_2</th>\n",
       "      <th>Density_3</th>\n",
       "      <th>Density_4</th>\n",
       "    </tr>\n",
       "  </thead>\n",
       "  <tbody>\n",
       "    <tr>\n",
       "      <th>0</th>\n",
       "      <td>5</td>\n",
       "      <td>67</td>\n",
       "      <td>1</td>\n",
       "      <td>0</td>\n",
       "      <td>0</td>\n",
       "      <td>1</td>\n",
       "      <td>0</td>\n",
       "      <td>0</td>\n",
       "      <td>0</td>\n",
       "      <td>0</td>\n",
       "      <td>0</td>\n",
       "      <td>1</td>\n",
       "      <td>0</td>\n",
       "      <td>0</td>\n",
       "      <td>1</td>\n",
       "      <td>0</td>\n",
       "    </tr>\n",
       "    <tr>\n",
       "      <th>1</th>\n",
       "      <td>4</td>\n",
       "      <td>43</td>\n",
       "      <td>1</td>\n",
       "      <td>1</td>\n",
       "      <td>0</td>\n",
       "      <td>0</td>\n",
       "      <td>0</td>\n",
       "      <td>1</td>\n",
       "      <td>0</td>\n",
       "      <td>0</td>\n",
       "      <td>0</td>\n",
       "      <td>0</td>\n",
       "      <td>0</td>\n",
       "      <td>0</td>\n",
       "      <td>1</td>\n",
       "      <td>0</td>\n",
       "    </tr>\n",
       "    <tr>\n",
       "      <th>2</th>\n",
       "      <td>5</td>\n",
       "      <td>58</td>\n",
       "      <td>1</td>\n",
       "      <td>0</td>\n",
       "      <td>0</td>\n",
       "      <td>0</td>\n",
       "      <td>1</td>\n",
       "      <td>0</td>\n",
       "      <td>0</td>\n",
       "      <td>0</td>\n",
       "      <td>0</td>\n",
       "      <td>1</td>\n",
       "      <td>0</td>\n",
       "      <td>0</td>\n",
       "      <td>1</td>\n",
       "      <td>0</td>\n",
       "    </tr>\n",
       "    <tr>\n",
       "      <th>3</th>\n",
       "      <td>4</td>\n",
       "      <td>28</td>\n",
       "      <td>0</td>\n",
       "      <td>1</td>\n",
       "      <td>0</td>\n",
       "      <td>0</td>\n",
       "      <td>0</td>\n",
       "      <td>1</td>\n",
       "      <td>0</td>\n",
       "      <td>0</td>\n",
       "      <td>0</td>\n",
       "      <td>0</td>\n",
       "      <td>0</td>\n",
       "      <td>0</td>\n",
       "      <td>1</td>\n",
       "      <td>0</td>\n",
       "    </tr>\n",
       "    <tr>\n",
       "      <th>4</th>\n",
       "      <td>5</td>\n",
       "      <td>74</td>\n",
       "      <td>1</td>\n",
       "      <td>1</td>\n",
       "      <td>0</td>\n",
       "      <td>0</td>\n",
       "      <td>0</td>\n",
       "      <td>0</td>\n",
       "      <td>0</td>\n",
       "      <td>0</td>\n",
       "      <td>0</td>\n",
       "      <td>1</td>\n",
       "      <td>0</td>\n",
       "      <td>0</td>\n",
       "      <td>1</td>\n",
       "      <td>0</td>\n",
       "    </tr>\n",
       "  </tbody>\n",
       "</table>\n",
       "</div>"
      ],
      "text/plain": [
       "  BI-RADS Age  Severity  Shape_1  Shape_2  Shape_3  Shape_4  Margin_1  \\\n",
       "0       5  67         1        0        0        1        0         0   \n",
       "1       4  43         1        1        0        0        0         1   \n",
       "2       5  58         1        0        0        0        1         0   \n",
       "3       4  28         0        1        0        0        0         1   \n",
       "4       5  74         1        1        0        0        0         0   \n",
       "\n",
       "   Margin_2  Margin_3  Margin_4  Margin_5  Density_1  Density_2  Density_3  \\\n",
       "0         0         0         0         1          0          0          1   \n",
       "1         0         0         0         0          0          0          1   \n",
       "2         0         0         0         1          0          0          1   \n",
       "3         0         0         0         0          0          0          1   \n",
       "4         0         0         0         1          0          0          1   \n",
       "\n",
       "   Density_4  \n",
       "0          0  \n",
       "1          0  \n",
       "2          0  \n",
       "3          0  \n",
       "4          0  "
      ]
     },
     "execution_count": 15,
     "metadata": {},
     "output_type": "execute_result"
    }
   ],
   "source": [
    "df_mammographics = pd.get_dummies(df_mammographics, columns = [\"Shape\", \"Margin\", \"Density\"])\n",
    "\n",
    "df_mammographics.head()"
   ]
  },
  {
   "cell_type": "code",
   "execution_count": 16,
   "metadata": {},
   "outputs": [
    {
     "data": {
      "text/html": [
       "<div>\n",
       "<style scoped>\n",
       "    .dataframe tbody tr th:only-of-type {\n",
       "        vertical-align: middle;\n",
       "    }\n",
       "\n",
       "    .dataframe tbody tr th {\n",
       "        vertical-align: top;\n",
       "    }\n",
       "\n",
       "    .dataframe thead th {\n",
       "        text-align: right;\n",
       "    }\n",
       "</style>\n",
       "<table border=\"1\" class=\"dataframe\">\n",
       "  <thead>\n",
       "    <tr style=\"text-align: right;\">\n",
       "      <th></th>\n",
       "      <th>BI-RADS</th>\n",
       "      <th>Age</th>\n",
       "      <th>Shape_1</th>\n",
       "      <th>Shape_2</th>\n",
       "      <th>Shape_3</th>\n",
       "      <th>Shape_4</th>\n",
       "      <th>Margin_1</th>\n",
       "      <th>Margin_2</th>\n",
       "      <th>Margin_3</th>\n",
       "      <th>Margin_4</th>\n",
       "      <th>Margin_5</th>\n",
       "      <th>Density_1</th>\n",
       "      <th>Density_2</th>\n",
       "      <th>Density_3</th>\n",
       "      <th>Density_4</th>\n",
       "    </tr>\n",
       "  </thead>\n",
       "  <tbody>\n",
       "    <tr>\n",
       "      <th>0</th>\n",
       "      <td>5</td>\n",
       "      <td>67</td>\n",
       "      <td>0</td>\n",
       "      <td>0</td>\n",
       "      <td>1</td>\n",
       "      <td>0</td>\n",
       "      <td>0</td>\n",
       "      <td>0</td>\n",
       "      <td>0</td>\n",
       "      <td>0</td>\n",
       "      <td>1</td>\n",
       "      <td>0</td>\n",
       "      <td>0</td>\n",
       "      <td>1</td>\n",
       "      <td>0</td>\n",
       "    </tr>\n",
       "    <tr>\n",
       "      <th>1</th>\n",
       "      <td>4</td>\n",
       "      <td>43</td>\n",
       "      <td>1</td>\n",
       "      <td>0</td>\n",
       "      <td>0</td>\n",
       "      <td>0</td>\n",
       "      <td>1</td>\n",
       "      <td>0</td>\n",
       "      <td>0</td>\n",
       "      <td>0</td>\n",
       "      <td>0</td>\n",
       "      <td>0</td>\n",
       "      <td>0</td>\n",
       "      <td>1</td>\n",
       "      <td>0</td>\n",
       "    </tr>\n",
       "    <tr>\n",
       "      <th>2</th>\n",
       "      <td>5</td>\n",
       "      <td>58</td>\n",
       "      <td>0</td>\n",
       "      <td>0</td>\n",
       "      <td>0</td>\n",
       "      <td>1</td>\n",
       "      <td>0</td>\n",
       "      <td>0</td>\n",
       "      <td>0</td>\n",
       "      <td>0</td>\n",
       "      <td>1</td>\n",
       "      <td>0</td>\n",
       "      <td>0</td>\n",
       "      <td>1</td>\n",
       "      <td>0</td>\n",
       "    </tr>\n",
       "    <tr>\n",
       "      <th>3</th>\n",
       "      <td>4</td>\n",
       "      <td>28</td>\n",
       "      <td>1</td>\n",
       "      <td>0</td>\n",
       "      <td>0</td>\n",
       "      <td>0</td>\n",
       "      <td>1</td>\n",
       "      <td>0</td>\n",
       "      <td>0</td>\n",
       "      <td>0</td>\n",
       "      <td>0</td>\n",
       "      <td>0</td>\n",
       "      <td>0</td>\n",
       "      <td>1</td>\n",
       "      <td>0</td>\n",
       "    </tr>\n",
       "    <tr>\n",
       "      <th>4</th>\n",
       "      <td>5</td>\n",
       "      <td>74</td>\n",
       "      <td>1</td>\n",
       "      <td>0</td>\n",
       "      <td>0</td>\n",
       "      <td>0</td>\n",
       "      <td>0</td>\n",
       "      <td>0</td>\n",
       "      <td>0</td>\n",
       "      <td>0</td>\n",
       "      <td>1</td>\n",
       "      <td>0</td>\n",
       "      <td>0</td>\n",
       "      <td>1</td>\n",
       "      <td>0</td>\n",
       "    </tr>\n",
       "  </tbody>\n",
       "</table>\n",
       "</div>"
      ],
      "text/plain": [
       "  BI-RADS Age  Shape_1  Shape_2  Shape_3  Shape_4  Margin_1  Margin_2  \\\n",
       "0       5  67        0        0        1        0         0         0   \n",
       "1       4  43        1        0        0        0         1         0   \n",
       "2       5  58        0        0        0        1         0         0   \n",
       "3       4  28        1        0        0        0         1         0   \n",
       "4       5  74        1        0        0        0         0         0   \n",
       "\n",
       "   Margin_3  Margin_4  Margin_5  Density_1  Density_2  Density_3  Density_4  \n",
       "0         0         0         1          0          0          1          0  \n",
       "1         0         0         0          0          0          1          0  \n",
       "2         0         0         1          0          0          1          0  \n",
       "3         0         0         0          0          0          1          0  \n",
       "4         0         0         1          0          0          1          0  "
      ]
     },
     "execution_count": 16,
     "metadata": {},
     "output_type": "execute_result"
    }
   ],
   "source": [
    "x_mammographic = df_mammographics[[\"BI-RADS\",\"Age\",\n",
    "                                   \"Shape_1\",\"Shape_2\",\"Shape_3\",\"Shape_4\",\n",
    "                                   \"Margin_1\",\"Margin_2\",\"Margin_3\",\"Margin_4\",\"Margin_5\",\n",
    "                                   \"Density_1\",\"Density_2\", \"Density_3\", \"Density_4\"]]\n",
    "\n",
    "y_mammographic = df_mammographics[\"Severity\"]\n",
    "\n",
    "x_mammographic.head()"
   ]
  },
  {
   "cell_type": "code",
   "execution_count": 17,
   "metadata": {},
   "outputs": [
    {
     "data": {
      "text/html": [
       "<div>\n",
       "<style scoped>\n",
       "    .dataframe tbody tr th:only-of-type {\n",
       "        vertical-align: middle;\n",
       "    }\n",
       "\n",
       "    .dataframe tbody tr th {\n",
       "        vertical-align: top;\n",
       "    }\n",
       "\n",
       "    .dataframe thead th {\n",
       "        text-align: right;\n",
       "    }\n",
       "</style>\n",
       "<table border=\"1\" class=\"dataframe\">\n",
       "  <thead>\n",
       "    <tr style=\"text-align: right;\">\n",
       "      <th></th>\n",
       "      <th>Recency(months)</th>\n",
       "      <th>Frequency(times)</th>\n",
       "      <th>Monetary</th>\n",
       "      <th>Time(months)</th>\n",
       "      <th>Class</th>\n",
       "    </tr>\n",
       "  </thead>\n",
       "  <tbody>\n",
       "    <tr>\n",
       "      <th>0</th>\n",
       "      <td>2</td>\n",
       "      <td>50</td>\n",
       "      <td>12500</td>\n",
       "      <td>98</td>\n",
       "      <td>1</td>\n",
       "    </tr>\n",
       "    <tr>\n",
       "      <th>1</th>\n",
       "      <td>0</td>\n",
       "      <td>13</td>\n",
       "      <td>3250</td>\n",
       "      <td>28</td>\n",
       "      <td>1</td>\n",
       "    </tr>\n",
       "    <tr>\n",
       "      <th>2</th>\n",
       "      <td>1</td>\n",
       "      <td>16</td>\n",
       "      <td>&lt;null&gt;</td>\n",
       "      <td>35</td>\n",
       "      <td>1</td>\n",
       "    </tr>\n",
       "    <tr>\n",
       "      <th>3</th>\n",
       "      <td>2</td>\n",
       "      <td>20</td>\n",
       "      <td>5000</td>\n",
       "      <td>45</td>\n",
       "      <td>1</td>\n",
       "    </tr>\n",
       "    <tr>\n",
       "      <th>4</th>\n",
       "      <td>1</td>\n",
       "      <td>24</td>\n",
       "      <td>6000</td>\n",
       "      <td>77</td>\n",
       "      <td>0</td>\n",
       "    </tr>\n",
       "  </tbody>\n",
       "</table>\n",
       "</div>"
      ],
      "text/plain": [
       "  Recency(months) Frequency(times) Monetary Time(months)  Class\n",
       "0              2                50    12500          98       1\n",
       "1              0                13     3250          28       1\n",
       "2              1                16   <null>          35       1\n",
       "3              2                20     5000          45       1\n",
       "4              1                24     6000          77       0"
      ]
     },
     "execution_count": 17,
     "metadata": {},
     "output_type": "execute_result"
    }
   ],
   "source": [
    "names_transfusion = ['Recency(months)', 'Frequency(times)', 'Monetary', 'Time(months)', 'Class']\n",
    "\n",
    "df_transfusion = pd.read_csv('./data/transfusion/transfusion.data', names = names_transfusion)\n",
    "\n",
    "df_transfusion.head()"
   ]
  },
  {
   "cell_type": "code",
   "execution_count": 18,
   "metadata": {},
   "outputs": [
    {
     "name": "stdout",
     "output_type": "stream",
     "text": [
      "<class 'pandas.core.frame.DataFrame'>\n",
      "RangeIndex: 748 entries, 0 to 747\n",
      "Data columns (total 5 columns):\n",
      " #   Column            Non-Null Count  Dtype \n",
      "---  ------            --------------  ----- \n",
      " 0   Recency(months)   733 non-null    object\n",
      " 1   Frequency(times)  743 non-null    object\n",
      " 2   Monetary          734 non-null    object\n",
      " 3   Time(months)      735 non-null    object\n",
      " 4   Class             748 non-null    int64 \n",
      "dtypes: int64(1), object(4)\n",
      "memory usage: 29.3+ KB\n"
     ]
    }
   ],
   "source": [
    "'''In data set-ul transfusion missing values sunt marcate prin '<null>',\n",
    "nu prin valori NaN, asa ca dorim sa inlocuim  valorile '<null>' cu valori\n",
    "NaN astfel incat sa putem vedea cre sunt valorile necompletate si\n",
    "sa le putem inlocui sau sterge.'''\n",
    "\n",
    "df_transfusion = df_transfusion.replace('<null>', np.nan)\n",
    "\n",
    "df_transfusion.info()"
   ]
  },
  {
   "cell_type": "code",
   "execution_count": 19,
   "metadata": {},
   "outputs": [
    {
     "data": {
      "text/html": [
       "<div>\n",
       "<style scoped>\n",
       "    .dataframe tbody tr th:only-of-type {\n",
       "        vertical-align: middle;\n",
       "    }\n",
       "\n",
       "    .dataframe tbody tr th {\n",
       "        vertical-align: top;\n",
       "    }\n",
       "\n",
       "    .dataframe thead th {\n",
       "        text-align: right;\n",
       "    }\n",
       "</style>\n",
       "<table border=\"1\" class=\"dataframe\">\n",
       "  <thead>\n",
       "    <tr style=\"text-align: right;\">\n",
       "      <th></th>\n",
       "      <th>Recency(months)</th>\n",
       "      <th>Frequency(times)</th>\n",
       "      <th>Monetary</th>\n",
       "      <th>Time(months)</th>\n",
       "    </tr>\n",
       "  </thead>\n",
       "  <tbody>\n",
       "    <tr>\n",
       "      <th>0</th>\n",
       "      <td>2</td>\n",
       "      <td>50</td>\n",
       "      <td>12500</td>\n",
       "      <td>98</td>\n",
       "    </tr>\n",
       "    <tr>\n",
       "      <th>1</th>\n",
       "      <td>0</td>\n",
       "      <td>13</td>\n",
       "      <td>3250</td>\n",
       "      <td>28</td>\n",
       "    </tr>\n",
       "    <tr>\n",
       "      <th>2</th>\n",
       "      <td>1</td>\n",
       "      <td>16</td>\n",
       "      <td>NaN</td>\n",
       "      <td>35</td>\n",
       "    </tr>\n",
       "    <tr>\n",
       "      <th>3</th>\n",
       "      <td>2</td>\n",
       "      <td>20</td>\n",
       "      <td>5000</td>\n",
       "      <td>45</td>\n",
       "    </tr>\n",
       "    <tr>\n",
       "      <th>4</th>\n",
       "      <td>1</td>\n",
       "      <td>24</td>\n",
       "      <td>6000</td>\n",
       "      <td>77</td>\n",
       "    </tr>\n",
       "  </tbody>\n",
       "</table>\n",
       "</div>"
      ],
      "text/plain": [
       "  Recency(months) Frequency(times) Monetary Time(months)\n",
       "0              2                50    12500          98 \n",
       "1              0                13     3250          28 \n",
       "2              1                16      NaN          35 \n",
       "3              2                20     5000          45 \n",
       "4              1                24     6000          77 "
      ]
     },
     "execution_count": 19,
     "metadata": {},
     "output_type": "execute_result"
    }
   ],
   "source": [
    "x_transfusion = df_transfusion[['Recency(months)', 'Frequency(times)', 'Monetary', 'Time(months)']]\n",
    "\n",
    "y_transfusion = df_transfusion['Class']\n",
    "\n",
    "x_transfusion.head()"
   ]
  },
  {
   "cell_type": "code",
   "execution_count": 20,
   "metadata": {},
   "outputs": [
    {
     "data": {
      "text/html": [
       "<div>\n",
       "<style scoped>\n",
       "    .dataframe tbody tr th:only-of-type {\n",
       "        vertical-align: middle;\n",
       "    }\n",
       "\n",
       "    .dataframe tbody tr th {\n",
       "        vertical-align: top;\n",
       "    }\n",
       "\n",
       "    .dataframe thead th {\n",
       "        text-align: right;\n",
       "    }\n",
       "</style>\n",
       "<table border=\"1\" class=\"dataframe\">\n",
       "  <thead>\n",
       "    <tr style=\"text-align: right;\">\n",
       "      <th></th>\n",
       "      <th>Recency(months)</th>\n",
       "      <th>Frequency(times)</th>\n",
       "      <th>Monetary</th>\n",
       "      <th>Time(months)</th>\n",
       "    </tr>\n",
       "  </thead>\n",
       "  <tbody>\n",
       "    <tr>\n",
       "      <th>0</th>\n",
       "      <td>2.0</td>\n",
       "      <td>50.0</td>\n",
       "      <td>12500.0</td>\n",
       "      <td>98.0</td>\n",
       "    </tr>\n",
       "    <tr>\n",
       "      <th>1</th>\n",
       "      <td>0.0</td>\n",
       "      <td>13.0</td>\n",
       "      <td>3250.0</td>\n",
       "      <td>28.0</td>\n",
       "    </tr>\n",
       "    <tr>\n",
       "      <th>2</th>\n",
       "      <td>1.0</td>\n",
       "      <td>16.0</td>\n",
       "      <td>3437.5</td>\n",
       "      <td>35.0</td>\n",
       "    </tr>\n",
       "    <tr>\n",
       "      <th>3</th>\n",
       "      <td>2.0</td>\n",
       "      <td>20.0</td>\n",
       "      <td>5000.0</td>\n",
       "      <td>45.0</td>\n",
       "    </tr>\n",
       "    <tr>\n",
       "      <th>4</th>\n",
       "      <td>1.0</td>\n",
       "      <td>24.0</td>\n",
       "      <td>6000.0</td>\n",
       "      <td>77.0</td>\n",
       "    </tr>\n",
       "  </tbody>\n",
       "</table>\n",
       "</div>"
      ],
      "text/plain": [
       "   Recency(months)  Frequency(times)  Monetary  Time(months)\n",
       "0              2.0              50.0   12500.0          98.0\n",
       "1              0.0              13.0    3250.0          28.0\n",
       "2              1.0              16.0    3437.5          35.0\n",
       "3              2.0              20.0    5000.0          45.0\n",
       "4              1.0              24.0    6000.0          77.0"
      ]
     },
     "execution_count": 20,
     "metadata": {},
     "output_type": "execute_result"
    }
   ],
   "source": [
    "'''Pentru umplerea valorilor lipsa am folosit KNNImputer. KNNImputer presupune ca\n",
    "valorile lipsă ale fiecărui eșantion sa fie imputate folosind valoarea medie de la n_neighbors vecini \n",
    "apropiați găsiți în setul de instruire. În mod implicit, o metrică de distanță euclidiană care acceptă valori \n",
    "lipsă, nan_euclidean_distances, este utilizată pentru a găsi vecinii apropiați.'''\n",
    "\n",
    "imputer = KNNImputer(n_neighbors = 4)\n",
    "x_transfusion = pd.DataFrame(imputer.fit_transform(x_transfusion))\n",
    "x_transfusion.columns = ['Recency(months)', 'Frequency(times)', 'Monetary', 'Time(months)']\n",
    "\n",
    "x_transfusion.head()"
   ]
  },
  {
   "cell_type": "code",
   "execution_count": 21,
   "metadata": {},
   "outputs": [
    {
     "name": "stdout",
     "output_type": "stream",
     "text": [
      "<class 'pandas.core.frame.DataFrame'>\n",
      "RangeIndex: 748 entries, 0 to 747\n",
      "Data columns (total 4 columns):\n",
      " #   Column            Non-Null Count  Dtype  \n",
      "---  ------            --------------  -----  \n",
      " 0   Recency(months)   748 non-null    float64\n",
      " 1   Frequency(times)  748 non-null    float64\n",
      " 2   Monetary          748 non-null    float64\n",
      " 3   Time(months)      748 non-null    float64\n",
      "dtypes: float64(4)\n",
      "memory usage: 23.5 KB\n"
     ]
    }
   ],
   "source": [
    "x_transfusion.info()"
   ]
  },
  {
   "cell_type": "markdown",
   "metadata": {},
   "source": [
    "<font color=blue>Ex2:</font> Pentru fiecare set de date aplicati 5 modele de clasificare din scikit learn. Pentru fiecare raportati: acuratete, scorul F1 - a se vedea sklearn.metrics - folosind 5 fold cross validation. Raportati mediile rezultatelor atat pentru fold-urile de antrenare, cat si pentru cele de testare. Rularile se vor face cu valori fixate ale hiperparametrilor."
   ]
  },
  {
   "cell_type": "markdown",
   "metadata": {},
   "source": [
    "# <font color= magenta> A. Algoritmi care nu necesita scalarea datelor"
   ]
  },
  {
   "cell_type": "markdown",
   "metadata": {},
   "source": [
    "# <font color= magenta> 1. DecisionTreeClassifier"
   ]
  },
  {
   "cell_type": "code",
   "execution_count": 22,
   "metadata": {},
   "outputs": [],
   "source": [
    "def decision_tree_method(X, y) -> None:\n",
    "    \n",
    "    model = DecisionTreeClassifier(max_depth = 5, min_samples_leaf = 15)\n",
    "        \n",
    "    scores = cross_validate(model, X, y, cv = 5, scoring = ['accuracy','f1_weighted'], return_train_score = True)\n",
    "    \n",
    "    print ('Acuratetea setului de antrenare este:', scores['train_accuracy'],\n",
    "           'si are media:', scores['train_accuracy'].mean())\n",
    "    print ('Acuratetea setului de testare este:', scores['test_accuracy'],\n",
    "           'si are media:', scores['test_accuracy'].mean())\n",
    "    \n",
    "    print ('F1 pentru setul de antrenare este:', scores['train_f1_weighted'],\n",
    "           'si are media', scores['train_f1_weighted'].mean())\n",
    "    print ('F1 pentru setul de testare este:', scores['test_f1_weighted'],\n",
    "           'si are media', scores['test_f1_weighted'].mean())"
   ]
  },
  {
   "cell_type": "code",
   "execution_count": 23,
   "metadata": {},
   "outputs": [
    {
     "name": "stdout",
     "output_type": "stream",
     "text": [
      "Acuratetea setului de antrenare este: [0.79049676 0.74298056 0.74298056 0.77321814 0.76293103] si are media: 0.762521412080137\n",
      "Acuratetea setului de testare este: [0.70689655 0.73275862 0.60344828 0.56896552 0.68695652] si are media: 0.6598050974512744\n",
      "F1 pentru setul de antrenare este: [0.78401693 0.67570825 0.7523229  0.76690532 0.74023725] si are media 0.7438381299254335\n",
      "F1 pentru setul de testare este: [0.67288367 0.65894504 0.62281043 0.5895629  0.63591682] si are media 0.6360237706840032\n"
     ]
    }
   ],
   "source": [
    "decision_tree_method(x_indian, y_indian)"
   ]
  },
  {
   "cell_type": "code",
   "execution_count": 24,
   "metadata": {},
   "outputs": [
    {
     "name": "stdout",
     "output_type": "stream",
     "text": [
      "Acuratetea setului de antrenare este: [0.65050821 0.65050821 0.65129007 0.66692729 0.6671875 ] si are media: 0.6572842552775606\n",
      "Acuratetea setului de testare este: [0.5125     0.4875     0.565625   0.55625    0.57366771] si are media: 0.5391085423197493\n",
      "F1 pentru setul de antrenare este: [0.62895952 0.62114804 0.63520597 0.63780948 0.64974681] si are media 0.6345739624252036\n",
      "F1 pentru setul de testare este: [0.46757743 0.4678346  0.55057509 0.53259325 0.55862606] si are media 0.5154412843722398\n"
     ]
    }
   ],
   "source": [
    "decision_tree_method(x_wine, y_wine)"
   ]
  },
  {
   "cell_type": "code",
   "execution_count": 25,
   "metadata": {},
   "outputs": [
    {
     "name": "stdout",
     "output_type": "stream",
     "text": [
      "Acuratetea setului de antrenare este: [0.84765625 0.83875163 0.83224967 0.85695709 0.84915475] si are media: 0.8449538767880365\n",
      "Acuratetea setului de testare este: [0.8238342  0.84895833 0.86979167 0.796875   0.8125    ] si are media: 0.8303918393782382\n",
      "F1 pentru setul de antrenare este: [0.84707059 0.83891629 0.83109108 0.85711622 0.84912447] si are media 0.8446637289495176\n",
      "F1 pentru setul de testare este: [0.82347124 0.84835523 0.8694528  0.79712312 0.80697028] si are media 0.8290745357062399\n"
     ]
    }
   ],
   "source": [
    "decision_tree_method(x_mammographic, y_mammographic)"
   ]
  },
  {
   "cell_type": "code",
   "execution_count": 26,
   "metadata": {},
   "outputs": [
    {
     "name": "stdout",
     "output_type": "stream",
     "text": [
      "Acuratetea setului de antrenare este: [0.83946488 0.80936455 0.82608696 0.8096828  0.82470785] si are media: 0.8218614078090016\n",
      "Acuratetea setului de testare este: [0.5        0.82       0.76       0.75838926 0.77852349] si are media: 0.7233825503355705\n",
      "F1 pentru setul de antrenare este: [0.83027653 0.79231392 0.8112873  0.78562757 0.81314483] si are media 0.8065300308120191\n",
      "F1 pentru setul de testare este: [0.505002   0.77552941 0.65636364 0.75016133 0.69375833] si are media 0.6761629415197914\n"
     ]
    }
   ],
   "source": [
    "decision_tree_method(x_transfusion, y_transfusion)"
   ]
  },
  {
   "cell_type": "markdown",
   "metadata": {},
   "source": [
    "# <font color= magenta> 2. RandomForestClassifier"
   ]
  },
  {
   "cell_type": "code",
   "execution_count": 34,
   "metadata": {},
   "outputs": [],
   "source": [
    "def random_forest_method(X, y, max_depth, min_samples_leaf) -> None:\n",
    "    \n",
    "    model = RandomForestClassifier(max_depth = max_depth, min_samples_leaf = min_samples_leaf)\n",
    "        \n",
    "    scores = cross_validate(model, X, y, cv = 5, scoring = ['accuracy','f1_weighted'], return_train_score = True)\n",
    "    \n",
    "    print ('Acuratetea setului de antrenare este:', scores['train_accuracy'],\n",
    "           'si are media:', scores['train_accuracy'].mean())\n",
    "    print ('Acuratetea setului de testare este:', scores['test_accuracy'],\n",
    "           'si are media:', scores['test_accuracy'].mean())\n",
    "    \n",
    "    print ('F1 pentru setul de antrenare este:', scores['train_f1_weighted'],\n",
    "           'si are media', scores['train_f1_weighted'].mean())\n",
    "    print ('F1 pentru setul de testare este:', scores['test_f1_weighted'],\n",
    "           'si are media', scores['test_f1_weighted'].mean())"
   ]
  },
  {
   "cell_type": "code",
   "execution_count": 35,
   "metadata": {},
   "outputs": [
    {
     "name": "stdout",
     "output_type": "stream",
     "text": [
      "Acuratetea setului de antrenare este: [0.79049676 0.76889849 0.78185745 0.82073434 0.75431034] si are media: 0.7832594771728607\n",
      "Acuratetea setului de testare este: [0.70689655 0.73275862 0.68965517 0.63793103 0.72173913] si are media: 0.6977961019490255\n",
      "F1 pentru setul de antrenare este: [0.75693284 0.71460026 0.74247488 0.80568428 0.68880657] si are media 0.741699767216444\n",
      "F1 pentru setul de testare este: [0.62006287 0.64790069 0.65364153 0.63442888 0.62731212] si are media 0.6366692158358169\n"
     ]
    }
   ],
   "source": [
    "random_forest_method(x_indian, y_indian, 4, 6)"
   ]
  },
  {
   "cell_type": "code",
   "execution_count": 36,
   "metadata": {},
   "outputs": [
    {
     "name": "stdout",
     "output_type": "stream",
     "text": [
      "Acuratetea setului de antrenare este: [0.61923378 0.62548866 0.61219703 0.61141517 0.61328125] si are media: 0.616323177286943\n",
      "Acuratetea setului de testare este: [0.55       0.571875   0.628125   0.56875    0.60188088] si are media: 0.5841261755485894\n",
      "F1 pentru setul de antrenare este: [0.5778448  0.57241231 0.5640038  0.56224857 0.55703427] si are media 0.566708751598967\n",
      "F1 pentru setul de testare este: [0.47691117 0.51939858 0.56609025 0.52110229 0.54746719] si are media 0.5261938953773025\n"
     ]
    }
   ],
   "source": [
    "random_forest_method(x_wine, y_wine, 3, 6)"
   ]
  },
  {
   "cell_type": "code",
   "execution_count": 37,
   "metadata": {},
   "outputs": [
    {
     "name": "stdout",
     "output_type": "stream",
     "text": [
      "Acuratetea setului de antrenare este: [0.83203125 0.8283485  0.8283485  0.83485046 0.84915475] si are media: 0.8345466921326399\n",
      "Acuratetea setului de testare este: [0.80829016 0.828125   0.859375   0.80729167 0.81770833] si are media: 0.8241580310880829\n",
      "F1 pentru setul de antrenare este: [0.83224072 0.82853946 0.8285638  0.83502692 0.84915475] si are media 0.8347051293932026\n",
      "F1 pentru setul de testare este: [0.80836259 0.82743871 0.85956217 0.80754816 0.81593763] si are media 0.8237698521020563\n"
     ]
    }
   ],
   "source": [
    "random_forest_method(x_mammographic, y_mammographic, 5, 15)"
   ]
  },
  {
   "cell_type": "code",
   "execution_count": 39,
   "metadata": {},
   "outputs": [
    {
     "name": "stdout",
     "output_type": "stream",
     "text": [
      "Acuratetea setului de antrenare este: [0.86454849 0.8277592  0.84113712 0.83305509 0.83639399] si are media: 0.8405787795713033\n",
      "Acuratetea setului de testare este: [0.57333333 0.78666667 0.76       0.7852349  0.77852349] si are media: 0.736751677852349\n",
      "F1 pentru setul de antrenare este: [0.85272934 0.80877374 0.82991643 0.81364647 0.82262815] si are media 0.8255388268206174\n",
      "F1 pentru setul de testare este: [0.59572851 0.71446154 0.65636364 0.78726746 0.69375833] si are media 0.6895158936438781\n"
     ]
    }
   ],
   "source": [
    "random_forest_method(x_transfusion, y_transfusion, 6, 2)"
   ]
  },
  {
   "cell_type": "markdown",
   "metadata": {},
   "source": [
    "# <font color=magenta> B. Algoritmi care necesita scalarea datelor"
   ]
  },
  {
   "cell_type": "markdown",
   "metadata": {},
   "source": [
    "Pentru urmatoarele metode de clasificare vom scala datele."
   ]
  },
  {
   "cell_type": "code",
   "execution_count": 32,
   "metadata": {},
   "outputs": [
    {
     "data": {
      "text/html": [
       "<div>\n",
       "<style scoped>\n",
       "    .dataframe tbody tr th:only-of-type {\n",
       "        vertical-align: middle;\n",
       "    }\n",
       "\n",
       "    .dataframe tbody tr th {\n",
       "        vertical-align: top;\n",
       "    }\n",
       "\n",
       "    .dataframe thead th {\n",
       "        text-align: right;\n",
       "    }\n",
       "</style>\n",
       "<table border=\"1\" class=\"dataframe\">\n",
       "  <thead>\n",
       "    <tr style=\"text-align: right;\">\n",
       "      <th></th>\n",
       "      <th>Age</th>\n",
       "      <th>Gender_Female</th>\n",
       "      <th>Gender_Male</th>\n",
       "      <th>Total Bilirubin</th>\n",
       "      <th>Direct Bilirubin</th>\n",
       "      <th>Alkaline Phosphotase</th>\n",
       "      <th>Alamine Aminotransferase</th>\n",
       "      <th>Aspartate Aminotransferase</th>\n",
       "      <th>Total Protiens</th>\n",
       "      <th>Albumin</th>\n",
       "      <th>Ratio Albumin and Globulin Ration</th>\n",
       "    </tr>\n",
       "  </thead>\n",
       "  <tbody>\n",
       "    <tr>\n",
       "      <th>0</th>\n",
       "      <td>0.709302</td>\n",
       "      <td>1.0</td>\n",
       "      <td>0.0</td>\n",
       "      <td>0.004021</td>\n",
       "      <td>0.000000</td>\n",
       "      <td>0.060576</td>\n",
       "      <td>0.003015</td>\n",
       "      <td>0.001626</td>\n",
       "      <td>0.594203</td>\n",
       "      <td>0.521739</td>\n",
       "      <td>0.240</td>\n",
       "    </tr>\n",
       "    <tr>\n",
       "      <th>1</th>\n",
       "      <td>0.674419</td>\n",
       "      <td>0.0</td>\n",
       "      <td>1.0</td>\n",
       "      <td>0.140751</td>\n",
       "      <td>0.275510</td>\n",
       "      <td>0.310699</td>\n",
       "      <td>0.027136</td>\n",
       "      <td>0.018296</td>\n",
       "      <td>0.695652</td>\n",
       "      <td>0.500000</td>\n",
       "      <td>0.176</td>\n",
       "    </tr>\n",
       "    <tr>\n",
       "      <th>2</th>\n",
       "      <td>0.674419</td>\n",
       "      <td>0.0</td>\n",
       "      <td>1.0</td>\n",
       "      <td>0.092493</td>\n",
       "      <td>0.204082</td>\n",
       "      <td>0.208598</td>\n",
       "      <td>0.025126</td>\n",
       "      <td>0.011791</td>\n",
       "      <td>0.623188</td>\n",
       "      <td>0.521739</td>\n",
       "      <td>0.236</td>\n",
       "    </tr>\n",
       "    <tr>\n",
       "      <th>3</th>\n",
       "      <td>0.627907</td>\n",
       "      <td>0.0</td>\n",
       "      <td>1.0</td>\n",
       "      <td>0.008043</td>\n",
       "      <td>0.015306</td>\n",
       "      <td>0.058134</td>\n",
       "      <td>0.002010</td>\n",
       "      <td>0.002033</td>\n",
       "      <td>0.594203</td>\n",
       "      <td>0.543478</td>\n",
       "      <td>0.280</td>\n",
       "    </tr>\n",
       "    <tr>\n",
       "      <th>4</th>\n",
       "      <td>0.790698</td>\n",
       "      <td>0.0</td>\n",
       "      <td>1.0</td>\n",
       "      <td>0.046917</td>\n",
       "      <td>0.096939</td>\n",
       "      <td>0.064485</td>\n",
       "      <td>0.008543</td>\n",
       "      <td>0.009961</td>\n",
       "      <td>0.666667</td>\n",
       "      <td>0.326087</td>\n",
       "      <td>0.040</td>\n",
       "    </tr>\n",
       "  </tbody>\n",
       "</table>\n",
       "</div>"
      ],
      "text/plain": [
       "        Age  Gender_Female  Gender_Male  Total Bilirubin  Direct Bilirubin  \\\n",
       "0  0.709302            1.0          0.0         0.004021          0.000000   \n",
       "1  0.674419            0.0          1.0         0.140751          0.275510   \n",
       "2  0.674419            0.0          1.0         0.092493          0.204082   \n",
       "3  0.627907            0.0          1.0         0.008043          0.015306   \n",
       "4  0.790698            0.0          1.0         0.046917          0.096939   \n",
       "\n",
       "   Alkaline Phosphotase  Alamine Aminotransferase  Aspartate Aminotransferase  \\\n",
       "0              0.060576                  0.003015                    0.001626   \n",
       "1              0.310699                  0.027136                    0.018296   \n",
       "2              0.208598                  0.025126                    0.011791   \n",
       "3              0.058134                  0.002010                    0.002033   \n",
       "4              0.064485                  0.008543                    0.009961   \n",
       "\n",
       "   Total Protiens   Albumin  Ratio Albumin and Globulin Ration  \n",
       "0        0.594203  0.521739                              0.240  \n",
       "1        0.695652  0.500000                              0.176  \n",
       "2        0.623188  0.521739                              0.236  \n",
       "3        0.594203  0.543478                              0.280  \n",
       "4        0.666667  0.326087                              0.040  "
      ]
     },
     "execution_count": 32,
     "metadata": {},
     "output_type": "execute_result"
    }
   ],
   "source": [
    "scaler = MinMaxScaler()\n",
    "\n",
    "scaler.fit(x_indian)\n",
    "x_indian = pd.DataFrame(scaler.transform(x_indian))\n",
    "x_indian.columns = [\"Age\", \"Gender_Female\", \"Gender_Male\", \"Total Bilirubin\", \"Direct Bilirubin\", \n",
    "                      \"Alkaline Phosphotase\", \"Alamine Aminotransferase\", \"Aspartate Aminotransferase\", \n",
    "                      \"Total Protiens\", \"Albumin\", \"Ratio Albumin and Globulin Ration\"]\n",
    "\n",
    "x_indian.head()"
   ]
  },
  {
   "cell_type": "code",
   "execution_count": 33,
   "metadata": {},
   "outputs": [
    {
     "data": {
      "text/html": [
       "<div>\n",
       "<style scoped>\n",
       "    .dataframe tbody tr th:only-of-type {\n",
       "        vertical-align: middle;\n",
       "    }\n",
       "\n",
       "    .dataframe tbody tr th {\n",
       "        vertical-align: top;\n",
       "    }\n",
       "\n",
       "    .dataframe thead th {\n",
       "        text-align: right;\n",
       "    }\n",
       "</style>\n",
       "<table border=\"1\" class=\"dataframe\">\n",
       "  <thead>\n",
       "    <tr style=\"text-align: right;\">\n",
       "      <th></th>\n",
       "      <th>fixed acidity</th>\n",
       "      <th>volatile acidity</th>\n",
       "      <th>citric acid</th>\n",
       "      <th>residual sugar</th>\n",
       "      <th>chlorides</th>\n",
       "      <th>free sulfur dioxide</th>\n",
       "      <th>total sulfur dioxide</th>\n",
       "      <th>density</th>\n",
       "      <th>pH</th>\n",
       "      <th>sulphates</th>\n",
       "      <th>alcohol</th>\n",
       "    </tr>\n",
       "  </thead>\n",
       "  <tbody>\n",
       "    <tr>\n",
       "      <th>0</th>\n",
       "      <td>0.247788</td>\n",
       "      <td>0.397260</td>\n",
       "      <td>0.00</td>\n",
       "      <td>0.068493</td>\n",
       "      <td>0.106845</td>\n",
       "      <td>0.140845</td>\n",
       "      <td>0.098940</td>\n",
       "      <td>0.567548</td>\n",
       "      <td>0.606299</td>\n",
       "      <td>0.137725</td>\n",
       "      <td>0.153846</td>\n",
       "    </tr>\n",
       "    <tr>\n",
       "      <th>1</th>\n",
       "      <td>0.283186</td>\n",
       "      <td>0.520548</td>\n",
       "      <td>0.00</td>\n",
       "      <td>0.116438</td>\n",
       "      <td>0.143573</td>\n",
       "      <td>0.338028</td>\n",
       "      <td>0.215548</td>\n",
       "      <td>0.494126</td>\n",
       "      <td>0.362205</td>\n",
       "      <td>0.209581</td>\n",
       "      <td>0.215385</td>\n",
       "    </tr>\n",
       "    <tr>\n",
       "      <th>2</th>\n",
       "      <td>0.283186</td>\n",
       "      <td>0.438356</td>\n",
       "      <td>0.04</td>\n",
       "      <td>0.095890</td>\n",
       "      <td>0.133556</td>\n",
       "      <td>0.197183</td>\n",
       "      <td>0.169611</td>\n",
       "      <td>0.508811</td>\n",
       "      <td>0.409449</td>\n",
       "      <td>0.191617</td>\n",
       "      <td>0.215385</td>\n",
       "    </tr>\n",
       "    <tr>\n",
       "      <th>3</th>\n",
       "      <td>0.584071</td>\n",
       "      <td>0.109589</td>\n",
       "      <td>0.56</td>\n",
       "      <td>0.068493</td>\n",
       "      <td>0.105175</td>\n",
       "      <td>0.225352</td>\n",
       "      <td>0.190813</td>\n",
       "      <td>0.582232</td>\n",
       "      <td>0.330709</td>\n",
       "      <td>0.149701</td>\n",
       "      <td>0.215385</td>\n",
       "    </tr>\n",
       "    <tr>\n",
       "      <th>4</th>\n",
       "      <td>0.247788</td>\n",
       "      <td>0.397260</td>\n",
       "      <td>0.00</td>\n",
       "      <td>0.068493</td>\n",
       "      <td>0.106845</td>\n",
       "      <td>0.140845</td>\n",
       "      <td>0.098940</td>\n",
       "      <td>0.567548</td>\n",
       "      <td>0.606299</td>\n",
       "      <td>0.137725</td>\n",
       "      <td>0.153846</td>\n",
       "    </tr>\n",
       "  </tbody>\n",
       "</table>\n",
       "</div>"
      ],
      "text/plain": [
       "   fixed acidity  volatile acidity  citric acid  residual sugar  chlorides  \\\n",
       "0       0.247788          0.397260         0.00        0.068493   0.106845   \n",
       "1       0.283186          0.520548         0.00        0.116438   0.143573   \n",
       "2       0.283186          0.438356         0.04        0.095890   0.133556   \n",
       "3       0.584071          0.109589         0.56        0.068493   0.105175   \n",
       "4       0.247788          0.397260         0.00        0.068493   0.106845   \n",
       "\n",
       "   free sulfur dioxide  total sulfur dioxide   density        pH  sulphates  \\\n",
       "0             0.140845              0.098940  0.567548  0.606299   0.137725   \n",
       "1             0.338028              0.215548  0.494126  0.362205   0.209581   \n",
       "2             0.197183              0.169611  0.508811  0.409449   0.191617   \n",
       "3             0.225352              0.190813  0.582232  0.330709   0.149701   \n",
       "4             0.140845              0.098940  0.567548  0.606299   0.137725   \n",
       "\n",
       "    alcohol  \n",
       "0  0.153846  \n",
       "1  0.215385  \n",
       "2  0.215385  \n",
       "3  0.215385  \n",
       "4  0.153846  "
      ]
     },
     "execution_count": 33,
     "metadata": {},
     "output_type": "execute_result"
    }
   ],
   "source": [
    "scaler = MinMaxScaler()\n",
    "\n",
    "scaler.fit(x_wine)\n",
    "x_wine = pd.DataFrame(scaler.transform(x_wine))\n",
    "x_wine.columns = [\"fixed acidity\", \"volatile acidity\", \"citric acid\", \"residual sugar\", \"chlorides\", \n",
    "                   \"free sulfur dioxide\", \"total sulfur dioxide\", \"density\", \"pH\", \"sulphates\", \"alcohol\"]\n",
    "\n",
    "x_wine.head()"
   ]
  },
  {
   "cell_type": "code",
   "execution_count": 34,
   "metadata": {},
   "outputs": [
    {
     "data": {
      "text/html": [
       "<div>\n",
       "<style scoped>\n",
       "    .dataframe tbody tr th:only-of-type {\n",
       "        vertical-align: middle;\n",
       "    }\n",
       "\n",
       "    .dataframe tbody tr th {\n",
       "        vertical-align: top;\n",
       "    }\n",
       "\n",
       "    .dataframe thead th {\n",
       "        text-align: right;\n",
       "    }\n",
       "</style>\n",
       "<table border=\"1\" class=\"dataframe\">\n",
       "  <thead>\n",
       "    <tr style=\"text-align: right;\">\n",
       "      <th></th>\n",
       "      <th>BI-RADS</th>\n",
       "      <th>Age</th>\n",
       "      <th>Shape_1</th>\n",
       "      <th>Shape_2</th>\n",
       "      <th>Shape_3</th>\n",
       "      <th>Shape_4</th>\n",
       "      <th>Margin_1</th>\n",
       "      <th>Margin_2</th>\n",
       "      <th>Margin_3</th>\n",
       "      <th>Margin_4</th>\n",
       "      <th>Margin_5</th>\n",
       "      <th>Density_1</th>\n",
       "      <th>Density_2</th>\n",
       "      <th>Density_3</th>\n",
       "      <th>Density_4</th>\n",
       "    </tr>\n",
       "  </thead>\n",
       "  <tbody>\n",
       "    <tr>\n",
       "      <th>0</th>\n",
       "      <td>0.090909</td>\n",
       "      <td>0.628205</td>\n",
       "      <td>0.0</td>\n",
       "      <td>0.0</td>\n",
       "      <td>1.0</td>\n",
       "      <td>0.0</td>\n",
       "      <td>0.0</td>\n",
       "      <td>0.0</td>\n",
       "      <td>0.0</td>\n",
       "      <td>0.0</td>\n",
       "      <td>1.0</td>\n",
       "      <td>0.0</td>\n",
       "      <td>0.0</td>\n",
       "      <td>1.0</td>\n",
       "      <td>0.0</td>\n",
       "    </tr>\n",
       "    <tr>\n",
       "      <th>1</th>\n",
       "      <td>0.072727</td>\n",
       "      <td>0.320513</td>\n",
       "      <td>1.0</td>\n",
       "      <td>0.0</td>\n",
       "      <td>0.0</td>\n",
       "      <td>0.0</td>\n",
       "      <td>1.0</td>\n",
       "      <td>0.0</td>\n",
       "      <td>0.0</td>\n",
       "      <td>0.0</td>\n",
       "      <td>0.0</td>\n",
       "      <td>0.0</td>\n",
       "      <td>0.0</td>\n",
       "      <td>1.0</td>\n",
       "      <td>0.0</td>\n",
       "    </tr>\n",
       "    <tr>\n",
       "      <th>2</th>\n",
       "      <td>0.090909</td>\n",
       "      <td>0.512821</td>\n",
       "      <td>0.0</td>\n",
       "      <td>0.0</td>\n",
       "      <td>0.0</td>\n",
       "      <td>1.0</td>\n",
       "      <td>0.0</td>\n",
       "      <td>0.0</td>\n",
       "      <td>0.0</td>\n",
       "      <td>0.0</td>\n",
       "      <td>1.0</td>\n",
       "      <td>0.0</td>\n",
       "      <td>0.0</td>\n",
       "      <td>1.0</td>\n",
       "      <td>0.0</td>\n",
       "    </tr>\n",
       "    <tr>\n",
       "      <th>3</th>\n",
       "      <td>0.072727</td>\n",
       "      <td>0.128205</td>\n",
       "      <td>1.0</td>\n",
       "      <td>0.0</td>\n",
       "      <td>0.0</td>\n",
       "      <td>0.0</td>\n",
       "      <td>1.0</td>\n",
       "      <td>0.0</td>\n",
       "      <td>0.0</td>\n",
       "      <td>0.0</td>\n",
       "      <td>0.0</td>\n",
       "      <td>0.0</td>\n",
       "      <td>0.0</td>\n",
       "      <td>1.0</td>\n",
       "      <td>0.0</td>\n",
       "    </tr>\n",
       "    <tr>\n",
       "      <th>4</th>\n",
       "      <td>0.090909</td>\n",
       "      <td>0.717949</td>\n",
       "      <td>1.0</td>\n",
       "      <td>0.0</td>\n",
       "      <td>0.0</td>\n",
       "      <td>0.0</td>\n",
       "      <td>0.0</td>\n",
       "      <td>0.0</td>\n",
       "      <td>0.0</td>\n",
       "      <td>0.0</td>\n",
       "      <td>1.0</td>\n",
       "      <td>0.0</td>\n",
       "      <td>0.0</td>\n",
       "      <td>1.0</td>\n",
       "      <td>0.0</td>\n",
       "    </tr>\n",
       "  </tbody>\n",
       "</table>\n",
       "</div>"
      ],
      "text/plain": [
       "    BI-RADS       Age  Shape_1  Shape_2  Shape_3  Shape_4  Margin_1  Margin_2  \\\n",
       "0  0.090909  0.628205      0.0      0.0      1.0      0.0       0.0       0.0   \n",
       "1  0.072727  0.320513      1.0      0.0      0.0      0.0       1.0       0.0   \n",
       "2  0.090909  0.512821      0.0      0.0      0.0      1.0       0.0       0.0   \n",
       "3  0.072727  0.128205      1.0      0.0      0.0      0.0       1.0       0.0   \n",
       "4  0.090909  0.717949      1.0      0.0      0.0      0.0       0.0       0.0   \n",
       "\n",
       "   Margin_3  Margin_4  Margin_5  Density_1  Density_2  Density_3  Density_4  \n",
       "0       0.0       0.0       1.0        0.0        0.0        1.0        0.0  \n",
       "1       0.0       0.0       0.0        0.0        0.0        1.0        0.0  \n",
       "2       0.0       0.0       1.0        0.0        0.0        1.0        0.0  \n",
       "3       0.0       0.0       0.0        0.0        0.0        1.0        0.0  \n",
       "4       0.0       0.0       1.0        0.0        0.0        1.0        0.0  "
      ]
     },
     "execution_count": 34,
     "metadata": {},
     "output_type": "execute_result"
    }
   ],
   "source": [
    "scaler_mammographic = MinMaxScaler()\n",
    "\n",
    "scaler.fit(x_mammographic)\n",
    "x_mammographic = pd.DataFrame(scaler.transform(x_mammographic))\n",
    "x_mammographic.columns = [\"BI-RADS\",\"Age\",\n",
    "                                   \"Shape_1\",\"Shape_2\",\"Shape_3\",\"Shape_4\",\n",
    "                                   \"Margin_1\",\"Margin_2\",\"Margin_3\",\"Margin_4\",\"Margin_5\",\n",
    "                                   \"Density_1\",\"Density_2\", \"Density_3\", \"Density_4\"]\n",
    "\n",
    "x_mammographic.head()"
   ]
  },
  {
   "cell_type": "code",
   "execution_count": 35,
   "metadata": {},
   "outputs": [
    {
     "data": {
      "text/html": [
       "<div>\n",
       "<style scoped>\n",
       "    .dataframe tbody tr th:only-of-type {\n",
       "        vertical-align: middle;\n",
       "    }\n",
       "\n",
       "    .dataframe tbody tr th {\n",
       "        vertical-align: top;\n",
       "    }\n",
       "\n",
       "    .dataframe thead th {\n",
       "        text-align: right;\n",
       "    }\n",
       "</style>\n",
       "<table border=\"1\" class=\"dataframe\">\n",
       "  <thead>\n",
       "    <tr style=\"text-align: right;\">\n",
       "      <th></th>\n",
       "      <th>Recency(months)</th>\n",
       "      <th>Frequency(times)</th>\n",
       "      <th>Monetary</th>\n",
       "      <th>Time(months)</th>\n",
       "    </tr>\n",
       "  </thead>\n",
       "  <tbody>\n",
       "    <tr>\n",
       "      <th>0</th>\n",
       "      <td>0.027027</td>\n",
       "      <td>1.000000</td>\n",
       "      <td>1.000000</td>\n",
       "      <td>1.000000</td>\n",
       "    </tr>\n",
       "    <tr>\n",
       "      <th>1</th>\n",
       "      <td>0.000000</td>\n",
       "      <td>0.244898</td>\n",
       "      <td>0.244898</td>\n",
       "      <td>0.270833</td>\n",
       "    </tr>\n",
       "    <tr>\n",
       "      <th>2</th>\n",
       "      <td>0.013514</td>\n",
       "      <td>0.306122</td>\n",
       "      <td>0.260204</td>\n",
       "      <td>0.343750</td>\n",
       "    </tr>\n",
       "    <tr>\n",
       "      <th>3</th>\n",
       "      <td>0.027027</td>\n",
       "      <td>0.387755</td>\n",
       "      <td>0.387755</td>\n",
       "      <td>0.447917</td>\n",
       "    </tr>\n",
       "    <tr>\n",
       "      <th>4</th>\n",
       "      <td>0.013514</td>\n",
       "      <td>0.469388</td>\n",
       "      <td>0.469388</td>\n",
       "      <td>0.781250</td>\n",
       "    </tr>\n",
       "  </tbody>\n",
       "</table>\n",
       "</div>"
      ],
      "text/plain": [
       "   Recency(months)  Frequency(times)  Monetary  Time(months)\n",
       "0         0.027027          1.000000  1.000000      1.000000\n",
       "1         0.000000          0.244898  0.244898      0.270833\n",
       "2         0.013514          0.306122  0.260204      0.343750\n",
       "3         0.027027          0.387755  0.387755      0.447917\n",
       "4         0.013514          0.469388  0.469388      0.781250"
      ]
     },
     "execution_count": 35,
     "metadata": {},
     "output_type": "execute_result"
    }
   ],
   "source": [
    "scaler_transfusion = MinMaxScaler()\n",
    "\n",
    "scaler.fit(x_transfusion)\n",
    "x_transfusion = pd.DataFrame(scaler.transform(x_transfusion))\n",
    "x_transfusion.columns = ['Recency(months)', 'Frequency(times)', 'Monetary', 'Time(months)']\n",
    "\n",
    "x_transfusion.head()"
   ]
  },
  {
   "cell_type": "markdown",
   "metadata": {},
   "source": [
    "# <font color=magenta> 1. KNeighbourClassifier"
   ]
  },
  {
   "cell_type": "code",
   "execution_count": 36,
   "metadata": {},
   "outputs": [],
   "source": [
    "def k_neighbours_method(X, y, number_of_neighbors) -> None:\n",
    "    \n",
    "    model = KNeighborsClassifier(n_neighbors = number_of_neighbors)\n",
    "    \n",
    "    scores = cross_validate(model, X, y, cv = 5, scoring = ['accuracy','f1_weighted'], return_train_score = True)\n",
    "    \n",
    "    print ('Acuratetea setului de antrenare este:', scores['train_accuracy'],\n",
    "           'si are media:', scores['train_accuracy'].mean())\n",
    "    print ('Acuratetea setului de testare este:', scores['test_accuracy'],\n",
    "           'si are media:', scores['test_accuracy'].mean())\n",
    "    \n",
    "    print ('F1 pentru setul de antrenare este:', scores['train_f1_weighted'],\n",
    "           'si are media', scores['train_f1_weighted'].mean())\n",
    "    print ('F1 pentru setul de testare este:', scores['test_f1_weighted'],\n",
    "           'si are media', scores['test_f1_weighted'].mean())"
   ]
  },
  {
   "cell_type": "code",
   "execution_count": 37,
   "metadata": {},
   "outputs": [
    {
     "name": "stdout",
     "output_type": "stream",
     "text": [
      "Acuratetea setului de antrenare este: [0.74514039 0.74082073 0.73866091 0.76889849 0.75646552] si are media: 0.7499972071199822\n",
      "Acuratetea setului de testare este: [0.64655172 0.69827586 0.68965517 0.6637931  0.67826087] si are media: 0.6753073463268365\n",
      "F1 pentru setul de antrenare este: [0.71559633 0.68930101 0.69506883 0.73035013 0.71415719] si are media 0.7088946994649549\n",
      "F1 pentru setul de testare este: [0.60921968 0.63594107 0.67076243 0.62828214 0.58963036] si are media 0.6267671355359964\n"
     ]
    }
   ],
   "source": [
    "k_neighbours_method(x_indian, y_indian, 10)"
   ]
  },
  {
   "cell_type": "code",
   "execution_count": 38,
   "metadata": {},
   "outputs": [
    {
     "name": "stdout",
     "output_type": "stream",
     "text": [
      "Acuratetea setului de antrenare este: [0.59265051 0.61141517 0.59265051 0.59655981 0.59921875] si are media: 0.5984989493745113\n",
      "Acuratetea setului de testare este: [0.534375   0.5375     0.63125    0.59375    0.58934169] si are media: 0.5772433385579937\n",
      "F1 pentru setul de antrenare este: [0.56963722 0.58200114 0.55534125 0.57052625 0.56642527] si are media 0.5687862257960197\n",
      "F1 pentru setul de testare este: [0.47535029 0.51309811 0.60209033 0.58095024 0.55004792] si are media 0.5443073765758127\n"
     ]
    }
   ],
   "source": [
    "k_neighbours_method(x_wine, y_wine, 73)"
   ]
  },
  {
   "cell_type": "code",
   "execution_count": 39,
   "metadata": {},
   "outputs": [
    {
     "name": "stdout",
     "output_type": "stream",
     "text": [
      "Acuratetea setului de antrenare este: [0.81770833 0.81794538 0.81404421 0.82054616 0.83094928] si are media: 0.8202386757693976\n",
      "Acuratetea setului de testare este: [0.79274611 0.81770833 0.81770833 0.77604167 0.765625  ] si are media: 0.7939658894645941\n",
      "F1 pentru setul de antrenare este: [0.81787205 0.81809062 0.81415474 0.82057972 0.8310618 ] si are media 0.820351786167541\n",
      "F1 pentru setul de testare este: [0.79231911 0.81787156 0.81745415 0.77633975 0.76529819] si are media 0.7938565508295811\n"
     ]
    }
   ],
   "source": [
    "k_neighbours_method(x_mammographic, y_mammographic, 10)"
   ]
  },
  {
   "cell_type": "code",
   "execution_count": 40,
   "metadata": {},
   "outputs": [
    {
     "name": "stdout",
     "output_type": "stream",
     "text": [
      "Acuratetea setului de antrenare este: [0.83110368 0.80434783 0.81939799 0.80133556 0.81803005] si are media: 0.8148430215353348\n",
      "Acuratetea setului de testare este: [0.65333333 0.76666667 0.76       0.77852349 0.77181208] si are media: 0.7460671140939598\n",
      "F1 pentru setul de antrenare este: [0.81248687 0.77775284 0.80244282 0.77018985 0.7954989 ] si are media 0.791674255716994\n",
      "F1 pentru setul de testare este: [0.67763118 0.67183229 0.65636364 0.76951783 0.67886276] si are media 0.6908415391057348\n"
     ]
    }
   ],
   "source": [
    "k_neighbours_method(x_transfusion, y_transfusion, 15)"
   ]
  },
  {
   "cell_type": "markdown",
   "metadata": {},
   "source": [
    "# <font color=Magenta> 2. MLPClassifier"
   ]
  },
  {
   "cell_type": "code",
   "execution_count": 41,
   "metadata": {},
   "outputs": [],
   "source": [
    "def mlp_method(X, y, activ) -> None:\n",
    "    #‘sgd’ refers to stochastic gradient descent.\n",
    "    \n",
    "    model =  MLPClassifier(activation = activ, alpha = 0.01, max_iter = 1000)\n",
    "    \n",
    "    scores = cross_validate(model, X, y, cv = 5, scoring = ['accuracy','f1_weighted'], return_train_score = True)\n",
    "    \n",
    "    print ('Acuratetea setului de antrenare este:', scores['train_accuracy'],\n",
    "           'si are media:', scores['train_accuracy'].mean())\n",
    "    print ('Acuratetea setului de testare este:', scores['test_accuracy'],\n",
    "           'si are media:', scores['test_accuracy'].mean())\n",
    "    \n",
    "    print ('F1 pentru setul de antrenare este:', scores['train_f1_weighted'],\n",
    "           'si are media', scores['train_f1_weighted'].mean())\n",
    "    print ('F1 pentru setul de testare este:', scores['test_f1_weighted'],\n",
    "           'si are media', scores['test_f1_weighted'].mean())"
   ]
  },
  {
   "cell_type": "code",
   "execution_count": 42,
   "metadata": {},
   "outputs": [
    {
     "name": "stdout",
     "output_type": "stream",
     "text": [
      "Acuratetea setului de antrenare este: [0.71922246 0.72354212 0.71490281 0.72138229 0.71551724] si are media: 0.7189133834810457\n",
      "Acuratetea setului de testare este: [0.68103448 0.74137931 0.65517241 0.68965517 0.72173913] si are media: 0.6977961019490255\n",
      "F1 pentru setul de antrenare este: [0.66753514 0.67459993 0.67543005 0.67108178 0.64740267] si are media 0.6672099152883988\n",
      "F1 pentru setul de testare este: [0.6046636  0.6918562  0.62848164 0.63887411 0.62731212] si are media 0.6382375344436472\n"
     ]
    }
   ],
   "source": [
    "mlp_method (x_indian, y_indian, 'tanh')"
   ]
  },
  {
   "cell_type": "code",
   "execution_count": 43,
   "metadata": {},
   "outputs": [
    {
     "name": "stdout",
     "output_type": "stream",
     "text": [
      "Acuratetea setului de antrenare este: [0.61376075 0.61454261 0.59890539 0.60985145 0.6046875 ] si are media: 0.608349540656763\n",
      "Acuratetea setului de testare este: [0.534375   0.55       0.640625   0.6        0.61755486] si are media: 0.5885109717868339\n",
      "F1 pentru setul de antrenare este: [0.5947666  0.59447957 0.57751843 0.59022132 0.58283   ] si are media 0.5879631845656196\n",
      "F1 pentru setul de testare este: [0.48960101 0.53510265 0.62356041 0.58711898 0.58778431] si are media 0.564633470289736\n"
     ]
    }
   ],
   "source": [
    "mlp_method (x_wine, y_wine, 'tanh')"
   ]
  },
  {
   "cell_type": "code",
   "execution_count": 44,
   "metadata": {},
   "outputs": [
    {
     "name": "stdout",
     "output_type": "stream",
     "text": [
      "Acuratetea setului de antrenare este: [0.82682292 0.8023407  0.81924577 0.83615085 0.83094928] si are media: 0.8231019045296921\n",
      "Acuratetea setului de testare este: [0.79274611 0.82291667 0.828125   0.77604167 0.796875  ] si are media: 0.8033408894645941\n",
      "F1 pentru setul de antrenare este: [0.82694758 0.80257595 0.81945419 0.83611796 0.83094928] si are media 0.8232089907857272\n",
      "F1 pentru setul de testare este: [0.79274611 0.82257065 0.82833527 0.77624281 0.79605521] si are media 0.8031900101767452\n"
     ]
    }
   ],
   "source": [
    "mlp_method (x_mammographic, y_mammographic, 'tanh')"
   ]
  },
  {
   "cell_type": "code",
   "execution_count": 45,
   "metadata": {},
   "outputs": [
    {
     "name": "stdout",
     "output_type": "stream",
     "text": [
      "Acuratetea setului de antrenare este: [0.77926421 0.77591973 0.77424749 0.78797997 0.77295492] si are media: 0.7780732659225801\n",
      "Acuratetea setului de testare este: [0.84       0.76       0.75333333 0.82550336 0.76510067] si are media: 0.7887874720357942\n",
      "F1 pentru setul de antrenare este: [0.72137054 0.71323584 0.71210067 0.73742743 0.70830242] si are media 0.7184873798412597\n",
      "F1 pentru setul de testare este: [0.84778961 0.65636364 0.65307985 0.81181439 0.66328119] si are media 0.7264657360466323\n"
     ]
    }
   ],
   "source": [
    "mlp_method(x_transfusion, y_transfusion, 'tanh')"
   ]
  },
  {
   "cell_type": "markdown",
   "metadata": {},
   "source": [
    "# <font color=Magenta> 3. SVC"
   ]
  },
  {
   "cell_type": "code",
   "execution_count": 46,
   "metadata": {},
   "outputs": [],
   "source": [
    "def svc_method(X, y) -> None:\n",
    "    \n",
    "    model = SVC(class_weight = None, random_state = 10)\n",
    "    \n",
    "    scores = cross_validate(model, X, y, cv = 5, scoring = ['accuracy','f1_weighted'], return_train_score = True)\n",
    "    \n",
    "    print ('Acuratetea setului de antrenare este:', scores['train_accuracy'],\n",
    "           'si are media:', scores['train_accuracy'].mean())\n",
    "    print ('Acuratetea setului de testare este:', scores['test_accuracy'],\n",
    "           'si are media:', scores['test_accuracy'].mean())\n",
    "    \n",
    "    print ('F1 pentru setul de antrenare este:', scores['train_f1_weighted'],\n",
    "           'si are media', scores['train_f1_weighted'].mean())\n",
    "    print ('F1 pentru setul de testare este:', scores['test_f1_weighted'],\n",
    "           'si are media', scores['test_f1_weighted'].mean())"
   ]
  },
  {
   "cell_type": "code",
   "execution_count": 47,
   "metadata": {},
   "outputs": [
    {
     "name": "stdout",
     "output_type": "stream",
     "text": [
      "Acuratetea setului de antrenare este: [0.71490281 0.71490281 0.71490281 0.71490281 0.71551724] si are media: 0.7150256944961645\n",
      "Acuratetea setului de testare este: [0.71551724 0.71551724 0.71551724 0.71551724 0.71304348] si are media: 0.7150224887556222\n",
      "F1 pentru setul de antrenare este: [0.59605247 0.59605247 0.59605247 0.59605247 0.59686363] si are media 0.5962146992463697\n",
      "F1 pentru setul de testare este: [0.59686363 0.59686363 0.59686363 0.59686363 0.59359965] si are media 0.596210832165225\n"
     ]
    }
   ],
   "source": [
    "svc_method (x_indian, y_indian)"
   ]
  },
  {
   "cell_type": "code",
   "execution_count": 48,
   "metadata": {},
   "outputs": [
    {
     "name": "stdout",
     "output_type": "stream",
     "text": [
      "Acuratetea setului de antrenare este: [0.64034402 0.66379984 0.63721658 0.65832682 0.65390625] si are media: 0.6507187011336982\n",
      "Acuratetea setului de testare este: [0.5375     0.5375     0.625      0.59375    0.59247649] si are media: 0.5772452978056426\n",
      "F1 pentru setul de antrenare este: [0.61667952 0.63695757 0.60719331 0.63102646 0.62484574] si are media 0.6233405191941002\n",
      "F1 pentru setul de testare este: [0.48150151 0.51086333 0.58469502 0.57738078 0.5565527 ] si are media 0.5421986690011844\n"
     ]
    }
   ],
   "source": [
    "svc_method (x_wine, y_wine)"
   ]
  },
  {
   "cell_type": "code",
   "execution_count": 49,
   "metadata": {},
   "outputs": [
    {
     "name": "stdout",
     "output_type": "stream",
     "text": [
      "Acuratetea setului de antrenare este: [0.80859375 0.79973992 0.80624187 0.81274382 0.80754226] si are media: 0.8069723260728219\n",
      "Acuratetea setului de testare este: [0.77720207 0.8125     0.79166667 0.75       0.80729167] si are media: 0.7877320811744386\n",
      "F1 pentru setul de antrenare este: [0.80880901 0.80001331 0.80649859 0.81295214 0.80775637] si are media 0.8072058841864367\n",
      "F1 pentru setul de testare este: [0.77741824 0.81188905 0.79125616 0.75027201 0.80735994] si are media 0.7876390775814224\n"
     ]
    }
   ],
   "source": [
    "svc_method (x_mammographic, y_mammographic)"
   ]
  },
  {
   "cell_type": "code",
   "execution_count": 50,
   "metadata": {},
   "outputs": [
    {
     "name": "stdout",
     "output_type": "stream",
     "text": [
      "Acuratetea setului de antrenare este: [0.77759197 0.78093645 0.78762542 0.77963272 0.77462437] si are media: 0.7800821882624888\n",
      "Acuratetea setului de testare este: [0.81333333 0.76       0.75333333 0.79865772 0.76510067] si are media: 0.7780850111856823\n",
      "F1 pentru setul de antrenare este: [0.70806759 0.71245755 0.73282226 0.71066723 0.70733252] si are media 0.7142694287220264\n",
      "F1 pentru setul de testare este: [0.79933333 0.65636364 0.65307985 0.7711762  0.66328119] si are media 0.7086468408657136\n"
     ]
    }
   ],
   "source": [
    "svc_method(x_transfusion, y_transfusion)"
   ]
  },
  {
   "cell_type": "markdown",
   "metadata": {},
   "source": [
    "# <font color = magenta> 4. GaussianProcessClassifier"
   ]
  },
  {
   "cell_type": "code",
   "execution_count": 51,
   "metadata": {},
   "outputs": [],
   "source": [
    "def gaussian_method(X, y) -> None:\n",
    "    \n",
    "    model = GaussianProcessClassifier(random_state = 10)\n",
    "    \n",
    "    scores = cross_validate(model, X, y, cv = 5, scoring = ['accuracy','f1_weighted'], return_train_score = True)\n",
    "    \n",
    "    print ('Acuratetea setului de antrenare este:', scores['train_accuracy'],\n",
    "           'si are media:', scores['train_accuracy'].mean())\n",
    "    print ('Acuratetea setului de testare este:', scores['test_accuracy'],\n",
    "           'si are media:', scores['test_accuracy'].mean())\n",
    "    \n",
    "    print ('F1 pentru setul de antrenare este:', scores['train_f1_weighted'],\n",
    "           'si are media', scores['train_f1_weighted'].mean())\n",
    "    print ('F1 pentru setul de testare este:', scores['test_f1_weighted'],\n",
    "           'si are media', scores['test_f1_weighted'].mean())"
   ]
  },
  {
   "cell_type": "code",
   "execution_count": 52,
   "metadata": {},
   "outputs": [
    {
     "name": "stdout",
     "output_type": "stream",
     "text": [
      "Acuratetea setului de antrenare este: [0.71274298 0.71490281 0.71922246 0.71490281 0.71551724] si are media: 0.7154576599389291\n",
      "Acuratetea setului de testare este: [0.71551724 0.71551724 0.71551724 0.71551724 0.71304348] si are media: 0.7150224887556222\n",
      "F1 pentru setul de antrenare este: [0.59500108 0.59605247 0.60606801 0.59605247 0.59686363] si are media 0.5980075304136406\n",
      "F1 pentru setul de testare este: [0.59686363 0.59686363 0.61191518 0.59686363 0.59359965] si are media 0.5992211426509134\n"
     ]
    }
   ],
   "source": [
    "gaussian_method(x_indian, y_indian)"
   ]
  },
  {
   "cell_type": "code",
   "execution_count": 53,
   "metadata": {},
   "outputs": [
    {
     "name": "stdout",
     "output_type": "stream",
     "text": [
      "Acuratetea setului de antrenare este: [0.58639562 0.59890539 0.5809226  0.59030493 0.590625  ] si are media: 0.5894307075840499\n",
      "Acuratetea setului de testare este: [0.571875  0.509375  0.603125  0.6       0.5830721] si are media: 0.573489420062696\n",
      "F1 pentru setul de antrenare este: [0.53992837 0.54983783 0.53683617 0.54801984 0.54341459] si are media 0.5436073586584583\n",
      "F1 pentru setul de testare este: [0.50641926 0.47879692 0.54594156 0.56309748 0.52867567] si are media 0.5245861788156014\n"
     ]
    }
   ],
   "source": [
    "gaussian_method(x_wine, y_wine)"
   ]
  },
  {
   "cell_type": "code",
   "execution_count": 54,
   "metadata": {},
   "outputs": [
    {
     "name": "stdout",
     "output_type": "stream",
     "text": [
      "Acuratetea setului de antrenare este: [0.81510417 0.80754226 0.8153446  0.82054616 0.8153446 ] si are media: 0.8147763599913308\n",
      "Acuratetea setului de testare este: [0.78756477 0.82291667 0.80729167 0.77083333 0.79166667] si are media: 0.7960546200345423\n",
      "F1 pentru setul de antrenare este: [0.81533884 0.807805   0.81559237 0.8207458  0.81559784] si are media 0.815015969793245\n",
      "F1 pentru setul de testare este: [0.78764503 0.82257065 0.80735994 0.77108267 0.79180283] si are media 0.7960922249673777\n"
     ]
    }
   ],
   "source": [
    "gaussian_method(x_mammographic, y_mammographic)"
   ]
  },
  {
   "cell_type": "code",
   "execution_count": 55,
   "metadata": {},
   "outputs": [
    {
     "name": "stdout",
     "output_type": "stream",
     "text": [
      "Acuratetea setului de antrenare este: [0.77424749 0.77424749 0.77591973 0.76460768 0.77629382] si are media: 0.7730632436446474\n",
      "Acuratetea setului de testare este: [0.78       0.76       0.75333333 0.81208054 0.76510067] si are media: 0.774102908277405\n",
      "F1 pentru setul de antrenare este: [0.68919275 0.69673714 0.69777892 0.66888266 0.69703772] si are media 0.6899258380917065\n",
      "F1 pentru setul de testare este: [0.7182264  0.65636364 0.65307985 0.7661768  0.66328119] si are media 0.6914255763907222\n"
     ]
    }
   ],
   "source": [
    "gaussian_method(x_transfusion, y_transfusion)"
   ]
  },
  {
   "cell_type": "markdown",
   "metadata": {},
   "source": [
    "# <font color=magenta> 5. GaussianNB"
   ]
  },
  {
   "cell_type": "code",
   "execution_count": 56,
   "metadata": {},
   "outputs": [],
   "source": [
    "def gaussian_nb_method(X, y) -> None:\n",
    "    \n",
    "    model = GaussianNB()\n",
    "    \n",
    "    scores = cross_validate(model, X, y, cv = 5, scoring = ['accuracy','f1_weighted'], return_train_score = True)\n",
    "    \n",
    "    print ('Acuratetea setului de antrenare este:', scores['train_accuracy'],\n",
    "           'si are media:', scores['train_accuracy'].mean())\n",
    "    print ('Acuratetea setului de testare este:', scores['test_accuracy'],\n",
    "           'si are media:', scores['test_accuracy'].mean())\n",
    "    \n",
    "    print ('F1 pentru setul de antrenare este:', scores['train_f1_weighted'],\n",
    "           'si are media', scores['train_f1_weighted'].mean())\n",
    "    print ('F1 pentru setul de testare este:', scores['test_f1_weighted'],\n",
    "           'si are media', scores['test_f1_weighted'].mean())"
   ]
  },
  {
   "cell_type": "code",
   "execution_count": 57,
   "metadata": {},
   "outputs": [
    {
     "name": "stdout",
     "output_type": "stream",
     "text": [
      "Acuratetea setului de antrenare este: [0.57235421 0.58315335 0.58099352 0.55507559 0.51724138] si are media: 0.5617636106352871\n",
      "Acuratetea setului de testare este: [0.5862069  0.59482759 0.43103448 0.5        0.70434783] si are media: 0.5632833583208395\n",
      "F1 pentru setul de antrenare este: [0.57576679 0.59012777 0.5863939  0.55786571 0.51253036] si are media 0.5645369057474724\n",
      "F1 pentru setul de testare este: [0.5965888  0.60786238 0.39923533 0.48267622 0.71594649] si are media 0.5604618445599847\n"
     ]
    }
   ],
   "source": [
    "gaussian_nb_method(x_indian, y_indian)"
   ]
  },
  {
   "cell_type": "code",
   "execution_count": 58,
   "metadata": {},
   "outputs": [
    {
     "name": "stdout",
     "output_type": "stream",
     "text": [
      "Acuratetea setului de antrenare este: [0.57857701 0.56763096 0.55981235 0.55512119 0.56640625] si are media: 0.5655095533620016\n",
      "Acuratetea setului de testare este: [0.49375    0.4625     0.5875     0.496875   0.57053292] si are media: 0.5222315830721004\n",
      "F1 pentru setul de antrenare este: [0.58483603 0.56655814 0.55734532 0.55500248 0.56782543] si are media 0.5663134811046133\n",
      "F1 pentru setul de testare este: [0.49347686 0.45955206 0.58256095 0.50030087 0.56716433] si are media 0.5206110161790701\n"
     ]
    }
   ],
   "source": [
    "gaussian_nb_method(x_wine, y_wine)"
   ]
  },
  {
   "cell_type": "code",
   "execution_count": 59,
   "metadata": {},
   "outputs": [
    {
     "name": "stdout",
     "output_type": "stream",
     "text": [
      "Acuratetea setului de antrenare este: [0.78645833 0.79323797 0.78543563 0.79063719 0.78413524] si are media: 0.7879808734286953\n",
      "Acuratetea setului de testare este: [0.75129534 0.80729167 0.77604167 0.77604167 0.76041667] si are media: 0.7742174006908462\n",
      "F1 pentru setul de antrenare este: [0.78674116 0.79352161 0.78571053 0.79079073 0.78430745] si are media 0.7882142965108653\n",
      "F1 pentru setul de testare este: [0.74959765 0.80679471 0.77633975 0.77633975 0.75994458] si are media 0.7738032885300136\n"
     ]
    }
   ],
   "source": [
    "gaussian_nb_method(x_mammographic, y_mammographic)"
   ]
  },
  {
   "cell_type": "code",
   "execution_count": 60,
   "metadata": {},
   "outputs": [
    {
     "name": "stdout",
     "output_type": "stream",
     "text": [
      "Acuratetea setului de antrenare este: [0.7541806  0.75585284 0.75585284 0.74791319 0.76293823] si are media: 0.7553475413314276\n",
      "Acuratetea setului de testare este: [0.70666667 0.72       0.76666667 0.79865772 0.76510067] si are media: 0.7514183445190157\n",
      "F1 pentru setul de antrenare este: [0.71060453 0.72199815 0.71924873 0.70689237 0.72218403] si are media 0.7161855627688861\n",
      "F1 pentru setul de testare este: [0.71398475 0.65520027 0.68269968 0.78908047 0.69527959] si are media 0.7072489542850445\n"
     ]
    }
   ],
   "source": [
    "gaussian_nb_method(x_transfusion, y_transfusion)"
   ]
  },
  {
   "cell_type": "markdown",
   "metadata": {},
   "source": [
    "<font color=blue>Ex3:</font> Documentati in jupyter notebook fiecare din modelele folosite, in limba romana. Daca acelasi algoritm e folosit pentru mai multe seturi de date, puteti face o sectiune separata cu documentarea algoritmilor + trimitere la algoritm. "
   ]
  },
  {
   "cell_type": "markdown",
   "metadata": {},
   "source": [
    "# GaussianNB\n",
    "<br>\n",
    "<br>\n",
    "<br>Naive Bayes este cel mai simplu și rapid algoritm de clasificare, care este potrivit pentru o bucată mare de date. Clasificatorul Naive Bayes este utilizat cu succes în diferite aplicații, cum ar fi filtrarea spamului, clasificarea textului, analiza sentimentelor și sisteme de recomandare. Folosește teorema Bayes a probabilității pentru predicția unei clase necunoscute. Este unul dintre cei mai simpli algoritmi de învățare supravegheată. Clasificatorul Naive Bayes presupune că efectul unei anumite caracteristici dintr-o clasă este independent de alte caracteristici.\n",
    "\n",
    "priorsarray-like, shape (n_classes,)\n",
    "Probabilitățile anterioare ale cursurilor. Dacă este specificat, versiunile superioare nu sunt ajustate în funcție de date.\n",
    "\n",
    "var_smoothingfloat, optional (default=1e-9)\n",
    "Porțiunea cea mai mare variație a tuturor caracteristicilor care se adaugă la variații pentru stabilitatea calculului."
   ]
  },
  {
   "cell_type": "markdown",
   "metadata": {},
   "source": [
    "#  Decision Tree Classifier\n",
    "<br>\n",
    "<br>\n",
    "<br>Aceasta metoda poate clasifica atat doua clase cat si mai multe clase intr-un dataset.\n",
    "<br>\n",
    "\n",
    "![title](decisionTree1.png)\n",
    "<br>Parametri:\n",
    "<br>splitter (default='best')-> reprezinta strategia aleasa pentru divizarea nodurilor\n",
    "<br>max_depth (default=None)-> reprezinta adancimea arborelui\n",
    "<br>min_samples_split (default=2)-> nr minim de sample-uri necesare \n",
    "<br>min_samples_leaf (default=1)-> nr minim de sample-uri necesare ca un nod sa fie frunza\n",
    "\n",
    "<br>\n",
    "<br> Exemplu:\n",
    "\n",
    "![title](decisionTree2.png)"
   ]
  },
  {
   "cell_type": "markdown",
   "metadata": {},
   "source": [
    "# Random Forest Classifier\n",
    "<br>\n",
    "<br>\n",
    "<br>Aceasta metoda foloseste o padure de arbori de decizie random.\n",
    "<br>Are ca scop controlul fenomenului de overfitting.\n",
    "\n",
    "![title](randomForest.png)\n",
    "<br>Parametri:\n",
    "<br>n_estimators (default=100)-> nr de arbori din padure\n",
    "<br>max_depth (default=None)-> adancimea arborelui \n",
    "<br>min_samples_split (default=2)-> nr de sample-uri necesare unui nod pentru a se face split\n",
    "<br>min_samples_leaf (default=1)-> nr minim de sample-uri necesare ca un nod sa fie frunza\n",
    "<br>si altele\n",
    "\n",
    "<br>\n",
    "<br>\n",
    "<br>Observatii:\n",
    "<br>n_estimators-> nu produce overfitting daca crestem nr de arbori \n",
    "<br>max_features-> cu cat e mai mic cu atat evitam overfitting-ul, dar daca e prea mic reteaua face undefitting\n",
    "<br>max_depth-> are un rol important, reduce complexitatea"
   ]
  },
  {
   "cell_type": "markdown",
   "metadata": {},
   "source": [
    "# Multi-layer Perceptron classifier\n",
    "<br>\n",
    "<br>\n",
    "<br>Acest model optimizează funcția log-loss folosind LBFGS sau descendență de gradient stocastic.\n",
    "<br>Această implementare funcționează cu date reprezentate ca tablouri numpy dense sau tablouri scipy slabe de valori în virgulă mobilă. Multi-layer Perceptron (MLP) este o clasă a rețelei neuronale artificiale. Un MLP constă din cel puțin trei straturi de noduri: un strat de intrare, un strat ascuns și un strat de ieșire. Cu excepția nodurilor de intrare, fiecare nod este un neuron care utilizează o funcție de activare neliniară. MLP utilizează o tehnică de învățare supravegheată numită backpropagation pentru formare. Straturile sale multiple și activarea neliniară disting MLP de un perceptron liniar. Poate distinge date care nu pot fi separate liniar.\n",
    "Multi-layer Perceptron classifier optimizează funcția log-loss folosind LBFGS sau stochastic gradient descent.\n",
    "\n",
    "![title](mlp.png)\n",
    "\n",
    "<br>\n",
    "<br>Parametri:\n",
    "<br>hidden_layer_sizes ->  numărul de neuroni din stratul ascuns\n",
    "<br>activation (default=’relu’)-> funcție de activare\n",
    "<br>solver (default=’adam’)->  pentru optimizarea ponderilor\n",
    "<br>alpha (default=0.0001)-> parametrul de penalizare L2\n",
    "<br>batch_size (default=’auto’)-> dimensiunea minibatches-urilor pentru optimizarea stocastica\n",
    "<br>learning_rate (default=’constant’)-> rata de învățare pentru actualizări de ponderi\n",
    "<br>learning_rate_init (default=0.001)-> rata inițială de învățare\n",
    "<br>power_t (default=0.5)-> exponent pentru scalare inversă a ratei de învățare \n",
    "<br>max_iter (default=200)-> numărul maxim de iterații\n",
    "<br>shuffle (default=True)-> amestecare de sample-uri la fiecare iterație\n",
    "<br>random_state (default=None)-> generatorul de numere aleatorii\n",
    "<br>tol (default=1e-4)-> toleranță pentru optimizare\n",
    "<br>verbose (default=False)-> printare mesaje de progres în stdout\n",
    "<br>warm_start (default=False)-> reutilizați soluția apelului anterior\n",
    "<br>momentum (default=0.9)-> momentum pentru actualizarea descendenței gradientului\n",
    "<br>nesterovs_momentum (default=True)-> momentumul lui Nesterov\n",
    "<br>early_stopping (default=False)-> va anula automat 10% din datele de instruire și va încheia antrenarea atunci când scorul de validare nu se îmbunătățește \n",
    "<br>validation_fraction (default=0.1)-> proportia datelor de antrenare care vor fi rezervate ca set de validare\n",
    "<br>beta_1 (default=0.9)-> rata de descompunere exponențială pentru estimările vectorului din primul moment\n",
    "<br>beta_2 (default=0.999)-> rata de descompunere exponențială pentru estimările vectorului din al doilea moment\n",
    "<br>epsilon (default=1e-8)-> valoare pentru stabilitatea numerică\n",
    "<br>n_iter_no_change (default=10)-> numărul maxim de epoci pentru a nu respecta îmbunătățirea dată de tol\n",
    "<br>max_fun (default=15000)-> numărul maxim de apeluri ale funcției de loss"
   ]
  },
  {
   "cell_type": "markdown",
   "metadata": {},
   "source": [
    "# GaussianProcessClassifier\n",
    "<br>\n",
    "<br>\n",
    "<br>Este bazată pe aproximarea Laplace. GaussianProcessClassifier suporta clasificarea multi-clasa prin efectuarea unei instruiri si a unei predictii bazate pe one-versus-rest sau one-versus-one.  În cazul one-versus-rest, un clasificator binar de proces Gaussian este montat pentru fiecare clasă, care este instruit să despartă această clasă de restul. În one_vs_one, un clasificator binar de proces Gaussian este montat pentru fiecare pereche de clase, care este instruit sa separe aceste două clase. Predicțiile acestor predictori binari sunt combinate în predicții multiple.\n",
    "Media anterioară a GaussianProcess se presupune a fi zero. Covarianța precedentului este specificată prin trecerea unui obiect kernel. Hiperparametrii kernel-ului sunt optimizati în timpul antrenarii GaussianProcessRegressor prin maximizarea log-marginal-likelihood (LML) bazată pe optimizatorul trecut. Deoarece LML poate avea mai multe optimizări locale, optimizatorul poate fi pornit în mod repetat prin specificarea n_restarts_optimizer. Prima rulare se efectuează întotdeauna pornind de la valorile inițiale ale hiperparametrului kernel-ului. Etapele următoare sunt efectuate din valorile hiperparametrului care au fost alese aleatoriu din intervalul de valori permise. Dacă hiperparametrii inițiali ar trebui să fie ficsi, None poate fi trecut ca optimizator.\n",
    "<br>\n",
    "<br>Parametri:\n",
    "<br>kernel=None -> kernel-ul specifica funcția de covarianță a GP. Dacă nu este trecut niciunul, kernel-ul                                        \"1.0 * RBF (1.0)\" este folosit ca implicit. Hiperparametrii kernelului sunt optimizati în                                      timpul antrenarii\n",
    "<br>optimizer=’fmin_l_bfgs_b’-> poate fi unul dintre optimizatorii suportați intern pentru optimizarea parametrilor kernelului\n",
    "<br>n_restarts_optimizer=0 -> numărul de repornări ale optimizatorului pentru găsirea parametrilor kernelului care maximizează log-marginal-likelihood\n",
    "<br>max_iter_predict=100 -> numărul maxim de iterații \n",
    "<br>copy_X_train=True -> dacă copy_X_train este true, o copie persistentă a datelor de antrenament este stocată în obiect. În caz contrar, este stocată doar o referință la datele de antrenament, ceea ce ar putea determina modificarea predictilor dacă datele sunt modificate extern.\n",
    "random_state\n",
    "<br>multi_class=’one_vs_rest’  -> specifică modul în care sunt tratate problemele de clasificare multi-clasă. Sunt acceptate \"one_vs_rest\" și \"one_vs_one\".\n",
    "<br>n_jobs=None -> numărul de joburi utilizate pentru calcul."
   ]
  },
  {
   "cell_type": "markdown",
   "metadata": {},
   "source": [
    "# KNeighborsClassifier\n",
    "<br>\n",
    "<br>\n",
    "<br>KNN clasifica un obiect prin votul majorității vecinilor obiectului, în spațiul parametrului de intrare. Obiectul este atribuit clasei care este cel mai frecvent întâlnită în cel mai apropiat vecin k (un întreg specificat de programator). Este un algoritm neparametric, leneș. Este neparametric, deoarece nu face nicio ipoteză privind distribuția datelor (datele nu trebuie distribuite în mod normal). Este leneș, deoarece nu învață cu adevărat niciun model și nu face generalizarea datelor (nu instruiește câțiva parametri ai unei anumite funcții, unde intrarea X dă output y).\n",
    "În mod strict vorbind, acest nu este un algoritm de învățare. Pur și simplu clasifică obiectele bazate pe similaritatea caracteristicilor (caracteristică = variabile de intrare). Clasificarea se calculează prin votul majorității simple a celor mai apropiați vecini k din fiecare punct.\n",
    "\n",
    "![title](knn.png)\n",
    "\n",
    "<br>\n",
    "<br>Parametri:\n",
    "<br>n_neighbors (default = 5)-> numărul de vecini care vor fi folosiți\n",
    "<br>weights (default = ‘uniform’)-> funcția de ponderi folosită în predicție\n",
    "<br>algorithm -> algoritmul folosit pentru calcularea vecinilor\n",
    "<br>leaf_size (default = 30)-> dimensiunea frunzelor pentru BallTree sau KDTree\n",
    "<br>p (default = 2)-> parametru de putere pentru metrica Minkowski\n",
    "<br>metric (default ‘minkowski’)-> distanța utilizată pentru arbore\n",
    "<br>metric_params (default = None)-> argumente suplimentare pentru funcția metrică\n",
    "<br>n_jobs (default=None)-> numărul de joburi utilizate pentru calcul\n"
   ]
  },
  {
   "cell_type": "markdown",
   "metadata": {},
   "source": [
    "# C-Support Vector Classification\n",
    "<br>\n",
    "<br>\n",
    "<br>Implementarea se bazează pe libsvm. Support Vector Classification (SVC) este o metodă care se bazează, de asemenea, pe funcțiile kernelului, dar este potrivită pentru învățarea nesupravegheată. Este considerată o metodă fundamentală în știința datelor. Implementarea se bazează pe \"libsvm\". Complexitatea timpului de antrenare este mai mult decât quadratic cu numărul de sample-uri care face dificilă scalarea setului de date cu mai mult de 10000 de sample-uri. Suportul multiclass este tratat în conformitate cu o schemă one-vs-one.\n",
    "\n",
    "![title](svc.png)\n",
    "<br>\n",
    "<br>Parametri:\n",
    "<br>C (default=1.0)-> parametrul de regularizare\n",
    "<br>kernel (default=’rbf’)-> nucleul care specifică funcția de covarianță \n",
    "<br>degree (default=3)-> gradul funcției nucleului polinomial \n",
    "<br>gamma (default=’scale’)-> coeficientul de nucleu\n",
    "<br>coef0 (default=0.0)-> termen independent în funcția de nucleu\n",
    "<br>shrinking (default=True)-> folosește euristicul micșorat\n",
    "<br>probability (default=False)-> estimări de probabilitate\n",
    "<br>tol (default=1e-3)-> toleranță pentru optimizare \n",
    "<br>cache_size -> specifică dimensiunea memoriei cache a nucleului\n",
    "<br>class_weight -> setați parametrul C al clasei i la clasa_pondere[i]*C pentru SVC\n",
    "<br>verbose -> printare mesaje de progres în stdout \n",
    "<br>max_iter (default=-1)-> numărul maxim de iterații\n",
    "<br>decision_function_shape (default=’ovr’)-> returnează funcția de decizie 'ovr' sau 'ovo' în funcție de formă\n",
    "<br>break_ties -> prezicerea va rupe legăturile în funcție de valorile de încredere ale funcției de decizie\n",
    "<br>random_state -> generatorul de numere aleatorii "
   ]
  },
  {
   "cell_type": "markdown",
   "metadata": {},
   "source": [
    "<font color=blue>Ex4:</font>Pentru fiecare model: efectuati o cautare a hiperparametrilor optimi folosind grid search si random search (cu parametrul cv = 4), folosind 5 fold cross validation. \n",
    "<br>\n",
    "Raportati performanta fiecarui model, folosind 5 fold cross validation. Pentru fiecare din cele 5 rulari, cautati hiperparametrii optimi folosind 4-fold cross validation. Performanta modelului va fi raportata ca medie a celor  5 rulari. \n",
    "    *Observatie:* la fiecare din cele 5 rulari, hiperparametrii optimi pot diferi, din cauza datelor utilizate pentru antrenare/validare.  "
   ]
  },
  {
   "cell_type": "markdown",
   "metadata": {},
   "source": [
    "# <font color=magenta> 1. KNeighbourClassifier"
   ]
  },
  {
   "cell_type": "code",
   "execution_count": 61,
   "metadata": {},
   "outputs": [],
   "source": [
    "def KNN(X, y, n_neighbours, p):\n",
    "    X_train, X_test, y_train, y_test = train_test_split(X, y, test_size = 1/5, random_state = 10)\n",
    "    parameter_grid = {'n_neighbors': n_neighbours, 'p': p}\n",
    "\n",
    "    grid_search = GridSearchCV(estimator = KNeighborsClassifier(), param_grid = parameter_grid, scoring = 'accuracy', \n",
    "                           cv = 5, return_train_score = True)\n",
    "    print(\"Grid Search :\", grid_search.fit(X_train, y_train))\n",
    "\n",
    "    y_estimated_train = grid_search.predict(X_train)\n",
    "    print(\"Accuracy train:\", accuracy_score(y_train, y_estimated_train))\n",
    "\n",
    "    y_estimated_test = grid_search.predict(X_test)\n",
    "    print(\"Accuracy test:\", accuracy_score(y_test, y_estimated_test))\n",
    "\n",
    "    print(\"Best parameter:\", grid_search.best_params_)\n",
    "\n",
    "    scores = cross_val_score(grid_search, X, y, cv = 4)\n",
    "    print(\"Scores accuracy:\", scores)\n",
    "    print(\"Mean accuracy:\", scores.mean())"
   ]
  },
  {
   "cell_type": "code",
   "execution_count": 62,
   "metadata": {},
   "outputs": [
    {
     "name": "stdout",
     "output_type": "stream",
     "text": [
      "Grid Search : GridSearchCV(cv=5, error_score=nan,\n",
      "             estimator=KNeighborsClassifier(algorithm='auto', leaf_size=30,\n",
      "                                            metric='minkowski',\n",
      "                                            metric_params=None, n_jobs=None,\n",
      "                                            n_neighbors=5, p=2,\n",
      "                                            weights='uniform'),\n",
      "             iid='deprecated', n_jobs=None,\n",
      "             param_grid={'n_neighbors': [8, 9, 10, 11], 'p': [1, 1.5, 2]},\n",
      "             pre_dispatch='2*n_jobs', refit=True, return_train_score=True,\n",
      "             scoring='accuracy', verbose=0)\n",
      "Accuracy train: 0.7537796976241901\n",
      "Accuracy test: 0.6724137931034483\n",
      "Best parameter: {'n_neighbors': 10, 'p': 1.5}\n",
      "Scores accuracy: [0.66206897 0.68965517 0.64827586 0.6875    ]\n",
      "Mean accuracy: 0.671875\n"
     ]
    }
   ],
   "source": [
    "KNN(x_indian, y_indian, list(range(8, 12)), [1, 1.5, 2])"
   ]
  },
  {
   "cell_type": "code",
   "execution_count": 63,
   "metadata": {},
   "outputs": [
    {
     "name": "stdout",
     "output_type": "stream",
     "text": [
      "Grid Search : GridSearchCV(cv=5, error_score=nan,\n",
      "             estimator=KNeighborsClassifier(algorithm='auto', leaf_size=30,\n",
      "                                            metric='minkowski',\n",
      "                                            metric_params=None, n_jobs=None,\n",
      "                                            n_neighbors=5, p=2,\n",
      "                                            weights='uniform'),\n",
      "             iid='deprecated', n_jobs=None,\n",
      "             param_grid={'n_neighbors': [68, 69, 70, 71, 72, 73, 74],\n",
      "                         'p': [1, 2, 3, 4.7]},\n",
      "             pre_dispatch='2*n_jobs', refit=True, return_train_score=True,\n",
      "             scoring='accuracy', verbose=0)\n",
      "Accuracy train: 0.6082877247849883\n",
      "Accuracy test: 0.55\n",
      "Best parameter: {'n_neighbors': 69, 'p': 1}\n",
      "Scores accuracy: [0.5375     0.5275     0.6025     0.60150376]\n",
      "Mean accuracy: 0.567250939849624\n"
     ]
    }
   ],
   "source": [
    "KNN(x_wine, y_wine, list(range(68, 75)), [1, 2, 3, 4.7])"
   ]
  },
  {
   "cell_type": "code",
   "execution_count": 64,
   "metadata": {},
   "outputs": [
    {
     "name": "stdout",
     "output_type": "stream",
     "text": [
      "Grid Search : GridSearchCV(cv=5, error_score=nan,\n",
      "             estimator=KNeighborsClassifier(algorithm='auto', leaf_size=30,\n",
      "                                            metric='minkowski',\n",
      "                                            metric_params=None, n_jobs=None,\n",
      "                                            n_neighbors=5, p=2,\n",
      "                                            weights='uniform'),\n",
      "             iid='deprecated', n_jobs=None,\n",
      "             param_grid={'n_neighbors': [5, 6, 7, 8, 9, 10, 11, 12, 13, 14],\n",
      "                         'p': [1, 2, 3, 4.7]},\n",
      "             pre_dispatch='2*n_jobs', refit=True, return_train_score=True,\n",
      "             scoring='accuracy', verbose=0)\n",
      "Accuracy train: 0.8411458333333334\n",
      "Accuracy test: 0.7979274611398963\n",
      "Best parameter: {'n_neighbors': 5, 'p': 1}\n",
      "Scores accuracy: [0.80912863 0.80416667 0.7625     0.8       ]\n",
      "Mean accuracy: 0.7939488243430153\n"
     ]
    }
   ],
   "source": [
    "KNN(x_mammographic, y_mammographic, list(range(5, 15)), [1, 2, 3, 4.7])"
   ]
  },
  {
   "cell_type": "code",
   "execution_count": 65,
   "metadata": {},
   "outputs": [
    {
     "name": "stdout",
     "output_type": "stream",
     "text": [
      "Grid Search : GridSearchCV(cv=5, error_score=nan,\n",
      "             estimator=KNeighborsClassifier(algorithm='auto', leaf_size=30,\n",
      "                                            metric='minkowski',\n",
      "                                            metric_params=None, n_jobs=None,\n",
      "                                            n_neighbors=5, p=2,\n",
      "                                            weights='uniform'),\n",
      "             iid='deprecated', n_jobs=None,\n",
      "             param_grid={'n_neighbors': [1, 2, 3, 4], 'p': [1, 2, 3, 4]},\n",
      "             pre_dispatch='2*n_jobs', refit=True, return_train_score=True,\n",
      "             scoring='accuracy', verbose=0)\n",
      "Accuracy train: 0.842809364548495\n",
      "Accuracy test: 0.7666666666666667\n",
      "Best parameter: {'n_neighbors': 2, 'p': 1}\n",
      "Scores accuracy: [0.47593583 0.75935829 0.73262032 0.78074866]\n",
      "Mean accuracy: 0.6871657754010696\n"
     ]
    }
   ],
   "source": [
    "KNN(x_transfusion, y_transfusion, list(range(1, 5)), [1, 2, 3, 4])"
   ]
  },
  {
   "cell_type": "markdown",
   "metadata": {},
   "source": [
    "# <font color=Magenta> 2. MLPClassifier"
   ]
  },
  {
   "cell_type": "code",
   "execution_count": 66,
   "metadata": {},
   "outputs": [],
   "source": [
    "def MLP(X, y, max_iter):\n",
    "    X_train, X_test, y_train, y_test = train_test_split(X, y, test_size = 1/5)\n",
    "    parameter_grid = {'activation': ['tanh', 'relu'],\n",
    "                 'alpha':[0.01],\n",
    "                 'learning_rate': ['constant'],\n",
    "                 'max_iter': max_iter}\n",
    "\n",
    "    grid_search = GridSearchCV(estimator = MLPClassifier(alpha = 0.01), param_grid = parameter_grid, \n",
    "                               scoring = 'accuracy', cv = 5, return_train_score = True)\n",
    "    print(\"Grid Search :\", grid_search.fit(X_train, y_train))\n",
    "\n",
    "    y_estimated_train = grid_search.predict(X_train)\n",
    "    print(\"Accuracy train:\", accuracy_score(y_train, y_estimated_train))\n",
    "\n",
    "    y_estimated_test = grid_search.predict(X_test)\n",
    "    print(\"Accuracy test:\", accuracy_score(y_test, y_estimated_test))\n",
    "\n",
    "    print(\"Best parameter:\", grid_search.best_params_)\n",
    "\n",
    "    scores = cross_val_score(grid_search, X, y, cv = 4)\n",
    "    print(\"Scores accuracy:\", scores)\n",
    "    print(\"Mean accuracy:\", scores.mean())"
   ]
  },
  {
   "cell_type": "code",
   "execution_count": 67,
   "metadata": {},
   "outputs": [
    {
     "name": "stdout",
     "output_type": "stream",
     "text": [
      "Grid Search : GridSearchCV(cv=5, error_score=nan,\n",
      "             estimator=MLPClassifier(activation='relu', alpha=0.01,\n",
      "                                     batch_size='auto', beta_1=0.9,\n",
      "                                     beta_2=0.999, early_stopping=False,\n",
      "                                     epsilon=1e-08, hidden_layer_sizes=(100,),\n",
      "                                     learning_rate='constant',\n",
      "                                     learning_rate_init=0.001, max_fun=15000,\n",
      "                                     max_iter=200, momentum=0.9,\n",
      "                                     n_iter_no_change=10,\n",
      "                                     nesterovs_momentum=True, power_t=0.5,\n",
      "                                     random_state=None, shuffle=True,\n",
      "                                     solver='adam', tol=0.0001,\n",
      "                                     validation_fraction=0.1, verbose=False,\n",
      "                                     warm_start=False),\n",
      "             iid='deprecated', n_jobs=None,\n",
      "             param_grid={'activation': ['tanh', 'relu'], 'alpha': [0.01],\n",
      "                         'learning_rate': ['constant'],\n",
      "                         'max_iter': [1700, 2000]},\n",
      "             pre_dispatch='2*n_jobs', refit=True, return_train_score=True,\n",
      "             scoring='accuracy', verbose=0)\n",
      "Accuracy train: 0.734341252699784\n",
      "Accuracy test: 0.7155172413793104\n",
      "Best parameter: {'activation': 'tanh', 'alpha': 0.01, 'learning_rate': 'constant', 'max_iter': 1700}\n",
      "Scores accuracy: [0.70344828 0.73103448 0.68965517 0.72916667]\n",
      "Mean accuracy: 0.7133261494252873\n"
     ]
    }
   ],
   "source": [
    "MLP(x_indian, y_indian, [1700, 2000])"
   ]
  },
  {
   "cell_type": "code",
   "execution_count": 68,
   "metadata": {},
   "outputs": [
    {
     "name": "stdout",
     "output_type": "stream",
     "text": [
      "Grid Search : GridSearchCV(cv=5, error_score=nan,\n",
      "             estimator=MLPClassifier(activation='relu', alpha=0.01,\n",
      "                                     batch_size='auto', beta_1=0.9,\n",
      "                                     beta_2=0.999, early_stopping=False,\n",
      "                                     epsilon=1e-08, hidden_layer_sizes=(100,),\n",
      "                                     learning_rate='constant',\n",
      "                                     learning_rate_init=0.001, max_fun=15000,\n",
      "                                     max_iter=200, momentum=0.9,\n",
      "                                     n_iter_no_change=10,\n",
      "                                     nesterovs_momentum=True, power_t=0.5,\n",
      "                                     random_state=None, shuffle=True,\n",
      "                                     solver='adam', tol=0.0001,\n",
      "                                     validation_fraction=0.1, verbose=False,\n",
      "                                     warm_start=False),\n",
      "             iid='deprecated', n_jobs=None,\n",
      "             param_grid={'activation': ['tanh', 'relu'], 'alpha': [0.01],\n",
      "                         'learning_rate': ['constant'],\n",
      "                         'max_iter': [1900, 2200]},\n",
      "             pre_dispatch='2*n_jobs', refit=True, return_train_score=True,\n",
      "             scoring='accuracy', verbose=0)\n",
      "Accuracy train: 0.6684910086004691\n",
      "Accuracy test: 0.63125\n",
      "Best parameter: {'activation': 'relu', 'alpha': 0.01, 'learning_rate': 'constant', 'max_iter': 1900}\n",
      "Scores accuracy: [0.54       0.555      0.605      0.59649123]\n",
      "Mean accuracy: 0.5741228070175439\n"
     ]
    }
   ],
   "source": [
    "MLP(x_wine, y_wine, [1900, 2200])"
   ]
  },
  {
   "cell_type": "code",
   "execution_count": 69,
   "metadata": {},
   "outputs": [
    {
     "name": "stdout",
     "output_type": "stream",
     "text": [
      "Grid Search : GridSearchCV(cv=5, error_score=nan,\n",
      "             estimator=MLPClassifier(activation='relu', alpha=0.01,\n",
      "                                     batch_size='auto', beta_1=0.9,\n",
      "                                     beta_2=0.999, early_stopping=False,\n",
      "                                     epsilon=1e-08, hidden_layer_sizes=(100,),\n",
      "                                     learning_rate='constant',\n",
      "                                     learning_rate_init=0.001, max_fun=15000,\n",
      "                                     max_iter=200, momentum=0.9,\n",
      "                                     n_iter_no_change=10,\n",
      "                                     nesterovs_momentum=True, power_t=0.5,\n",
      "                                     random_state=None, shuffle=True,\n",
      "                                     solver='adam', tol=0.0001,\n",
      "                                     validation_fraction=0.1, verbose=False,\n",
      "                                     warm_start=False),\n",
      "             iid='deprecated', n_jobs=None,\n",
      "             param_grid={'activation': ['tanh', 'relu'], 'alpha': [0.01],\n",
      "                         'learning_rate': ['constant'],\n",
      "                         'max_iter': [1300, 2100]},\n",
      "             pre_dispatch='2*n_jobs', refit=True, return_train_score=True,\n",
      "             scoring='accuracy', verbose=0)\n",
      "Accuracy train: 0.8346354166666666\n",
      "Accuracy test: 0.8082901554404145\n",
      "Best parameter: {'activation': 'relu', 'alpha': 0.01, 'learning_rate': 'constant', 'max_iter': 2100}\n",
      "Scores accuracy: [0.80912863 0.84583333 0.80416667 0.8       ]\n",
      "Mean accuracy: 0.8147821576763485\n"
     ]
    }
   ],
   "source": [
    "MLP(x_mammographic, y_mammographic, [1300, 2100])"
   ]
  },
  {
   "cell_type": "code",
   "execution_count": 70,
   "metadata": {},
   "outputs": [
    {
     "name": "stdout",
     "output_type": "stream",
     "text": [
      "Grid Search : GridSearchCV(cv=5, error_score=nan,\n",
      "             estimator=MLPClassifier(activation='relu', alpha=0.01,\n",
      "                                     batch_size='auto', beta_1=0.9,\n",
      "                                     beta_2=0.999, early_stopping=False,\n",
      "                                     epsilon=1e-08, hidden_layer_sizes=(100,),\n",
      "                                     learning_rate='constant',\n",
      "                                     learning_rate_init=0.001, max_fun=15000,\n",
      "                                     max_iter=200, momentum=0.9,\n",
      "                                     n_iter_no_change=10,\n",
      "                                     nesterovs_momentum=True, power_t=0.5,\n",
      "                                     random_state=None, shuffle=True,\n",
      "                                     solver='adam', tol=0.0001,\n",
      "                                     validation_fraction=0.1, verbose=False,\n",
      "                                     warm_start=False),\n",
      "             iid='deprecated', n_jobs=None,\n",
      "             param_grid={'activation': ['tanh', 'relu'], 'alpha': [0.01],\n",
      "                         'learning_rate': ['constant'],\n",
      "                         'max_iter': [2000, 2500]},\n",
      "             pre_dispatch='2*n_jobs', refit=True, return_train_score=True,\n",
      "             scoring='accuracy', verbose=0)\n",
      "Accuracy train: 0.774247491638796\n",
      "Accuracy test: 0.7666666666666667\n",
      "Best parameter: {'activation': 'relu', 'alpha': 0.01, 'learning_rate': 'constant', 'max_iter': 2500}\n",
      "Scores accuracy: [0.82352941 0.7540107  0.80213904 0.76470588]\n",
      "Mean accuracy: 0.786096256684492\n"
     ]
    }
   ],
   "source": [
    "MLP(x_transfusion, y_transfusion, [2000, 2500])"
   ]
  },
  {
   "cell_type": "markdown",
   "metadata": {},
   "source": [
    "# <font color=Magenta> 3. SVC"
   ]
  },
  {
   "cell_type": "code",
   "execution_count": 71,
   "metadata": {},
   "outputs": [],
   "source": [
    "def SVC_classifier(X, y):\n",
    "    X_train, X_test, y_train, y_test = train_test_split(X, y, test_size = 1/5, random_state = 10)\n",
    "    parameter_grid = {'C': list(range(1, 5)), 'gamma': ['scale', 'auto']}\n",
    "\n",
    "    grid_search = GridSearchCV(estimator = SVC(), param_grid = parameter_grid, scoring = 'accuracy', \n",
    "                           cv = 5, return_train_score = True)\n",
    "    print(\"Grid Search :\", grid_search.fit(X_train, y_train))\n",
    "\n",
    "    y_estimated_train = grid_search.predict(X_train)\n",
    "    print(\"Accuracy train:\", accuracy_score(y_train, y_estimated_train))\n",
    "\n",
    "    y_estimated_test = grid_search.predict(X_test)\n",
    "    print(\"Accuracy test:\", accuracy_score(y_test, y_estimated_test))\n",
    "\n",
    "    print(\"Best parameter:\", grid_search.best_params_)\n",
    "\n",
    "    scores = cross_val_score(grid_search, X, y, cv = 4)\n",
    "    print(\"Scores accuracy:\", scores)\n",
    "    print(\"Mean accuracy:\", scores.mean())"
   ]
  },
  {
   "cell_type": "code",
   "execution_count": 72,
   "metadata": {},
   "outputs": [
    {
     "name": "stdout",
     "output_type": "stream",
     "text": [
      "Grid Search : GridSearchCV(cv=5, error_score=nan,\n",
      "             estimator=SVC(C=1.0, break_ties=False, cache_size=200,\n",
      "                           class_weight=None, coef0=0.0,\n",
      "                           decision_function_shape='ovr', degree=3,\n",
      "                           gamma='scale', kernel='rbf', max_iter=-1,\n",
      "                           probability=False, random_state=None, shrinking=True,\n",
      "                           tol=0.001, verbose=False),\n",
      "             iid='deprecated', n_jobs=None,\n",
      "             param_grid={'C': [1, 2, 3, 4], 'gamma': ['scale', 'auto']},\n",
      "             pre_dispatch='2*n_jobs', refit=True, return_train_score=True,\n",
      "             scoring='accuracy', verbose=0)\n",
      "Accuracy train: 0.7278617710583153\n",
      "Accuracy test: 0.6637931034482759\n",
      "Best parameter: {'C': 1, 'gamma': 'scale'}\n",
      "Scores accuracy: [0.71724138 0.71724138 0.71034483 0.71527778]\n",
      "Mean accuracy: 0.7150263409961686\n"
     ]
    }
   ],
   "source": [
    "SVC_classifier(x_indian, y_indian)"
   ]
  },
  {
   "cell_type": "code",
   "execution_count": 73,
   "metadata": {},
   "outputs": [
    {
     "name": "stdout",
     "output_type": "stream",
     "text": [
      "Grid Search : GridSearchCV(cv=5, error_score=nan,\n",
      "             estimator=SVC(C=1.0, break_ties=False, cache_size=200,\n",
      "                           class_weight=None, coef0=0.0,\n",
      "                           decision_function_shape='ovr', degree=3,\n",
      "                           gamma='scale', kernel='rbf', max_iter=-1,\n",
      "                           probability=False, random_state=None, shrinking=True,\n",
      "                           tol=0.001, verbose=False),\n",
      "             iid='deprecated', n_jobs=None,\n",
      "             param_grid={'C': [1, 2, 3, 4], 'gamma': ['scale', 'auto']},\n",
      "             pre_dispatch='2*n_jobs', refit=True, return_train_score=True,\n",
      "             scoring='accuracy', verbose=0)\n",
      "Accuracy train: 0.6755277560594214\n",
      "Accuracy test: 0.603125\n",
      "Best parameter: {'C': 3, 'gamma': 'scale'}\n",
      "Scores accuracy: [0.5325     0.5375     0.6025     0.60651629]\n",
      "Mean accuracy: 0.5697540726817042\n"
     ]
    }
   ],
   "source": [
    "SVC_classifier(x_wine, y_wine)"
   ]
  },
  {
   "cell_type": "code",
   "execution_count": 74,
   "metadata": {},
   "outputs": [
    {
     "name": "stdout",
     "output_type": "stream",
     "text": [
      "Grid Search : GridSearchCV(cv=5, error_score=nan,\n",
      "             estimator=SVC(C=1.0, break_ties=False, cache_size=200,\n",
      "                           class_weight=None, coef0=0.0,\n",
      "                           decision_function_shape='ovr', degree=3,\n",
      "                           gamma='scale', kernel='rbf', max_iter=-1,\n",
      "                           probability=False, random_state=None, shrinking=True,\n",
      "                           tol=0.001, verbose=False),\n",
      "             iid='deprecated', n_jobs=None,\n",
      "             param_grid={'C': [1, 2, 3, 4], 'gamma': ['scale', 'auto']},\n",
      "             pre_dispatch='2*n_jobs', refit=True, return_train_score=True,\n",
      "             scoring='accuracy', verbose=0)\n",
      "Accuracy train: 0.80859375\n",
      "Accuracy test: 0.772020725388601\n",
      "Best parameter: {'C': 1, 'gamma': 'scale'}\n",
      "Scores accuracy: [0.78838174 0.81666667 0.75833333 0.7875    ]\n",
      "Mean accuracy: 0.7877204356846473\n"
     ]
    }
   ],
   "source": [
    "SVC_classifier(x_mammographic, y_mammographic)"
   ]
  },
  {
   "cell_type": "code",
   "execution_count": 75,
   "metadata": {},
   "outputs": [
    {
     "name": "stdout",
     "output_type": "stream",
     "text": [
      "Grid Search : GridSearchCV(cv=5, error_score=nan,\n",
      "             estimator=SVC(C=1.0, break_ties=False, cache_size=200,\n",
      "                           class_weight=None, coef0=0.0,\n",
      "                           decision_function_shape='ovr', degree=3,\n",
      "                           gamma='scale', kernel='rbf', max_iter=-1,\n",
      "                           probability=False, random_state=None, shrinking=True,\n",
      "                           tol=0.001, verbose=False),\n",
      "             iid='deprecated', n_jobs=None,\n",
      "             param_grid={'C': [1, 2, 3, 4], 'gamma': ['scale', 'auto']},\n",
      "             pre_dispatch='2*n_jobs', refit=True, return_train_score=True,\n",
      "             scoring='accuracy', verbose=0)\n",
      "Accuracy train: 0.7709030100334449\n",
      "Accuracy test: 0.7933333333333333\n",
      "Best parameter: {'C': 1, 'gamma': 'scale'}\n",
      "Scores accuracy: [0.75935829 0.7540107  0.76470588 0.77005348]\n",
      "Mean accuracy: 0.7620320855614974\n"
     ]
    }
   ],
   "source": [
    "SVC_classifier(x_transfusion, y_transfusion)"
   ]
  },
  {
   "cell_type": "markdown",
   "metadata": {},
   "source": [
    "# <font color = magenta> 4. GaussianProcessClassifier"
   ]
  },
  {
   "cell_type": "code",
   "execution_count": 76,
   "metadata": {},
   "outputs": [],
   "source": [
    "def gaussian(X, y):\n",
    "    X_train, X_test, y_train, y_test = train_test_split(X, y, test_size = 1/5)\n",
    "    parameter_grid = {'n_restarts_optimizer': list(range(1, 3)),\n",
    "                     'max_iter_predict': [100, 200]}\n",
    "\n",
    "    grid_search = GridSearchCV(estimator = GaussianProcessClassifier(), param_grid = parameter_grid, \n",
    "                               scoring = 'accuracy', cv = 5, return_train_score = True, n_jobs = 4)\n",
    "    print(\"Grid Search :\", grid_search.fit(X_train, y_train))\n",
    "\n",
    "    y_estimated_train = grid_search.predict(X_train)\n",
    "    print(\"Accuracy train:\", accuracy_score(y_train, y_estimated_train))\n",
    "\n",
    "    y_estimated_test = grid_search.predict(X_test)\n",
    "    print(\"Accuracy test:\", accuracy_score(y_test, y_estimated_test))\n",
    "\n",
    "    print(\"Best parameter:\", grid_search.best_params_)\n",
    "\n",
    "    scores = cross_val_score(grid_search, X, y, cv = 4, error_score = 'raise')\n",
    "    print(\"Scores accuracy:\", scores)\n",
    "    print(\"Mean accuracy:\", scores.mean())"
   ]
  },
  {
   "cell_type": "code",
   "execution_count": 77,
   "metadata": {},
   "outputs": [
    {
     "name": "stdout",
     "output_type": "stream",
     "text": [
      "Grid Search : GridSearchCV(cv=5, error_score=nan,\n",
      "             estimator=GaussianProcessClassifier(copy_X_train=True, kernel=None,\n",
      "                                                 max_iter_predict=100,\n",
      "                                                 multi_class='one_vs_rest',\n",
      "                                                 n_jobs=None,\n",
      "                                                 n_restarts_optimizer=0,\n",
      "                                                 optimizer='fmin_l_bfgs_b',\n",
      "                                                 random_state=None,\n",
      "                                                 warm_start=False),\n",
      "             iid='deprecated', n_jobs=4,\n",
      "             param_grid={'max_iter_predict': [100, 200],\n",
      "                         'n_restarts_optimizer': [1, 2]},\n",
      "             pre_dispatch='2*n_jobs', refit=True, return_train_score=True,\n",
      "             scoring='accuracy', verbose=0)\n",
      "Accuracy train: 0.7257019438444925\n",
      "Accuracy test: 0.6896551724137931\n",
      "Best parameter: {'max_iter_predict': 100, 'n_restarts_optimizer': 1}\n",
      "Scores accuracy: [0.71034483 0.71724138 0.71034483 0.71527778]\n",
      "Mean accuracy: 0.713302203065134\n"
     ]
    }
   ],
   "source": [
    "gaussian(x_indian, y_indian)"
   ]
  },
  {
   "cell_type": "code",
   "execution_count": 78,
   "metadata": {},
   "outputs": [
    {
     "name": "stdout",
     "output_type": "stream",
     "text": [
      "Grid Search : GridSearchCV(cv=5, error_score=nan,\n",
      "             estimator=GaussianProcessClassifier(copy_X_train=True, kernel=None,\n",
      "                                                 max_iter_predict=100,\n",
      "                                                 multi_class='one_vs_rest',\n",
      "                                                 n_jobs=None,\n",
      "                                                 n_restarts_optimizer=0,\n",
      "                                                 optimizer='fmin_l_bfgs_b',\n",
      "                                                 random_state=None,\n",
      "                                                 warm_start=False),\n",
      "             iid='deprecated', n_jobs=4,\n",
      "             param_grid={'max_iter_predict': [100, 200],\n",
      "                         'n_restarts_optimizer': [1, 2]},\n",
      "             pre_dispatch='2*n_jobs', refit=True, return_train_score=True,\n",
      "             scoring='accuracy', verbose=0)\n",
      "Accuracy train: 0.5942142298670836\n",
      "Accuracy test: 0.565625\n",
      "Best parameter: {'max_iter_predict': 100, 'n_restarts_optimizer': 1}\n",
      "Scores accuracy: [0.5475     0.5125     0.6175     0.59649123]\n",
      "Mean accuracy: 0.5684978070175439\n"
     ]
    }
   ],
   "source": [
    "gaussian(x_wine, y_wine)"
   ]
  },
  {
   "cell_type": "code",
   "execution_count": 79,
   "metadata": {},
   "outputs": [
    {
     "name": "stdout",
     "output_type": "stream",
     "text": [
      "Grid Search : GridSearchCV(cv=5, error_score=nan,\n",
      "             estimator=GaussianProcessClassifier(copy_X_train=True, kernel=None,\n",
      "                                                 max_iter_predict=100,\n",
      "                                                 multi_class='one_vs_rest',\n",
      "                                                 n_jobs=None,\n",
      "                                                 n_restarts_optimizer=0,\n",
      "                                                 optimizer='fmin_l_bfgs_b',\n",
      "                                                 random_state=None,\n",
      "                                                 warm_start=False),\n",
      "             iid='deprecated', n_jobs=4,\n",
      "             param_grid={'max_iter_predict': [100, 200],\n",
      "                         'n_restarts_optimizer': [1, 2]},\n",
      "             pre_dispatch='2*n_jobs', refit=True, return_train_score=True,\n",
      "             scoring='accuracy', verbose=0)\n",
      "Accuracy train: 0.80859375\n",
      "Accuracy test: 0.8186528497409327\n",
      "Best parameter: {'max_iter_predict': 100, 'n_restarts_optimizer': 1}\n",
      "Scores accuracy: [0.79253112 0.83333333 0.77083333 0.79166667]\n",
      "Mean accuracy: 0.7970911134163209\n"
     ]
    }
   ],
   "source": [
    "gaussian(x_mammographic, y_mammographic)"
   ]
  },
  {
   "cell_type": "code",
   "execution_count": 80,
   "metadata": {},
   "outputs": [
    {
     "name": "stdout",
     "output_type": "stream",
     "text": [
      "Grid Search : GridSearchCV(cv=5, error_score=nan,\n",
      "             estimator=GaussianProcessClassifier(copy_X_train=True, kernel=None,\n",
      "                                                 max_iter_predict=100,\n",
      "                                                 multi_class='one_vs_rest',\n",
      "                                                 n_jobs=None,\n",
      "                                                 n_restarts_optimizer=0,\n",
      "                                                 optimizer='fmin_l_bfgs_b',\n",
      "                                                 random_state=None,\n",
      "                                                 warm_start=False),\n",
      "             iid='deprecated', n_jobs=4,\n",
      "             param_grid={'max_iter_predict': [100, 200],\n",
      "                         'n_restarts_optimizer': [1, 2]},\n",
      "             pre_dispatch='2*n_jobs', refit=True, return_train_score=True,\n",
      "             scoring='accuracy', verbose=0)\n",
      "Accuracy train: 0.7608695652173914\n",
      "Accuracy test: 0.8333333333333334\n",
      "Best parameter: {'max_iter_predict': 100, 'n_restarts_optimizer': 1}\n",
      "Scores accuracy: [0.77540107 0.7540107  0.79679144 0.76470588]\n",
      "Mean accuracy: 0.7727272727272727\n"
     ]
    }
   ],
   "source": [
    "gaussian(x_transfusion, y_transfusion)"
   ]
  },
  {
   "cell_type": "markdown",
   "metadata": {},
   "source": [
    "# <font color=magenta> 5. GaussianNB"
   ]
  },
  {
   "cell_type": "code",
   "execution_count": 81,
   "metadata": {},
   "outputs": [],
   "source": [
    "def gaussianNB(X, y):\n",
    "    X_train, X_test, y_train, y_test = train_test_split(X, y, test_size = 1/5)\n",
    "    parameter_grid = {'var_smoothing': [1e-4, 5e-6, 1e-9]}\n",
    "\n",
    "    grid_search = GridSearchCV(estimator = GaussianNB(), param_grid = parameter_grid, scoring = 'accuracy', \n",
    "                           cv = 5, return_train_score = True)\n",
    "    print(\"Grid Search :\", grid_search.fit(X_train, y_train))\n",
    "\n",
    "    y_estimated_train = grid_search.predict(X_train)\n",
    "    print(\"Accuracy train:\", accuracy_score(y_train, y_estimated_train))\n",
    "\n",
    "    y_estimated_test = grid_search.predict(X_test)\n",
    "    print(\"Accuracy test:\", accuracy_score(y_test, y_estimated_test))\n",
    "\n",
    "    print(\"Best parameter:\", grid_search.best_params_)\n",
    "    \n",
    "    scores = cross_val_score(grid_search, X, y, cv = 4)\n",
    "    print(\"Scores accuracy:\", scores)\n",
    "    print(\"Mean accuracy:\", scores.mean())"
   ]
  },
  {
   "cell_type": "code",
   "execution_count": 82,
   "metadata": {},
   "outputs": [
    {
     "name": "stdout",
     "output_type": "stream",
     "text": [
      "Grid Search : GridSearchCV(cv=5, error_score=nan,\n",
      "             estimator=GaussianNB(priors=None, var_smoothing=1e-09),\n",
      "             iid='deprecated', n_jobs=None,\n",
      "             param_grid={'var_smoothing': [0.0001, 5e-06, 1e-09]},\n",
      "             pre_dispatch='2*n_jobs', refit=True, return_train_score=True,\n",
      "             scoring='accuracy', verbose=0)\n",
      "Accuracy train: 0.5442764578833693\n",
      "Accuracy test: 0.5603448275862069\n",
      "Best parameter: {'var_smoothing': 5e-06}\n",
      "Scores accuracy: [0.62758621 0.51724138 0.45517241 0.65972222]\n",
      "Mean accuracy: 0.5649305555555556\n"
     ]
    }
   ],
   "source": [
    "gaussianNB(x_indian, y_indian)"
   ]
  },
  {
   "cell_type": "code",
   "execution_count": 83,
   "metadata": {},
   "outputs": [
    {
     "name": "stdout",
     "output_type": "stream",
     "text": [
      "Grid Search : GridSearchCV(cv=5, error_score=nan,\n",
      "             estimator=GaussianNB(priors=None, var_smoothing=1e-09),\n",
      "             iid='deprecated', n_jobs=None,\n",
      "             param_grid={'var_smoothing': [0.0001, 5e-06, 1e-09]},\n",
      "             pre_dispatch='2*n_jobs', refit=True, return_train_score=True,\n",
      "             scoring='accuracy', verbose=0)\n",
      "Accuracy train: 0.5551211884284597\n",
      "Accuracy test: 0.621875\n",
      "Best parameter: {'var_smoothing': 0.0001}\n",
      "Scores accuracy: [0.5175    0.49      0.5375    0.5839599]\n",
      "Mean accuracy: 0.5322399749373433\n"
     ]
    }
   ],
   "source": [
    "gaussianNB(x_wine, y_wine)"
   ]
  },
  {
   "cell_type": "code",
   "execution_count": 84,
   "metadata": {},
   "outputs": [
    {
     "name": "stdout",
     "output_type": "stream",
     "text": [
      "Grid Search : GridSearchCV(cv=5, error_score=nan,\n",
      "             estimator=GaussianNB(priors=None, var_smoothing=1e-09),\n",
      "             iid='deprecated', n_jobs=None,\n",
      "             param_grid={'var_smoothing': [0.0001, 5e-06, 1e-09]},\n",
      "             pre_dispatch='2*n_jobs', refit=True, return_train_score=True,\n",
      "             scoring='accuracy', verbose=0)\n",
      "Accuracy train: 0.7838541666666666\n",
      "Accuracy test: 0.772020725388601\n",
      "Best parameter: {'var_smoothing': 5e-06}\n",
      "Scores accuracy: [0.76763485 0.8125     0.775      0.76666667]\n",
      "Mean accuracy: 0.7804503803596127\n"
     ]
    }
   ],
   "source": [
    "gaussianNB(x_mammographic, y_mammographic)"
   ]
  },
  {
   "cell_type": "code",
   "execution_count": 85,
   "metadata": {},
   "outputs": [
    {
     "name": "stdout",
     "output_type": "stream",
     "text": [
      "Grid Search : GridSearchCV(cv=5, error_score=nan,\n",
      "             estimator=GaussianNB(priors=None, var_smoothing=1e-09),\n",
      "             iid='deprecated', n_jobs=None,\n",
      "             param_grid={'var_smoothing': [0.0001, 5e-06, 1e-09]},\n",
      "             pre_dispatch='2*n_jobs', refit=True, return_train_score=True,\n",
      "             scoring='accuracy', verbose=0)\n",
      "Accuracy train: 0.754180602006689\n",
      "Accuracy test: 0.7466666666666667\n",
      "Best parameter: {'var_smoothing': 0.0001}\n",
      "Scores accuracy: [0.72192513 0.71122995 0.78609626 0.76470588]\n",
      "Mean accuracy: 0.7459893048128342\n"
     ]
    }
   ],
   "source": [
    "gaussianNB(x_transfusion, y_transfusion)"
   ]
  },
  {
   "cell_type": "markdown",
   "metadata": {},
   "source": [
    "# <font color= magenta> 6. DecisionTreeClassifier"
   ]
  },
  {
   "cell_type": "code",
   "execution_count": 86,
   "metadata": {},
   "outputs": [],
   "source": [
    "def decision_tree(X, y):\n",
    "    X_train, X_test, y_train, y_test = train_test_split(X, y, test_size = 1/5)\n",
    "    parameter_grid = {'max_depth':[3, 4, 5, 6, 7], 'max_leaf_nodes':[5, 10, 15, 20, 25]}\n",
    "\n",
    "    grid_search = GridSearchCV(estimator = DecisionTreeClassifier(), param_grid = parameter_grid, scoring = 'accuracy', \n",
    "                           cv = 5, return_train_score = True)\n",
    "    print(\"Grid Search :\", grid_search.fit(X_train, y_train))\n",
    "\n",
    "    y_estimated_train = grid_search.predict(X_train)\n",
    "    print(\"Accuracy train:\", accuracy_score(y_train, y_estimated_train))\n",
    "\n",
    "    y_estimated_test = grid_search.predict(X_test)\n",
    "    print(\"Accuracy test:\", accuracy_score(y_test, y_estimated_test))\n",
    "\n",
    "    print(\"Best parameter:\", grid_search.best_params_)\n",
    "\n",
    "    scores = cross_val_score(grid_search, X, y, cv = 4)\n",
    "    print(\"Scores accuracy:\", scores)\n",
    "    print(\"Mean accuracy:\", scores.mean())"
   ]
  },
  {
   "cell_type": "code",
   "execution_count": 87,
   "metadata": {},
   "outputs": [
    {
     "name": "stdout",
     "output_type": "stream",
     "text": [
      "Grid Search : GridSearchCV(cv=5, error_score=nan,\n",
      "             estimator=DecisionTreeClassifier(ccp_alpha=0.0, class_weight=None,\n",
      "                                              criterion='gini', max_depth=None,\n",
      "                                              max_features=None,\n",
      "                                              max_leaf_nodes=None,\n",
      "                                              min_impurity_decrease=0.0,\n",
      "                                              min_impurity_split=None,\n",
      "                                              min_samples_leaf=1,\n",
      "                                              min_samples_split=2,\n",
      "                                              min_weight_fraction_leaf=0.0,\n",
      "                                              presort='deprecated',\n",
      "                                              random_state=None,\n",
      "                                              splitter='best'),\n",
      "             iid='deprecated', n_jobs=None,\n",
      "             param_grid={'max_depth': [3, 4, 5, 6, 7],\n",
      "                         'max_leaf_nodes': [5, 10, 15, 20, 25]},\n",
      "             pre_dispatch='2*n_jobs', refit=True, return_train_score=True,\n",
      "             scoring='accuracy', verbose=0)\n",
      "Accuracy train: 0.7775377969762419\n",
      "Accuracy test: 0.7068965517241379\n",
      "Best parameter: {'max_depth': 6, 'max_leaf_nodes': 15}\n",
      "Scores accuracy: [0.67586207 0.66206897 0.62068966 0.69444444]\n",
      "Mean accuracy: 0.6632662835249041\n"
     ]
    }
   ],
   "source": [
    "decision_tree(x_indian, y_indian)"
   ]
  },
  {
   "cell_type": "code",
   "execution_count": 88,
   "metadata": {},
   "outputs": [
    {
     "name": "stdout",
     "output_type": "stream",
     "text": [
      "Grid Search : GridSearchCV(cv=5, error_score=nan,\n",
      "             estimator=DecisionTreeClassifier(ccp_alpha=0.0, class_weight=None,\n",
      "                                              criterion='gini', max_depth=None,\n",
      "                                              max_features=None,\n",
      "                                              max_leaf_nodes=None,\n",
      "                                              min_impurity_decrease=0.0,\n",
      "                                              min_impurity_split=None,\n",
      "                                              min_samples_leaf=1,\n",
      "                                              min_samples_split=2,\n",
      "                                              min_weight_fraction_leaf=0.0,\n",
      "                                              presort='deprecated',\n",
      "                                              random_state=None,\n",
      "                                              splitter='best'),\n",
      "             iid='deprecated', n_jobs=None,\n",
      "             param_grid={'max_depth': [3, 4, 5, 6, 7],\n",
      "                         'max_leaf_nodes': [5, 10, 15, 20, 25]},\n",
      "             pre_dispatch='2*n_jobs', refit=True, return_train_score=True,\n",
      "             scoring='accuracy', verbose=0)\n",
      "Accuracy train: 0.674745895230649\n",
      "Accuracy test: 0.590625\n",
      "Best parameter: {'max_depth': 6, 'max_leaf_nodes': 25}\n",
      "Scores accuracy: [0.53       0.45       0.5675     0.53884712]\n",
      "Mean accuracy: 0.5215867794486215\n"
     ]
    }
   ],
   "source": [
    "decision_tree(x_wine, y_wine)"
   ]
  },
  {
   "cell_type": "code",
   "execution_count": 89,
   "metadata": {},
   "outputs": [
    {
     "name": "stdout",
     "output_type": "stream",
     "text": [
      "Grid Search : GridSearchCV(cv=5, error_score=nan,\n",
      "             estimator=DecisionTreeClassifier(ccp_alpha=0.0, class_weight=None,\n",
      "                                              criterion='gini', max_depth=None,\n",
      "                                              max_features=None,\n",
      "                                              max_leaf_nodes=None,\n",
      "                                              min_impurity_decrease=0.0,\n",
      "                                              min_impurity_split=None,\n",
      "                                              min_samples_leaf=1,\n",
      "                                              min_samples_split=2,\n",
      "                                              min_weight_fraction_leaf=0.0,\n",
      "                                              presort='deprecated',\n",
      "                                              random_state=None,\n",
      "                                              splitter='best'),\n",
      "             iid='deprecated', n_jobs=None,\n",
      "             param_grid={'max_depth': [3, 4, 5, 6, 7],\n",
      "                         'max_leaf_nodes': [5, 10, 15, 20, 25]},\n",
      "             pre_dispatch='2*n_jobs', refit=True, return_train_score=True,\n",
      "             scoring='accuracy', verbose=0)\n",
      "Accuracy train: 0.83203125\n",
      "Accuracy test: 0.8290155440414507\n",
      "Best parameter: {'max_depth': 3, 'max_leaf_nodes': 5}\n",
      "Scores accuracy: [0.82157676 0.84583333 0.8125     0.82083333]\n",
      "Mean accuracy: 0.825185857538036\n"
     ]
    }
   ],
   "source": [
    "decision_tree(x_mammographic, y_mammographic)"
   ]
  },
  {
   "cell_type": "code",
   "execution_count": 90,
   "metadata": {},
   "outputs": [
    {
     "name": "stdout",
     "output_type": "stream",
     "text": [
      "Grid Search : GridSearchCV(cv=5, error_score=nan,\n",
      "             estimator=DecisionTreeClassifier(ccp_alpha=0.0, class_weight=None,\n",
      "                                              criterion='gini', max_depth=None,\n",
      "                                              max_features=None,\n",
      "                                              max_leaf_nodes=None,\n",
      "                                              min_impurity_decrease=0.0,\n",
      "                                              min_impurity_split=None,\n",
      "                                              min_samples_leaf=1,\n",
      "                                              min_samples_split=2,\n",
      "                                              min_weight_fraction_leaf=0.0,\n",
      "                                              presort='deprecated',\n",
      "                                              random_state=None,\n",
      "                                              splitter='best'),\n",
      "             iid='deprecated', n_jobs=None,\n",
      "             param_grid={'max_depth': [3, 4, 5, 6, 7],\n",
      "                         'max_leaf_nodes': [5, 10, 15, 20, 25]},\n",
      "             pre_dispatch='2*n_jobs', refit=True, return_train_score=True,\n",
      "             scoring='accuracy', verbose=0)\n",
      "Accuracy train: 0.8043478260869565\n",
      "Accuracy test: 0.8066666666666666\n",
      "Best parameter: {'max_depth': 4, 'max_leaf_nodes': 5}\n",
      "Scores accuracy: [0.58823529 0.81283422 0.74331551 0.82887701]\n",
      "Mean accuracy: 0.7433155080213905\n"
     ]
    }
   ],
   "source": [
    "decision_tree(x_transfusion, y_transfusion)"
   ]
  },
  {
   "cell_type": "markdown",
   "metadata": {},
   "source": [
    "# <font color= magenta> 7. RandomForestClassifier"
   ]
  },
  {
   "cell_type": "code",
   "execution_count": 91,
   "metadata": {},
   "outputs": [],
   "source": [
    "def random_forest(X, y):\n",
    "    X_train, X_test, y_train, y_test = train_test_split(X, y, test_size = 1/5)\n",
    "    parameter_grid = {'n_estimators': [150, 200, 250], 'max_depth': [2, 3, 5, 6], 'min_samples_leaf': [1, 2, 13, 15]}\n",
    "\n",
    "    grid_search = GridSearchCV(estimator = RandomForestClassifier(), param_grid = parameter_grid, scoring = 'accuracy', \n",
    "                           cv = 5, return_train_score = True)\n",
    "    print(\"Grid Search :\", grid_search.fit(X_train, y_train))\n",
    "\n",
    "    y_estimated_train = grid_search.predict(X_train)\n",
    "    print(\"Accuracy train:\", accuracy_score(y_train, y_estimated_train))\n",
    "\n",
    "    y_estimated_test = grid_search.predict(X_test)\n",
    "    print(\"Accuracy test:\", accuracy_score(y_test, y_estimated_test))\n",
    "\n",
    "    print(\"Best parameter:\", grid_search.best_params_)\n",
    "\n",
    "    scores = cross_val_score(grid_search, X, y, cv = 4)\n",
    "    print(\"Scores accuracy:\", scores)\n",
    "    print(\"Mean accuracy:\", scores.mean())"
   ]
  },
  {
   "cell_type": "code",
   "execution_count": 92,
   "metadata": {},
   "outputs": [
    {
     "name": "stdout",
     "output_type": "stream",
     "text": [
      "Grid Search : GridSearchCV(cv=5, error_score=nan,\n",
      "             estimator=RandomForestClassifier(bootstrap=True, ccp_alpha=0.0,\n",
      "                                              class_weight=None,\n",
      "                                              criterion='gini', max_depth=None,\n",
      "                                              max_features='auto',\n",
      "                                              max_leaf_nodes=None,\n",
      "                                              max_samples=None,\n",
      "                                              min_impurity_decrease=0.0,\n",
      "                                              min_impurity_split=None,\n",
      "                                              min_samples_leaf=1,\n",
      "                                              min_samples_split=2,\n",
      "                                              min_weight_fraction_leaf=0.0,\n",
      "                                              n_estimators=100, n_jobs=None,\n",
      "                                              oob_score=False,\n",
      "                                              random_state=None, verbose=0,\n",
      "                                              warm_start=False),\n",
      "             iid='deprecated', n_jobs=None,\n",
      "             param_grid={'max_depth': [2, 3, 5, 6],\n",
      "                         'min_samples_leaf': [1, 2, 13, 15],\n",
      "                         'n_estimators': [150, 200, 250]},\n",
      "             pre_dispatch='2*n_jobs', refit=True, return_train_score=True,\n",
      "             scoring='accuracy', verbose=0)\n",
      "Accuracy train: 0.7818574514038877\n",
      "Accuracy test: 0.7155172413793104\n",
      "Best parameter: {'max_depth': 5, 'min_samples_leaf': 15, 'n_estimators': 200}\n",
      "Scores accuracy: [0.70344828 0.71034483 0.65517241 0.72222222]\n",
      "Mean accuracy: 0.6977969348659003\n"
     ]
    }
   ],
   "source": [
    "random_forest(x_indian, y_indian)"
   ]
  },
  {
   "cell_type": "code",
   "execution_count": 93,
   "metadata": {},
   "outputs": [
    {
     "name": "stdout",
     "output_type": "stream",
     "text": [
      "Grid Search : GridSearchCV(cv=5, error_score=nan,\n",
      "             estimator=RandomForestClassifier(bootstrap=True, ccp_alpha=0.0,\n",
      "                                              class_weight=None,\n",
      "                                              criterion='gini', max_depth=None,\n",
      "                                              max_features='auto',\n",
      "                                              max_leaf_nodes=None,\n",
      "                                              max_samples=None,\n",
      "                                              min_impurity_decrease=0.0,\n",
      "                                              min_impurity_split=None,\n",
      "                                              min_samples_leaf=1,\n",
      "                                              min_samples_split=2,\n",
      "                                              min_weight_fraction_leaf=0.0,\n",
      "                                              n_estimators=100, n_jobs=None,\n",
      "                                              oob_score=False,\n",
      "                                              random_state=None, verbose=0,\n",
      "                                              warm_start=False),\n",
      "             iid='deprecated', n_jobs=None,\n",
      "             param_grid={'max_depth': [2, 3, 5, 6],\n",
      "                         'min_samples_leaf': [1, 2, 13, 15],\n",
      "                         'n_estimators': [150, 200, 250]},\n",
      "             pre_dispatch='2*n_jobs', refit=True, return_train_score=True,\n",
      "             scoring='accuracy', verbose=0)\n",
      "Accuracy train: 0.7544956997654417\n",
      "Accuracy test: 0.63125\n",
      "Best parameter: {'max_depth': 6, 'min_samples_leaf': 1, 'n_estimators': 200}\n",
      "Scores accuracy: [0.54       0.545      0.5975     0.63408521]\n",
      "Mean accuracy: 0.5791463032581454\n"
     ]
    }
   ],
   "source": [
    "random_forest(x_wine, y_wine)"
   ]
  },
  {
   "cell_type": "code",
   "execution_count": 94,
   "metadata": {},
   "outputs": [
    {
     "name": "stdout",
     "output_type": "stream",
     "text": [
      "Grid Search : GridSearchCV(cv=5, error_score=nan,\n",
      "             estimator=RandomForestClassifier(bootstrap=True, ccp_alpha=0.0,\n",
      "                                              class_weight=None,\n",
      "                                              criterion='gini', max_depth=None,\n",
      "                                              max_features='auto',\n",
      "                                              max_leaf_nodes=None,\n",
      "                                              max_samples=None,\n",
      "                                              min_impurity_decrease=0.0,\n",
      "                                              min_impurity_split=None,\n",
      "                                              min_samples_leaf=1,\n",
      "                                              min_samples_split=2,\n",
      "                                              min_weight_fraction_leaf=0.0,\n",
      "                                              n_estimators=100, n_jobs=None,\n",
      "                                              oob_score=False,\n",
      "                                              random_state=None, verbose=0,\n",
      "                                              warm_start=False),\n",
      "             iid='deprecated', n_jobs=None,\n",
      "             param_grid={'max_depth': [2, 3, 5, 6],\n",
      "                         'min_samples_leaf': [1, 2, 13, 15],\n",
      "                         'n_estimators': [150, 200, 250]},\n",
      "             pre_dispatch='2*n_jobs', refit=True, return_train_score=True,\n",
      "             scoring='accuracy', verbose=0)\n",
      "Accuracy train: 0.81640625\n",
      "Accuracy test: 0.8911917098445595\n",
      "Best parameter: {'max_depth': 2, 'min_samples_leaf': 13, 'n_estimators': 250}\n",
      "Scores accuracy: [0.81742739 0.84166667 0.80833333 0.8125    ]\n",
      "Mean accuracy: 0.8199818464730291\n"
     ]
    }
   ],
   "source": [
    "random_forest(x_mammographic, y_mammographic)"
   ]
  },
  {
   "cell_type": "code",
   "execution_count": 95,
   "metadata": {},
   "outputs": [
    {
     "name": "stdout",
     "output_type": "stream",
     "text": [
      "Grid Search : GridSearchCV(cv=5, error_score=nan,\n",
      "             estimator=RandomForestClassifier(bootstrap=True, ccp_alpha=0.0,\n",
      "                                              class_weight=None,\n",
      "                                              criterion='gini', max_depth=None,\n",
      "                                              max_features='auto',\n",
      "                                              max_leaf_nodes=None,\n",
      "                                              max_samples=None,\n",
      "                                              min_impurity_decrease=0.0,\n",
      "                                              min_impurity_split=None,\n",
      "                                              min_samples_leaf=1,\n",
      "                                              min_samples_split=2,\n",
      "                                              min_weight_fraction_leaf=0.0,\n",
      "                                              n_estimators=100, n_jobs=None,\n",
      "                                              oob_score=False,\n",
      "                                              random_state=None, verbose=0,\n",
      "                                              warm_start=False),\n",
      "             iid='deprecated', n_jobs=None,\n",
      "             param_grid={'max_depth': [2, 3, 5, 6],\n",
      "                         'min_samples_leaf': [1, 2, 13, 15],\n",
      "                         'n_estimators': [150, 200, 250]},\n",
      "             pre_dispatch='2*n_jobs', refit=True, return_train_score=True,\n",
      "             scoring='accuracy', verbose=0)\n",
      "Accuracy train: 0.8244147157190636\n",
      "Accuracy test: 0.8466666666666667\n",
      "Best parameter: {'max_depth': 6, 'min_samples_leaf': 2, 'n_estimators': 250}\n",
      "Scores accuracy: [0.80748663 0.75935829 0.7540107  0.76470588]\n",
      "Mean accuracy: 0.7713903743315508\n"
     ]
    }
   ],
   "source": [
    "random_forest(x_transfusion, y_transfusion)"
   ]
  }
 ],
 "metadata": {
  "kernelspec": {
   "display_name": "Python 3",
   "language": "python",
   "name": "python3"
  },
  "language_info": {
   "codemirror_mode": {
    "name": "ipython",
    "version": 3
   },
   "file_extension": ".py",
   "mimetype": "text/x-python",
   "name": "python",
   "nbconvert_exporter": "python",
   "pygments_lexer": "ipython3",
   "version": "3.7.6"
  },
  "notify_time": "5",
  "toc": {
   "base_numbering": 1,
   "nav_menu": {},
   "number_sections": true,
   "sideBar": true,
   "skip_h1_title": false,
   "title_cell": "Table of Contents",
   "title_sidebar": "Contents",
   "toc_cell": false,
   "toc_position": {},
   "toc_section_display": true,
   "toc_window_display": false
  },
  "varInspector": {
   "cols": {
    "lenName": 16,
    "lenType": 16,
    "lenVar": 40
   },
   "kernels_config": {
    "python": {
     "delete_cmd_postfix": "",
     "delete_cmd_prefix": "del ",
     "library": "var_list.py",
     "varRefreshCmd": "print(var_dic_list())"
    },
    "r": {
     "delete_cmd_postfix": ") ",
     "delete_cmd_prefix": "rm(",
     "library": "var_list.r",
     "varRefreshCmd": "cat(var_dic_list()) "
    }
   },
   "types_to_exclude": [
    "module",
    "function",
    "builtin_function_or_method",
    "instance",
    "_Feature"
   ],
   "window_display": false
  }
 },
 "nbformat": 4,
 "nbformat_minor": 2
}
