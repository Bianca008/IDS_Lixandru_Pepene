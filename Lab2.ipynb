{
 "cells": [
  {
   "cell_type": "markdown",
   "metadata": {},
   "source": [
    "# Exercitii cu functii"
   ]
  },
  {
   "cell_type": "markdown",
   "metadata": {},
   "source": [
    "Ex1: Sa se scrie o functie care primeste ca parametru o lista de numere si returneaza un tuplu continand: suma\n",
    "elementelor si diferenta maxima dintre elementele listei."
   ]
  },
  {
   "cell_type": "code",
   "execution_count": 4,
   "metadata": {},
   "outputs": [],
   "source": [
    "from typing import List, Tuple\n",
    "\n",
    "from itertools import combinations"
   ]
  },
  {
   "cell_type": "code",
   "execution_count": 11,
   "metadata": {},
   "outputs": [],
   "source": [
    "def sum_dif(my_list: List[float])-> Tuple[float, float]:\n",
    "    sum_list = sum(my_list)\n",
    "    first_elem_diff, second_elem_diff = max(combinations(my_list, 2), key = lambda sub: abs(sub[0]-sub[1])) \n",
    "  \n",
    "    return sum_list, abs(first_elem_diff - second_elem_diff)"
   ]
  },
  {
   "cell_type": "code",
   "execution_count": 14,
   "metadata": {},
   "outputs": [
    {
     "name": "stdout",
     "output_type": "stream",
     "text": [
      "(27.9, 9.8)\n"
     ]
    }
   ],
   "source": [
    "my_list= [0.2, 5.3, 4.2, 3.2, 5., 10.]\n",
    "\n",
    "print (sum_dif(my_list))"
   ]
  },
  {
   "cell_type": "markdown",
   "metadata": {},
   "source": [
    "Ex2: Scrieti o functie care preia doua liste si returneaza True daca cele doua liste de numere contin cel putin k\n",
    "elemente comune (k>= 1 dat ca parametru intreg, valoare implicita 1), False altfel."
   ]
  },
  {
   "cell_type": "code",
   "execution_count": 24,
   "metadata": {},
   "outputs": [],
   "source": [
    "def k_commun_elem(first_list: List[float], second_list: List[float], k: int = 1)-> bool:\n",
    "    return len(set(first_list).intersection(second_list)) >= k "
   ]
  },
  {
   "cell_type": "code",
   "execution_count": 29,
   "metadata": {},
   "outputs": [
    {
     "name": "stdout",
     "output_type": "stream",
     "text": [
      "False\n"
     ]
    }
   ],
   "source": [
    "first_list = [2., 9., 8., 7.]\n",
    "second_list = [2., 9., 18., 17.]\n",
    "\n",
    "print (k_commun_elem(first_list,second_list,3))"
   ]
  },
  {
   "cell_type": "markdown",
   "metadata": {},
   "source": [
    "Ex3: Sa se scrie o functie care determina daca o lista contine cuvinte reprezentand doar numere intregi (optional:\n",
    "numere fractionare, scrise sub forma parte intreaga, optional urmata de punct zecimal, optional urmata de\n",
    "parte fractionara: 1, 2., 13.14) (Puteti folosi modulul re pentru lucrul cu expresii regulate.) Functia trebuie\n",
    "sa testeze daca:\n",
    "A. elementele din lista sunt stringuri\n",
    "B. fiecare din stringuri este un numar"
   ]
  },
  {
   "cell_type": "code",
   "execution_count": 59,
   "metadata": {},
   "outputs": [],
   "source": [
    "import re"
   ]
  },
  {
   "cell_type": "code",
   "execution_count": 143,
   "metadata": {},
   "outputs": [],
   "source": [
    "def is_string(my_list: List)-> bool:\n",
    "    string_type = [True if type(elem)== str else False for elem in my_list]\n",
    "    return all(my_list)"
   ]
  },
  {
   "cell_type": "code",
   "execution_count": 144,
   "metadata": {},
   "outputs": [],
   "source": [
    "def is_number(my_list: List)-> bool:\n",
    "    other_list = [re.match(\"^[-+]?([0]|[1-9][0-9]*)$\", item) is not None for item in my_list]\n",
    "    \n",
    "    return all(other_list)"
   ]
  },
  {
   "cell_type": "code",
   "execution_count": 146,
   "metadata": {},
   "outputs": [
    {
     "name": "stdout",
     "output_type": "stream",
     "text": [
      "True\n"
     ]
    }
   ],
   "source": [
    "my_list = [\"0\", \"-1234\", \"1234\", \"10\"]\n",
    "if is_string(my_list):\n",
    "    print (is_number(my_list))\n",
    "else:\n",
    "    print(\"Lista nu contine doar siruri de caractere! Mai incearca o data!\")"
   ]
  },
  {
   "cell_type": "code",
   "execution_count": null,
   "metadata": {},
   "outputs": [],
   "source": []
  },
  {
   "cell_type": "code",
   "execution_count": null,
   "metadata": {},
   "outputs": [],
   "source": []
  },
  {
   "cell_type": "code",
   "execution_count": null,
   "metadata": {},
   "outputs": [],
   "source": []
  }
 ],
 "metadata": {
  "kernelspec": {
   "display_name": "Python 3",
   "language": "python",
   "name": "python3"
  },
  "language_info": {
   "codemirror_mode": {
    "name": "ipython",
    "version": 3
   },
   "file_extension": ".py",
   "mimetype": "text/x-python",
   "name": "python",
   "nbconvert_exporter": "python",
   "pygments_lexer": "ipython3",
   "version": "3.7.6"
  }
 },
 "nbformat": 4,
 "nbformat_minor": 4
}
