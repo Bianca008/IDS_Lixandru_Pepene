{
 "cells": [
  {
   "cell_type": "markdown",
   "metadata": {},
   "source": [
    "<font color= Magenta>*_Lixandru Andreea-Bianca, grupa 382\n",
    "<br>\n",
    "Pepene Adina-Florentina, grupa 382_*"
   ]
  },
  {
   "cell_type": "markdown",
   "metadata": {},
   "source": [
    "# Exercitii cu functii"
   ]
  },
  {
   "cell_type": "markdown",
   "metadata": {},
   "source": [
    "<font color= blue>Ex1:</font> Sa se scrie o functie care primeste ca parametru o lista de numere si returneaza un tuplu continand: suma\n",
    "elementelor si diferenta maxima dintre elementele listei."
   ]
  },
  {
   "cell_type": "code",
   "execution_count": 1,
   "metadata": {},
   "outputs": [],
   "source": [
    "from typing import List, Tuple\n",
    "\n",
    "from itertools import combinations\n",
    "\n",
    "import numpy as np"
   ]
  },
  {
   "cell_type": "code",
   "execution_count": 2,
   "metadata": {},
   "outputs": [],
   "source": [
    "def sum_dif(my_list: List[float])-> Tuple[float, float]:\n",
    "    ''' Aceasta functie determina suma elementelor si diferenta maxima dintre elementele listei\n",
    "    Parametri:\n",
    "    my_list= lista de numere de tip float\n",
    "    Tip returnat: Tuple[float, float]'''\n",
    "    \n",
    "    sum_list = sum(my_list)\n",
    "    first_elem_diff, second_elem_diff = max(combinations(my_list, 2), key = lambda sub: abs(sub[0]-sub[1])) \n",
    "  \n",
    "    return sum_list, abs(first_elem_diff - second_elem_diff)"
   ]
  },
  {
   "cell_type": "code",
   "execution_count": 3,
   "metadata": {},
   "outputs": [
    {
     "name": "stdout",
     "output_type": "stream",
     "text": [
      "(27.9, 9.8)\n"
     ]
    }
   ],
   "source": [
    "my_list: np.array = [0.2, 5.3, 4.2, 3.2, 5., 10.]\n",
    "\n",
    "print (sum_dif(my_list))"
   ]
  },
  {
   "cell_type": "markdown",
   "metadata": {},
   "source": [
    "<font color= blue>Ex2:</font> Scrieti o functie care preia doua liste si returneaza True daca cele doua liste de numere contin cel putin k\n",
    "elemente comune (k>= 1 dat ca parametru intreg, valoare implicita 1), False altfel."
   ]
  },
  {
   "cell_type": "code",
   "execution_count": 4,
   "metadata": {},
   "outputs": [],
   "source": [
    "def k_commun_elem(first_list: List[float], second_list: List[float], k: int = 1)-> bool:\n",
    "    '''Aceasta functie verifica daca doua liste au cel putin k elemente comune.\n",
    "    Parametri:\n",
    "    first_lis, second_list= liste cu numere reale\n",
    "    k= nr minim de elemente comune necesare; setat implicit 1\n",
    "    Tip returnat: bool; True daca exista cel putin k elemnte comune si False, altfel.'''\n",
    "    \n",
    "    return len(set(first_list).intersection(second_list)) >= k "
   ]
  },
  {
   "cell_type": "code",
   "execution_count": 5,
   "metadata": {},
   "outputs": [
    {
     "name": "stdout",
     "output_type": "stream",
     "text": [
      "False\n"
     ]
    }
   ],
   "source": [
    "first_list = [2., 9., 8., 7.]\n",
    "second_list = [2., 9., 18., 17.]\n",
    "\n",
    "print (k_commun_elem(first_list,second_list,3))"
   ]
  },
  {
   "cell_type": "markdown",
   "metadata": {},
   "source": [
    "<font color= blue>Ex3:</font> Sa se scrie o functie care determina daca o lista contine cuvinte reprezentand doar numere intregi (optional:\n",
    "numere fractionare, scrise sub forma parte intreaga, optional urmata de punct zecimal, optional urmata de\n",
    "parte fractionara: 1, 2., 13.14) (Puteti folosi modulul re pentru lucrul cu expresii regulate.) Functia trebuie\n",
    "sa testeze daca:\n",
    "A. elementele din lista sunt stringuri\n",
    "B. fiecare din stringuri este un numar"
   ]
  },
  {
   "cell_type": "code",
   "execution_count": 6,
   "metadata": {},
   "outputs": [],
   "source": [
    "import re"
   ]
  },
  {
   "cell_type": "code",
   "execution_count": 7,
   "metadata": {},
   "outputs": [],
   "source": [
    "def is_string(my_list: List)-> bool:\n",
    "    '''Aceasta functie verifica daca tipul de date al input-ului este string.\n",
    "    Parametri: \n",
    "    my_list= lista pentru care verificam tipul de date\n",
    "    Tip returnat: bool; True daca tipul de date este string si False, altfel.'''\n",
    "    \n",
    "    string_type = [True if type(elem)== str else False for elem in my_list]\n",
    "    return all(my_list)"
   ]
  },
  {
   "cell_type": "code",
   "execution_count": 8,
   "metadata": {},
   "outputs": [],
   "source": [
    "def is_number(my_list: List)-> bool:\n",
    "    '''Aceasta functie verifica daca string-urile primite sunt numere intregi.\n",
    "    Parametri: \n",
    "    my_list= o lista de string-uri\n",
    "    Tip returnat: bool; returneaza True daca fiecare string reprezinta un numar intreg si False, altfel.'''\n",
    "    \n",
    "    other_list = [re.match(\"^[-+]?([0]|[1-9][0-9]*)$\", item) is not None for item in my_list]\n",
    "    \n",
    "    return all(other_list)"
   ]
  },
  {
   "cell_type": "code",
   "execution_count": 9,
   "metadata": {},
   "outputs": [
    {
     "name": "stdout",
     "output_type": "stream",
     "text": [
      "True\n"
     ]
    }
   ],
   "source": [
    "my_list = [\"0\", \"-1234\", \"1234\", \"10\"]\n",
    "if is_string(my_list):\n",
    "    print (is_number(my_list))\n",
    "else:\n",
    "    print(\"Lista nu contine doar siruri de caractere! Mai incearca o data!\")"
   ]
  },
  {
   "cell_type": "markdown",
   "metadata": {},
   "source": [
    "<font color= blue>Ex4:</font> Sa se scrie o functie care returneaza numarul de vocale si de consoane dintr-un parametru dat - rezultatul\n",
    "returnat de functie este tuplu cu doua valori. Cuvantul se va converti la litere mici in interiorul functiei."
   ]
  },
  {
   "cell_type": "code",
   "execution_count": 10,
   "metadata": {},
   "outputs": [],
   "source": [
    "def vowels_and_consonants(word: str)-> Tuple[int, int]:\n",
    "    '''Aceasta functie contorizeaza cate vocale si cate consoane sunt intr-un cuvant.\n",
    "    Parametri: \n",
    "    word= cuvantul pt care vrem sa facem contorizarea \n",
    "    Tip returnat: Tuple[int, int], unde prima valoare reprezinta numarul de vocale din \n",
    "    cuvant si al doilea reprezinta numarul de consoane din cuvant'''\n",
    "    \n",
    "    vowels=['a','e','i','o','u']\n",
    "    number_of_vowels=0\n",
    "    number_of_consonants=0\n",
    "    copy_word=word.lower()\n",
    "    print(copy_word)\n",
    "    \n",
    "    for i in copy_word:\n",
    "        if i in vowels:\n",
    "            number_of_vowels += 1\n",
    "        else:\n",
    "            number_of_consonants += 1\n",
    "            \n",
    "    return number_of_vowels, number_of_consonants"
   ]
  },
  {
   "cell_type": "code",
   "execution_count": 11,
   "metadata": {},
   "outputs": [
    {
     "name": "stdout",
     "output_type": "stream",
     "text": [
      "ABRAcadABRA\n",
      "abracadabra\n",
      "(5, 6)\n"
     ]
    }
   ],
   "source": [
    "word =\"ABRAcadABRA\"\n",
    "print (word)\n",
    "print (vowels_and_consonants(word))"
   ]
  },
  {
   "cell_type": "markdown",
   "metadata": {},
   "source": [
    "<font color= blue>Ex5:</font> Sa se scrie o functie care primind o lista de dictionare, returneaza True daca toate dictionarele contin cel\n",
    "putin n elemente, n transmis ca parametru, False altfel."
   ]
  },
  {
   "cell_type": "code",
   "execution_count": 12,
   "metadata": {},
   "outputs": [],
   "source": [
    "def number_of_elements(dictionary_list: list, n:int)-> bool:\n",
    "    '''Aceasta functie verifica daca toate dictionarele contin n elemente.\n",
    "    Parametri: \n",
    "    dictionary_list= lista de dictionare\n",
    "    n= nr minim de elemente necesare\n",
    "    Tip returnat: bool; returneaza True daca toate dictionarele contin n elemente si False, altfel.'''\n",
    "    \n",
    "    for d in dictionary_list:\n",
    "        if len(d) < n:\n",
    "            return False\n",
    "        \n",
    "    return True"
   ]
  },
  {
   "cell_type": "code",
   "execution_count": 13,
   "metadata": {},
   "outputs": [
    {
     "name": "stdout",
     "output_type": "stream",
     "text": [
      "[{'a': '1', 'b': '2'}, {'d': '4', 'e': '5', 'f': '6'}, {'g': '7', 'h': '8', 'i': '9', 'j': '10'}]\n",
      "True\n"
     ]
    }
   ],
   "source": [
    "dictionary_list = [{'a':'1','b':'2'},{'d':'4','e':'5','f':'6'},{'g':'7','h':'8','i':'9','j':'10'}]\n",
    "print (dictionary_list)\n",
    "print (number_of_elements(dictionary_list,2))"
   ]
  },
  {
   "cell_type": "markdown",
   "metadata": {},
   "source": [
    "<font color= blue>Ex6: </font> Sa se scrie o functie recursiva care sa faca ridicarea la putere a unui numar, astfel:\n",
    "\n",
    "$a^{n}$={\n",
    "            a , daca n=1  SAU \n",
    "            $(a^{n//2})^{2}$ , daca n este par  SAU \n",
    "            $(a^{n//2})^{2}*a$ , daca n este impar, n>1\n",
    "        }\n",
    "\n",
    "unde prin n//2 se reprezinta catul impartirii intregi intre si 2."
   ]
  },
  {
   "cell_type": "code",
   "execution_count": 14,
   "metadata": {},
   "outputs": [],
   "source": [
    "def function(a: int, n: int) -> int:\n",
    "    '''Aceasta functie calculeaza recursiv ridicarea la putere a unui numar.\n",
    "    Parametri: \n",
    "    a= exponentul \n",
    "    n= puterea \n",
    "    Tip returnat: int, valoarea numarul a la puterea n.'''\n",
    "    \n",
    "    if n == 1:\n",
    "        return a\n",
    "    if n%2 == 0:\n",
    "        return function(a, n//2)**2\n",
    "    return function(a, n//2)**2 * a"
   ]
  },
  {
   "cell_type": "code",
   "execution_count": 15,
   "metadata": {},
   "outputs": [
    {
     "name": "stdout",
     "output_type": "stream",
     "text": [
      "1024\n"
     ]
    }
   ],
   "source": [
    "number=2\n",
    "print(function(number,10))"
   ]
  },
  {
   "cell_type": "markdown",
   "metadata": {},
   "source": [
    "# Exercitii simple folosind NumPy"
   ]
  },
  {
   "cell_type": "markdown",
   "metadata": {},
   "source": [
    "<font color= blue>Ex1:</font> (0.5 puncte) Pentru un vector NumPy dat, sa se determine care sunt elementele unice, in ordine\n",
    "descrescatoare. Exemplu: pentru x = np.array([-4, 3, 5, 3, 2, 1, -3, -4, 2, -4]) functia\n",
    "scrisa de dvs va intoarce rezultatul [ 5, 3, 2, 1, -3, -4] ."
   ]
  },
  {
   "cell_type": "code",
   "execution_count": 17,
   "metadata": {},
   "outputs": [],
   "source": [
    "def function(vector: np.array)-> np.array:\n",
    "    '''Aceasta functie returneaza elementele unice in ordine descrescatoare dintr-un array.\n",
    "    Parametri: \n",
    "    vector= un np.array care contine elementele \n",
    "    Tip returnat: np.array, care contine elementele unice in ordine descrescatoare din vector'''\n",
    "    \n",
    "    return np.unique(np.sort(vector))[:: -1]"
   ]
  },
  {
   "cell_type": "code",
   "execution_count": 18,
   "metadata": {},
   "outputs": [
    {
     "name": "stdout",
     "output_type": "stream",
     "text": [
      "[-4  3  5  3  2  1 -3 -4  2 -4]\n",
      "[ 5  3  2  1 -3 -4]\n"
     ]
    }
   ],
   "source": [
    "vector: np.array = np.array([-4, 3, 5, 3, 2, 1, -3, -4, 2, -4])\n",
    "print (vector)\n",
    "print (function(vector))"
   ]
  },
  {
   "cell_type": "markdown",
   "metadata": {},
   "source": [
    "<font color= blue>Ex2:</font> (0.5 puncte) Pentru un vector NumPy dat, sa se determine care e elementul cel mai frecvent si cel mai putin\n",
    "frecvent (tuplu de 2 valori). Daca exista mai multe numere cele mai frecvente (cele mai putin frecvente), se\n",
    "va raporta oricare din ele. Exemplu: pentru x = np.array([-4, 3, 5, 3, 2, 1, -3, -4, 2, -4])\n",
    "functia scrisa de dvs va intoarce rezultatul (-4, -3) ."
   ]
  },
  {
   "cell_type": "code",
   "execution_count": 19,
   "metadata": {},
   "outputs": [],
   "source": [
    "from collections import Counter \n",
    "\n",
    "def function_2(vector: np.array)-> Tuple[int, int]: \n",
    "    '''Aceasta functie determina cel mai frecvent si cel mai putin frecvent element dintr-un vector.\n",
    "    Parametri:\n",
    "    vector= un np.array ce ontine elementele\n",
    "    Tip returnat: un tuplu de int, int, unde prima valoare reprezinta cel mai frecvent element,\n",
    "    iar a doua valoare reprezinta ce mai putin frecvent element din vector'''\n",
    "    \n",
    "    occurence_count: int = Counter(vector) \n",
    "    return occurence_count.most_common()[0][0],occurence_count.most_common()[-1][0]"
   ]
  },
  {
   "cell_type": "code",
   "execution_count": 20,
   "metadata": {},
   "outputs": [
    {
     "name": "stdout",
     "output_type": "stream",
     "text": [
      "(-4, -3)\n"
     ]
    }
   ],
   "source": [
    "vector: np.array = np.array([-4, 3, 5, 3, 2, 1, -3, -4, 2, -4]) \n",
    "print(function_2(vector))"
   ]
  },
  {
   "cell_type": "markdown",
   "metadata": {},
   "source": [
    "<font color= blue>Ex3:</font> (0.5 puncte) Plecand de la o matrice, sa se scrie o functie care returneaza vectorul minimelor de pe linii si\n",
    "vectorul maximelor de pe coloane. Exemplu: pentru matricea mat = np.array([[1, 2, 3, 4], [1, -2,\n",
    "3, -4], [3, 10, 3, 4]]) functia va returna tuplul de vectori: (array([ 1, -4, 3]), array([ 3,\n",
    "10, 3, 4])) . Indicatie: folositi-va de parametrul axis ."
   ]
  },
  {
   "cell_type": "code",
   "execution_count": 21,
   "metadata": {},
   "outputs": [],
   "source": [
    "def function_3(mat: np.array)-> Tuple[np.array, np.array]:\n",
    "    '''Aceasta functie determina vectorul minimelor de pe linii si vectorul maximelor de pe coloane dintr-o matrice.\n",
    "    Parametri: \n",
    "    mat=  este un np.array ce contine elementele \n",
    "    Tip returnat: un tuplu de np.array, np.array, unde primul element reprezinta vectorul minimelor de pe linii,\n",
    "    iar al doilea element reprezinta vectorul maximelor de pe coloane'''\n",
    "    \n",
    "    return np.min(mat,axis=1),np.max(mat,axis=0)"
   ]
  },
  {
   "cell_type": "code",
   "execution_count": 22,
   "metadata": {},
   "outputs": [
    {
     "name": "stdout",
     "output_type": "stream",
     "text": [
      "[[ 1  2  3  4]\n",
      " [ 1 -2  3 -4]\n",
      " [ 3 10  3  4]]\n",
      "(array([ 1, -4,  3]), array([ 3, 10,  3,  4]))\n"
     ]
    }
   ],
   "source": [
    "mat: np.array = np.array([[1, 2, 3, 4], [1, -2, 3, -4], [3, 10, 3, 4]]) \n",
    "print(mat)\n",
    "print(function_3(mat))"
   ]
  },
  {
   "cell_type": "markdown",
   "metadata": {},
   "source": [
    "<font color= blue>Ex4:</font> (0.5 puncte) Pentru o matrice de numere, sa se determine produsul elementelor pe linii sau de pe coloane,\n",
    "in functie de valoarea unui parametru boolean compute_on_lines . Exemplu: pentru matricea mat =\n",
    "np.array([[1, 2, 3, 4], [1, -2, 3, -4], [3, 10, 3, 4]]) si parametrul\n",
    "compute_on_lines=True , functia va returna vectorul [ 24 24 360] , iar pentru\n",
    "compute_on_lines=False se va returna [ 3 -40 27 -64] ."
   ]
  },
  {
   "cell_type": "code",
   "execution_count": 2,
   "metadata": {},
   "outputs": [],
   "source": [
    "def function_4(mat: np.array, compute_on_lines: bool)-> np.array:\n",
    "    '''Aceasta functie calculeaza produsul elementelor pe linii sau pe coloane.\n",
    "    Parametri:\n",
    "    mat= un np.array care contine elementele matricii\n",
    "    compute_on_lines= o valoare booleana; True daca se face calculul produsului pe linii si\n",
    "    False daca se face calculul produsului pe coloane'''\n",
    "    \n",
    "    return np.prod(mat, axis = int(compute_on_lines))"
   ]
  },
  {
   "cell_type": "code",
   "execution_count": 3,
   "metadata": {},
   "outputs": [
    {
     "name": "stdout",
     "output_type": "stream",
     "text": [
      "[ 24  24 360]\n"
     ]
    }
   ],
   "source": [
    "mat: np.array= np.array([[1, 2, 3, 4], [1, -2, 3, -4], [3, 10, 3, 4]]) \n",
    "print(function_4(mat, True))"
   ]
  },
  {
   "cell_type": "markdown",
   "metadata": {},
   "source": [
    "<font color= blue>Ex5:</font> (0.5 puncte) Determinati daca macar unul din elementele unei matrice a este mai mare decat cel de pe\n",
    "pozitie corespondenta din b (adica daca avem macar o pereche de indecsi (i, j) pentru care a[i, j] > b[i, j]).\n",
    "Daca da, se va returna o astfel de pereche de indecsi; daca nu, se va returna None."
   ]
  },
  {
   "cell_type": "code",
   "execution_count": 19,
   "metadata": {},
   "outputs": [],
   "source": [
    "def function_5(a: np.array,b: np.array)-> Tuple[int, int] or None:\n",
    "    '''Aceasta functie verifica daca macar unul din elementele matricii a este mai mare decat\n",
    "    cel de pe pozitia corespondenta din tabloul b.\n",
    "    Parametri:\n",
    "    a, b= matrici de tipul np.array care contin elementele tablourilor \n",
    "    Tip returnat: un tuplu de tip int, int, care semnifica perechea i si j\n",
    "    unde se indeplineste proprietatea a>b'''\n",
    "    \n",
    "    i, j = np.where((a>b)== True)\n",
    "    \n",
    "    if i.size != 0:\n",
    "        return (i[0],j[0])\n",
    "    else:\n",
    "        return None"
   ]
  },
  {
   "cell_type": "code",
   "execution_count": 21,
   "metadata": {},
   "outputs": [
    {
     "name": "stdout",
     "output_type": "stream",
     "text": [
      "Line and column: (2, 2)\n"
     ]
    }
   ],
   "source": [
    "mat:np.array = np.array([[1, 2, 3, 4], [1, -2, 3, -4], [3, 10, 6, 4]]) \n",
    "mat2:np.array = np.array([[1, 2, 3, 4], [1, -2, 3, -4], [3, 10, 5, 4]]) \n",
    "\n",
    "print(\"Line and column:\", function_5(mat, mat2))"
   ]
  },
  {
   "cell_type": "markdown",
   "metadata": {},
   "source": [
    "<font color= blue>Ex6:</font> (0.5 puncte) Construiti o functie care, primind o matrice, determina pe ce pozitii se afla valorile in afara unui\n",
    "interval [min, max] dat prin parametri."
   ]
  },
  {
   "cell_type": "code",
   "execution_count": 27,
   "metadata": {},
   "outputs": [],
   "source": [
    "def function_6 (mat: np.array, a: int, b: int)-> Tuple [np.array, np.array]:\n",
    "    '''Aceasta functie determina pozitiile pe care se afla elementele\n",
    "    din afara unui interval dat.\n",
    "    Parametri: \n",
    "    mat= un np.array ce contine elementele matricii\n",
    "    a= capatul inferior al intervalului\n",
    "    b= capatul superior al intervalului\n",
    "    Tipul returnat: un tiplu de tip [np.array, np.array], unde\n",
    "    primul array contine indicii liniilor si al doilea array contine indicii coloanelor\n",
    "    elementelor care indeplinesc conditia'''\n",
    "    \n",
    "    return np.where(mat<a) or np.where(mat>b)"
   ]
  },
  {
   "cell_type": "code",
   "execution_count": 28,
   "metadata": {},
   "outputs": [
    {
     "name": "stdout",
     "output_type": "stream",
     "text": [
      "[[ 1  2  3  4]\n",
      " [-1 -2 -3 -4]\n",
      " [ 5  6  7  8]]\n",
      "Positions: [(0, 0), (0, 1), (0, 2), (0, 3), (1, 0), (1, 1), (1, 2), (1, 3)]\n"
     ]
    }
   ],
   "source": [
    "from itertools import product\n",
    "mat:np.array = np.array([[1, 2, 3, 4], [-1, -2, -3, -4], [5, 6, 7, 8]]) \n",
    "print(mat)\n",
    "i, j= function_6(mat, 5, 8)\n",
    "print(\"Positions:\", list (zip(i, j)))"
   ]
  },
  {
   "cell_type": "markdown",
   "metadata": {},
   "source": [
    "<font color= blue>Ex7:</font> (1 punct) Se considera vectorul: a = np.array([230, 10, 284, 39, 76]) . Folosind indexarea logica,\n",
    "sa se inmulteasca elementele din vector care sunt mai mici ca 100 cu 2 (restul raman neschimbate).\n",
    "Folosind ciclare, sa se aplice aceeasi operatie pana cand toate elementele devin mai mari ca 100. Sa se\n",
    "afiseze din vectorul final elementele care sunt mai mari de 150 si mai mici de 200."
   ]
  },
  {
   "cell_type": "code",
   "execution_count": 29,
   "metadata": {},
   "outputs": [],
   "source": [
    "def function_7(a: np.array)-> np.array:\n",
    "    '''Aceasta functie multiplica valorile care sunt mai mici de 100 pana cand\n",
    "    ajung mai mari de 100 si returneaza elementele care sunt cuprinse intre 150 si 200.\n",
    "    Parametri: \n",
    "    a= un np.array care contine elementele matricii\n",
    "    Tipul returnat: un np.array ce contine elementele care dupa multiplicare\n",
    "    sunt cuprinse intre 150 si 200'''\n",
    "    \n",
    "    while np.any(a<100):\n",
    "        a[a<100]*= 2\n",
    "        \n",
    "    return a[np.logical_and(a>= 150, a<= 200)]"
   ]
  },
  {
   "cell_type": "code",
   "execution_count": 30,
   "metadata": {},
   "outputs": [
    {
     "name": "stdout",
     "output_type": "stream",
     "text": [
      "[160 156 152]\n"
     ]
    }
   ],
   "source": [
    "a:np.array = np.array([230, 10, 284, 39, 76])\n",
    "\n",
    "print (function_7(a))"
   ]
  },
  {
   "cell_type": "markdown",
   "metadata": {},
   "source": [
    "<font color= blue>Ex8:</font> (1 punct) Sa se scrie o functie pair_max care preia doi vectori de aceeasi lungime si returneaza maximele\n",
    "pe pozitiile corespunzatoare: python\n",
    "a = np.array([3, 7, 9, 13, -10, 200, 3])\n",
    "b = np.array([4, 5, -9, 100, 300, 230, 1])\n",
    "pair_max(a, b)\n",
    "#iesire dorita:\n",
    "array([ 4, 7, 9, 100, 300, 230, 3]) . Functia va verifica cu assert ca vectorii au lungimi\n",
    "egale."
   ]
  },
  {
   "cell_type": "code",
   "execution_count": 31,
   "metadata": {},
   "outputs": [],
   "source": [
    "def pair_max(a: np.array, b: np.array)-> np.array:\n",
    "    '''Aceasta functie determina maximele dintre doi vectori de aceeasi lungime.\n",
    "    Parametri:\n",
    "    a, b= np.array care sunt niste vectori ce contin elementele\n",
    "    Tipul returnat: np.array, care contine maximele'''\n",
    "    \n",
    "    return np.maximum(a,b)"
   ]
  },
  {
   "cell_type": "code",
   "execution_count": 32,
   "metadata": {},
   "outputs": [
    {
     "name": "stdout",
     "output_type": "stream",
     "text": [
      "[  4   7   9 100 300 230   3]\n"
     ]
    }
   ],
   "source": [
    "a = np.array([3, 7, 9, 13, -10, 200, 3])\n",
    "b = np.array([4, 5, -9, 100, 300, 230, 1]) \n",
    "\n",
    "print(pair_max(a,b))"
   ]
  },
  {
   "cell_type": "markdown",
   "metadata": {},
   "source": [
    "<font color= blue>Ex9:</font> (1 punct) Descarcati setul de date Iris de la adresa 'https://archive.ics.uci.edu/ml/machine-learningdatabases/\n",
    "iris/iris.data (https://archive.ics.uci.edu/ml/machine-learning-databases/iris/iris.data)', si incarcati-l\n",
    "intr--o matrice NumPy, folosind np.genfromtxt . Alegeti aleator 10 pozitii in matricea de 150 linii si 4\n",
    "coloane (omiteti ultima coloana, de tip text), setati aceste valori pe NaN. Construiti o functie care, primind la\n",
    "intrare o matrice, returneaza un tuplu cu indicii de linii respectiv de coloane in care se gasesc valori NaN."
   ]
  },
  {
   "cell_type": "code",
   "execution_count": 33,
   "metadata": {},
   "outputs": [
    {
     "name": "stdout",
     "output_type": "stream",
     "text": [
      "[[5.1 3.5 1.4 0.2]\n",
      " [4.9 3.  1.4 0.2]\n",
      " [4.7 3.2 1.3 0.2]\n",
      " [4.6 3.1 1.5 0.2]\n",
      " [5.  3.6 1.4 0.2]\n",
      " [5.4 3.9 1.7 0.4]\n",
      " [4.6 3.4 1.4 0.3]\n",
      " [5.  3.4 1.5 0.2]\n",
      " [4.4 2.9 1.4 0.2]\n",
      " [4.9 3.1 1.5 0.1]\n",
      " [5.4 3.7 1.5 0.2]\n",
      " [4.8 3.4 1.6 0.2]\n",
      " [4.8 3.  1.4 0.1]\n",
      " [4.3 3.  1.1 0.1]\n",
      " [5.8 4.  1.2 0.2]\n",
      " [5.7 4.4 1.5 0.4]\n",
      " [5.4 3.9 1.3 0.4]\n",
      " [5.1 3.5 1.4 0.3]\n",
      " [5.7 3.8 1.7 0.3]\n",
      " [5.1 3.8 1.5 0.3]\n",
      " [5.4 3.4 1.7 0.2]\n",
      " [5.1 3.7 1.5 0.4]\n",
      " [4.6 3.6 1.  0.2]\n",
      " [5.1 3.3 1.7 0.5]\n",
      " [4.8 3.4 1.9 0.2]\n",
      " [5.  3.  1.6 0.2]\n",
      " [5.  3.4 1.6 0.4]\n",
      " [5.2 3.5 1.5 0.2]\n",
      " [5.2 3.4 1.4 0.2]\n",
      " [4.7 3.2 1.6 0.2]\n",
      " [4.8 3.1 1.6 0.2]\n",
      " [5.4 3.4 1.5 0.4]\n",
      " [5.2 4.1 1.5 0.1]\n",
      " [5.5 4.2 1.4 0.2]\n",
      " [4.9 3.1 1.5 0.1]\n",
      " [5.  3.2 1.2 0.2]\n",
      " [5.5 3.5 1.3 0.2]\n",
      " [4.9 3.1 1.5 0.1]\n",
      " [4.4 3.  1.3 0.2]\n",
      " [5.1 3.4 1.5 0.2]\n",
      " [5.  3.5 1.3 0.3]\n",
      " [4.5 2.3 1.3 0.3]\n",
      " [4.4 3.2 1.3 0.2]\n",
      " [5.  3.5 1.6 0.6]\n",
      " [5.1 3.8 1.9 0.4]\n",
      " [4.8 3.  1.4 0.3]\n",
      " [5.1 3.8 1.6 0.2]\n",
      " [4.6 3.2 1.4 0.2]\n",
      " [5.3 3.7 1.5 0.2]\n",
      " [5.  3.3 1.4 0.2]\n",
      " [7.  3.2 4.7 1.4]\n",
      " [6.4 3.2 4.5 1.5]\n",
      " [6.9 3.1 4.9 1.5]\n",
      " [5.5 2.3 4.  1.3]\n",
      " [6.5 2.8 4.6 1.5]\n",
      " [5.7 2.8 4.5 1.3]\n",
      " [6.3 3.3 4.7 1.6]\n",
      " [4.9 2.4 3.3 1. ]\n",
      " [6.6 2.9 4.6 1.3]\n",
      " [5.2 2.7 3.9 1.4]\n",
      " [5.  2.  3.5 1. ]\n",
      " [5.9 3.  4.2 1.5]\n",
      " [6.  2.2 4.  1. ]\n",
      " [6.1 2.9 4.7 1.4]\n",
      " [5.6 2.9 3.6 1.3]\n",
      " [6.7 3.1 4.4 1.4]\n",
      " [5.6 3.  4.5 1.5]\n",
      " [5.8 2.7 4.1 1. ]\n",
      " [6.2 2.2 4.5 1.5]\n",
      " [5.6 2.5 3.9 1.1]\n",
      " [5.9 3.2 4.8 1.8]\n",
      " [6.1 2.8 4.  1.3]\n",
      " [6.3 2.5 4.9 1.5]\n",
      " [6.1 2.8 4.7 1.2]\n",
      " [6.4 2.9 4.3 1.3]\n",
      " [6.6 3.  4.4 1.4]\n",
      " [6.8 2.8 4.8 1.4]\n",
      " [6.7 3.  5.  1.7]\n",
      " [6.  2.9 4.5 1.5]\n",
      " [5.7 2.6 3.5 1. ]\n",
      " [5.5 2.4 3.8 1.1]\n",
      " [5.5 2.4 3.7 1. ]\n",
      " [5.8 2.7 3.9 1.2]\n",
      " [6.  2.7 5.1 1.6]\n",
      " [5.4 3.  4.5 1.5]\n",
      " [6.  3.4 4.5 1.6]\n",
      " [6.7 3.1 4.7 1.5]\n",
      " [6.3 2.3 4.4 1.3]\n",
      " [5.6 3.  4.1 1.3]\n",
      " [5.5 2.5 4.  1.3]\n",
      " [5.5 2.6 4.4 1.2]\n",
      " [6.1 3.  4.6 1.4]\n",
      " [5.8 2.6 4.  1.2]\n",
      " [5.  2.3 3.3 1. ]\n",
      " [5.6 2.7 4.2 1.3]\n",
      " [5.7 3.  4.2 1.2]\n",
      " [5.7 2.9 4.2 1.3]\n",
      " [6.2 2.9 4.3 1.3]\n",
      " [5.1 2.5 3.  1.1]\n",
      " [5.7 2.8 4.1 1.3]\n",
      " [6.3 3.3 6.  2.5]\n",
      " [5.8 2.7 5.1 1.9]\n",
      " [7.1 3.  5.9 2.1]\n",
      " [6.3 2.9 5.6 1.8]\n",
      " [6.5 3.  5.8 2.2]\n",
      " [7.6 3.  6.6 2.1]\n",
      " [4.9 2.5 4.5 1.7]\n",
      " [7.3 2.9 6.3 1.8]\n",
      " [6.7 2.5 5.8 1.8]\n",
      " [7.2 3.6 6.1 2.5]\n",
      " [6.5 3.2 5.1 2. ]\n",
      " [6.4 2.7 5.3 1.9]\n",
      " [6.8 3.  5.5 2.1]\n",
      " [5.7 2.5 5.  2. ]\n",
      " [5.8 2.8 5.1 2.4]\n",
      " [6.4 3.2 5.3 2.3]\n",
      " [6.5 3.  5.5 1.8]\n",
      " [7.7 3.8 6.7 2.2]\n",
      " [7.7 2.6 6.9 2.3]\n",
      " [6.  2.2 5.  1.5]\n",
      " [6.9 3.2 5.7 2.3]\n",
      " [5.6 2.8 4.9 2. ]\n",
      " [7.7 2.8 6.7 2. ]\n",
      " [6.3 2.7 4.9 1.8]\n",
      " [6.7 3.3 5.7 2.1]\n",
      " [7.2 3.2 6.  1.8]\n",
      " [6.2 2.8 4.8 1.8]\n",
      " [6.1 3.  4.9 1.8]\n",
      " [6.4 2.8 5.6 2.1]\n",
      " [7.2 3.  5.8 1.6]\n",
      " [7.4 2.8 6.1 1.9]\n",
      " [7.9 3.8 6.4 2. ]\n",
      " [6.4 2.8 5.6 2.2]\n",
      " [6.3 2.8 5.1 1.5]\n",
      " [6.1 2.6 5.6 1.4]\n",
      " [7.7 3.  6.1 2.3]\n",
      " [6.3 3.4 5.6 2.4]\n",
      " [6.4 3.1 5.5 1.8]\n",
      " [6.  3.  4.8 1.8]\n",
      " [6.9 3.1 5.4 2.1]\n",
      " [6.7 3.1 5.6 2.4]\n",
      " [6.9 3.1 5.1 2.3]\n",
      " [5.8 2.7 5.1 1.9]\n",
      " [6.8 3.2 5.9 2.3]\n",
      " [6.7 3.3 5.7 2.5]\n",
      " [6.7 3.  5.2 2.3]\n",
      " [6.3 2.5 5.  1.9]\n",
      " [6.5 3.  5.2 2. ]\n",
      " [6.2 3.4 5.4 2.3]\n",
      " [5.9 3.  5.1 1.8]]\n"
     ]
    }
   ],
   "source": [
    "mat: np.array = np.genfromtxt('iris.data', delimiter = ',')\n",
    "\n",
    "mat= mat[:, :-1]\n",
    "\n",
    "print(mat)"
   ]
  },
  {
   "cell_type": "code",
   "execution_count": 34,
   "metadata": {},
   "outputs": [],
   "source": [
    "def get_nan_positions(mat: np.array)-> Tuple[int, int]:\n",
    "    '''Aceasta functie pune pe 10 pozitii random din matrice valoarea nan.\n",
    "    Parametri:\n",
    "    mat= un np.array cu elemente\n",
    "    Tipul returnat: un tuplu de tip int, int, unde primul element reprezinta \n",
    "    pozitiile liniilor si al doilea element reprezinta pozitiile coloanelor'''\n",
    "    \n",
    "    rows: np.array = np.random.randint(mat.shape[0], size = 10)\n",
    "    cols: np.array = np.random.randint(mat.shape[1], size = 10)\n",
    "    \n",
    "    mat[rows, cols] = np.nan\n",
    "\n",
    "    return rows, cols"
   ]
  },
  {
   "cell_type": "code",
   "execution_count": 39,
   "metadata": {},
   "outputs": [
    {
     "name": "stdout",
     "output_type": "stream",
     "text": [
      "Pos: [(7, 3), (45, 1), (53, 3), (103, 2), (67, 2), (24, 1), (38, 0), (119, 2), (99, 3), (123, 3)]\n"
     ]
    }
   ],
   "source": [
    "vec = np.array([[1., 2., 3.], [4., 5., 6.], [8., 9., 10.],\n",
    "                [11., 12., 13.], [4., 5., 6.], [8., 9., 10.],\n",
    "                [4., 5., 6.], [8., 9., 10.]])\n",
    "\n",
    "#print(get_nan_positions(vec))\n",
    "i, j = get_nan_positions(mat)\n",
    "print(\"Pos:\", list(zip(i,j)))"
   ]
  },
  {
   "cell_type": "markdown",
   "metadata": {},
   "source": [
    "<font color= blue>Ex10:</font> (1 punct) Sa se construiasca o functie care returneaza cele mai mici k valori dintr-un vector de cel putin k\n",
    "elemente, impreuna cu pozitiile lor."
   ]
  },
  {
   "cell_type": "code",
   "execution_count": 36,
   "metadata": {},
   "outputs": [],
   "source": [
    "def function_10(vector: np.array, k: int)-> Tuple [np.array, np.array]:\n",
    "    '''Aceasta functie returneaza cele mai mici k valori dintr-un vector impreuna cu pozitiile lor.\n",
    "    Parametri:\n",
    "    vector= un np.array cu elemente\n",
    "    k= un int care este conditia\n",
    "    Tipul returnat: un tuplu de tip np.array, np.array, unde \n",
    "    primul array contine cele mai mici 'k' valori din vector\n",
    "    si al doilea array contine pozitiile lor in vector'''\n",
    "    \n",
    "    assert len(vector)>=k,\"The array must have at least 'K' elements!\"\n",
    "    return np.sort(vector)[:k], np.argsort(vector)[:k]"
   ]
  },
  {
   "cell_type": "code",
   "execution_count": 37,
   "metadata": {},
   "outputs": [
    {
     "name": "stdout",
     "output_type": "stream",
     "text": [
      "Number: [-11 -10  -1   0   2   3   7] and indices: [9 4 7 8 6 0 1]\n"
     ]
    }
   ],
   "source": [
    "vector = np.array([3, 7, 9, 13, -10, 200, 2, -1, 0, -11])\n",
    "i, j = function_10(vector, 7)\n",
    "print(\"Number:\",i,\"and indices:\",j)"
   ]
  }
 ],
 "metadata": {
  "kernelspec": {
   "display_name": "Python 3",
   "language": "python",
   "name": "python3"
  }
 },
 "nbformat": 4,
 "nbformat_minor": 4
}
