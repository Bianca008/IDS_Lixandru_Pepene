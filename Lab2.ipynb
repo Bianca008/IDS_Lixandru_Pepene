{
 "cells": [
  {
   "cell_type": "markdown",
   "metadata": {},
   "source": [
    "# Exercitii cu functii"
   ]
  },
  {
   "cell_type": "markdown",
   "metadata": {},
   "source": [
    "<font color= blue>Ex1:</font> Sa se scrie o functie care primeste ca parametru o lista de numere si returneaza un tuplu continand: suma\n",
    "elementelor si diferenta maxima dintre elementele listei."
   ]
  },
  {
   "cell_type": "code",
   "execution_count": 4,
   "metadata": {},
   "outputs": [],
   "source": [
    "from typing import List, Tuple\n",
    "\n",
    "from itertools import combinations"
   ]
  },
  {
   "cell_type": "code",
   "execution_count": 11,
   "metadata": {},
   "outputs": [],
   "source": [
    "def sum_dif(my_list: List[float])-> Tuple[float, float]:\n",
    "    sum_list = sum(my_list)\n",
    "    first_elem_diff, second_elem_diff = max(combinations(my_list, 2), key = lambda sub: abs(sub[0]-sub[1])) \n",
    "  \n",
    "    return sum_list, abs(first_elem_diff - second_elem_diff)"
   ]
  },
  {
   "cell_type": "code",
   "execution_count": 14,
   "metadata": {},
   "outputs": [
    {
     "name": "stdout",
     "output_type": "stream",
     "text": [
      "(27.9, 9.8)\n"
     ]
    }
   ],
   "source": [
    "my_list= [0.2, 5.3, 4.2, 3.2, 5., 10.]\n",
    "\n",
    "print (sum_dif(my_list))"
   ]
  },
  {
   "cell_type": "markdown",
   "metadata": {},
   "source": [
    "<font color= blue>Ex2:</font> Scrieti o functie care preia doua liste si returneaza True daca cele doua liste de numere contin cel putin k\n",
    "elemente comune (k>= 1 dat ca parametru intreg, valoare implicita 1), False altfel."
   ]
  },
  {
   "cell_type": "code",
   "execution_count": 24,
   "metadata": {},
   "outputs": [],
   "source": [
    "def k_commun_elem(first_list: List[float], second_list: List[float], k: int = 1)-> bool:\n",
    "    return len(set(first_list).intersection(second_list)) >= k "
   ]
  },
  {
   "cell_type": "code",
   "execution_count": 29,
   "metadata": {},
   "outputs": [
    {
     "name": "stdout",
     "output_type": "stream",
     "text": [
      "False\n"
     ]
    }
   ],
   "source": [
    "first_list = [2., 9., 8., 7.]\n",
    "second_list = [2., 9., 18., 17.]\n",
    "\n",
    "print (k_commun_elem(first_list,second_list,3))"
   ]
  },
  {
   "cell_type": "markdown",
   "metadata": {},
   "source": [
    "<font color= blue>Ex3:</font> Sa se scrie o functie care determina daca o lista contine cuvinte reprezentand doar numere intregi (optional:\n",
    "numere fractionare, scrise sub forma parte intreaga, optional urmata de punct zecimal, optional urmata de\n",
    "parte fractionara: 1, 2., 13.14) (Puteti folosi modulul re pentru lucrul cu expresii regulate.) Functia trebuie\n",
    "sa testeze daca:\n",
    "A. elementele din lista sunt stringuri\n",
    "B. fiecare din stringuri este un numar"
   ]
  },
  {
   "cell_type": "code",
   "execution_count": 59,
   "metadata": {},
   "outputs": [],
   "source": [
    "import re"
   ]
  },
  {
   "cell_type": "code",
   "execution_count": 143,
   "metadata": {},
   "outputs": [],
   "source": [
    "def is_string(my_list: List)-> bool:\n",
    "    string_type = [True if type(elem)== str else False for elem in my_list]\n",
    "    return all(my_list)"
   ]
  },
  {
   "cell_type": "code",
   "execution_count": 144,
   "metadata": {},
   "outputs": [],
   "source": [
    "def is_number(my_list: List)-> bool:\n",
    "    other_list = [re.match(\"^[-+]?([0]|[1-9][0-9]*)$\", item) is not None for item in my_list]\n",
    "    \n",
    "    return all(other_list)"
   ]
  },
  {
   "cell_type": "code",
   "execution_count": 146,
   "metadata": {},
   "outputs": [
    {
     "name": "stdout",
     "output_type": "stream",
     "text": [
      "True\n"
     ]
    }
   ],
   "source": [
    "my_list = [\"0\", \"-1234\", \"1234\", \"10\"]\n",
    "if is_string(my_list):\n",
    "    print (is_number(my_list))\n",
    "else:\n",
    "    print(\"Lista nu contine doar siruri de caractere! Mai incearca o data!\")"
   ]
  },
  {
   "cell_type": "markdown",
   "metadata": {},
   "source": [
    "<font color= blue>Ex4:</font> Sa se scrie o functie care returneaza numarul de vocale si de consoane dintr-un parametru dat - rezultatul\n",
    "returnat de functie este tuplu cu doua valori. Cuvantul se va converti la litere mici in interiorul functiei."
   ]
  },
  {
   "cell_type": "markdown",
   "metadata": {},
   "source": [
    "<font color= blue>Ex5:</font> Sa se scrie o functie care primind o lista de dictionare, returneaza True daca toate dictionarele contin cel\n",
    "putin elemente, transmis ca parametru, False altfel."
   ]
  },
  {
   "cell_type": "markdown",
   "metadata": {},
   "source": [
    "<font color= blue>Ex6: </font>"
   ]
  },
  {
   "cell_type": "markdown",
   "metadata": {},
   "source": [
    "# Exercitii simple folosind NumPy"
   ]
  },
  {
   "cell_type": "markdown",
   "metadata": {},
   "source": [
    "<font color= blue>Ex1:</font> (0.5 puncte) Pentru un vector NumPy dat, sa se determine care sunt elementele unice, in ordine\n",
    "descrescatoare. Exemplu: pentru x = np.array([-4, 3, 5, 3, 2, 1, -3, -4, 2, -4]) functia\n",
    "scrisa de dvs va intoarce rezultatul [ 5, 3, 2, 1, -3, -4] ."
   ]
  },
  {
   "cell_type": "markdown",
   "metadata": {},
   "source": [
    "<font color= blue>Ex2:</font> (0.5 puncte) Pentru un vector NumPy dat, sa se determine care e elementul cel mai frecvent si cel mai putin\n",
    "frecvent (tuplu de 2 valori). Daca exista mai multe numere cele mai frecvente (cele mai putin frecvente), se\n",
    "va raporta oricare din ele. Exemplu: pentru x = np.array([-4, 3, 5, 3, 2, 1, -3, -4, 2, -4])\n",
    "functia scrisa de dvs va intoarce rezultatul (-4, -3) ."
   ]
  },
  {
   "cell_type": "markdown",
   "metadata": {},
   "source": [
    "<font color= blue>Ex3:</font> (0.5 puncte) Plecand de la o matrice, sa se scrie o functie care returneaza vectorul minimelor de pe linii si\n",
    "vectorul maximelor de pe coloane. Exemplu: pentru matricea mat = np.array([[1, 2, 3, 4], [1, -2,\n",
    "3, -4], [3, 10, 3, 4]]) functia va returna tuplul de vectori: (array([ 1, -4, 3]), array([ 3,\n",
    "10, 3, 4])) . Indicatie: folositi-va de parametrul axis ."
   ]
  },
  {
   "cell_type": "markdown",
   "metadata": {},
   "source": [
    "<font color= blue>Ex4:</font> (0.5 puncte) Pentru o matrice de numere, sa se determine produsul elementelor pe linii sau de pe coloane,\n",
    "in functie de valoarea unui parametru boolean compute_on_lines . Exemplu: pentru matricea mat =\n",
    "np.array([[1, 2, 3, 4], [1, -2, 3, -4], [3, 10, 3, 4]]) si parametrul\n",
    "compute_on_lines=True , functia va returna vectorul [ 24 24 360] , iar pentru\n",
    "compute_on_lines=False se va returna [ 3 -40 27 -64] ."
   ]
  },
  {
   "cell_type": "markdown",
   "metadata": {},
   "source": [
    "<font color= blue>Ex5:</font> (0.5 puncte) Determinati daca macar unul din elementele unei matrice a este mai mare decat cel de pe\n",
    "pozitie corespondenta din b (adica daca avem macar o pereche de indecsi (i, j) pentru care a[i, j] > b[i, j]).\n",
    "Daca da, se va returna o astfel de pereche de indecsi; daca nu, se va returna None."
   ]
  },
  {
   "cell_type": "markdown",
   "metadata": {},
   "source": [
    "<font color= blue>Ex6:</font> (0.5 puncte) Construiti o functie care, primind o matrice, determina pe ce pozitii se afla valorile in afara unui\n",
    "interval [min, max] dat prin parametri."
   ]
  },
  {
   "cell_type": "markdown",
   "metadata": {},
   "source": [
    "<font color= blue>Ex7:</font> (1 punct) Se considera vectorul: a = np.array([230, 10, 284, 39, 76]) . Folosind indexarea logica,\n",
    "sa se inmulteasca elementele din vector care sunt mai mici ca 100 cu 2 (restul raman neschimbate).\n",
    "Folosind ciclare, sa se aplice aceeasi operatie pana cand toate elementele devin mai mari ca 100. Sa se\n",
    "afiseze din vectorul final elementele care sunt mai mari de 150 si mai mici de 200."
   ]
  },
  {
   "cell_type": "markdown",
   "metadata": {},
   "source": [
    "<font color= blue>Ex8:</font> (1 punct) Sa se scrie o functie pair_max care preia doi vectori de aceeasi lungime si returneaza maximele\n",
    "pe pozitiile corespunzatoare: python\n",
    "a = np.array([3, 7, 9, 13, -10, 200, 3])\n",
    "b = np.array([4, 5, -9, 100, 300, 230, 1])\n",
    "pair_max(a, b)\n",
    "#iesire dorita:\n",
    "array([ 4, 7, 9, 100, 300, 230, 3]) . Functia va verifica cu assert ca vectorii au lungimi\n",
    "egale."
   ]
  },
  {
   "cell_type": "markdown",
   "metadata": {},
   "source": [
    "<font color= blue>Ex9:</font> (1 punct) Descarcati setul de date Iris de la adresa 'https://archive.ics.uci.edu/ml/machine-learningdatabases/\n",
    "iris/iris.data (https://archive.ics.uci.edu/ml/machine-learning-databases/iris/iris.data)', si incarcati-l\n",
    "intr--o matrice NumPy, folosind np.genfromtxt . Alegeti aleator 10 pozitii in matricea de 150 linii si 4\n",
    "coloane (omiteti ultima coloana, de tip text), setati aceste valori pe NaN. Construiti o functie care, primind la\n",
    "intrare o matrice, returneaza un tuplu cu indicii de linii respectiv de coloane in care se gasesc valori NaN."
   ]
  },
  {
   "cell_type": "markdown",
   "metadata": {},
   "source": [
    "<font color= blue>Ex10:</font> (1 punct) Sa se construiasca o functie care returneaza cele mai mici k valori dintr-un vector de cel putin k\n",
    "elemente, impreuna cu pozitiile lor."
   ]
  },
  {
   "cell_type": "code",
   "execution_count": null,
   "metadata": {},
   "outputs": [],
   "source": []
  }
 ],
 "metadata": {
  "kernelspec": {
   "display_name": "Python 3",
   "language": "python",
   "name": "python3"
  },
  "language_info": {
   "codemirror_mode": {
    "name": "ipython",
    "version": 3
   },
   "file_extension": ".py",
   "mimetype": "text/x-python",
   "name": "python",
   "nbconvert_exporter": "python",
   "pygments_lexer": "ipython3",
   "version": "3.7.6"
  }
 },
 "nbformat": 4,
 "nbformat_minor": 4
}
