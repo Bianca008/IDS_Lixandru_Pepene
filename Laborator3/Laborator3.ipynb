{
 "cells": [
  {
   "cell_type": "markdown",
   "metadata": {},
   "source": [
    "# Laborator 2\n",
    "\n",
    "Saptamana 9-13 martie 2020\n",
    "\n",
    "Continut:\n",
    "1. Biblioteca ipywidgets\n",
    "1. Exercitii cu ipywidgets"
   ]
  },
  {
   "cell_type": "markdown",
   "metadata": {
    "ExecuteTime": {
     "end_time": "2020-02-29T08:17:01.791571Z",
     "start_time": "2020-02-29T08:17:01.774618Z"
    }
   },
   "source": [
    "## Folosire de controale grafice\n",
    "\n",
    "Notebook-urile - indiferent ca se ruleaza in Jupyter lab sau Jupyter notebook - se pot folosi pentru demo-uri interactive. O varianta este modificarea codului in timpul demo-ului si rularea manuala a celulelor afectate - nu intotdeauna rapid de facut. O alta varianta este folosirea de controale grafice care sa permita utilizatorului sa modifice optiuni, valori de parametri etc. \n",
    "\n",
    "[ipywidgets](https://ipywidgets.readthedocs.io/en/stable/) este o biblioteca de controale grafice care permit interactiune cu utilizatorul. Mai jos sunt cateva demo-uri de urmarit. \n",
    "\n",
    "* Demo 1: [![Alt text](https://img.youtube.com/vi/nRmkS_6ngCU/0.jpg)](https://www.youtube.com/watch?v=nRmkS_6ngCU)\n",
    "\n",
    "* Demo 2: [![Alt text](https://img.youtube.com/vi/j5d7vOQBttI/0.jpg)](https://www.youtube.com/watch?v=j5d7vOQBttI)\n",
    "\n",
    "* Demo 3: [![Alt text](https://img.youtube.com/vi/wxVx54ax47s/0.jpg)](https://www.youtube.com/watch?v=wxVx54ax47s)\n",
    "\n",
    "* Demo 4: [![Alt text](https://img.youtube.com/vi/i40d8-Hu4vM/0.jpg)](https://www.youtube.com/watch?v=i40d8-Hu4vM)"
   ]
  },
  {
   "cell_type": "markdown",
   "metadata": {},
   "source": [
    "### Exemple de utilizare\n",
    "\n",
    "Documentatia completa si exemple sunt date [aici](https://ipywidgets.readthedocs.io/en/stable/user_guide.html).\n",
    "\n",
    "Incarcarea pachetului de `ipywidgets` se face prin:"
   ]
  },
  {
   "cell_type": "code",
   "execution_count": 10,
   "metadata": {
    "ExecuteTime": {
     "end_time": "2020-03-07T15:42:36.041139Z",
     "start_time": "2020-03-07T15:42:35.957790Z"
    }
   },
   "outputs": [],
   "source": [
    "import ipywidgets as widgets"
   ]
  },
  {
   "cell_type": "markdown",
   "metadata": {},
   "source": [
    "De regula, e nevoie si de alte pachete, de exemplu:"
   ]
  },
  {
   "cell_type": "code",
   "execution_count": 11,
   "metadata": {
    "ExecuteTime": {
     "end_time": "2020-03-07T15:42:37.958268Z",
     "start_time": "2020-03-07T15:42:37.954278Z"
    }
   },
   "outputs": [],
   "source": [
    "from ipywidgets import interact, interactive, fixed, interact_manual"
   ]
  },
  {
   "cell_type": "markdown",
   "metadata": {},
   "source": [
    "Cel mai simplu control utilizabil este `interact`. El poate prelua ca prim parametru numele unei functii, iar al doilea parametru dicteaza forma controlului: slider, combo box, checkbox etc:"
   ]
  },
  {
   "cell_type": "code",
   "execution_count": 12,
   "metadata": {
    "ExecuteTime": {
     "end_time": "2020-03-07T15:42:39.192524Z",
     "start_time": "2020-03-07T15:42:39.184545Z"
    }
   },
   "outputs": [],
   "source": [
    "def n_factorial(n:int) -> int:\n",
    "    \"\"\"Calculeaza n factorial\n",
    "    :param n: intreg >= 0 pt care se calculeaza factorialul\n",
    "    :return: valoarea lui n!\n",
    "    \"\"\"\n",
    "    p = 1\n",
    "    for i in range(1, n+1):\n",
    "        p *= i\n",
    "    return str(n) + \"!= \" + str(p)"
   ]
  },
  {
   "cell_type": "code",
   "execution_count": 13,
   "metadata": {
    "ExecuteTime": {
     "end_time": "2020-03-07T15:42:44.090157Z",
     "start_time": "2020-03-07T15:42:44.043283Z"
    }
   },
   "outputs": [
    {
     "data": {
      "application/vnd.jupyter.widget-view+json": {
       "model_id": "82e1e57ed2c54966a6fd26a78d5273e8",
       "version_major": 2,
       "version_minor": 0
      },
      "text/plain": [
       "interactive(children=(IntSlider(value=100, description='n', max=300, min=-100), Output()), _dom_classes=('widg…"
      ]
     },
     "metadata": {},
     "output_type": "display_data"
    },
    {
     "data": {
      "text/plain": [
       "<function __main__.n_factorial(n: int) -> int>"
      ]
     },
     "execution_count": 13,
     "metadata": {},
     "output_type": "execute_result"
    }
   ],
   "source": [
    "interact(n_factorial, n=100)"
   ]
  },
  {
   "cell_type": "markdown",
   "metadata": {},
   "source": [
    "Pentru limitarea domeniului in care $n$ poate sa ia valori se va folosi:"
   ]
  },
  {
   "cell_type": "code",
   "execution_count": 14,
   "metadata": {
    "ExecuteTime": {
     "end_time": "2020-03-07T15:43:02.568660Z",
     "start_time": "2020-03-07T15:43:02.531755Z"
    }
   },
   "outputs": [
    {
     "data": {
      "application/vnd.jupyter.widget-view+json": {
       "model_id": "4604057a04b24bc98b89ffca0c60f9d4",
       "version_major": 2,
       "version_minor": 0
      },
      "text/plain": [
       "interactive(children=(IntSlider(value=50, description='n'), Output()), _dom_classes=('widget-interact',))"
      ]
     },
     "metadata": {},
     "output_type": "display_data"
    }
   ],
   "source": [
    "interact(n_factorial, n=(0, 100));"
   ]
  },
  {
   "cell_type": "markdown",
   "metadata": {},
   "source": [
    "Pentru a evita actualizarea sacadata a valorilor afisate, se prefera inhibarea feedback-ului in timp real, precum in [Disabling continuous updates](https://ipywidgets.readthedocs.io/en/stable/examples/Using%20Interact.html#Disabling-continuous-updates). "
   ]
  },
  {
   "cell_type": "markdown",
   "metadata": {},
   "source": [
    "Pentru alte tipuri de controale folosind interact, se poate folosi:"
   ]
  },
  {
   "cell_type": "code",
   "execution_count": 15,
   "metadata": {
    "ExecuteTime": {
     "end_time": "2020-03-07T15:43:15.233648Z",
     "start_time": "2020-03-07T15:43:15.184755Z"
    }
   },
   "outputs": [
    {
     "data": {
      "application/vnd.jupyter.widget-view+json": {
       "model_id": "5b51066b5ef44bc8867c65c7b5e6a219",
       "version_major": 2,
       "version_minor": 0
      },
      "text/plain": [
       "interactive(children=(Checkbox(value=True, description='x'), FloatSlider(value=5.5, description='y', max=10.0,…"
      ]
     },
     "metadata": {},
     "output_type": "display_data"
    },
    {
     "data": {
      "text/plain": [
       "<function __main__.g(x, y, z, t)>"
      ]
     },
     "execution_count": 15,
     "metadata": {},
     "output_type": "execute_result"
    }
   ],
   "source": [
    "def g(x, y, z, t):\n",
    "    return (x, y, z, t)\n",
    "\n",
    "interact(g, x=True, y=(1.0, 10.0, 0.5), z='Un text', \n",
    "         t={'English':'Hello', 'Romanian':'Salut', 'Spanish':'Hola'})"
   ]
  },
  {
   "cell_type": "markdown",
   "metadata": {},
   "source": [
    "Exemplu: Sa se deseneze graficul functiei $f:[left, right] \\rightarrow \\mathbb{R}$, $f(x) = a\\cdot x^2 + b\\cdot x + c$, cu $a, b, c$ coeficienti reali.\n",
    "\n",
    "Rezolvare:"
   ]
  },
  {
   "cell_type": "code",
   "execution_count": 16,
   "metadata": {
    "ExecuteTime": {
     "end_time": "2020-03-07T15:46:26.941354Z",
     "start_time": "2020-03-07T15:46:25.766878Z"
    }
   },
   "outputs": [],
   "source": [
    "# import de pachete numerice si grafice\n",
    "\n",
    "import matplotlib.pyplot as plt\n",
    "import numpy as np"
   ]
  },
  {
   "cell_type": "code",
   "execution_count": 17,
   "metadata": {
    "ExecuteTime": {
     "end_time": "2020-03-07T15:55:14.067248Z",
     "start_time": "2020-03-07T15:55:13.603490Z"
    }
   },
   "outputs": [
    {
     "data": {
      "application/vnd.jupyter.widget-view+json": {
       "model_id": "ca0af5c792914bac8ac9387ccf66d117",
       "version_major": 2,
       "version_minor": 0
      },
      "text/plain": [
       "interactive(children=(FloatSlider(value=10.0, description='a', min=-100.0), FloatSlider(value=20.0, descriptio…"
      ]
     },
     "metadata": {},
     "output_type": "display_data"
    }
   ],
   "source": [
    "def f_square(a=10, b=20, c=-10,left=-10, right=20) -> None:\n",
    "    '''Afiseaza graficul unei functii de gradul al doilea de forma:\n",
    "    f(x)=a*x**2 + b*x + c. Valorile lui x sunt luate din intervalul \n",
    "    [left, right] prin discretizare.\n",
    "    :param a: coeficientul lui x**2\n",
    "    :param b: coeficientul lui x\n",
    "    :param c: termenul liber\n",
    "    :param left: capatul din stanga al intervalului peste care se face \n",
    "    reprezenatrea\n",
    "    :param right: capatul din dreapta al intervalului peste care se face \n",
    "    reprezenatrea\n",
    "    :return: None\n",
    "    '''\n",
    "    assert left < right\n",
    "    range_x = np.linspace(left, right, 100)\n",
    "    values_f = a * range_x ** 2 + b * range_x + c \n",
    "    plt.figure(figsize=(10, 8))\n",
    "    plt.xlabel('x')\n",
    "    plt.ylabel(str(a) + '$\\cdot x^2 + $' + str(b) + '$\\cdot x + $' + str(c))\n",
    "    plt.plot(range_x, values_f, color='red')\n",
    "    plt.grid(axis='both')\n",
    "    plt.axhline(y=0, color='k')\n",
    "    plt.axvline(x=0, color='k')\n",
    "    plt.show()\n",
    "    \n",
    "interact(f_square, a=(-100, 100.0), b=(-100, 100.0), c=(-100, 100.0), d=(-100, 100.0), e=(-100, 100.0));"
   ]
  },
  {
   "cell_type": "code",
   "execution_count": 18,
   "metadata": {
    "ExecuteTime": {
     "end_time": "2020-03-07T15:55:21.534965Z",
     "start_time": "2020-03-07T15:55:21.265683Z"
    }
   },
   "outputs": [
    {
     "data": {
      "application/vnd.jupyter.widget-view+json": {
       "model_id": "cb97bee571e147a88c879e3b1f5aa353",
       "version_major": 2,
       "version_minor": 0
      },
      "text/plain": [
       "interactive(children=(FloatSlider(value=10.0, description='f', min=1.0, step=0.5), Output()), _dom_classes=('w…"
      ]
     },
     "metadata": {},
     "output_type": "display_data"
    }
   ],
   "source": [
    "def sinusoid(f=10):\n",
    "    range_x = np.linspace(-5, 5, 100)\n",
    "    values_f = np.sin(2 * np.pi * f * range_x)\n",
    "    plt.xlabel('x')\n",
    "    plt.ylabel(f'$2 \\cdot \\pi \\cdot {f} \\cdot x$')\n",
    "    plt.grid(axis='both')\n",
    "    plt.axhline(y=0, color='k')\n",
    "    plt.axvline(x=0, color='k')\n",
    "    plt.plot(range_x, values_f)\n",
    "    \n",
    "interact(sinusoid, f = (1, 100.0, 0.5));"
   ]
  },
  {
   "cell_type": "code",
   "execution_count": 19,
   "metadata": {
    "ExecuteTime": {
     "end_time": "2020-03-07T16:03:05.053521Z",
     "start_time": "2020-03-07T16:03:04.678526Z"
    }
   },
   "outputs": [
    {
     "data": {
      "application/vnd.jupyter.widget-view+json": {
       "model_id": "9f0136236e0c4459a0b82ec8ec95a8ef",
       "version_major": 2,
       "version_minor": 0
      },
      "text/plain": [
       "interactive(children=(IntSlider(value=0, description='x', max=20, min=-20), IntSlider(value=-30, description='…"
      ]
     },
     "metadata": {},
     "output_type": "display_data"
    },
    {
     "data": {
      "text/plain": [
       "<function __main__.graph_f_and_derived(x, left=-30, right=30)>"
      ]
     },
     "execution_count": 19,
     "metadata": {},
     "output_type": "execute_result"
    }
   ],
   "source": [
    "def f(x):\n",
    "    \"\"\"calcul functie intr-un punct\"\"\"\n",
    "    return x ** 2 - 10 * x + 50\n",
    "\n",
    "def f_values(left=-10, right=10):\n",
    "    \"\"\"calcul functie pe interval\"\"\"\n",
    "    x = np.linspace(left, right, 100)\n",
    "    return x, f(x)\n",
    "\n",
    "def f_prime(x):\n",
    "    \"\"\"Calcul derivata f\n",
    "    :param x: punctul in care se calculeaza derivata\n",
    "    :return: f'(x)\n",
    "    \"\"\"\n",
    "    return 2 * x - 10\n",
    "\n",
    "def graph_f_and_derived(x, left=-30, right=30):\n",
    "    # calcul valoare functie f\n",
    "    x_range, fx = f_values(left, right)\n",
    "    \n",
    "    # intervalul pe care se reprezinta tangenta la grafic\n",
    "    x_segment = np.linspace(x-10, x+10, 100)\n",
    "    # panta tangentei la grafic este derivata functiei in pctul de tangenta\n",
    "    slope = f_prime(x)\n",
    "    \n",
    "    #calcul puncte de tangenta\n",
    "    y_segment = f(x) + slope * (x_segment - x)\n",
    "    \n",
    "    plt.figure(figsize=(20, 10))\n",
    "    plt.plot(x_range, fx, color='red')\n",
    "    plt.plot(x_segment, y_segment, color='blue')\n",
    "    \n",
    "# graf_f_and_derived(10, left=-30, right=30)\n",
    "\n",
    "interact(graph_f_and_derived, x = (-20, 20))"
   ]
  },
  {
   "cell_type": "markdown",
   "metadata": {},
   "source": [
    "## Exercitii `ipywidgets`:\n",
    "\n",
    "1. (la clasa) Consideram functia $f(x) = x^2$ si punctul $P=(5, 3)$. Folosind controale grafice ipywidgets, sa se modifice functia $f$ prin translatarea ei pe orizontala si pe verticala, a.i. minimul functiei sa sa afle in punctul $P$; a se vedea mai jos exemplu de translatie pe verticala. Se cere desenarea axelor Ox si Oy cu reprezentarea puntului $P$ printr-un dreptunghi, desenarea functiei $f$ folosind o curba de 50 de puncte. Se vor determina coeficientii necesari mutarii functiei si se vor defini controale pentru acestea. ![vertical translation](./images/vertical_translation.png)\n",
    "1. (3 puncte) Generati o lista de 20 de perechi de valori $\\{x_i, y_i\\}_{i=0,19}$ in intervalul [0, 10), afisati aceste valori pe un grafic, impreuna cu o dreapta definita de o functie liniara $y=a*x+b$. Intr-un alt plot afisati, ca histograma, distanta dintre un punct de coordonate $(x_i, y_i)$ si punctul de intersectie a verticalei duse prin $x_i$ cu dreapta data. Dreapta trebuie sa fie controlabila din widgets, prin cei doi coeficienti. Constatati modificarea histogramei in functie de pozitia dreptei si calculati suma: $\\sum_{i=0}^{19} (y_i - (a\\cdot x_i + b))^2$, adica suma patratelor lungimilor segmentelor verzi de mai jos.\n",
    "![linear regression](./images/linreg.png)\n",
    "*Indicatii:*\n",
    "    1. Pentru generare de valori distribuite uniform in intervalul [0, 1) puteti folosi functia [numy.random.uniform](https://docs.scipy.org/doc/numpy/reference/generated/numpy.random.uniform.html) iar vectorul obtinut sa il inmultiti cu 10; in felul acesta, numerele generate vor fi uniform distribuite in intervalul $[0, 10)$.\n",
    "    1. Puteti opta sa returnati cele 20 de puncte sub forma `vector_x`, `vector_y`.\n",
    "1. (5 puncte) Incarcati fisierul `data/carbon_nanotubes.csv` (adaptare dupa [Carbon Nanotubes Data Set](http://archive.ics.uci.edu/ml/datasets/Carbon+Nanotubes)). In functie de alegerile exprimate de un utilizator, afisati intr-un grafic 2D coloanele numerice alese (de exemplu, coloana 0 si coloana 2).\n",
    "*Indicatii/optiuni*:\n",
    "    1. Incarcarea de date se poate face cu numpy, functia [loadtxt](https://docs.scipy.org/doc/numpy/reference/generated/numpy.loadtxt.html). Specificati faptul ca se sare peste prima linie din fisier (header). Alternativ, puteti folosi [pandas.read_csv](https://pandas.pydata.org/pandas-docs/stable/reference/api/pandas.read_csv.html).\n",
    "    1. Numarul de coloane din setul de date se poate afla cu `data.shape[1]`.\n",
    "    1. Pentru cele doua alegeri puteti sa instantiati doua obiecte [Dropdown](https://ipywidgets.readthedocs.io/en/stable/examples/Widget%20List.html#Dropdown) sau [Select](https://ipywidgets.readthedocs.io/en/stable/examples/Widget%20List.html#Select).\n",
    "    1. Daca in variabila `data` sunt datele incarcate, selectarea coloanei `i` se face cu `data[:, i]`.\n",
    "1. (2 puncte) Urmariti prezentarile date la inceputul laboratorului. Faceti o lista cu ceea ce ati dori sa se detalieze in acest semestru la laboratorul de IDS, din materialul furnizat."
   ]
  },
  {
   "cell_type": "markdown",
   "metadata": {},
   "source": [
    "1."
   ]
  },
  {
   "cell_type": "code",
   "execution_count": 20,
   "metadata": {},
   "outputs": [
    {
     "data": {
      "application/vnd.jupyter.widget-view+json": {
       "model_id": "f4a7c47f90314cc7b3bd28bb2964ce7f",
       "version_major": 2,
       "version_minor": 0
      },
      "text/plain": [
       "interactive(children=(IntSlider(value=2, description='x', max=4), IntSlider(value=-5, description='left', max=…"
      ]
     },
     "metadata": {},
     "output_type": "display_data"
    },
    {
     "data": {
      "text/plain": [
       "<function __main__.graph_f(x, left=-5, right=5)>"
      ]
     },
     "execution_count": 20,
     "metadata": {},
     "output_type": "execute_result"
    }
   ],
   "source": [
    "def f(x):\n",
    "    return (x - 5)**2 + 3\n",
    "\n",
    "def f_values(left=0, right=4):\n",
    "    x = np.linspace(left, right, 50)\n",
    "    return x, f(x)\n",
    "\n",
    "def graph_f(x, left=-5, right=5):\n",
    "    x_range, fx = f_values(left, right)\n",
    "    \n",
    "#     plt.figure(figsize=(20, 10))\n",
    "    rectangle = plt.Rectangle((0, 3), 5, 3)\n",
    "    plt.gca().add_patch(rectangle)\n",
    "    \n",
    "    plt.plot(x_range, fx, color='magenta')\n",
    "    \n",
    "\n",
    "interact(graph_f, x = (0, 4))"
   ]
  },
  {
   "cell_type": "markdown",
   "metadata": {},
   "source": [
    "3."
   ]
  },
  {
   "cell_type": "code",
   "execution_count": 21,
   "metadata": {},
   "outputs": [],
   "source": [
    "import pandas as pd"
   ]
  },
  {
   "cell_type": "code",
   "execution_count": 22,
   "metadata": {},
   "outputs": [
    {
     "data": {
      "text/html": [
       "<div>\n",
       "<style scoped>\n",
       "    .dataframe tbody tr th:only-of-type {\n",
       "        vertical-align: middle;\n",
       "    }\n",
       "\n",
       "    .dataframe tbody tr th {\n",
       "        vertical-align: top;\n",
       "    }\n",
       "\n",
       "    .dataframe thead th {\n",
       "        text-align: right;\n",
       "    }\n",
       "</style>\n",
       "<table border=\"1\" class=\"dataframe\">\n",
       "  <thead>\n",
       "    <tr style=\"text-align: right;\">\n",
       "      <th></th>\n",
       "      <th>0</th>\n",
       "      <th>1</th>\n",
       "      <th>2</th>\n",
       "      <th>3</th>\n",
       "      <th>4</th>\n",
       "      <th>5</th>\n",
       "      <th>6</th>\n",
       "      <th>7</th>\n",
       "    </tr>\n",
       "  </thead>\n",
       "  <tbody>\n",
       "    <tr>\n",
       "      <th>0</th>\n",
       "      <td>2</td>\n",
       "      <td>1</td>\n",
       "      <td>0.679005</td>\n",
       "      <td>0.701318</td>\n",
       "      <td>0.017033</td>\n",
       "      <td>0.721039</td>\n",
       "      <td>0.730232</td>\n",
       "      <td>0.017014</td>\n",
       "    </tr>\n",
       "    <tr>\n",
       "      <th>1</th>\n",
       "      <td>2</td>\n",
       "      <td>1</td>\n",
       "      <td>0.717298</td>\n",
       "      <td>0.642129</td>\n",
       "      <td>0.231319</td>\n",
       "      <td>0.738414</td>\n",
       "      <td>0.656750</td>\n",
       "      <td>0.232369</td>\n",
       "    </tr>\n",
       "    <tr>\n",
       "      <th>2</th>\n",
       "      <td>2</td>\n",
       "      <td>1</td>\n",
       "      <td>0.489336</td>\n",
       "      <td>0.303751</td>\n",
       "      <td>0.088462</td>\n",
       "      <td>0.477676</td>\n",
       "      <td>0.263221</td>\n",
       "      <td>0.088712</td>\n",
       "    </tr>\n",
       "    <tr>\n",
       "      <th>3</th>\n",
       "      <td>2</td>\n",
       "      <td>1</td>\n",
       "      <td>0.413957</td>\n",
       "      <td>0.632996</td>\n",
       "      <td>0.040843</td>\n",
       "      <td>0.408823</td>\n",
       "      <td>0.657897</td>\n",
       "      <td>0.039796</td>\n",
       "    </tr>\n",
       "    <tr>\n",
       "      <th>4</th>\n",
       "      <td>2</td>\n",
       "      <td>1</td>\n",
       "      <td>0.334292</td>\n",
       "      <td>0.543401</td>\n",
       "      <td>0.159890</td>\n",
       "      <td>0.303349</td>\n",
       "      <td>0.558807</td>\n",
       "      <td>0.157373</td>\n",
       "    </tr>\n",
       "    <tr>\n",
       "      <th>5</th>\n",
       "      <td>2</td>\n",
       "      <td>1</td>\n",
       "      <td>0.510664</td>\n",
       "      <td>0.696249</td>\n",
       "      <td>0.255128</td>\n",
       "      <td>0.496977</td>\n",
       "      <td>0.725608</td>\n",
       "      <td>0.255970</td>\n",
       "    </tr>\n",
       "    <tr>\n",
       "      <th>6</th>\n",
       "      <td>2</td>\n",
       "      <td>1</td>\n",
       "      <td>0.413957</td>\n",
       "      <td>0.632996</td>\n",
       "      <td>0.374176</td>\n",
       "      <td>0.390878</td>\n",
       "      <td>0.657645</td>\n",
       "      <td>0.374735</td>\n",
       "    </tr>\n",
       "    <tr>\n",
       "      <th>7</th>\n",
       "      <td>2</td>\n",
       "      <td>1</td>\n",
       "      <td>0.712552</td>\n",
       "      <td>0.554790</td>\n",
       "      <td>0.112271</td>\n",
       "      <td>0.750056</td>\n",
       "      <td>0.561494</td>\n",
       "      <td>0.114944</td>\n",
       "    </tr>\n",
       "    <tr>\n",
       "      <th>8</th>\n",
       "      <td>2</td>\n",
       "      <td>1</td>\n",
       "      <td>0.320995</td>\n",
       "      <td>0.298682</td>\n",
       "      <td>0.183700</td>\n",
       "      <td>0.281301</td>\n",
       "      <td>0.261433</td>\n",
       "      <td>0.182779</td>\n",
       "    </tr>\n",
       "    <tr>\n",
       "      <th>9</th>\n",
       "      <td>2</td>\n",
       "      <td>1</td>\n",
       "      <td>0.394742</td>\n",
       "      <td>0.279367</td>\n",
       "      <td>0.302747</td>\n",
       "      <td>0.350860</td>\n",
       "      <td>0.233500</td>\n",
       "      <td>0.302196</td>\n",
       "    </tr>\n",
       "  </tbody>\n",
       "</table>\n",
       "</div>"
      ],
      "text/plain": [
       "   0  1         2         3         4         5         6         7\n",
       "0  2  1  0.679005  0.701318  0.017033  0.721039  0.730232  0.017014\n",
       "1  2  1  0.717298  0.642129  0.231319  0.738414  0.656750  0.232369\n",
       "2  2  1  0.489336  0.303751  0.088462  0.477676  0.263221  0.088712\n",
       "3  2  1  0.413957  0.632996  0.040843  0.408823  0.657897  0.039796\n",
       "4  2  1  0.334292  0.543401  0.159890  0.303349  0.558807  0.157373\n",
       "5  2  1  0.510664  0.696249  0.255128  0.496977  0.725608  0.255970\n",
       "6  2  1  0.413957  0.632996  0.374176  0.390878  0.657645  0.374735\n",
       "7  2  1  0.712552  0.554790  0.112271  0.750056  0.561494  0.114944\n",
       "8  2  1  0.320995  0.298682  0.183700  0.281301  0.261433  0.182779\n",
       "9  2  1  0.394742  0.279367  0.302747  0.350860  0.233500  0.302196"
      ]
     },
     "execution_count": 22,
     "metadata": {},
     "output_type": "execute_result"
    }
   ],
   "source": [
    "#incarcarea fisierului csv fara header\n",
    "df = pd.read_csv('./data/carbon_nanotubes.csv', skiprows=1, header=None)\n",
    "\n",
    "df.head(10)"
   ]
  },
  {
   "cell_type": "code",
   "execution_count": 23,
   "metadata": {},
   "outputs": [],
   "source": [
    "nr_of_columns = df.shape[1]\n",
    "\n",
    "first = widgets.Dropdown(\n",
    "    options= range(nr_of_columns),\n",
    "    description='FirstColumn:',\n",
    "    disabled=False,\n",
    ")\n",
    "\n",
    "second = widgets.Dropdown(\n",
    "    options= range(nr_of_columns),\n",
    "    description='SecColumn:',\n",
    "    disabled=False,\n",
    ")"
   ]
  },
  {
   "cell_type": "code",
   "execution_count": 24,
   "metadata": {
    "scrolled": true
   },
   "outputs": [
    {
     "data": {
      "application/vnd.jupyter.widget-view+json": {
       "model_id": "03cd15b441634452a0d0682ff181bc55",
       "version_major": 2,
       "version_minor": 0
      },
      "text/plain": [
       "interactive(children=(Dropdown(description='FirstColumn:', options=(0, 1, 2, 3, 4, 5, 6, 7), value=0), Dropdow…"
      ]
     },
     "metadata": {},
     "output_type": "display_data"
    },
    {
     "data": {
      "text/plain": [
       "<function __main__.show_articles_more_than(first_column=Dropdown(description='FirstColumn:', options=(0, 1, 2, 3, 4, 5, 6, 7), value=0), second_column=Dropdown(description='SecColumn:', options=(0, 1, 2, 3, 4, 5, 6, 7), value=0))>"
      ]
     },
     "execution_count": 24,
     "metadata": {},
     "output_type": "execute_result"
    }
   ],
   "source": [
    "def show_articles_more_than(first_column=first, second_column=second):\n",
    "    display(df[[first_column, second_column]])\n",
    "\n",
    "interact(show_articles_more_than)"
   ]
  },
  {
   "cell_type": "code",
   "execution_count": 25,
   "metadata": {},
   "outputs": [],
   "source": [
    " def draw_graph(first_col=first, second_col= second):\n",
    "\n",
    "        #first_col, second_col = function(first_column=first, second_column=second)\n",
    "\n",
    "        first_col_values = df[first_col]\n",
    "        second_col_values = df[second_col]\n",
    "        plt.figure(figsize=(25, 25))\n",
    "#         a = np.ones(df[first_col].shape[0])* first_col\n",
    "#         b = np.ones(df[second_col].shape[0])* second_col\n",
    "\n",
    "        plt.plot(first_col_values, second_col_values, 'bo')\n",
    "      #  plt.plot(b, second_col_values, 'ro')\""
   ]
  },
  {
   "cell_type": "code",
   "execution_count": 26,
   "metadata": {},
   "outputs": [
    {
     "data": {
      "application/vnd.jupyter.widget-view+json": {
       "model_id": "d86fcebf64054507802a956f45132b3b",
       "version_major": 2,
       "version_minor": 0
      },
      "text/plain": [
       "interactive(children=(Dropdown(description='FirstColumn:', options=(0, 1, 2, 3, 4, 5, 6, 7), value=0), Dropdow…"
      ]
     },
     "metadata": {},
     "output_type": "display_data"
    },
    {
     "data": {
      "text/plain": [
       "<function __main__.draw_graph(first_col=Dropdown(description='FirstColumn:', options=(0, 1, 2, 3, 4, 5, 6, 7), value=0), second_col=Dropdown(description='SecColumn:', options=(0, 1, 2, 3, 4, 5, 6, 7), value=0))>"
      ]
     },
     "execution_count": 26,
     "metadata": {},
     "output_type": "execute_result"
    }
   ],
   "source": [
    "interact(draw_graph)"
   ]
  },
  {
   "cell_type": "markdown",
   "metadata": {},
   "source": [
    "2."
   ]
  },
  {
   "cell_type": "code",
   "execution_count": 27,
   "metadata": {},
   "outputs": [
    {
     "data": {
      "application/vnd.jupyter.widget-view+json": {
       "model_id": "f1337845d8c8404e9cf1da73f285056f",
       "version_major": 2,
       "version_minor": 0
      },
      "text/plain": [
       "interactive(children=(IntSlider(value=1, description='a', max=10), IntSlider(value=0, description='b', max=10)…"
      ]
     },
     "metadata": {},
     "output_type": "display_data"
    },
    {
     "data": {
      "text/plain": [
       "<function __main__.linear_function(a=1, b=0)>"
      ]
     },
     "execution_count": 27,
     "metadata": {},
     "output_type": "execute_result"
    }
   ],
   "source": [
    "import numpy as np\n",
    "import matplotlib.pyplot as plt\n",
    "\n",
    "#aceasta functie returneza cei doi vectori pentru puncte\n",
    "def vector() -> tuple:\n",
    "    list_1: np.array = np.random.uniform(low=0, high=10, size=20)\n",
    "    list_2: np.array = np.random.uniform(low=0, high=10, size=20)\n",
    "    for x in range(len(list_1)):\n",
    "        x=x*10\n",
    "    for y in range(len(list_2)):\n",
    "        y=y*10\n",
    "\n",
    "    return  (list_1, list_2)\n",
    "\n",
    "vector_x, vector_y = vector()\n",
    "\n",
    "#pentru desenarea liniilor verzi\n",
    "new_y: np.array=([])\n",
    "#pentru desenarea histogramei de distanta\n",
    "distance_between_points: list = []\n",
    "    \n",
    "def linear_function(a=1, b=0):\n",
    "    x = np.linspace(start=0, stop=10)\n",
    "    y = a*x+b \n",
    "    \n",
    "    for x2 in vector_x:\n",
    "        y2 = a*x2+b\n",
    "        new_y.append(y2)\n",
    "\n",
    "    for i in range(len(vector_x)):\n",
    "        point1  =[vector_x[i], vector_y[i]]\n",
    "        point2 = [vector_x[i], new_y[i]]\n",
    "        vec_x = [vector_x[i], vector_x[i]]\n",
    "        vec_y = [vector_y[i], new_y[i]] \n",
    "        \n",
    "        #desenez fiecare linie verde\n",
    "        plt.plot(vec_x, vec_y, color='green')\n",
    "        \n",
    "        #adaug lungimea dreptei in lista     \n",
    "        distance_between_points.append(abs(new_y[i]-vector_y[i]))\n",
    "        \n",
    "    #desenez dreapta si punctele     \n",
    "    plt.plot(x, y, color='blue')\n",
    "    plt.plot(vector_x, vector_y, 'ro')\n",
    "        \n",
    "interact(linear_function, a=(0, 10), b=(0, 10))"
   ]
  },
  {
   "cell_type": "code",
   "execution_count": 28,
   "metadata": {},
   "outputs": [
    {
     "data": {
      "text/plain": [
       "(array([2., 1., 7., 1., 4., 1., 0., 1., 1., 2.]),\n",
       " array([0.02301357, 0.86325309, 1.70349261, 2.54373213, 3.38397165,\n",
       "        4.22421117, 5.06445068, 5.9046902 , 6.74492972, 7.58516924,\n",
       "        8.42540876]),\n",
       " <a list of 10 Patch objects>)"
      ]
     },
     "execution_count": 28,
     "metadata": {},
     "output_type": "execute_result"
    },
    {
     "data": {
      "image/png": "[encoded data removed]",
      "text/plain": [
       "<Figure size 432x288 with 1 Axes>"
      ]
     },
     "metadata": {
      "needs_background": "light"
     },
     "output_type": "display_data"
    }
   ],
   "source": [
    "plt.hist(distance_between_points, bins=10)"
   ]
  },
  {
   "cell_type": "code",
   "execution_count": 29,
   "metadata": {},
   "outputs": [
    {
     "name": "stdout",
     "output_type": "stream",
     "text": [
      "Sum: 348.23750507697434\n"
     ]
    }
   ],
   "source": [
    "def sum_of_vectors(a:int, b:int)-> None:\n",
    "    vector2_x: np.array = [x*a+b for x in vector_x]\n",
    "    print(\"Sum:\",sum(np.square(vector_y-vector2_x)))\n",
    "\n",
    "sum_of_vectors(1,2)"
   ]
  },
  {
   "cell_type": "markdown",
   "metadata": {},
   "source": [
    "4."
   ]
  },
  {
   "cell_type": "markdown",
   "metadata": {},
   "source": [
    "Demo 1: am inteles legatura intre acel \"Slider\" si graf,\n",
    "dar as fi vrut sa vad si putin cod, pentru a intelege lucrul cu widget in python.\n",
    "\n",
    "Demo 2: mi-a placut, am inteles ca exista astfel de optiuni si cum sa le folosesc.\n",
    "Conteaza foarte mult asocierea codului cu o imagine si cu o explicatie corespunzatoare.\n",
    "As dori sa primesc mai multe astfel de exemple.\n",
    "\n",
    "Demo 3: seamana cu modul dvs de predare, este un bun exemplu pentru a oferi suport in rezolvarea exercitiilor\n",
    "\n",
    "Demo 4: acesta contine informatii care necesita explicatii suplimentare din partea dvs,\n",
    "pentru a intelege importanta folosirii acelor secvente.\n"
   ]
  },
  {
   "cell_type": "code",
   "execution_count": null,
   "metadata": {},
   "outputs": [],
   "source": []
  }
 ],
 "metadata": {
  "kernelspec": {
   "display_name": "Python 3",
   "language": "python",
   "name": "python3"
  },
  "toc": {
   "base_numbering": 1,
   "nav_menu": {},
   "number_sections": true,
   "sideBar": true,
   "skip_h1_title": false,
   "title_cell": "Table of Contents",
   "title_sidebar": "Contents",
   "toc_cell": false,
   "toc_position": {},
   "toc_section_display": true,
   "toc_window_display": false
  },
  "varInspector": {
   "cols": {
    "lenName": 16,
    "lenType": 16,
    "lenVar": 40
   },
   "kernels_config": {
    "python": {
     "delete_cmd_postfix": "",
     "delete_cmd_prefix": "del ",
     "library": "var_list.py",
     "varRefreshCmd": "print(var_dic_list())"
    },
    "r": {
     "delete_cmd_postfix": ") ",
     "delete_cmd_prefix": "rm(",
     "library": "var_list.r",
     "varRefreshCmd": "cat(var_dic_list()) "
    }
   },
   "types_to_exclude": [
    "module",
    "function",
    "builtin_function_or_method",
    "instance",
    "_Feature"
   ],
   "window_display": false
  }
 },
 "nbformat": 4,
 "nbformat_minor": 2
}
