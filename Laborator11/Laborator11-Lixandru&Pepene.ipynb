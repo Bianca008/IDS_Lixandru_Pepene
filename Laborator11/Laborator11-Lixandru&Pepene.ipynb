{
 "cells": [
  {
   "cell_type": "markdown",
   "metadata": {},
   "source": [
    "<font color=magenta> Lixandru Andreea Bianca GR10LF382\n",
    "<br> Pepene Adina-Florentina GR10LF382"
   ]
  },
  {
   "cell_type": "markdown",
   "metadata": {},
   "source": [
    "# Laborator 11"
   ]
  },
  {
   "cell_type": "markdown",
   "metadata": {},
   "source": [
    "Folosind un set de date - de exemplu de la https://archive.ics.uci.edu/ml/datasets.php?format=&task=&att=&area=&numAtt=&numIns=&type=text&sort=taskDown&view=table - sa se rezolve o problema de clasificare sau regresie, plecand de la intrari de tip text.\n",
    "\n",
    "Se poate opta pentru codificare BOW, n-grams, word2vec sau altele adecvate. Modelele de predictie pot fi din biblioteca scikit-learn. Puteti folosi pentru preprocesare biblioteca [NLTK](https://www.nltk.org) etc.\n",
    "\n",
    "Pentru clasificare se va optimiza scorul F1; se vor raporta scorurile F1 si acuratetea. Pentru regresie se va optimiza scorul mean squared error; se vor raporta scorurile MSE, mean absolute error, r2.\n",
    "\n",
    "Exemple:\n",
    "1. [Clasificare de SMS-uri](https://archive.ics.uci.edu/ml/datasets/SMS+Spam+Collection)\n",
    "1. [Sentence Classification Data Set](https://archive.ics.uci.edu/ml/datasets/Sentence+Classification#)\n",
    "1. [Sentiment Labelled Sentences Data Set](https://archive.ics.uci.edu/ml/datasets/Sentiment+Labelled+Sentences)\n",
    "1. [Victorian Era Authorship Attribution Data Set](https://archive.ics.uci.edu/ml/datasets/Victorian+Era+Authorship+Attribution)\n",
    "1. [Amazon Commerce reviews set Data Set](https://archive.ics.uci.edu/ml/datasets/Amazon+Commerce+reviews+set)\n",
    "1. [Farm Ads Data Set](https://archive.ics.uci.edu/ml/datasets/Farm+Ads)\n",
    "1. etc...\n",
    "\n",
    "\n",
    "Se vor investiga minim 2 seturi de date si pentru fiecare din ele minim 4 modele de clasificare sau regresie. Daca setul de date e deja impartit in train si test, se va folosi ca atare - setul de antrenare se va imparti, suplimentar in train + validation; altfel, se va face kfold CV, k=5. Valorile optimale ale hiperparametrilor vor fi alesi prin random search si grid search.\n",
    "\n",
    "Pentru fiecare set de date:\n",
    "1. (2 x 0.5 p) Se descrie setul de date, in limba romana (continut, provenienta, problema etc.)\n",
    "1. (2 x 1 p) Se face analiza exploratorie, folosind cod Python: distributia claselor sau a valorilor continue de iesire - numeric si grafic, statistici asupra textelor (de exemplu: lungime minima/medie/maxima; cele mai frecvente k cuvinte; clustering etc.). Se va explica fiecare pas si ce se urmareste prin efectuarea lui. Graficele vor avea axele numite (ce se reprezinta, evetual unitate de masura)\n",
    "1. (2 x 0.5 p) Se face preprocesare de date; se explica in limba romana care sunt metodele de preprocesare folosite, efectul lor pe datele de intrare, ce forma are iesirea obtinuta; se arata efectele pasilor de preprocesare asupra setului de date (noul numar de documente, dinamica vocabularului, trasaturile rezultate etc.) Se pot aduga grafice si tabele la acest pas.\n",
    "1. (2 x 4 x 0.5 p) Clasificare sau regresie, dupa caz: se face o descriere a modelelor considerate, in limba romana; se descrie modalitatea de cautare a hiperparametrilor; rezultatele obtinute se vor prezenta tabelar, similar cu tema precedenta. \n",
    "\n",
    "Se acorda doua puncte din oficiu.\n",
    "\n",
    "Descrierea modelelor si a pasilor de preprocesare pot fi in sectiuni separate, cu referinte la acestea unde e necesar. Partea specifica aplicarii pasilor pe datele considerate va fi prezentata respectand ordinea de aplicare. \n",
    "\n",
    "Exemple:\n",
    "1. [Working With Text Data](https://scikit-learn.org/stable/tutorial/text_analytics/working_with_text_data.html)\n",
    "1. [Text Classification with Python and Scikit-Learn](https://stackabuse.com/text-classification-with-python-and-scikit-learn/)\n",
    "1. [How to Prepare Text Data for Machine Learning with scikit-learn](https://machinelearningmastery.com/prepare-text-data-machine-learning-scikit-learn/)\n",
    "\n",
    "Predarea temei se va face prin platforma de elearning in saptamana 25-29 mai."
   ]
  },
  {
   "cell_type": "code",
   "execution_count": 1,
   "metadata": {},
   "outputs": [],
   "source": [
    "import pandas as pd \n",
    "import numpy as np\n",
    "from typing import List\n",
    "\n",
    "import matplotlib.pyplot as plt\n",
    "\n",
    "from sklearn.feature_extraction.text import CountVectorizer\n",
    "\n",
    "from sklearn.preprocessing import MinMaxScaler\n",
    "from sklearn.model_selection import GridSearchCV, RandomizedSearchCV\n",
    "from sklearn.metrics import accuracy_score\n",
    "from sklearn.model_selection import cross_val_score\n",
    "from sklearn.tree import DecisionTreeClassifier\n",
    "from sklearn.model_selection import cross_validate\n",
    "from sklearn.ensemble import RandomForestClassifier\n",
    "from sklearn.neighbors import KNeighborsClassifier\n",
    "from sklearn.model_selection import train_test_split\n",
    "from sklearn.svm import SVC\n",
    "from sklearn.neural_network import MLPClassifier\n",
    "from sklearn.gaussian_process import GaussianProcessClassifier\n",
    "from sklearn.naive_bayes import GaussianNB\n",
    "from sklearn.pipeline import Pipeline"
   ]
  },
  {
   "cell_type": "code",
   "execution_count": 2,
   "metadata": {},
   "outputs": [
    {
     "name": "stdout",
     "output_type": "stream",
     "text": [
      "Pandas version: 1.0.1\n",
      "Numpy version: 1.18.1\n"
     ]
    }
   ],
   "source": [
    "print('Pandas version:', pd.__version__)\n",
    "print('Numpy version:', np.__version__)\n",
    "# Pandas version: 1.0.1\n",
    "# Numpy version: 1.18.1"
   ]
  },
  {
   "cell_type": "markdown",
   "metadata": {},
   "source": [
    "# Citirea datelor "
   ]
  },
  {
   "cell_type": "markdown",
   "metadata": {},
   "source": [
    "### <font color=\"blue\"> Pentru primul set de date"
   ]
  },
  {
   "cell_type": "code",
   "execution_count": 3,
   "metadata": {},
   "outputs": [
    {
     "data": {
      "text/html": [
       "<div>\n",
       "<style scoped>\n",
       "    .dataframe tbody tr th:only-of-type {\n",
       "        vertical-align: middle;\n",
       "    }\n",
       "\n",
       "    .dataframe tbody tr th {\n",
       "        vertical-align: top;\n",
       "    }\n",
       "\n",
       "    .dataframe thead th {\n",
       "        text-align: right;\n",
       "    }\n",
       "</style>\n",
       "<table border=\"1\" class=\"dataframe\">\n",
       "  <thead>\n",
       "    <tr style=\"text-align: right;\">\n",
       "      <th></th>\n",
       "      <th>category</th>\n",
       "      <th>message</th>\n",
       "    </tr>\n",
       "  </thead>\n",
       "  <tbody>\n",
       "    <tr>\n",
       "      <th>0</th>\n",
       "      <td>ham</td>\n",
       "      <td>Go until jurong point, crazy.. Available only ...</td>\n",
       "    </tr>\n",
       "    <tr>\n",
       "      <th>1</th>\n",
       "      <td>ham</td>\n",
       "      <td>Ok lar... Joking wif u oni...</td>\n",
       "    </tr>\n",
       "    <tr>\n",
       "      <th>2</th>\n",
       "      <td>spam</td>\n",
       "      <td>Free entry in 2 a wkly comp to win FA Cup fina...</td>\n",
       "    </tr>\n",
       "    <tr>\n",
       "      <th>3</th>\n",
       "      <td>ham</td>\n",
       "      <td>U dun say so early hor... U c already then say...</td>\n",
       "    </tr>\n",
       "    <tr>\n",
       "      <th>4</th>\n",
       "      <td>ham</td>\n",
       "      <td>Nah I don't think he goes to usf, he lives aro...</td>\n",
       "    </tr>\n",
       "  </tbody>\n",
       "</table>\n",
       "</div>"
      ],
      "text/plain": [
       "  category                                            message\n",
       "0      ham  Go until jurong point, crazy.. Available only ...\n",
       "1      ham                      Ok lar... Joking wif u oni...\n",
       "2     spam  Free entry in 2 a wkly comp to win FA Cup fina...\n",
       "3      ham  U dun say so early hor... U c already then say...\n",
       "4      ham  Nah I don't think he goes to usf, he lives aro..."
      ]
     },
     "execution_count": 3,
     "metadata": {},
     "output_type": "execute_result"
    }
   ],
   "source": [
    "dataset_sms = pd.read_csv('Data/smsspamcollection/SMSSpamCollection', sep = '\\t', names = ['category', 'message'])\n",
    "dataset_sms.head()"
   ]
  },
  {
   "cell_type": "code",
   "execution_count": 4,
   "metadata": {},
   "outputs": [
    {
     "data": {
      "text/html": [
       "<div>\n",
       "<style scoped>\n",
       "    .dataframe tbody tr th:only-of-type {\n",
       "        vertical-align: middle;\n",
       "    }\n",
       "\n",
       "    .dataframe tbody tr th {\n",
       "        vertical-align: top;\n",
       "    }\n",
       "\n",
       "    .dataframe thead th {\n",
       "        text-align: right;\n",
       "    }\n",
       "</style>\n",
       "<table border=\"1\" class=\"dataframe\">\n",
       "  <thead>\n",
       "    <tr style=\"text-align: right;\">\n",
       "      <th></th>\n",
       "      <th>category</th>\n",
       "      <th>message</th>\n",
       "    </tr>\n",
       "  </thead>\n",
       "  <tbody>\n",
       "    <tr>\n",
       "      <th>0</th>\n",
       "      <td>0</td>\n",
       "      <td>Go until jurong point, crazy.. Available only ...</td>\n",
       "    </tr>\n",
       "    <tr>\n",
       "      <th>1</th>\n",
       "      <td>0</td>\n",
       "      <td>Ok lar... Joking wif u oni...</td>\n",
       "    </tr>\n",
       "    <tr>\n",
       "      <th>2</th>\n",
       "      <td>1</td>\n",
       "      <td>Free entry in 2 a wkly comp to win FA Cup fina...</td>\n",
       "    </tr>\n",
       "    <tr>\n",
       "      <th>3</th>\n",
       "      <td>0</td>\n",
       "      <td>U dun say so early hor... U c already then say...</td>\n",
       "    </tr>\n",
       "    <tr>\n",
       "      <th>4</th>\n",
       "      <td>0</td>\n",
       "      <td>Nah I don't think he goes to usf, he lives aro...</td>\n",
       "    </tr>\n",
       "  </tbody>\n",
       "</table>\n",
       "</div>"
      ],
      "text/plain": [
       "   category                                            message\n",
       "0         0  Go until jurong point, crazy.. Available only ...\n",
       "1         0                      Ok lar... Joking wif u oni...\n",
       "2         1  Free entry in 2 a wkly comp to win FA Cup fina...\n",
       "3         0  U dun say so early hor... U c already then say...\n",
       "4         0  Nah I don't think he goes to usf, he lives aro..."
      ]
     },
     "execution_count": 4,
     "metadata": {},
     "output_type": "execute_result"
    }
   ],
   "source": [
    "'''Transformam trasaturile de predictie din \"ham\" si \"spam\" in \"0\" si \"1\" '''\n",
    "dataset_sms = dataset_sms.replace(['ham', 'spam'], [0, 1])\n",
    "dataset_sms.head()"
   ]
  },
  {
   "cell_type": "code",
   "execution_count": 5,
   "metadata": {},
   "outputs": [
    {
     "name": "stdout",
     "output_type": "stream",
     "text": [
      "<class 'pandas.core.frame.DataFrame'>\n",
      "RangeIndex: 5572 entries, 0 to 5571\n",
      "Data columns (total 2 columns):\n",
      " #   Column    Non-Null Count  Dtype \n",
      "---  ------    --------------  ----- \n",
      " 0   category  5572 non-null   int64 \n",
      " 1   message   5572 non-null   object\n",
      "dtypes: int64(1), object(1)\n",
      "memory usage: 87.2+ KB\n"
     ]
    }
   ],
   "source": [
    "dataset_sms.info()"
   ]
  },
  {
   "cell_type": "code",
   "execution_count": 6,
   "metadata": {},
   "outputs": [
    {
     "data": {
      "text/html": [
       "<div>\n",
       "<style scoped>\n",
       "    .dataframe tbody tr th:only-of-type {\n",
       "        vertical-align: middle;\n",
       "    }\n",
       "\n",
       "    .dataframe tbody tr th {\n",
       "        vertical-align: top;\n",
       "    }\n",
       "\n",
       "    .dataframe thead tr th {\n",
       "        text-align: left;\n",
       "    }\n",
       "\n",
       "    .dataframe thead tr:last-of-type th {\n",
       "        text-align: right;\n",
       "    }\n",
       "</style>\n",
       "<table border=\"1\" class=\"dataframe\">\n",
       "  <thead>\n",
       "    <tr>\n",
       "      <th></th>\n",
       "      <th colspan=\"4\" halign=\"left\">message</th>\n",
       "    </tr>\n",
       "    <tr>\n",
       "      <th></th>\n",
       "      <th>count</th>\n",
       "      <th>unique</th>\n",
       "      <th>top</th>\n",
       "      <th>freq</th>\n",
       "    </tr>\n",
       "    <tr>\n",
       "      <th>category</th>\n",
       "      <th></th>\n",
       "      <th></th>\n",
       "      <th></th>\n",
       "      <th></th>\n",
       "    </tr>\n",
       "  </thead>\n",
       "  <tbody>\n",
       "    <tr>\n",
       "      <th>0</th>\n",
       "      <td>4825</td>\n",
       "      <td>4516</td>\n",
       "      <td>Sorry, I'll call later</td>\n",
       "      <td>30</td>\n",
       "    </tr>\n",
       "    <tr>\n",
       "      <th>1</th>\n",
       "      <td>747</td>\n",
       "      <td>653</td>\n",
       "      <td>Please call our customer service representativ...</td>\n",
       "      <td>4</td>\n",
       "    </tr>\n",
       "  </tbody>\n",
       "</table>\n",
       "</div>"
      ],
      "text/plain": [
       "         message                                                            \\\n",
       "           count unique                                                top   \n",
       "category                                                                     \n",
       "0           4825   4516                             Sorry, I'll call later   \n",
       "1            747    653  Please call our customer service representativ...   \n",
       "\n",
       "               \n",
       "         freq  \n",
       "category       \n",
       "0          30  \n",
       "1           4  "
      ]
     },
     "execution_count": 6,
     "metadata": {},
     "output_type": "execute_result"
    }
   ],
   "source": [
    "'''Observam ca setul de date nu contine date echilibrate\n",
    "avem 4825 de inregistrari pentru clasa 0 si 747 de inregistrari \n",
    "pentru clasa 1. De asemenea, observam textul cel mai frecvent\n",
    "din cele doua clase si nr de ocurente.'''\n",
    "\n",
    "dataset_sms.groupby('category').describe()"
   ]
  },
  {
   "cell_type": "markdown",
   "metadata": {},
   "source": [
    "### <font color=\"blue\"> Pentru al doilea set de date"
   ]
  },
  {
   "cell_type": "code",
   "execution_count": 7,
   "metadata": {},
   "outputs": [
    {
     "data": {
      "text/html": [
       "<div>\n",
       "<style scoped>\n",
       "    .dataframe tbody tr th:only-of-type {\n",
       "        vertical-align: middle;\n",
       "    }\n",
       "\n",
       "    .dataframe tbody tr th {\n",
       "        vertical-align: top;\n",
       "    }\n",
       "\n",
       "    .dataframe thead th {\n",
       "        text-align: right;\n",
       "    }\n",
       "</style>\n",
       "<table border=\"1\" class=\"dataframe\">\n",
       "  <thead>\n",
       "    <tr style=\"text-align: right;\">\n",
       "      <th></th>\n",
       "      <th>message</th>\n",
       "      <th>class</th>\n",
       "    </tr>\n",
       "  </thead>\n",
       "  <tbody>\n",
       "    <tr>\n",
       "      <th>0</th>\n",
       "      <td>Wow... Loved this place.</td>\n",
       "      <td>1</td>\n",
       "    </tr>\n",
       "    <tr>\n",
       "      <th>1</th>\n",
       "      <td>Crust is not good.</td>\n",
       "      <td>0</td>\n",
       "    </tr>\n",
       "    <tr>\n",
       "      <th>2</th>\n",
       "      <td>Not tasty and the texture was just nasty.</td>\n",
       "      <td>0</td>\n",
       "    </tr>\n",
       "    <tr>\n",
       "      <th>3</th>\n",
       "      <td>Stopped by during the late May bank holiday of...</td>\n",
       "      <td>1</td>\n",
       "    </tr>\n",
       "    <tr>\n",
       "      <th>4</th>\n",
       "      <td>The selection on the menu was great and so wer...</td>\n",
       "      <td>1</td>\n",
       "    </tr>\n",
       "  </tbody>\n",
       "</table>\n",
       "</div>"
      ],
      "text/plain": [
       "                                             message  class\n",
       "0                           Wow... Loved this place.      1\n",
       "1                                 Crust is not good.      0\n",
       "2          Not tasty and the texture was just nasty.      0\n",
       "3  Stopped by during the late May bank holiday of...      1\n",
       "4  The selection on the menu was great and so wer...      1"
      ]
     },
     "execution_count": 7,
     "metadata": {},
     "output_type": "execute_result"
    }
   ],
   "source": [
    "dataset_sentiment = pd.read_csv('Data/sentiment labelled sentences/sentiment labelled sentences/yelp_labelled.txt', \n",
    "                                sep = '\\t', names = ['message', 'class'])\n",
    "dataset_sentiment.head()"
   ]
  },
  {
   "cell_type": "code",
   "execution_count": 8,
   "metadata": {},
   "outputs": [
    {
     "name": "stdout",
     "output_type": "stream",
     "text": [
      "<class 'pandas.core.frame.DataFrame'>\n",
      "RangeIndex: 1000 entries, 0 to 999\n",
      "Data columns (total 2 columns):\n",
      " #   Column   Non-Null Count  Dtype \n",
      "---  ------   --------------  ----- \n",
      " 0   message  1000 non-null   object\n",
      " 1   class    1000 non-null   int64 \n",
      "dtypes: int64(1), object(1)\n",
      "memory usage: 15.8+ KB\n"
     ]
    }
   ],
   "source": [
    "dataset_sentiment.info()"
   ]
  },
  {
   "cell_type": "code",
   "execution_count": 9,
   "metadata": {},
   "outputs": [
    {
     "data": {
      "text/html": [
       "<div>\n",
       "<style scoped>\n",
       "    .dataframe tbody tr th:only-of-type {\n",
       "        vertical-align: middle;\n",
       "    }\n",
       "\n",
       "    .dataframe tbody tr th {\n",
       "        vertical-align: top;\n",
       "    }\n",
       "\n",
       "    .dataframe thead tr th {\n",
       "        text-align: left;\n",
       "    }\n",
       "\n",
       "    .dataframe thead tr:last-of-type th {\n",
       "        text-align: right;\n",
       "    }\n",
       "</style>\n",
       "<table border=\"1\" class=\"dataframe\">\n",
       "  <thead>\n",
       "    <tr>\n",
       "      <th></th>\n",
       "      <th colspan=\"4\" halign=\"left\">message</th>\n",
       "    </tr>\n",
       "    <tr>\n",
       "      <th></th>\n",
       "      <th>count</th>\n",
       "      <th>unique</th>\n",
       "      <th>top</th>\n",
       "      <th>freq</th>\n",
       "    </tr>\n",
       "    <tr>\n",
       "      <th>class</th>\n",
       "      <th></th>\n",
       "      <th></th>\n",
       "      <th></th>\n",
       "      <th></th>\n",
       "    </tr>\n",
       "  </thead>\n",
       "  <tbody>\n",
       "    <tr>\n",
       "      <th>0</th>\n",
       "      <td>500</td>\n",
       "      <td>497</td>\n",
       "      <td>The food was terrible.</td>\n",
       "      <td>2</td>\n",
       "    </tr>\n",
       "    <tr>\n",
       "      <th>1</th>\n",
       "      <td>500</td>\n",
       "      <td>499</td>\n",
       "      <td>I love this place.</td>\n",
       "      <td>2</td>\n",
       "    </tr>\n",
       "  </tbody>\n",
       "</table>\n",
       "</div>"
      ],
      "text/plain": [
       "      message                                    \n",
       "        count unique                     top freq\n",
       "class                                            \n",
       "0         500    497  The food was terrible.    2\n",
       "1         500    499      I love this place.    2"
      ]
     },
     "execution_count": 9,
     "metadata": {},
     "output_type": "execute_result"
    }
   ],
   "source": [
    "'''Observam ca setul de date este echilibrat, continand 500 de inregistrari \n",
    "de clasa 0 si 500 de inregistrari de clasa 1. Cel mai frcvent text are 2 \n",
    "repetitii semn ca nu intalnim acelasi text foarte des(avem 497, 499 de \n",
    "inregistrari unice din 500,500)'''\n",
    "\n",
    "dataset_sentiment.groupby('class').describe()"
   ]
  },
  {
   "cell_type": "markdown",
   "metadata": {},
   "source": [
    "# Separarea datelor"
   ]
  },
  {
   "cell_type": "markdown",
   "metadata": {},
   "source": [
    "### <font color=\"blue\"> Pentru primul set de date"
   ]
  },
  {
   "cell_type": "code",
   "execution_count": 10,
   "metadata": {},
   "outputs": [
    {
     "name": "stdout",
     "output_type": "stream",
     "text": [
      "0    Go until jurong point, crazy.. Available only ...\n",
      "1                        Ok lar... Joking wif u oni...\n",
      "2    Free entry in 2 a wkly comp to win FA Cup fina...\n",
      "3    U dun say so early hor... U c already then say...\n",
      "4    Nah I don't think he goes to usf, he lives aro...\n",
      "Name: message, dtype: object\n",
      "0    0\n",
      "1    0\n",
      "2    1\n",
      "3    0\n",
      "4    0\n",
      "Name: category, dtype: int64\n"
     ]
    }
   ],
   "source": [
    "X_sms = dataset_sms.message\n",
    "Y_sms = dataset_sms.category\n",
    "print(X_sms[:5])\n",
    "print(Y_sms[:5])"
   ]
  },
  {
   "cell_type": "code",
   "execution_count": 11,
   "metadata": {},
   "outputs": [
    {
     "name": "stdout",
     "output_type": "stream",
     "text": [
      "Cum este organizat textul:  <class 'pandas.core.series.Series'>\n",
      "Cate date text sunt in serie:  5572\n",
      "Primul text:  Go until jurong point, crazy.. Available only in bugis n great world la e buffet... Cine there got amore wat...\n",
      "Categoria asociata:  0\n",
      "Tipul de categorii [0 1] si numarul de categorii din setul de date 2\n",
      "Numarul de date din fiecare categorie: [4825  747]\n"
     ]
    }
   ],
   "source": [
    "print('Cum este organizat textul: ', type(X_sms))\n",
    "print('Cate date text sunt in serie: ', len(X_sms))\n",
    "print('Primul text: ', X_sms[0])\n",
    "print('Categoria asociata: ', Y_sms[0])\n",
    "print('Tipul de categorii {0} si numarul de categorii din setul de date {1}'.format(np.unique(Y_sms), \n",
    "                                                                                    len(np.unique(Y_sms))))\n",
    "print('Numarul de date din fiecare categorie: {0}'.format(np.bincount(Y_sms)))"
   ]
  },
  {
   "cell_type": "markdown",
   "metadata": {},
   "source": [
    "### <font color=\"blue\"> Pentru al doilea set de date"
   ]
  },
  {
   "cell_type": "code",
   "execution_count": 12,
   "metadata": {},
   "outputs": [
    {
     "name": "stdout",
     "output_type": "stream",
     "text": [
      "0                             Wow... Loved this place.\n",
      "1                                   Crust is not good.\n",
      "2            Not tasty and the texture was just nasty.\n",
      "3    Stopped by during the late May bank holiday of...\n",
      "4    The selection on the menu was great and so wer...\n",
      "Name: message, dtype: object\n",
      "0    1\n",
      "1    0\n",
      "2    0\n",
      "3    1\n",
      "4    1\n",
      "Name: class, dtype: int64\n"
     ]
    }
   ],
   "source": [
    "X_sentiment = dataset_sentiment.message\n",
    "Y_sentiment = dataset_sentiment['class']\n",
    "\n",
    "print(X_sentiment[:5])\n",
    "print(Y_sentiment[:5])"
   ]
  },
  {
   "cell_type": "code",
   "execution_count": 13,
   "metadata": {},
   "outputs": [
    {
     "name": "stdout",
     "output_type": "stream",
     "text": [
      "Cum este organizat textul:  <class 'pandas.core.series.Series'>\n",
      "Cate date text sunt in serie:  1000\n",
      "Primul text:  Wow... Loved this place.\n",
      "Clasa asociata:  1\n",
      "Tipul de clase [0 1] si numarul de clase din setul de date 2\n",
      "Numarul de date din fiecare clasa [500 500]\n"
     ]
    }
   ],
   "source": [
    "print('Cum este organizat textul: ', type(X_sentiment))\n",
    "print('Cate date text sunt in serie: ', len(X_sentiment))\n",
    "print('Primul text: ', X_sentiment[0])\n",
    "print('Clasa asociata: ', Y_sentiment[0])\n",
    "print('Tipul de clase {0} si numarul de clase din setul de date {1}'.format(np.unique(Y_sentiment), \n",
    "                                                                                    len(np.unique(Y_sentiment))))\n",
    "print('Numarul de date din fiecare clasa {0}'.format(np.bincount(Y_sentiment)))"
   ]
  },
  {
   "cell_type": "markdown",
   "metadata": {},
   "source": [
    "# Reprezentarea textului sub forma bag of words"
   ]
  },
  {
   "cell_type": "markdown",
   "metadata": {},
   "source": [
    "### <font color=\"blue\"> Pentru primul set de date"
   ]
  },
  {
   "cell_type": "code",
   "execution_count": 14,
   "metadata": {},
   "outputs": [
    {
     "name": "stdout",
     "output_type": "stream",
     "text": [
      "{'go': 656, 'until': 1636, 'point': 1196, 'crazy': 400, 'available': 187, 'only': 1112, 'in': 781, 'bugis': 272, 'great': 671, 'world': 1766, 'la': 849, 'cine': 341, 'there': 1537, 'got': 667, 'wat': 1693, 'ok': 1101, 'lar': 856, 'joking': 823, 'wif': 1733, 'free': 609, 'entry': 529, 'wkly': 1751, 'comp': 366, 'to': 1570, 'win': 1738, 'cup': 408, 'final': 582, 'may': 962, 'text': 1521, 'receive': 1262, 'question': 1233, 'std': 1459, 'txt': 1616, 'rate': 1245, 'apply': 158, 'dun': 495, 'say': 1328, 'so': 1416, 'early': 501, 'already': 132, 'then': 1536, 'nah': 1045, 'don': 475, 'think': 1542, 'he': 707, 'goes': 658, 'usf': 1648, 'around': 168, 'here': 718, 'though': 1551, 'freemsg': 610, 'hey': 719, 'darling': 422, 'it': 806, 'been': 219, 'week': 1706, 'now': 1082, 'and': 143, 'no': 1068, 'word': 1760, 'back': 200, 'like': 889, 'some': 1420, 'fun': 626, 'you': 1804, 'up': 1637, 'for': 601, 'still': 1460, 'xxx': 1783, 'send': 1354, '50': 62, 'even': 535, 'my': 1042, 'brother': 266, 'is': 801, 'not': 1079, 'speak': 1439, 'with': 1746, 'me': 965, 'they': 1539, 'treat': 1598, 'as': 172, 'per': 1154, 'your': 1805, 'request': 1283, 'has': 701, 'set': 1362, 'callertune': 292, 'all': 128, 'callers': 291, 'press': 1214, 'copy': 385, 'friends': 616, 'winner': 1740, 'valued': 1655, 'network': 1055, 'customer': 412, 'have': 703, 'selected': 1348, '900': 84, 'prize': 1219, 'reward': 1293, 'claim': 344, 'call': 287, 'code': 352, 'valid': 1654, '12': 22, 'hours': 749, 'had': 685, 'mobile': 1002, '11': 20, 'months': 1014, 'or': 1121, 'more': 1018, 'entitled': 528, 'update': 1638, 'the': 1531, 'latest': 860, 'colour': 359, 'mobiles': 1003, 'camera': 297, 'co': 351, 'on': 1107, 'gonna': 662, 'be': 213, 'home': 736, 'soon': 1431, 'want': 1685, 'talk': 1502, 'about': 89, 'this': 1546, 'stuff': 1472, 'anymore': 151, 'tonight': 1580, 've': 1657, 'enough': 525, 'today': 1572, 'cash': 311, 'from': 621, '100': 16, '20': 33, '000': 1, 'pounds': 1208, 'cost': 388, '150p': 26, 'day': 427, '16': 29, 'reply': 1279, 'hl': 727, 'info': 787, 'urgent': 1641, 'won': 1755, 'our': 1131, 'www': 1779, 'net': 1054, 'pobox': 1192, 'searching': 1338, 'right': 1295, 'words': 1761, 'thank': 1526, 'promise': 1226, 'wont': 1759, 'take': 1499, 'help': 716, 'will': 1736, 'wonderful': 1757, 'at': 182, 'times': 1564, 'date': 425, 'sunday': 1482, 'use': 1645, 'credit': 402, 'click': 347, 'wap': 1688, 'link': 893, 'next': 1060, 'message': 979, 'http': 757, 'com': 360, 'oh': 1100, 'watching': 1695, 'eh': 511, 'remember': 1272, 'how': 751, 'his': 724, 'name': 1047, 'yes': 1795, 'did': 446, 'naughty': 1050, 'make': 945, 'wet': 1717, 'fine': 585, 'if': 772, 'that': 1529, 'way': 1698, 'feel': 573, 'its': 808, 'england': 522, 'dont': 477, 'miss': 993, 'team': 1510, 'news': 1059, 'ur': 1639, 'national': 1048, '87077': 82, 'eg': 509, 'try': 1606, 'seriously': 1359, 'going': 660, 'ha': 684, 'pay': 1150, 'first': 589, 'when': 1721, 'da': 416, 'stock': 1461, 'comin': 363, 'aft': 107, 'finish': 587, 'lunch': 937, 'down': 480, 'lor': 919, 'ard': 162, 'smth': 1413, 'alright': 133, 'can': 299, 'meet': 972, 'just': 828, 'myself': 1043, 'eat': 504, 'really': 1258, 'hungry': 760, 'tho': 1549, 'sucks': 1478, 'mark': 951, 'getting': 645, 'worried': 1767, 'knows': 846, 'sick': 1381, 'pizza': 1173, 'lol': 909, 'always': 136, 'catch': 312, 'bus': 274, 'are': 163, 'an': 142, 'egg': 510, 'tea': 1508, 'eating': 506, 'mom': 1007, 'left': 874, 'over': 1134, 'dinner': 455, 'do': 465, 'love': 925, 'amp': 140, 'we': 1699, 're': 1250, 'car': 304, 'll': 900, 'let': 881, 'know': 845, 'room': 1304, 'work': 1762, 'what': 1718, 'does': 467, 'wait': 1676, 'were': 1716, 'sure': 1490, 'being': 224, 'why': 1731, 'doesn': 468, 'live': 898, 'us': 1644, 'yeah': 1791, 'was': 1690, 'out': 1132, 'she': 1368, 'till': 1562, 'but': 276, 'doing': 473, 'too': 1582, 'cheers': 332, 'tell': 1514, 'anything': 153, 'of': 1094, 'quick': 1235, 'thanks': 1527, 'subscription': 1477, 'ringtone': 1297, 'uk': 1623, 'charged': 325, 'month': 1013, 'please': 1183, 'confirm': 375, 'by': 281, 'replying': 1280, 'yup': 1811, 'look': 914, 'msg': 1030, 'again': 111, 'learn': 868, '2nd': 47, 'her': 717, 'lesson': 879, 'oops': 1114, 'roommate': 1305, 'done': 476, 'see': 1344, 'decide': 434, 'hello': 715, 'saturday': 1324, 'texting': 1522, 'decided': 435, 'tomo': 1576, 'trying': 1607, 'pls': 1187, 'ahead': 119, 'wanted': 1686, 'weekend': 1707, 'abiola': 87, 'forget': 603, 'need': 1052, 'crave': 399, 'most': 1020, 'sweet': 1494, 'tried': 1599, 'sms': 1412, 'nokia': 1072, 'camcorder': 295, '08000930705': 8, 'delivery': 440, 'tomorrow': 1577, 'who': 1729, 'seeing': 1345, 'hope': 739, 'man': 948, 'well': 1713, 'am': 137, 'lt': 933, 'gt': 676, 'calls': 294, 'messages': 980, 'missed': 994, 'didn': 447, 'get': 642, 'nigeria': 1063, 'hopefully': 740, 'tyler': 1620, 'could': 391, 'maybe': 964, 'ask': 174, 'bit': 236, 'hospital': 744, 'kept': 836, 'telling': 1515, 'time': 1563, 'saw': 1327, 'class': 345, 'usually': 1651, 'half': 690, 'gets': 643, 'almost': 130, 'whole': 1730, 'second': 1341, 'fyi': 629, 'ride': 1294, 'morning': 1019, 'place': 1174, 'wow': 1775, 'never': 1057, 'thought': 1552, 'liked': 890, 'since': 1389, 'best': 227, 'happy': 699, 'sorry': 1432, 'give': 650, 'ac': 91, 'new': 1058, 'red': 1265, 'play': 1179, 'ice': 768, 'correct': 386, 'end': 516, 'yesterday': 1797, 'find': 584, 'congrats': 376, 'year': 1792, 'special': 1440, 'cinema': 342, 'pass': 1147, 'yours': 1806, 'etc': 532, 'bx420': 280, 'ip4': 799, '5we': 68, '150pm': 27, 'later': 859, 'meeting': 973, 'where': 1723, 'reached': 1252, 'pick': 1164, 'yourself': 1807, 'move': 1023, 'pain': 1140, 'good': 663, 'joke': 822, 'girls': 649, 'situation': 1399, 'part': 1144, 'checking': 331, 'took': 1583, 'forever': 602, 'come': 361, 'double': 479, 'check': 329, 'hair': 689, 'said': 1318, 'wun': 1778, 'cut': 413, 'short': 1373, 'nice': 1062, 'pleased': 1184, 'following': 598, 'review': 1292, 'mob': 1001, 'awarded': 193, 'bonus': 245, 'song': 1428, 'which': 1726, 'frnds': 620, 'rply': 1310, 'complimentary': 371, 'trip': 1600, '1000': 17, 'dis': 459, '18': 30, '10': 15, 'hear': 709, 'comes': 362, 'lucky': 936, 'save': 1326, 'money': 1012, 'hee': 713, 'finished': 588, 'hi': 721, 'babe': 197, 'im': 776, 'wanna': 1684, 'something': 1425, 'xx': 1782, 'waiting': 1677, 'once': 1108, 'thats': 1530, 'cool': 384, 'respect': 1284, 'very': 1658, 'much': 1034, 'pa': 1137, 'after': 108, 'same': 1322, 'looking': 917, 'job': 818, 'ta': 1498, 'ah': 117, 'stop': 1463, 'urgnt': 1642, 'real': 1257, 'yo': 1801, 'tickets': 1560, 'one': 1109, 'used': 1646, 'started': 1452, 'came': 296, 'bed': 217, 'gotta': 669, 'kano': 831, 'il': 774, 'download': 481, 'wen': 1714, 'stand': 1449, 'close': 348, 'another': 146, 'night': 1064, 'spent': 1443, 'late': 858, 'afternoon': 109, 'means': 968, 'haven': 704, 'any': 149, 'smile': 1408, 'pleasure': 1185, 'trouble': 1601, 'rain': 1240, 'hurts': 764, 'someone': 1423, 'loves': 930, 'smiling': 1410, 'service': 1360, 'representative': 1282, '0800': 6, 'between': 229, '10am': 18, 'guaranteed': 677, '5000': 64, 'havent': 705, 'planning': 1177, 'buy': 277, '530': 66, 'show': 1376, 'simply': 1388, 'password': 1148, 'po': 1191, 'box': 256, 'movie': 1024, 'abt': 90, 'loads': 902, 'wk': 1750, 'run': 1313, 'forgot': 604, 'shower': 1377, 'cause': 313, 'prob': 1220, 'coffee': 353, 'nothing': 1080, 'else': 513, 'okay': 1102, 'price': 1216, 'long': 912, 'them': 1534, 'ave': 188, 'gone': 661, 'driving': 488, 'test': 1520, 'yet': 1798, 'mean': 966, 'guess': 679, 'gave': 636, 'men': 976, 'changed': 322, 'search': 1337, 'cuz': 415, 'page': 1138, 'says': 1330, 'umma': 1624, 'life': 885, 'lot': 922, 'dear': 432, 'wishes': 1743, 'birthday': 235, 'making': 947, 'truly': 1603, 'aight': 121, 'hit': 725, 'would': 1773, 'address': 102, 'computer': 372, 'isn': 803, 'old': 1104, 'people': 1153, 'better': 228, 'worry': 1769, 'busy': 275, 'cos': 387, 'things': 1541, 'scared': 1331, 'mah': 942, 'contact': 379, 'last': 857, 'weekends': 1708, 'draw': 482, 'shows': 1379, '12hrs': 23, '150ppm': 28, 'anyway': 155, 'juz': 829, 'eatin': 505, 'weight': 1711, 'haha': 687, 'happened': 695, 'entered': 527, 'cabin': 283, 'boss': 251, 'felt': 576, 'askd': 175, 'invited': 797, 'apartment': 156, 'went': 1715, 'specially': 1441, 'holiday': 734, 'flights': 595, 'inc': 782, 'operator': 1116, 'min': 985, 'must': 1040, 'friday': 614, 'hmm': 728, 'uncle': 1627, 'informed': 789, 'paying': 1151, 'school': 1333, 'directly': 458, 'food': 600, 'private': 1218, '2004': 37, 'account': 95, 'statement': 1455, 'points': 1197, 'identifier': 771, 'expires': 554, '2000': 35, 'caller': 290, '03': 3, 'landline': 854, 'todays': 1573, 'voda': 1666, 'numbers': 1087, 'ending': 518, '350': 53, 'award': 192, 'match': 955, '08712300220': 11, 'quoting': 1239, 'standard': 1450, 'rates': 1246, 'app': 157, 'mu': 1033, 'buying': 278, 'sent': 1357, 'bother': 253, 'sending': 1355, 'shouldn': 1375, 'girl': 648, 'del': 439, 'bak': 203, 'answer': 148, 'sunshine': 1484, 'quiz': 1237, 'top': 1584, 'sony': 1429, 'dvd': 498, 'player': 1180, 'country': 393, '82277': 76, 'sp': 1437, 'laid': 852, 'dogging': 471, 'locations': 905, 'direct': 457, 'join': 820, 'bt': 268, 'txting': 1618, 'nt': 1083, 'ec2a': 507, 'haf': 686, 'yijue': 1799, 'him': 723, 'rooms': 1306, 'msgs': 1031, 'chat': 326, 'services': 1361, 'age': 113, 'yr': 1808, 'lazy': 864, 'type': 1621, 'lect': 873, 'sir': 1393, 'mail': 944, 'swt': 1496, 'tired': 1566, 'little': 897, 'lovable': 924, 'persons': 1157, 'coz': 397, 'those': 1550, 'their': 1533, 'gud': 678, 'ni8': 1061, 'open': 1115, 'ya': 1786, 'whats': 1720, 'taking': 1501, 'replied': 1278, 'sexy': 1364, 'local': 904, 'luv': 938, 'ltd': 934, 'begin': 222, 'qatar': 1231, 'pray': 1212, 'hard': 700, 'wine': 1739, 'thk': 1547, 'shirt': 1369, 'sometimes': 1426, 'dream': 483, 'without': 1748, 'joy': 825, 'lots': 923, 'tv': 1613, 'become': 216, 'leaving': 872, 'house': 750, 'boy': 257, 'missing': 995, 'years': 1793, 'arrange': 169, 'keep': 834, 'safe': 1317, 'because': 215, 'everyone': 540, 'parents': 1142, 'hand': 691, 'each': 499, 'spend': 1442, 'inviting': 798, 'friend': 615, 'frnd': 619, '62468': 70, 'order': 1124, 'should': 1374, 'content': 381, 'goto': 668, 'internet': 794, 'menu': 977, 'wit': 1745, 'fancy': 562, 'needs': 1053, 'completely': 370, 'also': 135, 'waste': 1692, 'bank': 205, 'hmmm': 729, 'hop': 738, 'muz': 1041, 'discuss': 461, 'liao': 883, 'coming': 364, 'hell': 714, 'cant': 303, 'believe': 225, 'mr': 1027, 'ill': 775, 'bath': 208, 'carlos': 307, 'turns': 1612, 'staying': 1458, 'til': 1561, 'smoke': 1411, 'worth': 1771, 'doesnt': 469, 'log': 906, 'spoke': 1445, 'experience': 553, 'offer': 1096, 'especially': 531, 'studying': 1471, 'gr8': 670, 'trust': 1604, 'guys': 682, 'bye': 282, 'working': 1764, 'towards': 1591, 'boytoy': 259, 'awesome': 195, 'minute': 989, 'freephone': 611, '9am': 85, 'xmas': 1781, 'jus': 827, 'bathe': 209, 'sis': 1394, 'using': 1649, 'joined': 821, 'touch': 1588, 'deal': 431, 'personal': 1156, 'finally': 583, 'course': 395, 'itself': 809, 'however': 752, 'able': 88, 'every': 538, 'mrng': 1028, 'hav': 702, 'story': 1466, 'dead': 430, 'tmr': 1568, 'orchard': 1123, 'mrt': 1029, 'kate': 832, 'evening': 536, 'found': 607, 'bucks': 270, 'darlin': 421, 'ive': 810, 'college': 358, 'decimal': 436, 'balance': 204, 'rs': 1311, 'transaction': 1596, 'id': 769, 'goodmorning': 664, 'sleeping': 1403, 'dat': 424, 'oso': 1127, 'cannot': 302, 'oredi': 1125, 'straight': 1467, 'connection': 378, 'before': 221, 'bill': 232, 'both': 252, 'big': 231, 'ready': 1256, 'break': 261, 'semester': 1352, 'study': 1470, 'noe': 1071, 'leh': 875, 'sounds': 1435, 'slept': 1404, 'past': 1149, 'few': 578, 'nights': 1065, 'easy': 503, 'sen': 1353, 'exam': 545, 'march': 950, 'atm': 184, 'called': 289, 'important': 780, 'system': 1497, 'shop': 1371, 'happen': 694, 'romantic': 1303, 'nite': 1067, '500': 63, 'collect': 356, 'tc': 1507, 'biz': 238, '2optout': 49, 'appreciate': 159, 'partner': 1145, 'off': 1095, 'start': 1451, 'sign': 1384, 'company': 367, 'than': 1525, 'bcoz': 212, 'lessons': 880, 'walk': 1680, 'road': 1300, 'side': 1382, 'street': 1468, 'battery': 210, 'died': 450, 'flirt': 596, '10p': 19, 'sam': 1321, '25': 40, 'wil': 1735, 'reach': 1251, 'argument': 166, 'wins': 1741, 'person': 1155, 'kick': 838, 'secret': 1342, 'admirer': 103, 'reveal': 1290, 'thinks': 1545, 'laptop': 855, 'case': 310, 'tel': 1513, 'meant': 969, 'told': 1575, 'into': 795, 'face': 557, 'watch': 1694, 'fr': 608, 'thanx': 1528, 'everything': 541, 'website': 1702, 'asked': 176, 'kallis': 830, 'didnt': 448, 'goodnight': 665, 'fix': 591, 'wake': 1678, 'sleep': 1402, 'congratulations': 377, 'cd': 316, 'vouchers': 1672, 'music': 1039, '87066': 81, 'tncs': 1569, 'ldew': 865, 'cal': 286, 'hold': 731, 'angry': 144, 'wid': 1732, 'dnt': 464, 'childish': 335, 'true': 1602, 'showing': 1378, 'deep': 437, 'care': 306, 'takes': 1500, 'other': 1128, 'lemme': 877, 'lover': 928, 'video': 1660, 'handset': 693, '750': 71, 'anytime': 154, 'mins': 988, 'unlimited': 1632, 'shopping': 1372, 'own': 1135, 'disturb': 462, 'ring': 1296, 'horny': 742, 'naked': 1046, 'hot': 746, 'unsubscribe': 1635, 'dint': 456, 'wana': 1683, 'plan': 1175, 'credits': 403, 'choose': 339, 'club': 350, 'singles': 1391, 'quality': 1232, 'charge': 324, 'ended': 517, 'sunny': 1483, 'rays': 1248, 'leaves': 871, 'worries': 1768, 'blue': 241, 'questions': 1234, '86688': 80, 'might': 984, 'bf': 230, 'full': 624, 'swing': 1495, 'definitely': 438, 'far': 566, 'okie': 1103, 'usual': 1650, 'guy': 681, 'anybody': 150, 'lets': 882, 'baby': 199, 'hour': 748, 'fone': 599, 'ge': 639, 'shall': 1365, 'tonite': 1581, 'sense': 1356, 'stupid': 1473, 'phone': 1159, 'sim': 1386, 'card': 305, 'loyalty': 932, 'ends': 519, 'unless': 1631, 'hurt': 763, 'die': 449, 'plz': 1189, 'rose': 1307, 'bslvyl': 267, 'somebody': 1422, 'high': 722, 'shit': 1370, 'imagine': 777, 'somewhere': 1427, '4u': 61, '21': 39, 'book': 247, 'friendship': 617, 'themob': 1535, 'selection': 1349, 'games': 633, 'tones': 1579, 'babes': 198, 'sport': 1446, 'aren': 165, 'accept': 93, 'sister': 1395, '200': 34, 'weekly': 1709, 'cs': 405, '2day': 44, 'normal': 1078, 'rest': 1286, 'wot': 1772, 'lost': 921, 'made': 941, 'advance': 105, 'pongal': 1202, 'kb': 833, 'power': 1209, 'yoga': 1802, 'dunno': 496, 'dude': 493, 'december': 433, '11mths': 21, 'cake': 285, 'merry': 978, 'christmas': 340, 'cud': 406, 'ppl': 1210, 'pete': 1158, 'plans': 1178, 'problem': 1222, 'track': 1593, 'reading': 1255, 'read': 1254, 'light': 887, 'return': 1288, 'immediately': 779, 'fixed': 592, 'line': 891, 'via': 1659, 'access': 94, 'number': 1086, 'chance': 320, 'report': 1281, 'valentines': 1653, 'rcvd': 1249, 'custcare': 411, '08718720201': 13, 'surfing': 1492, 'calling': 293, 'post': 1205, 'texts': 1523, 'wiv': 1749, 'interested': 792, 'two': 1615, 'round': 1308, 'num': 1085, 'small': 1407, 'txts': 1619, 'ever': 537, 'urself': 1643, 'fault': 570, 'basically': 207, 'figure': 580, 'jay': 814, 'weed': 1705, 'ish': 802, 'minutes': 990, 'ago': 116, 'met': 981, 'allah': 129, 'rakhesh': 1242, 'ex': 543, 'currently': 410, 'maximize': 961, 'cc': 315, 'hg': 720, 'suite342': 1479, '2lands': 45, 'row': 1309, 'w1j6hl': 1674, 'moment': 1008, 'st': 1448, 'cold': 354, 'posted': 1206, 'chikku': 334, 'forward': 605, 'air': 122, 'motorola': 1022, 'sonyericsson': 1430, 'bluetooth': 242, 'orange': 1122, 'mobileupd8': 1004, '08000839402': 7, 'call2optout': 288, 'discount': 460, 'geeee': 641, 'woke': 1753, 'wish': 1742, 'talking': 1503, 'willing': 1737, 'reference': 1267, 'seen': 1347, 'happening': 696, 'sighs': 1383, 'brings': 264, 'project': 1225, 'mistake': 996, 'body': 243, 'quite': 1236, 'slow': 1405, 'guide': 680, 'relax': 1270, 'reason': 1260, 'couple': 394, 'leave': 870, 'phones': 1160, 'mm': 998, 'rental': 1276, 'having': 706, 'huh': 758, 'sat': 1323, 'intro': 796, 'pilates': 1169, 'office': 1098, 'days': 428, 'bout': 255, 'current': 409, 'actually': 98, 'rock': 1301, 'putting': 1230, 'put': 1229, 'pictures': 1168, 'ass': 181, 'facebook': 558, 'al': 126, 'god': 657, 'india': 785, 'change': 321, 'poly': 1199, 'tone': 1578, '1st': 31, 'none': 1074, 'yep': 1794, 'starts': 1454, 'pm': 1190, 'stay': 1457, 'drink': 485, 'fullonsms': 625, 'thing': 1540, 'yan': 1788, 'jiu': 817, 'den': 441, 'bring': 263, 'dating': 426, '250': 41, 'competition': 368, 'head': 708, 'logo': 908, 'heart': 711, 'eve': 534, 'yahoo': 1787, 'pobox36504w45wq': 1194, 'contacted': 380, 'hostel': 745, 'aha': 118, 'land': 853, '3030': 52, 'voice': 1668, 'funny': 627, 'aathi': 86, 'mind': 986, 'giving': 652, 'lift': 886, 'wnt': 1752, 'vry': 1673, 'hv': 765, 'amt': 141, 'fucking': 623, 'respond': 1285, 'vary': 1656, 'ldn': 866, 'booked': 248, 'ticket': 1559, 'th': 1524, 'askin': 177, 'dollars': 474, 'ten': 1517, 'gd': 638, 'tough': 1589, 'supposed': 1488, 'tot': 1586, 'din': 454, 'group': 675, 'doin': 472, 'kinda': 841, 'acc': 92, 'loan': 903, 'welcome': 1712, 'beautiful': 214, 'woman': 1754, 'kind': 840, 'asking': 178, 'ttyl': 1609, 'isnt': 804, 'bad': 201, 'thru': 1554, 'different': 451, 'feeling': 574, 'gives': 651, 'opt': 1119, 'princess': 1217, 'style': 1474, 'enjoy': 524, 'many': 949, 'notice': 1081, 'tenerife': 1518, 'sae': 1316, 'remove': 1274, 'flat': 594, 'details': 444, 'moan': 1000, 'cum': 407, '8th': 83, 'thinking': 1544, 'sec': 1340, 'fb': 571, 'activate': 97, 'terms': 1519, 'conditions': 374, 'visit': 1664, 'depends': 442, 'meh': 974, 'nope': 1076, 'monday': 1011, 'fighting': 579, 'either': 512, 'lose': 920, 'some1': 1421, 'water': 1696, 'bored': 249, 'outside': 1133, 'park': 1143, 'near': 1051, 'rent': 1275, 'opinion': 1117, 'silent': 1385, 'spl': 1444, 'character': 323, 'stylish': 1475, 'simple': 1387, 'realy': 1259, 'frm': 618, 'jst': 826, 'tat': 1506, '40gb': 59, 'ipod': 800, 'mp3': 1026, '83355': 77, 'pin': 1170, 'less': 878, 'fri': 613, 'children': 336, 'campus': 298, '02': 2, 'attempt': 185, '150': 25, '85023': 78, 'savamob': 1325, 'member': 975, 'offers': 1097, '00': 0, 'sub': 1476, 'unsub': 1634, 'pretty': 1215, 'lady': 851, 'single': 1390, 'within': 1747, '2003': 36, '800': 73, 'un': 1625, 'redeemed': 1266, '04': 4, 'while': 1727, 'hoping': 741, 'l8r': 848, 'kiss': 843, 'across': 96, 'sea': 1336, 'probably': 1221, 'fat': 568, 'fingers': 586, 'these': 1538, 'returns': 1289, '50p': 65, 'age16': 114, 'quote': 1238, 'listen': 895, 'self': 1350, 'married': 953, 'mine': 987, 'rather': 1247, 'hotel': 747, 'english': 523, 'omw': 1106, 'btw': 269, 'through': 1553, 'hurry': 762, 'blood': 240, 'warm': 1689, 'cheap': 327, 'online': 1111, 'pics': 1167, 'aiyo': 125, 'fast': 567, 'workin': 1763, 'gee': 640, 'barely': 206, 'fuck': 622, '2mrw': 46, 'gym': 683, 'whatever': 1719, 'smiles': 1409, 'daddy': 418, 'scream': 1334, 'yar': 1789, 'mum': 1035, 'sch': 1332, 'clean': 346, 'door': 478, 'marriage': 952, 'izzit': 811, 'wife': 1734, 'kids': 839, 'jazz': 815, 'yogasana': 1803, 'em': 514, 'spree': 1447, '1x150p': 32, 'pound': 1207, 'announcement': 145, 'train': 1594, 'present': 1213, 'ar': 161, 'stopped': 1464, 'indian': 786, 'noon': 1075, '28': 43, 'ladies': 850, 'neva': 1056, 'imma': 778, 'somethin': 1424, 'euro2004': 533, 'results': 1287, 'daily': 419, 'valentine': 1652, 'game': 632, 'future': 628, 'shuhui': 1380, 'family': 561, 'happiness': 698, 'snow': 1415, 'weather': 1701, 'together': 1574, 'alex': 127, 'pub': 1227, 'drinks': 486, 'paid': 1139, 'longer': 913, 'darren': 423, 'area': 164, '25p': 42, 'vodafone': 1667, 'matches': 956, 'forwarded': 606, 'voucher': 1671, 'holder': 732, 'weeks': 1710, 'pc': 1152, 'ts': 1608, '80062': 74, 'login': 907, 'dad': 417, 'sound': 1434, 'thursday': 1558, 'cartoon': 309, 'listening': 896, 'email': 515, 'starting': 1453, 'tuesday': 1610, 'town': 1592, 'drugs': 492, 'drug': 491, 'sun': 1481, 'earth': 502, 'evng': 542, 'under': 1628, 'paper': 1141, 'fetch': 577, 'de': 429, 'ho': 730, 'belly': 226, 'laugh': 862, 'saying': 1329, 'knw': 847, 'awake': 191, 'lonely': 911, 'xy': 1785, 'sex': 1363, 'bedroom': 218, 'king': 842, 'ans': 147, 'torch': 1585, 'bold': 244, 'law': 863, 'looks': 918, 'gap': 634, 'idea': 770, 'away': 194, 'fantastic': 564, 'sit': 1396, 'aftr': 110, 'dey': 445, 'seems': 1346, 'timing': 1565, '7pm': 72, 'sell': 1351, 'b4': 196, 'running': 1314, 'mad': 940, 'wants': 1687, 'exactly': 544, 'yay': 1790, 'twice': 1614, 'opportunity': 1118, 'add': 100, 'txtauction': 1617, 'mayb': 963, 'rite': 1299, 'gals': 631, 'glad': 653, 'eyes': 556, 'library': 884, 'holla': 735, 'anyone': 152, 'makes': 946, 'possible': 1204, 'yest': 1796, 'wishing': 1744, 'city': 343, 'summer': 1480, 'store': 1465, 'goin': 659, 'wonder': 1756, 'tis': 1567, 'closed': 349, 'drive': 487, 'damn': 420, 'wats': 1697, 'space': 1438, 'picking': 1166, 'lovely': 927, 'slave': 1401, 'couldn': 392, 'living': 899, 'polyphonic': 1200, 'omg': 1105, 'pobox84': 1195, 'no1': 1069, 'mates': 958, 'getzed': 646, '36504': 55, 'w45wq': 1675, 'norm150p': 1077, 'ugh': 1622, 'gift': 647, 'bag': 202, 'ones': 1110, 'model': 1006, 'boo': 246, 'gettin': 644, 'hunny': 761, 'xxxx': 1784, 'teasing': 1512, 'comuk': 373, 'extra': 555, 'moon': 1016, '8007': 75, 'polys': 1201, 'zed': 1812, 'green': 672, 'mate': 957, 'ages': 115, 'sura': 1489, 'surely': 1491, 'five': 590, 'wed': 1703, 'understand': 1629, 'mother': 1021, 'await': 189, 'collection': 357, 'playing': 1182, 'matter': 959, 'wan': 1682, 'poor': 1203, 'sn': 1414, 'fall': 560, 'hai': 688, 'tampa': 1504, 'whenever': 1722, 'sort': 1433, 'yrs': 1809, 'cds': 317, 'records': 1264, 'birds': 234, 'user': 1647, 'asap': 173, 'drop': 489, 'otherwise': 1130, 'travel': 1597, 'ntt': 1084, 'mid': 982, 'knew': 844, 'lead': 867, 'midnight': 983, 'training': 1595, 'sup': 1485, 'unsold': 1633, 'sad': 1315, 'murder': 1036, 'due': 494, 'teach': 1509, 'derek': 443, 'plus': 1188, 'greet': 673, 'white': 1728, 'january': 812, 'sale': 1320, 'gay': 637, 'cheaper': 328, '08712460324': 12, 'ym': 1800, 'pissed': 1171, 'iam': 767, 'wrong': 1777, 'photo': 1161, 'registered': 1269, 'ma': 939, 'ate': 183, 'mo': 999, 'wherever': 1724, 'sk38xh': 1400, 'wear': 1700, 'least': 869, 'medical': 970, 'recently': 1263, 'expensive': 552, 'photos': 1162, 'truth': 1605, 'against': 112, 'feels': 575, 'heavy': 712, 'brand': 260, 'site': 1397, 'earlier': 500, 'ad': 99, 'boring': 250, 'nxt': 1090, 'salary': 1319, '3g': 56, 'videophones': 1662, 'videochat': 1661, 'java': 813, 'dload': 463, 'noline': 1073, 'rentl': 1277, 'dropped': 490, 'loving': 931, 'yun': 1810, 'party': 1146, 'miracle': 992, 'jesus': 816, 'heard': 710, 'contract': 382, 'kerala': 837, 'asleep': 180, 'loverboy': 929, 'nyt': 1091, 'during': 497, 'gm': 654, 'gn': 655, 'serious': 1358, '3rd': 57, 'hiya': 726, 'april': 160, 'flower': 597, 'support': 1487, 'process': 1224, 'works': 1765, 'bitch': 237, 'revealed': 1291, 'xchat': 1780, 'na': 1044, 'movies': 1025, 'convey': 383, 'regards': 1268, 'pic': 1163, 'hands': 692, 'sipix': 1392, 'digital': 453, 'doctor': 466, 'receipt': 1261, 'interesting': 793, 'uni': 1630, 'black': 239, 'aiyah': 124, 'information': 788, 'o2': 1092, 'onto': 1113, 'urawinner': 1640, 'surprise': 1493, 'awaiting': 190, 'italian': 807, 'grins': 674, 'cancel': 300, 'gal': 630, 'howz': 754, 'film': 581, 'luck': 935, 'raining': 1241, 'station': 1456, 'cute': 414, 'adult': 104, 'oz': 1136, 'energy': 520, 'horrible': 743, 'nw': 1089, 'chennai': 333, 'jordan': 824, 'tuition': 1611, 'choice': 338, 'enter': 526, 'strong': 1469, 'mite': 997, 'complete': 369, 'nobody': 1070, 'chinese': 337, 'hun': 759, '2nite': 48, 'mon': 1010, 'cbe': 314, 'honey': 737, 'picked': 1165, 'john': 819, 'cell': 318, 'thts': 1556, 'mode': 1005, 'wondering': 1758, 'others': 1129, 'dog': 470, 'tour': 1590, 'dreams': 484, 'broke': 265, 'ringtones': 1298, 'original': 1126, 'bb': 211, 'alrite': 134, 'shd': 1367, 'vl': 1665, 'frens': 612, 'super': 1486, 'tht': 1555, 'pple': 1211, 'marry': 954, 'problems': 1223, 'arrested': 170, 'reaching': 1253, 'fantasies': 563, '08707509020': 10, '20p': 38, '1327': 24, 'croydon': 404, 'cr9': 398, '5wb': 67, '0870': 9, 'write': 1776, 'cover': 396, 'fact': 559, 'linerental': 892, 'walking': 1681, 'meaning': 967, 'moral': 1017, 'players': 1181, 'cafe': 284, 'share': 1366, 'vote': 1670, 'tells': 1516, 'totally': 1587, 'rem': 1271, 'lmao': 901, 'exams': 546, 'everybody': 539, 'alone': 131, 'optout': 1120, 'bought': 254, '06': 5, '4th': 60, 'nature': 1049, 'keeping': 835, 'google': 666, 'vomit': 1669, 'centre': 319, 'loved': 926, 'except': 548, 'hows': 753, 'arrive': 171, 'screaming': 1335, 'airport': 123, 'auction': 186, '86021': 79, 'difficult': 452, 'south': 1436, 'costs': 390, 'gas': 635, 'excellent': 547, 'instead': 791, 'london': 910, 'buzz': 279, 'eerie': 508, 'wasn': 1691, 'lei': 876, 'waking': 1679, 'lookin': 916, 'inside': 790, 'ran': 1243, 'father': 569, '60p': 69, 'boys': 258, 'bin': 233, 'social': 1417, 'slowly': 1406, 'hw': 766, 'buns': 273, 'created': 401, 'holding': 733, 'exciting': 549, 'beer': 220, 'list': 894, 'wednesday': 1704, 'thnk': 1548, 'excuse': 550, 'season': 1339, 'costa': 389, 'sol': 1419, '09050090044': 14, 'toclaim': 1571, 'pobox334': 1193, 'stockport': 1462, 'max10mins': 960, 'nvm': 1088, 'thinkin': 1543, 'moms': 1009, 'theatre': 1532, 'obviously': 1093, 'sitting': 1398, 'including': 783, 'ahmad': 120, 'official': 1099, 'flag': 593, 'eng': 521, 'inclusive': 784, 'armand': 167, 'vikky': 1663, 'looked': 915, 'nimya': 1066, 'expecting': 551, 'pix': 1172, '30': 50, 'colleagues': 355, 'sed': 1343, 'mood': 1015, 'minuts': 991, 'latr': 861, 'sofa': 1418, 'role': 1302, 'checked': 330, 'unable': 1626, 'remind': 1273, 'tear': 1511, 'worse': 1770, 'whether': 1725, 'fantasy': 565, 'added': 101, 'pussy': 1228, 'murdered': 1037, 'police': 1198, 'maid': 943, 'murderer': 1038, 'brilliant': 262, 'budget': 271, 'random': 1244, 'ru': 1312, 'cars': 308, 'happens': 697, 'er': 530, 'plenty': 1186, 'amount': 139, 'advice': 106, 'behind': 223, 'amazing': 138, 'issues': 805, 'hr': 755, 'hrs': 756, 'cancer': 301, 'feb': 572, 'ignore': 773, 'tariffs': 1505, 'thurs': 1557, 'planned': 1176, 'wouldn': 1774, 'lik': 888, 'asks': 179, '3510i': 54, '300': 51, 'meds': 971, '400': 58, 'mths': 1032, 'common': 365}\n"
     ]
    }
   ],
   "source": [
    "vect_sms = CountVectorizer(min_df = 5)\n",
    "vect_sms.fit(X_sms)\n",
    "\n",
    "print(vect_sms.vocabulary_) # cuvintele distincte din texte"
   ]
  },
  {
   "cell_type": "code",
   "execution_count": 15,
   "metadata": {},
   "outputs": [
    {
     "name": "stdout",
     "output_type": "stream",
     "text": [
      "[('00', 0), ('000', 1), ('02', 2), ('03', 3), ('04', 4), ('06', 5), ('0800', 6), ('08000839402', 7), ('08000930705', 8), ('0870', 9), ('08707509020', 10), ('08712300220', 11), ('08712460324', 12), ('08718720201', 13), ('09050090044', 14), ('10', 15), ('100', 16), ('1000', 17), ('10am', 18), ('10p', 19), ('11', 20), ('11mths', 21), ('12', 22), ('12hrs', 23), ('1327', 24), ('150', 25), ('150p', 26), ('150pm', 27), ('150ppm', 28), ('16', 29), ('18', 30), ('1st', 31), ('1x150p', 32), ('20', 33), ('200', 34), ('2000', 35), ('2003', 36), ('2004', 37), ('20p', 38), ('21', 39), ('25', 40), ('250', 41), ('25p', 42), ('28', 43), ('2day', 44), ('2lands', 45), ('2mrw', 46), ('2nd', 47), ('2nite', 48), ('2optout', 49), ('30', 50), ('300', 51), ('3030', 52), ('350', 53), ('3510i', 54), ('36504', 55), ('3g', 56), ('3rd', 57), ('400', 58), ('40gb', 59), ('4th', 60), ('4u', 61), ('50', 62), ('500', 63), ('5000', 64), ('50p', 65), ('530', 66), ('5wb', 67), ('5we', 68), ('60p', 69), ('62468', 70), ('750', 71), ('7pm', 72), ('800', 73), ('80062', 74), ('8007', 75), ('82277', 76), ('83355', 77), ('85023', 78), ('86021', 79), ('86688', 80), ('87066', 81), ('87077', 82), ('8th', 83), ('900', 84), ('9am', 85), ('aathi', 86), ('abiola', 87), ('able', 88), ('about', 89), ('abt', 90), ('ac', 91), ('acc', 92), ('accept', 93), ('access', 94), ('account', 95), ('across', 96), ('activate', 97), ('actually', 98), ('ad', 99), ('add', 100), ('added', 101), ('address', 102), ('admirer', 103), ('adult', 104), ('advance', 105), ('advice', 106), ('aft', 107), ('after', 108), ('afternoon', 109), ('aftr', 110), ('again', 111), ('against', 112), ('age', 113), ('age16', 114), ('ages', 115), ('ago', 116), ('ah', 117), ('aha', 118), ('ahead', 119), ('ahmad', 120), ('aight', 121), ('air', 122), ('airport', 123), ('aiyah', 124), ('aiyo', 125), ('al', 126), ('alex', 127), ('all', 128), ('allah', 129), ('almost', 130), ('alone', 131), ('already', 132), ('alright', 133), ('alrite', 134), ('also', 135), ('always', 136), ('am', 137), ('amazing', 138), ('amount', 139), ('amp', 140), ('amt', 141), ('an', 142), ('and', 143), ('angry', 144), ('announcement', 145), ('another', 146), ('ans', 147), ('answer', 148), ('any', 149), ('anybody', 150), ('anymore', 151), ('anyone', 152), ('anything', 153), ('anytime', 154), ('anyway', 155), ('apartment', 156), ('app', 157), ('apply', 158), ('appreciate', 159), ('april', 160), ('ar', 161), ('ard', 162), ('are', 163), ('area', 164), ('aren', 165), ('argument', 166), ('armand', 167), ('around', 168), ('arrange', 169), ('arrested', 170), ('arrive', 171), ('as', 172), ('asap', 173), ('ask', 174), ('askd', 175), ('asked', 176), ('askin', 177), ('asking', 178), ('asks', 179), ('asleep', 180), ('ass', 181), ('at', 182), ('ate', 183), ('atm', 184), ('attempt', 185), ('auction', 186), ('available', 187), ('ave', 188), ('await', 189), ('awaiting', 190), ('awake', 191), ('award', 192), ('awarded', 193), ('away', 194), ('awesome', 195), ('b4', 196), ('babe', 197), ('babes', 198), ('baby', 199), ('back', 200), ('bad', 201), ('bag', 202), ('bak', 203), ('balance', 204), ('bank', 205), ('barely', 206), ('basically', 207), ('bath', 208), ('bathe', 209), ('battery', 210), ('bb', 211), ('bcoz', 212), ('be', 213), ('beautiful', 214), ('because', 215), ('become', 216), ('bed', 217), ('bedroom', 218), ('been', 219), ('beer', 220), ('before', 221), ('begin', 222), ('behind', 223), ('being', 224), ('believe', 225), ('belly', 226), ('best', 227), ('better', 228), ('between', 229), ('bf', 230), ('big', 231), ('bill', 232), ('bin', 233), ('birds', 234), ('birthday', 235), ('bit', 236), ('bitch', 237), ('biz', 238), ('black', 239), ('blood', 240), ('blue', 241), ('bluetooth', 242), ('body', 243), ('bold', 244), ('bonus', 245), ('boo', 246), ('book', 247), ('booked', 248), ('bored', 249), ('boring', 250), ('boss', 251), ('both', 252), ('bother', 253), ('bought', 254), ('bout', 255), ('box', 256), ('boy', 257), ('boys', 258), ('boytoy', 259), ('brand', 260), ('break', 261), ('brilliant', 262), ('bring', 263), ('brings', 264), ('broke', 265), ('brother', 266), ('bslvyl', 267), ('bt', 268), ('btw', 269), ('bucks', 270), ('budget', 271), ('bugis', 272), ('buns', 273), ('bus', 274), ('busy', 275), ('but', 276), ('buy', 277), ('buying', 278), ('buzz', 279), ('bx420', 280), ('by', 281), ('bye', 282), ('cabin', 283), ('cafe', 284), ('cake', 285), ('cal', 286), ('call', 287), ('call2optout', 288), ('called', 289), ('caller', 290), ('callers', 291), ('callertune', 292), ('calling', 293), ('calls', 294), ('camcorder', 295), ('came', 296), ('camera', 297), ('campus', 298), ('can', 299), ('cancel', 300), ('cancer', 301), ('cannot', 302), ('cant', 303), ('car', 304), ('card', 305), ('care', 306), ('carlos', 307), ('cars', 308), ('cartoon', 309), ('case', 310), ('cash', 311), ('catch', 312), ('cause', 313), ('cbe', 314), ('cc', 315), ('cd', 316), ('cds', 317), ('cell', 318), ('centre', 319), ('chance', 320), ('change', 321), ('changed', 322), ('character', 323), ('charge', 324), ('charged', 325), ('chat', 326), ('cheap', 327), ('cheaper', 328), ('check', 329), ('checked', 330), ('checking', 331), ('cheers', 332), ('chennai', 333), ('chikku', 334), ('childish', 335), ('children', 336), ('chinese', 337), ('choice', 338), ('choose', 339), ('christmas', 340), ('cine', 341), ('cinema', 342), ('city', 343), ('claim', 344), ('class', 345), ('clean', 346), ('click', 347), ('close', 348), ('closed', 349), ('club', 350), ('co', 351), ('code', 352), ('coffee', 353), ('cold', 354), ('colleagues', 355), ('collect', 356), ('collection', 357), ('college', 358), ('colour', 359), ('com', 360), ('come', 361), ('comes', 362), ('comin', 363), ('coming', 364), ('common', 365), ('comp', 366), ('company', 367), ('competition', 368), ('complete', 369), ('completely', 370), ('complimentary', 371), ('computer', 372), ('comuk', 373), ('conditions', 374), ('confirm', 375), ('congrats', 376), ('congratulations', 377), ('connection', 378), ('contact', 379), ('contacted', 380), ('content', 381), ('contract', 382), ('convey', 383), ('cool', 384), ('copy', 385), ('correct', 386), ('cos', 387), ('cost', 388), ('costa', 389), ('costs', 390), ('could', 391), ('couldn', 392), ('country', 393), ('couple', 394), ('course', 395), ('cover', 396), ('coz', 397), ('cr9', 398), ('crave', 399), ('crazy', 400), ('created', 401), ('credit', 402), ('credits', 403), ('croydon', 404), ('cs', 405), ('cud', 406), ('cum', 407), ('cup', 408), ('current', 409), ('currently', 410), ('custcare', 411), ('customer', 412), ('cut', 413), ('cute', 414), ('cuz', 415), ('da', 416), ('dad', 417), ('daddy', 418), ('daily', 419), ('damn', 420), ('darlin', 421), ('darling', 422), ('darren', 423), ('dat', 424), ('date', 425), ('dating', 426), ('day', 427), ('days', 428), ('de', 429), ('dead', 430), ('deal', 431), ('dear', 432), ('december', 433), ('decide', 434), ('decided', 435), ('decimal', 436), ('deep', 437), ('definitely', 438), ('del', 439), ('delivery', 440), ('den', 441), ('depends', 442), ('derek', 443), ('details', 444), ('dey', 445), ('did', 446), ('didn', 447), ('didnt', 448), ('die', 449), ('died', 450), ('different', 451), ('difficult', 452), ('digital', 453), ('din', 454), ('dinner', 455), ('dint', 456), ('direct', 457), ('directly', 458), ('dis', 459), ('discount', 460), ('discuss', 461), ('disturb', 462), ('dload', 463), ('dnt', 464), ('do', 465), ('doctor', 466), ('does', 467), ('doesn', 468), ('doesnt', 469), ('dog', 470), ('dogging', 471), ('doin', 472), ('doing', 473), ('dollars', 474), ('don', 475), ('done', 476), ('dont', 477), ('door', 478), ('double', 479), ('down', 480), ('download', 481), ('draw', 482), ('dream', 483), ('dreams', 484), ('drink', 485), ('drinks', 486), ('drive', 487), ('driving', 488), ('drop', 489), ('dropped', 490), ('drug', 491), ('drugs', 492), ('dude', 493), ('due', 494), ('dun', 495), ('dunno', 496), ('during', 497), ('dvd', 498), ('each', 499), ('earlier', 500), ('early', 501), ('earth', 502), ('easy', 503), ('eat', 504), ('eatin', 505), ('eating', 506), ('ec2a', 507), ('eerie', 508), ('eg', 509), ('egg', 510), ('eh', 511), ('either', 512), ('else', 513), ('em', 514), ('email', 515), ('end', 516), ('ended', 517), ('ending', 518), ('ends', 519), ('energy', 520), ('eng', 521), ('england', 522), ('english', 523), ('enjoy', 524), ('enough', 525), ('enter', 526), ('entered', 527), ('entitled', 528), ('entry', 529), ('er', 530), ('especially', 531), ('etc', 532), ('euro2004', 533), ('eve', 534), ('even', 535), ('evening', 536), ('ever', 537), ('every', 538), ('everybody', 539), ('everyone', 540), ('everything', 541), ('evng', 542), ('ex', 543), ('exactly', 544), ('exam', 545), ('exams', 546), ('excellent', 547), ('except', 548), ('exciting', 549), ('excuse', 550), ('expecting', 551), ('expensive', 552), ('experience', 553), ('expires', 554), ('extra', 555), ('eyes', 556), ('face', 557), ('facebook', 558), ('fact', 559), ('fall', 560), ('family', 561), ('fancy', 562), ('fantasies', 563), ('fantastic', 564), ('fantasy', 565), ('far', 566), ('fast', 567), ('fat', 568), ('father', 569), ('fault', 570), ('fb', 571), ('feb', 572), ('feel', 573), ('feeling', 574), ('feels', 575), ('felt', 576), ('fetch', 577), ('few', 578), ('fighting', 579), ('figure', 580), ('film', 581), ('final', 582), ('finally', 583), ('find', 584), ('fine', 585), ('fingers', 586), ('finish', 587), ('finished', 588), ('first', 589), ('five', 590), ('fix', 591), ('fixed', 592), ('flag', 593), ('flat', 594), ('flights', 595), ('flirt', 596), ('flower', 597), ('following', 598), ('fone', 599), ('food', 600), ('for', 601), ('forever', 602), ('forget', 603), ('forgot', 604), ('forward', 605), ('forwarded', 606), ('found', 607), ('fr', 608), ('free', 609), ('freemsg', 610), ('freephone', 611), ('frens', 612), ('fri', 613), ('friday', 614), ('friend', 615), ('friends', 616), ('friendship', 617), ('frm', 618), ('frnd', 619), ('frnds', 620), ('from', 621), ('fuck', 622), ('fucking', 623), ('full', 624), ('fullonsms', 625), ('fun', 626), ('funny', 627), ('future', 628), ('fyi', 629), ('gal', 630), ('gals', 631), ('game', 632), ('games', 633), ('gap', 634), ('gas', 635), ('gave', 636), ('gay', 637), ('gd', 638), ('ge', 639), ('gee', 640), ('geeee', 641), ('get', 642), ('gets', 643), ('gettin', 644), ('getting', 645), ('getzed', 646), ('gift', 647), ('girl', 648), ('girls', 649), ('give', 650), ('gives', 651), ('giving', 652), ('glad', 653), ('gm', 654), ('gn', 655), ('go', 656), ('god', 657), ('goes', 658), ('goin', 659), ('going', 660), ('gone', 661), ('gonna', 662), ('good', 663), ('goodmorning', 664), ('goodnight', 665), ('google', 666), ('got', 667), ('goto', 668), ('gotta', 669), ('gr8', 670), ('great', 671), ('green', 672), ('greet', 673), ('grins', 674), ('group', 675), ('gt', 676), ('guaranteed', 677), ('gud', 678), ('guess', 679), ('guide', 680), ('guy', 681), ('guys', 682), ('gym', 683), ('ha', 684), ('had', 685), ('haf', 686), ('haha', 687), ('hai', 688), ('hair', 689), ('half', 690), ('hand', 691), ('hands', 692), ('handset', 693), ('happen', 694), ('happened', 695), ('happening', 696), ('happens', 697), ('happiness', 698), ('happy', 699), ('hard', 700), ('has', 701), ('hav', 702), ('have', 703), ('haven', 704), ('havent', 705), ('having', 706), ('he', 707), ('head', 708), ('hear', 709), ('heard', 710), ('heart', 711), ('heavy', 712), ('hee', 713), ('hell', 714), ('hello', 715), ('help', 716), ('her', 717), ('here', 718), ('hey', 719), ('hg', 720), ('hi', 721), ('high', 722), ('him', 723), ('his', 724), ('hit', 725), ('hiya', 726), ('hl', 727), ('hmm', 728), ('hmmm', 729), ('ho', 730), ('hold', 731), ('holder', 732), ('holding', 733), ('holiday', 734), ('holla', 735), ('home', 736), ('honey', 737), ('hop', 738), ('hope', 739), ('hopefully', 740), ('hoping', 741), ('horny', 742), ('horrible', 743), ('hospital', 744), ('hostel', 745), ('hot', 746), ('hotel', 747), ('hour', 748), ('hours', 749), ('house', 750), ('how', 751), ('however', 752), ('hows', 753), ('howz', 754), ('hr', 755), ('hrs', 756), ('http', 757), ('huh', 758), ('hun', 759), ('hungry', 760), ('hunny', 761), ('hurry', 762), ('hurt', 763), ('hurts', 764), ('hv', 765), ('hw', 766), ('iam', 767), ('ice', 768), ('id', 769), ('idea', 770), ('identifier', 771), ('if', 772), ('ignore', 773), ('il', 774), ('ill', 775), ('im', 776), ('imagine', 777), ('imma', 778), ('immediately', 779), ('important', 780), ('in', 781), ('inc', 782), ('including', 783), ('inclusive', 784), ('india', 785), ('indian', 786), ('info', 787), ('information', 788), ('informed', 789), ('inside', 790), ('instead', 791), ('interested', 792), ('interesting', 793), ('internet', 794), ('into', 795), ('intro', 796), ('invited', 797), ('inviting', 798), ('ip4', 799), ('ipod', 800), ('is', 801), ('ish', 802), ('isn', 803), ('isnt', 804), ('issues', 805), ('it', 806), ('italian', 807), ('its', 808), ('itself', 809), ('ive', 810), ('izzit', 811), ('january', 812), ('java', 813), ('jay', 814), ('jazz', 815), ('jesus', 816), ('jiu', 817), ('job', 818), ('john', 819), ('join', 820), ('joined', 821), ('joke', 822), ('joking', 823), ('jordan', 824), ('joy', 825), ('jst', 826), ('jus', 827), ('just', 828), ('juz', 829), ('kallis', 830), ('kano', 831), ('kate', 832), ('kb', 833), ('keep', 834), ('keeping', 835), ('kept', 836), ('kerala', 837), ('kick', 838), ('kids', 839), ('kind', 840), ('kinda', 841), ('king', 842), ('kiss', 843), ('knew', 844), ('know', 845), ('knows', 846), ('knw', 847), ('l8r', 848), ('la', 849), ('ladies', 850), ('lady', 851), ('laid', 852), ('land', 853), ('landline', 854), ('laptop', 855), ('lar', 856), ('last', 857), ('late', 858), ('later', 859), ('latest', 860), ('latr', 861), ('laugh', 862), ('law', 863), ('lazy', 864), ('ldew', 865), ('ldn', 866), ('lead', 867), ('learn', 868), ('least', 869), ('leave', 870), ('leaves', 871), ('leaving', 872), ('lect', 873), ('left', 874), ('leh', 875), ('lei', 876), ('lemme', 877), ('less', 878), ('lesson', 879), ('lessons', 880), ('let', 881), ('lets', 882), ('liao', 883), ('library', 884), ('life', 885), ('lift', 886), ('light', 887), ('lik', 888), ('like', 889), ('liked', 890), ('line', 891), ('linerental', 892), ('link', 893), ('list', 894), ('listen', 895), ('listening', 896), ('little', 897), ('live', 898), ('living', 899), ('ll', 900), ('lmao', 901), ('loads', 902), ('loan', 903), ('local', 904), ('locations', 905), ('log', 906), ('login', 907), ('logo', 908), ('lol', 909), ('london', 910), ('lonely', 911), ('long', 912), ('longer', 913), ('look', 914), ('looked', 915), ('lookin', 916), ('looking', 917), ('looks', 918), ('lor', 919), ('lose', 920), ('lost', 921), ('lot', 922), ('lots', 923), ('lovable', 924), ('love', 925), ('loved', 926), ('lovely', 927), ('lover', 928), ('loverboy', 929), ('loves', 930), ('loving', 931), ('loyalty', 932), ('lt', 933), ('ltd', 934), ('luck', 935), ('lucky', 936), ('lunch', 937), ('luv', 938), ('ma', 939), ('mad', 940), ('made', 941), ('mah', 942), ('maid', 943), ('mail', 944), ('make', 945), ('makes', 946), ('making', 947), ('man', 948), ('many', 949), ('march', 950), ('mark', 951), ('marriage', 952), ('married', 953), ('marry', 954), ('match', 955), ('matches', 956), ('mate', 957), ('mates', 958), ('matter', 959), ('max10mins', 960), ('maximize', 961), ('may', 962), ('mayb', 963), ('maybe', 964), ('me', 965), ('mean', 966), ('meaning', 967), ('means', 968), ('meant', 969), ('medical', 970), ('meds', 971), ('meet', 972), ('meeting', 973), ('meh', 974), ('member', 975), ('men', 976), ('menu', 977), ('merry', 978), ('message', 979), ('messages', 980), ('met', 981), ('mid', 982), ('midnight', 983), ('might', 984), ('min', 985), ('mind', 986), ('mine', 987), ('mins', 988), ('minute', 989), ('minutes', 990), ('minuts', 991), ('miracle', 992), ('miss', 993), ('missed', 994), ('missing', 995), ('mistake', 996), ('mite', 997), ('mm', 998), ('mo', 999), ('moan', 1000), ('mob', 1001), ('mobile', 1002), ('mobiles', 1003), ('mobileupd8', 1004), ('mode', 1005), ('model', 1006), ('mom', 1007), ('moment', 1008), ('moms', 1009), ('mon', 1010), ('monday', 1011), ('money', 1012), ('month', 1013), ('months', 1014), ('mood', 1015), ('moon', 1016), ('moral', 1017), ('more', 1018), ('morning', 1019), ('most', 1020), ('mother', 1021), ('motorola', 1022), ('move', 1023), ('movie', 1024), ('movies', 1025), ('mp3', 1026), ('mr', 1027), ('mrng', 1028), ('mrt', 1029), ('msg', 1030), ('msgs', 1031), ('mths', 1032), ('mu', 1033), ('much', 1034), ('mum', 1035), ('murder', 1036), ('murdered', 1037), ('murderer', 1038), ('music', 1039), ('must', 1040), ('muz', 1041), ('my', 1042), ('myself', 1043), ('na', 1044), ('nah', 1045), ('naked', 1046), ('name', 1047), ('national', 1048), ('nature', 1049), ('naughty', 1050), ('near', 1051), ('need', 1052), ('needs', 1053), ('net', 1054), ('network', 1055), ('neva', 1056), ('never', 1057), ('new', 1058), ('news', 1059), ('next', 1060), ('ni8', 1061), ('nice', 1062), ('nigeria', 1063), ('night', 1064), ('nights', 1065), ('nimya', 1066), ('nite', 1067), ('no', 1068), ('no1', 1069), ('nobody', 1070), ('noe', 1071), ('nokia', 1072), ('noline', 1073), ('none', 1074), ('noon', 1075), ('nope', 1076), ('norm150p', 1077), ('normal', 1078), ('not', 1079), ('nothing', 1080), ('notice', 1081), ('now', 1082), ('nt', 1083), ('ntt', 1084), ('num', 1085), ('number', 1086), ('numbers', 1087), ('nvm', 1088), ('nw', 1089), ('nxt', 1090), ('nyt', 1091), ('o2', 1092), ('obviously', 1093), ('of', 1094), ('off', 1095), ('offer', 1096), ('offers', 1097), ('office', 1098), ('official', 1099), ('oh', 1100), ('ok', 1101), ('okay', 1102), ('okie', 1103), ('old', 1104), ('omg', 1105), ('omw', 1106), ('on', 1107), ('once', 1108), ('one', 1109), ('ones', 1110), ('online', 1111), ('only', 1112), ('onto', 1113), ('oops', 1114), ('open', 1115), ('operator', 1116), ('opinion', 1117), ('opportunity', 1118), ('opt', 1119), ('optout', 1120), ('or', 1121), ('orange', 1122), ('orchard', 1123), ('order', 1124), ('oredi', 1125), ('original', 1126), ('oso', 1127), ('other', 1128), ('others', 1129), ('otherwise', 1130), ('our', 1131), ('out', 1132), ('outside', 1133), ('over', 1134), ('own', 1135), ('oz', 1136), ('pa', 1137), ('page', 1138), ('paid', 1139), ('pain', 1140), ('paper', 1141), ('parents', 1142), ('park', 1143), ('part', 1144), ('partner', 1145), ('party', 1146), ('pass', 1147), ('password', 1148), ('past', 1149), ('pay', 1150), ('paying', 1151), ('pc', 1152), ('people', 1153), ('per', 1154), ('person', 1155), ('personal', 1156), ('persons', 1157), ('pete', 1158), ('phone', 1159), ('phones', 1160), ('photo', 1161), ('photos', 1162), ('pic', 1163), ('pick', 1164), ('picked', 1165), ('picking', 1166), ('pics', 1167), ('pictures', 1168), ('pilates', 1169), ('pin', 1170), ('pissed', 1171), ('pix', 1172), ('pizza', 1173), ('place', 1174), ('plan', 1175), ('planned', 1176), ('planning', 1177), ('plans', 1178), ('play', 1179), ('player', 1180), ('players', 1181), ('playing', 1182), ('please', 1183), ('pleased', 1184), ('pleasure', 1185), ('plenty', 1186), ('pls', 1187), ('plus', 1188), ('plz', 1189), ('pm', 1190), ('po', 1191), ('pobox', 1192), ('pobox334', 1193), ('pobox36504w45wq', 1194), ('pobox84', 1195), ('point', 1196), ('points', 1197), ('police', 1198), ('poly', 1199), ('polyphonic', 1200), ('polys', 1201), ('pongal', 1202), ('poor', 1203), ('possible', 1204), ('post', 1205), ('posted', 1206), ('pound', 1207), ('pounds', 1208), ('power', 1209), ('ppl', 1210), ('pple', 1211), ('pray', 1212), ('present', 1213), ('press', 1214), ('pretty', 1215), ('price', 1216), ('princess', 1217), ('private', 1218), ('prize', 1219), ('prob', 1220), ('probably', 1221), ('problem', 1222), ('problems', 1223), ('process', 1224), ('project', 1225), ('promise', 1226), ('pub', 1227), ('pussy', 1228), ('put', 1229), ('putting', 1230), ('qatar', 1231), ('quality', 1232), ('question', 1233), ('questions', 1234), ('quick', 1235), ('quite', 1236), ('quiz', 1237), ('quote', 1238), ('quoting', 1239), ('rain', 1240), ('raining', 1241), ('rakhesh', 1242), ('ran', 1243), ('random', 1244), ('rate', 1245), ('rates', 1246), ('rather', 1247), ('rays', 1248), ('rcvd', 1249), ('re', 1250), ('reach', 1251), ('reached', 1252), ('reaching', 1253), ('read', 1254), ('reading', 1255), ('ready', 1256), ('real', 1257), ('really', 1258), ('realy', 1259), ('reason', 1260), ('receipt', 1261), ('receive', 1262), ('recently', 1263), ('records', 1264), ('red', 1265), ('redeemed', 1266), ('reference', 1267), ('regards', 1268), ('registered', 1269), ('relax', 1270), ('rem', 1271), ('remember', 1272), ('remind', 1273), ('remove', 1274), ('rent', 1275), ('rental', 1276), ('rentl', 1277), ('replied', 1278), ('reply', 1279), ('replying', 1280), ('report', 1281), ('representative', 1282), ('request', 1283), ('respect', 1284), ('respond', 1285), ('rest', 1286), ('results', 1287), ('return', 1288), ('returns', 1289), ('reveal', 1290), ('revealed', 1291), ('review', 1292), ('reward', 1293), ('ride', 1294), ('right', 1295), ('ring', 1296), ('ringtone', 1297), ('ringtones', 1298), ('rite', 1299), ('road', 1300), ('rock', 1301), ('role', 1302), ('romantic', 1303), ('room', 1304), ('roommate', 1305), ('rooms', 1306), ('rose', 1307), ('round', 1308), ('row', 1309), ('rply', 1310), ('rs', 1311), ('ru', 1312), ('run', 1313), ('running', 1314), ('sad', 1315), ('sae', 1316), ('safe', 1317), ('said', 1318), ('salary', 1319), ('sale', 1320), ('sam', 1321), ('same', 1322), ('sat', 1323), ('saturday', 1324), ('savamob', 1325), ('save', 1326), ('saw', 1327), ('say', 1328), ('saying', 1329), ('says', 1330), ('scared', 1331), ('sch', 1332), ('school', 1333), ('scream', 1334), ('screaming', 1335), ('sea', 1336), ('search', 1337), ('searching', 1338), ('season', 1339), ('sec', 1340), ('second', 1341), ('secret', 1342), ('sed', 1343), ('see', 1344), ('seeing', 1345), ('seems', 1346), ('seen', 1347), ('selected', 1348), ('selection', 1349), ('self', 1350), ('sell', 1351), ('semester', 1352), ('sen', 1353), ('send', 1354), ('sending', 1355), ('sense', 1356), ('sent', 1357), ('serious', 1358), ('seriously', 1359), ('service', 1360), ('services', 1361), ('set', 1362), ('sex', 1363), ('sexy', 1364), ('shall', 1365), ('share', 1366), ('shd', 1367), ('she', 1368), ('shirt', 1369), ('shit', 1370), ('shop', 1371), ('shopping', 1372), ('short', 1373), ('should', 1374), ('shouldn', 1375), ('show', 1376), ('shower', 1377), ('showing', 1378), ('shows', 1379), ('shuhui', 1380), ('sick', 1381), ('side', 1382), ('sighs', 1383), ('sign', 1384), ('silent', 1385), ('sim', 1386), ('simple', 1387), ('simply', 1388), ('since', 1389), ('single', 1390), ('singles', 1391), ('sipix', 1392), ('sir', 1393), ('sis', 1394), ('sister', 1395), ('sit', 1396), ('site', 1397), ('sitting', 1398), ('situation', 1399), ('sk38xh', 1400), ('slave', 1401), ('sleep', 1402), ('sleeping', 1403), ('slept', 1404), ('slow', 1405), ('slowly', 1406), ('small', 1407), ('smile', 1408), ('smiles', 1409), ('smiling', 1410), ('smoke', 1411), ('sms', 1412), ('smth', 1413), ('sn', 1414), ('snow', 1415), ('so', 1416), ('social', 1417), ('sofa', 1418), ('sol', 1419), ('some', 1420), ('some1', 1421), ('somebody', 1422), ('someone', 1423), ('somethin', 1424), ('something', 1425), ('sometimes', 1426), ('somewhere', 1427), ('song', 1428), ('sony', 1429), ('sonyericsson', 1430), ('soon', 1431), ('sorry', 1432), ('sort', 1433), ('sound', 1434), ('sounds', 1435), ('south', 1436), ('sp', 1437), ('space', 1438), ('speak', 1439), ('special', 1440), ('specially', 1441), ('spend', 1442), ('spent', 1443), ('spl', 1444), ('spoke', 1445), ('sport', 1446), ('spree', 1447), ('st', 1448), ('stand', 1449), ('standard', 1450), ('start', 1451), ('started', 1452), ('starting', 1453), ('starts', 1454), ('statement', 1455), ('station', 1456), ('stay', 1457), ('staying', 1458), ('std', 1459), ('still', 1460), ('stock', 1461), ('stockport', 1462), ('stop', 1463), ('stopped', 1464), ('store', 1465), ('story', 1466), ('straight', 1467), ('street', 1468), ('strong', 1469), ('study', 1470), ('studying', 1471), ('stuff', 1472), ('stupid', 1473), ('style', 1474), ('stylish', 1475), ('sub', 1476), ('subscription', 1477), ('sucks', 1478), ('suite342', 1479), ('summer', 1480), ('sun', 1481), ('sunday', 1482), ('sunny', 1483), ('sunshine', 1484), ('sup', 1485), ('super', 1486), ('support', 1487), ('supposed', 1488), ('sura', 1489), ('sure', 1490), ('surely', 1491), ('surfing', 1492), ('surprise', 1493), ('sweet', 1494), ('swing', 1495), ('swt', 1496), ('system', 1497), ('ta', 1498), ('take', 1499), ('takes', 1500), ('taking', 1501), ('talk', 1502), ('talking', 1503), ('tampa', 1504), ('tariffs', 1505), ('tat', 1506), ('tc', 1507), ('tea', 1508), ('teach', 1509), ('team', 1510), ('tear', 1511), ('teasing', 1512), ('tel', 1513), ('tell', 1514), ('telling', 1515), ('tells', 1516), ('ten', 1517), ('tenerife', 1518), ('terms', 1519), ('test', 1520), ('text', 1521), ('texting', 1522), ('texts', 1523), ('th', 1524), ('than', 1525), ('thank', 1526), ('thanks', 1527), ('thanx', 1528), ('that', 1529), ('thats', 1530), ('the', 1531), ('theatre', 1532), ('their', 1533), ('them', 1534), ('themob', 1535), ('then', 1536), ('there', 1537), ('these', 1538), ('they', 1539), ('thing', 1540), ('things', 1541), ('think', 1542), ('thinkin', 1543), ('thinking', 1544), ('thinks', 1545), ('this', 1546), ('thk', 1547), ('thnk', 1548), ('tho', 1549), ('those', 1550), ('though', 1551), ('thought', 1552), ('through', 1553), ('thru', 1554), ('tht', 1555), ('thts', 1556), ('thurs', 1557), ('thursday', 1558), ('ticket', 1559), ('tickets', 1560), ('til', 1561), ('till', 1562), ('time', 1563), ('times', 1564), ('timing', 1565), ('tired', 1566), ('tis', 1567), ('tmr', 1568), ('tncs', 1569), ('to', 1570), ('toclaim', 1571), ('today', 1572), ('todays', 1573), ('together', 1574), ('told', 1575), ('tomo', 1576), ('tomorrow', 1577), ('tone', 1578), ('tones', 1579), ('tonight', 1580), ('tonite', 1581), ('too', 1582), ('took', 1583), ('top', 1584), ('torch', 1585), ('tot', 1586), ('totally', 1587), ('touch', 1588), ('tough', 1589), ('tour', 1590), ('towards', 1591), ('town', 1592), ('track', 1593), ('train', 1594), ('training', 1595), ('transaction', 1596), ('travel', 1597), ('treat', 1598), ('tried', 1599), ('trip', 1600), ('trouble', 1601), ('true', 1602), ('truly', 1603), ('trust', 1604), ('truth', 1605), ('try', 1606), ('trying', 1607), ('ts', 1608), ('ttyl', 1609), ('tuesday', 1610), ('tuition', 1611), ('turns', 1612), ('tv', 1613), ('twice', 1614), ('two', 1615), ('txt', 1616), ('txtauction', 1617), ('txting', 1618), ('txts', 1619), ('tyler', 1620), ('type', 1621), ('ugh', 1622), ('uk', 1623), ('umma', 1624), ('un', 1625), ('unable', 1626), ('uncle', 1627), ('under', 1628), ('understand', 1629), ('uni', 1630), ('unless', 1631), ('unlimited', 1632), ('unsold', 1633), ('unsub', 1634), ('unsubscribe', 1635), ('until', 1636), ('up', 1637), ('update', 1638), ('ur', 1639), ('urawinner', 1640), ('urgent', 1641), ('urgnt', 1642), ('urself', 1643), ('us', 1644), ('use', 1645), ('used', 1646), ('user', 1647), ('usf', 1648), ('using', 1649), ('usual', 1650), ('usually', 1651), ('valentine', 1652), ('valentines', 1653), ('valid', 1654), ('valued', 1655), ('vary', 1656), ('ve', 1657), ('very', 1658), ('via', 1659), ('video', 1660), ('videochat', 1661), ('videophones', 1662), ('vikky', 1663), ('visit', 1664), ('vl', 1665), ('voda', 1666), ('vodafone', 1667), ('voice', 1668), ('vomit', 1669), ('vote', 1670), ('voucher', 1671), ('vouchers', 1672), ('vry', 1673), ('w1j6hl', 1674), ('w45wq', 1675), ('wait', 1676), ('waiting', 1677), ('wake', 1678), ('waking', 1679), ('walk', 1680), ('walking', 1681), ('wan', 1682), ('wana', 1683), ('wanna', 1684), ('want', 1685), ('wanted', 1686), ('wants', 1687), ('wap', 1688), ('warm', 1689), ('was', 1690), ('wasn', 1691), ('waste', 1692), ('wat', 1693), ('watch', 1694), ('watching', 1695), ('water', 1696), ('wats', 1697), ('way', 1698), ('we', 1699), ('wear', 1700), ('weather', 1701), ('website', 1702), ('wed', 1703), ('wednesday', 1704), ('weed', 1705), ('week', 1706), ('weekend', 1707), ('weekends', 1708), ('weekly', 1709), ('weeks', 1710), ('weight', 1711), ('welcome', 1712), ('well', 1713), ('wen', 1714), ('went', 1715), ('were', 1716), ('wet', 1717), ('what', 1718), ('whatever', 1719), ('whats', 1720), ('when', 1721), ('whenever', 1722), ('where', 1723), ('wherever', 1724), ('whether', 1725), ('which', 1726), ('while', 1727), ('white', 1728), ('who', 1729), ('whole', 1730), ('why', 1731), ('wid', 1732), ('wif', 1733), ('wife', 1734), ('wil', 1735), ('will', 1736), ('willing', 1737), ('win', 1738), ('wine', 1739), ('winner', 1740), ('wins', 1741), ('wish', 1742), ('wishes', 1743), ('wishing', 1744), ('wit', 1745), ('with', 1746), ('within', 1747), ('without', 1748), ('wiv', 1749), ('wk', 1750), ('wkly', 1751), ('wnt', 1752), ('woke', 1753), ('woman', 1754), ('won', 1755), ('wonder', 1756), ('wonderful', 1757), ('wondering', 1758), ('wont', 1759), ('word', 1760), ('words', 1761), ('work', 1762), ('workin', 1763), ('working', 1764), ('works', 1765), ('world', 1766), ('worried', 1767), ('worries', 1768), ('worry', 1769), ('worse', 1770), ('worth', 1771), ('wot', 1772), ('would', 1773), ('wouldn', 1774), ('wow', 1775), ('write', 1776), ('wrong', 1777), ('wun', 1778), ('www', 1779), ('xchat', 1780), ('xmas', 1781), ('xx', 1782), ('xxx', 1783), ('xxxx', 1784), ('xy', 1785), ('ya', 1786), ('yahoo', 1787), ('yan', 1788), ('yar', 1789), ('yay', 1790), ('yeah', 1791), ('year', 1792), ('years', 1793), ('yep', 1794), ('yes', 1795), ('yest', 1796), ('yesterday', 1797), ('yet', 1798), ('yijue', 1799), ('ym', 1800), ('yo', 1801), ('yoga', 1802), ('yogasana', 1803), ('you', 1804), ('your', 1805), ('yours', 1806), ('yourself', 1807), ('yr', 1808), ('yrs', 1809), ('yun', 1810), ('yup', 1811), ('zed', 1812)]\n"
     ]
    }
   ],
   "source": [
    "# vocabular sortat in ordine alfabetica\n",
    "print(sorted(vect_sms.vocabulary_.items(), key = lambda item: item[1]))"
   ]
  },
  {
   "cell_type": "code",
   "execution_count": 16,
   "metadata": {},
   "outputs": [],
   "source": [
    "BOW_sms = vect_sms.transform(X_sms)"
   ]
  },
  {
   "cell_type": "code",
   "execution_count": 17,
   "metadata": {},
   "outputs": [
    {
     "name": "stdout",
     "output_type": "stream",
     "text": [
      "Reprezentarea ca vectori rari\n",
      ":\b  (0, 187)\t1\n",
      "  (0, 272)\t1\n",
      "  (0, 341)\t1\n",
      "  (0, 400)\t1\n",
      "  (0, 656)\t1\n",
      "  (0, 667)\t1\n",
      "  (0, 671)\t1\n",
      "  (0, 781)\t1\n",
      "  (0, 849)\t1\n",
      "  (0, 1112)\t1\n",
      "  (0, 1196)\t1\n",
      "  (0, 1537)\t1\n",
      "  (0, 1636)\t1\n",
      "  (0, 1693)\t1\n",
      "  (0, 1766)\t1\n",
      "  (1, 823)\t1\n",
      "  (1, 856)\t1\n",
      "  (1, 1101)\t1\n",
      "  (1, 1733)\t1\n",
      "  (2, 158)\t1\n",
      "  (2, 366)\t1\n",
      "  (2, 408)\t1\n",
      "  (2, 529)\t2\n",
      "  (2, 582)\t1\n",
      "  (2, 609)\t1\n",
      "  :\t:\n",
      "  (5570, 213)\t1\n",
      "  (5570, 276)\t1\n",
      "  (5570, 278)\t1\n",
      "  (5570, 446)\t1\n",
      "  (5570, 513)\t1\n",
      "  (5570, 601)\t1\n",
      "  (5570, 609)\t1\n",
      "  (5570, 636)\t1\n",
      "  (5570, 681)\t1\n",
      "  (5570, 707)\t1\n",
      "  (5570, 781)\t1\n",
      "  (5570, 792)\t1\n",
      "  (5570, 806)\t1\n",
      "  (5570, 889)\t1\n",
      "  (5570, 1060)\t1\n",
      "  (5570, 1420)\t1\n",
      "  (5570, 1425)\t1\n",
      "  (5570, 1531)\t1\n",
      "  (5570, 1570)\t1\n",
      "  (5570, 1644)\t1\n",
      "  (5570, 1706)\t1\n",
      "  (5571, 808)\t2\n",
      "  (5571, 1047)\t1\n",
      "  (5571, 1570)\t1\n",
      "  (5571, 1602)\t1\n",
      "Reprezentarea ca vectori:\n",
      " [[0 0 0 ... 0 0 0]\n",
      " [0 0 0 ... 0 0 0]\n",
      " [0 0 0 ... 0 0 0]\n",
      " ...\n",
      " [0 0 0 ... 0 0 0]\n",
      " [0 0 0 ... 0 0 0]\n",
      " [0 0 0 ... 0 0 0]]\n"
     ]
    }
   ],
   "source": [
    "print(f'Reprezentarea ca vectori rari\\n:\\b{BOW_sms}')\n",
    "print('Reprezentarea ca vectori:\\n', BOW_sms.toarray())"
   ]
  },
  {
   "cell_type": "code",
   "execution_count": 18,
   "metadata": {},
   "outputs": [
    {
     "name": "stdout",
     "output_type": "stream",
     "text": [
      "Dimensiune vocabular: 1813\n"
     ]
    }
   ],
   "source": [
    "print(f'Dimensiune vocabular: {len(vect_sms.vocabulary_)}')"
   ]
  },
  {
   "cell_type": "code",
   "execution_count": 19,
   "metadata": {},
   "outputs": [
    {
     "name": "stdout",
     "output_type": "stream",
     "text": [
      "Dimensiunea vocabularului: 1813\n"
     ]
    }
   ],
   "source": [
    "#obtinerea vocabularului\n",
    "feature_names_sms = vect_sms.get_feature_names()\n",
    "print('Dimensiunea vocabularului:', len(feature_names_sms))"
   ]
  },
  {
   "cell_type": "code",
   "execution_count": 20,
   "metadata": {},
   "outputs": [
    {
     "name": "stdout",
     "output_type": "stream",
     "text": [
      "['00', '000', '02', '03', '04', '06', '0800', '08000839402', '08000930705', '0870', '08707509020', '08712300220', '08712460324', '08718720201', '09050090044', '10', '100', '1000', '10am', '10p']\n"
     ]
    }
   ],
   "source": [
    "print(feature_names_sms[:20])"
   ]
  },
  {
   "cell_type": "markdown",
   "metadata": {},
   "source": [
    "### <font color=\"blue\"> Pentru al doilea set de date"
   ]
  },
  {
   "cell_type": "code",
   "execution_count": 21,
   "metadata": {},
   "outputs": [
    {
     "name": "stdout",
     "output_type": "stream",
     "text": [
      "{'loved': 160, 'this': 289, 'place': 208, 'is': 148, 'not': 184, 'good': 124, 'tasty': 272, 'and': 13, 'the': 279, 'was': 313, 'just': 150, 'by': 52, 'during': 82, 'may': 166, 'off': 188, 'it': 149, 'selection': 238, 'on': 190, 'menu': 171, 'great': 126, 'so': 252, 'were': 320, 'prices': 215, 'now': 186, 'am': 9, 'getting': 120, 'want': 311, 'my': 177, 'pho': 206, 'didn': 71, 'taste': 269, 'that': 278, 'fresh': 112, 'like': 155, 'you': 335, 'could': 63, 'tell': 273, 'they': 285, 'had': 127, 'been': 37, 'made': 162, 'up': 301, 'of': 187, 'time': 291, 'being': 40, 'kept': 151, 'fries': 116, 'too': 294, 'service': 243, 'very': 305, 'would': 333, 'go': 122, 'back': 29, 'no': 183, 'what': 321, 'ever': 92, 'to': 293, 'say': 234, 'still': 261, 'overpriced': 203, 'tried': 297, 'chicken': 56, 'with': 328, 'because': 35, 'pretty': 213, 'sure': 263, 'only': 193, 'waitress': 310, 'little': 156, 'slow': 250, 'in': 146, 'worth': 332, 'your': 336, 'vegas': 304, 'did': 70, 'at': 22, 'all': 6, 'food': 109, 'amazing': 10, 'also': 7, 'right': 227, 'never': 178, 'salad': 230, 'we': 317, 'asked': 21, 'for': 110, 'has': 130, 'friendly': 115, 'staff': 258, 'took': 295, 'an': 12, 'hour': 140, 'get': 119, 'our': 198, 'tables': 267, 'restaurant': 225, 'warm': 312, 'around': 19, 'he': 132, 'worst': 331, 'there': 283, 'are': 17, 'burger': 50, 'beer': 38, 'which': 324, 'deal': 66, 'found': 111, 'be': 34, 'quick': 218, 'some': 253, 'but': 51, 'do': 78, 'overall': 202, 'lot': 158, 'quality': 217, 'portions': 211, 'poor': 210, 'waiter': 308, 'me': 167, 'feel': 103, 'every': 93, 'came': 53, 'table': 266, 'first': 106, 'shrimp': 246, 'tender': 274, 'enough': 90, 'again': 5, 'hard': 129, 'these': 284, 'out': 199, 'eat': 84, 'sick': 247, 'server': 241, 'attentive': 24, 'people': 204, 'thing': 286, 'dessert': 69, 'bad': 31, 'beef': 36, 'cooked': 62, 'if': 144, 'sandwich': 231, 'any': 15, 'side': 248, 'ordered': 196, 'inside': 147, 'nice': 181, 'outside': 200, 'after': 4, 'us': 302, 'when': 322, 'left': 154, 'his': 135, 'their': 280, 'have': 131, 'horrible': 138, 'down': 81, 'each': 83, 'one': 192, 'don': 79, 'enjoy': 88, 'huge': 142, 'servers': 242, 'wonderful': 330, 'absolutely': 3, 'much': 175, 'seafood': 235, 'sauce': 233, 'over': 201, 'tasteless': 271, 'think': 288, 'before': 39, '10': 0, 'minutes': 172, 'stars': 259, 'delicious': 68, 'definitely': 67, 'here': 134, 'give': 121, 'always': 8, 'went': 319, 'as': 20, 'got': 125, 'fish': 107, 'way': 316, 'really': 222, '30': 1, 'nothing': 185, 'more': 174, 'than': 277, 'should': 245, 'dish': 76, 'quite': 219, 'well': 318, 'times': 292, 'customer': 64, 'sweet': 265, 'potato': 212, 've': 303, 'lunch': 161, 'buffet': 49, 'eating': 86, 'going': 123, 'coming': 61, 'where': 323, 'both': 45, 'can': 54, 'wait': 306, 'other': 197, 'old': 189, 'bland': 44, 'about': 2, 'love': 159, 'try': 298, 'meat': 169, 'everything': 94, 'disappointing': 75, 'dining': 72, 'experience': 97, 're': 220, 'will': 327, 'best': 41, 'breakfast': 47, 'll': 157, 'fantastic': 100, 'meal': 168, 'another': 14, 'town': 296, 'price': 214, 'dishes': 77, 'better': 42, 'next': 180, 'real': 221, 'sushi': 264, 'wasn': 314, 'thai': 276, 'spicy': 256, 'check': 55, 'atmosphere': 23, 'steak': 260, 'bit': 43, 'know': 152, 'how': 141, 'served': 240, 'eaten': 85, 'who': 326, 'places': 209, 'said': 229, 'thought': 290, 'away': 27, 'hit': 136, 'spot': 257, 'night': 182, 'waste': 315, 'ambiance': 11, 'return': 226, 'mediocre': 170, 'excellent': 95, 'management': 164, 'rude': 228, 'even': 91, 'come': 60, 'seriously': 239, 'extremely': 98, 'many': 165, 'or': 194, 'disappointed': 74, 'done': 80, 'clean': 58, 'day': 65, 'seated': 236, 'waited': 307, 'since': 249, 'must': 176, 'impressed': 145, 'avoid': 26, 'full': 118, 'area': 18, 'bacon': 30, 'them': 281, 'while': 325, 'once': 191, 'sat': 232, 'take': 268, 'order': 195, 'flavor': 108, 'she': 244, 'probably': 216, 'ice': 143, 'hot': 139, 'bread': 46, 'home': 137, 'chips': 57, 'felt': 104, 'things': 287, 'last': 153, 'waiting': 309, 'her': 133, 'soon': 254, 'friend': 114, 'won': 329, 'small': 251, 'see': 237, 'either': 87, 'cold': 59, 'make': 163, 'special': 255, 'then': 282, 'money': 173, 'pizza': 207, 'fast': 102, 'few': 105, 'far': 101, 'twice': 299, 'wrong': 334, 'from': 117, 'recommend': 224, 'fried': 113, 'expect': 96, 'reasonable': 223, 'two': 300, 'happy': 128, 'authentic': 25, 'terrible': 275, 'tasted': 270, 'perfect': 205, 'family': 99, 'enjoyed': 89, 'dinner': 73, 'bar': 32, 'anytime': 16, 'new': 179, 'bring': 48, 'awesome': 28, 'super': 262, 'barely': 33}\n"
     ]
    }
   ],
   "source": [
    "vect_sentiment = CountVectorizer(min_df = 5)\n",
    "vect_sentiment.fit(X_sentiment)\n",
    "\n",
    "print(vect_sentiment.vocabulary_) # cuvintele distincte din texte"
   ]
  },
  {
   "cell_type": "code",
   "execution_count": 22,
   "metadata": {},
   "outputs": [
    {
     "name": "stdout",
     "output_type": "stream",
     "text": [
      "[('10', 0), ('30', 1), ('about', 2), ('absolutely', 3), ('after', 4), ('again', 5), ('all', 6), ('also', 7), ('always', 8), ('am', 9), ('amazing', 10), ('ambiance', 11), ('an', 12), ('and', 13), ('another', 14), ('any', 15), ('anytime', 16), ('are', 17), ('area', 18), ('around', 19), ('as', 20), ('asked', 21), ('at', 22), ('atmosphere', 23), ('attentive', 24), ('authentic', 25), ('avoid', 26), ('away', 27), ('awesome', 28), ('back', 29), ('bacon', 30), ('bad', 31), ('bar', 32), ('barely', 33), ('be', 34), ('because', 35), ('beef', 36), ('been', 37), ('beer', 38), ('before', 39), ('being', 40), ('best', 41), ('better', 42), ('bit', 43), ('bland', 44), ('both', 45), ('bread', 46), ('breakfast', 47), ('bring', 48), ('buffet', 49), ('burger', 50), ('but', 51), ('by', 52), ('came', 53), ('can', 54), ('check', 55), ('chicken', 56), ('chips', 57), ('clean', 58), ('cold', 59), ('come', 60), ('coming', 61), ('cooked', 62), ('could', 63), ('customer', 64), ('day', 65), ('deal', 66), ('definitely', 67), ('delicious', 68), ('dessert', 69), ('did', 70), ('didn', 71), ('dining', 72), ('dinner', 73), ('disappointed', 74), ('disappointing', 75), ('dish', 76), ('dishes', 77), ('do', 78), ('don', 79), ('done', 80), ('down', 81), ('during', 82), ('each', 83), ('eat', 84), ('eaten', 85), ('eating', 86), ('either', 87), ('enjoy', 88), ('enjoyed', 89), ('enough', 90), ('even', 91), ('ever', 92), ('every', 93), ('everything', 94), ('excellent', 95), ('expect', 96), ('experience', 97), ('extremely', 98), ('family', 99), ('fantastic', 100), ('far', 101), ('fast', 102), ('feel', 103), ('felt', 104), ('few', 105), ('first', 106), ('fish', 107), ('flavor', 108), ('food', 109), ('for', 110), ('found', 111), ('fresh', 112), ('fried', 113), ('friend', 114), ('friendly', 115), ('fries', 116), ('from', 117), ('full', 118), ('get', 119), ('getting', 120), ('give', 121), ('go', 122), ('going', 123), ('good', 124), ('got', 125), ('great', 126), ('had', 127), ('happy', 128), ('hard', 129), ('has', 130), ('have', 131), ('he', 132), ('her', 133), ('here', 134), ('his', 135), ('hit', 136), ('home', 137), ('horrible', 138), ('hot', 139), ('hour', 140), ('how', 141), ('huge', 142), ('ice', 143), ('if', 144), ('impressed', 145), ('in', 146), ('inside', 147), ('is', 148), ('it', 149), ('just', 150), ('kept', 151), ('know', 152), ('last', 153), ('left', 154), ('like', 155), ('little', 156), ('ll', 157), ('lot', 158), ('love', 159), ('loved', 160), ('lunch', 161), ('made', 162), ('make', 163), ('management', 164), ('many', 165), ('may', 166), ('me', 167), ('meal', 168), ('meat', 169), ('mediocre', 170), ('menu', 171), ('minutes', 172), ('money', 173), ('more', 174), ('much', 175), ('must', 176), ('my', 177), ('never', 178), ('new', 179), ('next', 180), ('nice', 181), ('night', 182), ('no', 183), ('not', 184), ('nothing', 185), ('now', 186), ('of', 187), ('off', 188), ('old', 189), ('on', 190), ('once', 191), ('one', 192), ('only', 193), ('or', 194), ('order', 195), ('ordered', 196), ('other', 197), ('our', 198), ('out', 199), ('outside', 200), ('over', 201), ('overall', 202), ('overpriced', 203), ('people', 204), ('perfect', 205), ('pho', 206), ('pizza', 207), ('place', 208), ('places', 209), ('poor', 210), ('portions', 211), ('potato', 212), ('pretty', 213), ('price', 214), ('prices', 215), ('probably', 216), ('quality', 217), ('quick', 218), ('quite', 219), ('re', 220), ('real', 221), ('really', 222), ('reasonable', 223), ('recommend', 224), ('restaurant', 225), ('return', 226), ('right', 227), ('rude', 228), ('said', 229), ('salad', 230), ('sandwich', 231), ('sat', 232), ('sauce', 233), ('say', 234), ('seafood', 235), ('seated', 236), ('see', 237), ('selection', 238), ('seriously', 239), ('served', 240), ('server', 241), ('servers', 242), ('service', 243), ('she', 244), ('should', 245), ('shrimp', 246), ('sick', 247), ('side', 248), ('since', 249), ('slow', 250), ('small', 251), ('so', 252), ('some', 253), ('soon', 254), ('special', 255), ('spicy', 256), ('spot', 257), ('staff', 258), ('stars', 259), ('steak', 260), ('still', 261), ('super', 262), ('sure', 263), ('sushi', 264), ('sweet', 265), ('table', 266), ('tables', 267), ('take', 268), ('taste', 269), ('tasted', 270), ('tasteless', 271), ('tasty', 272), ('tell', 273), ('tender', 274), ('terrible', 275), ('thai', 276), ('than', 277), ('that', 278), ('the', 279), ('their', 280), ('them', 281), ('then', 282), ('there', 283), ('these', 284), ('they', 285), ('thing', 286), ('things', 287), ('think', 288), ('this', 289), ('thought', 290), ('time', 291), ('times', 292), ('to', 293), ('too', 294), ('took', 295), ('town', 296), ('tried', 297), ('try', 298), ('twice', 299), ('two', 300), ('up', 301), ('us', 302), ('ve', 303), ('vegas', 304), ('very', 305), ('wait', 306), ('waited', 307), ('waiter', 308), ('waiting', 309), ('waitress', 310), ('want', 311), ('warm', 312), ('was', 313), ('wasn', 314), ('waste', 315), ('way', 316), ('we', 317), ('well', 318), ('went', 319), ('were', 320), ('what', 321), ('when', 322), ('where', 323), ('which', 324), ('while', 325), ('who', 326), ('will', 327), ('with', 328), ('won', 329), ('wonderful', 330), ('worst', 331), ('worth', 332), ('would', 333), ('wrong', 334), ('you', 335), ('your', 336)]\n"
     ]
    }
   ],
   "source": [
    "# vocabular sortat in ordine alfabetica\n",
    "print(sorted(vect_sentiment.vocabulary_.items(), key = lambda item: item[1]))"
   ]
  },
  {
   "cell_type": "code",
   "execution_count": 23,
   "metadata": {},
   "outputs": [],
   "source": [
    "BOW_sentiment = vect_sentiment.transform(X_sentiment)"
   ]
  },
  {
   "cell_type": "code",
   "execution_count": 24,
   "metadata": {},
   "outputs": [
    {
     "name": "stdout",
     "output_type": "stream",
     "text": [
      "Reprezentarea ca vectori rari\n",
      ":\b  (0, 160)\t1\n",
      "  (0, 208)\t1\n",
      "  (0, 289)\t1\n",
      "  (1, 124)\t1\n",
      "  (1, 148)\t1\n",
      "  (1, 184)\t1\n",
      "  (2, 13)\t1\n",
      "  (2, 150)\t1\n",
      "  (2, 184)\t1\n",
      "  (2, 272)\t1\n",
      "  (2, 279)\t1\n",
      "  (2, 313)\t1\n",
      "  (3, 13)\t1\n",
      "  (3, 52)\t1\n",
      "  (3, 82)\t1\n",
      "  (3, 149)\t1\n",
      "  (3, 160)\t1\n",
      "  (3, 166)\t1\n",
      "  (3, 188)\t1\n",
      "  (3, 279)\t1\n",
      "  (4, 13)\t1\n",
      "  (4, 126)\t1\n",
      "  (4, 171)\t1\n",
      "  (4, 190)\t1\n",
      "  (4, 215)\t1\n",
      "  :\t:\n",
      "  (998, 264)\t1\n",
      "  (998, 279)\t1\n",
      "  (998, 288)\t1\n",
      "  (998, 291)\t1\n",
      "  (998, 293)\t1\n",
      "  (998, 313)\t1\n",
      "  (998, 317)\t1\n",
      "  (999, 20)\t1\n",
      "  (999, 48)\t1\n",
      "  (999, 52)\t1\n",
      "  (999, 55)\t1\n",
      "  (999, 90)\t1\n",
      "  (999, 144)\t1\n",
      "  (999, 146)\t1\n",
      "  (999, 149)\t1\n",
      "  (999, 177)\t1\n",
      "  (999, 187)\t1\n",
      "  (999, 199)\t1\n",
      "  (999, 279)\t3\n",
      "  (999, 282)\t1\n",
      "  (999, 283)\t1\n",
      "  (999, 285)\t1\n",
      "  (999, 291)\t1\n",
      "  (999, 293)\t1\n",
      "  (999, 295)\t1\n",
      "Reprezentarea ca vectori:\n",
      " [[0 0 0 ... 0 0 0]\n",
      " [0 0 0 ... 0 0 0]\n",
      " [0 0 0 ... 0 0 0]\n",
      " ...\n",
      " [0 0 0 ... 0 0 0]\n",
      " [0 0 0 ... 0 0 0]\n",
      " [0 0 0 ... 0 0 0]]\n"
     ]
    }
   ],
   "source": [
    "print(f'Reprezentarea ca vectori rari\\n:\\b{BOW_sentiment}')\n",
    "print('Reprezentarea ca vectori:\\n', BOW_sentiment.toarray())"
   ]
  },
  {
   "cell_type": "code",
   "execution_count": 25,
   "metadata": {},
   "outputs": [
    {
     "name": "stdout",
     "output_type": "stream",
     "text": [
      "Dimensiune vocabular: 337\n"
     ]
    }
   ],
   "source": [
    "print(f'Dimensiune vocabular: {len(vect_sentiment.vocabulary_)}')"
   ]
  },
  {
   "cell_type": "code",
   "execution_count": 26,
   "metadata": {},
   "outputs": [
    {
     "name": "stdout",
     "output_type": "stream",
     "text": [
      "Dimensiunea vocabularului: 337\n"
     ]
    }
   ],
   "source": [
    "#obtinerea vocabularului\n",
    "feature_names_sentiment = vect_sentiment.get_feature_names()\n",
    "print('Dimensiunea vocabularului:', len(feature_names_sentiment))"
   ]
  },
  {
   "cell_type": "code",
   "execution_count": 27,
   "metadata": {},
   "outputs": [
    {
     "name": "stdout",
     "output_type": "stream",
     "text": [
      "['10', '30', 'about', 'absolutely', 'after', 'again', 'all', 'also', 'always', 'am', 'amazing', 'ambiance', 'an', 'and', 'another', 'any', 'anytime', 'are', 'area', 'around']\n"
     ]
    }
   ],
   "source": [
    "print(feature_names_sentiment[:20])"
   ]
  },
  {
   "cell_type": "markdown",
   "metadata": {},
   "source": [
    "# Statistica"
   ]
  },
  {
   "cell_type": "markdown",
   "metadata": {},
   "source": [
    "### <font color=\"blue\"> Pentru primul set de date"
   ]
  },
  {
   "cell_type": "code",
   "execution_count": 28,
   "metadata": {},
   "outputs": [
    {
     "data": {
      "image/png": "[encoded data removed]",
      "text/plain": [
       "<Figure size 432x432 with 1 Axes>"
      ]
     },
     "metadata": {},
     "output_type": "display_data"
    }
   ],
   "source": [
    "dataset_sms['category'].value_counts().plot(kind = 'pie', explode = [0, 0.1], figsize = (6, 6), \n",
    "                                            autopct = '%1.1f%%', shadow = True)\n",
    "plt.show()"
   ]
  },
  {
   "cell_type": "code",
   "execution_count": 29,
   "metadata": {},
   "outputs": [],
   "source": [
    "dataset_sms['message_len'] = dataset_sms['message'].astype(str).apply(len)\n",
    "dataset_sms['word_count'] = dataset_sms['message'].apply(lambda x: len(str(x).split()))"
   ]
  },
  {
   "cell_type": "code",
   "execution_count": 30,
   "metadata": {},
   "outputs": [
    {
     "data": {
      "text/plain": [
       "[]"
      ]
     },
     "execution_count": 30,
     "metadata": {},
     "output_type": "execute_result"
    },
    {
     "data": {
      "image/png": "[encoded data removed]",
      "text/plain": [
       "<Figure size 432x288 with 1 Axes>"
      ]
     },
     "metadata": {
      "needs_background": "light"
     },
     "output_type": "display_data"
    }
   ],
   "source": [
    "dataset_sms['message_len'].plot(kind = 'hist', bins = 100, title = 'Text Length Distribution')\n",
    "plt.ylabel('count')\n",
    "plt.xlabel('message length')\n",
    "plt.plot()"
   ]
  },
  {
   "cell_type": "code",
   "execution_count": 31,
   "metadata": {},
   "outputs": [
    {
     "data": {
      "text/plain": [
       "[]"
      ]
     },
     "execution_count": 31,
     "metadata": {},
     "output_type": "execute_result"
    },
    {
     "data": {
      "image/png": "[encoded data removed]",
      "text/plain": [
       "<Figure size 432x288 with 1 Axes>"
      ]
     },
     "metadata": {
      "needs_background": "light"
     },
     "output_type": "display_data"
    }
   ],
   "source": [
    "dataset_sms['word_count'].plot(kind = 'hist', bins = 100, title = 'Text Word Count Distribution')\n",
    "plt.ylabel('count')\n",
    "plt.xlabel('word count')\n",
    "plt.plot()"
   ]
  },
  {
   "cell_type": "markdown",
   "metadata": {},
   "source": [
    "### <font color=\"blue\"> Pentru al doilea set de date"
   ]
  },
  {
   "cell_type": "code",
   "execution_count": 32,
   "metadata": {},
   "outputs": [
    {
     "data": {
      "image/png": "[encoded data removed]",
      "text/plain": [
       "<Figure size 432x432 with 1 Axes>"
      ]
     },
     "metadata": {},
     "output_type": "display_data"
    }
   ],
   "source": [
    "dataset_sentiment['class'].value_counts().plot(kind = 'pie', explode = [0, 0.1], figsize = (6, 6), \n",
    "                                            autopct = '%1.1f%%', shadow = True)\n",
    "plt.show()"
   ]
  },
  {
   "cell_type": "code",
   "execution_count": 33,
   "metadata": {},
   "outputs": [],
   "source": [
    "dataset_sentiment['message_len'] = dataset_sentiment['message'].astype(str).apply(len)\n",
    "dataset_sentiment['word_count'] = dataset_sentiment['message'].apply(lambda x: len(str(x).split()))"
   ]
  },
  {
   "cell_type": "code",
   "execution_count": 34,
   "metadata": {},
   "outputs": [
    {
     "data": {
      "text/plain": [
       "[]"
      ]
     },
     "execution_count": 34,
     "metadata": {},
     "output_type": "execute_result"
    },
    {
     "data": {
      "image/png": "[encoded data removed]",
      "text/plain": [
       "<Figure size 432x288 with 1 Axes>"
      ]
     },
     "metadata": {
      "needs_background": "light"
     },
     "output_type": "display_data"
    }
   ],
   "source": [
    "dataset_sentiment['message_len'].plot(kind = 'hist', bins = 100, title = 'Text Length Distribution')\n",
    "plt.ylabel('count')\n",
    "plt.xlabel('message length')\n",
    "plt.plot()"
   ]
  },
  {
   "cell_type": "code",
   "execution_count": 35,
   "metadata": {},
   "outputs": [
    {
     "data": {
      "text/plain": [
       "[]"
      ]
     },
     "execution_count": 35,
     "metadata": {},
     "output_type": "execute_result"
    },
    {
     "data": {
      "image/png": "[encoded data removed]",
      "text/plain": [
       "<Figure size 432x288 with 1 Axes>"
      ]
     },
     "metadata": {
      "needs_background": "light"
     },
     "output_type": "display_data"
    }
   ],
   "source": [
    "dataset_sentiment['word_count'].plot(kind = 'hist', bins = 100, title = 'Text Word Count Distribution')\n",
    "plt.ylabel('count')\n",
    "plt.xlabel('word count')\n",
    "plt.plot()"
   ]
  },
  {
   "cell_type": "markdown",
   "metadata": {},
   "source": [
    "# Eliminare cuvinte neinformative (stopwords)"
   ]
  },
  {
   "cell_type": "markdown",
   "metadata": {},
   "source": [
    "### <font color=\"blue\"> Pentru primul set de date"
   ]
  },
  {
   "cell_type": "code",
   "execution_count": 36,
   "metadata": {},
   "outputs": [
    {
     "name": "stdout",
     "output_type": "stream",
     "text": [
      "Dimensiune vocabular:  6841\n"
     ]
    }
   ],
   "source": [
    "vect_sms = CountVectorizer(max_df = 4, stop_words = 'english')\n",
    "vect_sms.fit_transform(X_sms)\n",
    "print('Dimensiune vocabular: ', len(vect_sms.get_feature_names()))"
   ]
  },
  {
   "cell_type": "markdown",
   "metadata": {},
   "source": [
    "### <font color=\"blue\"> Pentru al doilea set de date"
   ]
  },
  {
   "cell_type": "code",
   "execution_count": 37,
   "metadata": {},
   "outputs": [
    {
     "name": "stdout",
     "output_type": "stream",
     "text": [
      "Dimensiune vocabular:  282\n"
     ]
    }
   ],
   "source": [
    "vect_sentiment = CountVectorizer(min_df = 4, stop_words = 'english')\n",
    "vect_sentiment.fit_transform(X_sentiment)\n",
    "print('Dimensiune vocabular: ', len(vect_sentiment.get_feature_names()))"
   ]
  },
  {
   "cell_type": "markdown",
   "metadata": {},
   "source": [
    "# Colorarea valorilor maxime si minime"
   ]
  },
  {
   "cell_type": "code",
   "execution_count": 38,
   "metadata": {},
   "outputs": [],
   "source": [
    "main_list:list = []\n",
    "intermediar_list:list = []\n",
    "\n",
    "names:list = ['Model', 'Search', 'train_accuracy', 'train_f1_score', 'test_accuracy', 'test_f1_score']\n",
    "subset:list = ['train_accuracy', 'train_f1_score', 'test_accuracy', 'test_f1_score']"
   ]
  },
  {
   "cell_type": "code",
   "execution_count": 39,
   "metadata": {},
   "outputs": [],
   "source": [
    "def highlight_max(s):\n",
    "    '''\n",
    "    highlight the maximum in a Series red.\n",
    "    '''\n",
    "    is_max = s == s.max()\n",
    "    \n",
    "    return ['background-color: green' if v else '' for v in is_max]"
   ]
  },
  {
   "cell_type": "code",
   "execution_count": 40,
   "metadata": {},
   "outputs": [],
   "source": [
    "def highlight_min(s):\n",
    "    '''\n",
    "    highlight the minimum in a Series green.\n",
    "    '''\n",
    "    is_min = s == s.min()\n",
    "    \n",
    "    return ['background-color: red' if v else '' for v in is_min]"
   ]
  },
  {
   "cell_type": "markdown",
   "metadata": {},
   "source": [
    "# Cautarea hiperparametrilor "
   ]
  },
  {
   "cell_type": "code",
   "execution_count": 41,
   "metadata": {},
   "outputs": [],
   "source": [
    "def search_grid(model, parameters:dict, x:np.ndarray, y:np.ndarray):\n",
    "    \n",
    "    '''This function takes the parameters and search for best parameters.\n",
    "    \n",
    "    Parameters:\n",
    "        model - model from sklearn \n",
    "        parameters - all the alternatives to the hyperparameters\n",
    "        x, y - input and output values\n",
    "    \n",
    "    It returns the errors.\n",
    "    '''\n",
    "    \n",
    "    x_train, x_test, y_train, y_test = train_test_split(x, y, test_size = 1/5)\n",
    "    \n",
    "    vect = CountVectorizer(min_df = 4, stop_words = 'english')\n",
    "    X_train = vect.fit_transform(x_train)\n",
    "\n",
    "    grid_search = GridSearchCV(estimator = model, param_grid = parameters, \n",
    "                            scoring = 'f1_weighted', cv = 5, return_train_score = True, n_jobs=-1)\n",
    "\n",
    "    grid_search.fit(X_train.toarray(), y_train)\n",
    "    \n",
    "    new_x = vect.fit_transform(x)\n",
    "    return errors(grid_search, new_x.toarray(), y)"
   ]
  },
  {
   "cell_type": "code",
   "execution_count": 42,
   "metadata": {},
   "outputs": [],
   "source": [
    "def search_random(model, parameters:dict, x:np.ndarray, y:np.ndarray):\n",
    "    \n",
    "    '''This function takes the parameters and search for best parameters.\n",
    "    \n",
    "    Parameters:\n",
    "        model - model from sklearn \n",
    "        parameters - all the alternatives to the hyperparameters\n",
    "        x, y - input and output values\n",
    "    \n",
    "    It returns the errors.\n",
    "    '''\n",
    "    \n",
    "    x_train, x_test, y_train, y_test = train_test_split(x, y, test_size = 1/5)\n",
    "    \n",
    "    vect = CountVectorizer(min_df = 4, stop_words = 'english')\n",
    "    X_train = vect.fit_transform(x_train)\n",
    "    \n",
    "    rand_search = RandomizedSearchCV(estimator = model, param_distributions = parameters, \n",
    "                            scoring = 'f1_weighted', cv = 5, return_train_score = True, n_jobs=-1)\n",
    "    rand_search.fit(X_train.toarray(), y_train)\n",
    "    \n",
    "    new_x = vect.fit_transform(x)\n",
    "    return errors(rand_search, new_x.toarray(), y)"
   ]
  },
  {
   "cell_type": "markdown",
   "metadata": {},
   "source": [
    "# Calcularea erorilor "
   ]
  },
  {
   "cell_type": "code",
   "execution_count": 43,
   "metadata": {},
   "outputs": [],
   "source": [
    "def errors(model, x:np.ndarray, y:np.ndarray)-> List[float]:\n",
    "    \n",
    "    '''Errors function calculates accuracy and f1_score, \n",
    "    mean squared error and median absolute error for model.\n",
    "    \n",
    "    Parameters:\n",
    "        model - model from sklearn \n",
    "        x, y - input and output values\n",
    "        \n",
    "    Returns a list with mean of errors:\n",
    "    accuracy_score for train and test data\n",
    "    f1_score for train and test data\n",
    "    '''\n",
    "    \n",
    "    scores = cross_validate(model, x, y, cv = 5, scoring = ['f1_weighted', 'accuracy'], \n",
    "                            return_train_score = True)\n",
    "    \n",
    "    result = [scores['train_accuracy'].mean(), scores['test_accuracy'].mean(),\n",
    "              scores['train_f1_weighted'].mean(), scores['test_f1_weighted'].mean()]\n",
    "    \n",
    "    return result"
   ]
  },
  {
   "cell_type": "markdown",
   "metadata": {},
   "source": [
    "### <font color=magenta> KNeighbour Classifier"
   ]
  },
  {
   "cell_type": "code",
   "execution_count": 44,
   "metadata": {},
   "outputs": [],
   "source": [
    "def KNN(model, parameters:dict, x:np.ndarray, y:np.ndarray):\n",
    "    \n",
    "    '''KNN function get params and do classification based on k-nearest\n",
    "    neighbors with best parameters generated by grid search and random search.\n",
    "    It generates the error values.\n",
    "    \n",
    "    Parameters:\n",
    "        model - model from sklearn \n",
    "        parameters - all the alternatives to the hyperparameters\n",
    "        x, y - input and output values\n",
    "    '''\n",
    "    \n",
    "    main_list.append(search_grid(model, parameters, x, y))\n",
    "    main_list.append(search_random(model, parameters, x, y))\n",
    "    intermediar_list.append(['KNN', 'GridSearchCV'])\n",
    "    intermediar_list.append(['KNN', 'RandomizedSearchCV'])"
   ]
  },
  {
   "cell_type": "markdown",
   "metadata": {},
   "source": [
    "### <font color=magenta> Decision Tree Classifier"
   ]
  },
  {
   "cell_type": "code",
   "execution_count": 45,
   "metadata": {},
   "outputs": [],
   "source": [
    "def decision_tree(model, parameters:dict, x:np.ndarray, y:np.ndarray):\n",
    "    \n",
    "    '''decision_tree function get params and do classification \n",
    "    with best parameters generated by grid search and random search.\n",
    "    It generates the error values.\n",
    "    \n",
    "    Parameters:\n",
    "        model - model from sklearn \n",
    "        parameters - all the alternatives to the hyperparameters\n",
    "        x, y - input and output values\n",
    "    '''\n",
    "    \n",
    "    main_list.append(search_grid(model, parameters, x, y))\n",
    "    main_list.append(search_random(model, parameters, x, y))\n",
    "    intermediar_list.append(['Decision tree', 'GridSearchCV'])\n",
    "    intermediar_list.append(['Decision tree', 'RandomizedSearchCV'])"
   ]
  },
  {
   "cell_type": "markdown",
   "metadata": {},
   "source": [
    "### <font color=magenta> Random Forest Classifier"
   ]
  },
  {
   "cell_type": "code",
   "execution_count": 46,
   "metadata": {},
   "outputs": [],
   "source": [
    "def random_forest(model, parameters:dict, x:np.ndarray, y:np.ndarray):\n",
    "    \n",
    "    '''random_forest function get params and do classification \n",
    "    with best parameters generated by grid search and random search.\n",
    "    It generates the error values.\n",
    "    \n",
    "    Parameters:\n",
    "        model - model from sklearn \n",
    "        parameters - all the alternatives to the hyperparameters\n",
    "        x, y - input and output values\n",
    "    '''\n",
    "    \n",
    "    main_list.append(search_grid(model, parameters, x, y))\n",
    "    main_list.append(search_random(model, parameters, x, y))\n",
    "    intermediar_list.append(['Random Forest', 'GridSearchCV'])\n",
    "    intermediar_list.append(['Random Forest', 'RandomizedSearchCV'])"
   ]
  },
  {
   "cell_type": "markdown",
   "metadata": {},
   "source": [
    "### <font color=magenta> Support Vector Classifier"
   ]
  },
  {
   "cell_type": "code",
   "execution_count": 47,
   "metadata": {},
   "outputs": [],
   "source": [
    "def svc(model, parameters:dict, x:np.ndarray, y:np.ndarray):\n",
    "    \n",
    "    '''svc function get params and do classification\n",
    "    with best parameters generated by grid search and random search.\n",
    "    It generates the error values.\n",
    "    \n",
    "    Parameters:\n",
    "        model - model from sklearn \n",
    "        parameters - all the alternatives to the hyperparameters\n",
    "        x, y - input and output values\n",
    "    '''\n",
    "    \n",
    "    main_list.append(search_grid(model, parameters, x, y))\n",
    "    main_list.append(search_random(model, parameters, x, y))\n",
    "    intermediar_list.append(['SVC', 'GridSearchCV'])\n",
    "    intermediar_list.append(['SVC', 'RandomizedSearchCV'])"
   ]
  },
  {
   "cell_type": "markdown",
   "metadata": {},
   "source": [
    "### <font color=magenta> Gaussian process Classifier"
   ]
  },
  {
   "cell_type": "code",
   "execution_count": 48,
   "metadata": {},
   "outputs": [],
   "source": [
    "def gaussian_process(model, parameters:dict, x:np.ndarray, y:np.ndarray):\n",
    "    \n",
    "    '''gaussian_process function get params and do classification\n",
    "    with best parameters generated by grid search and random search.\n",
    "    It generates the error values.\n",
    "    \n",
    "    Parameters:\n",
    "        model - model from sklearn \n",
    "        parameters - all the alternatives to the hyperparameters\n",
    "        x, y - input and output values\n",
    "    '''\n",
    "    \n",
    "    main_list.append(search_grid(model, parameters, x, y))\n",
    "    main_list.append(search_random(model, parameters, x, y))\n",
    "    intermediar_list.append(['Gaussian process', 'GridSearchCV'])\n",
    "    intermediar_list.append(['Gaussian process', 'RandomizedSearchCV'])"
   ]
  },
  {
   "cell_type": "markdown",
   "metadata": {},
   "source": [
    "# Aplicarea modelelor pentru generarea erorilor "
   ]
  },
  {
   "cell_type": "code",
   "execution_count": 49,
   "metadata": {},
   "outputs": [],
   "source": [
    "def start_knn(x:np.ndarray, y:np.ndarray):\n",
    "    \n",
    "    model_knn = KNeighborsClassifier()\n",
    "    parameters_knn = {'n_neighbors': [3, 6, 8, 10], 'p': [2, 3, 4], 'metric': ['euclidean'], 'n_jobs': [-1]}\n",
    "    KNN(model_knn, parameters_knn, x, y)"
   ]
  },
  {
   "cell_type": "code",
   "execution_count": 50,
   "metadata": {},
   "outputs": [],
   "source": [
    "def start_decision_tree(x:np.ndarray, y:np.ndarray):\n",
    "    \n",
    "    model_decision_tree = DecisionTreeClassifier()\n",
    "    parameters_decision_tree = {'max_leaf_nodes':[5, 10, 20], 'max_depth': [3, 4, 5, 6, 7]}\n",
    "    decision_tree(model_decision_tree, parameters_decision_tree, x, y)"
   ]
  },
  {
   "cell_type": "code",
   "execution_count": 51,
   "metadata": {},
   "outputs": [],
   "source": [
    "def start_random_forest(x:np.ndarray, y:np.ndarray):\n",
    "    \n",
    "    model_random_forest = RandomForestClassifier()\n",
    "    parameters_random_forest = {'max_leaf_nodes':[5, 15, 20], 'n_estimators': [80, 100, 120],\n",
    "                                'max_depth': [3, 5, 6], 'n_jobs': [-1]}\n",
    "    random_forest(model_random_forest, parameters_random_forest, x, y)"
   ]
  },
  {
   "cell_type": "code",
   "execution_count": 52,
   "metadata": {},
   "outputs": [],
   "source": [
    "def start_svc(x:np.ndarray, y:np.ndarray):\n",
    "    \n",
    "    model_svc = SVC()\n",
    "    parameters_svc = {'kernel': ['linear', 'rbf'], 'gamma': [0.1, 1], 'C': [0.1, 1, 10]}\n",
    "    svc(model_svc, parameters_svc, x, y)"
   ]
  },
  {
   "cell_type": "code",
   "execution_count": 53,
   "metadata": {},
   "outputs": [],
   "source": [
    "def start_gaussian_process(x:np.ndarray, y:np.ndarray):\n",
    "    \n",
    "    model_gaussian_process = GaussianProcessClassifier()\n",
    "    parameters_gaussian_process = {'n_restarts_optimizer': [1, 5, 7, 13],\n",
    "                                   'max_iter_predict': [100, 150, 200], 'n_jobs': [-1]}\n",
    "    gaussian_process(model_gaussian_process, parameters_gaussian_process, x, y)"
   ]
  },
  {
   "cell_type": "code",
   "execution_count": 54,
   "metadata": {},
   "outputs": [],
   "source": [
    "names:list = ['train_accuracy', 'test_accuracy',\n",
    "              'train_f1_weighted', 'test_f1_weighted']\n",
    "    \n",
    "main_list:list = []\n",
    "intermediar_list:list = []"
   ]
  },
  {
   "cell_type": "code",
   "execution_count": 55,
   "metadata": {},
   "outputs": [],
   "source": [
    "def start(x:np.ndarray, y:np.ndarray, name:str):\n",
    "    \n",
    "    main_list.clear()\n",
    "    intermediar_list.clear()\n",
    "    \n",
    "    start_knn(x, y)\n",
    "    print ('KNN finished')\n",
    "    start_decision_tree(x, y)\n",
    "    print ('decision tree finished')\n",
    "    start_random_forest(x, y)\n",
    "    print ('random forest finished')\n",
    "    start_svc(x, y)\n",
    "    print ('svc finished')\n",
    "    start_gaussian_process(x, y)\n",
    "    print ('gaussian finished')\n",
    "    \n",
    "    data_frame = pd.DataFrame(main_list, columns = names)\n",
    "    intermediar_data_frame = pd.DataFrame(intermediar_list, columns = ['model_name', 'search_strategy'])\n",
    "    intermediar_data_frame.style\n",
    "\n",
    "    result_data_frame = pd.concat([intermediar_data_frame, data_frame], axis = 1)\n",
    "    result_data_frame.style.apply(highlight_max, \n",
    "                               subset = pd.IndexSlice[:, names]).apply(highlight_min, \n",
    "                                                                       subset = pd.IndexSlice[:, names])\n",
    "    \n",
    "    result = pd.DataFrame(result_data_frame, columns=['model_name', 'search_strategy']+names)\n",
    "    result = result.style.apply(highlight_max, subset= pd.IndexSlice[:, names]).apply(highlight_min,\n",
    "                                                                                              subset= pd.IndexSlice[:, names])\n",
    "    \n",
    "    f=open(f\"{name}.html\",\"w\")\n",
    "    f.write(result.render())\n",
    "    f.close()"
   ]
  },
  {
   "cell_type": "markdown",
   "metadata": {},
   "source": [
    "### <font color=\"blue\"> Pentru al doilea set de date"
   ]
  },
  {
   "cell_type": "code",
   "execution_count": 56,
   "metadata": {},
   "outputs": [
    {
     "name": "stdout",
     "output_type": "stream",
     "text": [
      "KNN finished\n",
      "decision tree finished\n",
      "random forest finished\n",
      "svc finished\n",
      "gaussian finished\n"
     ]
    }
   ],
   "source": [
    "start(X_sentiment.to_numpy(), Y_sentiment.to_numpy(), 'Sentiment')"
   ]
  },
  {
   "cell_type": "markdown",
   "metadata": {},
   "source": [
    "### <font color=\"blue\"> Pentru primul set de date"
   ]
  },
  {
   "cell_type": "code",
   "execution_count": 57,
   "metadata": {},
   "outputs": [
    {
     "name": "stdout",
     "output_type": "stream",
     "text": [
      "KNN finished\n",
      "decision tree finished\n",
      "random forest finished\n",
      "svc finished\n",
      "gaussian finished\n"
     ]
    }
   ],
   "source": [
    "start(X_sms.to_numpy(), Y_sms.to_numpy(), 'SMS')"
   ]
  },
  {
   "cell_type": "markdown",
   "metadata": {},
   "source": [
    "# Documentatia seturilor de date"
   ]
  },
  {
   "cell_type": "markdown",
   "metadata": {},
   "source": [
    "### <font color=\"blue\"> Pentru primul set de date"
   ]
  },
  {
   "cell_type": "markdown",
   "metadata": {},
   "source": [
    "\n",
    "Colecția Spam SMS este un set public de mesaje etichetate prin SMS care au fost colectate pentru cercetarea spam-ului pe telefonul mobil.\n",
    "<br>Scopul acestui set de date este de a afla daca un text este sau nu spam.\n",
    "<br>Informatiile data-setului au fost preluate de la surse de cercetare gratuite, printre care se enumera urmatoarele:\n",
    "<br>[1] GOmez Hidalgo, J.M., Cajigas Bringas, G., Puertas Sanz, E., Carrero GarcÃa, F. Content Based SMS Spam Filtering.\n",
    "   <br> Proceedings of the 2006 ACM Symposium on Document Engineering (ACM DOCENG'06),\n",
    "   <br> Amsterdam, The Netherlands, 10-13,2006. \n",
    "<br>[2] Cormack, G. V., GOmez Hidalgo, J. M., and Puertas SÃ¡nz, E. Feature engineering for mobile (SMS) spam filtering.\n",
    "   <br> Proceedings of the 30th Annual international ACM Conference on Research and Development in information Retrieval\n",
    "    <br>(ACM SIGIR'07), New York, NY, 871-872, 2007. \n",
    "<br>[3] Cormack, G. V., GOmez Hidalgo, J. M., and Puertas SÃ¡nz, E. Spam filtering for short messages. \n",
    "   <br> Proceedings of the 16th ACM Conference on Information and Knowledge Management (ACM CIKM'07).\n",
    "    <br>Lisbon, Portugal, 313-320, 2007.\n",
    "<br>Setul contine categoria mesajelor pe prima coloana(spam, ham) pe care noi le-am convertit astfel: 1 daca este spam si 0 daca este ham, \n",
    "dupa care e acompaniat de un text care reprezinta e-mailul.\n"
   ]
  },
  {
   "cell_type": "markdown",
   "metadata": {},
   "source": [
    "### <font color=\"blue\"> Pentru al doilea set de date"
   ]
  },
  {
   "cell_type": "markdown",
   "metadata": {},
   "source": [
    "\n",
    "<br>Informatiile de la acest set de date sunt preluate de la 'From Group to Individual Labels using Deep Features', \n",
    "Kotzias et. al,. KDD 2015.\n",
    "<br>Setul de date contine o recenzie facuta la un film, produs etc si un scor pozitiv sau negativ, \n",
    "care arata sentimentul pozitiv sau negativ al textului, atasat fiecaruia.\n",
    "<br>Scorul este 1 (pentru pozitiv) sau 0 (pentru negativ).\n",
    "<br>Problema setului de date este de a afla daca un text are o recenzie buna sau proasta. (\"sentimentul utilizatorului\")\n",
    "<br>Propozițiile provin de la trei site-uri / câmpuri diferite: imdb.com, amazon.com, yelp.com.\n",
    "Pentru fiecare site web, există 500 de propoziții pozitive și 500 negative."
   ]
  }
 ],
 "metadata": {
  "kernelspec": {
   "display_name": "Python 3",
   "language": "python",
   "name": "python3"
  },
  "language_info": {
   "codemirror_mode": {
    "name": "ipython",
    "version": 3
   },
   "file_extension": ".py",
   "mimetype": "text/x-python",
   "name": "python",
   "nbconvert_exporter": "python",
   "pygments_lexer": "ipython3",
   "version": "3.7.6"
  },
  "toc": {
   "base_numbering": 1,
   "nav_menu": {},
   "number_sections": true,
   "sideBar": true,
   "skip_h1_title": false,
   "title_cell": "Table of Contents",
   "title_sidebar": "Contents",
   "toc_cell": false,
   "toc_position": {},
   "toc_section_display": true,
   "toc_window_display": false
  },
  "varInspector": {
   "cols": {
    "lenName": 16,
    "lenType": 16,
    "lenVar": 40
   },
   "kernels_config": {
    "python": {
     "delete_cmd_postfix": "",
     "delete_cmd_prefix": "del ",
     "library": "var_list.py",
     "varRefreshCmd": "print(var_dic_list())"
    },
    "r": {
     "delete_cmd_postfix": ") ",
     "delete_cmd_prefix": "rm(",
     "library": "var_list.r",
     "varRefreshCmd": "cat(var_dic_list()) "
    }
   },
   "types_to_exclude": [
    "module",
    "function",
    "builtin_function_or_method",
    "instance",
    "_Feature"
   ],
   "window_display": false
  }
 },
 "nbformat": 4,
 "nbformat_minor": 2
}
